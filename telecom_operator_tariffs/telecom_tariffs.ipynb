{
 "cells": [
  {
   "cell_type": "markdown",
   "metadata": {},
   "source": [
    "**Оглавление:**\n",
    "1. [Изучение данных из файлов](#step1)  \n",
    "2. [Предобработка данных](#step2) \n",
    "3. [Подготовка пользовательских данных](#step3)\n",
    "4. [Расчёты по пользователю](#step4)\n",
    "5. [Анализ данных](#step5)\n",
    "6. [Проверка гипотез](#step6)\n",
    "7. [Общий вывод](#step7)"
   ]
  },
  {
   "cell_type": "markdown",
   "metadata": {},
   "source": [
    "<a id=\"step1\"></a>\n",
    "## Изучение данных из файлов"
   ]
  },
  {
   "cell_type": "markdown",
   "metadata": {},
   "source": [
    "Обновим версию библиотеки Seaborn:"
   ]
  },
  {
   "cell_type": "code",
   "execution_count": 1,
   "metadata": {},
   "outputs": [
    {
     "name": "stdout",
     "output_type": "stream",
     "text": [
      "Requirement already satisfied: seaborn in c:\\users\\admin\\anaconda3\\lib\\site-packages (0.11.2)\n",
      "Requirement already satisfied: numpy>=1.15 in c:\\users\\admin\\anaconda3\\lib\\site-packages (from seaborn) (1.20.3)\n",
      "Requirement already satisfied: matplotlib>=2.2 in c:\\users\\admin\\anaconda3\\lib\\site-packages (from seaborn) (3.4.3)\n",
      "Requirement already satisfied: pandas>=0.23 in c:\\users\\admin\\anaconda3\\lib\\site-packages (from seaborn) (1.3.4)\n",
      "Requirement already satisfied: scipy>=1.0 in c:\\users\\admin\\anaconda3\\lib\\site-packages (from seaborn) (1.7.1)\n",
      "Requirement already satisfied: pyparsing>=2.2.1 in c:\\users\\admin\\anaconda3\\lib\\site-packages (from matplotlib>=2.2->seaborn) (3.0.4)\n",
      "Requirement already satisfied: cycler>=0.10 in c:\\users\\admin\\anaconda3\\lib\\site-packages (from matplotlib>=2.2->seaborn) (0.10.0)\n",
      "Requirement already satisfied: kiwisolver>=1.0.1 in c:\\users\\admin\\anaconda3\\lib\\site-packages (from matplotlib>=2.2->seaborn) (1.3.1)\n",
      "Requirement already satisfied: python-dateutil>=2.7 in c:\\users\\admin\\anaconda3\\lib\\site-packages (from matplotlib>=2.2->seaborn) (2.8.2)\n",
      "Requirement already satisfied: pillow>=6.2.0 in c:\\users\\admin\\anaconda3\\lib\\site-packages (from matplotlib>=2.2->seaborn) (8.4.0)\n",
      "Requirement already satisfied: six in c:\\users\\admin\\anaconda3\\lib\\site-packages (from cycler>=0.10->matplotlib>=2.2->seaborn) (1.16.0)\n",
      "Requirement already satisfied: pytz>=2017.3 in c:\\users\\admin\\anaconda3\\lib\\site-packages (from pandas>=0.23->seaborn) (2021.3)\n"
     ]
    }
   ],
   "source": [
    "!pip install -U seaborn"
   ]
  },
  {
   "cell_type": "markdown",
   "metadata": {},
   "source": [
    "Имортируем необходимые библиотеки:"
   ]
  },
  {
   "cell_type": "code",
   "execution_count": 2,
   "metadata": {},
   "outputs": [],
   "source": [
    "import pandas as pd\n",
    "import seaborn as sns\n",
    "import matplotlib.pyplot as plt\n",
    "import numpy as np\n",
    "from scipy import stats as st"
   ]
  },
  {
   "cell_type": "markdown",
   "metadata": {},
   "source": [
    "Прочитаем файлы с данными:"
   ]
  },
  {
   "cell_type": "code",
   "execution_count": 3,
   "metadata": {
    "scrolled": true
   },
   "outputs": [],
   "source": [
    "calls = pd.read_csv('calls.csv')\n",
    "internet = pd.read_csv('internet.csv')\n",
    "sms= pd.read_csv('messages.csv')\n",
    "tariffs = pd.read_csv('tariffs.csv')\n",
    "users = pd.read_csv('users.csv')"
   ]
  },
  {
   "cell_type": "markdown",
   "metadata": {},
   "source": [
    "Рассмотрим по отдельности каждую таблицу. Напишем функцию для вывода инфромации о таблице и первых её 10 строк:"
   ]
  },
  {
   "cell_type": "code",
   "execution_count": 4,
   "metadata": {},
   "outputs": [],
   "source": [
    "def description(df):\n",
    "    display(df.head(10), df.info())"
   ]
  },
  {
   "cell_type": "markdown",
   "metadata": {},
   "source": [
    "### Таблица calls (информация о звонках)"
   ]
  },
  {
   "cell_type": "markdown",
   "metadata": {},
   "source": [
    "Рассмотрим общую информацию о таблице `calls` и её первые 10 строк: "
   ]
  },
  {
   "cell_type": "code",
   "execution_count": 5,
   "metadata": {},
   "outputs": [
    {
     "name": "stdout",
     "output_type": "stream",
     "text": [
      "<class 'pandas.core.frame.DataFrame'>\n",
      "RangeIndex: 202607 entries, 0 to 202606\n",
      "Data columns (total 4 columns):\n",
      " #   Column     Non-Null Count   Dtype  \n",
      "---  ------     --------------   -----  \n",
      " 0   id         202607 non-null  object \n",
      " 1   call_date  202607 non-null  object \n",
      " 2   duration   202607 non-null  float64\n",
      " 3   user_id    202607 non-null  int64  \n",
      "dtypes: float64(1), int64(1), object(2)\n",
      "memory usage: 6.2+ MB\n"
     ]
    },
    {
     "data": {
      "text/html": [
       "<div>\n",
       "<style scoped>\n",
       "    .dataframe tbody tr th:only-of-type {\n",
       "        vertical-align: middle;\n",
       "    }\n",
       "\n",
       "    .dataframe tbody tr th {\n",
       "        vertical-align: top;\n",
       "    }\n",
       "\n",
       "    .dataframe thead th {\n",
       "        text-align: right;\n",
       "    }\n",
       "</style>\n",
       "<table border=\"1\" class=\"dataframe\">\n",
       "  <thead>\n",
       "    <tr style=\"text-align: right;\">\n",
       "      <th></th>\n",
       "      <th>id</th>\n",
       "      <th>call_date</th>\n",
       "      <th>duration</th>\n",
       "      <th>user_id</th>\n",
       "    </tr>\n",
       "  </thead>\n",
       "  <tbody>\n",
       "    <tr>\n",
       "      <th>0</th>\n",
       "      <td>1000_0</td>\n",
       "      <td>2018-07-25</td>\n",
       "      <td>0.00</td>\n",
       "      <td>1000</td>\n",
       "    </tr>\n",
       "    <tr>\n",
       "      <th>1</th>\n",
       "      <td>1000_1</td>\n",
       "      <td>2018-08-17</td>\n",
       "      <td>0.00</td>\n",
       "      <td>1000</td>\n",
       "    </tr>\n",
       "    <tr>\n",
       "      <th>2</th>\n",
       "      <td>1000_2</td>\n",
       "      <td>2018-06-11</td>\n",
       "      <td>2.85</td>\n",
       "      <td>1000</td>\n",
       "    </tr>\n",
       "    <tr>\n",
       "      <th>3</th>\n",
       "      <td>1000_3</td>\n",
       "      <td>2018-09-21</td>\n",
       "      <td>13.80</td>\n",
       "      <td>1000</td>\n",
       "    </tr>\n",
       "    <tr>\n",
       "      <th>4</th>\n",
       "      <td>1000_4</td>\n",
       "      <td>2018-12-15</td>\n",
       "      <td>5.18</td>\n",
       "      <td>1000</td>\n",
       "    </tr>\n",
       "    <tr>\n",
       "      <th>5</th>\n",
       "      <td>1000_5</td>\n",
       "      <td>2018-11-02</td>\n",
       "      <td>0.00</td>\n",
       "      <td>1000</td>\n",
       "    </tr>\n",
       "    <tr>\n",
       "      <th>6</th>\n",
       "      <td>1000_6</td>\n",
       "      <td>2018-10-18</td>\n",
       "      <td>0.00</td>\n",
       "      <td>1000</td>\n",
       "    </tr>\n",
       "    <tr>\n",
       "      <th>7</th>\n",
       "      <td>1000_7</td>\n",
       "      <td>2018-08-22</td>\n",
       "      <td>18.31</td>\n",
       "      <td>1000</td>\n",
       "    </tr>\n",
       "    <tr>\n",
       "      <th>8</th>\n",
       "      <td>1000_8</td>\n",
       "      <td>2018-09-15</td>\n",
       "      <td>18.44</td>\n",
       "      <td>1000</td>\n",
       "    </tr>\n",
       "    <tr>\n",
       "      <th>9</th>\n",
       "      <td>1000_9</td>\n",
       "      <td>2018-08-15</td>\n",
       "      <td>0.00</td>\n",
       "      <td>1000</td>\n",
       "    </tr>\n",
       "  </tbody>\n",
       "</table>\n",
       "</div>"
      ],
      "text/plain": [
       "       id   call_date  duration  user_id\n",
       "0  1000_0  2018-07-25      0.00     1000\n",
       "1  1000_1  2018-08-17      0.00     1000\n",
       "2  1000_2  2018-06-11      2.85     1000\n",
       "3  1000_3  2018-09-21     13.80     1000\n",
       "4  1000_4  2018-12-15      5.18     1000\n",
       "5  1000_5  2018-11-02      0.00     1000\n",
       "6  1000_6  2018-10-18      0.00     1000\n",
       "7  1000_7  2018-08-22     18.31     1000\n",
       "8  1000_8  2018-09-15     18.44     1000\n",
       "9  1000_9  2018-08-15      0.00     1000"
      ]
     },
     "metadata": {},
     "output_type": "display_data"
    },
    {
     "data": {
      "text/plain": [
       "None"
      ]
     },
     "metadata": {},
     "output_type": "display_data"
    }
   ],
   "source": [
    "description(calls)"
   ]
  },
  {
   "cell_type": "markdown",
   "metadata": {},
   "source": [
    "Таблица состоит из 202607 строк и 4 столбцов.\n",
    "\n",
    "Видим, что в таблице отсутствуют пропущенные значения. В таблице имеются столбцы типа int, float, object. Столбец `call_date` имеет тип object, для дальнейшего исследование необходимо будет изменить формат на datetime.\n",
    "\n",
    "Рассмотрим подробней столбцы с числовыми данными:"
   ]
  },
  {
   "cell_type": "code",
   "execution_count": 6,
   "metadata": {},
   "outputs": [
    {
     "data": {
      "text/html": [
       "<div>\n",
       "<style scoped>\n",
       "    .dataframe tbody tr th:only-of-type {\n",
       "        vertical-align: middle;\n",
       "    }\n",
       "\n",
       "    .dataframe tbody tr th {\n",
       "        vertical-align: top;\n",
       "    }\n",
       "\n",
       "    .dataframe thead th {\n",
       "        text-align: right;\n",
       "    }\n",
       "</style>\n",
       "<table border=\"1\" class=\"dataframe\">\n",
       "  <thead>\n",
       "    <tr style=\"text-align: right;\">\n",
       "      <th></th>\n",
       "      <th>duration</th>\n",
       "      <th>user_id</th>\n",
       "    </tr>\n",
       "  </thead>\n",
       "  <tbody>\n",
       "    <tr>\n",
       "      <th>count</th>\n",
       "      <td>202607.000000</td>\n",
       "      <td>202607.000000</td>\n",
       "    </tr>\n",
       "    <tr>\n",
       "      <th>mean</th>\n",
       "      <td>6.755887</td>\n",
       "      <td>1253.940619</td>\n",
       "    </tr>\n",
       "    <tr>\n",
       "      <th>std</th>\n",
       "      <td>5.843365</td>\n",
       "      <td>144.722751</td>\n",
       "    </tr>\n",
       "    <tr>\n",
       "      <th>min</th>\n",
       "      <td>0.000000</td>\n",
       "      <td>1000.000000</td>\n",
       "    </tr>\n",
       "    <tr>\n",
       "      <th>25%</th>\n",
       "      <td>1.300000</td>\n",
       "      <td>1126.000000</td>\n",
       "    </tr>\n",
       "    <tr>\n",
       "      <th>50%</th>\n",
       "      <td>6.000000</td>\n",
       "      <td>1260.000000</td>\n",
       "    </tr>\n",
       "    <tr>\n",
       "      <th>75%</th>\n",
       "      <td>10.700000</td>\n",
       "      <td>1379.000000</td>\n",
       "    </tr>\n",
       "    <tr>\n",
       "      <th>max</th>\n",
       "      <td>38.000000</td>\n",
       "      <td>1499.000000</td>\n",
       "    </tr>\n",
       "  </tbody>\n",
       "</table>\n",
       "</div>"
      ],
      "text/plain": [
       "            duration        user_id\n",
       "count  202607.000000  202607.000000\n",
       "mean        6.755887    1253.940619\n",
       "std         5.843365     144.722751\n",
       "min         0.000000    1000.000000\n",
       "25%         1.300000    1126.000000\n",
       "50%         6.000000    1260.000000\n",
       "75%        10.700000    1379.000000\n",
       "max        38.000000    1499.000000"
      ]
     },
     "execution_count": 6,
     "metadata": {},
     "output_type": "execute_result"
    }
   ],
   "source": [
    "calls.describe() "
   ]
  },
  {
   "cell_type": "markdown",
   "metadata": {},
   "source": [
    "Видим, что в столбце `duration` минимальная продолжительность звонка - 0 минут. Вероятнее всего, таким образом обозначены пропущенные вызовы, т.е. удалять эти значения не стоит."
   ]
  },
  {
   "cell_type": "markdown",
   "metadata": {},
   "source": [
    "### Таблица internet (информация об интернет-сессиях)"
   ]
  },
  {
   "cell_type": "markdown",
   "metadata": {},
   "source": [
    "Рассмотрим общую информацю о таблице `internet` и её первые 10 строк: "
   ]
  },
  {
   "cell_type": "code",
   "execution_count": 7,
   "metadata": {},
   "outputs": [
    {
     "name": "stdout",
     "output_type": "stream",
     "text": [
      "<class 'pandas.core.frame.DataFrame'>\n",
      "RangeIndex: 149396 entries, 0 to 149395\n",
      "Data columns (total 5 columns):\n",
      " #   Column        Non-Null Count   Dtype  \n",
      "---  ------        --------------   -----  \n",
      " 0   Unnamed: 0    149396 non-null  int64  \n",
      " 1   id            149396 non-null  object \n",
      " 2   mb_used       149396 non-null  float64\n",
      " 3   session_date  149396 non-null  object \n",
      " 4   user_id       149396 non-null  int64  \n",
      "dtypes: float64(1), int64(2), object(2)\n",
      "memory usage: 5.7+ MB\n"
     ]
    },
    {
     "data": {
      "text/html": [
       "<div>\n",
       "<style scoped>\n",
       "    .dataframe tbody tr th:only-of-type {\n",
       "        vertical-align: middle;\n",
       "    }\n",
       "\n",
       "    .dataframe tbody tr th {\n",
       "        vertical-align: top;\n",
       "    }\n",
       "\n",
       "    .dataframe thead th {\n",
       "        text-align: right;\n",
       "    }\n",
       "</style>\n",
       "<table border=\"1\" class=\"dataframe\">\n",
       "  <thead>\n",
       "    <tr style=\"text-align: right;\">\n",
       "      <th></th>\n",
       "      <th>Unnamed: 0</th>\n",
       "      <th>id</th>\n",
       "      <th>mb_used</th>\n",
       "      <th>session_date</th>\n",
       "      <th>user_id</th>\n",
       "    </tr>\n",
       "  </thead>\n",
       "  <tbody>\n",
       "    <tr>\n",
       "      <th>0</th>\n",
       "      <td>0</td>\n",
       "      <td>1000_0</td>\n",
       "      <td>112.95</td>\n",
       "      <td>2018-11-25</td>\n",
       "      <td>1000</td>\n",
       "    </tr>\n",
       "    <tr>\n",
       "      <th>1</th>\n",
       "      <td>1</td>\n",
       "      <td>1000_1</td>\n",
       "      <td>1052.81</td>\n",
       "      <td>2018-09-07</td>\n",
       "      <td>1000</td>\n",
       "    </tr>\n",
       "    <tr>\n",
       "      <th>2</th>\n",
       "      <td>2</td>\n",
       "      <td>1000_2</td>\n",
       "      <td>1197.26</td>\n",
       "      <td>2018-06-25</td>\n",
       "      <td>1000</td>\n",
       "    </tr>\n",
       "    <tr>\n",
       "      <th>3</th>\n",
       "      <td>3</td>\n",
       "      <td>1000_3</td>\n",
       "      <td>550.27</td>\n",
       "      <td>2018-08-22</td>\n",
       "      <td>1000</td>\n",
       "    </tr>\n",
       "    <tr>\n",
       "      <th>4</th>\n",
       "      <td>4</td>\n",
       "      <td>1000_4</td>\n",
       "      <td>302.56</td>\n",
       "      <td>2018-09-24</td>\n",
       "      <td>1000</td>\n",
       "    </tr>\n",
       "    <tr>\n",
       "      <th>5</th>\n",
       "      <td>5</td>\n",
       "      <td>1000_5</td>\n",
       "      <td>399.97</td>\n",
       "      <td>2018-10-02</td>\n",
       "      <td>1000</td>\n",
       "    </tr>\n",
       "    <tr>\n",
       "      <th>6</th>\n",
       "      <td>6</td>\n",
       "      <td>1000_6</td>\n",
       "      <td>540.08</td>\n",
       "      <td>2018-09-07</td>\n",
       "      <td>1000</td>\n",
       "    </tr>\n",
       "    <tr>\n",
       "      <th>7</th>\n",
       "      <td>7</td>\n",
       "      <td>1000_7</td>\n",
       "      <td>415.70</td>\n",
       "      <td>2018-07-11</td>\n",
       "      <td>1000</td>\n",
       "    </tr>\n",
       "    <tr>\n",
       "      <th>8</th>\n",
       "      <td>8</td>\n",
       "      <td>1000_8</td>\n",
       "      <td>505.40</td>\n",
       "      <td>2018-10-08</td>\n",
       "      <td>1000</td>\n",
       "    </tr>\n",
       "    <tr>\n",
       "      <th>9</th>\n",
       "      <td>9</td>\n",
       "      <td>1000_9</td>\n",
       "      <td>345.54</td>\n",
       "      <td>2018-09-03</td>\n",
       "      <td>1000</td>\n",
       "    </tr>\n",
       "  </tbody>\n",
       "</table>\n",
       "</div>"
      ],
      "text/plain": [
       "   Unnamed: 0      id  mb_used session_date  user_id\n",
       "0           0  1000_0   112.95   2018-11-25     1000\n",
       "1           1  1000_1  1052.81   2018-09-07     1000\n",
       "2           2  1000_2  1197.26   2018-06-25     1000\n",
       "3           3  1000_3   550.27   2018-08-22     1000\n",
       "4           4  1000_4   302.56   2018-09-24     1000\n",
       "5           5  1000_5   399.97   2018-10-02     1000\n",
       "6           6  1000_6   540.08   2018-09-07     1000\n",
       "7           7  1000_7   415.70   2018-07-11     1000\n",
       "8           8  1000_8   505.40   2018-10-08     1000\n",
       "9           9  1000_9   345.54   2018-09-03     1000"
      ]
     },
     "metadata": {},
     "output_type": "display_data"
    },
    {
     "data": {
      "text/plain": [
       "None"
      ]
     },
     "metadata": {},
     "output_type": "display_data"
    }
   ],
   "source": [
    "description(internet)"
   ]
  },
  {
   "cell_type": "markdown",
   "metadata": {},
   "source": [
    "Таблица состоит из 149396 строк и 5 столбцов.\n",
    "\n",
    "Видим, что в таблице отсутствуют пропущенные значения. В таблице имеются столбцы типа int, float, object. Столбец `session_date` имеет тип object, для дальнейшего исследование необходимо будет изменить формат на datetime.\n",
    "\n",
    "Столбец `Unnamed: 0` дублирует столбец с индексами и не несет никакой информации. В дальнейшем можем от него избавиться. \n",
    "\n",
    "Рассмотрим подробней столбцы с числовыми данными:"
   ]
  },
  {
   "cell_type": "code",
   "execution_count": 8,
   "metadata": {},
   "outputs": [
    {
     "data": {
      "text/html": [
       "<div>\n",
       "<style scoped>\n",
       "    .dataframe tbody tr th:only-of-type {\n",
       "        vertical-align: middle;\n",
       "    }\n",
       "\n",
       "    .dataframe tbody tr th {\n",
       "        vertical-align: top;\n",
       "    }\n",
       "\n",
       "    .dataframe thead th {\n",
       "        text-align: right;\n",
       "    }\n",
       "</style>\n",
       "<table border=\"1\" class=\"dataframe\">\n",
       "  <thead>\n",
       "    <tr style=\"text-align: right;\">\n",
       "      <th></th>\n",
       "      <th>Unnamed: 0</th>\n",
       "      <th>mb_used</th>\n",
       "      <th>user_id</th>\n",
       "    </tr>\n",
       "  </thead>\n",
       "  <tbody>\n",
       "    <tr>\n",
       "      <th>count</th>\n",
       "      <td>149396.000000</td>\n",
       "      <td>149396.000000</td>\n",
       "      <td>149396.000000</td>\n",
       "    </tr>\n",
       "    <tr>\n",
       "      <th>mean</th>\n",
       "      <td>74697.500000</td>\n",
       "      <td>370.192426</td>\n",
       "      <td>1252.099842</td>\n",
       "    </tr>\n",
       "    <tr>\n",
       "      <th>std</th>\n",
       "      <td>43127.054745</td>\n",
       "      <td>278.300951</td>\n",
       "      <td>144.050823</td>\n",
       "    </tr>\n",
       "    <tr>\n",
       "      <th>min</th>\n",
       "      <td>0.000000</td>\n",
       "      <td>0.000000</td>\n",
       "      <td>1000.000000</td>\n",
       "    </tr>\n",
       "    <tr>\n",
       "      <th>25%</th>\n",
       "      <td>37348.750000</td>\n",
       "      <td>138.187500</td>\n",
       "      <td>1130.000000</td>\n",
       "    </tr>\n",
       "    <tr>\n",
       "      <th>50%</th>\n",
       "      <td>74697.500000</td>\n",
       "      <td>348.015000</td>\n",
       "      <td>1251.000000</td>\n",
       "    </tr>\n",
       "    <tr>\n",
       "      <th>75%</th>\n",
       "      <td>112046.250000</td>\n",
       "      <td>559.552500</td>\n",
       "      <td>1380.000000</td>\n",
       "    </tr>\n",
       "    <tr>\n",
       "      <th>max</th>\n",
       "      <td>149395.000000</td>\n",
       "      <td>1724.830000</td>\n",
       "      <td>1499.000000</td>\n",
       "    </tr>\n",
       "  </tbody>\n",
       "</table>\n",
       "</div>"
      ],
      "text/plain": [
       "          Unnamed: 0        mb_used        user_id\n",
       "count  149396.000000  149396.000000  149396.000000\n",
       "mean    74697.500000     370.192426    1252.099842\n",
       "std     43127.054745     278.300951     144.050823\n",
       "min         0.000000       0.000000    1000.000000\n",
       "25%     37348.750000     138.187500    1130.000000\n",
       "50%     74697.500000     348.015000    1251.000000\n",
       "75%    112046.250000     559.552500    1380.000000\n",
       "max    149395.000000    1724.830000    1499.000000"
      ]
     },
     "execution_count": 8,
     "metadata": {},
     "output_type": "execute_result"
    }
   ],
   "source": [
    "internet.describe()"
   ]
  },
  {
   "cell_type": "markdown",
   "metadata": {},
   "source": [
    "Видим, что в столбце `mb_used` минимальное количество трафика - 0 Мб. Возможно, таким образом обозначены пропуски, которые необходимо будет обработать в дальнейшнем."
   ]
  },
  {
   "cell_type": "markdown",
   "metadata": {},
   "source": [
    "### Таблица  messages (информация о сообщениях)"
   ]
  },
  {
   "cell_type": "markdown",
   "metadata": {},
   "source": [
    "Рассмотрим общую информацию о таблице `messages` и её первые 10 строк: "
   ]
  },
  {
   "cell_type": "code",
   "execution_count": 9,
   "metadata": {},
   "outputs": [
    {
     "name": "stdout",
     "output_type": "stream",
     "text": [
      "<class 'pandas.core.frame.DataFrame'>\n",
      "RangeIndex: 123036 entries, 0 to 123035\n",
      "Data columns (total 3 columns):\n",
      " #   Column        Non-Null Count   Dtype \n",
      "---  ------        --------------   ----- \n",
      " 0   id            123036 non-null  object\n",
      " 1   message_date  123036 non-null  object\n",
      " 2   user_id       123036 non-null  int64 \n",
      "dtypes: int64(1), object(2)\n",
      "memory usage: 2.8+ MB\n"
     ]
    },
    {
     "data": {
      "text/html": [
       "<div>\n",
       "<style scoped>\n",
       "    .dataframe tbody tr th:only-of-type {\n",
       "        vertical-align: middle;\n",
       "    }\n",
       "\n",
       "    .dataframe tbody tr th {\n",
       "        vertical-align: top;\n",
       "    }\n",
       "\n",
       "    .dataframe thead th {\n",
       "        text-align: right;\n",
       "    }\n",
       "</style>\n",
       "<table border=\"1\" class=\"dataframe\">\n",
       "  <thead>\n",
       "    <tr style=\"text-align: right;\">\n",
       "      <th></th>\n",
       "      <th>id</th>\n",
       "      <th>message_date</th>\n",
       "      <th>user_id</th>\n",
       "    </tr>\n",
       "  </thead>\n",
       "  <tbody>\n",
       "    <tr>\n",
       "      <th>0</th>\n",
       "      <td>1000_0</td>\n",
       "      <td>2018-06-27</td>\n",
       "      <td>1000</td>\n",
       "    </tr>\n",
       "    <tr>\n",
       "      <th>1</th>\n",
       "      <td>1000_1</td>\n",
       "      <td>2018-10-08</td>\n",
       "      <td>1000</td>\n",
       "    </tr>\n",
       "    <tr>\n",
       "      <th>2</th>\n",
       "      <td>1000_2</td>\n",
       "      <td>2018-08-04</td>\n",
       "      <td>1000</td>\n",
       "    </tr>\n",
       "    <tr>\n",
       "      <th>3</th>\n",
       "      <td>1000_3</td>\n",
       "      <td>2018-06-16</td>\n",
       "      <td>1000</td>\n",
       "    </tr>\n",
       "    <tr>\n",
       "      <th>4</th>\n",
       "      <td>1000_4</td>\n",
       "      <td>2018-12-05</td>\n",
       "      <td>1000</td>\n",
       "    </tr>\n",
       "    <tr>\n",
       "      <th>5</th>\n",
       "      <td>1000_5</td>\n",
       "      <td>2018-06-20</td>\n",
       "      <td>1000</td>\n",
       "    </tr>\n",
       "    <tr>\n",
       "      <th>6</th>\n",
       "      <td>1000_6</td>\n",
       "      <td>2018-11-19</td>\n",
       "      <td>1000</td>\n",
       "    </tr>\n",
       "    <tr>\n",
       "      <th>7</th>\n",
       "      <td>1000_7</td>\n",
       "      <td>2018-10-29</td>\n",
       "      <td>1000</td>\n",
       "    </tr>\n",
       "    <tr>\n",
       "      <th>8</th>\n",
       "      <td>1000_8</td>\n",
       "      <td>2018-06-25</td>\n",
       "      <td>1000</td>\n",
       "    </tr>\n",
       "    <tr>\n",
       "      <th>9</th>\n",
       "      <td>1000_9</td>\n",
       "      <td>2018-12-18</td>\n",
       "      <td>1000</td>\n",
       "    </tr>\n",
       "  </tbody>\n",
       "</table>\n",
       "</div>"
      ],
      "text/plain": [
       "       id message_date  user_id\n",
       "0  1000_0   2018-06-27     1000\n",
       "1  1000_1   2018-10-08     1000\n",
       "2  1000_2   2018-08-04     1000\n",
       "3  1000_3   2018-06-16     1000\n",
       "4  1000_4   2018-12-05     1000\n",
       "5  1000_5   2018-06-20     1000\n",
       "6  1000_6   2018-11-19     1000\n",
       "7  1000_7   2018-10-29     1000\n",
       "8  1000_8   2018-06-25     1000\n",
       "9  1000_9   2018-12-18     1000"
      ]
     },
     "metadata": {},
     "output_type": "display_data"
    },
    {
     "data": {
      "text/plain": [
       "None"
      ]
     },
     "metadata": {},
     "output_type": "display_data"
    }
   ],
   "source": [
    "description(sms)"
   ]
  },
  {
   "cell_type": "markdown",
   "metadata": {},
   "source": [
    "Таблица состоит из 123036 строк и 3 столбцов.\n",
    "\n",
    "Видим, что в таблице отсутствуют пропущенные значения. В таблице имеются столбцы типа int и object. Столбец `message_date` имеет тип object, для дальнейшего исследование необходимо будет изменить формат на datetime.\n"
   ]
  },
  {
   "cell_type": "markdown",
   "metadata": {},
   "source": [
    "### Таблица tariffs (информация о тарифах)"
   ]
  },
  {
   "cell_type": "markdown",
   "metadata": {},
   "source": [
    "Рассмотрим общую информацию о таблице `tariffs` и её первые 10 строк: "
   ]
  },
  {
   "cell_type": "code",
   "execution_count": 10,
   "metadata": {},
   "outputs": [
    {
     "name": "stdout",
     "output_type": "stream",
     "text": [
      "<class 'pandas.core.frame.DataFrame'>\n",
      "RangeIndex: 2 entries, 0 to 1\n",
      "Data columns (total 8 columns):\n",
      " #   Column                 Non-Null Count  Dtype \n",
      "---  ------                 --------------  ----- \n",
      " 0   messages_included      2 non-null      int64 \n",
      " 1   mb_per_month_included  2 non-null      int64 \n",
      " 2   minutes_included       2 non-null      int64 \n",
      " 3   rub_monthly_fee        2 non-null      int64 \n",
      " 4   rub_per_gb             2 non-null      int64 \n",
      " 5   rub_per_message        2 non-null      int64 \n",
      " 6   rub_per_minute         2 non-null      int64 \n",
      " 7   tariff_name            2 non-null      object\n",
      "dtypes: int64(7), object(1)\n",
      "memory usage: 256.0+ bytes\n"
     ]
    },
    {
     "data": {
      "text/html": [
       "<div>\n",
       "<style scoped>\n",
       "    .dataframe tbody tr th:only-of-type {\n",
       "        vertical-align: middle;\n",
       "    }\n",
       "\n",
       "    .dataframe tbody tr th {\n",
       "        vertical-align: top;\n",
       "    }\n",
       "\n",
       "    .dataframe thead th {\n",
       "        text-align: right;\n",
       "    }\n",
       "</style>\n",
       "<table border=\"1\" class=\"dataframe\">\n",
       "  <thead>\n",
       "    <tr style=\"text-align: right;\">\n",
       "      <th></th>\n",
       "      <th>messages_included</th>\n",
       "      <th>mb_per_month_included</th>\n",
       "      <th>minutes_included</th>\n",
       "      <th>rub_monthly_fee</th>\n",
       "      <th>rub_per_gb</th>\n",
       "      <th>rub_per_message</th>\n",
       "      <th>rub_per_minute</th>\n",
       "      <th>tariff_name</th>\n",
       "    </tr>\n",
       "  </thead>\n",
       "  <tbody>\n",
       "    <tr>\n",
       "      <th>0</th>\n",
       "      <td>50</td>\n",
       "      <td>15360</td>\n",
       "      <td>500</td>\n",
       "      <td>550</td>\n",
       "      <td>200</td>\n",
       "      <td>3</td>\n",
       "      <td>3</td>\n",
       "      <td>smart</td>\n",
       "    </tr>\n",
       "    <tr>\n",
       "      <th>1</th>\n",
       "      <td>1000</td>\n",
       "      <td>30720</td>\n",
       "      <td>3000</td>\n",
       "      <td>1950</td>\n",
       "      <td>150</td>\n",
       "      <td>1</td>\n",
       "      <td>1</td>\n",
       "      <td>ultra</td>\n",
       "    </tr>\n",
       "  </tbody>\n",
       "</table>\n",
       "</div>"
      ],
      "text/plain": [
       "   messages_included  mb_per_month_included  minutes_included  \\\n",
       "0                 50                  15360               500   \n",
       "1               1000                  30720              3000   \n",
       "\n",
       "   rub_monthly_fee  rub_per_gb  rub_per_message  rub_per_minute tariff_name  \n",
       "0              550         200                3               3       smart  \n",
       "1             1950         150                1               1       ultra  "
      ]
     },
     "metadata": {},
     "output_type": "display_data"
    },
    {
     "data": {
      "text/plain": [
       "None"
      ]
     },
     "metadata": {},
     "output_type": "display_data"
    }
   ],
   "source": [
    "description(tariffs)"
   ]
  },
  {
   "cell_type": "markdown",
   "metadata": {},
   "source": [
    "Таблица состоит из 2 строк и 8 столбцов.\n",
    "\n",
    "Видим, что в таблице отсутствуют пропущенные значения. В таблице имеются столбцы типа int и object. \n"
   ]
  },
  {
   "cell_type": "markdown",
   "metadata": {},
   "source": [
    "### Таблица users (информация о пользователях)"
   ]
  },
  {
   "cell_type": "markdown",
   "metadata": {},
   "source": [
    "Рассмотрим общую информацю о таблице `users` и её первые 10 строк: "
   ]
  },
  {
   "cell_type": "code",
   "execution_count": 11,
   "metadata": {},
   "outputs": [
    {
     "name": "stdout",
     "output_type": "stream",
     "text": [
      "<class 'pandas.core.frame.DataFrame'>\n",
      "RangeIndex: 500 entries, 0 to 499\n",
      "Data columns (total 8 columns):\n",
      " #   Column      Non-Null Count  Dtype \n",
      "---  ------      --------------  ----- \n",
      " 0   user_id     500 non-null    int64 \n",
      " 1   age         500 non-null    int64 \n",
      " 2   churn_date  38 non-null     object\n",
      " 3   city        500 non-null    object\n",
      " 4   first_name  500 non-null    object\n",
      " 5   last_name   500 non-null    object\n",
      " 6   reg_date    500 non-null    object\n",
      " 7   tariff      500 non-null    object\n",
      "dtypes: int64(2), object(6)\n",
      "memory usage: 31.4+ KB\n"
     ]
    },
    {
     "data": {
      "text/html": [
       "<div>\n",
       "<style scoped>\n",
       "    .dataframe tbody tr th:only-of-type {\n",
       "        vertical-align: middle;\n",
       "    }\n",
       "\n",
       "    .dataframe tbody tr th {\n",
       "        vertical-align: top;\n",
       "    }\n",
       "\n",
       "    .dataframe thead th {\n",
       "        text-align: right;\n",
       "    }\n",
       "</style>\n",
       "<table border=\"1\" class=\"dataframe\">\n",
       "  <thead>\n",
       "    <tr style=\"text-align: right;\">\n",
       "      <th></th>\n",
       "      <th>user_id</th>\n",
       "      <th>age</th>\n",
       "      <th>churn_date</th>\n",
       "      <th>city</th>\n",
       "      <th>first_name</th>\n",
       "      <th>last_name</th>\n",
       "      <th>reg_date</th>\n",
       "      <th>tariff</th>\n",
       "    </tr>\n",
       "  </thead>\n",
       "  <tbody>\n",
       "    <tr>\n",
       "      <th>0</th>\n",
       "      <td>1000</td>\n",
       "      <td>52</td>\n",
       "      <td>NaN</td>\n",
       "      <td>Краснодар</td>\n",
       "      <td>Рафаил</td>\n",
       "      <td>Верещагин</td>\n",
       "      <td>2018-05-25</td>\n",
       "      <td>ultra</td>\n",
       "    </tr>\n",
       "    <tr>\n",
       "      <th>1</th>\n",
       "      <td>1001</td>\n",
       "      <td>41</td>\n",
       "      <td>NaN</td>\n",
       "      <td>Москва</td>\n",
       "      <td>Иван</td>\n",
       "      <td>Ежов</td>\n",
       "      <td>2018-11-01</td>\n",
       "      <td>smart</td>\n",
       "    </tr>\n",
       "    <tr>\n",
       "      <th>2</th>\n",
       "      <td>1002</td>\n",
       "      <td>59</td>\n",
       "      <td>NaN</td>\n",
       "      <td>Стерлитамак</td>\n",
       "      <td>Евгений</td>\n",
       "      <td>Абрамович</td>\n",
       "      <td>2018-06-17</td>\n",
       "      <td>smart</td>\n",
       "    </tr>\n",
       "    <tr>\n",
       "      <th>3</th>\n",
       "      <td>1003</td>\n",
       "      <td>23</td>\n",
       "      <td>NaN</td>\n",
       "      <td>Москва</td>\n",
       "      <td>Белла</td>\n",
       "      <td>Белякова</td>\n",
       "      <td>2018-08-17</td>\n",
       "      <td>ultra</td>\n",
       "    </tr>\n",
       "    <tr>\n",
       "      <th>4</th>\n",
       "      <td>1004</td>\n",
       "      <td>68</td>\n",
       "      <td>NaN</td>\n",
       "      <td>Новокузнецк</td>\n",
       "      <td>Татьяна</td>\n",
       "      <td>Авдеенко</td>\n",
       "      <td>2018-05-14</td>\n",
       "      <td>ultra</td>\n",
       "    </tr>\n",
       "    <tr>\n",
       "      <th>5</th>\n",
       "      <td>1005</td>\n",
       "      <td>67</td>\n",
       "      <td>NaN</td>\n",
       "      <td>Набережные Челны</td>\n",
       "      <td>Афанасий</td>\n",
       "      <td>Горлов</td>\n",
       "      <td>2018-01-25</td>\n",
       "      <td>smart</td>\n",
       "    </tr>\n",
       "    <tr>\n",
       "      <th>6</th>\n",
       "      <td>1006</td>\n",
       "      <td>21</td>\n",
       "      <td>NaN</td>\n",
       "      <td>Ульяновск</td>\n",
       "      <td>Леонид</td>\n",
       "      <td>Ермолаев</td>\n",
       "      <td>2018-02-26</td>\n",
       "      <td>smart</td>\n",
       "    </tr>\n",
       "    <tr>\n",
       "      <th>7</th>\n",
       "      <td>1007</td>\n",
       "      <td>65</td>\n",
       "      <td>NaN</td>\n",
       "      <td>Москва</td>\n",
       "      <td>Юна</td>\n",
       "      <td>Березина</td>\n",
       "      <td>2018-04-19</td>\n",
       "      <td>smart</td>\n",
       "    </tr>\n",
       "    <tr>\n",
       "      <th>8</th>\n",
       "      <td>1008</td>\n",
       "      <td>63</td>\n",
       "      <td>NaN</td>\n",
       "      <td>Челябинск</td>\n",
       "      <td>Рустэм</td>\n",
       "      <td>Пономарёв</td>\n",
       "      <td>2018-12-19</td>\n",
       "      <td>smart</td>\n",
       "    </tr>\n",
       "    <tr>\n",
       "      <th>9</th>\n",
       "      <td>1009</td>\n",
       "      <td>24</td>\n",
       "      <td>NaN</td>\n",
       "      <td>Пермь</td>\n",
       "      <td>Василиса</td>\n",
       "      <td>Блинова</td>\n",
       "      <td>2018-03-22</td>\n",
       "      <td>smart</td>\n",
       "    </tr>\n",
       "  </tbody>\n",
       "</table>\n",
       "</div>"
      ],
      "text/plain": [
       "   user_id  age churn_date              city first_name  last_name  \\\n",
       "0     1000   52        NaN         Краснодар     Рафаил  Верещагин   \n",
       "1     1001   41        NaN            Москва       Иван       Ежов   \n",
       "2     1002   59        NaN       Стерлитамак    Евгений  Абрамович   \n",
       "3     1003   23        NaN            Москва      Белла   Белякова   \n",
       "4     1004   68        NaN       Новокузнецк    Татьяна   Авдеенко   \n",
       "5     1005   67        NaN  Набережные Челны   Афанасий     Горлов   \n",
       "6     1006   21        NaN         Ульяновск     Леонид   Ермолаев   \n",
       "7     1007   65        NaN            Москва        Юна   Березина   \n",
       "8     1008   63        NaN         Челябинск     Рустэм  Пономарёв   \n",
       "9     1009   24        NaN             Пермь   Василиса    Блинова   \n",
       "\n",
       "     reg_date tariff  \n",
       "0  2018-05-25  ultra  \n",
       "1  2018-11-01  smart  \n",
       "2  2018-06-17  smart  \n",
       "3  2018-08-17  ultra  \n",
       "4  2018-05-14  ultra  \n",
       "5  2018-01-25  smart  \n",
       "6  2018-02-26  smart  \n",
       "7  2018-04-19  smart  \n",
       "8  2018-12-19  smart  \n",
       "9  2018-03-22  smart  "
      ]
     },
     "metadata": {},
     "output_type": "display_data"
    },
    {
     "data": {
      "text/plain": [
       "None"
      ]
     },
     "metadata": {},
     "output_type": "display_data"
    }
   ],
   "source": [
    "description(users)"
   ]
  },
  {
   "cell_type": "markdown",
   "metadata": {},
   "source": [
    "Таблица состоит из 500 строк (соответствует заявленному количеству пользователей в исследовании) и 8 столбцов.\n",
    "\n",
    "Видим, что в таблице есть пропущенные значения в столбце `churn_date`. Знаем из условий, что если значение в этом столбце пропущено, то тариф ещё действовал на момент выгрузки данных. Поскольку мы не исследуем продолжительность пользования тарифом, заполнять эти пропуски необходимости нет.\n",
    "\n",
    "Рассмотрим подробней столбцы с числовыми данными:"
   ]
  },
  {
   "cell_type": "code",
   "execution_count": 12,
   "metadata": {},
   "outputs": [
    {
     "data": {
      "text/html": [
       "<div>\n",
       "<style scoped>\n",
       "    .dataframe tbody tr th:only-of-type {\n",
       "        vertical-align: middle;\n",
       "    }\n",
       "\n",
       "    .dataframe tbody tr th {\n",
       "        vertical-align: top;\n",
       "    }\n",
       "\n",
       "    .dataframe thead th {\n",
       "        text-align: right;\n",
       "    }\n",
       "</style>\n",
       "<table border=\"1\" class=\"dataframe\">\n",
       "  <thead>\n",
       "    <tr style=\"text-align: right;\">\n",
       "      <th></th>\n",
       "      <th>user_id</th>\n",
       "      <th>age</th>\n",
       "    </tr>\n",
       "  </thead>\n",
       "  <tbody>\n",
       "    <tr>\n",
       "      <th>count</th>\n",
       "      <td>500.000000</td>\n",
       "      <td>500.00000</td>\n",
       "    </tr>\n",
       "    <tr>\n",
       "      <th>mean</th>\n",
       "      <td>1249.500000</td>\n",
       "      <td>46.58800</td>\n",
       "    </tr>\n",
       "    <tr>\n",
       "      <th>std</th>\n",
       "      <td>144.481833</td>\n",
       "      <td>16.66763</td>\n",
       "    </tr>\n",
       "    <tr>\n",
       "      <th>min</th>\n",
       "      <td>1000.000000</td>\n",
       "      <td>18.00000</td>\n",
       "    </tr>\n",
       "    <tr>\n",
       "      <th>25%</th>\n",
       "      <td>1124.750000</td>\n",
       "      <td>32.00000</td>\n",
       "    </tr>\n",
       "    <tr>\n",
       "      <th>50%</th>\n",
       "      <td>1249.500000</td>\n",
       "      <td>46.00000</td>\n",
       "    </tr>\n",
       "    <tr>\n",
       "      <th>75%</th>\n",
       "      <td>1374.250000</td>\n",
       "      <td>62.00000</td>\n",
       "    </tr>\n",
       "    <tr>\n",
       "      <th>max</th>\n",
       "      <td>1499.000000</td>\n",
       "      <td>75.00000</td>\n",
       "    </tr>\n",
       "  </tbody>\n",
       "</table>\n",
       "</div>"
      ],
      "text/plain": [
       "           user_id        age\n",
       "count   500.000000  500.00000\n",
       "mean   1249.500000   46.58800\n",
       "std     144.481833   16.66763\n",
       "min    1000.000000   18.00000\n",
       "25%    1124.750000   32.00000\n",
       "50%    1249.500000   46.00000\n",
       "75%    1374.250000   62.00000\n",
       "max    1499.000000   75.00000"
      ]
     },
     "execution_count": 12,
     "metadata": {},
     "output_type": "execute_result"
    }
   ],
   "source": [
    "users.describe()"
   ]
  },
  {
   "cell_type": "markdown",
   "metadata": {},
   "source": [
    "Видим, что минимальный возраст пользователя - 18 лет, несовершеннолетних в нашей таблице нет."
   ]
  },
  {
   "cell_type": "markdown",
   "metadata": {},
   "source": [
    "**Вывод**"
   ]
  },
  {
   "cell_type": "markdown",
   "metadata": {},
   "source": [
    "В нашем распоряжении 5 таблиц, в которых содержатся данные об отдельных звонках, сообщениях, интернет трафике, а также условия двух тарифов и данные о 500 клиентах оператора (их фамилия, имя, возраст, город проживания и т.п.).\n",
    "\n",
    "При рассмотрении таблиц мы выявили следующие моменты, требующие корректировки:\n",
    "\n",
    "* В таблицах `calls`, `messages`, `internet` и `users` необходимо изменить тип данных для столбцов, содержащих в себе даты, на тип datetime;\n",
    "\n",
    "* В таблице `internet` содержится лишний столбец `Unnamed: 0`, который необходимо удалить;\n",
    "\n",
    "* В таблице `internet` обнаружены нулевые значения, которые необходимо обработать;\n",
    "\n",
    "* В таблице `calls` обнаружены нулевые значения, но мы принимаем их за пропущенные вызовы, и оставляем как есть;\n",
    "\n",
    "* В таблице `users` обнаружены пропущенные значения, но, зная из условия, что это не случайные пропуски, заполнять их мы не будем.\n",
    "\n",
    "Для дальнейшего исследования нам потребуется провести предобработку данных."
   ]
  },
  {
   "cell_type": "markdown",
   "metadata": {},
   "source": [
    "<a id=\"step2\"></a>\n",
    "## Предобработка данных"
   ]
  },
  {
   "cell_type": "markdown",
   "metadata": {},
   "source": [
    "### Замена типа данных"
   ]
  },
  {
   "cell_type": "markdown",
   "metadata": {},
   "source": [
    "Приведем данные в столбцах `call_date`, `session_date`, `message_date` и `reg_date` к типу datetime:"
   ]
  },
  {
   "cell_type": "code",
   "execution_count": 13,
   "metadata": {},
   "outputs": [],
   "source": [
    "calls['call_date'] = pd.to_datetime(calls['call_date'])\n",
    "internet['session_date'] = pd.to_datetime(internet['session_date'])\n",
    "sms['message_date'] = pd.to_datetime(sms['message_date'])\n",
    "users['reg_date'] = pd.to_datetime(users['reg_date'])"
   ]
  },
  {
   "cell_type": "markdown",
   "metadata": {},
   "source": [
    "**Вывод**"
   ]
  },
  {
   "cell_type": "markdown",
   "metadata": {},
   "source": [
    "Мы привели данные в 4 столбцах к формату datetine. Это понадобится нам для дальнейших расчетов."
   ]
  },
  {
   "cell_type": "markdown",
   "metadata": {},
   "source": [
    "### Исправление ошибок в данных"
   ]
  },
  {
   "cell_type": "markdown",
   "metadata": {},
   "source": [
    "В таблице `calls` мы обнаружили нулевые значения, но пришли к заключению, что таким образом отображатся пропущенные вызовы.\n",
    "\n",
    "Также мы обнаружили, что в таблице `internet` присутствуют нулевые значения в столбце `mb_used`. Оценим их количество:"
   ]
  },
  {
   "cell_type": "code",
   "execution_count": 14,
   "metadata": {
    "scrolled": true
   },
   "outputs": [
    {
     "data": {
      "text/plain": [
       "Unnamed: 0      19598\n",
       "id              19598\n",
       "mb_used         19598\n",
       "session_date    19598\n",
       "user_id         19598\n",
       "dtype: int64"
      ]
     },
     "execution_count": 14,
     "metadata": {},
     "output_type": "execute_result"
    }
   ],
   "source": [
    "internet[internet['mb_used'] == 0].count()"
   ]
  },
  {
   "cell_type": "markdown",
   "metadata": {},
   "source": [
    "Из 149396 мы имеем 19598 нулевых значений, что составляет около 13% от всех данных.\n",
    "\n",
    "Посмотрим, что из себя представляют ненулевые значения таблицы:"
   ]
  },
  {
   "cell_type": "code",
   "execution_count": 15,
   "metadata": {},
   "outputs": [
    {
     "data": {
      "text/html": [
       "<div>\n",
       "<style scoped>\n",
       "    .dataframe tbody tr th:only-of-type {\n",
       "        vertical-align: middle;\n",
       "    }\n",
       "\n",
       "    .dataframe tbody tr th {\n",
       "        vertical-align: top;\n",
       "    }\n",
       "\n",
       "    .dataframe thead th {\n",
       "        text-align: right;\n",
       "    }\n",
       "</style>\n",
       "<table border=\"1\" class=\"dataframe\">\n",
       "  <thead>\n",
       "    <tr style=\"text-align: right;\">\n",
       "      <th></th>\n",
       "      <th>Unnamed: 0</th>\n",
       "      <th>mb_used</th>\n",
       "      <th>user_id</th>\n",
       "    </tr>\n",
       "  </thead>\n",
       "  <tbody>\n",
       "    <tr>\n",
       "      <th>count</th>\n",
       "      <td>129798.000000</td>\n",
       "      <td>129798.000000</td>\n",
       "      <td>129798.000000</td>\n",
       "    </tr>\n",
       "    <tr>\n",
       "      <th>mean</th>\n",
       "      <td>74978.644879</td>\n",
       "      <td>426.087210</td>\n",
       "      <td>1253.046318</td>\n",
       "    </tr>\n",
       "    <tr>\n",
       "      <th>std</th>\n",
       "      <td>43047.137838</td>\n",
       "      <td>255.596447</td>\n",
       "      <td>143.782672</td>\n",
       "    </tr>\n",
       "    <tr>\n",
       "      <th>min</th>\n",
       "      <td>0.000000</td>\n",
       "      <td>0.030000</td>\n",
       "      <td>1000.000000</td>\n",
       "    </tr>\n",
       "    <tr>\n",
       "      <th>25%</th>\n",
       "      <td>37675.250000</td>\n",
       "      <td>227.460000</td>\n",
       "      <td>1132.000000</td>\n",
       "    </tr>\n",
       "    <tr>\n",
       "      <th>50%</th>\n",
       "      <td>75253.000000</td>\n",
       "      <td>400.540000</td>\n",
       "      <td>1252.000000</td>\n",
       "    </tr>\n",
       "    <tr>\n",
       "      <th>75%</th>\n",
       "      <td>112247.750000</td>\n",
       "      <td>592.947500</td>\n",
       "      <td>1380.000000</td>\n",
       "    </tr>\n",
       "    <tr>\n",
       "      <th>max</th>\n",
       "      <td>149395.000000</td>\n",
       "      <td>1724.830000</td>\n",
       "      <td>1499.000000</td>\n",
       "    </tr>\n",
       "  </tbody>\n",
       "</table>\n",
       "</div>"
      ],
      "text/plain": [
       "          Unnamed: 0        mb_used        user_id\n",
       "count  129798.000000  129798.000000  129798.000000\n",
       "mean    74978.644879     426.087210    1253.046318\n",
       "std     43047.137838     255.596447     143.782672\n",
       "min         0.000000       0.030000    1000.000000\n",
       "25%     37675.250000     227.460000    1132.000000\n",
       "50%     75253.000000     400.540000    1252.000000\n",
       "75%    112247.750000     592.947500    1380.000000\n",
       "max    149395.000000    1724.830000    1499.000000"
      ]
     },
     "execution_count": 15,
     "metadata": {},
     "output_type": "execute_result"
    }
   ],
   "source": [
    "internet2 = internet[internet['mb_used'] > 0]\n",
    "internet2.describe()"
   ]
  },
  {
   "cell_type": "markdown",
   "metadata": {},
   "source": [
    "Видим, что значение среднего сместилось с 370 до 426, а медианы - с 348 до 400.\n",
    "\n",
    "Также рассмотрим динамику количества \"нулевых\" сессий по месяцам. Для этого создадим в таблице `internet` столбец `month`, в который внесем номер месяца, в который произведена интернет-сессия (этот столбец также понадобится нам для дальнешего исследования). Построим столбчатую диаграмму:"
   ]
  },
  {
   "cell_type": "code",
   "execution_count": 16,
   "metadata": {},
   "outputs": [
    {
     "data": {
      "image/png": "[encoded data removed]",
      "text/plain": [
       "<Figure size 720x432 with 1 Axes>"
      ]
     },
     "metadata": {
      "needs_background": "light"
     },
     "output_type": "display_data"
    }
   ],
   "source": [
    "internet['month'] = internet['session_date'].dt.to_period('M')\n",
    "null_sessions = internet[internet['mb_used'] == 0].groupby('month').agg({'mb_used':'count'}).reset_index()\n",
    "\n",
    "plt.figure(figsize=(10, 6))\n",
    "sns.barplot(data=null_sessions, x='month', y='mb_used')\n",
    "plt.xticks(rotation=45)\n",
    "plt.xlabel('Месяц')\n",
    "plt.ylabel('Количество \"нулевых\" сессий')\n",
    "plt.title('Количество \"нулевых\" сессий по месяцам')\n",
    "plt.show();"
   ]
  },
  {
   "cell_type": "markdown",
   "metadata": {},
   "source": [
    "Также построим столбачтую диаграмму, чтобы посмотреть динамику количества \"ненулевых\" сессий по месяцам:"
   ]
  },
  {
   "cell_type": "code",
   "execution_count": 17,
   "metadata": {
    "scrolled": false
   },
   "outputs": [
    {
     "data": {
      "image/png": "[encoded data removed]",
      "text/plain": [
       "<Figure size 720x432 with 1 Axes>"
      ]
     },
     "metadata": {
      "needs_background": "light"
     },
     "output_type": "display_data"
    }
   ],
   "source": [
    "not_null_sessions = internet[internet['mb_used'] != 0].groupby('month').agg({'mb_used':'count'}).reset_index()\n",
    "\n",
    "plt.figure(figsize=(10, 6))\n",
    "sns.barplot(data=not_null_sessions, x='month', y='mb_used')\n",
    "plt.xticks(rotation=45)\n",
    "plt.xlabel('Месяц')\n",
    "plt.ylabel('Количество \"ненулевых\" сессий')\n",
    "plt.title('Количество \"ненулевых\" сессий по месяцам')\n",
    "plt.show();"
   ]
  },
  {
   "cell_type": "markdown",
   "metadata": {},
   "source": [
    "Видим, что динамика количества нулевых значений по месяцам совпадает с общей динамикой количества сессий, т.е. тут никаких аномалий не выявлено.\n",
    "\n",
    "Предположим, что нули указывают отдельные подключения пользователей к интернету, в течение трафик которых не тратился. В таком случае оставим нулевые значения не заполненными. "
   ]
  },
  {
   "cell_type": "markdown",
   "metadata": {},
   "source": [
    "**Вывод**"
   ]
  },
  {
   "cell_type": "markdown",
   "metadata": {},
   "source": [
    "Мы выявили, что в таблицах `calls` и `internet` присутсвуют нулевые значения. В обоих случах мы оставили нулевые значения нетронутыми. \n",
    "\n",
    "Мы предположили, что нулевые значения в таблице `calls` указывают на непринятые вызовы, а в таблице `internet` - на подключения без использования трафика."
   ]
  },
  {
   "cell_type": "markdown",
   "metadata": {},
   "source": [
    "### Удаление лишнего столбца"
   ]
  },
  {
   "cell_type": "markdown",
   "metadata": {},
   "source": [
    "Удалим ненужный столбец в таблице `internet`:"
   ]
  },
  {
   "cell_type": "code",
   "execution_count": 18,
   "metadata": {},
   "outputs": [],
   "source": [
    "internet = internet.drop(columns = ['Unnamed: 0'],axis = 1)"
   ]
  },
  {
   "cell_type": "markdown",
   "metadata": {},
   "source": [
    "**Вывод**"
   ]
  },
  {
   "cell_type": "markdown",
   "metadata": {},
   "source": [
    "Мы удалили столбец `Unnamed: 0`, который дублировал индексы в таблице `internet`."
   ]
  },
  {
   "cell_type": "markdown",
   "metadata": {},
   "source": [
    "### Обработка дубликатов"
   ]
  },
  {
   "cell_type": "markdown",
   "metadata": {},
   "source": [
    "Проверим, не появились ли в наших таблицах дубликаты после проведенной обработки данных:"
   ]
  },
  {
   "cell_type": "code",
   "execution_count": 19,
   "metadata": {},
   "outputs": [
    {
     "data": {
      "text/plain": [
       "0"
      ]
     },
     "metadata": {},
     "output_type": "display_data"
    },
    {
     "data": {
      "text/plain": [
       "0"
      ]
     },
     "metadata": {},
     "output_type": "display_data"
    },
    {
     "data": {
      "text/plain": [
       "0"
      ]
     },
     "metadata": {},
     "output_type": "display_data"
    },
    {
     "data": {
      "text/plain": [
       "0"
      ]
     },
     "metadata": {},
     "output_type": "display_data"
    }
   ],
   "source": [
    "display(calls.duplicated().sum(), internet.duplicated().sum(), sms.duplicated().sum(), users.duplicated().sum())"
   ]
  },
  {
   "cell_type": "markdown",
   "metadata": {},
   "source": [
    "Дубликаты не обнаружены."
   ]
  },
  {
   "cell_type": "markdown",
   "metadata": {},
   "source": [
    "**Вывод**"
   ]
  },
  {
   "cell_type": "markdown",
   "metadata": {},
   "source": [
    "Мы проверили 4 таблицы, в которых вносили изменения, на наличие дубликатов. Дубликатов обнаружено не было."
   ]
  },
  {
   "cell_type": "markdown",
   "metadata": {},
   "source": [
    "<a id=\"step3\"></a>\n",
    "## Подготовка пользовательских данных"
   ]
  },
  {
   "cell_type": "markdown",
   "metadata": {},
   "source": [
    "### Таблица calls"
   ]
  },
  {
   "cell_type": "markdown",
   "metadata": {},
   "source": [
    "Мы знаем, что по условиям оператора каждый звонок откругляется в большую сторону до 1 минуты. В таблице `calls` применим к столбцу `duration` откругление \"вверх\" до единиц: "
   ]
  },
  {
   "cell_type": "code",
   "execution_count": 20,
   "metadata": {
    "scrolled": true
   },
   "outputs": [],
   "source": [
    "calls['duration'] = np.ceil(calls['duration'])"
   ]
  },
  {
   "cell_type": "markdown",
   "metadata": {},
   "source": [
    "Создадим новый столбец `month`, в который внесем номер месяца, в котором был произведен звонок:"
   ]
  },
  {
   "cell_type": "code",
   "execution_count": 21,
   "metadata": {
    "scrolled": true
   },
   "outputs": [],
   "source": [
    "calls['month'] = calls['call_date'].dt.to_period('M')"
   ]
  },
  {
   "cell_type": "markdown",
   "metadata": {},
   "source": [
    "Создадим сводную таблицу, в которой сгруппируем данные по user_id и месяцам. Просуммируем продолжительность звонков и посчитаем их количество:"
   ]
  },
  {
   "cell_type": "code",
   "execution_count": 22,
   "metadata": {},
   "outputs": [
    {
     "data": {
      "text/html": [
       "<div>\n",
       "<style scoped>\n",
       "    .dataframe tbody tr th:only-of-type {\n",
       "        vertical-align: middle;\n",
       "    }\n",
       "\n",
       "    .dataframe tbody tr th {\n",
       "        vertical-align: top;\n",
       "    }\n",
       "\n",
       "    .dataframe thead th {\n",
       "        text-align: right;\n",
       "    }\n",
       "</style>\n",
       "<table border=\"1\" class=\"dataframe\">\n",
       "  <thead>\n",
       "    <tr style=\"text-align: right;\">\n",
       "      <th></th>\n",
       "      <th></th>\n",
       "      <th>calls_duration</th>\n",
       "      <th>calls_count</th>\n",
       "    </tr>\n",
       "    <tr>\n",
       "      <th>user_id</th>\n",
       "      <th>month</th>\n",
       "      <th></th>\n",
       "      <th></th>\n",
       "    </tr>\n",
       "  </thead>\n",
       "  <tbody>\n",
       "    <tr>\n",
       "      <th rowspan=\"5\" valign=\"top\">1000</th>\n",
       "      <th>2018-05</th>\n",
       "      <td>159.0</td>\n",
       "      <td>22</td>\n",
       "    </tr>\n",
       "    <tr>\n",
       "      <th>2018-06</th>\n",
       "      <td>172.0</td>\n",
       "      <td>43</td>\n",
       "    </tr>\n",
       "    <tr>\n",
       "      <th>2018-07</th>\n",
       "      <td>340.0</td>\n",
       "      <td>47</td>\n",
       "    </tr>\n",
       "    <tr>\n",
       "      <th>2018-08</th>\n",
       "      <td>408.0</td>\n",
       "      <td>52</td>\n",
       "    </tr>\n",
       "    <tr>\n",
       "      <th>2018-09</th>\n",
       "      <td>466.0</td>\n",
       "      <td>58</td>\n",
       "    </tr>\n",
       "    <tr>\n",
       "      <th>...</th>\n",
       "      <th>...</th>\n",
       "      <td>...</td>\n",
       "      <td>...</td>\n",
       "    </tr>\n",
       "    <tr>\n",
       "      <th>1498</th>\n",
       "      <th>2018-10</th>\n",
       "      <td>247.0</td>\n",
       "      <td>41</td>\n",
       "    </tr>\n",
       "    <tr>\n",
       "      <th rowspan=\"4\" valign=\"top\">1499</th>\n",
       "      <th>2018-09</th>\n",
       "      <td>70.0</td>\n",
       "      <td>9</td>\n",
       "    </tr>\n",
       "    <tr>\n",
       "      <th>2018-10</th>\n",
       "      <td>449.0</td>\n",
       "      <td>68</td>\n",
       "    </tr>\n",
       "    <tr>\n",
       "      <th>2018-11</th>\n",
       "      <td>612.0</td>\n",
       "      <td>74</td>\n",
       "    </tr>\n",
       "    <tr>\n",
       "      <th>2018-12</th>\n",
       "      <td>492.0</td>\n",
       "      <td>69</td>\n",
       "    </tr>\n",
       "  </tbody>\n",
       "</table>\n",
       "<p>3174 rows × 2 columns</p>\n",
       "</div>"
      ],
      "text/plain": [
       "                 calls_duration  calls_count\n",
       "user_id month                               \n",
       "1000    2018-05           159.0           22\n",
       "        2018-06           172.0           43\n",
       "        2018-07           340.0           47\n",
       "        2018-08           408.0           52\n",
       "        2018-09           466.0           58\n",
       "...                         ...          ...\n",
       "1498    2018-10           247.0           41\n",
       "1499    2018-09            70.0            9\n",
       "        2018-10           449.0           68\n",
       "        2018-11           612.0           74\n",
       "        2018-12           492.0           69\n",
       "\n",
       "[3174 rows x 2 columns]"
      ]
     },
     "execution_count": 22,
     "metadata": {},
     "output_type": "execute_result"
    }
   ],
   "source": [
    "calls_total = calls.pivot_table(index = ['user_id','month'], values ='duration', aggfunc=['sum', 'count'] )\n",
    "calls_total.columns = ['calls_duration', 'calls_count']\n",
    "calls_total"
   ]
  },
  {
   "cell_type": "markdown",
   "metadata": {},
   "source": [
    "### Таблица internet"
   ]
  },
  {
   "cell_type": "markdown",
   "metadata": {},
   "source": [
    "Ранее мы уже добавили в таблицу дополнительный столбец `month`. Напомним, как выглядит эта таблица:"
   ]
  },
  {
   "cell_type": "code",
   "execution_count": 23,
   "metadata": {},
   "outputs": [
    {
     "data": {
      "text/html": [
       "<div>\n",
       "<style scoped>\n",
       "    .dataframe tbody tr th:only-of-type {\n",
       "        vertical-align: middle;\n",
       "    }\n",
       "\n",
       "    .dataframe tbody tr th {\n",
       "        vertical-align: top;\n",
       "    }\n",
       "\n",
       "    .dataframe thead th {\n",
       "        text-align: right;\n",
       "    }\n",
       "</style>\n",
       "<table border=\"1\" class=\"dataframe\">\n",
       "  <thead>\n",
       "    <tr style=\"text-align: right;\">\n",
       "      <th></th>\n",
       "      <th>id</th>\n",
       "      <th>mb_used</th>\n",
       "      <th>session_date</th>\n",
       "      <th>user_id</th>\n",
       "      <th>month</th>\n",
       "    </tr>\n",
       "  </thead>\n",
       "  <tbody>\n",
       "    <tr>\n",
       "      <th>0</th>\n",
       "      <td>1000_0</td>\n",
       "      <td>112.95</td>\n",
       "      <td>2018-11-25</td>\n",
       "      <td>1000</td>\n",
       "      <td>2018-11</td>\n",
       "    </tr>\n",
       "    <tr>\n",
       "      <th>1</th>\n",
       "      <td>1000_1</td>\n",
       "      <td>1052.81</td>\n",
       "      <td>2018-09-07</td>\n",
       "      <td>1000</td>\n",
       "      <td>2018-09</td>\n",
       "    </tr>\n",
       "    <tr>\n",
       "      <th>2</th>\n",
       "      <td>1000_2</td>\n",
       "      <td>1197.26</td>\n",
       "      <td>2018-06-25</td>\n",
       "      <td>1000</td>\n",
       "      <td>2018-06</td>\n",
       "    </tr>\n",
       "    <tr>\n",
       "      <th>3</th>\n",
       "      <td>1000_3</td>\n",
       "      <td>550.27</td>\n",
       "      <td>2018-08-22</td>\n",
       "      <td>1000</td>\n",
       "      <td>2018-08</td>\n",
       "    </tr>\n",
       "    <tr>\n",
       "      <th>4</th>\n",
       "      <td>1000_4</td>\n",
       "      <td>302.56</td>\n",
       "      <td>2018-09-24</td>\n",
       "      <td>1000</td>\n",
       "      <td>2018-09</td>\n",
       "    </tr>\n",
       "    <tr>\n",
       "      <th>...</th>\n",
       "      <td>...</td>\n",
       "      <td>...</td>\n",
       "      <td>...</td>\n",
       "      <td>...</td>\n",
       "      <td>...</td>\n",
       "    </tr>\n",
       "    <tr>\n",
       "      <th>149391</th>\n",
       "      <td>1499_152</td>\n",
       "      <td>318.90</td>\n",
       "      <td>2018-10-03</td>\n",
       "      <td>1499</td>\n",
       "      <td>2018-10</td>\n",
       "    </tr>\n",
       "    <tr>\n",
       "      <th>149392</th>\n",
       "      <td>1499_153</td>\n",
       "      <td>490.13</td>\n",
       "      <td>2018-12-14</td>\n",
       "      <td>1499</td>\n",
       "      <td>2018-12</td>\n",
       "    </tr>\n",
       "    <tr>\n",
       "      <th>149393</th>\n",
       "      <td>1499_154</td>\n",
       "      <td>0.00</td>\n",
       "      <td>2018-10-27</td>\n",
       "      <td>1499</td>\n",
       "      <td>2018-10</td>\n",
       "    </tr>\n",
       "    <tr>\n",
       "      <th>149394</th>\n",
       "      <td>1499_155</td>\n",
       "      <td>1246.32</td>\n",
       "      <td>2018-11-26</td>\n",
       "      <td>1499</td>\n",
       "      <td>2018-11</td>\n",
       "    </tr>\n",
       "    <tr>\n",
       "      <th>149395</th>\n",
       "      <td>1499_156</td>\n",
       "      <td>544.37</td>\n",
       "      <td>2018-10-26</td>\n",
       "      <td>1499</td>\n",
       "      <td>2018-10</td>\n",
       "    </tr>\n",
       "  </tbody>\n",
       "</table>\n",
       "<p>149396 rows × 5 columns</p>\n",
       "</div>"
      ],
      "text/plain": [
       "              id  mb_used session_date  user_id    month\n",
       "0         1000_0   112.95   2018-11-25     1000  2018-11\n",
       "1         1000_1  1052.81   2018-09-07     1000  2018-09\n",
       "2         1000_2  1197.26   2018-06-25     1000  2018-06\n",
       "3         1000_3   550.27   2018-08-22     1000  2018-08\n",
       "4         1000_4   302.56   2018-09-24     1000  2018-09\n",
       "...          ...      ...          ...      ...      ...\n",
       "149391  1499_152   318.90   2018-10-03     1499  2018-10\n",
       "149392  1499_153   490.13   2018-12-14     1499  2018-12\n",
       "149393  1499_154     0.00   2018-10-27     1499  2018-10\n",
       "149394  1499_155  1246.32   2018-11-26     1499  2018-11\n",
       "149395  1499_156   544.37   2018-10-26     1499  2018-10\n",
       "\n",
       "[149396 rows x 5 columns]"
      ]
     },
     "execution_count": 23,
     "metadata": {},
     "output_type": "execute_result"
    }
   ],
   "source": [
    "internet"
   ]
  },
  {
   "cell_type": "markdown",
   "metadata": {},
   "source": [
    "Создадим сводную таблицу, в которой сгруппируем данные по user_id и месяцам. Просуммируем продолжительность интернет-сессий:"
   ]
  },
  {
   "cell_type": "code",
   "execution_count": 24,
   "metadata": {},
   "outputs": [
    {
     "data": {
      "text/html": [
       "<div>\n",
       "<style scoped>\n",
       "    .dataframe tbody tr th:only-of-type {\n",
       "        vertical-align: middle;\n",
       "    }\n",
       "\n",
       "    .dataframe tbody tr th {\n",
       "        vertical-align: top;\n",
       "    }\n",
       "\n",
       "    .dataframe thead th {\n",
       "        text-align: right;\n",
       "    }\n",
       "</style>\n",
       "<table border=\"1\" class=\"dataframe\">\n",
       "  <thead>\n",
       "    <tr style=\"text-align: right;\">\n",
       "      <th></th>\n",
       "      <th></th>\n",
       "      <th>mb_used</th>\n",
       "    </tr>\n",
       "    <tr>\n",
       "      <th>user_id</th>\n",
       "      <th>month</th>\n",
       "      <th></th>\n",
       "    </tr>\n",
       "  </thead>\n",
       "  <tbody>\n",
       "    <tr>\n",
       "      <th rowspan=\"5\" valign=\"top\">1000</th>\n",
       "      <th>2018-05</th>\n",
       "      <td>2253.49</td>\n",
       "    </tr>\n",
       "    <tr>\n",
       "      <th>2018-06</th>\n",
       "      <td>23233.77</td>\n",
       "    </tr>\n",
       "    <tr>\n",
       "      <th>2018-07</th>\n",
       "      <td>14003.64</td>\n",
       "    </tr>\n",
       "    <tr>\n",
       "      <th>2018-08</th>\n",
       "      <td>14055.93</td>\n",
       "    </tr>\n",
       "    <tr>\n",
       "      <th>2018-09</th>\n",
       "      <td>14568.91</td>\n",
       "    </tr>\n",
       "    <tr>\n",
       "      <th>...</th>\n",
       "      <th>...</th>\n",
       "      <td>...</td>\n",
       "    </tr>\n",
       "    <tr>\n",
       "      <th>1498</th>\n",
       "      <th>2018-10</th>\n",
       "      <td>20579.36</td>\n",
       "    </tr>\n",
       "    <tr>\n",
       "      <th rowspan=\"4\" valign=\"top\">1499</th>\n",
       "      <th>2018-09</th>\n",
       "      <td>1845.75</td>\n",
       "    </tr>\n",
       "    <tr>\n",
       "      <th>2018-10</th>\n",
       "      <td>17788.51</td>\n",
       "    </tr>\n",
       "    <tr>\n",
       "      <th>2018-11</th>\n",
       "      <td>17963.31</td>\n",
       "    </tr>\n",
       "    <tr>\n",
       "      <th>2018-12</th>\n",
       "      <td>13055.58</td>\n",
       "    </tr>\n",
       "  </tbody>\n",
       "</table>\n",
       "<p>3203 rows × 1 columns</p>\n",
       "</div>"
      ],
      "text/plain": [
       "                  mb_used\n",
       "user_id month            \n",
       "1000    2018-05   2253.49\n",
       "        2018-06  23233.77\n",
       "        2018-07  14003.64\n",
       "        2018-08  14055.93\n",
       "        2018-09  14568.91\n",
       "...                   ...\n",
       "1498    2018-10  20579.36\n",
       "1499    2018-09   1845.75\n",
       "        2018-10  17788.51\n",
       "        2018-11  17963.31\n",
       "        2018-12  13055.58\n",
       "\n",
       "[3203 rows x 1 columns]"
      ]
     },
     "execution_count": 24,
     "metadata": {},
     "output_type": "execute_result"
    }
   ],
   "source": [
    "internet_total = internet.pivot_table(index = ['user_id','month'], values ='mb_used', aggfunc='sum')\n",
    "internet_total"
   ]
  },
  {
   "cell_type": "markdown",
   "metadata": {},
   "source": [
    "### Таблица messages"
   ]
  },
  {
   "cell_type": "markdown",
   "metadata": {},
   "source": [
    "Создадим новый столбец `month`, в который внесем номер месяца, в котором было отправлено смс-сообщение:"
   ]
  },
  {
   "cell_type": "code",
   "execution_count": 25,
   "metadata": {},
   "outputs": [],
   "source": [
    "sms['month'] = sms['message_date'].dt.to_period('M')"
   ]
  },
  {
   "cell_type": "markdown",
   "metadata": {},
   "source": [
    "Создадим сводную таблицу, в которой сгруппируем данные по user_id и месяцам. Подсчитаем количество смс-сообщений, отправленных в каждом месяце:"
   ]
  },
  {
   "cell_type": "code",
   "execution_count": 26,
   "metadata": {},
   "outputs": [
    {
     "data": {
      "text/html": [
       "<div>\n",
       "<style scoped>\n",
       "    .dataframe tbody tr th:only-of-type {\n",
       "        vertical-align: middle;\n",
       "    }\n",
       "\n",
       "    .dataframe tbody tr th {\n",
       "        vertical-align: top;\n",
       "    }\n",
       "\n",
       "    .dataframe thead th {\n",
       "        text-align: right;\n",
       "    }\n",
       "</style>\n",
       "<table border=\"1\" class=\"dataframe\">\n",
       "  <thead>\n",
       "    <tr style=\"text-align: right;\">\n",
       "      <th></th>\n",
       "      <th></th>\n",
       "      <th>id</th>\n",
       "    </tr>\n",
       "    <tr>\n",
       "      <th>user_id</th>\n",
       "      <th>month</th>\n",
       "      <th></th>\n",
       "    </tr>\n",
       "  </thead>\n",
       "  <tbody>\n",
       "    <tr>\n",
       "      <th rowspan=\"5\" valign=\"top\">1000</th>\n",
       "      <th>2018-05</th>\n",
       "      <td>22</td>\n",
       "    </tr>\n",
       "    <tr>\n",
       "      <th>2018-06</th>\n",
       "      <td>60</td>\n",
       "    </tr>\n",
       "    <tr>\n",
       "      <th>2018-07</th>\n",
       "      <td>75</td>\n",
       "    </tr>\n",
       "    <tr>\n",
       "      <th>2018-08</th>\n",
       "      <td>81</td>\n",
       "    </tr>\n",
       "    <tr>\n",
       "      <th>2018-09</th>\n",
       "      <td>57</td>\n",
       "    </tr>\n",
       "    <tr>\n",
       "      <th>...</th>\n",
       "      <th>...</th>\n",
       "      <td>...</td>\n",
       "    </tr>\n",
       "    <tr>\n",
       "      <th>1498</th>\n",
       "      <th>2018-10</th>\n",
       "      <td>42</td>\n",
       "    </tr>\n",
       "    <tr>\n",
       "      <th rowspan=\"4\" valign=\"top\">1499</th>\n",
       "      <th>2018-09</th>\n",
       "      <td>11</td>\n",
       "    </tr>\n",
       "    <tr>\n",
       "      <th>2018-10</th>\n",
       "      <td>48</td>\n",
       "    </tr>\n",
       "    <tr>\n",
       "      <th>2018-11</th>\n",
       "      <td>59</td>\n",
       "    </tr>\n",
       "    <tr>\n",
       "      <th>2018-12</th>\n",
       "      <td>66</td>\n",
       "    </tr>\n",
       "  </tbody>\n",
       "</table>\n",
       "<p>2717 rows × 1 columns</p>\n",
       "</div>"
      ],
      "text/plain": [
       "                 id\n",
       "user_id month      \n",
       "1000    2018-05  22\n",
       "        2018-06  60\n",
       "        2018-07  75\n",
       "        2018-08  81\n",
       "        2018-09  57\n",
       "...              ..\n",
       "1498    2018-10  42\n",
       "1499    2018-09  11\n",
       "        2018-10  48\n",
       "        2018-11  59\n",
       "        2018-12  66\n",
       "\n",
       "[2717 rows x 1 columns]"
      ]
     },
     "execution_count": 26,
     "metadata": {},
     "output_type": "execute_result"
    }
   ],
   "source": [
    "sms_total = sms.pivot_table(index = ['user_id','month'], values ='id', aggfunc='count')\n",
    "sms_total"
   ]
  },
  {
   "cell_type": "markdown",
   "metadata": {},
   "source": [
    "Видим, что в сводной таблице столбец с количеством сообщений назван `id`. Сменим название столбца на `messages`:"
   ]
  },
  {
   "cell_type": "code",
   "execution_count": 27,
   "metadata": {},
   "outputs": [
    {
     "data": {
      "text/html": [
       "<div>\n",
       "<style scoped>\n",
       "    .dataframe tbody tr th:only-of-type {\n",
       "        vertical-align: middle;\n",
       "    }\n",
       "\n",
       "    .dataframe tbody tr th {\n",
       "        vertical-align: top;\n",
       "    }\n",
       "\n",
       "    .dataframe thead th {\n",
       "        text-align: right;\n",
       "    }\n",
       "</style>\n",
       "<table border=\"1\" class=\"dataframe\">\n",
       "  <thead>\n",
       "    <tr style=\"text-align: right;\">\n",
       "      <th></th>\n",
       "      <th></th>\n",
       "      <th>messages</th>\n",
       "    </tr>\n",
       "    <tr>\n",
       "      <th>user_id</th>\n",
       "      <th>month</th>\n",
       "      <th></th>\n",
       "    </tr>\n",
       "  </thead>\n",
       "  <tbody>\n",
       "    <tr>\n",
       "      <th rowspan=\"5\" valign=\"top\">1000</th>\n",
       "      <th>2018-05</th>\n",
       "      <td>22</td>\n",
       "    </tr>\n",
       "    <tr>\n",
       "      <th>2018-06</th>\n",
       "      <td>60</td>\n",
       "    </tr>\n",
       "    <tr>\n",
       "      <th>2018-07</th>\n",
       "      <td>75</td>\n",
       "    </tr>\n",
       "    <tr>\n",
       "      <th>2018-08</th>\n",
       "      <td>81</td>\n",
       "    </tr>\n",
       "    <tr>\n",
       "      <th>2018-09</th>\n",
       "      <td>57</td>\n",
       "    </tr>\n",
       "    <tr>\n",
       "      <th>...</th>\n",
       "      <th>...</th>\n",
       "      <td>...</td>\n",
       "    </tr>\n",
       "    <tr>\n",
       "      <th>1498</th>\n",
       "      <th>2018-10</th>\n",
       "      <td>42</td>\n",
       "    </tr>\n",
       "    <tr>\n",
       "      <th rowspan=\"4\" valign=\"top\">1499</th>\n",
       "      <th>2018-09</th>\n",
       "      <td>11</td>\n",
       "    </tr>\n",
       "    <tr>\n",
       "      <th>2018-10</th>\n",
       "      <td>48</td>\n",
       "    </tr>\n",
       "    <tr>\n",
       "      <th>2018-11</th>\n",
       "      <td>59</td>\n",
       "    </tr>\n",
       "    <tr>\n",
       "      <th>2018-12</th>\n",
       "      <td>66</td>\n",
       "    </tr>\n",
       "  </tbody>\n",
       "</table>\n",
       "<p>2717 rows × 1 columns</p>\n",
       "</div>"
      ],
      "text/plain": [
       "                 messages\n",
       "user_id month            \n",
       "1000    2018-05        22\n",
       "        2018-06        60\n",
       "        2018-07        75\n",
       "        2018-08        81\n",
       "        2018-09        57\n",
       "...                   ...\n",
       "1498    2018-10        42\n",
       "1499    2018-09        11\n",
       "        2018-10        48\n",
       "        2018-11        59\n",
       "        2018-12        66\n",
       "\n",
       "[2717 rows x 1 columns]"
      ]
     },
     "execution_count": 27,
     "metadata": {},
     "output_type": "execute_result"
    }
   ],
   "source": [
    "sms_total.columns = ['messages']\n",
    "sms_total"
   ]
  },
  {
   "cell_type": "markdown",
   "metadata": {},
   "source": [
    "**Вывод**"
   ]
  },
  {
   "cell_type": "markdown",
   "metadata": {},
   "source": [
    "Мы составили сводные таблицы, в которых подсчитали по каждому пользователю:\n",
    "\n",
    "* количество сделанных звонков и израсходованных минут разговора по месяцам;\n",
    "* количество отправленных сообщений по месяцам;\n",
    "* объем израсходованного интернет-трафика по месяцам."
   ]
  },
  {
   "cell_type": "markdown",
   "metadata": {},
   "source": [
    "<a id=\"step4\"></a>\n",
    "## Расчёты по пользователю"
   ]
  },
  {
   "cell_type": "markdown",
   "metadata": {},
   "source": [
    "Объединим в одну таблицу данные, которые мы подготовили на предыдущем шаге:"
   ]
  },
  {
   "cell_type": "code",
   "execution_count": 28,
   "metadata": {
    "scrolled": false
   },
   "outputs": [
    {
     "data": {
      "text/html": [
       "<div>\n",
       "<style scoped>\n",
       "    .dataframe tbody tr th:only-of-type {\n",
       "        vertical-align: middle;\n",
       "    }\n",
       "\n",
       "    .dataframe tbody tr th {\n",
       "        vertical-align: top;\n",
       "    }\n",
       "\n",
       "    .dataframe thead th {\n",
       "        text-align: right;\n",
       "    }\n",
       "</style>\n",
       "<table border=\"1\" class=\"dataframe\">\n",
       "  <thead>\n",
       "    <tr style=\"text-align: right;\">\n",
       "      <th></th>\n",
       "      <th></th>\n",
       "      <th>mb_used</th>\n",
       "      <th>calls_duration</th>\n",
       "      <th>calls_count</th>\n",
       "      <th>messages</th>\n",
       "    </tr>\n",
       "    <tr>\n",
       "      <th>user_id</th>\n",
       "      <th>month</th>\n",
       "      <th></th>\n",
       "      <th></th>\n",
       "      <th></th>\n",
       "      <th></th>\n",
       "    </tr>\n",
       "  </thead>\n",
       "  <tbody>\n",
       "    <tr>\n",
       "      <th rowspan=\"5\" valign=\"top\">1000</th>\n",
       "      <th>2018-05</th>\n",
       "      <td>2253.49</td>\n",
       "      <td>159.0</td>\n",
       "      <td>22.0</td>\n",
       "      <td>22.0</td>\n",
       "    </tr>\n",
       "    <tr>\n",
       "      <th>2018-06</th>\n",
       "      <td>23233.77</td>\n",
       "      <td>172.0</td>\n",
       "      <td>43.0</td>\n",
       "      <td>60.0</td>\n",
       "    </tr>\n",
       "    <tr>\n",
       "      <th>2018-07</th>\n",
       "      <td>14003.64</td>\n",
       "      <td>340.0</td>\n",
       "      <td>47.0</td>\n",
       "      <td>75.0</td>\n",
       "    </tr>\n",
       "    <tr>\n",
       "      <th>2018-08</th>\n",
       "      <td>14055.93</td>\n",
       "      <td>408.0</td>\n",
       "      <td>52.0</td>\n",
       "      <td>81.0</td>\n",
       "    </tr>\n",
       "    <tr>\n",
       "      <th>2018-09</th>\n",
       "      <td>14568.91</td>\n",
       "      <td>466.0</td>\n",
       "      <td>58.0</td>\n",
       "      <td>57.0</td>\n",
       "    </tr>\n",
       "    <tr>\n",
       "      <th>...</th>\n",
       "      <th>...</th>\n",
       "      <td>...</td>\n",
       "      <td>...</td>\n",
       "      <td>...</td>\n",
       "      <td>...</td>\n",
       "    </tr>\n",
       "    <tr>\n",
       "      <th>1498</th>\n",
       "      <th>2018-10</th>\n",
       "      <td>20579.36</td>\n",
       "      <td>247.0</td>\n",
       "      <td>41.0</td>\n",
       "      <td>42.0</td>\n",
       "    </tr>\n",
       "    <tr>\n",
       "      <th rowspan=\"4\" valign=\"top\">1499</th>\n",
       "      <th>2018-09</th>\n",
       "      <td>1845.75</td>\n",
       "      <td>70.0</td>\n",
       "      <td>9.0</td>\n",
       "      <td>11.0</td>\n",
       "    </tr>\n",
       "    <tr>\n",
       "      <th>2018-10</th>\n",
       "      <td>17788.51</td>\n",
       "      <td>449.0</td>\n",
       "      <td>68.0</td>\n",
       "      <td>48.0</td>\n",
       "    </tr>\n",
       "    <tr>\n",
       "      <th>2018-11</th>\n",
       "      <td>17963.31</td>\n",
       "      <td>612.0</td>\n",
       "      <td>74.0</td>\n",
       "      <td>59.0</td>\n",
       "    </tr>\n",
       "    <tr>\n",
       "      <th>2018-12</th>\n",
       "      <td>13055.58</td>\n",
       "      <td>492.0</td>\n",
       "      <td>69.0</td>\n",
       "      <td>66.0</td>\n",
       "    </tr>\n",
       "  </tbody>\n",
       "</table>\n",
       "<p>3214 rows × 4 columns</p>\n",
       "</div>"
      ],
      "text/plain": [
       "                  mb_used  calls_duration  calls_count  messages\n",
       "user_id month                                                   \n",
       "1000    2018-05   2253.49           159.0         22.0      22.0\n",
       "        2018-06  23233.77           172.0         43.0      60.0\n",
       "        2018-07  14003.64           340.0         47.0      75.0\n",
       "        2018-08  14055.93           408.0         52.0      81.0\n",
       "        2018-09  14568.91           466.0         58.0      57.0\n",
       "...                   ...             ...          ...       ...\n",
       "1498    2018-10  20579.36           247.0         41.0      42.0\n",
       "1499    2018-09   1845.75            70.0          9.0      11.0\n",
       "        2018-10  17788.51           449.0         68.0      48.0\n",
       "        2018-11  17963.31           612.0         74.0      59.0\n",
       "        2018-12  13055.58           492.0         69.0      66.0\n",
       "\n",
       "[3214 rows x 4 columns]"
      ]
     },
     "execution_count": 28,
     "metadata": {},
     "output_type": "execute_result"
    }
   ],
   "source": [
    "month_activity = internet_total.join([calls_total, sms_total], how='outer')\n",
    "\n",
    "month_activity"
   ]
  },
  {
   "cell_type": "markdown",
   "metadata": {},
   "source": [
    "Для дальнейшего объединения таблиц сбросим индексы:"
   ]
  },
  {
   "cell_type": "code",
   "execution_count": 29,
   "metadata": {},
   "outputs": [],
   "source": [
    "month_activity = month_activity.reset_index()"
   ]
  },
  {
   "cell_type": "code",
   "execution_count": 30,
   "metadata": {},
   "outputs": [
    {
     "data": {
      "text/plain": [
       "(3214, 6)"
      ]
     },
     "execution_count": 30,
     "metadata": {},
     "output_type": "execute_result"
    }
   ],
   "source": [
    "month_activity.shape"
   ]
  },
  {
   "cell_type": "code",
   "execution_count": 31,
   "metadata": {},
   "outputs": [
    {
     "data": {
      "text/plain": [
       "498"
      ]
     },
     "execution_count": 31,
     "metadata": {},
     "output_type": "execute_result"
    }
   ],
   "source": [
    "month_activity.user_id.nunique()"
   ]
  },
  {
   "cell_type": "markdown",
   "metadata": {},
   "source": [
    "Далее объединим созданную таблицу с таблицей `users`: "
   ]
  },
  {
   "cell_type": "code",
   "execution_count": 32,
   "metadata": {
    "scrolled": false
   },
   "outputs": [
    {
     "data": {
      "text/html": [
       "<div>\n",
       "<style scoped>\n",
       "    .dataframe tbody tr th:only-of-type {\n",
       "        vertical-align: middle;\n",
       "    }\n",
       "\n",
       "    .dataframe tbody tr th {\n",
       "        vertical-align: top;\n",
       "    }\n",
       "\n",
       "    .dataframe thead th {\n",
       "        text-align: right;\n",
       "    }\n",
       "</style>\n",
       "<table border=\"1\" class=\"dataframe\">\n",
       "  <thead>\n",
       "    <tr style=\"text-align: right;\">\n",
       "      <th></th>\n",
       "      <th>user_id</th>\n",
       "      <th>month</th>\n",
       "      <th>mb_used</th>\n",
       "      <th>calls_duration</th>\n",
       "      <th>calls_count</th>\n",
       "      <th>messages</th>\n",
       "      <th>age</th>\n",
       "      <th>churn_date</th>\n",
       "      <th>city</th>\n",
       "      <th>first_name</th>\n",
       "      <th>last_name</th>\n",
       "      <th>reg_date</th>\n",
       "      <th>tariff</th>\n",
       "    </tr>\n",
       "  </thead>\n",
       "  <tbody>\n",
       "    <tr>\n",
       "      <th>0</th>\n",
       "      <td>1000</td>\n",
       "      <td>2018-05</td>\n",
       "      <td>2253.49</td>\n",
       "      <td>159.0</td>\n",
       "      <td>22.0</td>\n",
       "      <td>22.0</td>\n",
       "      <td>52</td>\n",
       "      <td>NaN</td>\n",
       "      <td>Краснодар</td>\n",
       "      <td>Рафаил</td>\n",
       "      <td>Верещагин</td>\n",
       "      <td>2018-05-25</td>\n",
       "      <td>ultra</td>\n",
       "    </tr>\n",
       "    <tr>\n",
       "      <th>1</th>\n",
       "      <td>1000</td>\n",
       "      <td>2018-06</td>\n",
       "      <td>23233.77</td>\n",
       "      <td>172.0</td>\n",
       "      <td>43.0</td>\n",
       "      <td>60.0</td>\n",
       "      <td>52</td>\n",
       "      <td>NaN</td>\n",
       "      <td>Краснодар</td>\n",
       "      <td>Рафаил</td>\n",
       "      <td>Верещагин</td>\n",
       "      <td>2018-05-25</td>\n",
       "      <td>ultra</td>\n",
       "    </tr>\n",
       "    <tr>\n",
       "      <th>2</th>\n",
       "      <td>1000</td>\n",
       "      <td>2018-07</td>\n",
       "      <td>14003.64</td>\n",
       "      <td>340.0</td>\n",
       "      <td>47.0</td>\n",
       "      <td>75.0</td>\n",
       "      <td>52</td>\n",
       "      <td>NaN</td>\n",
       "      <td>Краснодар</td>\n",
       "      <td>Рафаил</td>\n",
       "      <td>Верещагин</td>\n",
       "      <td>2018-05-25</td>\n",
       "      <td>ultra</td>\n",
       "    </tr>\n",
       "    <tr>\n",
       "      <th>3</th>\n",
       "      <td>1000</td>\n",
       "      <td>2018-08</td>\n",
       "      <td>14055.93</td>\n",
       "      <td>408.0</td>\n",
       "      <td>52.0</td>\n",
       "      <td>81.0</td>\n",
       "      <td>52</td>\n",
       "      <td>NaN</td>\n",
       "      <td>Краснодар</td>\n",
       "      <td>Рафаил</td>\n",
       "      <td>Верещагин</td>\n",
       "      <td>2018-05-25</td>\n",
       "      <td>ultra</td>\n",
       "    </tr>\n",
       "    <tr>\n",
       "      <th>4</th>\n",
       "      <td>1000</td>\n",
       "      <td>2018-09</td>\n",
       "      <td>14568.91</td>\n",
       "      <td>466.0</td>\n",
       "      <td>58.0</td>\n",
       "      <td>57.0</td>\n",
       "      <td>52</td>\n",
       "      <td>NaN</td>\n",
       "      <td>Краснодар</td>\n",
       "      <td>Рафаил</td>\n",
       "      <td>Верещагин</td>\n",
       "      <td>2018-05-25</td>\n",
       "      <td>ultra</td>\n",
       "    </tr>\n",
       "    <tr>\n",
       "      <th>...</th>\n",
       "      <td>...</td>\n",
       "      <td>...</td>\n",
       "      <td>...</td>\n",
       "      <td>...</td>\n",
       "      <td>...</td>\n",
       "      <td>...</td>\n",
       "      <td>...</td>\n",
       "      <td>...</td>\n",
       "      <td>...</td>\n",
       "      <td>...</td>\n",
       "      <td>...</td>\n",
       "      <td>...</td>\n",
       "      <td>...</td>\n",
       "    </tr>\n",
       "    <tr>\n",
       "      <th>3209</th>\n",
       "      <td>1498</td>\n",
       "      <td>2018-10</td>\n",
       "      <td>20579.36</td>\n",
       "      <td>247.0</td>\n",
       "      <td>41.0</td>\n",
       "      <td>42.0</td>\n",
       "      <td>68</td>\n",
       "      <td>2018-10-25</td>\n",
       "      <td>Владикавказ</td>\n",
       "      <td>Всеволод</td>\n",
       "      <td>Акимчин</td>\n",
       "      <td>2018-07-19</td>\n",
       "      <td>smart</td>\n",
       "    </tr>\n",
       "    <tr>\n",
       "      <th>3210</th>\n",
       "      <td>1499</td>\n",
       "      <td>2018-09</td>\n",
       "      <td>1845.75</td>\n",
       "      <td>70.0</td>\n",
       "      <td>9.0</td>\n",
       "      <td>11.0</td>\n",
       "      <td>35</td>\n",
       "      <td>NaN</td>\n",
       "      <td>Пермь</td>\n",
       "      <td>Гектор</td>\n",
       "      <td>Корнилов</td>\n",
       "      <td>2018-09-27</td>\n",
       "      <td>smart</td>\n",
       "    </tr>\n",
       "    <tr>\n",
       "      <th>3211</th>\n",
       "      <td>1499</td>\n",
       "      <td>2018-10</td>\n",
       "      <td>17788.51</td>\n",
       "      <td>449.0</td>\n",
       "      <td>68.0</td>\n",
       "      <td>48.0</td>\n",
       "      <td>35</td>\n",
       "      <td>NaN</td>\n",
       "      <td>Пермь</td>\n",
       "      <td>Гектор</td>\n",
       "      <td>Корнилов</td>\n",
       "      <td>2018-09-27</td>\n",
       "      <td>smart</td>\n",
       "    </tr>\n",
       "    <tr>\n",
       "      <th>3212</th>\n",
       "      <td>1499</td>\n",
       "      <td>2018-11</td>\n",
       "      <td>17963.31</td>\n",
       "      <td>612.0</td>\n",
       "      <td>74.0</td>\n",
       "      <td>59.0</td>\n",
       "      <td>35</td>\n",
       "      <td>NaN</td>\n",
       "      <td>Пермь</td>\n",
       "      <td>Гектор</td>\n",
       "      <td>Корнилов</td>\n",
       "      <td>2018-09-27</td>\n",
       "      <td>smart</td>\n",
       "    </tr>\n",
       "    <tr>\n",
       "      <th>3213</th>\n",
       "      <td>1499</td>\n",
       "      <td>2018-12</td>\n",
       "      <td>13055.58</td>\n",
       "      <td>492.0</td>\n",
       "      <td>69.0</td>\n",
       "      <td>66.0</td>\n",
       "      <td>35</td>\n",
       "      <td>NaN</td>\n",
       "      <td>Пермь</td>\n",
       "      <td>Гектор</td>\n",
       "      <td>Корнилов</td>\n",
       "      <td>2018-09-27</td>\n",
       "      <td>smart</td>\n",
       "    </tr>\n",
       "  </tbody>\n",
       "</table>\n",
       "<p>3214 rows × 13 columns</p>\n",
       "</div>"
      ],
      "text/plain": [
       "      user_id    month   mb_used  calls_duration  calls_count  messages  age  \\\n",
       "0        1000  2018-05   2253.49           159.0         22.0      22.0   52   \n",
       "1        1000  2018-06  23233.77           172.0         43.0      60.0   52   \n",
       "2        1000  2018-07  14003.64           340.0         47.0      75.0   52   \n",
       "3        1000  2018-08  14055.93           408.0         52.0      81.0   52   \n",
       "4        1000  2018-09  14568.91           466.0         58.0      57.0   52   \n",
       "...       ...      ...       ...             ...          ...       ...  ...   \n",
       "3209     1498  2018-10  20579.36           247.0         41.0      42.0   68   \n",
       "3210     1499  2018-09   1845.75            70.0          9.0      11.0   35   \n",
       "3211     1499  2018-10  17788.51           449.0         68.0      48.0   35   \n",
       "3212     1499  2018-11  17963.31           612.0         74.0      59.0   35   \n",
       "3213     1499  2018-12  13055.58           492.0         69.0      66.0   35   \n",
       "\n",
       "      churn_date         city first_name  last_name   reg_date tariff  \n",
       "0            NaN    Краснодар     Рафаил  Верещагин 2018-05-25  ultra  \n",
       "1            NaN    Краснодар     Рафаил  Верещагин 2018-05-25  ultra  \n",
       "2            NaN    Краснодар     Рафаил  Верещагин 2018-05-25  ultra  \n",
       "3            NaN    Краснодар     Рафаил  Верещагин 2018-05-25  ultra  \n",
       "4            NaN    Краснодар     Рафаил  Верещагин 2018-05-25  ultra  \n",
       "...          ...          ...        ...        ...        ...    ...  \n",
       "3209  2018-10-25  Владикавказ   Всеволод    Акимчин 2018-07-19  smart  \n",
       "3210         NaN        Пермь     Гектор   Корнилов 2018-09-27  smart  \n",
       "3211         NaN        Пермь     Гектор   Корнилов 2018-09-27  smart  \n",
       "3212         NaN        Пермь     Гектор   Корнилов 2018-09-27  smart  \n",
       "3213         NaN        Пермь     Гектор   Корнилов 2018-09-27  smart  \n",
       "\n",
       "[3214 rows x 13 columns]"
      ]
     },
     "execution_count": 32,
     "metadata": {},
     "output_type": "execute_result"
    }
   ],
   "source": [
    "users_month_activity = pd.merge(month_activity, users, how='left', on='user_id')\n",
    "users_month_activity"
   ]
  },
  {
   "cell_type": "markdown",
   "metadata": {},
   "source": [
    "И в завершении добавим в таблицу данные о тарифных планах из таблицы `tariff`:"
   ]
  },
  {
   "cell_type": "code",
   "execution_count": 33,
   "metadata": {
    "scrolled": false
   },
   "outputs": [
    {
     "data": {
      "text/html": [
       "<div>\n",
       "<style scoped>\n",
       "    .dataframe tbody tr th:only-of-type {\n",
       "        vertical-align: middle;\n",
       "    }\n",
       "\n",
       "    .dataframe tbody tr th {\n",
       "        vertical-align: top;\n",
       "    }\n",
       "\n",
       "    .dataframe thead th {\n",
       "        text-align: right;\n",
       "    }\n",
       "</style>\n",
       "<table border=\"1\" class=\"dataframe\">\n",
       "  <thead>\n",
       "    <tr style=\"text-align: right;\">\n",
       "      <th></th>\n",
       "      <th>user_id</th>\n",
       "      <th>month</th>\n",
       "      <th>mb_used</th>\n",
       "      <th>calls_duration</th>\n",
       "      <th>calls_count</th>\n",
       "      <th>messages</th>\n",
       "      <th>age</th>\n",
       "      <th>churn_date</th>\n",
       "      <th>city</th>\n",
       "      <th>first_name</th>\n",
       "      <th>...</th>\n",
       "      <th>reg_date</th>\n",
       "      <th>tariff</th>\n",
       "      <th>messages_included</th>\n",
       "      <th>mb_per_month_included</th>\n",
       "      <th>minutes_included</th>\n",
       "      <th>rub_monthly_fee</th>\n",
       "      <th>rub_per_gb</th>\n",
       "      <th>rub_per_message</th>\n",
       "      <th>rub_per_minute</th>\n",
       "      <th>tariff_name</th>\n",
       "    </tr>\n",
       "  </thead>\n",
       "  <tbody>\n",
       "    <tr>\n",
       "      <th>0</th>\n",
       "      <td>1000</td>\n",
       "      <td>2018-05</td>\n",
       "      <td>2253.49</td>\n",
       "      <td>159.0</td>\n",
       "      <td>22.0</td>\n",
       "      <td>22.0</td>\n",
       "      <td>52</td>\n",
       "      <td>NaN</td>\n",
       "      <td>Краснодар</td>\n",
       "      <td>Рафаил</td>\n",
       "      <td>...</td>\n",
       "      <td>2018-05-25</td>\n",
       "      <td>ultra</td>\n",
       "      <td>1000</td>\n",
       "      <td>30720</td>\n",
       "      <td>3000</td>\n",
       "      <td>1950</td>\n",
       "      <td>150</td>\n",
       "      <td>1</td>\n",
       "      <td>1</td>\n",
       "      <td>ultra</td>\n",
       "    </tr>\n",
       "    <tr>\n",
       "      <th>1</th>\n",
       "      <td>1000</td>\n",
       "      <td>2018-06</td>\n",
       "      <td>23233.77</td>\n",
       "      <td>172.0</td>\n",
       "      <td>43.0</td>\n",
       "      <td>60.0</td>\n",
       "      <td>52</td>\n",
       "      <td>NaN</td>\n",
       "      <td>Краснодар</td>\n",
       "      <td>Рафаил</td>\n",
       "      <td>...</td>\n",
       "      <td>2018-05-25</td>\n",
       "      <td>ultra</td>\n",
       "      <td>1000</td>\n",
       "      <td>30720</td>\n",
       "      <td>3000</td>\n",
       "      <td>1950</td>\n",
       "      <td>150</td>\n",
       "      <td>1</td>\n",
       "      <td>1</td>\n",
       "      <td>ultra</td>\n",
       "    </tr>\n",
       "    <tr>\n",
       "      <th>2</th>\n",
       "      <td>1000</td>\n",
       "      <td>2018-07</td>\n",
       "      <td>14003.64</td>\n",
       "      <td>340.0</td>\n",
       "      <td>47.0</td>\n",
       "      <td>75.0</td>\n",
       "      <td>52</td>\n",
       "      <td>NaN</td>\n",
       "      <td>Краснодар</td>\n",
       "      <td>Рафаил</td>\n",
       "      <td>...</td>\n",
       "      <td>2018-05-25</td>\n",
       "      <td>ultra</td>\n",
       "      <td>1000</td>\n",
       "      <td>30720</td>\n",
       "      <td>3000</td>\n",
       "      <td>1950</td>\n",
       "      <td>150</td>\n",
       "      <td>1</td>\n",
       "      <td>1</td>\n",
       "      <td>ultra</td>\n",
       "    </tr>\n",
       "    <tr>\n",
       "      <th>3</th>\n",
       "      <td>1000</td>\n",
       "      <td>2018-08</td>\n",
       "      <td>14055.93</td>\n",
       "      <td>408.0</td>\n",
       "      <td>52.0</td>\n",
       "      <td>81.0</td>\n",
       "      <td>52</td>\n",
       "      <td>NaN</td>\n",
       "      <td>Краснодар</td>\n",
       "      <td>Рафаил</td>\n",
       "      <td>...</td>\n",
       "      <td>2018-05-25</td>\n",
       "      <td>ultra</td>\n",
       "      <td>1000</td>\n",
       "      <td>30720</td>\n",
       "      <td>3000</td>\n",
       "      <td>1950</td>\n",
       "      <td>150</td>\n",
       "      <td>1</td>\n",
       "      <td>1</td>\n",
       "      <td>ultra</td>\n",
       "    </tr>\n",
       "    <tr>\n",
       "      <th>4</th>\n",
       "      <td>1000</td>\n",
       "      <td>2018-09</td>\n",
       "      <td>14568.91</td>\n",
       "      <td>466.0</td>\n",
       "      <td>58.0</td>\n",
       "      <td>57.0</td>\n",
       "      <td>52</td>\n",
       "      <td>NaN</td>\n",
       "      <td>Краснодар</td>\n",
       "      <td>Рафаил</td>\n",
       "      <td>...</td>\n",
       "      <td>2018-05-25</td>\n",
       "      <td>ultra</td>\n",
       "      <td>1000</td>\n",
       "      <td>30720</td>\n",
       "      <td>3000</td>\n",
       "      <td>1950</td>\n",
       "      <td>150</td>\n",
       "      <td>1</td>\n",
       "      <td>1</td>\n",
       "      <td>ultra</td>\n",
       "    </tr>\n",
       "    <tr>\n",
       "      <th>...</th>\n",
       "      <td>...</td>\n",
       "      <td>...</td>\n",
       "      <td>...</td>\n",
       "      <td>...</td>\n",
       "      <td>...</td>\n",
       "      <td>...</td>\n",
       "      <td>...</td>\n",
       "      <td>...</td>\n",
       "      <td>...</td>\n",
       "      <td>...</td>\n",
       "      <td>...</td>\n",
       "      <td>...</td>\n",
       "      <td>...</td>\n",
       "      <td>...</td>\n",
       "      <td>...</td>\n",
       "      <td>...</td>\n",
       "      <td>...</td>\n",
       "      <td>...</td>\n",
       "      <td>...</td>\n",
       "      <td>...</td>\n",
       "      <td>...</td>\n",
       "    </tr>\n",
       "    <tr>\n",
       "      <th>3209</th>\n",
       "      <td>1498</td>\n",
       "      <td>2018-10</td>\n",
       "      <td>20579.36</td>\n",
       "      <td>247.0</td>\n",
       "      <td>41.0</td>\n",
       "      <td>42.0</td>\n",
       "      <td>68</td>\n",
       "      <td>2018-10-25</td>\n",
       "      <td>Владикавказ</td>\n",
       "      <td>Всеволод</td>\n",
       "      <td>...</td>\n",
       "      <td>2018-07-19</td>\n",
       "      <td>smart</td>\n",
       "      <td>50</td>\n",
       "      <td>15360</td>\n",
       "      <td>500</td>\n",
       "      <td>550</td>\n",
       "      <td>200</td>\n",
       "      <td>3</td>\n",
       "      <td>3</td>\n",
       "      <td>smart</td>\n",
       "    </tr>\n",
       "    <tr>\n",
       "      <th>3210</th>\n",
       "      <td>1499</td>\n",
       "      <td>2018-09</td>\n",
       "      <td>1845.75</td>\n",
       "      <td>70.0</td>\n",
       "      <td>9.0</td>\n",
       "      <td>11.0</td>\n",
       "      <td>35</td>\n",
       "      <td>NaN</td>\n",
       "      <td>Пермь</td>\n",
       "      <td>Гектор</td>\n",
       "      <td>...</td>\n",
       "      <td>2018-09-27</td>\n",
       "      <td>smart</td>\n",
       "      <td>50</td>\n",
       "      <td>15360</td>\n",
       "      <td>500</td>\n",
       "      <td>550</td>\n",
       "      <td>200</td>\n",
       "      <td>3</td>\n",
       "      <td>3</td>\n",
       "      <td>smart</td>\n",
       "    </tr>\n",
       "    <tr>\n",
       "      <th>3211</th>\n",
       "      <td>1499</td>\n",
       "      <td>2018-10</td>\n",
       "      <td>17788.51</td>\n",
       "      <td>449.0</td>\n",
       "      <td>68.0</td>\n",
       "      <td>48.0</td>\n",
       "      <td>35</td>\n",
       "      <td>NaN</td>\n",
       "      <td>Пермь</td>\n",
       "      <td>Гектор</td>\n",
       "      <td>...</td>\n",
       "      <td>2018-09-27</td>\n",
       "      <td>smart</td>\n",
       "      <td>50</td>\n",
       "      <td>15360</td>\n",
       "      <td>500</td>\n",
       "      <td>550</td>\n",
       "      <td>200</td>\n",
       "      <td>3</td>\n",
       "      <td>3</td>\n",
       "      <td>smart</td>\n",
       "    </tr>\n",
       "    <tr>\n",
       "      <th>3212</th>\n",
       "      <td>1499</td>\n",
       "      <td>2018-11</td>\n",
       "      <td>17963.31</td>\n",
       "      <td>612.0</td>\n",
       "      <td>74.0</td>\n",
       "      <td>59.0</td>\n",
       "      <td>35</td>\n",
       "      <td>NaN</td>\n",
       "      <td>Пермь</td>\n",
       "      <td>Гектор</td>\n",
       "      <td>...</td>\n",
       "      <td>2018-09-27</td>\n",
       "      <td>smart</td>\n",
       "      <td>50</td>\n",
       "      <td>15360</td>\n",
       "      <td>500</td>\n",
       "      <td>550</td>\n",
       "      <td>200</td>\n",
       "      <td>3</td>\n",
       "      <td>3</td>\n",
       "      <td>smart</td>\n",
       "    </tr>\n",
       "    <tr>\n",
       "      <th>3213</th>\n",
       "      <td>1499</td>\n",
       "      <td>2018-12</td>\n",
       "      <td>13055.58</td>\n",
       "      <td>492.0</td>\n",
       "      <td>69.0</td>\n",
       "      <td>66.0</td>\n",
       "      <td>35</td>\n",
       "      <td>NaN</td>\n",
       "      <td>Пермь</td>\n",
       "      <td>Гектор</td>\n",
       "      <td>...</td>\n",
       "      <td>2018-09-27</td>\n",
       "      <td>smart</td>\n",
       "      <td>50</td>\n",
       "      <td>15360</td>\n",
       "      <td>500</td>\n",
       "      <td>550</td>\n",
       "      <td>200</td>\n",
       "      <td>3</td>\n",
       "      <td>3</td>\n",
       "      <td>smart</td>\n",
       "    </tr>\n",
       "  </tbody>\n",
       "</table>\n",
       "<p>3214 rows × 21 columns</p>\n",
       "</div>"
      ],
      "text/plain": [
       "      user_id    month   mb_used  calls_duration  calls_count  messages  age  \\\n",
       "0        1000  2018-05   2253.49           159.0         22.0      22.0   52   \n",
       "1        1000  2018-06  23233.77           172.0         43.0      60.0   52   \n",
       "2        1000  2018-07  14003.64           340.0         47.0      75.0   52   \n",
       "3        1000  2018-08  14055.93           408.0         52.0      81.0   52   \n",
       "4        1000  2018-09  14568.91           466.0         58.0      57.0   52   \n",
       "...       ...      ...       ...             ...          ...       ...  ...   \n",
       "3209     1498  2018-10  20579.36           247.0         41.0      42.0   68   \n",
       "3210     1499  2018-09   1845.75            70.0          9.0      11.0   35   \n",
       "3211     1499  2018-10  17788.51           449.0         68.0      48.0   35   \n",
       "3212     1499  2018-11  17963.31           612.0         74.0      59.0   35   \n",
       "3213     1499  2018-12  13055.58           492.0         69.0      66.0   35   \n",
       "\n",
       "      churn_date         city first_name  ...   reg_date tariff  \\\n",
       "0            NaN    Краснодар     Рафаил  ... 2018-05-25  ultra   \n",
       "1            NaN    Краснодар     Рафаил  ... 2018-05-25  ultra   \n",
       "2            NaN    Краснодар     Рафаил  ... 2018-05-25  ultra   \n",
       "3            NaN    Краснодар     Рафаил  ... 2018-05-25  ultra   \n",
       "4            NaN    Краснодар     Рафаил  ... 2018-05-25  ultra   \n",
       "...          ...          ...        ...  ...        ...    ...   \n",
       "3209  2018-10-25  Владикавказ   Всеволод  ... 2018-07-19  smart   \n",
       "3210         NaN        Пермь     Гектор  ... 2018-09-27  smart   \n",
       "3211         NaN        Пермь     Гектор  ... 2018-09-27  smart   \n",
       "3212         NaN        Пермь     Гектор  ... 2018-09-27  smart   \n",
       "3213         NaN        Пермь     Гектор  ... 2018-09-27  smart   \n",
       "\n",
       "     messages_included  mb_per_month_included  minutes_included  \\\n",
       "0                 1000                  30720              3000   \n",
       "1                 1000                  30720              3000   \n",
       "2                 1000                  30720              3000   \n",
       "3                 1000                  30720              3000   \n",
       "4                 1000                  30720              3000   \n",
       "...                ...                    ...               ...   \n",
       "3209                50                  15360               500   \n",
       "3210                50                  15360               500   \n",
       "3211                50                  15360               500   \n",
       "3212                50                  15360               500   \n",
       "3213                50                  15360               500   \n",
       "\n",
       "      rub_monthly_fee  rub_per_gb  rub_per_message  rub_per_minute  \\\n",
       "0                1950         150                1               1   \n",
       "1                1950         150                1               1   \n",
       "2                1950         150                1               1   \n",
       "3                1950         150                1               1   \n",
       "4                1950         150                1               1   \n",
       "...               ...         ...              ...             ...   \n",
       "3209              550         200                3               3   \n",
       "3210              550         200                3               3   \n",
       "3211              550         200                3               3   \n",
       "3212              550         200                3               3   \n",
       "3213              550         200                3               3   \n",
       "\n",
       "      tariff_name  \n",
       "0           ultra  \n",
       "1           ultra  \n",
       "2           ultra  \n",
       "3           ultra  \n",
       "4           ultra  \n",
       "...           ...  \n",
       "3209        smart  \n",
       "3210        smart  \n",
       "3211        smart  \n",
       "3212        smart  \n",
       "3213        smart  \n",
       "\n",
       "[3214 rows x 21 columns]"
      ]
     },
     "execution_count": 33,
     "metadata": {},
     "output_type": "execute_result"
    }
   ],
   "source": [
    "total = pd.merge(users_month_activity, tariffs, how = 'left', left_on = 'tariff', right_on = 'tariff_name')\n",
    "total"
   ]
  },
  {
   "cell_type": "markdown",
   "metadata": {},
   "source": [
    "Проверим окончательную таблицу на наличие пропусков:"
   ]
  },
  {
   "cell_type": "code",
   "execution_count": 34,
   "metadata": {},
   "outputs": [
    {
     "data": {
      "text/plain": [
       "user_id                     0\n",
       "month                       0\n",
       "mb_used                    11\n",
       "calls_duration             40\n",
       "calls_count                40\n",
       "messages                  497\n",
       "age                         0\n",
       "churn_date               3027\n",
       "city                        0\n",
       "first_name                  0\n",
       "last_name                   0\n",
       "reg_date                    0\n",
       "tariff                      0\n",
       "messages_included           0\n",
       "mb_per_month_included       0\n",
       "minutes_included            0\n",
       "rub_monthly_fee             0\n",
       "rub_per_gb                  0\n",
       "rub_per_message             0\n",
       "rub_per_minute              0\n",
       "tariff_name                 0\n",
       "dtype: int64"
      ]
     },
     "execution_count": 34,
     "metadata": {},
     "output_type": "execute_result"
    }
   ],
   "source": [
    "total.isna().sum()"
   ]
  },
  {
   "cell_type": "markdown",
   "metadata": {},
   "source": [
    "Видим, что в результате объединения образовались пропуски в столбцах `calls_duration`, `calls_count`, `mb_used` и `messages`.\n",
    "\n",
    "Поскольку мы понимаем, что эти пропуски по сути являются обозначением \"нулевой активности\" пользователя, заполним их нулями:"
   ]
  },
  {
   "cell_type": "code",
   "execution_count": 35,
   "metadata": {},
   "outputs": [],
   "source": [
    "columns = ['calls_duration', 'calls_count', 'mb_used', 'messages']\n",
    "\n",
    "for col in columns:\n",
    "    total[col] = total[col].fillna(0)\n"
   ]
  },
  {
   "cell_type": "markdown",
   "metadata": {},
   "source": [
    "Напишем функцию, при помощи которой определим помесячную выручку с каждого пользователя:"
   ]
  },
  {
   "cell_type": "code",
   "execution_count": 36,
   "metadata": {},
   "outputs": [],
   "source": [
    "def revenue(row):\n",
    "    # присваиваем переменным значения строк из таблицы, соответствующих активности пользователей\n",
    "    min_spent = row['calls_duration']\n",
    "    mb_spent = row['mb_used']\n",
    "    sms_spent = row['messages']\n",
    "    # присваиваем значения, соответствующие тарифному плану\n",
    "    min_incl = row['minutes_included']\n",
    "    mb_incl = row['mb_per_month_included']\n",
    "    sms_incl = row['messages_included']\n",
    "    # присваиваем значение абонентской платы\n",
    "    month_fee = row['rub_monthly_fee']\n",
    "    # присваиваем значения тарификации сверх плана\n",
    "    rub_per_min = row['rub_per_minute']\n",
    "    rub_per_gb = row['rub_per_gb']\n",
    "    rub_per_sms = row['rub_per_message']\n",
    "    \n",
    "    # объявим переменные, куда будем вносить данные в случае \n",
    "    # перерасхода минут, трафика и сообщений сверх тарифного плана\n",
    "    overrun_min = 0\n",
    "    overrun_gb = 0\n",
    "    overrun_sms = 0\n",
    "    \n",
    "    # напишем цикл, в котором подсчитаем возможный перерасход минут, трафика и сообщений\n",
    "    # сверх лимита и просуммируем его с ежемесячной абонентской платой\n",
    "    if min_spent > min_incl:\n",
    "        overrun_min = (min_spent - min_incl) * rub_per_min\n",
    "    if mb_spent > mb_incl:\n",
    "        overrun_gb = np.ceil((mb_spent - mb_incl) / 1024) * rub_per_gb\n",
    "    if sms_spent > sms_incl:\n",
    "        overrun_sms = (sms_spent - sms_incl) * rub_per_sms\n",
    "    return month_fee + overrun_min + overrun_gb + overrun_sms"
   ]
  },
  {
   "cell_type": "markdown",
   "metadata": {},
   "source": [
    "Применим написанную выше функцию к таблице `total` и внесем полученные данные о выручке с каждого клиента в новый столбец `total_income`. Выведем случайные 10 строк таблицы и проверим полученные значения:"
   ]
  },
  {
   "cell_type": "code",
   "execution_count": 37,
   "metadata": {
    "scrolled": false
   },
   "outputs": [
    {
     "data": {
      "text/html": [
       "<div>\n",
       "<style scoped>\n",
       "    .dataframe tbody tr th:only-of-type {\n",
       "        vertical-align: middle;\n",
       "    }\n",
       "\n",
       "    .dataframe tbody tr th {\n",
       "        vertical-align: top;\n",
       "    }\n",
       "\n",
       "    .dataframe thead th {\n",
       "        text-align: right;\n",
       "    }\n",
       "</style>\n",
       "<table border=\"1\" class=\"dataframe\">\n",
       "  <thead>\n",
       "    <tr style=\"text-align: right;\">\n",
       "      <th></th>\n",
       "      <th>user_id</th>\n",
       "      <th>month</th>\n",
       "      <th>mb_used</th>\n",
       "      <th>calls_duration</th>\n",
       "      <th>calls_count</th>\n",
       "      <th>messages</th>\n",
       "      <th>age</th>\n",
       "      <th>churn_date</th>\n",
       "      <th>city</th>\n",
       "      <th>first_name</th>\n",
       "      <th>...</th>\n",
       "      <th>tariff</th>\n",
       "      <th>messages_included</th>\n",
       "      <th>mb_per_month_included</th>\n",
       "      <th>minutes_included</th>\n",
       "      <th>rub_monthly_fee</th>\n",
       "      <th>rub_per_gb</th>\n",
       "      <th>rub_per_message</th>\n",
       "      <th>rub_per_minute</th>\n",
       "      <th>tariff_name</th>\n",
       "      <th>total_income</th>\n",
       "    </tr>\n",
       "  </thead>\n",
       "  <tbody>\n",
       "    <tr>\n",
       "      <th>2650</th>\n",
       "      <td>1413</td>\n",
       "      <td>2018-10</td>\n",
       "      <td>26911.10</td>\n",
       "      <td>193.0</td>\n",
       "      <td>25.0</td>\n",
       "      <td>4.0</td>\n",
       "      <td>37</td>\n",
       "      <td>NaN</td>\n",
       "      <td>Новосибирск</td>\n",
       "      <td>Леон</td>\n",
       "      <td>...</td>\n",
       "      <td>smart</td>\n",
       "      <td>50</td>\n",
       "      <td>15360</td>\n",
       "      <td>500</td>\n",
       "      <td>550</td>\n",
       "      <td>200</td>\n",
       "      <td>3</td>\n",
       "      <td>3</td>\n",
       "      <td>smart</td>\n",
       "      <td>2950.0</td>\n",
       "    </tr>\n",
       "    <tr>\n",
       "      <th>1393</th>\n",
       "      <td>1218</td>\n",
       "      <td>2018-12</td>\n",
       "      <td>12283.42</td>\n",
       "      <td>378.0</td>\n",
       "      <td>57.0</td>\n",
       "      <td>16.0</td>\n",
       "      <td>71</td>\n",
       "      <td>NaN</td>\n",
       "      <td>Екатеринбург</td>\n",
       "      <td>Снежана</td>\n",
       "      <td>...</td>\n",
       "      <td>smart</td>\n",
       "      <td>50</td>\n",
       "      <td>15360</td>\n",
       "      <td>500</td>\n",
       "      <td>550</td>\n",
       "      <td>200</td>\n",
       "      <td>3</td>\n",
       "      <td>3</td>\n",
       "      <td>smart</td>\n",
       "      <td>550.0</td>\n",
       "    </tr>\n",
       "    <tr>\n",
       "      <th>1323</th>\n",
       "      <td>1207</td>\n",
       "      <td>2018-09</td>\n",
       "      <td>11084.43</td>\n",
       "      <td>530.0</td>\n",
       "      <td>69.0</td>\n",
       "      <td>25.0</td>\n",
       "      <td>57</td>\n",
       "      <td>NaN</td>\n",
       "      <td>Балашиха</td>\n",
       "      <td>Яна</td>\n",
       "      <td>...</td>\n",
       "      <td>smart</td>\n",
       "      <td>50</td>\n",
       "      <td>15360</td>\n",
       "      <td>500</td>\n",
       "      <td>550</td>\n",
       "      <td>200</td>\n",
       "      <td>3</td>\n",
       "      <td>3</td>\n",
       "      <td>smart</td>\n",
       "      <td>640.0</td>\n",
       "    </tr>\n",
       "    <tr>\n",
       "      <th>2755</th>\n",
       "      <td>1429</td>\n",
       "      <td>2018-01</td>\n",
       "      <td>2147.23</td>\n",
       "      <td>70.0</td>\n",
       "      <td>10.0</td>\n",
       "      <td>0.0</td>\n",
       "      <td>54</td>\n",
       "      <td>NaN</td>\n",
       "      <td>Санкт-Петербург</td>\n",
       "      <td>Джулия</td>\n",
       "      <td>...</td>\n",
       "      <td>smart</td>\n",
       "      <td>50</td>\n",
       "      <td>15360</td>\n",
       "      <td>500</td>\n",
       "      <td>550</td>\n",
       "      <td>200</td>\n",
       "      <td>3</td>\n",
       "      <td>3</td>\n",
       "      <td>smart</td>\n",
       "      <td>550.0</td>\n",
       "    </tr>\n",
       "    <tr>\n",
       "      <th>253</th>\n",
       "      <td>1040</td>\n",
       "      <td>2018-09</td>\n",
       "      <td>16263.28</td>\n",
       "      <td>254.0</td>\n",
       "      <td>30.0</td>\n",
       "      <td>0.0</td>\n",
       "      <td>23</td>\n",
       "      <td>NaN</td>\n",
       "      <td>Сочи</td>\n",
       "      <td>Юрий</td>\n",
       "      <td>...</td>\n",
       "      <td>smart</td>\n",
       "      <td>50</td>\n",
       "      <td>15360</td>\n",
       "      <td>500</td>\n",
       "      <td>550</td>\n",
       "      <td>200</td>\n",
       "      <td>3</td>\n",
       "      <td>3</td>\n",
       "      <td>smart</td>\n",
       "      <td>750.0</td>\n",
       "    </tr>\n",
       "    <tr>\n",
       "      <th>923</th>\n",
       "      <td>1146</td>\n",
       "      <td>2018-09</td>\n",
       "      <td>12840.32</td>\n",
       "      <td>424.0</td>\n",
       "      <td>60.0</td>\n",
       "      <td>90.0</td>\n",
       "      <td>72</td>\n",
       "      <td>NaN</td>\n",
       "      <td>Санкт-Петербург</td>\n",
       "      <td>Владислав</td>\n",
       "      <td>...</td>\n",
       "      <td>smart</td>\n",
       "      <td>50</td>\n",
       "      <td>15360</td>\n",
       "      <td>500</td>\n",
       "      <td>550</td>\n",
       "      <td>200</td>\n",
       "      <td>3</td>\n",
       "      <td>3</td>\n",
       "      <td>smart</td>\n",
       "      <td>670.0</td>\n",
       "    </tr>\n",
       "    <tr>\n",
       "      <th>1832</th>\n",
       "      <td>1290</td>\n",
       "      <td>2018-06</td>\n",
       "      <td>23089.56</td>\n",
       "      <td>452.0</td>\n",
       "      <td>61.0</td>\n",
       "      <td>0.0</td>\n",
       "      <td>68</td>\n",
       "      <td>NaN</td>\n",
       "      <td>Нижний Новгород</td>\n",
       "      <td>Арсений</td>\n",
       "      <td>...</td>\n",
       "      <td>smart</td>\n",
       "      <td>50</td>\n",
       "      <td>15360</td>\n",
       "      <td>500</td>\n",
       "      <td>550</td>\n",
       "      <td>200</td>\n",
       "      <td>3</td>\n",
       "      <td>3</td>\n",
       "      <td>smart</td>\n",
       "      <td>2150.0</td>\n",
       "    </tr>\n",
       "    <tr>\n",
       "      <th>638</th>\n",
       "      <td>1100</td>\n",
       "      <td>2018-11</td>\n",
       "      <td>17120.23</td>\n",
       "      <td>530.0</td>\n",
       "      <td>75.0</td>\n",
       "      <td>49.0</td>\n",
       "      <td>58</td>\n",
       "      <td>NaN</td>\n",
       "      <td>Санкт-Петербург</td>\n",
       "      <td>Руслан</td>\n",
       "      <td>...</td>\n",
       "      <td>smart</td>\n",
       "      <td>50</td>\n",
       "      <td>15360</td>\n",
       "      <td>500</td>\n",
       "      <td>550</td>\n",
       "      <td>200</td>\n",
       "      <td>3</td>\n",
       "      <td>3</td>\n",
       "      <td>smart</td>\n",
       "      <td>1040.0</td>\n",
       "    </tr>\n",
       "    <tr>\n",
       "      <th>2619</th>\n",
       "      <td>1408</td>\n",
       "      <td>2018-12</td>\n",
       "      <td>14368.30</td>\n",
       "      <td>541.0</td>\n",
       "      <td>85.0</td>\n",
       "      <td>4.0</td>\n",
       "      <td>53</td>\n",
       "      <td>NaN</td>\n",
       "      <td>Самара</td>\n",
       "      <td>Касьян</td>\n",
       "      <td>...</td>\n",
       "      <td>smart</td>\n",
       "      <td>50</td>\n",
       "      <td>15360</td>\n",
       "      <td>500</td>\n",
       "      <td>550</td>\n",
       "      <td>200</td>\n",
       "      <td>3</td>\n",
       "      <td>3</td>\n",
       "      <td>smart</td>\n",
       "      <td>673.0</td>\n",
       "    </tr>\n",
       "    <tr>\n",
       "      <th>1392</th>\n",
       "      <td>1218</td>\n",
       "      <td>2018-11</td>\n",
       "      <td>10648.30</td>\n",
       "      <td>353.0</td>\n",
       "      <td>55.0</td>\n",
       "      <td>15.0</td>\n",
       "      <td>71</td>\n",
       "      <td>NaN</td>\n",
       "      <td>Екатеринбург</td>\n",
       "      <td>Снежана</td>\n",
       "      <td>...</td>\n",
       "      <td>smart</td>\n",
       "      <td>50</td>\n",
       "      <td>15360</td>\n",
       "      <td>500</td>\n",
       "      <td>550</td>\n",
       "      <td>200</td>\n",
       "      <td>3</td>\n",
       "      <td>3</td>\n",
       "      <td>smart</td>\n",
       "      <td>550.0</td>\n",
       "    </tr>\n",
       "  </tbody>\n",
       "</table>\n",
       "<p>10 rows × 22 columns</p>\n",
       "</div>"
      ],
      "text/plain": [
       "      user_id    month   mb_used  calls_duration  calls_count  messages  age  \\\n",
       "2650     1413  2018-10  26911.10           193.0         25.0       4.0   37   \n",
       "1393     1218  2018-12  12283.42           378.0         57.0      16.0   71   \n",
       "1323     1207  2018-09  11084.43           530.0         69.0      25.0   57   \n",
       "2755     1429  2018-01   2147.23            70.0         10.0       0.0   54   \n",
       "253      1040  2018-09  16263.28           254.0         30.0       0.0   23   \n",
       "923      1146  2018-09  12840.32           424.0         60.0      90.0   72   \n",
       "1832     1290  2018-06  23089.56           452.0         61.0       0.0   68   \n",
       "638      1100  2018-11  17120.23           530.0         75.0      49.0   58   \n",
       "2619     1408  2018-12  14368.30           541.0         85.0       4.0   53   \n",
       "1392     1218  2018-11  10648.30           353.0         55.0      15.0   71   \n",
       "\n",
       "     churn_date             city first_name  ... tariff messages_included  \\\n",
       "2650        NaN      Новосибирск       Леон  ...  smart                50   \n",
       "1393        NaN     Екатеринбург    Снежана  ...  smart                50   \n",
       "1323        NaN         Балашиха        Яна  ...  smart                50   \n",
       "2755        NaN  Санкт-Петербург     Джулия  ...  smart                50   \n",
       "253         NaN             Сочи       Юрий  ...  smart                50   \n",
       "923         NaN  Санкт-Петербург  Владислав  ...  smart                50   \n",
       "1832        NaN  Нижний Новгород    Арсений  ...  smart                50   \n",
       "638         NaN  Санкт-Петербург     Руслан  ...  smart                50   \n",
       "2619        NaN           Самара     Касьян  ...  smart                50   \n",
       "1392        NaN     Екатеринбург    Снежана  ...  smart                50   \n",
       "\n",
       "     mb_per_month_included  minutes_included  rub_monthly_fee  rub_per_gb  \\\n",
       "2650                 15360               500              550         200   \n",
       "1393                 15360               500              550         200   \n",
       "1323                 15360               500              550         200   \n",
       "2755                 15360               500              550         200   \n",
       "253                  15360               500              550         200   \n",
       "923                  15360               500              550         200   \n",
       "1832                 15360               500              550         200   \n",
       "638                  15360               500              550         200   \n",
       "2619                 15360               500              550         200   \n",
       "1392                 15360               500              550         200   \n",
       "\n",
       "      rub_per_message  rub_per_minute  tariff_name  total_income  \n",
       "2650                3               3        smart        2950.0  \n",
       "1393                3               3        smart         550.0  \n",
       "1323                3               3        smart         640.0  \n",
       "2755                3               3        smart         550.0  \n",
       "253                 3               3        smart         750.0  \n",
       "923                 3               3        smart         670.0  \n",
       "1832                3               3        smart        2150.0  \n",
       "638                 3               3        smart        1040.0  \n",
       "2619                3               3        smart         673.0  \n",
       "1392                3               3        smart         550.0  \n",
       "\n",
       "[10 rows x 22 columns]"
      ]
     },
     "execution_count": 37,
     "metadata": {},
     "output_type": "execute_result"
    }
   ],
   "source": [
    "total['total_income'] = total.apply(revenue, axis = 1)\n",
    "total.sample(10)"
   ]
  },
  {
   "cell_type": "code",
   "execution_count": 38,
   "metadata": {},
   "outputs": [
    {
     "data": {
      "text/plain": [
       "count    3214.000000\n",
       "mean     1529.076229\n",
       "std       798.251091\n",
       "min       550.000000\n",
       "25%       750.000000\n",
       "50%      1653.500000\n",
       "75%      1950.000000\n",
       "max      6770.000000\n",
       "Name: total_income, dtype: float64"
      ]
     },
     "execution_count": 38,
     "metadata": {},
     "output_type": "execute_result"
    }
   ],
   "source": [
    "total['total_income'].describe()"
   ]
  },
  {
   "cell_type": "markdown",
   "metadata": {},
   "source": [
    "На всякий случай еще раз проверим, не образовалось ли в нашей финальной таблице новых пропущенных значений:"
   ]
  },
  {
   "cell_type": "code",
   "execution_count": 39,
   "metadata": {},
   "outputs": [
    {
     "data": {
      "text/plain": [
       "user_id                     0\n",
       "month                       0\n",
       "mb_used                     0\n",
       "calls_duration              0\n",
       "calls_count                 0\n",
       "messages                    0\n",
       "age                         0\n",
       "churn_date               3027\n",
       "city                        0\n",
       "first_name                  0\n",
       "last_name                   0\n",
       "reg_date                    0\n",
       "tariff                      0\n",
       "messages_included           0\n",
       "mb_per_month_included       0\n",
       "minutes_included            0\n",
       "rub_monthly_fee             0\n",
       "rub_per_gb                  0\n",
       "rub_per_message             0\n",
       "rub_per_minute              0\n",
       "tariff_name                 0\n",
       "total_income                0\n",
       "dtype: int64"
      ]
     },
     "execution_count": 39,
     "metadata": {},
     "output_type": "execute_result"
    }
   ],
   "source": [
    "total.isnull().sum()"
   ]
  },
  {
   "cell_type": "markdown",
   "metadata": {},
   "source": [
    "**Вывод**"
   ]
  },
  {
   "cell_type": "markdown",
   "metadata": {},
   "source": [
    "Мы объединили несколько подготовленных таблиц в общую сводную таблицу `total`, в которой содержатся данные о сумме и продолжительности звонков, общем использованном трафике и количестве смс-сообщений, приходящихся на каждого пользователя по месяцам. \n",
    "\n",
    "Также в таблицу была добавлена расчитанная ежемесечная выручка с каждого пользователя.\n",
    "\n",
    "Таким образом у нас подготовлены все необходимые данные для проведения анализа, вычисления статистических характеристик и проверки гипотез. "
   ]
  },
  {
   "cell_type": "markdown",
   "metadata": {},
   "source": [
    "<a id=\"step5\"></a>\n",
    "## Анализ данных"
   ]
  },
  {
   "cell_type": "markdown",
   "metadata": {},
   "source": [
    "Для начала при помощи сводной таблицы посмотрим, какую прибыль принесли компании пользователи каждого из 2 тарифов:"
   ]
  },
  {
   "cell_type": "code",
   "execution_count": 40,
   "metadata": {},
   "outputs": [
    {
     "data": {
      "text/html": [
       "<div>\n",
       "<style scoped>\n",
       "    .dataframe tbody tr th:only-of-type {\n",
       "        vertical-align: middle;\n",
       "    }\n",
       "\n",
       "    .dataframe tbody tr th {\n",
       "        vertical-align: top;\n",
       "    }\n",
       "\n",
       "    .dataframe thead th {\n",
       "        text-align: right;\n",
       "    }\n",
       "</style>\n",
       "<table border=\"1\" class=\"dataframe\">\n",
       "  <thead>\n",
       "    <tr style=\"text-align: right;\">\n",
       "      <th></th>\n",
       "      <th>total_income</th>\n",
       "    </tr>\n",
       "    <tr>\n",
       "      <th>tariff_name</th>\n",
       "      <th></th>\n",
       "    </tr>\n",
       "  </thead>\n",
       "  <tbody>\n",
       "    <tr>\n",
       "      <th>smart</th>\n",
       "      <td>2875351.0</td>\n",
       "    </tr>\n",
       "    <tr>\n",
       "      <th>ultra</th>\n",
       "      <td>2039100.0</td>\n",
       "    </tr>\n",
       "  </tbody>\n",
       "</table>\n",
       "</div>"
      ],
      "text/plain": [
       "             total_income\n",
       "tariff_name              \n",
       "smart           2875351.0\n",
       "ultra           2039100.0"
      ]
     },
     "execution_count": 40,
     "metadata": {},
     "output_type": "execute_result"
    }
   ],
   "source": [
    "total.pivot_table(index='tariff_name', values='total_income', aggfunc='sum')"
   ]
  },
  {
   "cell_type": "markdown",
   "metadata": {},
   "source": [
    "Пользователи тарифа \"Смарт\" принесли компании 2.8 млн. руб., а пользователи тарифа \"Ультра\" - 1,9 млн. руб.\n",
    "\n",
    "Попробуем рассмотреть поведение разных пользователей, для чего создадим сводную таблицу с медианными значениями использованных минут, трафика и сообщений:"
   ]
  },
  {
   "cell_type": "code",
   "execution_count": 41,
   "metadata": {},
   "outputs": [
    {
     "data": {
      "text/html": [
       "<div>\n",
       "<style scoped>\n",
       "    .dataframe tbody tr th:only-of-type {\n",
       "        vertical-align: middle;\n",
       "    }\n",
       "\n",
       "    .dataframe tbody tr th {\n",
       "        vertical-align: top;\n",
       "    }\n",
       "\n",
       "    .dataframe thead th {\n",
       "        text-align: right;\n",
       "    }\n",
       "</style>\n",
       "<table border=\"1\" class=\"dataframe\">\n",
       "  <thead>\n",
       "    <tr style=\"text-align: right;\">\n",
       "      <th></th>\n",
       "      <th></th>\n",
       "      <th>calls_duration</th>\n",
       "      <th>mb_used</th>\n",
       "      <th>messages</th>\n",
       "    </tr>\n",
       "    <tr>\n",
       "      <th>user_id</th>\n",
       "      <th>tariff_name</th>\n",
       "      <th></th>\n",
       "      <th></th>\n",
       "      <th></th>\n",
       "    </tr>\n",
       "  </thead>\n",
       "  <tbody>\n",
       "    <tr>\n",
       "      <th>1000</th>\n",
       "      <th>ultra</th>\n",
       "      <td>339.0</td>\n",
       "      <td>14312.420</td>\n",
       "      <td>65.0</td>\n",
       "    </tr>\n",
       "    <tr>\n",
       "      <th>1001</th>\n",
       "      <th>smart</th>\n",
       "      <td>422.0</td>\n",
       "      <td>16233.000</td>\n",
       "      <td>0.0</td>\n",
       "    </tr>\n",
       "    <tr>\n",
       "      <th>1002</th>\n",
       "      <th>smart</th>\n",
       "      <td>214.0</td>\n",
       "      <td>17580.100</td>\n",
       "      <td>11.0</td>\n",
       "    </tr>\n",
       "    <tr>\n",
       "      <th>1003</th>\n",
       "      <th>ultra</th>\n",
       "      <td>824.0</td>\n",
       "      <td>11356.890</td>\n",
       "      <td>83.0</td>\n",
       "    </tr>\n",
       "    <tr>\n",
       "      <th>1004</th>\n",
       "      <th>ultra</th>\n",
       "      <td>132.5</td>\n",
       "      <td>17810.530</td>\n",
       "      <td>154.5</td>\n",
       "    </tr>\n",
       "    <tr>\n",
       "      <th>...</th>\n",
       "      <th>...</th>\n",
       "      <td>...</td>\n",
       "      <td>...</td>\n",
       "      <td>...</td>\n",
       "    </tr>\n",
       "    <tr>\n",
       "      <th>1495</th>\n",
       "      <th>ultra</th>\n",
       "      <td>954.0</td>\n",
       "      <td>29363.000</td>\n",
       "      <td>82.0</td>\n",
       "    </tr>\n",
       "    <tr>\n",
       "      <th>1496</th>\n",
       "      <th>smart</th>\n",
       "      <td>524.0</td>\n",
       "      <td>24037.255</td>\n",
       "      <td>41.5</td>\n",
       "    </tr>\n",
       "    <tr>\n",
       "      <th>1497</th>\n",
       "      <th>smart</th>\n",
       "      <td>490.0</td>\n",
       "      <td>14156.080</td>\n",
       "      <td>17.0</td>\n",
       "    </tr>\n",
       "    <tr>\n",
       "      <th>1498</th>\n",
       "      <th>smart</th>\n",
       "      <td>323.5</td>\n",
       "      <td>21356.885</td>\n",
       "      <td>43.0</td>\n",
       "    </tr>\n",
       "    <tr>\n",
       "      <th>1499</th>\n",
       "      <th>smart</th>\n",
       "      <td>470.5</td>\n",
       "      <td>15422.045</td>\n",
       "      <td>53.5</td>\n",
       "    </tr>\n",
       "  </tbody>\n",
       "</table>\n",
       "<p>498 rows × 3 columns</p>\n",
       "</div>"
      ],
      "text/plain": [
       "                     calls_duration    mb_used  messages\n",
       "user_id tariff_name                                     \n",
       "1000    ultra                 339.0  14312.420      65.0\n",
       "1001    smart                 422.0  16233.000       0.0\n",
       "1002    smart                 214.0  17580.100      11.0\n",
       "1003    ultra                 824.0  11356.890      83.0\n",
       "1004    ultra                 132.5  17810.530     154.5\n",
       "...                             ...        ...       ...\n",
       "1495    ultra                 954.0  29363.000      82.0\n",
       "1496    smart                 524.0  24037.255      41.5\n",
       "1497    smart                 490.0  14156.080      17.0\n",
       "1498    smart                 323.5  21356.885      43.0\n",
       "1499    smart                 470.5  15422.045      53.5\n",
       "\n",
       "[498 rows x 3 columns]"
      ]
     },
     "execution_count": 41,
     "metadata": {},
     "output_type": "execute_result"
    }
   ],
   "source": [
    "user_month_med = total.pivot_table(index=['user_id', 'tariff_name'],\n",
    "                        values=['calls_duration', 'mb_used', 'messages'], \n",
    "                        aggfunc='median')\n",
    "user_month_med"
   ]
  },
  {
   "cell_type": "markdown",
   "metadata": {},
   "source": [
    "Видим, что пользователи ведут себя очень по разному, например, совсем не отправляют сообщений или разговаривают более 900 минут в месяц.\n",
    "\n",
    "Посчитаем среднее, медиану, дисперсию и стандартное отклонение для продолжительности звонков, использованного траффика и количества сообщений.\n",
    "\n",
    "Создадим таблицу `tariffs_stat`, в которой посчитаем среднее количество, медиану, дисперсию и стандартное отклонение для звонков, траффика и смс-сообщений. В качестве индексов таблицы возьмем наименование тарифов:"
   ]
  },
  {
   "cell_type": "code",
   "execution_count": 42,
   "metadata": {},
   "outputs": [
    {
     "data": {
      "text/html": [
       "<div>\n",
       "<style scoped>\n",
       "    .dataframe tbody tr th:only-of-type {\n",
       "        vertical-align: middle;\n",
       "    }\n",
       "\n",
       "    .dataframe tbody tr th {\n",
       "        vertical-align: top;\n",
       "    }\n",
       "\n",
       "    .dataframe thead th {\n",
       "        text-align: right;\n",
       "    }\n",
       "</style>\n",
       "<table border=\"1\" class=\"dataframe\">\n",
       "  <thead>\n",
       "    <tr style=\"text-align: right;\">\n",
       "      <th></th>\n",
       "      <th>tariff_name</th>\n",
       "      <th>smart</th>\n",
       "      <th>ultra</th>\n",
       "    </tr>\n",
       "  </thead>\n",
       "  <tbody>\n",
       "    <tr>\n",
       "      <th rowspan=\"4\" valign=\"top\">calls_duration</th>\n",
       "      <th>mean</th>\n",
       "      <td>418.0</td>\n",
       "      <td>527.0</td>\n",
       "    </tr>\n",
       "    <tr>\n",
       "      <th>median</th>\n",
       "      <td>422.0</td>\n",
       "      <td>518.0</td>\n",
       "    </tr>\n",
       "    <tr>\n",
       "      <th>std</th>\n",
       "      <td>190.0</td>\n",
       "      <td>318.0</td>\n",
       "    </tr>\n",
       "    <tr>\n",
       "      <th>var</th>\n",
       "      <td>36219.0</td>\n",
       "      <td>100874.0</td>\n",
       "    </tr>\n",
       "    <tr>\n",
       "      <th rowspan=\"4\" valign=\"top\">mb_used</th>\n",
       "      <th>mean</th>\n",
       "      <td>16208.0</td>\n",
       "      <td>19469.0</td>\n",
       "    </tr>\n",
       "    <tr>\n",
       "      <th>median</th>\n",
       "      <td>16507.0</td>\n",
       "      <td>19308.0</td>\n",
       "    </tr>\n",
       "    <tr>\n",
       "      <th>std</th>\n",
       "      <td>5870.0</td>\n",
       "      <td>10087.0</td>\n",
       "    </tr>\n",
       "    <tr>\n",
       "      <th>var</th>\n",
       "      <td>34462496.0</td>\n",
       "      <td>101751014.0</td>\n",
       "    </tr>\n",
       "    <tr>\n",
       "      <th rowspan=\"4\" valign=\"top\">messages</th>\n",
       "      <th>mean</th>\n",
       "      <td>33.0</td>\n",
       "      <td>49.0</td>\n",
       "    </tr>\n",
       "    <tr>\n",
       "      <th>median</th>\n",
       "      <td>28.0</td>\n",
       "      <td>38.0</td>\n",
       "    </tr>\n",
       "    <tr>\n",
       "      <th>std</th>\n",
       "      <td>28.0</td>\n",
       "      <td>48.0</td>\n",
       "    </tr>\n",
       "    <tr>\n",
       "      <th>var</th>\n",
       "      <td>797.0</td>\n",
       "      <td>2285.0</td>\n",
       "    </tr>\n",
       "  </tbody>\n",
       "</table>\n",
       "</div>"
      ],
      "text/plain": [
       "tariff_name                 smart        ultra\n",
       "calls_duration mean         418.0        527.0\n",
       "               median       422.0        518.0\n",
       "               std          190.0        318.0\n",
       "               var        36219.0     100874.0\n",
       "mb_used        mean       16208.0      19469.0\n",
       "               median     16507.0      19308.0\n",
       "               std         5870.0      10087.0\n",
       "               var     34462496.0  101751014.0\n",
       "messages       mean          33.0         49.0\n",
       "               median        28.0         38.0\n",
       "               std           28.0         48.0\n",
       "               var          797.0       2285.0"
      ]
     },
     "execution_count": 42,
     "metadata": {},
     "output_type": "execute_result"
    }
   ],
   "source": [
    "tariffs_stat = total.pivot_table(index=['tariff_name'], \n",
    "                                  values=['calls_duration', 'mb_used', 'messages'], \n",
    "                                  aggfunc={'calls_duration': [np.mean, np.median, np.var, np.std],\n",
    "                                           'mb_used': [np.mean, np.median, np.var, np.std],\n",
    "                                           'messages': [np.mean, np.median, np.var, np.std]})\n",
    "tariffs_stat.T.round()"
   ]
  },
  {
   "cell_type": "markdown",
   "metadata": {},
   "source": [
    "При рассмотрении таблицы мы видим следующее:\n",
    "\n",
    "* Средняя продолжительность разговоров в месяц (помним про возможные нули и поэтому смотрим медиану): смарт - 423 минуты, ультра - 528 минут.\n",
    "* Среднее количество используемого трафика в месяц: смарт - 16 Гб, ультра - 19 Гб.\n",
    "* Среднее количество отправленных смс-сообщений в месяц (снова помним, что бы заполнили много значений нулями, поэтому смотрим медиану): смарт - 28, ультра - 39.\n",
    "* Дисперсии тарифа ультра больше, чем у тарифа смарт, это говорит нам о большем размахе значений.\n",
    "\n",
    "По этим данным можно сделать вывод, что абоненты тарифа \"Ультра\" более активно пользуются услугами мобильного оператора, при этом в среднем не прибегая к услугам сверх тарифного лимита. Абоненты тарифа \"Смарт\" в среднем тоже укладываются в рамки тарифного лимита,  за исключением интернет трафика, который в среднем используется на 1 Гб больше тарифного лимита.  \n",
    "\n",
    "Построим диаграммы размаха для звонков, трафика и количества смс-сообщений для двух тарифов:"
   ]
  },
  {
   "cell_type": "code",
   "execution_count": 43,
   "metadata": {},
   "outputs": [
    {
     "data": {
      "image/png": "[encoded data removed]",
      "text/plain": [
       "<Figure size 432x288 with 1 Axes>"
      ]
     },
     "metadata": {
      "needs_background": "light"
     },
     "output_type": "display_data"
    },
    {
     "data": {
      "image/png": "[encoded data removed]",
      "text/plain": [
       "<Figure size 432x288 with 1 Axes>"
      ]
     },
     "metadata": {
      "needs_background": "light"
     },
     "output_type": "display_data"
    },
    {
     "data": {
      "image/png": "[encoded data removed]",
      "text/plain": [
       "<Figure size 432x288 with 1 Axes>"
      ]
     },
     "metadata": {
      "needs_background": "light"
     },
     "output_type": "display_data"
    }
   ],
   "source": [
    "for column in ['calls_duration', 'mb_used', 'messages']:\n",
    "    sns.boxplot(x='tariff_name', y=column, data=total)\n",
    "    plt.title(column, fontsize=15)\n",
    "    plt.show()"
   ]
  },
  {
   "cell_type": "markdown",
   "metadata": {},
   "source": [
    "Таже построим гистограммы для звонков, трафика и количества смс-сообщений для двух тарифов:\n",
    "\n",
    "Напишем функцию для построения гистограмм:"
   ]
  },
  {
   "cell_type": "code",
   "execution_count": 44,
   "metadata": {},
   "outputs": [],
   "source": [
    "def histogram(col, xlabel, ylabel, hist_title):\n",
    "    sns.set(rc={'figure.figsize':(10,6)})\n",
    "    sns.histplot(data=total.query('tariff_name == \"smart\"'), \n",
    "                 x=col,\n",
    "                 color='blue', \n",
    "                 label='smart', \n",
    "                 kde=True, \n",
    "                 bins=20)\n",
    "    sns.histplot(data=total.query('tariff_name == \"ultra\"'),\n",
    "                 x=col,\n",
    "                 color='red', \n",
    "                 label='ultra',\n",
    "                 kde=True,\n",
    "                 bins=20)\n",
    "    plt.legend()\n",
    "    plt.xlabel(xlabel)\n",
    "    plt.ylabel(ylabel)\n",
    "    plt.title(hist_title)\n",
    "    plt.show()\n"
   ]
  },
  {
   "cell_type": "markdown",
   "metadata": {},
   "source": [
    "Построим гистограмму для звонков:"
   ]
  },
  {
   "cell_type": "code",
   "execution_count": 45,
   "metadata": {},
   "outputs": [
    {
     "data": {
      "image/png": "[encoded data removed]",
      "text/plain": [
       "<Figure size 720x432 with 1 Axes>"
      ]
     },
     "metadata": {},
     "output_type": "display_data"
    }
   ],
   "source": [
    "histogram('calls_duration',\n",
    "          'Продолжительность звонков', \n",
    "          'Количество звонков', \n",
    "          'Распределение продожительности звонков для тарифов \"Смарт\" и \"Ультра\"'\n",
    "         )"
   ]
  },
  {
   "cell_type": "markdown",
   "metadata": {},
   "source": [
    "Построим гистограмму для интернет-трафика:"
   ]
  },
  {
   "cell_type": "code",
   "execution_count": 46,
   "metadata": {},
   "outputs": [
    {
     "data": {
      "image/png": "[encoded data removed]",
      "text/plain": [
       "<Figure size 720x432 with 1 Axes>"
      ]
     },
     "metadata": {},
     "output_type": "display_data"
    }
   ],
   "source": [
    "histogram('mb_used',\n",
    "          'Количество мегабайт трафика', \n",
    "          'Количество сессий', \n",
    "          'Распределение интернет-трафика для тарифов \"Смарт\" и \"Ультра\"'\n",
    "         )"
   ]
  },
  {
   "cell_type": "markdown",
   "metadata": {},
   "source": [
    "Построим гистограмму для смс-сообщений:"
   ]
  },
  {
   "cell_type": "code",
   "execution_count": 47,
   "metadata": {},
   "outputs": [
    {
     "data": {
      "image/png": "[encoded data removed]",
      "text/plain": [
       "<Figure size 720x432 with 1 Axes>"
      ]
     },
     "metadata": {},
     "output_type": "display_data"
    }
   ],
   "source": [
    "histogram('messages',\n",
    "          'Общее количество сообщений', \n",
    "          'Количество сессий', \n",
    "          'Распределение числа смс-сообщений для тарифов \"Смарт\" и \"Ультра\"'\n",
    "         )"
   ]
  },
  {
   "cell_type": "markdown",
   "metadata": {},
   "source": [
    "Из представленных выше графиков можем видеть, что для всех трех показателей дисперсия и размах \"усов\" у тарифа \"Ультра\" больше, чем у тарифа \"Смарт\". При этом в тарифе \"Ультра\" на диаграме размаха наблюдается меньше выбросов. Также у тарифа \"Ультра\" показатели среднего значения и медианы сильнее смещены в сторону увеличения значений по сравнению с тарифом \"Смарт\". \n",
    "\n",
    "В показателях звонков и трафика распределения стремятся к нормальному, но имеют длинные выраженные \"хвосты\" в правой части. Распределение по смс-сообщениям имеет ярко выраженный скос вправо. "
   ]
  },
  {
   "cell_type": "markdown",
   "metadata": {},
   "source": [
    "**Вывод**"
   ]
  },
  {
   "cell_type": "markdown",
   "metadata": {},
   "source": [
    "Мы выяснили, что за 2018 год пользователи тарифа \"Смарт\" принесли компании 2.8 млн. руб., а пользователи тарифа \"Ультра\" - 1.9 млн. руб.\n",
    "\n",
    "Мы провели анализ наших данных и рассмотрели статические характеристики для продолжительности звонков, количества использованного интернет трафика и количества отправленных смс-сообщений.\n",
    "\n",
    "В результате мы сделали следующие выводы:\n",
    "* Средняя продолжительность разговоров в месяц: \"Смарт\" - 423 минуты, \"Ультра\" - 528 минут.\n",
    "* Среднее количество используемого трафика в месяц: \"Смарт - 16 Гб, \"Ультра\" - 19 Гб.\n",
    "* Среднее количество отправленных смс-сообщений в месяц: \"Смарт - 28, \"Ультра\" - 39.\n",
    "* Дисперсии тарифа \"Ультра\" больше, чем у тарифа \"Смарт, это говорит нам о большем размахе значений.\n",
    "\n",
    "Пользователи тарифа \"Ультра\" более активно пользуются услугами мобильного оператора, при этом в среднем не выходя за пределы тарифа. Пользователям тарифа \"Смарт\" в среднем приходится докупать 1 Гб интернет-трафика сверх тарифного лимита.\n",
    "\n",
    "Построение графиков по ключевым показателям позволило нам увидеть следующие закономерности:\n",
    "* Пользователи тарифа \"Ультра\" являются более активными пользователями, дисперсия значений (звонки, трафик, смс) у этого тарифа больше, чем у тарифа \"Ультра\". При этом можем отметить, что пользователи тарифа \"Ультра\" практически никогда не выходят за пределы тарифного плана.  \n",
    "* Большее количество выбросов у тарифа \"Смарт\" указывает нам на тех пользователей, которым больше подошел бы тариф \"Ультра\"."
   ]
  },
  {
   "cell_type": "markdown",
   "metadata": {},
   "source": [
    "<a id=\"step6\"></a>\n",
    "## Проверка гипотез"
   ]
  },
  {
   "cell_type": "markdown",
   "metadata": {},
   "source": [
    "### Средняя выручка пользователей тарифов «Ультра» и «Смарт» различаются"
   ]
  },
  {
   "cell_type": "markdown",
   "metadata": {},
   "source": [
    "Для проверки гипотезы примем следующее: \n",
    "\n",
    "H0 (нулевая гипотеза)  -  средняя выручка пользователей тарифа \"Ультра\" равна средней выручке пользователей тарифа \"Смарт\".\n",
    "\n",
    "H1 (альтернативная гипотеза)  - средние выручки пользователей тарифов \"Ультра\" и \"Смарт\" отличаются.\n",
    "\n",
    "Уровень значимости α примем равным 0.5%."
   ]
  },
  {
   "cell_type": "code",
   "execution_count": 48,
   "metadata": {},
   "outputs": [],
   "source": [
    "alpha=.05"
   ]
  },
  {
   "cell_type": "markdown",
   "metadata": {},
   "source": [
    "Сделаем 2 таблицы, в которых сохраним данные пользователей тарифов \"Смарт\" и \"Ультра\": "
   ]
  },
  {
   "cell_type": "code",
   "execution_count": 49,
   "metadata": {},
   "outputs": [],
   "source": [
    "smart = total[total['tariff_name'] == 'smart']['total_income']\n",
    "ultra = total[total['tariff_name'] == 'ultra']['total_income']"
   ]
  },
  {
   "cell_type": "markdown",
   "metadata": {},
   "source": [
    "Напишем функцию, в которой будем проверять дисперсии выборок (зададим степень свободы равную единице, поскольку работаем с выборками из генеральной совокупности) и использовать ttest_ind для для проверки гипотезы о равенстве среднего двух независимых выборок (уровень значимости критерия Стьюдента для независимых выборок, т.к. средние выручки выборок не зависят друг от друга):"
   ]
  },
  {
   "cell_type": "code",
   "execution_count": 50,
   "metadata": {},
   "outputs": [],
   "source": [
    "def test(df1, df2):\n",
    "    print('Дисперсия 1:', df1.var(ddof=1))\n",
    "    print('Дисперсия 2:', df2.var(ddof=1))\n",
    "    \n",
    "    results = st.ttest_ind(\n",
    "    df1, \n",
    "    df2, \n",
    "    equal_var=False)\n",
    "\n",
    "    print('p-значение:', results.pvalue)\n",
    "\n",
    "    if results.pvalue < alpha:\n",
    "        print(\"Отвергаем нулевую гипотезу\")\n",
    "    else:\n",
    "        print(\"Не получилось отвергнуть нулевую гипотезу\")"
   ]
  },
  {
   "cell_type": "markdown",
   "metadata": {},
   "source": [
    "Проверим нулевую гипотезу, используя написанную раннее функцию:"
   ]
  },
  {
   "cell_type": "code",
   "execution_count": 51,
   "metadata": {},
   "outputs": [
    {
     "name": "stdout",
     "output_type": "stream",
     "text": [
      "Дисперсия 1: 669785.7080064153\n",
      "Дисперсия 2: 141516.745078617\n",
      "p-значение: 4.2606313931076085e-250\n",
      "Отвергаем нулевую гипотезу\n"
     ]
    }
   ],
   "source": [
    "test(smart, ultra)"
   ]
  },
  {
   "cell_type": "markdown",
   "metadata": {},
   "source": [
    "Мы отвергаем нулевую гипотезу о том, что средние выручки пользователей тарифов \"Ультра\" и \"Смарт\" равны."
   ]
  },
  {
   "cell_type": "markdown",
   "metadata": {},
   "source": [
    "**Вывод**"
   ]
  },
  {
   "cell_type": "markdown",
   "metadata": {},
   "source": [
    "Мы приняли нулевую гипотезу о том, что средняя выручка пользователей тарифа \"Ультра\" равна средней выручке пользователей тарифа \"Смарт\".\n",
    "В качестве альтернативной гипотезы мы приняли утвержение о том, средние выручки пользователей тарифов \"Ультра\" и \"Смарт\" отличаются.\n",
    "\n",
    "Мы отвергли нулевую гипотезу о том, что средние выручки пользователей тарифов \"Ультра\" и \"Смарт\" равны, и сделали вывод о том, что средняя выручка пользователя тарифа \"Смарт\" и тарифа \"Ультра\" отличаются."
   ]
  },
  {
   "cell_type": "markdown",
   "metadata": {},
   "source": [
    "### Средняя выручка пользователей из Москвы отличается от выручки пользователей из других регионов"
   ]
  },
  {
   "cell_type": "markdown",
   "metadata": {},
   "source": [
    "Для проверки гипотезы примем следующее: \n",
    "\n",
    "H0 (нулевая гипотеза)  -  средняя выручка пользователей из Москвы равна средней выручке пользователей из других регионов.\n",
    "\n",
    "H1 (альтернативная гипотеза) - средняя выручка пользователей из Москвы отличается от выручки пользователей из других регионов.\n",
    "\n",
    "Уровень значимости α примем равным 0.5%."
   ]
  },
  {
   "cell_type": "code",
   "execution_count": 52,
   "metadata": {},
   "outputs": [],
   "source": [
    "alpha=.05"
   ]
  },
  {
   "cell_type": "markdown",
   "metadata": {},
   "source": [
    "Сделаем 2 таблицы, в которых сохраним данные пользователей из Москвы и из других регионов: "
   ]
  },
  {
   "cell_type": "code",
   "execution_count": 53,
   "metadata": {},
   "outputs": [],
   "source": [
    "moscow = total.query('city == \"Москва\"')['total_income']\n",
    "not_moscow = total.query('city != \"Москва\"')['total_income']"
   ]
  },
  {
   "cell_type": "markdown",
   "metadata": {},
   "source": [
    "Проверим нулевую гипотезу, используя написанную раннее функцию:"
   ]
  },
  {
   "cell_type": "code",
   "execution_count": 54,
   "metadata": {},
   "outputs": [
    {
     "name": "stdout",
     "output_type": "stream",
     "text": [
      "Дисперсия 1: 565636.4670118855\n",
      "Дисперсия 2: 654137.6285218045\n",
      "p-значение: 0.5257376663729298\n",
      "Не получилось отвергнуть нулевую гипотезу\n"
     ]
    }
   ],
   "source": [
    "test(moscow, not_moscow)"
   ]
  },
  {
   "cell_type": "markdown",
   "metadata": {},
   "source": [
    "Нам не удалось отвергнуть нулевую гипотезу, что говорит о том, что с вероятностью 44%, сравнивая средние выручки, мы бы получали схожие значения.\n",
    "\n",
    "Посчитаем средние выручки:"
   ]
  },
  {
   "cell_type": "markdown",
   "metadata": {},
   "source": [
    "**Вывод**"
   ]
  },
  {
   "cell_type": "markdown",
   "metadata": {},
   "source": [
    "Мы приняли нулевую гипотезу о том, что средняя выручка пользователей из Москвы равна средней выручке пользователей из других регионов.\n",
    "В качестве альтернативной гипотезы мы приняли утвержение о том, что средняя выручка пользователей из Москвы отличается от выручки пользователей из других регионов.\n",
    "\n",
    "Нам не удалось отвергнуть нулевую гипотезу, о том, что средняя выручка пользователей из Москвы равна средней выручке пользователей из других регионов, поэтому мы сделали вывод о том, сравнивая средние выручки, мы бы получали схожие значения."
   ]
  },
  {
   "cell_type": "markdown",
   "metadata": {},
   "source": [
    "<a id=\"step7\"></a>\n",
    "## Общий вывод"
   ]
  },
  {
   "cell_type": "markdown",
   "metadata": {},
   "source": [
    "Мы провели исследование двух тарифных планов оператора сотовой \"Мегалайн\" - тарифы \"Смарт\" и \"Ультра\". В нашем распоряжении были данные за 2018 год о звонках, отправленных смс-сообщениях, сессиях интернет-трафика 500 абонентов.\n",
    "\n",
    "Для проведения анализа мы рассчитали для каждого пользователя по месяцам количество и продолжительность звонков, количество использованного интернет трафика и количество смс-сообщений. Также с помощью функции revenue мы рассчитали выручку, которую принес в каждом месяце каждый отдельный абонент. Так мы выяснили, что за 2018 год пользователи тарифа \"Смарт\" принесли компании 2.8 млн. руб., а пользователи тарифа \"Ультра\" - 1.9 млн. руб.\n",
    "\n",
    "На этапе анализа данных мы рассмотрели статические характеристики для продолжительности звонков, количества использованного интернет трафика и количества отправленных смс-сообщений. Это позволило нам сделать следующие выводы:\n",
    "\n",
    "* Средняя продолжительность разговоров в месяц: \"Смарт\" - 423 минуты, \"Ультра\" - 528 минут.\n",
    "* Среднее количество используемого трафика в месяц: \"Смарт - 16 Гб, \"Ультра\" - 19 Гб.\n",
    "* Среднее количество отправленных смс-сообщений в месяц: \"Смарт - 28, \"Ультра\" - 39.\n",
    "* Дисперсии тарифа \"Ультра\" больше, чем у тарифа \"Смарт, это говорит нам о большем размахе значений.\n",
    "\n",
    "Мы построили диаграммы размаха и гистограммы для звонков, трафика и количества смс-сообщений для двух тарифов и в результате выявили, что у абонентов трафика \"Ультра\" размах значений шире, а это значит, что эти пользователи более активно используют услуги мобильного оператора. Большее количество выбросов у тарифа \"Смарт\" может указывать нам на тех пользователей, которым больше подошел бы тариф \"Ультра\".\n",
    "\n",
    "Пользователи тарифа \"Ультра\" более активно пользуются услугами мобильного оператора, при этом в среднем не выходя за пределы тарифа. Пользователям тарифа \"Смарт\" в среднем приходится докупать 1 Гб интернет-трафика сверх тарифного лимита.\n",
    "\n",
    "Также мы провели статистический анализ, в котором проверили 2 гипотезы:\n",
    "\n",
    "* Первая нулевая гипотеза: средняя выручка пользователей тарифа \"Ультра\" равна средней выручке пользователей тарифа \"Смарт\". Альтернативная гипотеза: средние выручки пользователей тарифов \"Ультра\" и \"Смарт\" отличаются.\n",
    "\n",
    "* Вторая нулевая гипотеза: средняя выручка пользователей из Москвы равна средней выручке пользователей из других регионов. Альтернативная гипотеза: средняя выручка пользователей из Москвы отличается от выручки пользователей из других регионов.\n",
    "\n",
    "Поскольку средение выручки выборок не зависят друг от друга, мы использовали уровень значимости критерия Стьюдента для независимых выборок. \n",
    "\n",
    "В первом случае мы отвергли нулевую гипотезу и сделали вывод о том, что мы можем утверждать, что средняя выручка пользователя тарифа \"Смарт\" и тарифа \"Ультра\" отличаются.\n",
    "\n",
    "Во втором случае нам не удалось отвергнуть нулевую гипотезу, поэтому мы сделали вывод о том, сравнивая средние выручки, мы бы получали схожие значения.\n",
    "\n",
    "Сравнивая прибыль, мы выяснили, что за 2018 год пользователи тарифа \"Смарт\" принесли компании 2.8 млн. руб., а пользователи тарифа \"Ультра\" - 1.9 млн. руб. Но при этом средняя выручка от тарифа \"Смарт\" составляет 1290 руб., тогда как пользователи тарифа \"Ультра\" составляет 2070 руб. Абоненты тарифа \"Ультра\" практически не выходят за рамки лимитов, но при этом оплачивают абнентскую плату в размере 1950 руб. Абонентам тарифа \"Смарт\", как правило, приходтся дополнительно оплачивать звонки и интернет трафик сверх тарифного плана, абонентская плата которого составляет 550 руб. \n",
    "\n",
    "В результате исследования мы можем сделать, что тариф \"Ультра\" является более коммерчески прибыльным, поскольку средняя выручка, которую он приносит компании, больше, чем у тарифа \"Смарт\". При этом стоит отметить, что тариф \"Смарт\" своими условиями может привлекать пользователей, и в рамках обозначенных лимитов приводит к тому, что пользователи докупают дополнительные услуги по более высоким тарифам, чем на тарифе \"Смарт\", что также увеличивает выручку компании. "
   ]
  },
  {
   "cell_type": "code",
   "execution_count": null,
   "metadata": {},
   "outputs": [],
   "source": []
  }
 ],
 "metadata": {
  "ExecuteTimeLog": [
   {
    "duration": 180,
    "start_time": "2022-02-19T13:00:23.347Z"
   },
   {
    "duration": 1250,
    "start_time": "2022-02-19T13:00:29.104Z"
   },
   {
    "duration": 160,
    "start_time": "2022-02-19T13:00:30.356Z"
   },
   {
    "duration": 8,
    "start_time": "2022-02-19T13:01:26.341Z"
   },
   {
    "duration": 127,
    "start_time": "2022-02-19T13:02:39.746Z"
   },
   {
    "duration": 327,
    "start_time": "2022-02-19T13:04:23.947Z"
   },
   {
    "duration": 354,
    "start_time": "2022-02-19T13:04:41.666Z"
   },
   {
    "duration": 357,
    "start_time": "2022-02-19T13:05:12.815Z"
   },
   {
    "duration": 373,
    "start_time": "2022-02-19T13:05:57.157Z"
   },
   {
    "duration": 19,
    "start_time": "2022-02-19T13:09:04.038Z"
   },
   {
    "duration": 16,
    "start_time": "2022-02-19T13:09:15.198Z"
   },
   {
    "duration": 15,
    "start_time": "2022-02-19T13:09:24.082Z"
   },
   {
    "duration": 6,
    "start_time": "2022-02-19T13:09:32.321Z"
   },
   {
    "duration": 5,
    "start_time": "2022-02-19T13:09:40.884Z"
   },
   {
    "duration": 54,
    "start_time": "2022-02-19T13:10:51.481Z"
   },
   {
    "duration": 195,
    "start_time": "2022-02-19T15:24:24.142Z"
   },
   {
    "duration": 4,
    "start_time": "2022-02-19T15:24:36.577Z"
   },
   {
    "duration": 412,
    "start_time": "2022-02-19T15:32:28.589Z"
   },
   {
    "duration": 61,
    "start_time": "2022-02-19T15:32:37.606Z"
   },
   {
    "duration": 3502,
    "start_time": "2022-02-19T15:33:21.954Z"
   },
   {
    "duration": 18,
    "start_time": "2022-02-19T15:34:17.505Z"
   },
   {
    "duration": 48,
    "start_time": "2022-02-19T15:34:34.442Z"
   },
   {
    "duration": 382,
    "start_time": "2022-02-19T15:51:35.972Z"
   },
   {
    "duration": 41,
    "start_time": "2022-02-20T17:21:51.617Z"
   },
   {
    "duration": 181,
    "start_time": "2022-02-20T17:22:14.926Z"
   },
   {
    "duration": 128,
    "start_time": "2022-02-20T17:22:25.522Z"
   },
   {
    "duration": 130,
    "start_time": "2022-02-20T17:23:05.218Z"
   },
   {
    "duration": 1143,
    "start_time": "2022-02-20T17:23:11.122Z"
   },
   {
    "duration": 551,
    "start_time": "2022-02-20T17:23:12.266Z"
   },
   {
    "duration": 1322,
    "start_time": "2022-02-20T17:23:11.496Z"
   },
   {
    "duration": 1319,
    "start_time": "2022-02-20T17:23:11.500Z"
   },
   {
    "duration": 14,
    "start_time": "2022-02-20T17:23:17.062Z"
   },
   {
    "duration": 31,
    "start_time": "2022-02-20T18:01:47.229Z"
   },
   {
    "duration": 31,
    "start_time": "2022-02-20T18:02:16.599Z"
   },
   {
    "duration": 507,
    "start_time": "2022-02-20T18:04:18.354Z"
   },
   {
    "duration": 387,
    "start_time": "2022-02-20T18:04:37.496Z"
   },
   {
    "duration": 53,
    "start_time": "2022-02-20T18:04:51.709Z"
   },
   {
    "duration": 92,
    "start_time": "2022-02-20T18:04:54.171Z"
   },
   {
    "duration": 30,
    "start_time": "2022-02-20T18:05:09.619Z"
   },
   {
    "duration": 33,
    "start_time": "2022-02-20T18:06:40.120Z"
   },
   {
    "duration": 24,
    "start_time": "2022-02-20T18:07:04.507Z"
   },
   {
    "duration": 33,
    "start_time": "2022-02-20T18:15:13.562Z"
   },
   {
    "duration": 23,
    "start_time": "2022-02-20T18:15:24.957Z"
   },
   {
    "duration": 1537,
    "start_time": "2022-02-21T09:10:45.297Z"
   },
   {
    "duration": 569,
    "start_time": "2022-02-21T09:10:46.837Z"
   },
   {
    "duration": 91,
    "start_time": "2022-02-21T09:10:47.409Z"
   },
   {
    "duration": 178,
    "start_time": "2022-02-21T09:10:47.503Z"
   },
   {
    "duration": 21,
    "start_time": "2022-02-21T09:11:42.838Z"
   },
   {
    "duration": 11,
    "start_time": "2022-02-21T10:13:59.203Z"
   },
   {
    "duration": 13,
    "start_time": "2022-02-21T10:14:05.999Z"
   },
   {
    "duration": 36,
    "start_time": "2022-02-21T10:14:35.893Z"
   },
   {
    "duration": 13,
    "start_time": "2022-02-21T10:17:48.587Z"
   },
   {
    "duration": 39,
    "start_time": "2022-02-21T10:18:09.641Z"
   },
   {
    "duration": 15,
    "start_time": "2022-02-21T10:18:25.959Z"
   },
   {
    "duration": 22,
    "start_time": "2022-02-21T10:18:40.571Z"
   },
   {
    "duration": 30,
    "start_time": "2022-02-21T10:24:55.293Z"
   },
   {
    "duration": 49,
    "start_time": "2022-02-21T10:25:02.899Z"
   },
   {
    "duration": 30,
    "start_time": "2022-02-21T10:25:08.000Z"
   },
   {
    "duration": 30,
    "start_time": "2022-02-21T10:25:41.633Z"
   },
   {
    "duration": 24,
    "start_time": "2022-02-21T10:26:21.110Z"
   },
   {
    "duration": 19,
    "start_time": "2022-02-21T10:26:56.385Z"
   },
   {
    "duration": 19,
    "start_time": "2022-02-21T10:27:26.090Z"
   },
   {
    "duration": 65,
    "start_time": "2022-02-21T10:27:46.777Z"
   },
   {
    "duration": 27,
    "start_time": "2022-02-21T10:28:16.338Z"
   },
   {
    "duration": 26,
    "start_time": "2022-02-21T10:28:28.444Z"
   },
   {
    "duration": 12,
    "start_time": "2022-02-21T11:00:41.778Z"
   },
   {
    "duration": 33,
    "start_time": "2022-02-21T11:00:49.326Z"
   },
   {
    "duration": 1465,
    "start_time": "2022-02-21T11:04:01.668Z"
   },
   {
    "duration": 538,
    "start_time": "2022-02-21T11:04:03.135Z"
   },
   {
    "duration": 44,
    "start_time": "2022-02-21T11:04:25.157Z"
   },
   {
    "duration": 111,
    "start_time": "2022-02-21T11:32:05.564Z"
   },
   {
    "duration": 17,
    "start_time": "2022-02-21T13:40:03.243Z"
   },
   {
    "duration": 446,
    "start_time": "2022-02-21T13:42:14.720Z"
   },
   {
    "duration": 295,
    "start_time": "2022-02-21T13:42:40.215Z"
   },
   {
    "duration": 306,
    "start_time": "2022-02-21T13:42:54.356Z"
   },
   {
    "duration": 221,
    "start_time": "2022-02-21T13:43:29.169Z"
   },
   {
    "duration": 8390,
    "start_time": "2022-02-21T13:44:16.798Z"
   },
   {
    "duration": 304,
    "start_time": "2022-02-21T13:44:47.563Z"
   },
   {
    "duration": 921,
    "start_time": "2022-02-21T13:59:30.364Z"
   },
   {
    "duration": 2795,
    "start_time": "2022-02-21T13:59:52.984Z"
   },
   {
    "duration": 297,
    "start_time": "2022-02-21T14:01:29.044Z"
   },
   {
    "duration": 236,
    "start_time": "2022-02-21T14:01:38.540Z"
   },
   {
    "duration": 312,
    "start_time": "2022-02-21T14:02:28.093Z"
   },
   {
    "duration": 834,
    "start_time": "2022-02-21T14:09:26.498Z"
   },
   {
    "duration": 1827,
    "start_time": "2022-02-21T14:09:39.061Z"
   },
   {
    "duration": 38,
    "start_time": "2022-02-21T14:12:21.143Z"
   },
   {
    "duration": 2022,
    "start_time": "2022-02-21T14:17:46.579Z"
   },
   {
    "duration": 610,
    "start_time": "2022-02-21T14:17:48.604Z"
   },
   {
    "duration": 45,
    "start_time": "2022-02-21T14:17:49.217Z"
   },
   {
    "duration": 67,
    "start_time": "2022-02-21T14:17:49.265Z"
   },
   {
    "duration": 38,
    "start_time": "2022-02-21T14:17:49.335Z"
   },
   {
    "duration": 75,
    "start_time": "2022-02-21T14:17:49.376Z"
   },
   {
    "duration": 31,
    "start_time": "2022-02-21T14:17:49.455Z"
   },
   {
    "duration": 53,
    "start_time": "2022-02-21T14:17:49.490Z"
   },
   {
    "duration": 35,
    "start_time": "2022-02-21T14:17:49.546Z"
   },
   {
    "duration": 51,
    "start_time": "2022-02-21T14:17:49.583Z"
   },
   {
    "duration": 17,
    "start_time": "2022-02-21T14:17:56.979Z"
   },
   {
    "duration": 22,
    "start_time": "2022-02-21T14:17:59.655Z"
   },
   {
    "duration": 1528,
    "start_time": "2022-02-21T14:20:06.123Z"
   },
   {
    "duration": 542,
    "start_time": "2022-02-21T14:20:07.654Z"
   },
   {
    "duration": 44,
    "start_time": "2022-02-21T14:20:08.199Z"
   },
   {
    "duration": 45,
    "start_time": "2022-02-21T14:20:08.246Z"
   },
   {
    "duration": 58,
    "start_time": "2022-02-21T14:20:08.293Z"
   },
   {
    "duration": 82,
    "start_time": "2022-02-21T14:20:08.354Z"
   },
   {
    "duration": 35,
    "start_time": "2022-02-21T14:20:08.439Z"
   },
   {
    "duration": 51,
    "start_time": "2022-02-21T14:20:08.477Z"
   },
   {
    "duration": 31,
    "start_time": "2022-02-21T14:20:08.531Z"
   },
   {
    "duration": 43,
    "start_time": "2022-02-21T14:20:08.564Z"
   },
   {
    "duration": 152,
    "start_time": "2022-02-21T14:20:22.239Z"
   },
   {
    "duration": 21,
    "start_time": "2022-02-21T14:21:59.653Z"
   },
   {
    "duration": 14,
    "start_time": "2022-02-21T14:22:15.697Z"
   },
   {
    "duration": 20,
    "start_time": "2022-02-21T14:22:18.130Z"
   },
   {
    "duration": 885,
    "start_time": "2022-02-21T14:23:41.378Z"
   },
   {
    "duration": 544,
    "start_time": "2022-02-21T14:24:43.088Z"
   },
   {
    "duration": 714,
    "start_time": "2022-02-21T14:26:11.621Z"
   },
   {
    "duration": 317,
    "start_time": "2022-02-21T14:28:10.146Z"
   },
   {
    "duration": 316,
    "start_time": "2022-02-21T14:29:31.679Z"
   },
   {
    "duration": 374,
    "start_time": "2022-02-21T14:30:18.862Z"
   },
   {
    "duration": 291,
    "start_time": "2022-02-21T14:30:27.289Z"
   },
   {
    "duration": 141,
    "start_time": "2022-02-21T14:38:44.344Z"
   },
   {
    "duration": 40,
    "start_time": "2022-02-21T14:38:55.912Z"
   },
   {
    "duration": 38,
    "start_time": "2022-02-21T14:39:10.106Z"
   },
   {
    "duration": 28,
    "start_time": "2022-02-21T14:39:21.131Z"
   },
   {
    "duration": 18,
    "start_time": "2022-02-21T15:57:21.216Z"
   },
   {
    "duration": 56,
    "start_time": "2022-02-21T15:57:44.561Z"
   },
   {
    "duration": 150,
    "start_time": "2022-02-21T16:06:47.267Z"
   },
   {
    "duration": 286,
    "start_time": "2022-02-21T16:07:09.479Z"
   },
   {
    "duration": 277,
    "start_time": "2022-02-21T16:07:36.973Z"
   },
   {
    "duration": 20,
    "start_time": "2022-02-21T16:14:17.760Z"
   },
   {
    "duration": 49,
    "start_time": "2022-02-21T16:14:23.266Z"
   },
   {
    "duration": 42,
    "start_time": "2022-02-21T16:14:28.946Z"
   },
   {
    "duration": 21,
    "start_time": "2022-02-21T16:15:55.324Z"
   },
   {
    "duration": 21,
    "start_time": "2022-02-21T16:16:11.780Z"
   },
   {
    "duration": 18,
    "start_time": "2022-02-21T16:17:25.266Z"
   },
   {
    "duration": 14,
    "start_time": "2022-02-21T16:18:35.151Z"
   },
   {
    "duration": 24,
    "start_time": "2022-02-21T16:18:41.196Z"
   },
   {
    "duration": 28,
    "start_time": "2022-02-21T16:18:47.746Z"
   },
   {
    "duration": 369,
    "start_time": "2022-02-21T16:19:17.246Z"
   },
   {
    "duration": 32,
    "start_time": "2022-02-21T16:19:25.481Z"
   },
   {
    "duration": 24,
    "start_time": "2022-02-21T16:26:26.659Z"
   },
   {
    "duration": 20,
    "start_time": "2022-02-21T16:27:25.725Z"
   },
   {
    "duration": 18,
    "start_time": "2022-02-21T16:28:04.069Z"
   },
   {
    "duration": 33,
    "start_time": "2022-02-21T17:37:10.549Z"
   },
   {
    "duration": 32,
    "start_time": "2022-02-21T17:38:22.078Z"
   },
   {
    "duration": 16,
    "start_time": "2022-02-21T17:39:03.968Z"
   },
   {
    "duration": 395,
    "start_time": "2022-02-21T17:40:10.283Z"
   },
   {
    "duration": 307,
    "start_time": "2022-02-21T17:40:37.683Z"
   },
   {
    "duration": 32,
    "start_time": "2022-02-21T17:40:59.343Z"
   },
   {
    "duration": 336,
    "start_time": "2022-02-21T17:41:33.018Z"
   },
   {
    "duration": 293,
    "start_time": "2022-02-21T17:41:37.093Z"
   },
   {
    "duration": 5,
    "start_time": "2022-02-21T17:41:42.792Z"
   },
   {
    "duration": 14,
    "start_time": "2022-02-21T17:42:26.317Z"
   },
   {
    "duration": 288,
    "start_time": "2022-02-21T17:42:35.031Z"
   },
   {
    "duration": 301,
    "start_time": "2022-02-21T17:42:48.183Z"
   },
   {
    "duration": 13,
    "start_time": "2022-02-21T17:42:54.042Z"
   },
   {
    "duration": 1149,
    "start_time": "2022-02-21T17:45:49.611Z"
   },
   {
    "duration": 290,
    "start_time": "2022-02-21T17:46:15.290Z"
   },
   {
    "duration": 14,
    "start_time": "2022-02-21T17:46:19.224Z"
   },
   {
    "duration": 11,
    "start_time": "2022-02-21T17:46:23.901Z"
   },
   {
    "duration": 290,
    "start_time": "2022-02-21T17:49:08.182Z"
   },
   {
    "duration": 38,
    "start_time": "2022-02-21T17:49:22.221Z"
   },
   {
    "duration": 59,
    "start_time": "2022-02-21T17:49:25.807Z"
   },
   {
    "duration": 8,
    "start_time": "2022-02-21T17:51:29.637Z"
   },
   {
    "duration": 10,
    "start_time": "2022-02-21T17:51:55.623Z"
   },
   {
    "duration": 8,
    "start_time": "2022-02-21T17:52:16.787Z"
   },
   {
    "duration": 24,
    "start_time": "2022-02-21T17:55:40.771Z"
   },
   {
    "duration": 23,
    "start_time": "2022-02-21T17:56:29.450Z"
   },
   {
    "duration": 8162,
    "start_time": "2022-02-21T17:56:34.599Z"
   },
   {
    "duration": 45,
    "start_time": "2022-02-21T17:57:47.289Z"
   },
   {
    "duration": 40,
    "start_time": "2022-02-21T17:59:04.814Z"
   },
   {
    "duration": 25,
    "start_time": "2022-02-21T17:59:21.897Z"
   },
   {
    "duration": 23,
    "start_time": "2022-02-21T18:00:25.512Z"
   },
   {
    "duration": 46,
    "start_time": "2022-02-21T18:01:18.278Z"
   },
   {
    "duration": 6,
    "start_time": "2022-02-21T18:01:30.834Z"
   },
   {
    "duration": 20,
    "start_time": "2022-02-21T18:01:33.153Z"
   },
   {
    "duration": 55,
    "start_time": "2022-02-21T18:01:40.630Z"
   },
   {
    "duration": 8,
    "start_time": "2022-02-21T18:03:21.486Z"
   },
   {
    "duration": 33,
    "start_time": "2022-02-21T18:07:14.221Z"
   },
   {
    "duration": 56,
    "start_time": "2022-02-21T18:07:18.585Z"
   },
   {
    "duration": 14,
    "start_time": "2022-02-21T18:26:54.680Z"
   },
   {
    "duration": 15,
    "start_time": "2022-02-21T18:27:11.754Z"
   },
   {
    "duration": 14,
    "start_time": "2022-02-21T18:27:46.312Z"
   },
   {
    "duration": 1413,
    "start_time": "2022-02-21T18:28:04.774Z"
   },
   {
    "duration": 1267,
    "start_time": "2022-02-21T18:28:17.848Z"
   },
   {
    "duration": 57,
    "start_time": "2022-02-21T18:29:09.994Z"
   },
   {
    "duration": 294,
    "start_time": "2022-02-21T18:30:18.765Z"
   },
   {
    "duration": 10,
    "start_time": "2022-02-21T18:33:30.213Z"
   },
   {
    "duration": 26,
    "start_time": "2022-02-21T18:33:33.706Z"
   },
   {
    "duration": 27,
    "start_time": "2022-02-21T18:33:49.077Z"
   },
   {
    "duration": 53,
    "start_time": "2022-02-21T18:33:58.126Z"
   },
   {
    "duration": 17,
    "start_time": "2022-02-21T18:34:04.247Z"
   },
   {
    "duration": 24,
    "start_time": "2022-02-21T18:34:06.027Z"
   },
   {
    "duration": 140,
    "start_time": "2022-02-21T18:34:25.570Z"
   },
   {
    "duration": 14,
    "start_time": "2022-02-21T18:34:28.233Z"
   },
   {
    "duration": 22,
    "start_time": "2022-02-21T18:34:31.019Z"
   },
   {
    "duration": 26,
    "start_time": "2022-02-21T18:34:40.232Z"
   },
   {
    "duration": 27,
    "start_time": "2022-02-21T18:34:49.950Z"
   },
   {
    "duration": 10,
    "start_time": "2022-02-21T18:35:13.649Z"
   },
   {
    "duration": 57,
    "start_time": "2022-02-21T18:36:02.247Z"
   },
   {
    "duration": 8,
    "start_time": "2022-02-21T18:36:08.893Z"
   },
   {
    "duration": 1575,
    "start_time": "2022-02-25T12:14:56.203Z"
   },
   {
    "duration": 492,
    "start_time": "2022-02-25T12:14:57.781Z"
   },
   {
    "duration": 43,
    "start_time": "2022-02-25T12:14:58.276Z"
   },
   {
    "duration": 40,
    "start_time": "2022-02-25T12:14:58.323Z"
   },
   {
    "duration": 57,
    "start_time": "2022-02-25T12:14:58.366Z"
   },
   {
    "duration": 39,
    "start_time": "2022-02-25T12:14:58.425Z"
   },
   {
    "duration": 52,
    "start_time": "2022-02-25T12:14:58.467Z"
   },
   {
    "duration": 17,
    "start_time": "2022-02-25T12:14:58.523Z"
   },
   {
    "duration": 62,
    "start_time": "2022-02-25T12:14:58.543Z"
   },
   {
    "duration": 26,
    "start_time": "2022-02-25T12:14:58.607Z"
   },
   {
    "duration": 131,
    "start_time": "2022-02-25T12:14:58.636Z"
   },
   {
    "duration": 23,
    "start_time": "2022-02-25T12:14:58.770Z"
   },
   {
    "duration": 46,
    "start_time": "2022-02-25T12:14:58.796Z"
   },
   {
    "duration": 340,
    "start_time": "2022-02-25T12:14:58.844Z"
   },
   {
    "duration": 312,
    "start_time": "2022-02-25T12:14:59.187Z"
   },
   {
    "duration": 27,
    "start_time": "2022-02-25T12:14:59.501Z"
   },
   {
    "duration": 243,
    "start_time": "2022-02-25T12:14:59.530Z"
   },
   {
    "duration": 29,
    "start_time": "2022-02-25T12:14:59.775Z"
   },
   {
    "duration": 46,
    "start_time": "2022-02-25T12:14:59.806Z"
   },
   {
    "duration": 74,
    "start_time": "2022-02-25T12:14:59.854Z"
   },
   {
    "duration": 3,
    "start_time": "2022-02-25T12:14:59.931Z"
   },
   {
    "duration": 10,
    "start_time": "2022-02-25T12:14:59.937Z"
   },
   {
    "duration": 40,
    "start_time": "2022-02-25T12:14:59.953Z"
   },
   {
    "duration": 40,
    "start_time": "2022-02-25T12:14:59.996Z"
   },
   {
    "duration": 25,
    "start_time": "2022-02-25T12:15:00.039Z"
   },
   {
    "duration": 45,
    "start_time": "2022-02-25T12:15:00.067Z"
   },
   {
    "duration": 17,
    "start_time": "2022-02-25T12:15:00.114Z"
   },
   {
    "duration": 39,
    "start_time": "2022-02-25T12:15:00.133Z"
   },
   {
    "duration": 60,
    "start_time": "2022-02-25T12:15:00.174Z"
   },
   {
    "duration": 5,
    "start_time": "2022-02-25T12:15:00.236Z"
   },
   {
    "duration": 50,
    "start_time": "2022-02-25T12:15:00.244Z"
   },
   {
    "duration": 7,
    "start_time": "2022-02-25T12:15:00.297Z"
   },
   {
    "duration": 53,
    "start_time": "2022-02-25T12:15:03.146Z"
   },
   {
    "duration": 104,
    "start_time": "2022-02-25T12:15:29.223Z"
   },
   {
    "duration": 37,
    "start_time": "2022-02-25T12:17:53.933Z"
   },
   {
    "duration": 12,
    "start_time": "2022-02-25T12:18:50.839Z"
   },
   {
    "duration": 54,
    "start_time": "2022-02-25T12:18:55.590Z"
   },
   {
    "duration": 15,
    "start_time": "2022-02-25T12:19:06.702Z"
   },
   {
    "duration": 64,
    "start_time": "2022-02-25T12:19:10.603Z"
   },
   {
    "duration": 1484,
    "start_time": "2022-02-25T12:19:23.198Z"
   },
   {
    "duration": 596,
    "start_time": "2022-02-25T12:19:24.685Z"
   },
   {
    "duration": 56,
    "start_time": "2022-02-25T12:19:25.285Z"
   },
   {
    "duration": 80,
    "start_time": "2022-02-25T12:19:25.344Z"
   },
   {
    "duration": 36,
    "start_time": "2022-02-25T12:19:25.427Z"
   },
   {
    "duration": 68,
    "start_time": "2022-02-25T12:19:25.466Z"
   },
   {
    "duration": 65,
    "start_time": "2022-02-25T12:19:25.537Z"
   },
   {
    "duration": 25,
    "start_time": "2022-02-25T12:19:25.608Z"
   },
   {
    "duration": 24,
    "start_time": "2022-02-25T12:19:25.635Z"
   },
   {
    "duration": 34,
    "start_time": "2022-02-25T12:19:25.694Z"
   },
   {
    "duration": 135,
    "start_time": "2022-02-25T12:19:25.731Z"
   },
   {
    "duration": 27,
    "start_time": "2022-02-25T12:19:25.869Z"
   },
   {
    "duration": 68,
    "start_time": "2022-02-25T12:19:25.899Z"
   },
   {
    "duration": 365,
    "start_time": "2022-02-25T12:19:25.970Z"
   },
   {
    "duration": 392,
    "start_time": "2022-02-25T12:19:26.339Z"
   },
   {
    "duration": 29,
    "start_time": "2022-02-25T12:19:26.734Z"
   },
   {
    "duration": 274,
    "start_time": "2022-02-25T12:19:26.765Z"
   },
   {
    "duration": 19,
    "start_time": "2022-02-25T12:19:27.042Z"
   },
   {
    "duration": 78,
    "start_time": "2022-02-25T12:19:27.064Z"
   },
   {
    "duration": 80,
    "start_time": "2022-02-25T12:19:27.144Z"
   },
   {
    "duration": 3,
    "start_time": "2022-02-25T12:19:27.226Z"
   },
   {
    "duration": 10,
    "start_time": "2022-02-25T12:19:27.232Z"
   },
   {
    "duration": 27,
    "start_time": "2022-02-25T12:19:27.247Z"
   },
   {
    "duration": 54,
    "start_time": "2022-02-25T12:19:27.277Z"
   },
   {
    "duration": 25,
    "start_time": "2022-02-25T12:19:27.334Z"
   },
   {
    "duration": 41,
    "start_time": "2022-02-25T12:19:27.362Z"
   },
   {
    "duration": 8,
    "start_time": "2022-02-25T12:19:27.406Z"
   },
   {
    "duration": 43,
    "start_time": "2022-02-25T12:19:27.417Z"
   },
   {
    "duration": 71,
    "start_time": "2022-02-25T12:19:27.462Z"
   },
   {
    "duration": 5,
    "start_time": "2022-02-25T12:19:27.536Z"
   },
   {
    "duration": 27,
    "start_time": "2022-02-25T12:19:27.544Z"
   },
   {
    "duration": 31,
    "start_time": "2022-02-25T12:19:27.573Z"
   },
   {
    "duration": 51,
    "start_time": "2022-02-25T12:19:27.607Z"
   },
   {
    "duration": 39,
    "start_time": "2022-02-25T12:19:31.541Z"
   },
   {
    "duration": 417,
    "start_time": "2022-02-25T12:22:10.671Z"
   },
   {
    "duration": 268,
    "start_time": "2022-02-25T12:22:18.200Z"
   },
   {
    "duration": 9,
    "start_time": "2022-02-25T12:22:22.727Z"
   },
   {
    "duration": 45,
    "start_time": "2022-02-25T12:22:28.853Z"
   },
   {
    "duration": 13,
    "start_time": "2022-02-25T12:22:51.082Z"
   },
   {
    "duration": 344,
    "start_time": "2022-02-25T12:35:48.240Z"
   },
   {
    "duration": 1529,
    "start_time": "2022-02-25T12:35:53.863Z"
   },
   {
    "duration": 528,
    "start_time": "2022-02-25T12:35:55.395Z"
   },
   {
    "duration": 50,
    "start_time": "2022-02-25T12:35:55.927Z"
   },
   {
    "duration": 50,
    "start_time": "2022-02-25T12:35:55.981Z"
   },
   {
    "duration": 35,
    "start_time": "2022-02-25T12:35:56.034Z"
   },
   {
    "duration": 44,
    "start_time": "2022-02-25T12:35:56.095Z"
   },
   {
    "duration": 55,
    "start_time": "2022-02-25T12:35:56.142Z"
   },
   {
    "duration": 21,
    "start_time": "2022-02-25T12:35:56.200Z"
   },
   {
    "duration": 25,
    "start_time": "2022-02-25T12:35:56.224Z"
   },
   {
    "duration": 63,
    "start_time": "2022-02-25T12:35:56.252Z"
   },
   {
    "duration": 128,
    "start_time": "2022-02-25T12:35:56.318Z"
   },
   {
    "duration": 15,
    "start_time": "2022-02-25T12:35:56.448Z"
   },
   {
    "duration": 66,
    "start_time": "2022-02-25T12:35:56.465Z"
   },
   {
    "duration": 355,
    "start_time": "2022-02-25T12:35:56.533Z"
   },
   {
    "duration": 399,
    "start_time": "2022-02-25T12:35:56.894Z"
   },
   {
    "duration": 28,
    "start_time": "2022-02-25T12:35:57.295Z"
   },
   {
    "duration": 279,
    "start_time": "2022-02-25T12:35:57.326Z"
   },
   {
    "duration": 19,
    "start_time": "2022-02-25T12:35:57.609Z"
   },
   {
    "duration": 85,
    "start_time": "2022-02-25T12:35:57.631Z"
   },
   {
    "duration": 85,
    "start_time": "2022-02-25T12:36:01.556Z"
   },
   {
    "duration": 17,
    "start_time": "2022-02-25T12:36:11.039Z"
   },
   {
    "duration": 45,
    "start_time": "2022-02-25T12:36:12.760Z"
   },
   {
    "duration": 36,
    "start_time": "2022-02-25T12:36:14.785Z"
   },
   {
    "duration": 22,
    "start_time": "2022-02-25T12:36:16.602Z"
   },
   {
    "duration": 10,
    "start_time": "2022-02-25T12:36:19.159Z"
   },
   {
    "duration": 34,
    "start_time": "2022-02-25T12:36:20.921Z"
   },
   {
    "duration": 50,
    "start_time": "2022-02-25T12:36:24.805Z"
   },
   {
    "duration": 5,
    "start_time": "2022-02-25T12:36:31.375Z"
   },
   {
    "duration": 19,
    "start_time": "2022-02-25T12:36:33.087Z"
   },
   {
    "duration": 9,
    "start_time": "2022-02-25T12:36:38.674Z"
   },
   {
    "duration": 1338,
    "start_time": "2022-02-25T12:36:47.259Z"
   },
   {
    "duration": 418,
    "start_time": "2022-02-25T12:42:15.355Z"
   },
   {
    "duration": 1474,
    "start_time": "2022-02-25T12:42:26.609Z"
   },
   {
    "duration": 487,
    "start_time": "2022-02-25T12:42:28.085Z"
   },
   {
    "duration": 44,
    "start_time": "2022-02-25T12:42:28.575Z"
   },
   {
    "duration": 41,
    "start_time": "2022-02-25T12:42:28.622Z"
   },
   {
    "duration": 51,
    "start_time": "2022-02-25T12:42:28.665Z"
   },
   {
    "duration": 41,
    "start_time": "2022-02-25T12:42:28.719Z"
   },
   {
    "duration": 55,
    "start_time": "2022-02-25T12:42:28.762Z"
   },
   {
    "duration": 18,
    "start_time": "2022-02-25T12:42:28.820Z"
   },
   {
    "duration": 55,
    "start_time": "2022-02-25T12:42:28.840Z"
   },
   {
    "duration": 21,
    "start_time": "2022-02-25T12:42:28.897Z"
   },
   {
    "duration": 124,
    "start_time": "2022-02-25T12:42:28.920Z"
   },
   {
    "duration": 13,
    "start_time": "2022-02-25T12:42:29.046Z"
   },
   {
    "duration": 67,
    "start_time": "2022-02-25T12:42:29.062Z"
   },
   {
    "duration": 351,
    "start_time": "2022-02-25T12:42:29.131Z"
   },
   {
    "duration": 314,
    "start_time": "2022-02-25T12:42:29.485Z"
   },
   {
    "duration": 28,
    "start_time": "2022-02-25T12:42:29.802Z"
   },
   {
    "duration": 267,
    "start_time": "2022-02-25T12:42:29.833Z"
   },
   {
    "duration": 18,
    "start_time": "2022-02-25T12:42:30.102Z"
   },
   {
    "duration": 74,
    "start_time": "2022-02-25T12:42:30.122Z"
   },
   {
    "duration": 89,
    "start_time": "2022-02-25T12:42:38.737Z"
   },
   {
    "duration": 84,
    "start_time": "2022-02-25T12:42:58.961Z"
   },
   {
    "duration": 19,
    "start_time": "2022-02-25T12:43:08.335Z"
   },
   {
    "duration": 46,
    "start_time": "2022-02-25T12:43:10.509Z"
   },
   {
    "duration": 26,
    "start_time": "2022-02-25T12:43:12.131Z"
   },
   {
    "duration": 20,
    "start_time": "2022-02-25T12:43:13.610Z"
   },
   {
    "duration": 10,
    "start_time": "2022-02-25T12:43:15.749Z"
   },
   {
    "duration": 33,
    "start_time": "2022-02-25T12:43:17.361Z"
   },
   {
    "duration": 45,
    "start_time": "2022-02-25T12:43:18.923Z"
   },
   {
    "duration": 5,
    "start_time": "2022-02-25T12:43:21.058Z"
   },
   {
    "duration": 18,
    "start_time": "2022-02-25T12:43:22.565Z"
   },
   {
    "duration": 10,
    "start_time": "2022-02-25T12:43:24.576Z"
   },
   {
    "duration": 52,
    "start_time": "2022-02-25T12:43:52.302Z"
   },
   {
    "duration": 41,
    "start_time": "2022-02-25T12:44:09.045Z"
   },
   {
    "duration": 56,
    "start_time": "2022-02-25T12:44:11.137Z"
   },
   {
    "duration": 11,
    "start_time": "2022-02-25T13:05:15.019Z"
   },
   {
    "duration": 11,
    "start_time": "2022-02-25T13:37:35.338Z"
   },
   {
    "duration": 1441,
    "start_time": "2022-02-25T14:01:06.322Z"
   },
   {
    "duration": 528,
    "start_time": "2022-02-25T14:01:07.765Z"
   },
   {
    "duration": 47,
    "start_time": "2022-02-25T14:01:08.296Z"
   },
   {
    "duration": 59,
    "start_time": "2022-02-25T14:01:08.346Z"
   },
   {
    "duration": 34,
    "start_time": "2022-02-25T14:01:08.408Z"
   },
   {
    "duration": 69,
    "start_time": "2022-02-25T14:01:08.445Z"
   },
   {
    "duration": 29,
    "start_time": "2022-02-25T14:01:08.516Z"
   },
   {
    "duration": 46,
    "start_time": "2022-02-25T14:01:08.549Z"
   },
   {
    "duration": 24,
    "start_time": "2022-02-25T14:01:08.598Z"
   },
   {
    "duration": 26,
    "start_time": "2022-02-25T14:01:08.624Z"
   },
   {
    "duration": 135,
    "start_time": "2022-02-25T14:01:08.652Z"
   },
   {
    "duration": 14,
    "start_time": "2022-02-25T14:01:08.789Z"
   },
   {
    "duration": 46,
    "start_time": "2022-02-25T14:01:08.806Z"
   },
   {
    "duration": 349,
    "start_time": "2022-02-25T14:01:08.854Z"
   },
   {
    "duration": 296,
    "start_time": "2022-02-25T14:01:09.206Z"
   },
   {
    "duration": 28,
    "start_time": "2022-02-25T14:01:09.506Z"
   },
   {
    "duration": 262,
    "start_time": "2022-02-25T14:01:09.537Z"
   },
   {
    "duration": 16,
    "start_time": "2022-02-25T14:01:09.802Z"
   },
   {
    "duration": 73,
    "start_time": "2022-02-25T14:01:09.820Z"
   },
   {
    "duration": 98,
    "start_time": "2022-02-25T14:01:09.896Z"
   },
   {
    "duration": 3,
    "start_time": "2022-02-25T14:01:09.996Z"
   },
   {
    "duration": 10,
    "start_time": "2022-02-25T14:01:10.001Z"
   },
   {
    "duration": 25,
    "start_time": "2022-02-25T14:01:10.016Z"
   },
   {
    "duration": 64,
    "start_time": "2022-02-25T14:01:10.044Z"
   },
   {
    "duration": 25,
    "start_time": "2022-02-25T14:01:10.110Z"
   },
   {
    "duration": 3,
    "start_time": "2022-02-25T14:01:10.137Z"
   },
   {
    "duration": 20,
    "start_time": "2022-02-25T14:01:10.142Z"
   },
   {
    "duration": 52,
    "start_time": "2022-02-25T14:01:10.165Z"
   },
   {
    "duration": 46,
    "start_time": "2022-02-25T14:01:10.220Z"
   },
   {
    "duration": 25,
    "start_time": "2022-02-25T14:01:10.269Z"
   },
   {
    "duration": 19,
    "start_time": "2022-02-25T14:01:10.296Z"
   },
   {
    "duration": 14,
    "start_time": "2022-02-25T14:01:10.318Z"
   },
   {
    "duration": 1440,
    "start_time": "2022-02-25T14:01:13.718Z"
   },
   {
    "duration": 111,
    "start_time": "2022-02-25T14:20:22.650Z"
   },
   {
    "duration": 50,
    "start_time": "2022-02-25T14:20:44.776Z"
   },
   {
    "duration": 39,
    "start_time": "2022-02-25T14:23:57.825Z"
   },
   {
    "duration": 52,
    "start_time": "2022-02-25T14:24:00.738Z"
   },
   {
    "duration": 10,
    "start_time": "2022-02-25T14:24:03.032Z"
   },
   {
    "duration": 12,
    "start_time": "2022-02-25T14:24:32.093Z"
   },
   {
    "duration": 293,
    "start_time": "2022-02-25T14:39:09.899Z"
   },
   {
    "duration": 9,
    "start_time": "2022-02-25T14:39:17.056Z"
   },
   {
    "duration": 414,
    "start_time": "2022-02-25T14:39:24.491Z"
   },
   {
    "duration": 12,
    "start_time": "2022-02-25T14:49:53.437Z"
   },
   {
    "duration": 16,
    "start_time": "2022-02-25T14:55:59.128Z"
   },
   {
    "duration": 33,
    "start_time": "2022-02-25T14:56:05.870Z"
   },
   {
    "duration": 305,
    "start_time": "2022-02-25T14:59:33.106Z"
   },
   {
    "duration": 48,
    "start_time": "2022-02-25T15:00:06.714Z"
   },
   {
    "duration": 274,
    "start_time": "2022-02-25T15:33:37.807Z"
   },
   {
    "duration": 343,
    "start_time": "2022-02-25T15:34:49.806Z"
   },
   {
    "duration": 361,
    "start_time": "2022-02-25T15:35:03.290Z"
   },
   {
    "duration": 744,
    "start_time": "2022-02-25T15:35:56.794Z"
   },
   {
    "duration": 305,
    "start_time": "2022-02-25T16:09:54.042Z"
   },
   {
    "duration": 323,
    "start_time": "2022-02-25T16:10:39.116Z"
   },
   {
    "duration": 415,
    "start_time": "2022-02-25T16:12:01.528Z"
   },
   {
    "duration": 2842,
    "start_time": "2022-02-25T16:13:38.213Z"
   },
   {
    "duration": 7287,
    "start_time": "2022-02-25T17:39:07.529Z"
   },
   {
    "duration": 310,
    "start_time": "2022-02-25T17:39:39.931Z"
   },
   {
    "duration": 290,
    "start_time": "2022-02-25T17:45:38.982Z"
   },
   {
    "duration": 14468,
    "start_time": "2022-02-25T17:59:03.014Z"
   },
   {
    "duration": 13499,
    "start_time": "2022-02-25T17:59:24.901Z"
   },
   {
    "duration": 12251,
    "start_time": "2022-02-25T17:59:59.164Z"
   },
   {
    "duration": 39,
    "start_time": "2022-02-25T18:01:48.990Z"
   },
   {
    "duration": 287,
    "start_time": "2022-02-25T18:03:54.069Z"
   },
   {
    "duration": 139,
    "start_time": "2022-02-25T18:05:12.074Z"
   },
   {
    "duration": 5262,
    "start_time": "2022-02-25T18:09:42.520Z"
   },
   {
    "duration": 1542,
    "start_time": "2022-02-25T18:09:47.785Z"
   },
   {
    "duration": 1021,
    "start_time": "2022-02-25T18:09:49.330Z"
   },
   {
    "duration": 42,
    "start_time": "2022-02-25T18:09:50.354Z"
   },
   {
    "duration": 42,
    "start_time": "2022-02-25T18:09:50.399Z"
   },
   {
    "duration": 68,
    "start_time": "2022-02-25T18:09:50.443Z"
   },
   {
    "duration": 44,
    "start_time": "2022-02-25T18:09:50.514Z"
   },
   {
    "duration": 56,
    "start_time": "2022-02-25T18:09:50.564Z"
   },
   {
    "duration": 19,
    "start_time": "2022-02-25T18:09:50.624Z"
   },
   {
    "duration": 69,
    "start_time": "2022-02-25T18:09:50.646Z"
   },
   {
    "duration": 25,
    "start_time": "2022-02-25T18:09:50.718Z"
   },
   {
    "duration": 183,
    "start_time": "2022-02-25T18:09:50.746Z"
   },
   {
    "duration": 14,
    "start_time": "2022-02-25T18:09:50.932Z"
   },
   {
    "duration": 67,
    "start_time": "2022-02-25T18:09:50.949Z"
   },
   {
    "duration": 335,
    "start_time": "2022-02-25T18:09:51.018Z"
   },
   {
    "duration": 306,
    "start_time": "2022-02-25T18:09:51.356Z"
   },
   {
    "duration": 48,
    "start_time": "2022-02-25T18:09:51.665Z"
   },
   {
    "duration": 265,
    "start_time": "2022-02-25T18:09:51.716Z"
   },
   {
    "duration": 17,
    "start_time": "2022-02-25T18:09:51.994Z"
   },
   {
    "duration": 44,
    "start_time": "2022-02-25T18:09:52.014Z"
   },
   {
    "duration": 109,
    "start_time": "2022-02-25T18:09:52.061Z"
   },
   {
    "duration": 2,
    "start_time": "2022-02-25T18:09:52.173Z"
   },
   {
    "duration": 3,
    "start_time": "2022-02-25T18:09:52.197Z"
   },
   {
    "duration": 25,
    "start_time": "2022-02-25T18:09:52.203Z"
   },
   {
    "duration": 62,
    "start_time": "2022-02-25T18:09:52.231Z"
   },
   {
    "duration": 26,
    "start_time": "2022-02-25T18:09:52.296Z"
   },
   {
    "duration": 2,
    "start_time": "2022-02-25T18:09:52.325Z"
   },
   {
    "duration": 13,
    "start_time": "2022-02-25T18:09:52.330Z"
   },
   {
    "duration": 62,
    "start_time": "2022-02-25T18:09:52.346Z"
   },
   {
    "duration": 46,
    "start_time": "2022-02-25T18:09:52.411Z"
   },
   {
    "duration": 6,
    "start_time": "2022-02-25T18:09:52.460Z"
   },
   {
    "duration": 51,
    "start_time": "2022-02-25T18:09:52.469Z"
   },
   {
    "duration": 13,
    "start_time": "2022-02-25T18:09:52.523Z"
   },
   {
    "duration": 103,
    "start_time": "2022-02-25T18:09:52.539Z"
   },
   {
    "duration": 55,
    "start_time": "2022-02-25T18:09:52.646Z"
   },
   {
    "duration": 53,
    "start_time": "2022-02-25T18:09:52.704Z"
   },
   {
    "duration": 36,
    "start_time": "2022-02-25T18:09:52.759Z"
   },
   {
    "duration": 12,
    "start_time": "2022-02-25T18:09:52.798Z"
   },
   {
    "duration": 7,
    "start_time": "2022-02-25T18:09:52.812Z"
   },
   {
    "duration": 433,
    "start_time": "2022-02-25T18:09:52.822Z"
   },
   {
    "duration": 11,
    "start_time": "2022-02-25T18:09:53.257Z"
   },
   {
    "duration": 52,
    "start_time": "2022-02-25T18:09:53.270Z"
   },
   {
    "duration": 47,
    "start_time": "2022-02-25T18:09:53.323Z"
   },
   {
    "duration": 849,
    "start_time": "2022-02-25T18:09:53.373Z"
   },
   {
    "duration": 411,
    "start_time": "2022-02-25T18:09:59.127Z"
   },
   {
    "duration": 346,
    "start_time": "2022-02-25T18:10:44.296Z"
   },
   {
    "duration": 349,
    "start_time": "2022-02-25T18:12:44.151Z"
   },
   {
    "duration": 416,
    "start_time": "2022-02-25T18:13:06.442Z"
   },
   {
    "duration": 7770,
    "start_time": "2022-02-25T18:14:22.213Z"
   },
   {
    "duration": 511,
    "start_time": "2022-02-25T18:14:36.714Z"
   },
   {
    "duration": 503,
    "start_time": "2022-02-25T18:15:39.034Z"
   },
   {
    "duration": 522,
    "start_time": "2022-02-25T18:15:52.412Z"
   },
   {
    "duration": 563,
    "start_time": "2022-02-25T18:16:51.609Z"
   },
   {
    "duration": 724,
    "start_time": "2022-02-25T18:17:10.018Z"
   },
   {
    "duration": 642,
    "start_time": "2022-02-25T18:17:33.466Z"
   },
   {
    "duration": 902,
    "start_time": "2022-02-25T18:17:42.952Z"
   },
   {
    "duration": 1048,
    "start_time": "2022-02-25T18:18:57.517Z"
   },
   {
    "duration": 889,
    "start_time": "2022-02-25T18:19:51.342Z"
   },
   {
    "duration": 4620,
    "start_time": "2022-02-25T18:33:10.327Z"
   },
   {
    "duration": 686,
    "start_time": "2022-02-25T18:33:51.607Z"
   },
   {
    "duration": 672,
    "start_time": "2022-02-25T18:34:08.849Z"
   },
   {
    "duration": 712,
    "start_time": "2022-02-25T18:34:37.587Z"
   },
   {
    "duration": 948,
    "start_time": "2022-02-25T18:36:56.423Z"
   },
   {
    "duration": 687,
    "start_time": "2022-02-25T18:36:58.662Z"
   },
   {
    "duration": 650,
    "start_time": "2022-02-25T18:37:03.773Z"
   },
   {
    "duration": 654,
    "start_time": "2022-02-25T18:37:17.560Z"
   },
   {
    "duration": 696,
    "start_time": "2022-02-25T18:37:49.379Z"
   },
   {
    "duration": 756,
    "start_time": "2022-02-25T18:37:56.956Z"
   },
   {
    "duration": 778,
    "start_time": "2022-02-25T18:38:08.700Z"
   },
   {
    "duration": 713,
    "start_time": "2022-02-25T18:38:25.583Z"
   },
   {
    "duration": 635,
    "start_time": "2022-02-25T18:38:33.205Z"
   },
   {
    "duration": 756,
    "start_time": "2022-02-25T18:38:41.554Z"
   },
   {
    "duration": 680,
    "start_time": "2022-02-25T18:38:58.163Z"
   },
   {
    "duration": 673,
    "start_time": "2022-02-25T18:39:13.210Z"
   },
   {
    "duration": 836,
    "start_time": "2022-02-25T18:40:30.929Z"
   },
   {
    "duration": 749,
    "start_time": "2022-02-25T19:10:56.644Z"
   },
   {
    "duration": 720,
    "start_time": "2022-02-25T19:11:07.428Z"
   },
   {
    "duration": 279,
    "start_time": "2022-02-26T17:49:06.539Z"
   },
   {
    "duration": 3159,
    "start_time": "2022-02-26T17:50:32.053Z"
   },
   {
    "duration": 1063,
    "start_time": "2022-02-26T17:50:35.214Z"
   },
   {
    "duration": 345,
    "start_time": "2022-02-26T17:50:36.279Z"
   },
   {
    "duration": 29,
    "start_time": "2022-02-26T17:50:36.625Z"
   },
   {
    "duration": 25,
    "start_time": "2022-02-26T17:50:36.656Z"
   },
   {
    "duration": 21,
    "start_time": "2022-02-26T17:50:36.682Z"
   },
   {
    "duration": 25,
    "start_time": "2022-02-26T17:50:36.705Z"
   },
   {
    "duration": 17,
    "start_time": "2022-02-26T17:50:36.732Z"
   },
   {
    "duration": 10,
    "start_time": "2022-02-26T17:50:36.751Z"
   },
   {
    "duration": 40,
    "start_time": "2022-02-26T17:50:36.763Z"
   },
   {
    "duration": 14,
    "start_time": "2022-02-26T17:50:36.804Z"
   },
   {
    "duration": 63,
    "start_time": "2022-02-26T17:50:36.820Z"
   },
   {
    "duration": 10,
    "start_time": "2022-02-26T17:50:36.904Z"
   },
   {
    "duration": 35,
    "start_time": "2022-02-26T17:50:36.916Z"
   },
   {
    "duration": 179,
    "start_time": "2022-02-26T17:50:36.953Z"
   },
   {
    "duration": 155,
    "start_time": "2022-02-26T17:50:37.133Z"
   },
   {
    "duration": 21,
    "start_time": "2022-02-26T17:50:37.289Z"
   },
   {
    "duration": 137,
    "start_time": "2022-02-26T17:50:37.311Z"
   },
   {
    "duration": 10,
    "start_time": "2022-02-26T17:50:37.450Z"
   },
   {
    "duration": 43,
    "start_time": "2022-02-26T17:50:37.462Z"
   },
   {
    "duration": 48,
    "start_time": "2022-02-26T17:50:37.506Z"
   },
   {
    "duration": 2,
    "start_time": "2022-02-26T17:50:37.555Z"
   },
   {
    "duration": 8,
    "start_time": "2022-02-26T17:50:37.560Z"
   },
   {
    "duration": 9,
    "start_time": "2022-02-26T17:50:37.570Z"
   },
   {
    "duration": 33,
    "start_time": "2022-02-26T17:50:37.581Z"
   },
   {
    "duration": 14,
    "start_time": "2022-02-26T17:50:37.615Z"
   },
   {
    "duration": 2,
    "start_time": "2022-02-26T17:50:37.630Z"
   },
   {
    "duration": 8,
    "start_time": "2022-02-26T17:50:37.633Z"
   },
   {
    "duration": 21,
    "start_time": "2022-02-26T17:50:37.642Z"
   },
   {
    "duration": 55,
    "start_time": "2022-02-26T17:50:37.664Z"
   },
   {
    "duration": 3,
    "start_time": "2022-02-26T17:50:37.720Z"
   },
   {
    "duration": 12,
    "start_time": "2022-02-26T17:50:37.725Z"
   },
   {
    "duration": 6,
    "start_time": "2022-02-26T17:50:37.738Z"
   },
   {
    "duration": 35,
    "start_time": "2022-02-26T17:50:37.746Z"
   },
   {
    "duration": 39,
    "start_time": "2022-02-26T17:50:37.782Z"
   },
   {
    "duration": 28,
    "start_time": "2022-02-26T17:50:37.822Z"
   },
   {
    "duration": 6,
    "start_time": "2022-02-26T17:50:37.852Z"
   },
   {
    "duration": 7,
    "start_time": "2022-02-26T17:50:37.859Z"
   },
   {
    "duration": 4,
    "start_time": "2022-02-26T17:50:37.867Z"
   },
   {
    "duration": 247,
    "start_time": "2022-02-26T17:50:37.873Z"
   },
   {
    "duration": 6,
    "start_time": "2022-02-26T17:50:38.121Z"
   },
   {
    "duration": 19,
    "start_time": "2022-02-26T17:50:38.128Z"
   },
   {
    "duration": 24,
    "start_time": "2022-02-26T17:50:38.149Z"
   },
   {
    "duration": 481,
    "start_time": "2022-02-26T17:50:38.175Z"
   },
   {
    "duration": 390,
    "start_time": "2022-02-26T17:50:38.658Z"
   },
   {
    "duration": 352,
    "start_time": "2022-02-26T17:50:39.049Z"
   },
   {
    "duration": 406,
    "start_time": "2022-02-26T17:58:43.130Z"
   },
   {
    "duration": 394,
    "start_time": "2022-02-26T17:59:28.823Z"
   },
   {
    "duration": 424,
    "start_time": "2022-02-26T18:00:13.417Z"
   },
   {
    "duration": 453,
    "start_time": "2022-02-26T18:00:25.477Z"
   },
   {
    "duration": 4798,
    "start_time": "2022-03-01T13:32:17.655Z"
   },
   {
    "duration": 6452,
    "start_time": "2022-03-01T14:40:18.634Z"
   },
   {
    "duration": 1668,
    "start_time": "2022-03-01T14:40:25.089Z"
   },
   {
    "duration": 500,
    "start_time": "2022-03-01T14:40:26.760Z"
   },
   {
    "duration": 42,
    "start_time": "2022-03-01T14:40:27.263Z"
   },
   {
    "duration": 39,
    "start_time": "2022-03-01T14:40:27.308Z"
   },
   {
    "duration": 32,
    "start_time": "2022-03-01T14:40:27.349Z"
   },
   {
    "duration": 63,
    "start_time": "2022-03-01T14:40:27.384Z"
   },
   {
    "duration": 27,
    "start_time": "2022-03-01T14:40:27.450Z"
   },
   {
    "duration": 18,
    "start_time": "2022-03-01T14:40:27.479Z"
   },
   {
    "duration": 23,
    "start_time": "2022-03-01T14:40:27.533Z"
   },
   {
    "duration": 25,
    "start_time": "2022-03-01T14:40:27.559Z"
   },
   {
    "duration": 92,
    "start_time": "2022-03-01T15:05:20.649Z"
   },
   {
    "duration": 22,
    "start_time": "2022-03-01T16:34:46.973Z"
   },
   {
    "duration": 13,
    "start_time": "2022-03-01T16:36:31.652Z"
   },
   {
    "duration": 46,
    "start_time": "2022-03-01T17:07:12.736Z"
   },
   {
    "duration": 308,
    "start_time": "2022-03-01T17:07:19.490Z"
   },
   {
    "duration": 293,
    "start_time": "2022-03-01T17:07:23.932Z"
   },
   {
    "duration": 276,
    "start_time": "2022-03-01T17:08:03.950Z"
   },
   {
    "duration": 29,
    "start_time": "2022-03-01T17:19:04.022Z"
   },
   {
    "duration": 401,
    "start_time": "2022-03-01T17:19:09.841Z"
   },
   {
    "duration": 3285,
    "start_time": "2022-03-01T17:19:32.615Z"
   },
   {
    "duration": 1460,
    "start_time": "2022-03-01T17:19:35.903Z"
   },
   {
    "duration": 537,
    "start_time": "2022-03-01T17:19:37.366Z"
   },
   {
    "duration": 42,
    "start_time": "2022-03-01T17:19:37.905Z"
   },
   {
    "duration": 39,
    "start_time": "2022-03-01T17:19:37.949Z"
   },
   {
    "duration": 56,
    "start_time": "2022-03-01T17:19:37.991Z"
   },
   {
    "duration": 39,
    "start_time": "2022-03-01T17:19:38.050Z"
   },
   {
    "duration": 55,
    "start_time": "2022-03-01T17:19:38.093Z"
   },
   {
    "duration": 17,
    "start_time": "2022-03-01T17:19:38.151Z"
   },
   {
    "duration": 61,
    "start_time": "2022-03-01T17:19:38.171Z"
   },
   {
    "duration": 22,
    "start_time": "2022-03-01T17:19:38.234Z"
   },
   {
    "duration": 117,
    "start_time": "2022-03-01T17:19:38.259Z"
   },
   {
    "duration": 15,
    "start_time": "2022-03-01T17:19:38.378Z"
   },
   {
    "duration": 69,
    "start_time": "2022-03-01T17:19:38.395Z"
   },
   {
    "duration": 314,
    "start_time": "2022-03-01T17:19:38.467Z"
   },
   {
    "duration": 284,
    "start_time": "2022-03-01T17:19:38.783Z"
   },
   {
    "duration": 14,
    "start_time": "2022-03-01T17:19:42.240Z"
   },
   {
    "duration": 6,
    "start_time": "2022-03-01T17:24:19.314Z"
   },
   {
    "duration": 31,
    "start_time": "2022-03-01T17:25:41.113Z"
   },
   {
    "duration": 84,
    "start_time": "2022-03-01T17:44:07.945Z"
   },
   {
    "duration": 42,
    "start_time": "2022-03-01T17:51:26.330Z"
   },
   {
    "duration": 21,
    "start_time": "2022-03-01T17:52:40.326Z"
   },
   {
    "duration": 45,
    "start_time": "2022-03-01T17:53:25.639Z"
   },
   {
    "duration": 19,
    "start_time": "2022-03-01T18:01:35.245Z"
   },
   {
    "duration": 51,
    "start_time": "2022-03-01T20:04:52.810Z"
   },
   {
    "duration": 6,
    "start_time": "2022-03-01T20:06:06.981Z"
   },
   {
    "duration": 116,
    "start_time": "2022-03-01T20:08:04.954Z"
   },
   {
    "duration": 6,
    "start_time": "2022-03-01T20:08:09.799Z"
   },
   {
    "duration": 39,
    "start_time": "2022-03-01T20:08:29.564Z"
   },
   {
    "duration": 43,
    "start_time": "2022-03-01T20:08:39.202Z"
   },
   {
    "duration": 81,
    "start_time": "2022-03-01T20:09:54.502Z"
   },
   {
    "duration": 10,
    "start_time": "2022-03-01T20:10:01.123Z"
   },
   {
    "duration": 6366,
    "start_time": "2022-03-01T20:12:42.601Z"
   },
   {
    "duration": 5884,
    "start_time": "2022-03-01T20:12:56.303Z"
   },
   {
    "duration": 14,
    "start_time": "2022-03-01T20:13:15.630Z"
   },
   {
    "duration": 6,
    "start_time": "2022-03-01T20:13:19.770Z"
   },
   {
    "duration": 237,
    "start_time": "2022-03-01T20:39:59.427Z"
   },
   {
    "duration": 7,
    "start_time": "2022-03-01T20:40:04.179Z"
   },
   {
    "duration": 6780,
    "start_time": "2022-03-01T20:40:07.766Z"
   },
   {
    "duration": 11,
    "start_time": "2022-03-01T20:40:34.056Z"
   },
   {
    "duration": 405,
    "start_time": "2022-03-01T20:40:37.697Z"
   },
   {
    "duration": 9,
    "start_time": "2022-03-01T20:42:32.668Z"
   },
   {
    "duration": 27,
    "start_time": "2022-03-01T20:55:09.781Z"
   },
   {
    "duration": 34,
    "start_time": "2022-03-01T20:57:12.335Z"
   },
   {
    "duration": 38454,
    "start_time": "2022-03-03T15:17:34.657Z"
   },
   {
    "duration": 1046,
    "start_time": "2022-03-03T15:18:13.115Z"
   },
   {
    "duration": 359,
    "start_time": "2022-03-03T15:18:14.163Z"
   },
   {
    "duration": 29,
    "start_time": "2022-03-03T15:18:14.524Z"
   },
   {
    "duration": 27,
    "start_time": "2022-03-03T15:18:14.555Z"
   },
   {
    "duration": 22,
    "start_time": "2022-03-03T15:18:14.583Z"
   },
   {
    "duration": 48,
    "start_time": "2022-03-03T15:18:14.606Z"
   },
   {
    "duration": 19,
    "start_time": "2022-03-03T15:18:14.656Z"
   },
   {
    "duration": 11,
    "start_time": "2022-03-03T15:18:14.676Z"
   },
   {
    "duration": 14,
    "start_time": "2022-03-03T15:18:14.689Z"
   },
   {
    "duration": 42,
    "start_time": "2022-03-03T15:18:14.704Z"
   },
   {
    "duration": 63,
    "start_time": "2022-03-03T15:18:14.748Z"
   },
   {
    "duration": 12,
    "start_time": "2022-03-03T15:18:14.832Z"
   },
   {
    "duration": 33,
    "start_time": "2022-03-03T15:18:14.846Z"
   },
   {
    "duration": 203,
    "start_time": "2022-03-03T15:18:14.881Z"
   },
   {
    "duration": 170,
    "start_time": "2022-03-03T15:18:15.086Z"
   },
   {
    "duration": 10,
    "start_time": "2022-03-03T15:18:15.257Z"
   },
   {
    "duration": 172,
    "start_time": "2022-03-03T15:18:15.269Z"
   },
   {
    "duration": 4,
    "start_time": "2022-03-03T15:18:15.442Z"
   },
   {
    "duration": 23,
    "start_time": "2022-03-03T15:18:15.447Z"
   },
   {
    "duration": 80,
    "start_time": "2022-03-03T15:18:15.471Z"
   },
   {
    "duration": 10,
    "start_time": "2022-03-03T15:18:15.552Z"
   },
   {
    "duration": 29,
    "start_time": "2022-03-03T15:18:15.565Z"
   },
   {
    "duration": 14,
    "start_time": "2022-03-03T15:18:15.595Z"
   },
   {
    "duration": 48,
    "start_time": "2022-03-03T15:18:15.611Z"
   },
   {
    "duration": 10,
    "start_time": "2022-03-03T15:18:15.661Z"
   },
   {
    "duration": 35,
    "start_time": "2022-03-03T15:18:15.673Z"
   },
   {
    "duration": 217,
    "start_time": "2022-03-03T15:18:15.709Z"
   },
   {
    "duration": 1913,
    "start_time": "2022-03-03T15:18:14.015Z"
   },
   {
    "duration": 1903,
    "start_time": "2022-03-03T15:18:14.026Z"
   },
   {
    "duration": 1893,
    "start_time": "2022-03-03T15:18:14.037Z"
   },
   {
    "duration": 1888,
    "start_time": "2022-03-03T15:18:14.043Z"
   },
   {
    "duration": 1880,
    "start_time": "2022-03-03T15:18:14.052Z"
   },
   {
    "duration": 1863,
    "start_time": "2022-03-03T15:18:14.070Z"
   },
   {
    "duration": 1826,
    "start_time": "2022-03-03T15:18:14.108Z"
   },
   {
    "duration": 2435,
    "start_time": "2022-03-03T18:18:38.845Z"
   },
   {
    "duration": 979,
    "start_time": "2022-03-03T18:18:41.282Z"
   },
   {
    "duration": 368,
    "start_time": "2022-03-03T18:18:42.263Z"
   },
   {
    "duration": 27,
    "start_time": "2022-03-03T18:18:42.633Z"
   },
   {
    "duration": 28,
    "start_time": "2022-03-03T18:18:42.661Z"
   },
   {
    "duration": 21,
    "start_time": "2022-03-03T18:18:42.691Z"
   },
   {
    "duration": 43,
    "start_time": "2022-03-03T18:18:42.713Z"
   },
   {
    "duration": 18,
    "start_time": "2022-03-03T18:18:42.759Z"
   },
   {
    "duration": 11,
    "start_time": "2022-03-03T18:18:42.779Z"
   },
   {
    "duration": 47,
    "start_time": "2022-03-03T18:18:42.792Z"
   },
   {
    "duration": 14,
    "start_time": "2022-03-03T18:18:42.841Z"
   },
   {
    "duration": 84,
    "start_time": "2022-03-03T18:18:42.857Z"
   },
   {
    "duration": 11,
    "start_time": "2022-03-03T18:18:42.943Z"
   },
   {
    "duration": 34,
    "start_time": "2022-03-03T18:18:42.955Z"
   },
   {
    "duration": 204,
    "start_time": "2022-03-03T18:18:42.991Z"
   },
   {
    "duration": 169,
    "start_time": "2022-03-03T18:18:43.197Z"
   },
   {
    "duration": 11,
    "start_time": "2022-03-03T18:18:43.368Z"
   },
   {
    "duration": 175,
    "start_time": "2022-03-03T18:18:43.380Z"
   },
   {
    "duration": 4,
    "start_time": "2022-03-03T18:18:43.556Z"
   },
   {
    "duration": 23,
    "start_time": "2022-03-03T18:18:43.561Z"
   },
   {
    "duration": 73,
    "start_time": "2022-03-03T18:18:43.585Z"
   },
   {
    "duration": 9,
    "start_time": "2022-03-03T18:18:43.660Z"
   },
   {
    "duration": 26,
    "start_time": "2022-03-03T18:18:43.672Z"
   },
   {
    "duration": 34,
    "start_time": "2022-03-03T18:18:43.700Z"
   },
   {
    "duration": 29,
    "start_time": "2022-03-03T18:18:43.736Z"
   },
   {
    "duration": 10,
    "start_time": "2022-03-03T18:18:43.767Z"
   },
   {
    "duration": 34,
    "start_time": "2022-03-03T18:18:43.779Z"
   },
   {
    "duration": 225,
    "start_time": "2022-03-03T18:18:43.833Z"
   },
   {
    "duration": 2022,
    "start_time": "2022-03-03T18:18:42.038Z"
   },
   {
    "duration": 2018,
    "start_time": "2022-03-03T18:18:42.043Z"
   },
   {
    "duration": 2014,
    "start_time": "2022-03-03T18:18:42.048Z"
   },
   {
    "duration": 2009,
    "start_time": "2022-03-03T18:18:42.054Z"
   },
   {
    "duration": 2006,
    "start_time": "2022-03-03T18:18:42.058Z"
   },
   {
    "duration": 2002,
    "start_time": "2022-03-03T18:18:42.063Z"
   },
   {
    "duration": 1999,
    "start_time": "2022-03-03T18:18:42.068Z"
   },
   {
    "duration": 4,
    "start_time": "2022-03-03T18:19:40.134Z"
   },
   {
    "duration": 24,
    "start_time": "2022-03-03T18:19:49.339Z"
   },
   {
    "duration": 32,
    "start_time": "2022-03-03T18:19:52.508Z"
   },
   {
    "duration": 7,
    "start_time": "2022-03-03T18:19:55.345Z"
   },
   {
    "duration": 4,
    "start_time": "2022-03-03T18:20:01.487Z"
   },
   {
    "duration": 5,
    "start_time": "2022-03-03T18:20:04.537Z"
   },
   {
    "duration": 214,
    "start_time": "2022-03-03T18:20:06.513Z"
   },
   {
    "duration": 7,
    "start_time": "2022-03-03T18:20:09.727Z"
   },
   {
    "duration": 20,
    "start_time": "2022-03-03T18:21:18.352Z"
   },
   {
    "duration": 134,
    "start_time": "2022-03-03T18:42:35.798Z"
   },
   {
    "duration": 133,
    "start_time": "2022-03-03T18:42:38.289Z"
   },
   {
    "duration": 134,
    "start_time": "2022-03-03T18:42:55.549Z"
   },
   {
    "duration": 29,
    "start_time": "2022-03-03T18:43:00.593Z"
   },
   {
    "duration": 473,
    "start_time": "2022-03-03T19:14:37.949Z"
   },
   {
    "duration": 444,
    "start_time": "2022-03-03T19:15:20.350Z"
   },
   {
    "duration": 403,
    "start_time": "2022-03-03T19:15:27.434Z"
   },
   {
    "duration": 13,
    "start_time": "2022-03-03T19:53:27.107Z"
   },
   {
    "duration": 3,
    "start_time": "2022-03-03T20:32:11.735Z"
   },
   {
    "duration": 17125,
    "start_time": "2022-03-03T20:32:28.858Z"
   },
   {
    "duration": 975,
    "start_time": "2022-03-03T20:32:45.985Z"
   },
   {
    "duration": 368,
    "start_time": "2022-03-03T20:32:46.962Z"
   },
   {
    "duration": 30,
    "start_time": "2022-03-03T20:32:47.332Z"
   },
   {
    "duration": 29,
    "start_time": "2022-03-03T20:32:47.364Z"
   },
   {
    "duration": 49,
    "start_time": "2022-03-03T20:32:47.395Z"
   },
   {
    "duration": 28,
    "start_time": "2022-03-03T20:32:47.446Z"
   },
   {
    "duration": 20,
    "start_time": "2022-03-03T20:32:47.476Z"
   },
   {
    "duration": 40,
    "start_time": "2022-03-03T20:32:47.498Z"
   },
   {
    "duration": 13,
    "start_time": "2022-03-03T20:32:47.541Z"
   },
   {
    "duration": 14,
    "start_time": "2022-03-03T20:32:47.556Z"
   },
   {
    "duration": 98,
    "start_time": "2022-03-03T20:32:47.571Z"
   },
   {
    "duration": 11,
    "start_time": "2022-03-03T20:32:47.671Z"
   },
   {
    "duration": 54,
    "start_time": "2022-03-03T20:32:47.684Z"
   },
   {
    "duration": 184,
    "start_time": "2022-03-03T20:32:47.739Z"
   },
   {
    "duration": 172,
    "start_time": "2022-03-03T20:32:47.924Z"
   },
   {
    "duration": 11,
    "start_time": "2022-03-03T20:32:48.098Z"
   },
   {
    "duration": 185,
    "start_time": "2022-03-03T20:32:48.110Z"
   },
   {
    "duration": 4,
    "start_time": "2022-03-03T20:32:48.296Z"
   },
   {
    "duration": 41,
    "start_time": "2022-03-03T20:32:48.302Z"
   },
   {
    "duration": 60,
    "start_time": "2022-03-03T20:32:48.345Z"
   },
   {
    "duration": 11,
    "start_time": "2022-03-03T20:32:48.406Z"
   },
   {
    "duration": 29,
    "start_time": "2022-03-03T20:32:48.433Z"
   },
   {
    "duration": 15,
    "start_time": "2022-03-03T20:32:48.464Z"
   },
   {
    "duration": 55,
    "start_time": "2022-03-03T20:32:48.481Z"
   },
   {
    "duration": 12,
    "start_time": "2022-03-03T20:32:48.538Z"
   },
   {
    "duration": 33,
    "start_time": "2022-03-03T20:32:48.553Z"
   },
   {
    "duration": 4,
    "start_time": "2022-03-03T20:32:48.587Z"
   },
   {
    "duration": 49,
    "start_time": "2022-03-03T20:32:48.592Z"
   },
   {
    "duration": 28,
    "start_time": "2022-03-03T20:32:48.643Z"
   },
   {
    "duration": 6,
    "start_time": "2022-03-03T20:32:48.673Z"
   },
   {
    "duration": 4,
    "start_time": "2022-03-03T20:32:48.680Z"
   },
   {
    "duration": 4,
    "start_time": "2022-03-03T20:32:48.685Z"
   },
   {
    "duration": 243,
    "start_time": "2022-03-03T20:32:48.691Z"
   },
   {
    "duration": 6,
    "start_time": "2022-03-03T20:32:48.935Z"
   },
   {
    "duration": 13,
    "start_time": "2022-03-03T20:32:48.943Z"
   },
   {
    "duration": 21,
    "start_time": "2022-03-03T20:32:48.957Z"
   },
   {
    "duration": 57,
    "start_time": "2022-03-03T20:32:48.980Z"
   },
   {
    "duration": 511,
    "start_time": "2022-03-03T20:32:49.039Z"
   },
   {
    "duration": 446,
    "start_time": "2022-03-03T20:32:49.552Z"
   },
   {
    "duration": 454,
    "start_time": "2022-03-03T20:32:50.000Z"
   },
   {
    "duration": 439,
    "start_time": "2022-03-03T20:32:50.456Z"
   },
   {
    "duration": 3,
    "start_time": "2022-03-03T20:32:57.211Z"
   },
   {
    "duration": 7,
    "start_time": "2022-03-03T20:32:59.107Z"
   },
   {
    "duration": 6,
    "start_time": "2022-03-03T20:34:00.486Z"
   },
   {
    "duration": 7,
    "start_time": "2022-03-03T20:34:56.881Z"
   },
   {
    "duration": 6,
    "start_time": "2022-03-03T20:35:16.843Z"
   },
   {
    "duration": 2193,
    "start_time": "2022-03-03T20:40:30.832Z"
   },
   {
    "duration": 1062,
    "start_time": "2022-03-03T20:40:33.027Z"
   },
   {
    "duration": 374,
    "start_time": "2022-03-03T20:40:34.091Z"
   },
   {
    "duration": 28,
    "start_time": "2022-03-03T20:40:34.467Z"
   },
   {
    "duration": 29,
    "start_time": "2022-03-03T20:40:34.497Z"
   },
   {
    "duration": 24,
    "start_time": "2022-03-03T20:40:34.527Z"
   },
   {
    "duration": 28,
    "start_time": "2022-03-03T20:40:34.553Z"
   },
   {
    "duration": 20,
    "start_time": "2022-03-03T20:40:34.585Z"
   },
   {
    "duration": 14,
    "start_time": "2022-03-03T20:40:34.634Z"
   },
   {
    "duration": 14,
    "start_time": "2022-03-03T20:40:34.650Z"
   },
   {
    "duration": 17,
    "start_time": "2022-03-03T20:40:34.665Z"
   },
   {
    "duration": 101,
    "start_time": "2022-03-03T20:40:34.683Z"
   },
   {
    "duration": 11,
    "start_time": "2022-03-03T20:40:34.786Z"
   },
   {
    "duration": 44,
    "start_time": "2022-03-03T20:40:34.801Z"
   },
   {
    "duration": 196,
    "start_time": "2022-03-03T20:40:34.847Z"
   },
   {
    "duration": 166,
    "start_time": "2022-03-03T20:40:35.045Z"
   },
   {
    "duration": 10,
    "start_time": "2022-03-03T20:40:35.212Z"
   },
   {
    "duration": 163,
    "start_time": "2022-03-03T20:40:35.223Z"
   },
   {
    "duration": 4,
    "start_time": "2022-03-03T20:40:35.388Z"
   },
   {
    "duration": 44,
    "start_time": "2022-03-03T20:40:35.394Z"
   },
   {
    "duration": 55,
    "start_time": "2022-03-03T20:40:35.440Z"
   },
   {
    "duration": 11,
    "start_time": "2022-03-03T20:40:35.497Z"
   },
   {
    "duration": 43,
    "start_time": "2022-03-03T20:40:35.512Z"
   },
   {
    "duration": 14,
    "start_time": "2022-03-03T20:40:35.557Z"
   },
   {
    "duration": 29,
    "start_time": "2022-03-03T20:40:35.573Z"
   },
   {
    "duration": 33,
    "start_time": "2022-03-03T20:40:35.604Z"
   },
   {
    "duration": 33,
    "start_time": "2022-03-03T20:40:35.639Z"
   },
   {
    "duration": 5,
    "start_time": "2022-03-03T20:40:35.674Z"
   },
   {
    "duration": 25,
    "start_time": "2022-03-03T20:40:35.681Z"
   },
   {
    "duration": 55,
    "start_time": "2022-03-03T20:40:35.707Z"
   },
   {
    "duration": 6,
    "start_time": "2022-03-03T20:40:35.763Z"
   },
   {
    "duration": 7,
    "start_time": "2022-03-03T20:40:35.771Z"
   },
   {
    "duration": 14,
    "start_time": "2022-03-03T20:40:35.779Z"
   },
   {
    "duration": 229,
    "start_time": "2022-03-03T20:40:35.795Z"
   },
   {
    "duration": 11,
    "start_time": "2022-03-03T20:40:36.026Z"
   },
   {
    "duration": 11,
    "start_time": "2022-03-03T20:40:36.038Z"
   },
   {
    "duration": 23,
    "start_time": "2022-03-03T20:40:36.051Z"
   },
   {
    "duration": 28,
    "start_time": "2022-03-03T20:40:36.075Z"
   },
   {
    "duration": 497,
    "start_time": "2022-03-03T20:40:36.105Z"
   },
   {
    "duration": 417,
    "start_time": "2022-03-03T20:40:36.603Z"
   },
   {
    "duration": 416,
    "start_time": "2022-03-03T20:40:37.022Z"
   },
   {
    "duration": 405,
    "start_time": "2022-03-03T20:40:37.440Z"
   },
   {
    "duration": 2,
    "start_time": "2022-03-03T20:40:37.847Z"
   },
   {
    "duration": 8,
    "start_time": "2022-03-03T20:40:37.851Z"
   },
   {
    "duration": 5,
    "start_time": "2022-03-03T20:40:37.861Z"
   },
   {
    "duration": 5,
    "start_time": "2022-03-03T20:40:43.137Z"
   },
   {
    "duration": 13,
    "start_time": "2022-03-03T20:40:59.573Z"
   },
   {
    "duration": 2,
    "start_time": "2022-03-03T20:46:09.957Z"
   },
   {
    "duration": 8,
    "start_time": "2022-03-03T20:47:07.719Z"
   },
   {
    "duration": 5,
    "start_time": "2022-03-03T20:47:30.149Z"
   },
   {
    "duration": 5,
    "start_time": "2022-03-03T20:47:51.153Z"
   },
   {
    "duration": 5,
    "start_time": "2022-03-03T20:48:49.401Z"
   },
   {
    "duration": 6,
    "start_time": "2022-03-03T20:49:50.372Z"
   },
   {
    "duration": 12,
    "start_time": "2022-03-03T20:49:54.754Z"
   },
   {
    "duration": 3403,
    "start_time": "2022-03-12T09:55:07.814Z"
   },
   {
    "duration": 1050,
    "start_time": "2022-03-12T09:55:11.219Z"
   },
   {
    "duration": 2456,
    "start_time": "2022-03-12T09:55:12.271Z"
   },
   {
    "duration": -73,
    "start_time": "2022-03-12T09:55:14.804Z"
   },
   {
    "duration": -76,
    "start_time": "2022-03-12T09:55:14.808Z"
   },
   {
    "duration": -79,
    "start_time": "2022-03-12T09:55:14.813Z"
   },
   {
    "duration": -84,
    "start_time": "2022-03-12T09:55:14.819Z"
   },
   {
    "duration": -87,
    "start_time": "2022-03-12T09:55:14.824Z"
   },
   {
    "duration": -91,
    "start_time": "2022-03-12T09:55:14.829Z"
   },
   {
    "duration": -97,
    "start_time": "2022-03-12T09:55:14.836Z"
   },
   {
    "duration": -101,
    "start_time": "2022-03-12T09:55:14.841Z"
   },
   {
    "duration": -108,
    "start_time": "2022-03-12T09:55:14.849Z"
   },
   {
    "duration": -110,
    "start_time": "2022-03-12T09:55:14.853Z"
   },
   {
    "duration": -113,
    "start_time": "2022-03-12T09:55:14.857Z"
   },
   {
    "duration": -116,
    "start_time": "2022-03-12T09:55:14.861Z"
   },
   {
    "duration": -119,
    "start_time": "2022-03-12T09:55:14.866Z"
   },
   {
    "duration": -123,
    "start_time": "2022-03-12T09:55:14.871Z"
   },
   {
    "duration": -126,
    "start_time": "2022-03-12T09:55:14.875Z"
   },
   {
    "duration": -127,
    "start_time": "2022-03-12T09:55:14.878Z"
   },
   {
    "duration": -130,
    "start_time": "2022-03-12T09:55:14.882Z"
   },
   {
    "duration": -133,
    "start_time": "2022-03-12T09:55:14.886Z"
   },
   {
    "duration": -135,
    "start_time": "2022-03-12T09:55:14.890Z"
   },
   {
    "duration": -137,
    "start_time": "2022-03-12T09:55:14.893Z"
   },
   {
    "duration": -139,
    "start_time": "2022-03-12T09:55:14.896Z"
   },
   {
    "duration": -147,
    "start_time": "2022-03-12T09:55:14.906Z"
   },
   {
    "duration": -151,
    "start_time": "2022-03-12T09:55:14.911Z"
   },
   {
    "duration": -154,
    "start_time": "2022-03-12T09:55:14.915Z"
   },
   {
    "duration": -157,
    "start_time": "2022-03-12T09:55:14.919Z"
   },
   {
    "duration": -158,
    "start_time": "2022-03-12T09:55:14.922Z"
   },
   {
    "duration": -161,
    "start_time": "2022-03-12T09:55:14.926Z"
   },
   {
    "duration": -164,
    "start_time": "2022-03-12T09:55:14.930Z"
   },
   {
    "duration": -166,
    "start_time": "2022-03-12T09:55:14.933Z"
   },
   {
    "duration": -167,
    "start_time": "2022-03-12T09:55:14.936Z"
   },
   {
    "duration": -138,
    "start_time": "2022-03-12T09:55:14.939Z"
   },
   {
    "duration": -141,
    "start_time": "2022-03-12T09:55:14.943Z"
   },
   {
    "duration": -142,
    "start_time": "2022-03-12T09:55:14.946Z"
   },
   {
    "duration": -144,
    "start_time": "2022-03-12T09:55:14.949Z"
   },
   {
    "duration": -146,
    "start_time": "2022-03-12T09:55:14.952Z"
   },
   {
    "duration": -148,
    "start_time": "2022-03-12T09:55:14.956Z"
   },
   {
    "duration": -151,
    "start_time": "2022-03-12T09:55:14.960Z"
   },
   {
    "duration": -153,
    "start_time": "2022-03-12T09:55:14.963Z"
   },
   {
    "duration": -155,
    "start_time": "2022-03-12T09:55:14.966Z"
   },
   {
    "duration": -156,
    "start_time": "2022-03-12T09:55:14.969Z"
   },
   {
    "duration": -159,
    "start_time": "2022-03-12T09:55:14.973Z"
   },
   {
    "duration": -161,
    "start_time": "2022-03-12T09:55:14.976Z"
   },
   {
    "duration": -163,
    "start_time": "2022-03-12T09:55:14.979Z"
   },
   {
    "duration": -164,
    "start_time": "2022-03-12T09:55:14.982Z"
   },
   {
    "duration": -166,
    "start_time": "2022-03-12T09:55:14.985Z"
   },
   {
    "duration": -167,
    "start_time": "2022-03-12T09:55:14.987Z"
   },
   {
    "duration": -169,
    "start_time": "2022-03-12T09:55:14.990Z"
   },
   {
    "duration": -170,
    "start_time": "2022-03-12T09:55:14.993Z"
   },
   {
    "duration": -175,
    "start_time": "2022-03-12T09:55:14.999Z"
   },
   {
    "duration": 392,
    "start_time": "2022-03-12T09:57:35.996Z"
   },
   {
    "duration": 31,
    "start_time": "2022-03-12T09:57:39.545Z"
   },
   {
    "duration": 28,
    "start_time": "2022-03-12T09:57:39.578Z"
   },
   {
    "duration": 24,
    "start_time": "2022-03-12T09:57:39.608Z"
   },
   {
    "duration": 27,
    "start_time": "2022-03-12T09:57:39.634Z"
   },
   {
    "duration": 52,
    "start_time": "2022-03-12T09:57:39.662Z"
   },
   {
    "duration": 11,
    "start_time": "2022-03-12T09:57:39.716Z"
   },
   {
    "duration": 12,
    "start_time": "2022-03-12T09:57:39.729Z"
   },
   {
    "duration": 13,
    "start_time": "2022-03-12T09:57:39.742Z"
   },
   {
    "duration": 99,
    "start_time": "2022-03-12T09:57:39.758Z"
   },
   {
    "duration": 11,
    "start_time": "2022-03-12T09:57:39.859Z"
   },
   {
    "duration": 48,
    "start_time": "2022-03-12T09:57:39.871Z"
   },
   {
    "duration": 178,
    "start_time": "2022-03-12T09:57:39.921Z"
   },
   {
    "duration": 151,
    "start_time": "2022-03-12T09:57:40.101Z"
   },
   {
    "duration": 8,
    "start_time": "2022-03-12T09:57:40.254Z"
   },
   {
    "duration": 142,
    "start_time": "2022-03-12T09:57:40.264Z"
   },
   {
    "duration": 4,
    "start_time": "2022-03-12T09:57:40.407Z"
   },
   {
    "duration": 23,
    "start_time": "2022-03-12T09:57:40.412Z"
   },
   {
    "duration": 68,
    "start_time": "2022-03-12T09:57:40.436Z"
   },
   {
    "duration": 11,
    "start_time": "2022-03-12T09:57:40.505Z"
   },
   {
    "duration": 24,
    "start_time": "2022-03-12T09:57:40.518Z"
   },
   {
    "duration": 14,
    "start_time": "2022-03-12T09:57:40.543Z"
   },
   {
    "duration": 47,
    "start_time": "2022-03-12T09:57:40.558Z"
   },
   {
    "duration": 11,
    "start_time": "2022-03-12T09:57:40.607Z"
   },
   {
    "duration": 32,
    "start_time": "2022-03-12T09:57:40.619Z"
   },
   {
    "duration": 4,
    "start_time": "2022-03-12T09:57:40.652Z"
   },
   {
    "duration": 44,
    "start_time": "2022-03-12T09:57:40.657Z"
   },
   {
    "duration": 27,
    "start_time": "2022-03-12T09:57:40.704Z"
   },
   {
    "duration": 6,
    "start_time": "2022-03-12T09:57:40.733Z"
   },
   {
    "duration": 3,
    "start_time": "2022-03-12T09:57:40.740Z"
   },
   {
    "duration": 7,
    "start_time": "2022-03-12T09:57:40.744Z"
   },
   {
    "duration": 226,
    "start_time": "2022-03-12T09:57:40.752Z"
   },
   {
    "duration": 5,
    "start_time": "2022-03-12T09:57:40.980Z"
   },
   {
    "duration": 25,
    "start_time": "2022-03-12T09:57:40.986Z"
   },
   {
    "duration": 19,
    "start_time": "2022-03-12T09:57:41.013Z"
   },
   {
    "duration": 27,
    "start_time": "2022-03-12T09:57:41.034Z"
   },
   {
    "duration": 466,
    "start_time": "2022-03-12T09:57:41.062Z"
   },
   {
    "duration": 411,
    "start_time": "2022-03-12T09:57:41.529Z"
   },
   {
    "duration": 387,
    "start_time": "2022-03-12T09:57:41.942Z"
   },
   {
    "duration": 390,
    "start_time": "2022-03-12T09:57:42.331Z"
   },
   {
    "duration": 2,
    "start_time": "2022-03-12T09:57:42.723Z"
   },
   {
    "duration": 9,
    "start_time": "2022-03-12T09:57:42.726Z"
   },
   {
    "duration": 6,
    "start_time": "2022-03-12T09:57:42.736Z"
   },
   {
    "duration": 4,
    "start_time": "2022-03-12T09:57:42.743Z"
   },
   {
    "duration": 17,
    "start_time": "2022-03-12T09:57:42.748Z"
   },
   {
    "duration": 1,
    "start_time": "2022-03-12T09:57:42.767Z"
   },
   {
    "duration": 33,
    "start_time": "2022-03-12T09:57:42.770Z"
   },
   {
    "duration": 5,
    "start_time": "2022-03-12T09:57:42.804Z"
   },
   {
    "duration": 8,
    "start_time": "2022-03-12T09:57:42.811Z"
   },
   {
    "duration": 17,
    "start_time": "2022-03-12T09:57:42.821Z"
   },
   {
    "duration": 3,
    "start_time": "2022-03-12T10:01:09.228Z"
   },
   {
    "duration": 4,
    "start_time": "2022-03-12T10:01:14.694Z"
   },
   {
    "duration": 7,
    "start_time": "2022-03-12T10:02:29.617Z"
   },
   {
    "duration": 8,
    "start_time": "2022-03-12T10:04:01.560Z"
   },
   {
    "duration": 9,
    "start_time": "2022-03-12T10:04:06.231Z"
   },
   {
    "duration": 4619,
    "start_time": "2022-03-14T09:30:29.553Z"
   },
   {
    "duration": 1813,
    "start_time": "2022-03-14T09:30:36.387Z"
   },
   {
    "duration": 642,
    "start_time": "2022-03-14T09:30:41.262Z"
   },
   {
    "duration": 494,
    "start_time": "2022-03-14T09:36:53.621Z"
   },
   {
    "duration": 43,
    "start_time": "2022-03-14T09:36:57.137Z"
   },
   {
    "duration": 36,
    "start_time": "2022-03-14T09:37:08.017Z"
   },
   {
    "duration": 34,
    "start_time": "2022-03-14T09:37:10.212Z"
   },
   {
    "duration": 37,
    "start_time": "2022-03-14T09:37:12.618Z"
   },
   {
    "duration": 28,
    "start_time": "2022-03-14T09:37:15.570Z"
   },
   {
    "duration": 18,
    "start_time": "2022-03-14T09:37:18.397Z"
   },
   {
    "duration": 23,
    "start_time": "2022-03-14T09:37:21.248Z"
   },
   {
    "duration": 22,
    "start_time": "2022-03-14T09:37:23.635Z"
   },
   {
    "duration": 41,
    "start_time": "2022-03-14T09:49:28.380Z"
   },
   {
    "duration": 4,
    "start_time": "2022-03-14T09:49:44.279Z"
   },
   {
    "duration": 3723,
    "start_time": "2022-03-14T09:55:29.024Z"
   },
   {
    "duration": 1831,
    "start_time": "2022-03-14T09:55:32.751Z"
   },
   {
    "duration": 548,
    "start_time": "2022-03-14T09:55:34.586Z"
   },
   {
    "duration": 478,
    "start_time": "2022-03-14T09:55:35.138Z"
   },
   {
    "duration": 45,
    "start_time": "2022-03-14T09:55:35.618Z"
   },
   {
    "duration": 37,
    "start_time": "2022-03-14T09:55:35.683Z"
   },
   {
    "duration": 63,
    "start_time": "2022-03-14T09:55:35.723Z"
   },
   {
    "duration": 38,
    "start_time": "2022-03-14T09:55:35.789Z"
   },
   {
    "duration": 60,
    "start_time": "2022-03-14T09:55:35.830Z"
   },
   {
    "duration": 18,
    "start_time": "2022-03-14T09:55:35.892Z"
   },
   {
    "duration": 25,
    "start_time": "2022-03-14T09:55:35.913Z"
   },
   {
    "duration": 62,
    "start_time": "2022-03-14T09:55:35.940Z"
   },
   {
    "duration": 8,
    "start_time": "2022-03-14T09:55:36.005Z"
   },
   {
    "duration": 164,
    "start_time": "2022-03-14T09:55:36.015Z"
   },
   {
    "duration": 20,
    "start_time": "2022-03-14T09:55:36.184Z"
   },
   {
    "duration": 45,
    "start_time": "2022-03-14T09:55:37.706Z"
   },
   {
    "duration": 40,
    "start_time": "2022-03-14T09:56:49.342Z"
   },
   {
    "duration": 496,
    "start_time": "2022-03-14T09:57:04.572Z"
   },
   {
    "duration": 303,
    "start_time": "2022-03-14T10:01:11.022Z"
   },
   {
    "duration": 325,
    "start_time": "2022-03-14T10:01:53.598Z"
   },
   {
    "duration": 291,
    "start_time": "2022-03-14T10:02:35.538Z"
   },
   {
    "duration": 14,
    "start_time": "2022-03-14T10:03:37.477Z"
   },
   {
    "duration": 905,
    "start_time": "2022-03-14T10:03:39.955Z"
   },
   {
    "duration": 7,
    "start_time": "2022-03-14T10:03:45.378Z"
   },
   {
    "duration": 44,
    "start_time": "2022-03-14T10:03:55.886Z"
   },
   {
    "duration": 33,
    "start_time": "2022-03-14T10:04:00.578Z"
   },
   {
    "duration": 95,
    "start_time": "2022-03-14T10:04:04.364Z"
   },
   {
    "duration": 20,
    "start_time": "2022-03-14T10:04:11.722Z"
   },
   {
    "duration": 49,
    "start_time": "2022-03-14T10:04:23.296Z"
   },
   {
    "duration": 21,
    "start_time": "2022-03-14T10:04:29.687Z"
   },
   {
    "duration": 33,
    "start_time": "2022-03-14T10:04:32.570Z"
   },
   {
    "duration": 20,
    "start_time": "2022-03-14T10:04:36.420Z"
   },
   {
    "duration": 56,
    "start_time": "2022-03-14T10:04:38.345Z"
   },
   {
    "duration": 20,
    "start_time": "2022-03-14T10:04:44.188Z"
   },
   {
    "duration": 3627,
    "start_time": "2022-03-14T10:33:59.313Z"
   },
   {
    "duration": 1387,
    "start_time": "2022-03-14T10:34:02.943Z"
   },
   {
    "duration": 524,
    "start_time": "2022-03-14T10:34:04.333Z"
   },
   {
    "duration": 495,
    "start_time": "2022-03-14T10:34:04.860Z"
   },
   {
    "duration": 52,
    "start_time": "2022-03-14T10:34:05.358Z"
   },
   {
    "duration": 37,
    "start_time": "2022-03-14T10:34:05.413Z"
   },
   {
    "duration": 75,
    "start_time": "2022-03-14T10:34:05.452Z"
   },
   {
    "duration": 59,
    "start_time": "2022-03-14T10:34:05.531Z"
   },
   {
    "duration": 33,
    "start_time": "2022-03-14T10:34:05.594Z"
   },
   {
    "duration": 38,
    "start_time": "2022-03-14T10:34:05.630Z"
   },
   {
    "duration": 73,
    "start_time": "2022-03-14T10:34:05.670Z"
   },
   {
    "duration": 33,
    "start_time": "2022-03-14T10:34:05.745Z"
   },
   {
    "duration": 27,
    "start_time": "2022-03-14T10:34:05.780Z"
   },
   {
    "duration": 104,
    "start_time": "2022-03-14T10:34:05.810Z"
   },
   {
    "duration": 14,
    "start_time": "2022-03-14T10:34:05.916Z"
   },
   {
    "duration": 63,
    "start_time": "2022-03-14T10:34:05.933Z"
   },
   {
    "duration": 350,
    "start_time": "2022-03-14T10:34:05.998Z"
   },
   {
    "duration": 324,
    "start_time": "2022-03-14T10:34:06.351Z"
   },
   {
    "duration": 19,
    "start_time": "2022-03-14T10:34:06.677Z"
   },
   {
    "duration": 986,
    "start_time": "2022-03-14T10:34:06.699Z"
   },
   {
    "duration": 5,
    "start_time": "2022-03-14T10:34:07.687Z"
   },
   {
    "duration": 37,
    "start_time": "2022-03-14T10:34:07.699Z"
   },
   {
    "duration": 126,
    "start_time": "2022-03-14T10:34:07.740Z"
   },
   {
    "duration": 21,
    "start_time": "2022-03-14T10:34:07.869Z"
   },
   {
    "duration": 57,
    "start_time": "2022-03-14T10:34:07.893Z"
   },
   {
    "duration": 41,
    "start_time": "2022-03-14T10:34:07.953Z"
   },
   {
    "duration": 51,
    "start_time": "2022-03-14T10:34:07.996Z"
   },
   {
    "duration": 19,
    "start_time": "2022-03-14T10:34:08.050Z"
   },
   {
    "duration": 3475,
    "start_time": "2022-03-14T10:38:07.857Z"
   },
   {
    "duration": 6,
    "start_time": "2022-03-14T10:38:11.336Z"
   },
   {
    "duration": 663,
    "start_time": "2022-03-14T10:38:11.346Z"
   },
   {
    "duration": 471,
    "start_time": "2022-03-14T10:38:12.012Z"
   },
   {
    "duration": 37,
    "start_time": "2022-03-14T10:38:12.485Z"
   },
   {
    "duration": 68,
    "start_time": "2022-03-14T10:38:12.525Z"
   },
   {
    "duration": 32,
    "start_time": "2022-03-14T10:38:12.596Z"
   },
   {
    "duration": 70,
    "start_time": "2022-03-14T10:38:12.631Z"
   },
   {
    "duration": 27,
    "start_time": "2022-03-14T10:38:12.704Z"
   },
   {
    "duration": 51,
    "start_time": "2022-03-14T10:38:12.734Z"
   },
   {
    "duration": 22,
    "start_time": "2022-03-14T10:38:12.788Z"
   },
   {
    "duration": 23,
    "start_time": "2022-03-14T10:38:12.812Z"
   },
   {
    "duration": 44,
    "start_time": "2022-03-14T10:38:12.838Z"
   },
   {
    "duration": 100,
    "start_time": "2022-03-14T10:38:12.885Z"
   },
   {
    "duration": 14,
    "start_time": "2022-03-14T10:38:12.987Z"
   },
   {
    "duration": 49,
    "start_time": "2022-03-14T10:38:13.003Z"
   },
   {
    "duration": 356,
    "start_time": "2022-03-14T10:38:13.054Z"
   },
   {
    "duration": 324,
    "start_time": "2022-03-14T10:38:13.412Z"
   },
   {
    "duration": 13,
    "start_time": "2022-03-14T10:38:13.740Z"
   },
   {
    "duration": 913,
    "start_time": "2022-03-14T10:38:13.755Z"
   },
   {
    "duration": 5,
    "start_time": "2022-03-14T10:38:14.683Z"
   },
   {
    "duration": 41,
    "start_time": "2022-03-14T10:38:14.690Z"
   },
   {
    "duration": 110,
    "start_time": "2022-03-14T10:38:14.735Z"
   },
   {
    "duration": 37,
    "start_time": "2022-03-14T10:38:14.848Z"
   },
   {
    "duration": 67,
    "start_time": "2022-03-14T10:38:14.888Z"
   },
   {
    "duration": 48,
    "start_time": "2022-03-14T10:38:14.958Z"
   },
   {
    "duration": 92,
    "start_time": "2022-03-14T10:38:15.010Z"
   },
   {
    "duration": 28,
    "start_time": "2022-03-14T10:38:15.104Z"
   },
   {
    "duration": 37,
    "start_time": "2022-03-14T10:42:25.370Z"
   },
   {
    "duration": 36,
    "start_time": "2022-03-14T10:45:40.735Z"
   },
   {
    "duration": 37,
    "start_time": "2022-03-14T10:47:52.846Z"
   },
   {
    "duration": 34,
    "start_time": "2022-03-14T10:48:39.481Z"
   },
   {
    "duration": 410,
    "start_time": "2022-03-14T10:49:07.990Z"
   },
   {
    "duration": 233,
    "start_time": "2022-03-14T10:49:34.034Z"
   },
   {
    "duration": 5878,
    "start_time": "2022-03-14T10:49:53.680Z"
   },
   {
    "duration": 27,
    "start_time": "2022-03-14T10:50:09.848Z"
   },
   {
    "duration": 21,
    "start_time": "2022-03-14T10:50:33.991Z"
   },
   {
    "duration": 8,
    "start_time": "2022-03-14T10:50:47.279Z"
   },
   {
    "duration": 35,
    "start_time": "2022-03-14T10:51:07.900Z"
   },
   {
    "duration": 10,
    "start_time": "2022-03-14T10:51:10.575Z"
   },
   {
    "duration": 38,
    "start_time": "2022-03-14T10:51:24.752Z"
   },
   {
    "duration": 32,
    "start_time": "2022-03-14T10:53:49.577Z"
   },
   {
    "duration": 11,
    "start_time": "2022-03-14T10:54:01.902Z"
   },
   {
    "duration": 33,
    "start_time": "2022-03-14T10:56:28.556Z"
   },
   {
    "duration": 24,
    "start_time": "2022-03-14T10:57:23.400Z"
   },
   {
    "duration": 27,
    "start_time": "2022-03-14T10:57:38.020Z"
   },
   {
    "duration": 38,
    "start_time": "2022-03-14T10:57:58.097Z"
   },
   {
    "duration": 37,
    "start_time": "2022-03-14T10:58:52.321Z"
   },
   {
    "duration": 255,
    "start_time": "2022-03-14T10:59:04.215Z"
   },
   {
    "duration": 11,
    "start_time": "2022-03-14T10:59:12.363Z"
   },
   {
    "duration": 47,
    "start_time": "2022-03-14T11:00:23.993Z"
   },
   {
    "duration": 8,
    "start_time": "2022-03-14T11:00:45.666Z"
   },
   {
    "duration": 106,
    "start_time": "2022-03-14T11:00:59.860Z"
   },
   {
    "duration": 10,
    "start_time": "2022-03-14T11:01:14.906Z"
   },
   {
    "duration": 3627,
    "start_time": "2022-03-14T11:03:34.171Z"
   },
   {
    "duration": 1398,
    "start_time": "2022-03-14T11:03:37.802Z"
   },
   {
    "duration": 461,
    "start_time": "2022-03-14T11:03:39.203Z"
   },
   {
    "duration": 540,
    "start_time": "2022-03-14T11:03:39.667Z"
   },
   {
    "duration": 40,
    "start_time": "2022-03-14T11:03:40.210Z"
   },
   {
    "duration": 58,
    "start_time": "2022-03-14T11:03:40.253Z"
   },
   {
    "duration": 33,
    "start_time": "2022-03-14T11:03:40.313Z"
   },
   {
    "duration": 61,
    "start_time": "2022-03-14T11:03:40.350Z"
   },
   {
    "duration": 26,
    "start_time": "2022-03-14T11:03:40.415Z"
   },
   {
    "duration": 45,
    "start_time": "2022-03-14T11:03:40.444Z"
   },
   {
    "duration": 42,
    "start_time": "2022-03-14T11:03:40.491Z"
   },
   {
    "duration": 21,
    "start_time": "2022-03-14T11:03:40.536Z"
   },
   {
    "duration": 23,
    "start_time": "2022-03-14T11:03:40.559Z"
   },
   {
    "duration": 107,
    "start_time": "2022-03-14T11:03:40.584Z"
   },
   {
    "duration": 14,
    "start_time": "2022-03-14T11:03:40.693Z"
   },
   {
    "duration": 46,
    "start_time": "2022-03-14T11:03:40.709Z"
   },
   {
    "duration": 413,
    "start_time": "2022-03-14T11:03:40.782Z"
   },
   {
    "duration": 300,
    "start_time": "2022-03-14T11:03:41.198Z"
   },
   {
    "duration": 16,
    "start_time": "2022-03-14T11:03:41.501Z"
   },
   {
    "duration": 896,
    "start_time": "2022-03-14T11:03:41.519Z"
   },
   {
    "duration": 5,
    "start_time": "2022-03-14T11:03:42.418Z"
   },
   {
    "duration": 58,
    "start_time": "2022-03-14T11:03:42.425Z"
   },
   {
    "duration": 104,
    "start_time": "2022-03-14T11:03:42.487Z"
   },
   {
    "duration": 18,
    "start_time": "2022-03-14T11:03:42.593Z"
   },
   {
    "duration": 53,
    "start_time": "2022-03-14T11:03:42.613Z"
   },
   {
    "duration": 21,
    "start_time": "2022-03-14T11:03:42.683Z"
   },
   {
    "duration": 51,
    "start_time": "2022-03-14T11:03:42.706Z"
   },
   {
    "duration": 39,
    "start_time": "2022-03-14T11:03:42.760Z"
   },
   {
    "duration": 591,
    "start_time": "2022-03-14T11:08:50.056Z"
   },
   {
    "duration": 34,
    "start_time": "2022-03-14T11:10:04.433Z"
   },
   {
    "duration": 10,
    "start_time": "2022-03-14T11:10:41.134Z"
   },
   {
    "duration": 10,
    "start_time": "2022-03-14T11:11:04.123Z"
   },
   {
    "duration": 240,
    "start_time": "2022-03-14T11:11:44.481Z"
   },
   {
    "duration": 329,
    "start_time": "2022-03-14T11:11:53.411Z"
   },
   {
    "duration": 330,
    "start_time": "2022-03-14T11:12:00.921Z"
   },
   {
    "duration": 363,
    "start_time": "2022-03-14T11:12:17.876Z"
   },
   {
    "duration": 494,
    "start_time": "2022-03-14T11:12:36.817Z"
   },
   {
    "duration": 251,
    "start_time": "2022-03-14T11:12:58.799Z"
   },
   {
    "duration": 263,
    "start_time": "2022-03-14T11:13:16.721Z"
   },
   {
    "duration": 34,
    "start_time": "2022-03-14T11:13:24.050Z"
   },
   {
    "duration": 8,
    "start_time": "2022-03-14T11:13:26.315Z"
   },
   {
    "duration": 45,
    "start_time": "2022-03-14T11:13:53.481Z"
   },
   {
    "duration": 11,
    "start_time": "2022-03-14T11:14:07.575Z"
   },
   {
    "duration": 3433,
    "start_time": "2022-03-14T11:21:31.171Z"
   },
   {
    "duration": 1401,
    "start_time": "2022-03-14T11:21:34.608Z"
   },
   {
    "duration": 461,
    "start_time": "2022-03-14T11:21:36.012Z"
   },
   {
    "duration": 430,
    "start_time": "2022-03-14T11:21:36.476Z"
   },
   {
    "duration": 44,
    "start_time": "2022-03-14T11:21:36.909Z"
   },
   {
    "duration": 54,
    "start_time": "2022-03-14T11:21:36.955Z"
   },
   {
    "duration": 32,
    "start_time": "2022-03-14T11:21:37.011Z"
   },
   {
    "duration": 64,
    "start_time": "2022-03-14T11:21:37.047Z"
   },
   {
    "duration": 28,
    "start_time": "2022-03-14T11:21:37.114Z"
   },
   {
    "duration": 47,
    "start_time": "2022-03-14T11:21:37.144Z"
   },
   {
    "duration": 28,
    "start_time": "2022-03-14T11:21:37.194Z"
   },
   {
    "duration": 23,
    "start_time": "2022-03-14T11:21:37.225Z"
   },
   {
    "duration": 4,
    "start_time": "2022-03-14T11:21:37.283Z"
   },
   {
    "duration": 103,
    "start_time": "2022-03-14T11:21:37.290Z"
   },
   {
    "duration": 14,
    "start_time": "2022-03-14T11:21:37.396Z"
   },
   {
    "duration": 44,
    "start_time": "2022-03-14T11:21:37.413Z"
   },
   {
    "duration": 351,
    "start_time": "2022-03-14T11:21:37.460Z"
   },
   {
    "duration": 305,
    "start_time": "2022-03-14T11:21:37.813Z"
   },
   {
    "duration": 15,
    "start_time": "2022-03-14T11:21:38.121Z"
   },
   {
    "duration": 896,
    "start_time": "2022-03-14T11:21:38.139Z"
   },
   {
    "duration": 5,
    "start_time": "2022-03-14T11:21:39.037Z"
   },
   {
    "duration": 57,
    "start_time": "2022-03-14T11:21:39.044Z"
   },
   {
    "duration": 96,
    "start_time": "2022-03-14T11:21:39.105Z"
   },
   {
    "duration": 18,
    "start_time": "2022-03-14T11:21:39.204Z"
   },
   {
    "duration": 65,
    "start_time": "2022-03-14T11:21:39.224Z"
   },
   {
    "duration": 21,
    "start_time": "2022-03-14T11:21:39.291Z"
   },
   {
    "duration": 71,
    "start_time": "2022-03-14T11:21:39.314Z"
   },
   {
    "duration": 18,
    "start_time": "2022-03-14T11:21:39.387Z"
   },
   {
    "duration": 110,
    "start_time": "2022-03-14T11:21:44.443Z"
   },
   {
    "duration": 7,
    "start_time": "2022-03-14T11:21:55.664Z"
   },
   {
    "duration": 5,
    "start_time": "2022-03-14T11:22:07.613Z"
   },
   {
    "duration": 7,
    "start_time": "2022-03-14T11:22:08.790Z"
   },
   {
    "duration": 284,
    "start_time": "2022-03-14T11:25:46.878Z"
   },
   {
    "duration": 3288,
    "start_time": "2022-03-14T11:25:54.472Z"
   },
   {
    "duration": 1429,
    "start_time": "2022-03-14T11:25:57.763Z"
   },
   {
    "duration": 463,
    "start_time": "2022-03-14T11:25:59.195Z"
   },
   {
    "duration": 438,
    "start_time": "2022-03-14T11:25:59.660Z"
   },
   {
    "duration": 42,
    "start_time": "2022-03-14T11:26:00.100Z"
   },
   {
    "duration": 61,
    "start_time": "2022-03-14T11:26:00.144Z"
   },
   {
    "duration": 34,
    "start_time": "2022-03-14T11:26:00.207Z"
   },
   {
    "duration": 64,
    "start_time": "2022-03-14T11:26:00.245Z"
   },
   {
    "duration": 30,
    "start_time": "2022-03-14T11:26:00.312Z"
   },
   {
    "duration": 44,
    "start_time": "2022-03-14T11:26:00.346Z"
   },
   {
    "duration": 37,
    "start_time": "2022-03-14T11:26:00.393Z"
   },
   {
    "duration": 22,
    "start_time": "2022-03-14T11:26:00.432Z"
   },
   {
    "duration": 11,
    "start_time": "2022-03-14T11:26:00.484Z"
   },
   {
    "duration": 105,
    "start_time": "2022-03-14T11:26:00.497Z"
   },
   {
    "duration": 14,
    "start_time": "2022-03-14T11:26:00.604Z"
   },
   {
    "duration": 47,
    "start_time": "2022-03-14T11:26:00.621Z"
   },
   {
    "duration": 323,
    "start_time": "2022-03-14T11:26:00.682Z"
   },
   {
    "duration": 307,
    "start_time": "2022-03-14T11:26:01.008Z"
   },
   {
    "duration": 16,
    "start_time": "2022-03-14T11:26:01.317Z"
   },
   {
    "duration": 1036,
    "start_time": "2022-03-14T11:26:01.335Z"
   },
   {
    "duration": 5,
    "start_time": "2022-03-14T11:26:02.383Z"
   },
   {
    "duration": 40,
    "start_time": "2022-03-14T11:26:02.391Z"
   },
   {
    "duration": 119,
    "start_time": "2022-03-14T11:26:02.436Z"
   },
   {
    "duration": 313,
    "start_time": "2022-03-14T11:26:06.975Z"
   },
   {
    "duration": 9,
    "start_time": "2022-03-14T11:26:23.823Z"
   },
   {
    "duration": 346,
    "start_time": "2022-03-14T11:27:07.185Z"
   },
   {
    "duration": 371,
    "start_time": "2022-03-14T11:28:39.298Z"
   },
   {
    "duration": 3537,
    "start_time": "2022-03-14T11:29:36.348Z"
   },
   {
    "duration": 1319,
    "start_time": "2022-03-14T11:29:39.888Z"
   },
   {
    "duration": 450,
    "start_time": "2022-03-14T11:29:41.210Z"
   },
   {
    "duration": 425,
    "start_time": "2022-03-14T11:29:41.663Z"
   },
   {
    "duration": 39,
    "start_time": "2022-03-14T11:29:42.091Z"
   },
   {
    "duration": 54,
    "start_time": "2022-03-14T11:29:42.133Z"
   },
   {
    "duration": 33,
    "start_time": "2022-03-14T11:29:42.190Z"
   },
   {
    "duration": 58,
    "start_time": "2022-03-14T11:29:42.227Z"
   },
   {
    "duration": 27,
    "start_time": "2022-03-14T11:29:42.288Z"
   },
   {
    "duration": 19,
    "start_time": "2022-03-14T11:29:42.317Z"
   },
   {
    "duration": 61,
    "start_time": "2022-03-14T11:29:42.338Z"
   },
   {
    "duration": 39,
    "start_time": "2022-03-14T11:29:42.401Z"
   },
   {
    "duration": 5,
    "start_time": "2022-03-14T11:29:42.442Z"
   },
   {
    "duration": 103,
    "start_time": "2022-03-14T11:29:42.449Z"
   },
   {
    "duration": 14,
    "start_time": "2022-03-14T11:29:42.554Z"
   },
   {
    "duration": 55,
    "start_time": "2022-03-14T11:29:42.570Z"
   },
   {
    "duration": 350,
    "start_time": "2022-03-14T11:29:42.627Z"
   },
   {
    "duration": 296,
    "start_time": "2022-03-14T11:29:42.983Z"
   },
   {
    "duration": 15,
    "start_time": "2022-03-14T11:29:43.282Z"
   },
   {
    "duration": 882,
    "start_time": "2022-03-14T11:29:43.300Z"
   },
   {
    "duration": 5,
    "start_time": "2022-03-14T11:29:44.185Z"
   },
   {
    "duration": 40,
    "start_time": "2022-03-14T11:29:44.192Z"
   },
   {
    "duration": 113,
    "start_time": "2022-03-14T11:29:44.237Z"
   },
   {
    "duration": 30,
    "start_time": "2022-03-14T11:29:44.352Z"
   },
   {
    "duration": 47,
    "start_time": "2022-03-14T11:29:44.385Z"
   },
   {
    "duration": 21,
    "start_time": "2022-03-14T11:29:44.434Z"
   },
   {
    "duration": 48,
    "start_time": "2022-03-14T11:29:44.482Z"
   },
   {
    "duration": 20,
    "start_time": "2022-03-14T11:30:34.196Z"
   },
   {
    "duration": 109,
    "start_time": "2022-03-14T11:32:56.254Z"
   },
   {
    "duration": 8,
    "start_time": "2022-03-14T11:33:04.006Z"
   },
   {
    "duration": 5,
    "start_time": "2022-03-14T11:33:05.386Z"
   },
   {
    "duration": 6,
    "start_time": "2022-03-14T11:33:06.705Z"
   },
   {
    "duration": 39,
    "start_time": "2022-03-14T11:49:38.384Z"
   },
   {
    "duration": 52,
    "start_time": "2022-03-14T11:49:57.827Z"
   },
   {
    "duration": 9,
    "start_time": "2022-03-14T11:50:01.896Z"
   },
   {
    "duration": 3872,
    "start_time": "2022-03-14T11:53:36.030Z"
   },
   {
    "duration": 1313,
    "start_time": "2022-03-14T11:53:39.906Z"
   },
   {
    "duration": 478,
    "start_time": "2022-03-14T11:53:41.222Z"
   },
   {
    "duration": 455,
    "start_time": "2022-03-14T11:53:41.703Z"
   },
   {
    "duration": 39,
    "start_time": "2022-03-14T11:53:42.160Z"
   },
   {
    "duration": 35,
    "start_time": "2022-03-14T11:53:42.202Z"
   },
   {
    "duration": 63,
    "start_time": "2022-03-14T11:53:42.239Z"
   },
   {
    "duration": 42,
    "start_time": "2022-03-14T11:53:42.307Z"
   },
   {
    "duration": 50,
    "start_time": "2022-03-14T11:53:42.352Z"
   },
   {
    "duration": 18,
    "start_time": "2022-03-14T11:53:42.405Z"
   },
   {
    "duration": 59,
    "start_time": "2022-03-14T11:53:42.425Z"
   },
   {
    "duration": 21,
    "start_time": "2022-03-14T11:53:42.487Z"
   },
   {
    "duration": 5,
    "start_time": "2022-03-14T11:53:42.511Z"
   },
   {
    "duration": 122,
    "start_time": "2022-03-14T11:53:42.518Z"
   },
   {
    "duration": 13,
    "start_time": "2022-03-14T11:53:42.642Z"
   },
   {
    "duration": 54,
    "start_time": "2022-03-14T11:53:42.658Z"
   },
   {
    "duration": 342,
    "start_time": "2022-03-14T11:53:42.715Z"
   },
   {
    "duration": 298,
    "start_time": "2022-03-14T11:53:43.059Z"
   },
   {
    "duration": 23,
    "start_time": "2022-03-14T11:53:43.360Z"
   },
   {
    "duration": 879,
    "start_time": "2022-03-14T11:53:43.385Z"
   },
   {
    "duration": 16,
    "start_time": "2022-03-14T11:53:44.267Z"
   },
   {
    "duration": 32,
    "start_time": "2022-03-14T11:53:44.286Z"
   },
   {
    "duration": 112,
    "start_time": "2022-03-14T11:53:44.322Z"
   },
   {
    "duration": 19,
    "start_time": "2022-03-14T11:53:44.437Z"
   },
   {
    "duration": 63,
    "start_time": "2022-03-14T11:53:44.459Z"
   },
   {
    "duration": 22,
    "start_time": "2022-03-14T11:53:44.524Z"
   },
   {
    "duration": 73,
    "start_time": "2022-03-14T11:53:44.548Z"
   },
   {
    "duration": 20,
    "start_time": "2022-03-14T11:53:44.623Z"
   },
   {
    "duration": 132,
    "start_time": "2022-03-14T11:53:44.646Z"
   },
   {
    "duration": 6,
    "start_time": "2022-03-14T11:53:44.782Z"
   },
   {
    "duration": 8,
    "start_time": "2022-03-14T11:53:44.790Z"
   },
   {
    "duration": 16,
    "start_time": "2022-03-14T11:53:44.800Z"
   },
   {
    "duration": 40,
    "start_time": "2022-03-14T11:53:44.819Z"
   },
   {
    "duration": 51,
    "start_time": "2022-03-14T11:53:44.883Z"
   },
   {
    "duration": 9,
    "start_time": "2022-03-14T11:53:44.937Z"
   },
   {
    "duration": 7,
    "start_time": "2022-03-14T11:54:02.508Z"
   },
   {
    "duration": 10,
    "start_time": "2022-03-14T11:54:14.502Z"
   },
   {
    "duration": 8,
    "start_time": "2022-03-14T11:56:06.052Z"
   },
   {
    "duration": 415,
    "start_time": "2022-03-14T11:56:11.102Z"
   },
   {
    "duration": 13,
    "start_time": "2022-03-14T11:56:13.936Z"
   },
   {
    "duration": 9,
    "start_time": "2022-03-14T11:56:31.639Z"
   },
   {
    "duration": 19,
    "start_time": "2022-03-14T11:56:38.748Z"
   },
   {
    "duration": 31,
    "start_time": "2022-03-14T11:56:42.402Z"
   },
   {
    "duration": 48,
    "start_time": "2022-03-14T11:56:52.061Z"
   },
   {
    "duration": 15,
    "start_time": "2022-03-14T12:04:30.095Z"
   },
   {
    "duration": 792,
    "start_time": "2022-03-14T12:09:05.273Z"
   },
   {
    "duration": 768,
    "start_time": "2022-03-14T12:09:17.124Z"
   },
   {
    "duration": 694,
    "start_time": "2022-03-14T12:11:45.953Z"
   },
   {
    "duration": 771,
    "start_time": "2022-03-14T12:11:51.967Z"
   },
   {
    "duration": 807,
    "start_time": "2022-03-14T12:50:00.851Z"
   },
   {
    "duration": 6,
    "start_time": "2022-03-14T12:51:15.609Z"
   },
   {
    "duration": 1472,
    "start_time": "2022-03-14T13:05:26.714Z"
   },
   {
    "duration": 700,
    "start_time": "2022-03-14T13:06:31.111Z"
   },
   {
    "duration": 853,
    "start_time": "2022-03-14T13:08:49.986Z"
   },
   {
    "duration": 1100,
    "start_time": "2022-03-14T13:27:14.088Z"
   },
   {
    "duration": 3,
    "start_time": "2022-03-14T13:32:43.309Z"
   },
   {
    "duration": 13,
    "start_time": "2022-03-14T13:32:44.596Z"
   },
   {
    "duration": 13,
    "start_time": "2022-03-14T13:32:46.773Z"
   },
   {
    "duration": 10,
    "start_time": "2022-03-14T13:32:53.393Z"
   },
   {
    "duration": 8,
    "start_time": "2022-03-14T13:33:31.799Z"
   },
   {
    "duration": 20,
    "start_time": "2022-03-14T13:33:39.948Z"
   },
   {
    "duration": 6,
    "start_time": "2022-03-14T13:42:10.235Z"
   },
   {
    "duration": 306,
    "start_time": "2022-03-14T13:42:42.903Z"
   },
   {
    "duration": 3786,
    "start_time": "2022-03-14T13:43:02.674Z"
   },
   {
    "duration": 1476,
    "start_time": "2022-03-14T13:43:06.463Z"
   },
   {
    "duration": 479,
    "start_time": "2022-03-14T13:43:07.941Z"
   },
   {
    "duration": 464,
    "start_time": "2022-03-14T13:43:08.423Z"
   },
   {
    "duration": 43,
    "start_time": "2022-03-14T13:43:08.890Z"
   },
   {
    "duration": 61,
    "start_time": "2022-03-14T13:43:08.936Z"
   },
   {
    "duration": 33,
    "start_time": "2022-03-14T13:43:09.000Z"
   },
   {
    "duration": 64,
    "start_time": "2022-03-14T13:43:09.036Z"
   },
   {
    "duration": 29,
    "start_time": "2022-03-14T13:43:09.104Z"
   },
   {
    "duration": 48,
    "start_time": "2022-03-14T13:43:09.136Z"
   },
   {
    "duration": 52,
    "start_time": "2022-03-14T13:43:09.187Z"
   },
   {
    "duration": 33,
    "start_time": "2022-03-14T13:43:09.242Z"
   },
   {
    "duration": 28,
    "start_time": "2022-03-14T13:43:09.278Z"
   },
   {
    "duration": 106,
    "start_time": "2022-03-14T13:43:09.309Z"
   },
   {
    "duration": 14,
    "start_time": "2022-03-14T13:43:09.417Z"
   },
   {
    "duration": 67,
    "start_time": "2022-03-14T13:43:09.433Z"
   },
   {
    "duration": 337,
    "start_time": "2022-03-14T13:43:09.503Z"
   },
   {
    "duration": 309,
    "start_time": "2022-03-14T13:43:09.842Z"
   },
   {
    "duration": 16,
    "start_time": "2022-03-14T13:43:10.153Z"
   },
   {
    "duration": 912,
    "start_time": "2022-03-14T13:43:10.183Z"
   },
   {
    "duration": 5,
    "start_time": "2022-03-14T13:43:11.098Z"
   },
   {
    "duration": 34,
    "start_time": "2022-03-14T13:43:11.105Z"
   },
   {
    "duration": 126,
    "start_time": "2022-03-14T13:43:11.144Z"
   },
   {
    "duration": 18,
    "start_time": "2022-03-14T13:43:11.281Z"
   },
   {
    "duration": 46,
    "start_time": "2022-03-14T13:43:11.301Z"
   },
   {
    "duration": 49,
    "start_time": "2022-03-14T13:43:11.349Z"
   },
   {
    "duration": 51,
    "start_time": "2022-03-14T13:43:11.400Z"
   },
   {
    "duration": 35,
    "start_time": "2022-03-14T13:43:11.453Z"
   },
   {
    "duration": 123,
    "start_time": "2022-03-14T13:43:11.490Z"
   },
   {
    "duration": 6,
    "start_time": "2022-03-14T13:43:11.615Z"
   },
   {
    "duration": 7,
    "start_time": "2022-03-14T13:43:11.624Z"
   },
   {
    "duration": 8,
    "start_time": "2022-03-14T13:43:11.633Z"
   },
   {
    "duration": 66,
    "start_time": "2022-03-14T13:43:11.644Z"
   },
   {
    "duration": 71,
    "start_time": "2022-03-14T13:43:11.712Z"
   },
   {
    "duration": 11,
    "start_time": "2022-03-14T13:43:11.785Z"
   },
   {
    "duration": 7,
    "start_time": "2022-03-14T13:43:11.799Z"
   },
   {
    "duration": 7,
    "start_time": "2022-03-14T13:43:11.809Z"
   },
   {
    "duration": 417,
    "start_time": "2022-03-14T13:43:11.818Z"
   },
   {
    "duration": 14,
    "start_time": "2022-03-14T13:43:12.238Z"
   },
   {
    "duration": 29,
    "start_time": "2022-03-14T13:43:12.255Z"
   },
   {
    "duration": 20,
    "start_time": "2022-03-14T13:43:12.288Z"
   },
   {
    "duration": 33,
    "start_time": "2022-03-14T13:43:12.311Z"
   },
   {
    "duration": 50,
    "start_time": "2022-03-14T13:43:12.383Z"
   },
   {
    "duration": 15,
    "start_time": "2022-03-14T13:43:12.436Z"
   },
   {
    "duration": 715,
    "start_time": "2022-03-14T13:43:12.482Z"
   },
   {
    "duration": 772,
    "start_time": "2022-03-14T13:43:13.199Z"
   },
   {
    "duration": 731,
    "start_time": "2022-03-14T13:43:13.982Z"
   },
   {
    "duration": 799,
    "start_time": "2022-03-14T13:43:14.716Z"
   },
   {
    "duration": 7,
    "start_time": "2022-03-14T13:43:15.518Z"
   },
   {
    "duration": 742,
    "start_time": "2022-03-14T13:43:15.528Z"
   },
   {
    "duration": 9,
    "start_time": "2022-03-14T13:43:16.273Z"
   },
   {
    "duration": 12,
    "start_time": "2022-03-14T13:43:16.286Z"
   },
   {
    "duration": 8,
    "start_time": "2022-03-14T13:43:16.301Z"
   },
   {
    "duration": 10,
    "start_time": "2022-03-14T13:43:16.312Z"
   },
   {
    "duration": 61,
    "start_time": "2022-03-14T13:43:16.324Z"
   },
   {
    "duration": 6,
    "start_time": "2022-03-14T13:43:16.387Z"
   },
   {
    "duration": 16,
    "start_time": "2022-03-14T13:43:16.396Z"
   },
   {
    "duration": 9,
    "start_time": "2022-03-14T13:43:16.415Z"
   },
   {
    "duration": 15,
    "start_time": "2022-03-14T13:43:16.426Z"
   },
   {
    "duration": 52,
    "start_time": "2022-03-14T13:43:16.443Z"
   },
   {
    "duration": 17,
    "start_time": "2022-03-14T13:43:34.015Z"
   },
   {
    "duration": 23,
    "start_time": "2022-03-14T13:44:45.251Z"
   },
   {
    "duration": 18,
    "start_time": "2022-03-14T13:45:08.989Z"
   },
   {
    "duration": 86,
    "start_time": "2022-03-14T13:45:15.652Z"
   },
   {
    "duration": 14,
    "start_time": "2022-03-14T13:45:23.488Z"
   },
   {
    "duration": 12,
    "start_time": "2022-03-14T13:45:59.235Z"
   },
   {
    "duration": 10,
    "start_time": "2022-03-14T13:46:03.633Z"
   },
   {
    "duration": 6,
    "start_time": "2022-03-14T13:46:15.843Z"
   },
   {
    "duration": 3609,
    "start_time": "2022-03-14T13:49:03.947Z"
   },
   {
    "duration": 1443,
    "start_time": "2022-03-14T13:49:07.559Z"
   },
   {
    "duration": 482,
    "start_time": "2022-03-14T13:49:09.005Z"
   },
   {
    "duration": 465,
    "start_time": "2022-03-14T13:49:09.490Z"
   },
   {
    "duration": 51,
    "start_time": "2022-03-14T13:49:09.958Z"
   },
   {
    "duration": 35,
    "start_time": "2022-03-14T13:49:10.012Z"
   },
   {
    "duration": 59,
    "start_time": "2022-03-14T13:49:10.049Z"
   },
   {
    "duration": 35,
    "start_time": "2022-03-14T13:49:10.111Z"
   },
   {
    "duration": 50,
    "start_time": "2022-03-14T13:49:10.149Z"
   },
   {
    "duration": 17,
    "start_time": "2022-03-14T13:49:10.201Z"
   },
   {
    "duration": 30,
    "start_time": "2022-03-14T13:49:10.220Z"
   },
   {
    "duration": 21,
    "start_time": "2022-03-14T13:49:10.283Z"
   },
   {
    "duration": 4,
    "start_time": "2022-03-14T13:49:10.306Z"
   },
   {
    "duration": 116,
    "start_time": "2022-03-14T13:49:10.313Z"
   },
   {
    "duration": 16,
    "start_time": "2022-03-14T13:49:10.432Z"
   },
   {
    "duration": 70,
    "start_time": "2022-03-14T13:49:10.451Z"
   },
   {
    "duration": 333,
    "start_time": "2022-03-14T13:49:10.524Z"
   },
   {
    "duration": 306,
    "start_time": "2022-03-14T13:49:10.860Z"
   },
   {
    "duration": 24,
    "start_time": "2022-03-14T13:49:11.169Z"
   },
   {
    "duration": 891,
    "start_time": "2022-03-14T13:49:11.196Z"
   },
   {
    "duration": 5,
    "start_time": "2022-03-14T13:49:12.089Z"
   },
   {
    "duration": 44,
    "start_time": "2022-03-14T13:49:12.097Z"
   },
   {
    "duration": 118,
    "start_time": "2022-03-14T13:49:12.148Z"
   },
   {
    "duration": 19,
    "start_time": "2022-03-14T13:49:12.282Z"
   },
   {
    "duration": 66,
    "start_time": "2022-03-14T13:49:12.303Z"
   },
   {
    "duration": 29,
    "start_time": "2022-03-14T13:49:12.372Z"
   },
   {
    "duration": 50,
    "start_time": "2022-03-14T13:49:12.403Z"
   },
   {
    "duration": 37,
    "start_time": "2022-03-14T13:49:12.456Z"
   },
   {
    "duration": 124,
    "start_time": "2022-03-14T13:49:12.495Z"
   },
   {
    "duration": 7,
    "start_time": "2022-03-14T13:49:12.621Z"
   },
   {
    "duration": 10,
    "start_time": "2022-03-14T13:49:12.632Z"
   },
   {
    "duration": 8,
    "start_time": "2022-03-14T13:49:12.645Z"
   },
   {
    "duration": 66,
    "start_time": "2022-03-14T13:49:12.656Z"
   },
   {
    "duration": 68,
    "start_time": "2022-03-14T13:49:12.725Z"
   },
   {
    "duration": 10,
    "start_time": "2022-03-14T13:49:12.795Z"
   },
   {
    "duration": 8,
    "start_time": "2022-03-14T13:49:12.808Z"
   },
   {
    "duration": 8,
    "start_time": "2022-03-14T13:49:12.819Z"
   },
   {
    "duration": 433,
    "start_time": "2022-03-14T13:49:12.830Z"
   },
   {
    "duration": 19,
    "start_time": "2022-03-14T13:49:13.266Z"
   },
   {
    "duration": 10,
    "start_time": "2022-03-14T13:49:13.287Z"
   },
   {
    "duration": 18,
    "start_time": "2022-03-14T13:49:13.300Z"
   },
   {
    "duration": 74,
    "start_time": "2022-03-14T13:49:13.321Z"
   },
   {
    "duration": 48,
    "start_time": "2022-03-14T13:49:13.397Z"
   },
   {
    "duration": 14,
    "start_time": "2022-03-14T13:49:13.447Z"
   },
   {
    "duration": 747,
    "start_time": "2022-03-14T13:49:13.483Z"
   },
   {
    "duration": 761,
    "start_time": "2022-03-14T13:49:14.233Z"
   },
   {
    "duration": 738,
    "start_time": "2022-03-14T13:49:14.997Z"
   },
   {
    "duration": 801,
    "start_time": "2022-03-14T13:49:15.739Z"
   },
   {
    "duration": 6,
    "start_time": "2022-03-14T13:49:16.542Z"
   },
   {
    "duration": 719,
    "start_time": "2022-03-14T13:49:16.551Z"
   },
   {
    "duration": 9,
    "start_time": "2022-03-14T13:49:17.273Z"
   },
   {
    "duration": 22,
    "start_time": "2022-03-14T13:49:17.285Z"
   },
   {
    "duration": 22,
    "start_time": "2022-03-14T13:49:17.309Z"
   },
   {
    "duration": 8,
    "start_time": "2022-03-14T13:49:17.333Z"
   },
   {
    "duration": 26,
    "start_time": "2022-03-14T13:49:17.343Z"
   },
   {
    "duration": 19,
    "start_time": "2022-03-14T13:49:17.371Z"
   },
   {
    "duration": 22,
    "start_time": "2022-03-14T13:49:17.392Z"
   },
   {
    "duration": 15,
    "start_time": "2022-03-14T13:49:17.416Z"
   },
   {
    "duration": 22,
    "start_time": "2022-03-14T13:49:17.434Z"
   },
   {
    "duration": 41,
    "start_time": "2022-03-14T13:49:17.459Z"
   },
   {
    "duration": 16,
    "start_time": "2022-03-14T13:49:17.503Z"
   }
  ],
  "kernelspec": {
   "display_name": "Python 3 (ipykernel)",
   "language": "python",
   "name": "python3"
  },
  "language_info": {
   "codemirror_mode": {
    "name": "ipython",
    "version": 3
   },
   "file_extension": ".py",
   "mimetype": "text/x-python",
   "name": "python",
   "nbconvert_exporter": "python",
   "pygments_lexer": "ipython3",
   "version": "3.9.7"
  },
  "toc": {
   "base_numbering": 1,
   "nav_menu": {},
   "number_sections": true,
   "sideBar": true,
   "skip_h1_title": true,
   "title_cell": "Table of Contents",
   "title_sidebar": "Contents",
   "toc_cell": false,
   "toc_position": {
    "height": "calc(100% - 180px)",
    "left": "10px",
    "top": "150px",
    "width": "240.594px"
   },
   "toc_section_display": true,
   "toc_window_display": false
  }
 },
 "nbformat": 4,
 "nbformat_minor": 2
}

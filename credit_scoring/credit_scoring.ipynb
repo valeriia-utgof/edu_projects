{
 "cells": [
  {
   "cell_type": "markdown",
   "metadata": {},
   "source": [
    "**Оглавление:**\n",
    "1. [Изучение данных](#step1)  \n",
    "2. [Предобработка данных](#step2) \n",
    "3. [Исследование заёмщиков](#step3)\n",
    "4. [Общий вывод](#step4)\n"
   ]
  },
  {
   "cell_type": "markdown",
   "metadata": {},
   "source": [
    "<a id=\"step1\"></a>\n",
    "## Изучение данных"
   ]
  },
  {
   "cell_type": "markdown",
   "metadata": {},
   "source": [
    "Импортируем необходимые библиотеки:"
   ]
  },
  {
   "cell_type": "code",
   "execution_count": 1,
   "metadata": {},
   "outputs": [
    {
     "ename": "ModuleNotFoundError",
     "evalue": "No module named 'pymystem3'",
     "output_type": "error",
     "traceback": [
      "\u001b[1;31m---------------------------------------------------------------------------\u001b[0m",
      "\u001b[1;31mModuleNotFoundError\u001b[0m                       Traceback (most recent call last)",
      "\u001b[1;32m~\\AppData\\Local\\Temp/ipykernel_4468/1244742594.py\u001b[0m in \u001b[0;36m<module>\u001b[1;34m\u001b[0m\n\u001b[0;32m      1\u001b[0m \u001b[1;32mimport\u001b[0m \u001b[0mpandas\u001b[0m \u001b[1;32mas\u001b[0m \u001b[0mpd\u001b[0m\u001b[1;33m\u001b[0m\u001b[1;33m\u001b[0m\u001b[0m\n\u001b[1;32m----> 2\u001b[1;33m \u001b[1;32mfrom\u001b[0m \u001b[0mpymystem3\u001b[0m \u001b[1;32mimport\u001b[0m \u001b[0mMystem\u001b[0m\u001b[1;33m\u001b[0m\u001b[1;33m\u001b[0m\u001b[0m\n\u001b[0m\u001b[0;32m      3\u001b[0m \u001b[1;32mfrom\u001b[0m \u001b[0mcollections\u001b[0m \u001b[1;32mimport\u001b[0m \u001b[0mCounter\u001b[0m\u001b[1;33m\u001b[0m\u001b[1;33m\u001b[0m\u001b[0m\n",
      "\u001b[1;31mModuleNotFoundError\u001b[0m: No module named 'pymystem3'"
     ]
    }
   ],
   "source": [
    "import pandas as pd\n",
    "from pymystem3 import Mystem\n",
    "from collections import Counter"
   ]
  },
  {
   "cell_type": "markdown",
   "metadata": {},
   "source": [
    "Прочитаем файл с данными:"
   ]
  },
  {
   "cell_type": "code",
   "execution_count": null,
   "metadata": {},
   "outputs": [],
   "source": [
    "df = pd.read_csv('datasets/data.csv')"
   ]
  },
  {
   "cell_type": "markdown",
   "metadata": {},
   "source": [
    "Получим первые 10 строк таблицы и общую информацию о данных:"
   ]
  },
  {
   "cell_type": "code",
   "execution_count": null,
   "metadata": {
    "scrolled": false
   },
   "outputs": [],
   "source": [
    "display(df.head(10), df.info())"
   ]
  },
  {
   "cell_type": "markdown",
   "metadata": {},
   "source": [
    "В таблице имеем 21525 строк и 12 столбцов. В 2 столбцах тип данных `float`, в 5 — `int`, и еще в 5  — `object`.\n",
    "\n",
    "Количество значений в столбцах `days_employed` и `total_income` отличается от количества значений в других столбцах, значит, в этих стобцах есть пропущенные значения.\n",
    "\n",
    "В столбце `days_employed` встречаются данные с отрицательным количеством дней трудового стажа.\n",
    "\n",
    "В столбце `education` данные отличаются по регистру.\n",
    "\n",
    "В таблице встречаются столбцы с категоризированными данными (пары `education`-`education_id` и  `family_status`-`family_status_id`), которые при необходимости можно выделить в отдельные словари.\n",
    "\n",
    "В столбце `purpose` данные представлены в произвольном виде, например, расходы на свадьбу отражены как \"сыграть свадьбу\" и \"на проведение свадьбы\", а операции с недвижимостью как \"покупка жилья\", \"операции с жильем\" или \"покупка жилья для семьи\".\n",
    "\n",
    "Отметим, что наиболее важными для нашего исследования являются следующие столбцы: `debt`, `children`, `family_status`/`family_status_id`, `total_income` и `purpose`. На корректности данных в них следует обратить особое внимание."
   ]
  },
  {
   "cell_type": "markdown",
   "metadata": {},
   "source": [
    "**Вывод**"
   ]
  },
  {
   "cell_type": "markdown",
   "metadata": {},
   "source": [
    "В каждой строке таблицы представлены данные о потенциальном заёмщике (его пол, возраст, семейное положение и наличие/отсутствие детей, уровень образования и ежемесячного дохода, тип занятости и трудовой стаж, наличие опыта задолженности по кредиту и цель получения кредита).\n",
    "\n",
    "Предварительно можно утверждать, что данных достаточно для ответа на поставленные заказчиком вопросы. Но в данных встречаются пропуски и артефакты, некоторые данные заполнены без учета регистра и не приведены к единому образцу. Также таблица загромождена категоризированными данными.\n",
    "\n",
    "Для дальнейшей работы потребуется предобработка данных."
   ]
  },
  {
   "cell_type": "markdown",
   "metadata": {},
   "source": [
    "<a id=\"step2\"></a>\n",
    "## Предобработка данных"
   ]
  },
  {
   "cell_type": "markdown",
   "metadata": {},
   "source": [
    "### Обработка пропусков"
   ]
  },
  {
   "cell_type": "markdown",
   "metadata": {},
   "source": [
    "Посчитаем, сколько в таблице пропущенных значений:"
   ]
  },
  {
   "cell_type": "code",
   "execution_count": null,
   "metadata": {
    "scrolled": false
   },
   "outputs": [],
   "source": [
    "display(df.isna().sum())"
   ]
  },
  {
   "cell_type": "markdown",
   "metadata": {},
   "source": [
    "Мы имеем одинаковое количество пропущенных значений в столбцах `days_employed` и `total_income`. \n",
    "\n",
    "Судя по тому, что количество пропусков в обеих колонках одинаковое, можем предположить, что пропуски имеются в одних и тех же строках. Проверим это предположение, отобразив таблицу с пропущенными значениями:"
   ]
  },
  {
   "cell_type": "code",
   "execution_count": null,
   "metadata": {},
   "outputs": [],
   "source": [
    "display(df[df.isna().any(1)])"
   ]
  },
  {
   "cell_type": "markdown",
   "metadata": {},
   "source": [
    "Предположение оказалось верным: мы имеем 2174 строки с пропусками в столбцах `days_employed` и `total_income`. Очевидной зависимости между этими и другими столбцами не наблюдается. Возможно, данные в этих столбцах являются рассчетными, и утеря/порча первичных данных, из которых рассчитываются общий трудовой стаж в днях и ежемесячный доход, повлекла за собой пропуски в этих столбцах. В учебном проекте восстановить эти данные мы не можем.\n",
    "\n",
    "Данные из столбца `days_employed` не будут влиять на результаты исследования, поэтому смело можем заполнить пропуски нулями (не используем `'unknown'`, т.к. дальше будем меня формат в этом столбце). \n",
    "\n",
    "Применим для этого метод `fillna()`:"
   ]
  },
  {
   "cell_type": "code",
   "execution_count": null,
   "metadata": {
    "scrolled": true
   },
   "outputs": [],
   "source": [
    "df['days_employed'] = df['days_employed'].fillna(0)"
   ]
  },
  {
   "cell_type": "markdown",
   "metadata": {},
   "source": [
    "Для дальнейшего исследования нам важны значения в столбце `total_income`. Ежемесячный доход - количественная переменная, поэтому для оценки типичного значения выборки можно использовать среднее арифметическое или медиану. Поскольку мы имеем дело с показателем ежемесячного дохода, на мой взгляд, корректней взять медианное значение.\n",
    "\n",
    "Предположим, что медианные значения дохода сильно различаются для разных типов занятости (возможно, пропуски нужно заполнить с учетом типа занятости). Выведем медианное значение дохода для разных типов занятости, а также посмотрим, какое количество данных у нас имеется по каждой из категорий:"
   ]
  },
  {
   "cell_type": "code",
   "execution_count": null,
   "metadata": {
    "scrolled": false
   },
   "outputs": [],
   "source": [
    "display(df.groupby('income_type')['total_income'].median())\n",
    "display(df.groupby('income_type')['total_income'].count())"
   ]
  },
  {
   "cell_type": "markdown",
   "metadata": {},
   "source": [
    "Видим, что медианное значение сильно отличается для разных категорий. Для корректного заполнения пропусков в столбце `total_income` заполним их медианным значением в соответствии с типом занятости:"
   ]
  },
  {
   "cell_type": "code",
   "execution_count": null,
   "metadata": {},
   "outputs": [],
   "source": [
    "df['total_income'] = df.groupby('income_type')['total_income'].apply(lambda s: s.fillna(s.median()))"
   ]
  },
  {
   "cell_type": "markdown",
   "metadata": {},
   "source": [
    "Еще раз подсчитаем, сколько в таблице пропущенных значений, чтобы убедиться, что мы устранили все пропуски:"
   ]
  },
  {
   "cell_type": "code",
   "execution_count": null,
   "metadata": {
    "scrolled": false
   },
   "outputs": [],
   "source": [
    "display(df.isna().sum())"
   ]
  },
  {
   "cell_type": "markdown",
   "metadata": {},
   "source": [
    "**Вывод**"
   ]
  },
  {
   "cell_type": "markdown",
   "metadata": {},
   "source": [
    "Мы обнаружили пропуски значений в двух колонках: `days_employed` и `total_income`. \n",
    "В столбце `days_employed` пропущенные значения мы заменили на ноль. В столбце `total_income` пропущенные значения заменены на медианное значение по этому столбцу."
   ]
  },
  {
   "cell_type": "markdown",
   "metadata": {},
   "source": [
    "### Замена типа данных"
   ]
  },
  {
   "cell_type": "markdown",
   "metadata": {},
   "source": [
    "В таблице имеем 2 столбца (`total_income` и `days_employed`) с данными вещественного типа `float`. Веротяно, это рассчитанные величины, поэтому они имеют по 6 знаков после запятой, что не несет никакой дополнительной инофрмации, но сильно загромождает нашу таблицу с данными. Приведем данные в этих столбцах к целочисленному типу `int`: "
   ]
  },
  {
   "cell_type": "code",
   "execution_count": null,
   "metadata": {},
   "outputs": [],
   "source": [
    "df['days_employed'] = df['days_employed'].astype('int')\n",
    "df['total_income'] = df['total_income'].astype('int')\n",
    "df"
   ]
  },
  {
   "cell_type": "markdown",
   "metadata": {},
   "source": [
    "Проверим, что тип данных в колонке изменился:"
   ]
  },
  {
   "cell_type": "code",
   "execution_count": null,
   "metadata": {
    "scrolled": false
   },
   "outputs": [],
   "source": [
    "df.info()"
   ]
  },
  {
   "cell_type": "markdown",
   "metadata": {},
   "source": [
    "**Вывод**"
   ]
  },
  {
   "cell_type": "markdown",
   "metadata": {},
   "source": [
    "Мы заменили тип данных в столбцах `total_income` и `days_employed`, тем самым визуально разгрузив нашу таблицу."
   ]
  },
  {
   "cell_type": "markdown",
   "metadata": {},
   "source": [
    "### Обработка дубликатов"
   ]
  },
  {
   "cell_type": "markdown",
   "metadata": {},
   "source": [
    "Посчитаем явные дубликаты в таблице:"
   ]
  },
  {
   "cell_type": "code",
   "execution_count": null,
   "metadata": {},
   "outputs": [],
   "source": [
    "df.duplicated().sum()"
   ]
  },
  {
   "cell_type": "markdown",
   "metadata": {},
   "source": [
    "Проверим, что из себя представляют эти дубликаты:"
   ]
  },
  {
   "cell_type": "code",
   "execution_count": null,
   "metadata": {},
   "outputs": [],
   "source": [
    "df[df.duplicated()]"
   ]
  },
  {
   "cell_type": "markdown",
   "metadata": {},
   "source": [
    "Из таблицы видим, что в дубликаты попали все строки с заполенными выше пропусками в колонках `days_employed` и `total_income`. Предположим, что из-за потери данных эти строки считываются как дубликаты, хотя на самом деле это всё данные о разных людях. В таком случае удаление этих строк повлечет за собой потерю данных, чего нам не хотелось бы. Оставим эти строки для дальнейшего исследования. \n",
    "\n",
    "Проанализируем важный для нашего исследования столбец `children\t` при помощи метода `value_counts()`:"
   ]
  },
  {
   "cell_type": "code",
   "execution_count": null,
   "metadata": {
    "scrolled": false
   },
   "outputs": [],
   "source": [
    "df['children'].value_counts()"
   ]
  },
  {
   "cell_type": "markdown",
   "metadata": {},
   "source": [
    "Слегка неправдоподобными выглядят семьи с количеством детей, равным 20 и -1. Возможно, при вводе данных произошла опечатка (но для опечатки это слишком много раз, и почему опечались столько раз именно в написании 1 и 2?), а может это просто мусорные данные, наверняка мы не знаем. Поскольку мы имеем дело с количественной переменной, заменим при помощи цикла `for` и условной конструкции `if` эти данные на медианное значение по столбцу, и проверим, что изменения призошли:"
   ]
  },
  {
   "cell_type": "code",
   "execution_count": null,
   "metadata": {},
   "outputs": [],
   "source": [
    "for i in df['children']:\n",
    "    if i == 20 or i == -1:\n",
    "        df['children'] = df['children'].replace(i, df['children'].median())\n",
    "\n",
    "df['children'].value_counts()"
   ]
  },
  {
   "cell_type": "markdown",
   "metadata": {},
   "source": [
    "**Вывод**"
   ]
  },
  {
   "cell_type": "markdown",
   "metadata": {},
   "source": [
    "Методом `duplicated().sum()` мы обнаружили дубликаты, но, проанализировав данные, приняли решение не удалять их.\n",
    "Также методом `value_counts()` мы обнаружили неправдоподобные данные в столбце `children` и заменили их на медианное значение по этому столбцу.\n",
    "\n",
    "Также на первом шаге мы отметили, что в столбце `education` данные отличаются по регистру. Но, поскольку эти данные не повлияют на дальнейшее исследование, приводить их к единому регистру мы не будем."
   ]
  },
  {
   "cell_type": "markdown",
   "metadata": {},
   "source": [
    "### Лемматизация"
   ]
  },
  {
   "cell_type": "markdown",
   "metadata": {},
   "source": [
    "Составим список из уникальных значений в колонке `purpose`:"
   ]
  },
  {
   "cell_type": "code",
   "execution_count": null,
   "metadata": {
    "scrolled": false
   },
   "outputs": [],
   "source": [
    "unique_purpose = df['purpose'].unique()\n",
    "unique_purpose"
   ]
  },
  {
   "cell_type": "markdown",
   "metadata": {},
   "source": [
    "Применим лемматизацию, чтобы упорядочить данные в полученном списке `unique_purpose`. Импортируем библиотеку `pymystem3` с функцией лемматизации на русском языке, а также вызовем специальный контейнер `Counter` из модуля `collections`:"
   ]
  },
  {
   "cell_type": "code",
   "execution_count": null,
   "metadata": {},
   "outputs": [],
   "source": [
    "m = Mystem() "
   ]
  },
  {
   "cell_type": "markdown",
   "metadata": {},
   "source": [
    "Посчитаем, какие слова встречаются в списке целей получения кредита. Для этого применим цикл `for` для лемматизации списка методом `lemmatize()` и посчитаем при помощи `Counter`, сколько раз слова встречаются в списке:"
   ]
  },
  {
   "cell_type": "code",
   "execution_count": null,
   "metadata": {
    "scrolled": false
   },
   "outputs": [],
   "source": [
    "lemmas = []\n",
    "\n",
    "for j in unique_purpose:\n",
    "    lemmas += m.lemmatize(j)\n",
    "display(Counter(lemmas)) \n"
   ]
  },
  {
   "cell_type": "markdown",
   "metadata": {},
   "source": [
    "**Вывод**"
   ]
  },
  {
   "cell_type": "markdown",
   "metadata": {},
   "source": [
    "В результате лемматизации столбца `purpose` можно выделить 5 ключевых слов: `свадьба`, `образование`, `автомобиль`, `недвижимость` и `жилье`. Последние 2 можно будет объединить в одну категорию. Эти данные нам понадобятся далее для проведения категоризации."
   ]
  },
  {
   "cell_type": "markdown",
   "metadata": {},
   "source": [
    "### Категоризация данных"
   ]
  },
  {
   "cell_type": "markdown",
   "metadata": {},
   "source": [
    "Для оценки зависимости между уровнем дохода и возвратом кредита в срок нам необходимо разделить значения в колонке ежемесячного дохода `total_income` на несколько категорий. Для этого используем метод ` pd.qcut()` и получим на выходе 4 интервала (q=4):"
   ]
  },
  {
   "cell_type": "code",
   "execution_count": null,
   "metadata": {
    "scrolled": false
   },
   "outputs": [],
   "source": [
    "pd.qcut(df['total_income'], q=4)"
   ]
  },
  {
   "cell_type": "markdown",
   "metadata": {},
   "source": [
    "Поделим значения в этом столбце на 4 категории:\n",
    "* до 107798;\n",
    "* от 107799 до 145017;\n",
    "* от 145018 до 195543;\n",
    "* от 195544.\n",
    "\n",
    "Напишем функцию `income_group`, которая в качестве аргумента принимает значение ежемесячного дохода и возвращает номер категории. Используя метод `apply`, применим функцию к столбцу `total_income` и занесем данные в новый столбец df `total_income_group`. Проверим, что функция отработала верно."
   ]
  },
  {
   "cell_type": "code",
   "execution_count": null,
   "metadata": {
    "scrolled": true
   },
   "outputs": [],
   "source": [
    "def income_group(income):\n",
    "    if income <= 107798:\n",
    "        return 0\n",
    "    elif 107798 < income <= 145017:\n",
    "        return 1\n",
    "    elif 145017 < income <= 195543:\n",
    "        return 2\n",
    "    return 3\n",
    "\n",
    "df['total_income_group'] = df['total_income'].apply(income_group)\n",
    "df.head(10)"
   ]
  },
  {
   "cell_type": "markdown",
   "metadata": {},
   "source": [
    "В разделе 2.1 мы выделили слова, которые определяют категории целей получения кредита.\n",
    "\n",
    "Напишем функцию `purpose_group`, которая в качестве аргумента принимает строку, в которой указана цель получения кредита, и возвращает номер категории. Используя метод `apply`, применим функцию к столбцу `purpose` и занесем данные в новый столбец df `total_purpose_group`. Проверим, что функция отработала верно."
   ]
  },
  {
   "cell_type": "code",
   "execution_count": null,
   "metadata": {
    "scrolled": true
   },
   "outputs": [],
   "source": [
    "def purpose_group(target):\n",
    "    if 'свадьб' in target:\n",
    "        return 0\n",
    "    elif 'автомоб' in target:\n",
    "        return 1\n",
    "    elif 'образов' in target:\n",
    "        return 2\n",
    "    elif 'недвижим' or 'жиль' in target:\n",
    "        return 3\n",
    "\n",
    "df['total_purpose_group'] = df['purpose'].apply(purpose_group)\n",
    "df.head(10)"
   ]
  },
  {
   "cell_type": "markdown",
   "metadata": {},
   "source": [
    "**Вывод**"
   ]
  },
  {
   "cell_type": "markdown",
   "metadata": {},
   "source": [
    "При помощи функций мы разделили на категории значения в столбцах `total_income` и `purpose` (по 4 категории на каждый столбец)."
   ]
  },
  {
   "cell_type": "markdown",
   "metadata": {},
   "source": [
    "<a id=\"step3\"></a>\n",
    "## Исследование заёмщиков"
   ]
  },
  {
   "cell_type": "markdown",
   "metadata": {},
   "source": [
    "### Зависимость между наличием детей и возвратом кредита в срок"
   ]
  },
  {
   "cell_type": "markdown",
   "metadata": {},
   "source": [
    "Для выведения результатов создадим новый df `df_children_pivot`.\n",
    "\n",
    "Воспользуемся методом `pivot_table` со следующими аргументами:\n",
    "- index='children' – группируем данные по количеству детей, столбец `children`;\n",
    "- columns='debt' – значения, по которым происходит группировка, столбец `debt`;\n",
    "- values='purpose' – используем любой из столбцов df (в данном случае `purpose`), т.к. далее применяем `count`;\n",
    "- aggfunc='count' – применяемая функция `count`;\n",
    "- margins=True – получаем обобщенные значения по каждой группе."
   ]
  },
  {
   "cell_type": "code",
   "execution_count": null,
   "metadata": {},
   "outputs": [],
   "source": [
    "df_children_pivot = df.pivot_table(index='children', columns='debt', values='purpose', aggfunc='count', margins=True)\n",
    "df_children_pivot"
   ]
  },
  {
   "cell_type": "markdown",
   "metadata": {},
   "source": [
    "Добавим новый столбец `debt_rate`, в котором рассчитаем процент задолженностей в каждой группе, и выведем итоговую таблицу на экран:"
   ]
  },
  {
   "cell_type": "code",
   "execution_count": null,
   "metadata": {
    "scrolled": true
   },
   "outputs": [],
   "source": [
    "df_children_pivot['debt_rate'] = df_children_pivot[1]/df_children_pivot['All']*100\n",
    "df_children_pivot"
   ]
  },
  {
   "cell_type": "markdown",
   "metadata": {},
   "source": [
    "**Вывод**"
   ]
  },
  {
   "cell_type": "markdown",
   "metadata": {},
   "source": [
    "В результате мы увидели, что процент задолженностей незначительно, но все же увеличивается при наличии у клиента детей. \n",
    "\n",
    "Клиенты без детей являются должниками в 7.5% случаев. Далее процент должников растет при наличии 1 (9.2%) и 2 (9.4%) детей. Среди клиентов с тремя детьми должниками являются 8.2%, с четырьмя детьми - 9.8%. Среди клиентов с 5 детьми (таких в нашей выборке всего 9 человек) должники отсутствуют."
   ]
  },
  {
   "cell_type": "markdown",
   "metadata": {},
   "source": [
    "### Зависимость между семейным положением и возвратом кредита в срок"
   ]
  },
  {
   "cell_type": "markdown",
   "metadata": {},
   "source": [
    "Сначала посмотрим, на какие группы по семейному положению разбиты наши данные. Для этого сгруппируем df по столбцу `family_status_id` и выведем уникальные значения по столбцу `family_status`:"
   ]
  },
  {
   "cell_type": "code",
   "execution_count": null,
   "metadata": {
    "scrolled": false
   },
   "outputs": [],
   "source": [
    "df.groupby('family_status_id')['family_status'].unique()"
   ]
  },
  {
   "cell_type": "markdown",
   "metadata": {},
   "source": [
    "Для выведения результатов создадим новый df `df_fam_status_pivot`.\n",
    "\n",
    "Воспользуемся методом `pivot_table` со следующими аргументами:\n",
    "- index= ['family_status_id','family_status'] – группируем данные по id и семейному статусу, столбцы `family_status_id` и `family_status`;\n",
    "- columns='debt' – значения, по которым происходит группировка, столбец `debt`;\n",
    "- values='purpose' – используем любой из столбцов df (в данном случае `purpose`), т.к. далее применяем `count`;\n",
    "- aggfunc='count' – применяемая функция `count`;\n",
    "- margins=True – получаем обобщенные значения по каждой группе."
   ]
  },
  {
   "cell_type": "code",
   "execution_count": null,
   "metadata": {},
   "outputs": [],
   "source": [
    "df_fam_status_pivot = df.pivot_table(\n",
    "    index=['family_status_id','family_status']\n",
    "    , columns='debt', values='purpose', aggfunc='count', margins=True)\n",
    "\n",
    "df_fam_status_pivot"
   ]
  },
  {
   "cell_type": "markdown",
   "metadata": {},
   "source": [
    "Добавим новый столбец `debt_rate`, в котором рассчитаем процент задолженностей в каждой группе, и выведем итоговую таблицу на экран:"
   ]
  },
  {
   "cell_type": "code",
   "execution_count": null,
   "metadata": {},
   "outputs": [],
   "source": [
    "df_fam_status_pivot['debt_rate'] = df_fam_status_pivot[1]/df_fam_status_pivot['All']*100\n",
    "df_fam_status_pivot"
   ]
  },
  {
   "cell_type": "markdown",
   "metadata": {},
   "source": [
    "**Вывод**"
   ]
  },
  {
   "cell_type": "markdown",
   "metadata": {},
   "source": [
    "В результате мы увидели, что число задолженностей незначительно, но все же меняется в зависимости от семейного статуса клиента.\n",
    "\n",
    "Чаще имеют задолженности по кредитам клиенты с семейным статусом `гражданский брак` (задолженность в 9.3% случаев)  и `Не женат / не замужем` (задолженность в 9.7% случаев). Немного реже задолженности по кредитам имеют клиенты с семейным статусом `женат / замужем` (задолженность в 7.5% случаев)  и `в разводе` (задолженность в 7.1% случаев).  Реже всего имеют задолженность клиенты со статусом `вдовец / вдова` (задолженность в 6.6% случаев). "
   ]
  },
  {
   "cell_type": "markdown",
   "metadata": {},
   "source": [
    "### Зависимость между уровнем дохода и возвратом кредита в срок"
   ]
  },
  {
   "cell_type": "markdown",
   "metadata": {},
   "source": [
    "Ранее мы разделили доходы клиентов на 4 категории.\n",
    "\n",
    "Для выведения результатов создадим новый df `df_income_pivot`.\n",
    "\n",
    "Воспользуемся методом `pivot_table` со следующими аргументами:\n",
    "- index='total_income_group' – группируем данные по ранее выделенным категориям дохода, столбец `total_income_group`;\n",
    "- columns='debt' – значения, по которым происходит группировка, столбец `debt`;\n",
    "- values='purpose' – используем любой из столбцов df (в данном случае `purpose`), т.к. далее применяем `count`;\n",
    "- aggfunc='count' – применяемая функция `count`;\n",
    "- margins=True – получаем обобщенные значения по каждой группе."
   ]
  },
  {
   "cell_type": "code",
   "execution_count": null,
   "metadata": {},
   "outputs": [],
   "source": [
    "df_income_pivot = df.pivot_table(index='total_income_group', columns='debt', values='purpose', aggfunc='count', margins=True)\n",
    "df_income_pivot"
   ]
  },
  {
   "cell_type": "markdown",
   "metadata": {},
   "source": [
    "Добавим новый столбец `debt_rate`, в котором рассчитаем процент задолженностей в каждой группе, и выведем итоговую таблицу на экран:"
   ]
  },
  {
   "cell_type": "code",
   "execution_count": null,
   "metadata": {},
   "outputs": [],
   "source": [
    "df_income_pivot['debt_rate'] = df_income_pivot[1]/df_income_pivot['All']*100\n",
    "df_income_pivot"
   ]
  },
  {
   "cell_type": "markdown",
   "metadata": {},
   "source": [
    "**Вывод**"
   ]
  },
  {
   "cell_type": "markdown",
   "metadata": {},
   "source": [
    "В результате мы увидели, что число задолженностей незначительно, но все же меняется в зависимости от ежемесячного дохода клиента. \n",
    "\n",
    "Чаще всего имеют задолженности по кредитам клиенты с ежемесячным доходом от 107799 до 145017 - задолженность в 8.8% случаев. Реже всего задолженности по кредитам у клиентов с ежемесячным доходом более 195544 - задолженность в 7.2% случаев. Чуть чаще имеют задолженность клиенты с ежемесячным доходом менее 107798 (задолженность в 7.9% случаев) и клиенты ежемесячным доходом от 145018 до 195543 (задолженность в 8.4% случаев)."
   ]
  },
  {
   "cell_type": "markdown",
   "metadata": {},
   "source": [
    "### Зависимость цели кредита на его возврат в срок"
   ]
  },
  {
   "cell_type": "markdown",
   "metadata": {},
   "source": [
    "Ранее мы разделили цели получения кредита на 4 категории.\n",
    "\n",
    "Для выведения результатов создадим новый df `df_purpose_pivot`.\n",
    "\n",
    "Воспользуемся методом `pivot_table` со следующими аргументами:\n",
    "- index='total_purpose_group' – группируем данные по ранее выделенным категориям целей получения кредита, столбец `total_purpose_group`;\n",
    "- columns='debt' – значения, по которым происходит группировка, столбец `debt`;\n",
    "- values='purpose' – используем любой из столбцов df (в данном случае `purpose`), т.к. далее применяем `count`;\n",
    "- aggfunc='count' – применяемая функция `count`;\n",
    "- margins=True – получаем обобщенные значения по каждой группе."
   ]
  },
  {
   "cell_type": "code",
   "execution_count": null,
   "metadata": {},
   "outputs": [],
   "source": [
    "df_purpose_pivot = df.pivot_table(index='total_purpose_group', columns='debt', values='purpose', aggfunc='count', margins=True)\n",
    "df_purpose_pivot"
   ]
  },
  {
   "cell_type": "markdown",
   "metadata": {},
   "source": [
    "Добавим новый столбец `debt_rate`, в котором рассчитаем процент задолженностей в каждой группе, и выведем итоговую таблицу на экран:"
   ]
  },
  {
   "cell_type": "code",
   "execution_count": null,
   "metadata": {},
   "outputs": [],
   "source": [
    "df_purpose_pivot['debt_rate'] = df_income_pivot[1]/df_income_pivot['All']*100\n",
    "df_purpose_pivot"
   ]
  },
  {
   "cell_type": "markdown",
   "metadata": {},
   "source": [
    "**Вывод**"
   ]
  },
  {
   "cell_type": "markdown",
   "metadata": {},
   "source": [
    "В результате мы увидели, что число задолженностей незначительно, но все же меняется в зависимости от цели кредита. \n",
    "\n",
    "Чаще всего имеют задолженности по кредитам клиенты, цели кредита которых относятся к категориям `автомобиль` или `образование` - задолженность в 8.8% и 8.4% случаев соответственно. Реже задолженности по кредитам имеют клиенты, цели кредита которых относятся к категориям `свадьба` (задолженность в 7.9% случаев) или `недвижимость/жильё` (задолженность в 7.2% случаев)."
   ]
  },
  {
   "cell_type": "markdown",
   "metadata": {},
   "source": [
    "<a id=\"step4\"></a>\n",
    "## Общий вывод"
   ]
  },
  {
   "cell_type": "markdown",
   "metadata": {},
   "source": [
    "В первую очередь хотелось бы отметить, что по любой из выделенных нами категорий процент задолженностей составлял менее 10% (что, на мой взгляд, довольно неплохой показатель).\n",
    "\n",
    "Также хочется отметить, что разница между показателями процента задолженности в каждой из катерогий очень незначительная и не превышает максимум 3% по категории.\n",
    "\n",
    "Расположим клиентов в порядке возрастания вероятности задолженности по кредиту (т.е. чем больше число, тем больше вероятность, что клиент будет должником) в разных категориях:\n",
    "\n",
    "* Наличие/отсутствие детей:\n",
    "1. 5 детей.\n",
    "2. Дети отсутствуют.\n",
    "3. 3 детей.\n",
    "4. 1 ребенок.\n",
    "5. 2 детей.\n",
    "6. 4 детей.\n",
    "\n",
    "* Семейное положение:\n",
    "1. Вдовец / вдова.\n",
    "2. В разводе.\n",
    "3. Женат / замужем.\n",
    "4. Гражданский брак.\n",
    "5. Не женат / не замужем.\n",
    "\n",
    "* Ежемесячный доход:\n",
    "1. Более 195544.\n",
    "2. Менее 107798.\n",
    "3. От 145018 до 195543.\n",
    "4. От 107799 до 145017.\n",
    "\n",
    "* Цель кредита:\n",
    "1. Свадьба.\n",
    "2. Недвижимость/жильё.\n",
    "3. Образование.\n",
    "4. Автомобиль.\n"
   ]
  }
 ],
 "metadata": {
  "ExecuteTimeLog": [
   {
    "duration": 655,
    "start_time": "2022-01-20T10:08:15.168Z"
   },
   {
    "duration": 10,
    "start_time": "2022-01-20T12:13:20.196Z"
   },
   {
    "duration": 272,
    "start_time": "2022-01-20T13:44:39.889Z"
   },
   {
    "duration": 8,
    "start_time": "2022-01-20T13:44:48.799Z"
   },
   {
    "duration": 13,
    "start_time": "2022-01-20T13:46:12.666Z"
   },
   {
    "duration": 11,
    "start_time": "2022-01-20T14:08:34.380Z"
   },
   {
    "duration": 67,
    "start_time": "2022-01-20T14:09:05.023Z"
   },
   {
    "duration": 10,
    "start_time": "2022-01-20T14:09:16.116Z"
   },
   {
    "duration": 15,
    "start_time": "2022-01-20T14:10:41.233Z"
   },
   {
    "duration": 25,
    "start_time": "2022-01-20T14:13:04.787Z"
   },
   {
    "duration": 27,
    "start_time": "2022-01-20T14:16:44.199Z"
   },
   {
    "duration": 7,
    "start_time": "2022-01-20T14:32:23.289Z"
   },
   {
    "duration": 25,
    "start_time": "2022-01-20T14:49:03.005Z"
   },
   {
    "duration": 10,
    "start_time": "2022-01-20T14:49:27.961Z"
   },
   {
    "duration": 17,
    "start_time": "2022-01-20T14:49:57.565Z"
   },
   {
    "duration": 14,
    "start_time": "2022-01-20T14:50:31.936Z"
   },
   {
    "duration": 18,
    "start_time": "2022-01-20T14:51:08.893Z"
   },
   {
    "duration": 16,
    "start_time": "2022-01-20T14:51:45.367Z"
   },
   {
    "duration": 15,
    "start_time": "2022-01-20T14:55:24.236Z"
   },
   {
    "duration": 16,
    "start_time": "2022-01-20T14:55:39.542Z"
   },
   {
    "duration": 7,
    "start_time": "2022-01-20T15:08:28.086Z"
   },
   {
    "duration": 147,
    "start_time": "2022-01-20T15:27:01.424Z"
   },
   {
    "duration": 26,
    "start_time": "2022-01-20T15:32:31.175Z"
   },
   {
    "duration": 14,
    "start_time": "2022-01-20T15:36:13.014Z"
   },
   {
    "duration": 9,
    "start_time": "2022-01-20T15:36:20.674Z"
   },
   {
    "duration": 63,
    "start_time": "2022-01-20T15:36:46.475Z"
   },
   {
    "duration": 28,
    "start_time": "2022-01-20T15:36:46.561Z"
   },
   {
    "duration": 7,
    "start_time": "2022-01-20T15:36:46.590Z"
   },
   {
    "duration": 29,
    "start_time": "2022-01-20T15:36:46.603Z"
   },
   {
    "duration": 23,
    "start_time": "2022-01-20T15:36:46.634Z"
   },
   {
    "duration": 9,
    "start_time": "2022-01-20T15:36:46.672Z"
   },
   {
    "duration": 3,
    "start_time": "2022-01-20T15:38:55.001Z"
   },
   {
    "duration": 68,
    "start_time": "2022-01-20T15:39:03.321Z"
   },
   {
    "duration": 27,
    "start_time": "2022-01-20T15:39:03.390Z"
   },
   {
    "duration": 5,
    "start_time": "2022-01-20T15:39:03.419Z"
   },
   {
    "duration": 15,
    "start_time": "2022-01-20T15:39:03.426Z"
   },
   {
    "duration": 6,
    "start_time": "2022-01-20T15:39:03.443Z"
   },
   {
    "duration": 18,
    "start_time": "2022-01-20T15:39:03.451Z"
   },
   {
    "duration": 8,
    "start_time": "2022-01-20T15:46:51.814Z"
   },
   {
    "duration": 62,
    "start_time": "2022-01-20T15:46:59.118Z"
   },
   {
    "duration": 11,
    "start_time": "2022-01-20T15:47:02.275Z"
   },
   {
    "duration": 12,
    "start_time": "2022-01-20T15:49:37.691Z"
   },
   {
    "duration": 8,
    "start_time": "2022-01-20T15:50:20.189Z"
   },
   {
    "duration": 62,
    "start_time": "2022-01-20T15:50:25.248Z"
   },
   {
    "duration": 24,
    "start_time": "2022-01-20T15:50:25.312Z"
   },
   {
    "duration": 15,
    "start_time": "2022-01-20T15:50:25.337Z"
   },
   {
    "duration": 33,
    "start_time": "2022-01-20T15:50:25.354Z"
   },
   {
    "duration": 16,
    "start_time": "2022-01-20T15:50:25.389Z"
   },
   {
    "duration": 30,
    "start_time": "2022-01-20T15:50:25.406Z"
   },
   {
    "duration": 28,
    "start_time": "2022-01-20T15:50:25.438Z"
   },
   {
    "duration": 70,
    "start_time": "2022-01-20T15:51:35.633Z"
   },
   {
    "duration": 34,
    "start_time": "2022-01-20T15:51:35.706Z"
   },
   {
    "duration": 7,
    "start_time": "2022-01-20T15:51:35.742Z"
   },
   {
    "duration": 16,
    "start_time": "2022-01-20T15:51:35.751Z"
   },
   {
    "duration": 85,
    "start_time": "2022-01-20T15:51:35.769Z"
   },
   {
    "duration": 10,
    "start_time": "2022-01-20T15:51:35.856Z"
   },
   {
    "duration": 17,
    "start_time": "2022-01-20T15:51:35.867Z"
   },
   {
    "duration": 65,
    "start_time": "2022-01-20T15:52:15.309Z"
   },
   {
    "duration": 26,
    "start_time": "2022-01-20T15:52:15.376Z"
   },
   {
    "duration": 5,
    "start_time": "2022-01-20T15:52:15.405Z"
   },
   {
    "duration": 18,
    "start_time": "2022-01-20T15:52:15.412Z"
   },
   {
    "duration": 2,
    "start_time": "2022-01-20T15:52:15.432Z"
   },
   {
    "duration": 14,
    "start_time": "2022-01-20T15:52:15.436Z"
   },
   {
    "duration": 12,
    "start_time": "2022-01-20T15:52:15.451Z"
   },
   {
    "duration": 12,
    "start_time": "2022-01-20T15:52:43.059Z"
   },
   {
    "duration": 23,
    "start_time": "2022-01-20T15:53:03.476Z"
   },
   {
    "duration": 22,
    "start_time": "2022-01-20T15:53:17.312Z"
   },
   {
    "duration": 22,
    "start_time": "2022-01-20T15:53:33.414Z"
   },
   {
    "duration": 13,
    "start_time": "2022-01-20T15:53:54.993Z"
   },
   {
    "duration": 23,
    "start_time": "2022-01-20T15:54:24.424Z"
   },
   {
    "duration": 12,
    "start_time": "2022-01-20T15:54:36.780Z"
   },
   {
    "duration": 5,
    "start_time": "2022-01-20T15:57:28.805Z"
   },
   {
    "duration": 16,
    "start_time": "2022-01-20T15:57:34.445Z"
   },
   {
    "duration": 79,
    "start_time": "2022-01-20T15:57:51.783Z"
   },
   {
    "duration": 43,
    "start_time": "2022-01-20T15:57:51.864Z"
   },
   {
    "duration": 7,
    "start_time": "2022-01-20T15:57:51.909Z"
   },
   {
    "duration": 6,
    "start_time": "2022-01-20T15:57:51.918Z"
   },
   {
    "duration": 13,
    "start_time": "2022-01-20T15:57:51.926Z"
   },
   {
    "duration": 69,
    "start_time": "2022-01-20T15:58:26.163Z"
   },
   {
    "duration": 9,
    "start_time": "2022-01-20T15:58:26.234Z"
   },
   {
    "duration": 7,
    "start_time": "2022-01-20T15:58:26.245Z"
   },
   {
    "duration": 9,
    "start_time": "2022-01-20T15:58:26.253Z"
   },
   {
    "duration": 34,
    "start_time": "2022-01-20T15:58:26.263Z"
   },
   {
    "duration": 8,
    "start_time": "2022-01-20T16:09:58.243Z"
   },
   {
    "duration": 133,
    "start_time": "2022-01-20T16:10:29.746Z"
   },
   {
    "duration": 142,
    "start_time": "2022-01-20T16:10:34.133Z"
   },
   {
    "duration": 8,
    "start_time": "2022-01-20T16:10:57.026Z"
   },
   {
    "duration": 13,
    "start_time": "2022-01-20T16:12:07.563Z"
   },
   {
    "duration": 127,
    "start_time": "2022-01-20T16:12:41.176Z"
   },
   {
    "duration": 683,
    "start_time": "2022-01-20T16:12:45.526Z"
   },
   {
    "duration": 8,
    "start_time": "2022-01-20T16:13:02.970Z"
   },
   {
    "duration": 6,
    "start_time": "2022-01-20T16:13:09.301Z"
   },
   {
    "duration": 146,
    "start_time": "2022-01-20T16:13:29.676Z"
   },
   {
    "duration": 8,
    "start_time": "2022-01-20T16:13:53.103Z"
   },
   {
    "duration": 139,
    "start_time": "2022-01-20T16:14:29.493Z"
   },
   {
    "duration": 127,
    "start_time": "2022-01-20T16:15:16.870Z"
   },
   {
    "duration": 9,
    "start_time": "2022-01-20T16:15:37.260Z"
   },
   {
    "duration": 66,
    "start_time": "2022-01-20T16:15:56.237Z"
   },
   {
    "duration": 9,
    "start_time": "2022-01-20T16:15:56.305Z"
   },
   {
    "duration": 30,
    "start_time": "2022-01-20T16:15:56.316Z"
   },
   {
    "duration": 50,
    "start_time": "2022-01-20T16:15:56.347Z"
   },
   {
    "duration": 26,
    "start_time": "2022-01-20T16:15:56.399Z"
   },
   {
    "duration": 5,
    "start_time": "2022-01-20T16:16:26.885Z"
   },
   {
    "duration": 10,
    "start_time": "2022-01-20T16:16:29.717Z"
   },
   {
    "duration": 14,
    "start_time": "2022-01-20T17:54:21.858Z"
   },
   {
    "duration": 11,
    "start_time": "2022-01-20T17:54:44.066Z"
   },
   {
    "duration": 66,
    "start_time": "2022-01-20T17:54:52.853Z"
   },
   {
    "duration": 10,
    "start_time": "2022-01-20T17:54:52.921Z"
   },
   {
    "duration": 24,
    "start_time": "2022-01-20T17:54:52.933Z"
   },
   {
    "duration": 9,
    "start_time": "2022-01-20T17:54:52.959Z"
   },
   {
    "duration": 22,
    "start_time": "2022-01-20T17:54:52.970Z"
   },
   {
    "duration": 19,
    "start_time": "2022-01-20T18:01:35.999Z"
   },
   {
    "duration": 12,
    "start_time": "2022-01-20T18:07:34.369Z"
   },
   {
    "duration": 65,
    "start_time": "2022-01-20T18:07:55.993Z"
   },
   {
    "duration": 9,
    "start_time": "2022-01-20T18:07:56.060Z"
   },
   {
    "duration": 26,
    "start_time": "2022-01-20T18:07:56.071Z"
   },
   {
    "duration": 9,
    "start_time": "2022-01-20T18:07:56.099Z"
   },
   {
    "duration": 16,
    "start_time": "2022-01-20T18:07:56.109Z"
   },
   {
    "duration": 17,
    "start_time": "2022-01-20T18:07:56.126Z"
   },
   {
    "duration": 129,
    "start_time": "2022-01-20T18:08:55.987Z"
   },
   {
    "duration": 15,
    "start_time": "2022-01-20T18:10:44.099Z"
   },
   {
    "duration": 68,
    "start_time": "2022-01-20T18:10:49.548Z"
   },
   {
    "duration": 9,
    "start_time": "2022-01-20T18:10:49.617Z"
   },
   {
    "duration": 60,
    "start_time": "2022-01-20T18:10:49.627Z"
   },
   {
    "duration": 21,
    "start_time": "2022-01-20T18:10:49.689Z"
   },
   {
    "duration": 24,
    "start_time": "2022-01-20T18:10:49.711Z"
   },
   {
    "duration": 39,
    "start_time": "2022-01-20T18:10:49.737Z"
   },
   {
    "duration": 37,
    "start_time": "2022-01-20T18:11:31.689Z"
   },
   {
    "duration": 83,
    "start_time": "2022-01-20T18:11:55.818Z"
   },
   {
    "duration": 9,
    "start_time": "2022-01-20T18:11:55.903Z"
   },
   {
    "duration": 30,
    "start_time": "2022-01-20T18:11:55.914Z"
   },
   {
    "duration": 5,
    "start_time": "2022-01-20T18:11:55.946Z"
   },
   {
    "duration": 7,
    "start_time": "2022-01-20T18:11:55.952Z"
   },
   {
    "duration": 12,
    "start_time": "2022-01-20T18:11:55.960Z"
   },
   {
    "duration": 68,
    "start_time": "2022-01-20T18:12:53.194Z"
   },
   {
    "duration": 9,
    "start_time": "2022-01-20T18:12:53.264Z"
   },
   {
    "duration": 159,
    "start_time": "2022-01-20T18:12:53.275Z"
   },
   {
    "duration": 1778,
    "start_time": "2022-01-20T18:12:51.658Z"
   },
   {
    "duration": 1767,
    "start_time": "2022-01-20T18:12:51.670Z"
   },
   {
    "duration": 1763,
    "start_time": "2022-01-20T18:12:51.675Z"
   },
   {
    "duration": 65,
    "start_time": "2022-01-20T18:13:07.843Z"
   },
   {
    "duration": 9,
    "start_time": "2022-01-20T18:13:07.909Z"
   },
   {
    "duration": 62,
    "start_time": "2022-01-20T18:13:07.921Z"
   },
   {
    "duration": 7,
    "start_time": "2022-01-20T18:13:07.985Z"
   },
   {
    "duration": 38,
    "start_time": "2022-01-20T18:13:07.994Z"
   },
   {
    "duration": 28,
    "start_time": "2022-01-20T18:13:08.034Z"
   },
   {
    "duration": 55,
    "start_time": "2022-01-20T18:15:10.694Z"
   },
   {
    "duration": 24,
    "start_time": "2022-01-20T18:15:37.894Z"
   },
   {
    "duration": 77,
    "start_time": "2022-01-20T18:19:16.735Z"
   },
   {
    "duration": 9,
    "start_time": "2022-01-20T18:19:16.814Z"
   },
   {
    "duration": 42,
    "start_time": "2022-01-20T18:19:16.825Z"
   },
   {
    "duration": 5,
    "start_time": "2022-01-20T18:19:16.869Z"
   },
   {
    "duration": 6,
    "start_time": "2022-01-20T18:19:16.876Z"
   },
   {
    "duration": 19,
    "start_time": "2022-01-20T18:19:16.883Z"
   },
   {
    "duration": 31,
    "start_time": "2022-01-20T18:19:42.492Z"
   },
   {
    "duration": 12,
    "start_time": "2022-01-20T18:19:54.250Z"
   },
   {
    "duration": 66,
    "start_time": "2022-01-20T18:19:57.192Z"
   },
   {
    "duration": 9,
    "start_time": "2022-01-20T18:19:57.260Z"
   },
   {
    "duration": 31,
    "start_time": "2022-01-20T18:19:57.271Z"
   },
   {
    "duration": 5,
    "start_time": "2022-01-20T18:19:57.304Z"
   },
   {
    "duration": 22,
    "start_time": "2022-01-20T18:19:57.311Z"
   },
   {
    "duration": 18,
    "start_time": "2022-01-20T18:19:57.335Z"
   },
   {
    "duration": 13,
    "start_time": "2022-01-20T18:41:35.714Z"
   },
   {
    "duration": 4,
    "start_time": "2022-01-20T18:47:16.470Z"
   },
   {
    "duration": 20,
    "start_time": "2022-01-20T18:47:31.766Z"
   },
   {
    "duration": 12,
    "start_time": "2022-01-20T18:47:42.410Z"
   },
   {
    "duration": 137,
    "start_time": "2022-01-20T18:50:45.436Z"
   },
   {
    "duration": 18,
    "start_time": "2022-01-20T18:51:12.030Z"
   },
   {
    "duration": 7,
    "start_time": "2022-01-20T18:51:39.784Z"
   },
   {
    "duration": 147,
    "start_time": "2022-01-20T18:52:47.407Z"
   },
   {
    "duration": 20,
    "start_time": "2022-01-20T18:52:55.513Z"
   },
   {
    "duration": 21,
    "start_time": "2022-01-20T18:54:02.831Z"
   },
   {
    "duration": 27,
    "start_time": "2022-01-20T18:54:33.357Z"
   },
   {
    "duration": 38,
    "start_time": "2022-01-20T18:55:03.469Z"
   },
   {
    "duration": 7,
    "start_time": "2022-01-20T18:55:36.521Z"
   },
   {
    "duration": 5,
    "start_time": "2022-01-20T18:56:04.071Z"
   },
   {
    "duration": 54,
    "start_time": "2022-01-20T18:57:10.949Z"
   },
   {
    "duration": 21,
    "start_time": "2022-01-20T18:57:22.278Z"
   },
   {
    "duration": 36,
    "start_time": "2022-01-20T18:57:37.060Z"
   },
   {
    "duration": 21,
    "start_time": "2022-01-20T18:58:20.255Z"
   },
   {
    "duration": 20,
    "start_time": "2022-01-20T18:58:22.449Z"
   },
   {
    "duration": 8,
    "start_time": "2022-01-20T18:59:18.587Z"
   },
   {
    "duration": 8,
    "start_time": "2022-01-20T18:59:26.169Z"
   },
   {
    "duration": 36,
    "start_time": "2022-01-20T19:00:43.629Z"
   },
   {
    "duration": 1483,
    "start_time": "2022-01-20T19:09:30.382Z"
   },
   {
    "duration": 68,
    "start_time": "2022-01-20T19:09:50.767Z"
   },
   {
    "duration": 10,
    "start_time": "2022-01-20T19:09:50.837Z"
   },
   {
    "duration": 1058,
    "start_time": "2022-01-20T19:09:54.019Z"
   },
   {
    "duration": 949,
    "start_time": "2022-01-20T19:10:29.787Z"
   },
   {
    "duration": 939,
    "start_time": "2022-01-20T19:10:42.573Z"
   },
   {
    "duration": 1124,
    "start_time": "2022-01-20T19:10:55.435Z"
   },
   {
    "duration": 1145,
    "start_time": "2022-01-20T19:11:30.724Z"
   },
   {
    "duration": 916,
    "start_time": "2022-01-20T19:12:46.615Z"
   },
   {
    "duration": 900,
    "start_time": "2022-01-20T19:13:00.489Z"
   },
   {
    "duration": 3,
    "start_time": "2022-01-20T19:13:09.711Z"
   },
   {
    "duration": 126,
    "start_time": "2022-01-20T19:13:43.048Z"
   },
   {
    "duration": 3139,
    "start_time": "2022-01-20T19:19:19.761Z"
   },
   {
    "duration": 3569,
    "start_time": "2022-01-20T19:19:50.430Z"
   },
   {
    "duration": 3557,
    "start_time": "2022-01-20T19:19:59.712Z"
   },
   {
    "duration": 9,
    "start_time": "2022-01-20T19:20:38.968Z"
   },
   {
    "duration": 183,
    "start_time": "2022-01-20T19:20:52.169Z"
   },
   {
    "duration": 149,
    "start_time": "2022-01-20T19:21:40.879Z"
   },
   {
    "duration": 7,
    "start_time": "2022-01-20T19:21:48.852Z"
   },
   {
    "duration": 8,
    "start_time": "2022-01-20T19:22:05.300Z"
   },
   {
    "duration": 8,
    "start_time": "2022-01-20T19:22:30.857Z"
   },
   {
    "duration": 7,
    "start_time": "2022-01-20T19:23:45.559Z"
   },
   {
    "duration": 8,
    "start_time": "2022-01-20T19:24:29.433Z"
   },
   {
    "duration": 8,
    "start_time": "2022-01-20T19:32:07.434Z"
   },
   {
    "duration": 11,
    "start_time": "2022-01-20T19:32:10.676Z"
   },
   {
    "duration": 77,
    "start_time": "2022-01-20T19:50:47.622Z"
   },
   {
    "duration": 8,
    "start_time": "2022-01-20T19:52:24.055Z"
   },
   {
    "duration": 7,
    "start_time": "2022-01-20T19:53:57.094Z"
   },
   {
    "duration": 64,
    "start_time": "2022-01-20T19:55:06.814Z"
   },
   {
    "duration": 9,
    "start_time": "2022-01-20T19:55:06.879Z"
   },
   {
    "duration": 67,
    "start_time": "2022-01-20T19:55:06.890Z"
   },
   {
    "duration": 6,
    "start_time": "2022-01-20T19:55:06.959Z"
   },
   {
    "duration": 16,
    "start_time": "2022-01-20T19:55:06.967Z"
   },
   {
    "duration": 4,
    "start_time": "2022-01-20T19:55:06.985Z"
   },
   {
    "duration": 13,
    "start_time": "2022-01-20T19:55:06.991Z"
   },
   {
    "duration": 12,
    "start_time": "2022-01-20T19:55:07.006Z"
   },
   {
    "duration": 20,
    "start_time": "2022-01-20T19:55:09.021Z"
   },
   {
    "duration": 38,
    "start_time": "2022-01-20T19:55:11.414Z"
   },
   {
    "duration": 14,
    "start_time": "2022-01-20T19:55:24.124Z"
   },
   {
    "duration": 10,
    "start_time": "2022-01-20T19:58:17.168Z"
   },
   {
    "duration": 10,
    "start_time": "2022-01-20T19:58:27.542Z"
   },
   {
    "duration": 11,
    "start_time": "2022-01-20T19:59:20.514Z"
   },
   {
    "duration": 11,
    "start_time": "2022-01-20T19:59:23.411Z"
   },
   {
    "duration": 64,
    "start_time": "2022-01-20T19:59:33.334Z"
   },
   {
    "duration": 9,
    "start_time": "2022-01-20T19:59:33.400Z"
   },
   {
    "duration": 26,
    "start_time": "2022-01-20T19:59:33.411Z"
   },
   {
    "duration": 5,
    "start_time": "2022-01-20T19:59:33.439Z"
   },
   {
    "duration": 16,
    "start_time": "2022-01-20T19:59:33.446Z"
   },
   {
    "duration": 4,
    "start_time": "2022-01-20T19:59:33.463Z"
   },
   {
    "duration": 10,
    "start_time": "2022-01-20T19:59:33.497Z"
   },
   {
    "duration": 21,
    "start_time": "2022-01-20T19:59:33.509Z"
   },
   {
    "duration": 21,
    "start_time": "2022-01-20T19:59:33.531Z"
   },
   {
    "duration": 60,
    "start_time": "2022-01-20T19:59:33.554Z"
   },
   {
    "duration": 12,
    "start_time": "2022-01-20T19:59:35.712Z"
   },
   {
    "duration": 821,
    "start_time": "2022-01-21T08:23:37.669Z"
   },
   {
    "duration": 13,
    "start_time": "2022-01-21T08:23:38.493Z"
   },
   {
    "duration": 57,
    "start_time": "2022-01-21T08:23:38.509Z"
   },
   {
    "duration": 7,
    "start_time": "2022-01-21T08:23:38.569Z"
   },
   {
    "duration": 21,
    "start_time": "2022-01-21T08:23:38.578Z"
   },
   {
    "duration": 31,
    "start_time": "2022-01-21T08:23:38.601Z"
   },
   {
    "duration": 17,
    "start_time": "2022-01-21T08:23:38.634Z"
   },
   {
    "duration": 18,
    "start_time": "2022-01-21T08:23:38.655Z"
   },
   {
    "duration": 70,
    "start_time": "2022-01-21T08:23:38.676Z"
   },
   {
    "duration": 57,
    "start_time": "2022-01-21T08:23:38.748Z"
   },
   {
    "duration": 99,
    "start_time": "2022-01-21T08:23:53.838Z"
   },
   {
    "duration": 12,
    "start_time": "2022-01-21T08:23:53.940Z"
   },
   {
    "duration": 38,
    "start_time": "2022-01-21T08:23:53.955Z"
   },
   {
    "duration": 36,
    "start_time": "2022-01-21T08:23:53.996Z"
   },
   {
    "duration": 19,
    "start_time": "2022-01-21T08:23:54.034Z"
   },
   {
    "duration": 5,
    "start_time": "2022-01-21T08:23:54.056Z"
   },
   {
    "duration": 17,
    "start_time": "2022-01-21T08:23:54.064Z"
   },
   {
    "duration": 57,
    "start_time": "2022-01-21T08:23:54.084Z"
   },
   {
    "duration": 34,
    "start_time": "2022-01-21T08:23:54.143Z"
   },
   {
    "duration": 82,
    "start_time": "2022-01-21T08:23:54.180Z"
   },
   {
    "duration": 9,
    "start_time": "2022-01-21T08:23:56.081Z"
   },
   {
    "duration": 6,
    "start_time": "2022-01-21T08:24:01.459Z"
   },
   {
    "duration": 10,
    "start_time": "2022-01-21T08:25:03.923Z"
   },
   {
    "duration": 7,
    "start_time": "2022-01-21T08:25:21.131Z"
   },
   {
    "duration": 6,
    "start_time": "2022-01-21T08:25:40.328Z"
   },
   {
    "duration": 10,
    "start_time": "2022-01-21T08:25:52.057Z"
   },
   {
    "duration": 7,
    "start_time": "2022-01-21T08:26:03.477Z"
   },
   {
    "duration": 7,
    "start_time": "2022-01-21T08:26:17.097Z"
   },
   {
    "duration": 7,
    "start_time": "2022-01-21T08:26:27.534Z"
   },
   {
    "duration": 7,
    "start_time": "2022-01-21T08:26:39.287Z"
   },
   {
    "duration": 7,
    "start_time": "2022-01-21T08:26:50.705Z"
   },
   {
    "duration": 7,
    "start_time": "2022-01-21T08:26:59.332Z"
   },
   {
    "duration": 6,
    "start_time": "2022-01-21T08:27:10.432Z"
   },
   {
    "duration": 9,
    "start_time": "2022-01-21T08:27:20.510Z"
   },
   {
    "duration": 19,
    "start_time": "2022-01-21T08:29:00.795Z"
   },
   {
    "duration": 37,
    "start_time": "2022-01-21T08:29:25.523Z"
   },
   {
    "duration": 1433,
    "start_time": "2022-01-21T08:39:10.063Z"
   },
   {
    "duration": 89,
    "start_time": "2022-01-21T08:39:20.649Z"
   },
   {
    "duration": 13,
    "start_time": "2022-01-21T08:39:20.741Z"
   },
   {
    "duration": 40,
    "start_time": "2022-01-21T08:39:20.757Z"
   },
   {
    "duration": 8,
    "start_time": "2022-01-21T08:39:20.800Z"
   },
   {
    "duration": 22,
    "start_time": "2022-01-21T08:39:20.833Z"
   },
   {
    "duration": 6,
    "start_time": "2022-01-21T08:39:20.858Z"
   },
   {
    "duration": 18,
    "start_time": "2022-01-21T08:39:20.866Z"
   },
   {
    "duration": 1211,
    "start_time": "2022-01-21T08:39:22.690Z"
   },
   {
    "duration": 1185,
    "start_time": "2022-01-21T08:54:35.428Z"
   },
   {
    "duration": 32,
    "start_time": "2022-01-21T08:54:46.045Z"
   },
   {
    "duration": 17,
    "start_time": "2022-01-21T08:55:04.067Z"
   },
   {
    "duration": 86,
    "start_time": "2022-01-21T08:56:14.214Z"
   },
   {
    "duration": 13,
    "start_time": "2022-01-21T08:56:14.302Z"
   },
   {
    "duration": 41,
    "start_time": "2022-01-21T08:56:14.334Z"
   },
   {
    "duration": 8,
    "start_time": "2022-01-21T08:56:14.378Z"
   },
   {
    "duration": 49,
    "start_time": "2022-01-21T08:56:14.388Z"
   },
   {
    "duration": 5,
    "start_time": "2022-01-21T08:56:14.439Z"
   },
   {
    "duration": 13,
    "start_time": "2022-01-21T08:56:14.447Z"
   },
   {
    "duration": 30,
    "start_time": "2022-01-21T08:56:16.274Z"
   },
   {
    "duration": 18,
    "start_time": "2022-01-21T08:56:20.078Z"
   },
   {
    "duration": 83,
    "start_time": "2022-01-21T08:57:36.766Z"
   },
   {
    "duration": 11,
    "start_time": "2022-01-21T08:57:36.852Z"
   },
   {
    "duration": 36,
    "start_time": "2022-01-21T08:57:36.866Z"
   },
   {
    "duration": 24,
    "start_time": "2022-01-21T08:58:07.079Z"
   },
   {
    "duration": 18,
    "start_time": "2022-01-21T08:58:38.969Z"
   },
   {
    "duration": 85,
    "start_time": "2022-01-21T08:58:48.755Z"
   },
   {
    "duration": 13,
    "start_time": "2022-01-21T08:58:48.843Z"
   },
   {
    "duration": 41,
    "start_time": "2022-01-21T08:58:48.860Z"
   },
   {
    "duration": 8,
    "start_time": "2022-01-21T08:58:48.932Z"
   },
   {
    "duration": 19,
    "start_time": "2022-01-21T08:58:48.943Z"
   },
   {
    "duration": 6,
    "start_time": "2022-01-21T08:58:48.964Z"
   },
   {
    "duration": 14,
    "start_time": "2022-01-21T08:58:48.972Z"
   },
   {
    "duration": 10,
    "start_time": "2022-01-21T08:58:54.526Z"
   },
   {
    "duration": 88,
    "start_time": "2022-01-21T09:01:16.844Z"
   },
   {
    "duration": 15,
    "start_time": "2022-01-21T09:01:16.935Z"
   },
   {
    "duration": 40,
    "start_time": "2022-01-21T09:01:16.954Z"
   },
   {
    "duration": 37,
    "start_time": "2022-01-21T09:01:16.997Z"
   },
   {
    "duration": 19,
    "start_time": "2022-01-21T09:01:17.038Z"
   },
   {
    "duration": 5,
    "start_time": "2022-01-21T09:01:17.060Z"
   },
   {
    "duration": 89,
    "start_time": "2022-01-21T09:01:26.676Z"
   },
   {
    "duration": 13,
    "start_time": "2022-01-21T09:01:26.768Z"
   },
   {
    "duration": 62,
    "start_time": "2022-01-21T09:01:26.784Z"
   },
   {
    "duration": 5,
    "start_time": "2022-01-21T09:01:26.848Z"
   },
   {
    "duration": 21,
    "start_time": "2022-01-21T09:01:26.855Z"
   },
   {
    "duration": 6,
    "start_time": "2022-01-21T09:01:26.878Z"
   },
   {
    "duration": 48,
    "start_time": "2022-01-21T09:01:26.886Z"
   },
   {
    "duration": 12,
    "start_time": "2022-01-21T09:01:26.938Z"
   },
   {
    "duration": 16,
    "start_time": "2022-01-21T09:01:26.954Z"
   },
   {
    "duration": 64,
    "start_time": "2022-01-21T09:01:26.973Z"
   },
   {
    "duration": 52,
    "start_time": "2022-01-21T09:01:37.949Z"
   },
   {
    "duration": 9,
    "start_time": "2022-01-21T09:01:48.694Z"
   },
   {
    "duration": 91,
    "start_time": "2022-01-21T09:02:24.392Z"
   },
   {
    "duration": 13,
    "start_time": "2022-01-21T09:02:24.485Z"
   },
   {
    "duration": 58,
    "start_time": "2022-01-21T09:02:24.501Z"
   },
   {
    "duration": 5,
    "start_time": "2022-01-21T09:02:24.561Z"
   },
   {
    "duration": 22,
    "start_time": "2022-01-21T09:02:24.569Z"
   },
   {
    "duration": 40,
    "start_time": "2022-01-21T09:02:24.594Z"
   },
   {
    "duration": 14,
    "start_time": "2022-01-21T09:02:24.636Z"
   },
   {
    "duration": 21,
    "start_time": "2022-01-21T09:02:24.653Z"
   },
   {
    "duration": 29,
    "start_time": "2022-01-21T09:02:56.771Z"
   },
   {
    "duration": 5,
    "start_time": "2022-01-21T09:03:45.960Z"
   },
   {
    "duration": 5,
    "start_time": "2022-01-21T09:03:52.718Z"
   },
   {
    "duration": 13,
    "start_time": "2022-01-21T09:03:54.448Z"
   },
   {
    "duration": 30,
    "start_time": "2022-01-21T09:04:01.512Z"
   },
   {
    "duration": 6,
    "start_time": "2022-01-21T09:16:42.481Z"
   },
   {
    "duration": 418,
    "start_time": "2022-01-21T09:17:30.555Z"
   },
   {
    "duration": 8,
    "start_time": "2022-01-21T09:18:10.243Z"
   },
   {
    "duration": 295,
    "start_time": "2022-01-21T09:18:14.582Z"
   },
   {
    "duration": 302,
    "start_time": "2022-01-21T09:18:54.792Z"
   },
   {
    "duration": 300,
    "start_time": "2022-01-21T09:19:44.268Z"
   },
   {
    "duration": 8,
    "start_time": "2022-01-21T09:19:51.042Z"
   },
   {
    "duration": 9,
    "start_time": "2022-01-21T09:22:04.680Z"
   },
   {
    "duration": 11,
    "start_time": "2022-01-21T09:22:15.955Z"
   },
   {
    "duration": 10,
    "start_time": "2022-01-21T09:22:34.632Z"
   },
   {
    "duration": 10,
    "start_time": "2022-01-21T09:22:50.493Z"
   },
   {
    "duration": 86,
    "start_time": "2022-01-21T09:24:46.115Z"
   },
   {
    "duration": 10,
    "start_time": "2022-01-21T09:24:46.204Z"
   },
   {
    "duration": 50,
    "start_time": "2022-01-21T09:24:46.217Z"
   },
   {
    "duration": 7,
    "start_time": "2022-01-21T09:24:46.270Z"
   },
   {
    "duration": 22,
    "start_time": "2022-01-21T09:24:46.279Z"
   },
   {
    "duration": 6,
    "start_time": "2022-01-21T09:24:46.333Z"
   },
   {
    "duration": 12,
    "start_time": "2022-01-21T09:24:46.344Z"
   },
   {
    "duration": 31,
    "start_time": "2022-01-21T09:24:46.362Z"
   },
   {
    "duration": 43,
    "start_time": "2022-01-21T09:24:46.396Z"
   },
   {
    "duration": 25,
    "start_time": "2022-01-21T09:24:46.441Z"
   },
   {
    "duration": 60,
    "start_time": "2022-01-21T09:24:49.641Z"
   },
   {
    "duration": 9,
    "start_time": "2022-01-21T09:38:08.276Z"
   },
   {
    "duration": 33,
    "start_time": "2022-01-21T09:39:40.918Z"
   },
   {
    "duration": 84,
    "start_time": "2022-01-21T09:45:57.561Z"
   },
   {
    "duration": 12,
    "start_time": "2022-01-21T09:45:57.647Z"
   },
   {
    "duration": 37,
    "start_time": "2022-01-21T09:45:57.662Z"
   },
   {
    "duration": 4,
    "start_time": "2022-01-21T09:45:57.735Z"
   },
   {
    "duration": 16,
    "start_time": "2022-01-21T09:45:57.788Z"
   },
   {
    "duration": 5,
    "start_time": "2022-01-21T09:45:57.828Z"
   },
   {
    "duration": 86,
    "start_time": "2022-01-21T09:46:22.737Z"
   },
   {
    "duration": 12,
    "start_time": "2022-01-21T09:46:22.826Z"
   },
   {
    "duration": 42,
    "start_time": "2022-01-21T09:46:22.840Z"
   },
   {
    "duration": 4,
    "start_time": "2022-01-21T09:46:22.904Z"
   },
   {
    "duration": 15,
    "start_time": "2022-01-21T09:46:22.943Z"
   },
   {
    "duration": 5,
    "start_time": "2022-01-21T09:46:22.987Z"
   },
   {
    "duration": 13,
    "start_time": "2022-01-21T09:46:23.018Z"
   },
   {
    "duration": 32,
    "start_time": "2022-01-21T09:46:28.453Z"
   },
   {
    "duration": 15,
    "start_time": "2022-01-21T09:46:36.945Z"
   },
   {
    "duration": 25,
    "start_time": "2022-01-21T09:49:17.764Z"
   },
   {
    "duration": 51,
    "start_time": "2022-01-21T09:49:18.851Z"
   },
   {
    "duration": 12,
    "start_time": "2022-01-21T09:53:23.690Z"
   },
   {
    "duration": 5,
    "start_time": "2022-01-21T09:54:01.334Z"
   },
   {
    "duration": 5,
    "start_time": "2022-01-21T09:54:03.296Z"
   },
   {
    "duration": 7,
    "start_time": "2022-01-21T09:54:11.321Z"
   },
   {
    "duration": 7,
    "start_time": "2022-01-21T09:58:17.401Z"
   },
   {
    "duration": 7,
    "start_time": "2022-01-21T09:58:20.506Z"
   },
   {
    "duration": 7,
    "start_time": "2022-01-21T09:58:31.213Z"
   },
   {
    "duration": 7,
    "start_time": "2022-01-21T09:58:43.571Z"
   },
   {
    "duration": 8,
    "start_time": "2022-01-21T09:58:59.651Z"
   },
   {
    "duration": 13,
    "start_time": "2022-01-21T10:07:30.575Z"
   },
   {
    "duration": 24,
    "start_time": "2022-01-21T10:07:49.244Z"
   },
   {
    "duration": 25,
    "start_time": "2022-01-21T10:08:32.474Z"
   },
   {
    "duration": 295,
    "start_time": "2022-01-21T10:08:53.340Z"
   },
   {
    "duration": 32,
    "start_time": "2022-01-21T10:09:32.824Z"
   },
   {
    "duration": 10,
    "start_time": "2022-01-21T10:20:11.377Z"
   },
   {
    "duration": 10,
    "start_time": "2022-01-21T10:20:32.780Z"
   },
   {
    "duration": 9,
    "start_time": "2022-01-21T10:20:50.112Z"
   },
   {
    "duration": 8,
    "start_time": "2022-01-21T10:21:13.369Z"
   },
   {
    "duration": 9,
    "start_time": "2022-01-21T10:21:28.297Z"
   },
   {
    "duration": 10,
    "start_time": "2022-01-21T10:26:40.774Z"
   },
   {
    "duration": 50,
    "start_time": "2022-01-21T11:34:54.025Z"
   },
   {
    "duration": 345,
    "start_time": "2022-01-21T11:36:05.917Z"
   },
   {
    "duration": 296,
    "start_time": "2022-01-21T11:38:18.108Z"
   },
   {
    "duration": 3,
    "start_time": "2022-01-21T11:38:26.350Z"
   },
   {
    "duration": 1014,
    "start_time": "2022-01-21T11:39:24.729Z"
   },
   {
    "duration": 209,
    "start_time": "2022-01-21T11:40:08.942Z"
   },
   {
    "duration": 389,
    "start_time": "2022-01-21T11:40:31.078Z"
   },
   {
    "duration": 982,
    "start_time": "2022-01-21T11:42:29.965Z"
   },
   {
    "duration": 6,
    "start_time": "2022-01-21T11:49:42.554Z"
   },
   {
    "duration": 8,
    "start_time": "2022-01-21T11:49:50.008Z"
   },
   {
    "duration": 11,
    "start_time": "2022-01-21T11:50:11.048Z"
   },
   {
    "duration": 8,
    "start_time": "2022-01-21T11:50:59.176Z"
   },
   {
    "duration": 11,
    "start_time": "2022-01-21T11:51:09.049Z"
   },
   {
    "duration": 39,
    "start_time": "2022-01-21T11:52:58.084Z"
   },
   {
    "duration": 336,
    "start_time": "2022-01-21T11:53:15.185Z"
   },
   {
    "duration": 2194,
    "start_time": "2022-01-21T11:54:02.560Z"
   },
   {
    "duration": 11,
    "start_time": "2022-01-21T11:54:41.029Z"
   },
   {
    "duration": 14,
    "start_time": "2022-01-21T11:55:15.755Z"
   },
   {
    "duration": 11,
    "start_time": "2022-01-21T11:55:23.717Z"
   },
   {
    "duration": 12,
    "start_time": "2022-01-21T11:55:58.128Z"
   },
   {
    "duration": 14,
    "start_time": "2022-01-21T11:56:20.010Z"
   },
   {
    "duration": 12,
    "start_time": "2022-01-21T11:56:36.417Z"
   },
   {
    "duration": 86,
    "start_time": "2022-01-21T11:56:52.285Z"
   },
   {
    "duration": 10,
    "start_time": "2022-01-21T11:57:11.260Z"
   },
   {
    "duration": 11,
    "start_time": "2022-01-21T11:57:33.105Z"
   },
   {
    "duration": 10,
    "start_time": "2022-01-21T11:57:35.792Z"
   },
   {
    "duration": 10,
    "start_time": "2022-01-21T11:58:52.177Z"
   },
   {
    "duration": 86,
    "start_time": "2022-01-21T11:59:18.170Z"
   },
   {
    "duration": 3,
    "start_time": "2022-01-21T11:59:18.259Z"
   },
   {
    "duration": 21,
    "start_time": "2022-01-21T11:59:18.265Z"
   },
   {
    "duration": 40,
    "start_time": "2022-01-21T11:59:18.343Z"
   },
   {
    "duration": 5,
    "start_time": "2022-01-21T11:59:18.389Z"
   },
   {
    "duration": 16,
    "start_time": "2022-01-21T11:59:18.443Z"
   },
   {
    "duration": 6,
    "start_time": "2022-01-21T11:59:18.496Z"
   },
   {
    "duration": 13,
    "start_time": "2022-01-21T11:59:18.557Z"
   },
   {
    "duration": 31,
    "start_time": "2022-01-21T11:59:18.607Z"
   },
   {
    "duration": 14,
    "start_time": "2022-01-21T11:59:18.649Z"
   },
   {
    "duration": 22,
    "start_time": "2022-01-21T11:59:19.106Z"
   },
   {
    "duration": 49,
    "start_time": "2022-01-21T11:59:19.209Z"
   },
   {
    "duration": 3942,
    "start_time": "2022-01-21T11:59:19.387Z"
   },
   {
    "duration": 2002,
    "start_time": "2022-01-21T11:59:21.330Z"
   },
   {
    "duration": 1974,
    "start_time": "2022-01-21T11:59:21.360Z"
   },
   {
    "duration": 1972,
    "start_time": "2022-01-21T11:59:21.363Z"
   },
   {
    "duration": 1971,
    "start_time": "2022-01-21T11:59:21.366Z"
   },
   {
    "duration": 1968,
    "start_time": "2022-01-21T11:59:21.370Z"
   },
   {
    "duration": 1922,
    "start_time": "2022-01-21T11:59:21.418Z"
   },
   {
    "duration": 8,
    "start_time": "2022-01-21T12:00:34.754Z"
   },
   {
    "duration": 37,
    "start_time": "2022-01-21T12:00:44.594Z"
   },
   {
    "duration": 11,
    "start_time": "2022-01-21T12:01:03.056Z"
   },
   {
    "duration": 89,
    "start_time": "2022-01-21T12:01:16.058Z"
   },
   {
    "duration": 10,
    "start_time": "2022-01-21T12:01:21.139Z"
   },
   {
    "duration": 85,
    "start_time": "2022-01-21T12:01:33.889Z"
   },
   {
    "duration": 3,
    "start_time": "2022-01-21T12:01:45.156Z"
   },
   {
    "duration": 13,
    "start_time": "2022-01-21T12:01:58.220Z"
   },
   {
    "duration": 16,
    "start_time": "2022-01-21T12:02:09.282Z"
   },
   {
    "duration": 50,
    "start_time": "2022-01-21T12:02:10.931Z"
   },
   {
    "duration": 10,
    "start_time": "2022-01-21T12:02:16.505Z"
   },
   {
    "duration": 3,
    "start_time": "2022-01-21T12:02:24.416Z"
   },
   {
    "duration": 5,
    "start_time": "2022-01-21T12:02:31.582Z"
   },
   {
    "duration": 10,
    "start_time": "2022-01-21T12:02:49.875Z"
   },
   {
    "duration": 3,
    "start_time": "2022-01-21T12:02:55.933Z"
   },
   {
    "duration": 6,
    "start_time": "2022-01-21T12:03:13.016Z"
   },
   {
    "duration": 15,
    "start_time": "2022-01-21T12:03:14.497Z"
   },
   {
    "duration": 11,
    "start_time": "2022-01-21T12:03:19.091Z"
   },
   {
    "duration": 4,
    "start_time": "2022-01-21T12:03:24.443Z"
   },
   {
    "duration": 33,
    "start_time": "2022-01-21T12:03:32.699Z"
   },
   {
    "duration": 10,
    "start_time": "2022-01-21T12:03:38.103Z"
   },
   {
    "duration": 3,
    "start_time": "2022-01-21T12:03:43.091Z"
   },
   {
    "duration": 17,
    "start_time": "2022-01-21T12:03:45.091Z"
   },
   {
    "duration": 24,
    "start_time": "2022-01-21T12:03:57.355Z"
   },
   {
    "duration": 11,
    "start_time": "2022-01-21T12:04:00.597Z"
   },
   {
    "duration": 3,
    "start_time": "2022-01-21T12:04:05.642Z"
   },
   {
    "duration": 51,
    "start_time": "2022-01-21T12:04:14.190Z"
   },
   {
    "duration": 11,
    "start_time": "2022-01-21T12:04:19.329Z"
   },
   {
    "duration": 3,
    "start_time": "2022-01-21T12:04:24.380Z"
   },
   {
    "duration": 8,
    "start_time": "2022-01-21T12:04:33.397Z"
   },
   {
    "duration": 34,
    "start_time": "2022-01-21T12:04:41.393Z"
   },
   {
    "duration": 10,
    "start_time": "2022-01-21T12:04:44.932Z"
   },
   {
    "duration": 86,
    "start_time": "2022-01-21T12:06:03.079Z"
   },
   {
    "duration": 12,
    "start_time": "2022-01-21T12:06:03.168Z"
   },
   {
    "duration": 62,
    "start_time": "2022-01-21T12:06:03.182Z"
   },
   {
    "duration": 4,
    "start_time": "2022-01-21T12:06:03.247Z"
   },
   {
    "duration": 23,
    "start_time": "2022-01-21T12:06:03.254Z"
   },
   {
    "duration": 6,
    "start_time": "2022-01-21T12:06:03.293Z"
   },
   {
    "duration": 14,
    "start_time": "2022-01-21T12:06:03.343Z"
   },
   {
    "duration": 32,
    "start_time": "2022-01-21T12:06:03.375Z"
   },
   {
    "duration": 16,
    "start_time": "2022-01-21T12:06:03.425Z"
   },
   {
    "duration": 21,
    "start_time": "2022-01-21T12:06:03.467Z"
   },
   {
    "duration": 49,
    "start_time": "2022-01-21T12:06:03.526Z"
   },
   {
    "duration": 8,
    "start_time": "2022-01-21T12:06:06.168Z"
   },
   {
    "duration": 11,
    "start_time": "2022-01-21T12:06:08.489Z"
   },
   {
    "duration": 40,
    "start_time": "2022-01-21T12:06:19.970Z"
   },
   {
    "duration": 11,
    "start_time": "2022-01-21T12:06:22.945Z"
   },
   {
    "duration": 14,
    "start_time": "2022-01-21T12:08:55.206Z"
   },
   {
    "duration": 21,
    "start_time": "2022-01-21T12:09:20.501Z"
   },
   {
    "duration": 20,
    "start_time": "2022-01-21T12:09:52.745Z"
   },
   {
    "duration": 14,
    "start_time": "2022-01-21T12:10:02.403Z"
   },
   {
    "duration": 11,
    "start_time": "2022-01-21T12:10:17.511Z"
   },
   {
    "duration": 10,
    "start_time": "2022-01-21T12:44:23.301Z"
   },
   {
    "duration": 17,
    "start_time": "2022-01-21T12:44:31.558Z"
   },
   {
    "duration": 86,
    "start_time": "2022-01-21T12:44:40.361Z"
   },
   {
    "duration": 12,
    "start_time": "2022-01-21T12:44:40.450Z"
   },
   {
    "duration": 41,
    "start_time": "2022-01-21T12:44:40.464Z"
   },
   {
    "duration": 4,
    "start_time": "2022-01-21T12:44:40.532Z"
   },
   {
    "duration": 18,
    "start_time": "2022-01-21T12:44:40.539Z"
   },
   {
    "duration": 6,
    "start_time": "2022-01-21T12:44:40.581Z"
   },
   {
    "duration": 13,
    "start_time": "2022-01-21T12:44:40.626Z"
   },
   {
    "duration": 30,
    "start_time": "2022-01-21T12:44:40.656Z"
   },
   {
    "duration": 15,
    "start_time": "2022-01-21T12:44:40.711Z"
   },
   {
    "duration": 21,
    "start_time": "2022-01-21T12:44:40.736Z"
   },
   {
    "duration": 51,
    "start_time": "2022-01-21T12:44:40.773Z"
   },
   {
    "duration": 8,
    "start_time": "2022-01-21T12:44:46.599Z"
   },
   {
    "duration": 100,
    "start_time": "2022-01-21T12:44:51.571Z"
   },
   {
    "duration": 185,
    "start_time": "2022-01-21T12:53:30.491Z"
   },
   {
    "duration": 15,
    "start_time": "2022-01-21T12:53:37.102Z"
   },
   {
    "duration": 8,
    "start_time": "2022-01-21T12:53:41.089Z"
   },
   {
    "duration": 84,
    "start_time": "2022-01-21T12:53:54.379Z"
   },
   {
    "duration": 11,
    "start_time": "2022-01-21T12:53:54.466Z"
   },
   {
    "duration": 58,
    "start_time": "2022-01-21T12:53:54.479Z"
   },
   {
    "duration": 5,
    "start_time": "2022-01-21T12:53:54.543Z"
   },
   {
    "duration": 15,
    "start_time": "2022-01-21T12:53:54.596Z"
   },
   {
    "duration": 5,
    "start_time": "2022-01-21T12:53:54.631Z"
   },
   {
    "duration": 19,
    "start_time": "2022-01-21T12:53:54.639Z"
   },
   {
    "duration": 31,
    "start_time": "2022-01-21T12:53:54.697Z"
   },
   {
    "duration": 16,
    "start_time": "2022-01-21T12:53:54.746Z"
   },
   {
    "duration": 21,
    "start_time": "2022-01-21T12:53:55.149Z"
   },
   {
    "duration": 47,
    "start_time": "2022-01-21T12:53:55.198Z"
   },
   {
    "duration": 8,
    "start_time": "2022-01-21T12:54:00.416Z"
   },
   {
    "duration": 18,
    "start_time": "2022-01-21T12:54:05.862Z"
   },
   {
    "duration": 23,
    "start_time": "2022-01-21T12:54:26.835Z"
   },
   {
    "duration": 14,
    "start_time": "2022-01-21T12:54:31.279Z"
   },
   {
    "duration": 10,
    "start_time": "2022-01-21T12:54:38.089Z"
   },
   {
    "duration": 85,
    "start_time": "2022-01-21T12:55:22.146Z"
   },
   {
    "duration": 12,
    "start_time": "2022-01-21T12:55:22.234Z"
   },
   {
    "duration": 39,
    "start_time": "2022-01-21T12:55:22.249Z"
   },
   {
    "duration": 4,
    "start_time": "2022-01-21T12:55:22.297Z"
   },
   {
    "duration": 16,
    "start_time": "2022-01-21T12:55:22.329Z"
   },
   {
    "duration": 6,
    "start_time": "2022-01-21T12:55:22.370Z"
   },
   {
    "duration": 11,
    "start_time": "2022-01-21T12:55:22.388Z"
   },
   {
    "duration": 33,
    "start_time": "2022-01-21T12:55:22.429Z"
   },
   {
    "duration": 16,
    "start_time": "2022-01-21T12:55:22.468Z"
   },
   {
    "duration": 28,
    "start_time": "2022-01-21T12:55:22.508Z"
   },
   {
    "duration": 48,
    "start_time": "2022-01-21T12:55:22.558Z"
   },
   {
    "duration": 8,
    "start_time": "2022-01-21T12:55:22.614Z"
   },
   {
    "duration": 18,
    "start_time": "2022-01-21T12:55:25.450Z"
   },
   {
    "duration": 11,
    "start_time": "2022-01-21T12:55:36.961Z"
   },
   {
    "duration": 10,
    "start_time": "2022-01-21T12:56:53.671Z"
   },
   {
    "duration": 9,
    "start_time": "2022-01-21T12:57:17.400Z"
   },
   {
    "duration": 8,
    "start_time": "2022-01-21T12:57:25.339Z"
   },
   {
    "duration": 9,
    "start_time": "2022-01-21T12:57:48.494Z"
   },
   {
    "duration": 10,
    "start_time": "2022-01-21T12:58:20.441Z"
   },
   {
    "duration": 7,
    "start_time": "2022-01-21T13:00:56.242Z"
   },
   {
    "duration": 6,
    "start_time": "2022-01-21T13:01:14.765Z"
   },
   {
    "duration": 7,
    "start_time": "2022-01-21T13:01:22.418Z"
   },
   {
    "duration": 25,
    "start_time": "2022-01-21T13:01:53.974Z"
   },
   {
    "duration": 331,
    "start_time": "2022-01-21T13:02:15.826Z"
   },
   {
    "duration": 749,
    "start_time": "2022-01-21T13:02:31.210Z"
   },
   {
    "duration": 283,
    "start_time": "2022-01-21T13:08:52.527Z"
   },
   {
    "duration": 893,
    "start_time": "2022-01-21T13:09:35.378Z"
   },
   {
    "duration": 315,
    "start_time": "2022-01-21T13:11:11.258Z"
   },
   {
    "duration": 407,
    "start_time": "2022-01-21T13:11:32.800Z"
   },
   {
    "duration": 19,
    "start_time": "2022-01-21T13:11:51.518Z"
   },
   {
    "duration": 459,
    "start_time": "2022-01-21T13:12:09.320Z"
   },
   {
    "duration": 18,
    "start_time": "2022-01-21T13:12:41.857Z"
   },
   {
    "duration": 325,
    "start_time": "2022-01-21T13:13:04.529Z"
   },
   {
    "duration": 18,
    "start_time": "2022-01-21T13:13:09.863Z"
   },
   {
    "duration": 900,
    "start_time": "2022-01-21T13:15:32.971Z"
   },
   {
    "duration": 3,
    "start_time": "2022-01-21T13:15:38.218Z"
   },
   {
    "duration": 105,
    "start_time": "2022-01-21T13:16:00.949Z"
   },
   {
    "duration": 4,
    "start_time": "2022-01-21T13:19:07.687Z"
   },
   {
    "duration": 27,
    "start_time": "2022-01-21T13:19:42.002Z"
   },
   {
    "duration": 337,
    "start_time": "2022-01-21T13:19:43.631Z"
   },
   {
    "duration": 3,
    "start_time": "2022-01-21T13:19:54.399Z"
   },
   {
    "duration": 305,
    "start_time": "2022-01-21T13:19:57.660Z"
   },
   {
    "duration": 288,
    "start_time": "2022-01-21T14:21:50.950Z"
   },
   {
    "duration": 285,
    "start_time": "2022-01-21T14:22:07.958Z"
   },
   {
    "duration": 6,
    "start_time": "2022-01-21T14:23:00.444Z"
   },
   {
    "duration": 188,
    "start_time": "2022-01-21T14:25:36.568Z"
   },
   {
    "duration": 102,
    "start_time": "2022-01-21T14:25:36.840Z"
   },
   {
    "duration": 12,
    "start_time": "2022-01-21T14:25:36.944Z"
   },
   {
    "duration": 37,
    "start_time": "2022-01-21T14:25:36.960Z"
   },
   {
    "duration": 33,
    "start_time": "2022-01-21T14:25:37.000Z"
   },
   {
    "duration": 15,
    "start_time": "2022-01-21T14:25:37.036Z"
   },
   {
    "duration": 5,
    "start_time": "2022-01-21T14:25:37.053Z"
   },
   {
    "duration": 14,
    "start_time": "2022-01-21T14:25:37.060Z"
   },
   {
    "duration": 71,
    "start_time": "2022-01-21T14:25:37.076Z"
   },
   {
    "duration": 15,
    "start_time": "2022-01-21T14:25:37.149Z"
   },
   {
    "duration": 19,
    "start_time": "2022-01-21T14:25:37.166Z"
   },
   {
    "duration": 74,
    "start_time": "2022-01-21T14:25:37.187Z"
   },
   {
    "duration": 7,
    "start_time": "2022-01-21T14:25:37.263Z"
   },
   {
    "duration": 20,
    "start_time": "2022-01-21T14:25:37.272Z"
   },
   {
    "duration": 8,
    "start_time": "2022-01-21T14:25:37.331Z"
   },
   {
    "duration": 166,
    "start_time": "2022-01-21T14:26:59.066Z"
   },
   {
    "duration": 123,
    "start_time": "2022-01-21T14:27:25.731Z"
   },
   {
    "duration": 22,
    "start_time": "2022-01-21T14:30:22.246Z"
   },
   {
    "duration": 18,
    "start_time": "2022-01-21T14:31:10.122Z"
   },
   {
    "duration": 153,
    "start_time": "2022-01-21T14:31:21.300Z"
   },
   {
    "duration": 15,
    "start_time": "2022-01-21T14:31:36.987Z"
   },
   {
    "duration": 13,
    "start_time": "2022-01-21T14:48:35.968Z"
   },
   {
    "duration": 372,
    "start_time": "2022-01-21T14:49:06.910Z"
   },
   {
    "duration": 10,
    "start_time": "2022-01-21T14:49:18.025Z"
   },
   {
    "duration": 9,
    "start_time": "2022-01-21T14:49:29.317Z"
   },
   {
    "duration": 7,
    "start_time": "2022-01-21T14:49:45.853Z"
   },
   {
    "duration": 6,
    "start_time": "2022-01-21T14:50:00.817Z"
   },
   {
    "duration": 8,
    "start_time": "2022-01-21T14:52:43.053Z"
   },
   {
    "duration": 21,
    "start_time": "2022-01-21T14:56:58.230Z"
   },
   {
    "duration": 36,
    "start_time": "2022-01-21T15:08:53.996Z"
   },
   {
    "duration": 36,
    "start_time": "2022-01-21T15:12:32.150Z"
   },
   {
    "duration": 13,
    "start_time": "2022-01-21T15:13:46.314Z"
   },
   {
    "duration": 437,
    "start_time": "2022-01-24T12:57:45.228Z"
   },
   {
    "duration": 318,
    "start_time": "2022-01-24T12:58:20.175Z"
   },
   {
    "duration": 887,
    "start_time": "2022-01-24T12:58:25.863Z"
   },
   {
    "duration": 22,
    "start_time": "2022-01-24T12:58:26.753Z"
   },
   {
    "duration": 38,
    "start_time": "2022-01-24T12:58:26.780Z"
   },
   {
    "duration": 6,
    "start_time": "2022-01-24T12:58:26.821Z"
   },
   {
    "duration": 25,
    "start_time": "2022-01-24T12:58:26.866Z"
   },
   {
    "duration": 51,
    "start_time": "2022-01-24T12:58:26.894Z"
   },
   {
    "duration": 28,
    "start_time": "2022-01-24T12:58:26.948Z"
   },
   {
    "duration": 33,
    "start_time": "2022-01-24T12:58:26.981Z"
   },
   {
    "duration": 19,
    "start_time": "2022-01-24T12:58:27.016Z"
   },
   {
    "duration": 37,
    "start_time": "2022-01-24T12:58:27.038Z"
   },
   {
    "duration": 47,
    "start_time": "2022-01-24T12:58:27.078Z"
   },
   {
    "duration": 9,
    "start_time": "2022-01-24T12:58:27.127Z"
   },
   {
    "duration": 20,
    "start_time": "2022-01-24T12:58:27.166Z"
   },
   {
    "duration": 7,
    "start_time": "2022-01-24T12:58:27.189Z"
   },
   {
    "duration": 11,
    "start_time": "2022-01-24T12:58:27.198Z"
   },
   {
    "duration": 914,
    "start_time": "2022-01-24T12:58:27.212Z"
   },
   {
    "duration": 36,
    "start_time": "2022-01-24T12:58:28.129Z"
   },
   {
    "duration": 36,
    "start_time": "2022-01-24T12:58:28.167Z"
   },
   {
    "duration": 60,
    "start_time": "2022-01-24T12:58:28.205Z"
   },
   {
    "duration": 11,
    "start_time": "2022-01-24T12:58:28.267Z"
   },
   {
    "duration": 22,
    "start_time": "2022-01-24T12:58:29.141Z"
   },
   {
    "duration": 15,
    "start_time": "2022-01-24T12:58:58.499Z"
   },
   {
    "duration": 19,
    "start_time": "2022-01-24T13:00:03.370Z"
   },
   {
    "duration": 14,
    "start_time": "2022-01-24T13:00:44.501Z"
   },
   {
    "duration": 18,
    "start_time": "2022-01-24T13:07:21.106Z"
   },
   {
    "duration": 18,
    "start_time": "2022-01-24T13:07:28.570Z"
   },
   {
    "duration": 15,
    "start_time": "2022-01-24T13:09:56.594Z"
   },
   {
    "duration": 18,
    "start_time": "2022-01-24T13:18:21.027Z"
   },
   {
    "duration": 8,
    "start_time": "2022-01-24T13:19:36.037Z"
   },
   {
    "duration": 92,
    "start_time": "2022-01-24T13:20:30.398Z"
   },
   {
    "duration": 15,
    "start_time": "2022-01-24T13:20:40.711Z"
   },
   {
    "duration": 11,
    "start_time": "2022-01-24T13:21:18.215Z"
   },
   {
    "duration": 6,
    "start_time": "2022-01-24T13:22:02.925Z"
   },
   {
    "duration": 9,
    "start_time": "2022-01-24T13:23:25.067Z"
   },
   {
    "duration": 256,
    "start_time": "2022-01-24T13:23:30.416Z"
   },
   {
    "duration": 6,
    "start_time": "2022-01-24T13:23:41.759Z"
   },
   {
    "duration": 5,
    "start_time": "2022-01-24T13:23:51.621Z"
   },
   {
    "duration": 224,
    "start_time": "2022-01-24T13:25:16.505Z"
   },
   {
    "duration": 589,
    "start_time": "2022-01-24T13:25:42.301Z"
   },
   {
    "duration": 239,
    "start_time": "2022-01-24T13:25:55.027Z"
   },
   {
    "duration": 301,
    "start_time": "2022-01-24T13:27:27.192Z"
   },
   {
    "duration": 610,
    "start_time": "2022-01-24T13:27:30.921Z"
   },
   {
    "duration": 354,
    "start_time": "2022-01-24T13:27:35.865Z"
   },
   {
    "duration": 251,
    "start_time": "2022-01-24T13:27:45.432Z"
   },
   {
    "duration": 249,
    "start_time": "2022-01-24T13:27:49.175Z"
   },
   {
    "duration": 17,
    "start_time": "2022-01-24T13:31:04.483Z"
   },
   {
    "duration": 14,
    "start_time": "2022-01-24T13:31:49.475Z"
   },
   {
    "duration": 14,
    "start_time": "2022-01-24T13:32:12.293Z"
   },
   {
    "duration": 14,
    "start_time": "2022-01-24T13:32:28.271Z"
   },
   {
    "duration": 13,
    "start_time": "2022-01-24T13:32:40.760Z"
   },
   {
    "duration": 15,
    "start_time": "2022-01-24T13:46:02.567Z"
   },
   {
    "duration": 21,
    "start_time": "2022-01-24T13:49:24.369Z"
   },
   {
    "duration": 15,
    "start_time": "2022-01-24T13:50:51.869Z"
   },
   {
    "duration": 15,
    "start_time": "2022-01-24T13:52:34.561Z"
   },
   {
    "duration": 15,
    "start_time": "2022-01-24T13:55:28.035Z"
   },
   {
    "duration": 15,
    "start_time": "2022-01-24T13:56:45.768Z"
   },
   {
    "duration": 16,
    "start_time": "2022-01-24T13:58:16.741Z"
   },
   {
    "duration": 14,
    "start_time": "2022-01-24T13:59:17.289Z"
   },
   {
    "duration": 16,
    "start_time": "2022-01-24T14:37:25.728Z"
   },
   {
    "duration": 15,
    "start_time": "2022-01-24T14:38:05.682Z"
   },
   {
    "duration": 16,
    "start_time": "2022-01-24T14:38:19.607Z"
   },
   {
    "duration": 101,
    "start_time": "2022-01-24T15:51:14.567Z"
   },
   {
    "duration": 12,
    "start_time": "2022-01-24T15:51:14.670Z"
   },
   {
    "duration": 43,
    "start_time": "2022-01-24T15:51:14.685Z"
   },
   {
    "duration": 4,
    "start_time": "2022-01-24T15:51:14.731Z"
   },
   {
    "duration": 42,
    "start_time": "2022-01-24T15:51:14.737Z"
   },
   {
    "duration": 7,
    "start_time": "2022-01-24T15:51:14.782Z"
   },
   {
    "duration": 19,
    "start_time": "2022-01-24T15:51:14.792Z"
   },
   {
    "duration": 67,
    "start_time": "2022-01-24T15:51:14.815Z"
   },
   {
    "duration": 14,
    "start_time": "2022-01-24T15:51:14.885Z"
   },
   {
    "duration": 20,
    "start_time": "2022-01-24T15:51:14.902Z"
   },
   {
    "duration": 73,
    "start_time": "2022-01-24T15:51:14.924Z"
   },
   {
    "duration": 8,
    "start_time": "2022-01-24T15:51:15.000Z"
   },
   {
    "duration": 30,
    "start_time": "2022-01-24T15:51:15.010Z"
   },
   {
    "duration": 8,
    "start_time": "2022-01-24T15:51:15.065Z"
   },
   {
    "duration": 42,
    "start_time": "2022-01-24T15:51:15.075Z"
   },
   {
    "duration": 914,
    "start_time": "2022-01-24T15:51:15.119Z"
   },
   {
    "duration": 35,
    "start_time": "2022-01-24T15:51:16.035Z"
   },
   {
    "duration": 37,
    "start_time": "2022-01-24T15:51:16.072Z"
   },
   {
    "duration": 56,
    "start_time": "2022-01-24T15:51:16.111Z"
   },
   {
    "duration": 22,
    "start_time": "2022-01-24T15:51:16.169Z"
   },
   {
    "duration": 17,
    "start_time": "2022-01-24T15:51:16.196Z"
   },
   {
    "duration": 15,
    "start_time": "2022-01-24T15:51:16.215Z"
   },
   {
    "duration": 42,
    "start_time": "2022-01-24T15:51:16.233Z"
   },
   {
    "duration": 14,
    "start_time": "2022-01-24T15:51:16.277Z"
   },
   {
    "duration": 12,
    "start_time": "2022-01-24T15:51:16.294Z"
   },
   {
    "duration": 62,
    "start_time": "2022-01-24T15:51:16.309Z"
   },
   {
    "duration": 15,
    "start_time": "2022-01-24T15:51:16.373Z"
   },
   {
    "duration": 12,
    "start_time": "2022-01-24T15:51:16.390Z"
   },
   {
    "duration": 60,
    "start_time": "2022-01-24T15:51:16.405Z"
   },
   {
    "duration": 15,
    "start_time": "2022-01-24T15:51:16.467Z"
   },
   {
    "duration": 14,
    "start_time": "2022-01-24T15:51:16.484Z"
   },
   {
    "duration": 14,
    "start_time": "2022-01-24T15:51:16.501Z"
   },
   {
    "duration": 70,
    "start_time": "2022-01-24T15:51:16.517Z"
   },
   {
    "duration": 21,
    "start_time": "2022-01-24T15:51:16.589Z"
   },
   {
    "duration": 13,
    "start_time": "2022-01-24T15:51:16.613Z"
   },
   {
    "duration": 91,
    "start_time": "2022-01-24T15:59:11.412Z"
   },
   {
    "duration": 11,
    "start_time": "2022-01-24T15:59:11.505Z"
   },
   {
    "duration": 64,
    "start_time": "2022-01-24T15:59:11.519Z"
   },
   {
    "duration": 4,
    "start_time": "2022-01-24T15:59:11.586Z"
   },
   {
    "duration": 17,
    "start_time": "2022-01-24T15:59:11.592Z"
   },
   {
    "duration": 6,
    "start_time": "2022-01-24T15:59:11.611Z"
   },
   {
    "duration": 46,
    "start_time": "2022-01-24T15:59:11.620Z"
   },
   {
    "duration": 33,
    "start_time": "2022-01-24T15:59:11.671Z"
   },
   {
    "duration": 17,
    "start_time": "2022-01-24T15:59:11.708Z"
   },
   {
    "duration": 60,
    "start_time": "2022-01-24T15:59:11.727Z"
   },
   {
    "duration": 47,
    "start_time": "2022-01-24T15:59:11.790Z"
   },
   {
    "duration": 31,
    "start_time": "2022-01-24T15:59:11.839Z"
   },
   {
    "duration": 18,
    "start_time": "2022-01-24T15:59:11.872Z"
   },
   {
    "duration": 9,
    "start_time": "2022-01-24T15:59:11.893Z"
   },
   {
    "duration": 67,
    "start_time": "2022-01-24T15:59:11.905Z"
   },
   {
    "duration": 911,
    "start_time": "2022-01-24T15:59:11.974Z"
   },
   {
    "duration": 24,
    "start_time": "2022-01-24T15:59:12.889Z"
   },
   {
    "duration": 60,
    "start_time": "2022-01-24T15:59:12.916Z"
   },
   {
    "duration": 34,
    "start_time": "2022-01-24T15:59:12.979Z"
   },
   {
    "duration": 19,
    "start_time": "2022-01-24T15:59:13.016Z"
   },
   {
    "duration": 16,
    "start_time": "2022-01-24T15:59:13.065Z"
   },
   {
    "duration": 18,
    "start_time": "2022-01-24T15:59:13.084Z"
   },
   {
    "duration": 14,
    "start_time": "2022-01-24T15:59:13.107Z"
   },
   {
    "duration": 52,
    "start_time": "2022-01-24T15:59:13.124Z"
   },
   {
    "duration": 21,
    "start_time": "2022-01-24T15:59:13.179Z"
   },
   {
    "duration": 15,
    "start_time": "2022-01-24T15:59:13.203Z"
   },
   {
    "duration": 53,
    "start_time": "2022-01-24T15:59:13.221Z"
   },
   {
    "duration": 14,
    "start_time": "2022-01-24T15:59:13.277Z"
   },
   {
    "duration": 13,
    "start_time": "2022-01-24T15:59:13.293Z"
   },
   {
    "duration": 62,
    "start_time": "2022-01-24T15:59:13.309Z"
   },
   {
    "duration": 14,
    "start_time": "2022-01-24T15:59:13.374Z"
   },
   {
    "duration": 14,
    "start_time": "2022-01-24T15:59:13.391Z"
   },
   {
    "duration": 12,
    "start_time": "2022-01-24T15:59:13.407Z"
   },
   {
    "duration": 56,
    "start_time": "2022-01-24T15:59:13.422Z"
   },
   {
    "duration": 16,
    "start_time": "2022-01-24T15:59:13.481Z"
   },
   {
    "duration": 90,
    "start_time": "2022-01-24T16:25:36.929Z"
   },
   {
    "duration": 46,
    "start_time": "2022-01-24T16:25:37.022Z"
   },
   {
    "duration": 39,
    "start_time": "2022-01-24T16:25:37.071Z"
   },
   {
    "duration": 5,
    "start_time": "2022-01-24T16:25:37.113Z"
   },
   {
    "duration": 51,
    "start_time": "2022-01-24T16:25:37.120Z"
   },
   {
    "duration": 6,
    "start_time": "2022-01-24T16:25:37.173Z"
   },
   {
    "duration": 13,
    "start_time": "2022-01-24T16:25:37.181Z"
   },
   {
    "duration": 33,
    "start_time": "2022-01-24T16:25:37.198Z"
   },
   {
    "duration": 15,
    "start_time": "2022-01-24T16:25:37.266Z"
   },
   {
    "duration": 21,
    "start_time": "2022-01-24T16:25:37.284Z"
   },
   {
    "duration": 83,
    "start_time": "2022-01-24T16:25:37.308Z"
   },
   {
    "duration": 8,
    "start_time": "2022-01-24T16:25:37.393Z"
   },
   {
    "duration": 17,
    "start_time": "2022-01-24T16:25:37.404Z"
   },
   {
    "duration": 7,
    "start_time": "2022-01-24T16:25:37.424Z"
   },
   {
    "duration": 23,
    "start_time": "2022-01-24T16:25:37.465Z"
   },
   {
    "duration": 941,
    "start_time": "2022-01-24T16:25:37.490Z"
   },
   {
    "duration": 35,
    "start_time": "2022-01-24T16:25:38.434Z"
   },
   {
    "duration": 34,
    "start_time": "2022-01-24T16:25:38.471Z"
   },
   {
    "duration": 66,
    "start_time": "2022-01-24T16:25:38.507Z"
   },
   {
    "duration": 19,
    "start_time": "2022-01-24T16:25:38.575Z"
   },
   {
    "duration": 16,
    "start_time": "2022-01-24T16:25:38.597Z"
   },
   {
    "duration": 57,
    "start_time": "2022-01-24T16:25:38.616Z"
   },
   {
    "duration": 15,
    "start_time": "2022-01-24T16:25:38.679Z"
   },
   {
    "duration": 14,
    "start_time": "2022-01-24T16:25:38.698Z"
   },
   {
    "duration": 63,
    "start_time": "2022-01-24T16:25:38.715Z"
   },
   {
    "duration": 15,
    "start_time": "2022-01-24T16:25:38.780Z"
   },
   {
    "duration": 15,
    "start_time": "2022-01-24T16:25:38.797Z"
   },
   {
    "duration": 62,
    "start_time": "2022-01-24T16:25:38.814Z"
   },
   {
    "duration": 21,
    "start_time": "2022-01-24T16:25:38.880Z"
   },
   {
    "duration": 18,
    "start_time": "2022-01-24T16:25:38.904Z"
   },
   {
    "duration": 55,
    "start_time": "2022-01-24T16:25:38.925Z"
   },
   {
    "duration": 14,
    "start_time": "2022-01-24T16:25:38.983Z"
   },
   {
    "duration": 16,
    "start_time": "2022-01-24T16:25:39.000Z"
   },
   {
    "duration": 58,
    "start_time": "2022-01-24T16:25:39.020Z"
   },
   {
    "duration": 18,
    "start_time": "2022-01-24T16:25:39.081Z"
   },
   {
    "duration": 95,
    "start_time": "2022-01-24T18:05:27.339Z"
   },
   {
    "duration": 39,
    "start_time": "2022-01-24T18:05:27.436Z"
   },
   {
    "duration": 39,
    "start_time": "2022-01-24T18:05:27.479Z"
   },
   {
    "duration": 5,
    "start_time": "2022-01-24T18:05:27.521Z"
   },
   {
    "duration": 50,
    "start_time": "2022-01-24T18:05:27.529Z"
   },
   {
    "duration": 6,
    "start_time": "2022-01-24T18:05:27.581Z"
   },
   {
    "duration": 12,
    "start_time": "2022-01-24T18:05:27.589Z"
   },
   {
    "duration": 70,
    "start_time": "2022-01-24T18:05:27.605Z"
   },
   {
    "duration": 15,
    "start_time": "2022-01-24T18:05:27.679Z"
   },
   {
    "duration": 19,
    "start_time": "2022-01-24T18:05:27.697Z"
   },
   {
    "duration": 80,
    "start_time": "2022-01-24T18:05:27.718Z"
   },
   {
    "duration": 8,
    "start_time": "2022-01-24T18:05:27.801Z"
   },
   {
    "duration": 52,
    "start_time": "2022-01-24T18:05:27.811Z"
   },
   {
    "duration": 8,
    "start_time": "2022-01-24T18:05:27.866Z"
   },
   {
    "duration": 25,
    "start_time": "2022-01-24T18:05:27.877Z"
   },
   {
    "duration": 968,
    "start_time": "2022-01-24T18:05:27.904Z"
   },
   {
    "duration": 31,
    "start_time": "2022-01-24T18:05:28.876Z"
   },
   {
    "duration": 72,
    "start_time": "2022-01-24T18:05:28.910Z"
   },
   {
    "duration": 36,
    "start_time": "2022-01-24T18:05:28.985Z"
   },
   {
    "duration": 45,
    "start_time": "2022-01-24T18:05:29.024Z"
   },
   {
    "duration": 19,
    "start_time": "2022-01-24T18:05:29.072Z"
   },
   {
    "duration": 23,
    "start_time": "2022-01-24T18:05:29.094Z"
   },
   {
    "duration": 56,
    "start_time": "2022-01-24T18:05:29.125Z"
   },
   {
    "duration": 17,
    "start_time": "2022-01-24T18:05:29.184Z"
   },
   {
    "duration": 16,
    "start_time": "2022-01-24T18:05:29.204Z"
   },
   {
    "duration": 55,
    "start_time": "2022-01-24T18:05:29.223Z"
   },
   {
    "duration": 18,
    "start_time": "2022-01-24T18:05:29.281Z"
   },
   {
    "duration": 15,
    "start_time": "2022-01-24T18:05:29.302Z"
   },
   {
    "duration": 57,
    "start_time": "2022-01-24T18:05:29.319Z"
   },
   {
    "duration": 16,
    "start_time": "2022-01-24T18:05:29.378Z"
   },
   {
    "duration": 20,
    "start_time": "2022-01-24T18:05:29.396Z"
   },
   {
    "duration": 57,
    "start_time": "2022-01-24T18:05:29.418Z"
   },
   {
    "duration": 14,
    "start_time": "2022-01-24T18:05:29.478Z"
   },
   {
    "duration": 14,
    "start_time": "2022-01-24T18:05:29.494Z"
   },
   {
    "duration": 62,
    "start_time": "2022-01-24T18:05:29.511Z"
   },
   {
    "duration": 664,
    "start_time": "2022-02-01T07:30:17.339Z"
   },
   {
    "duration": 10,
    "start_time": "2022-02-01T07:30:18.004Z"
   },
   {
    "duration": 70,
    "start_time": "2022-02-01T07:30:18.016Z"
   },
   {
    "duration": 36,
    "start_time": "2022-02-01T07:30:18.088Z"
   },
   {
    "duration": 36,
    "start_time": "2022-02-01T07:30:18.127Z"
   },
   {
    "duration": 17,
    "start_time": "2022-02-01T07:30:18.165Z"
   },
   {
    "duration": 33,
    "start_time": "2022-02-01T07:30:18.185Z"
   },
   {
    "duration": 31,
    "start_time": "2022-02-01T07:30:18.221Z"
   },
   {
    "duration": 13,
    "start_time": "2022-02-01T07:30:18.255Z"
   },
   {
    "duration": 15,
    "start_time": "2022-02-01T07:30:18.270Z"
   },
   {
    "duration": 58,
    "start_time": "2022-02-01T07:30:18.287Z"
   },
   {
    "duration": 7,
    "start_time": "2022-02-01T07:30:18.347Z"
   },
   {
    "duration": 20,
    "start_time": "2022-02-01T07:30:18.356Z"
   },
   {
    "duration": 7,
    "start_time": "2022-02-01T07:30:18.377Z"
   },
   {
    "duration": 23,
    "start_time": "2022-02-01T07:30:18.385Z"
   },
   {
    "duration": 811,
    "start_time": "2022-02-01T07:30:18.410Z"
   },
   {
    "duration": 16,
    "start_time": "2022-02-01T07:30:19.224Z"
   },
   {
    "duration": 26,
    "start_time": "2022-02-01T07:30:19.242Z"
   },
   {
    "duration": 50,
    "start_time": "2022-02-01T07:30:19.270Z"
   },
   {
    "duration": 15,
    "start_time": "2022-02-01T07:30:19.322Z"
   },
   {
    "duration": 11,
    "start_time": "2022-02-01T07:30:19.339Z"
   },
   {
    "duration": 49,
    "start_time": "2022-02-01T07:30:19.351Z"
   },
   {
    "duration": 11,
    "start_time": "2022-02-01T07:30:19.403Z"
   },
   {
    "duration": 10,
    "start_time": "2022-02-01T07:30:19.416Z"
   },
   {
    "duration": 10,
    "start_time": "2022-02-01T07:30:19.427Z"
   },
   {
    "duration": 9,
    "start_time": "2022-02-01T07:30:19.439Z"
   },
   {
    "duration": 12,
    "start_time": "2022-02-01T07:30:19.505Z"
   },
   {
    "duration": 11,
    "start_time": "2022-02-01T07:30:19.518Z"
   },
   {
    "duration": 11,
    "start_time": "2022-02-01T07:30:19.531Z"
   },
   {
    "duration": 15,
    "start_time": "2022-02-01T07:30:19.544Z"
   },
   {
    "duration": 12,
    "start_time": "2022-02-01T07:30:19.598Z"
   },
   {
    "duration": 10,
    "start_time": "2022-02-01T07:30:19.611Z"
   },
   {
    "duration": 12,
    "start_time": "2022-02-01T07:30:19.623Z"
   },
   {
    "duration": 11,
    "start_time": "2022-02-01T07:30:19.637Z"
   },
   {
    "duration": 61,
    "start_time": "2022-02-01T07:30:19.651Z"
   },
   {
    "duration": 334,
    "start_time": "2022-02-01T11:18:59.147Z"
   },
   {
    "duration": 607,
    "start_time": "2022-02-01T11:19:53.487Z"
   },
   {
    "duration": 8,
    "start_time": "2022-02-01T11:19:54.095Z"
   },
   {
    "duration": 25,
    "start_time": "2022-02-01T11:19:54.104Z"
   },
   {
    "duration": 3,
    "start_time": "2022-02-01T11:19:54.131Z"
   },
   {
    "duration": 10,
    "start_time": "2022-02-01T11:19:57.061Z"
   },
   {
    "duration": 15,
    "start_time": "2022-02-01T11:20:01.338Z"
   },
   {
    "duration": 8,
    "start_time": "2022-02-01T11:20:05.085Z"
   },
   {
    "duration": 6,
    "start_time": "2022-02-01T11:31:59.176Z"
   },
   {
    "duration": 11,
    "start_time": "2022-02-01T11:35:00.463Z"
   },
   {
    "duration": 619,
    "start_time": "2022-02-01T11:36:07.356Z"
   },
   {
    "duration": 9,
    "start_time": "2022-02-01T11:36:14.623Z"
   },
   {
    "duration": 23,
    "start_time": "2022-02-01T11:36:17.701Z"
   },
   {
    "duration": 3,
    "start_time": "2022-02-01T11:36:21.093Z"
   },
   {
    "duration": 18,
    "start_time": "2022-02-01T11:36:22.527Z"
   },
   {
    "duration": 12,
    "start_time": "2022-02-01T11:36:26.034Z"
   },
   {
    "duration": 9,
    "start_time": "2022-02-01T11:36:27.915Z"
   },
   {
    "duration": 18,
    "start_time": "2022-02-01T11:36:50.709Z"
   },
   {
    "duration": 12,
    "start_time": "2022-02-01T11:36:54.392Z"
   },
   {
    "duration": 14,
    "start_time": "2022-02-01T11:36:57.945Z"
   },
   {
    "duration": 29,
    "start_time": "2022-02-01T11:37:00.032Z"
   },
   {
    "duration": 6,
    "start_time": "2022-02-01T11:37:04.504Z"
   },
   {
    "duration": 11,
    "start_time": "2022-02-01T11:37:07.032Z"
   },
   {
    "duration": 5,
    "start_time": "2022-02-01T11:37:10.589Z"
   },
   {
    "duration": 7,
    "start_time": "2022-02-01T11:37:18.413Z"
   },
   {
    "duration": 618,
    "start_time": "2022-02-01T11:37:20.777Z"
   },
   {
    "duration": 15,
    "start_time": "2022-02-01T11:37:25.568Z"
   },
   {
    "duration": 25,
    "start_time": "2022-02-01T11:37:28.904Z"
   },
   {
    "duration": 34,
    "start_time": "2022-02-01T11:37:32.365Z"
   },
   {
    "duration": 31,
    "start_time": "2022-02-01T13:01:01.189Z"
   },
   {
    "duration": 314,
    "start_time": "2022-02-01T13:03:25.178Z"
   },
   {
    "duration": 16,
    "start_time": "2022-02-01T13:03:41.028Z"
   },
   {
    "duration": 34,
    "start_time": "2022-02-01T13:04:37.756Z"
   },
   {
    "duration": 320,
    "start_time": "2022-02-01T13:07:09.798Z"
   },
   {
    "duration": 36,
    "start_time": "2022-02-01T13:07:17.917Z"
   },
   {
    "duration": 31,
    "start_time": "2022-02-01T13:08:38.801Z"
   },
   {
    "duration": 31,
    "start_time": "2022-02-01T13:08:47.883Z"
   },
   {
    "duration": 34,
    "start_time": "2022-02-01T13:08:50.779Z"
   },
   {
    "duration": 4,
    "start_time": "2022-02-01T13:09:42.681Z"
   },
   {
    "duration": 4,
    "start_time": "2022-02-01T13:10:08.736Z"
   },
   {
    "duration": 15,
    "start_time": "2022-02-01T13:12:13.876Z"
   },
   {
    "duration": 35,
    "start_time": "2022-02-01T13:12:18.882Z"
   },
   {
    "duration": -13,
    "start_time": "2022-02-01T13:16:34.125Z"
   },
   {
    "duration": 13,
    "start_time": "2022-02-01T13:16:44.992Z"
   },
   {
    "duration": 12,
    "start_time": "2022-02-01T13:17:07.232Z"
   },
   {
    "duration": 8,
    "start_time": "2022-02-01T13:17:44.379Z"
   },
   {
    "duration": 38,
    "start_time": "2022-02-01T13:26:38.734Z"
   },
   {
    "duration": 34,
    "start_time": "2022-02-01T13:27:14.860Z"
   },
   {
    "duration": 40,
    "start_time": "2022-02-01T13:27:30.377Z"
   },
   {
    "duration": 9,
    "start_time": "2022-02-01T13:28:42.990Z"
   },
   {
    "duration": 31,
    "start_time": "2022-02-01T13:30:22.411Z"
   },
   {
    "duration": 8,
    "start_time": "2022-02-01T13:31:46.232Z"
   },
   {
    "duration": 30,
    "start_time": "2022-02-01T13:34:02.410Z"
   },
   {
    "duration": 8,
    "start_time": "2022-02-01T13:34:32.203Z"
   },
   {
    "duration": 60,
    "start_time": "2022-02-01T13:35:42.444Z"
   },
   {
    "duration": 8,
    "start_time": "2022-02-01T13:35:42.506Z"
   },
   {
    "duration": 22,
    "start_time": "2022-02-01T13:35:42.516Z"
   },
   {
    "duration": 2,
    "start_time": "2022-02-01T13:35:42.540Z"
   },
   {
    "duration": 13,
    "start_time": "2022-02-01T13:35:42.544Z"
   },
   {
    "duration": 9,
    "start_time": "2022-02-01T13:35:42.558Z"
   },
   {
    "duration": 9,
    "start_time": "2022-02-01T13:35:42.569Z"
   },
   {
    "duration": 47,
    "start_time": "2022-02-01T13:35:42.580Z"
   },
   {
    "duration": 11,
    "start_time": "2022-02-01T13:35:42.630Z"
   },
   {
    "duration": 12,
    "start_time": "2022-02-01T13:35:42.643Z"
   },
   {
    "duration": 26,
    "start_time": "2022-02-01T13:35:42.657Z"
   },
   {
    "duration": 5,
    "start_time": "2022-02-01T13:35:42.684Z"
   },
   {
    "duration": 41,
    "start_time": "2022-02-01T13:35:42.690Z"
   },
   {
    "duration": 5,
    "start_time": "2022-02-01T13:35:42.733Z"
   },
   {
    "duration": 23,
    "start_time": "2022-02-01T13:35:42.739Z"
   },
   {
    "duration": 628,
    "start_time": "2022-02-01T13:35:42.764Z"
   },
   {
    "duration": 13,
    "start_time": "2022-02-01T13:35:43.394Z"
   },
   {
    "duration": 32,
    "start_time": "2022-02-01T13:35:43.409Z"
   },
   {
    "duration": 19,
    "start_time": "2022-02-01T13:35:43.443Z"
   },
   {
    "duration": 38,
    "start_time": "2022-02-01T13:35:43.464Z"
   },
   {
    "duration": 24,
    "start_time": "2022-02-01T13:35:43.504Z"
   },
   {
    "duration": 12,
    "start_time": "2022-02-01T13:35:43.529Z"
   },
   {
    "duration": 36,
    "start_time": "2022-02-01T13:35:43.543Z"
   },
   {
    "duration": 7,
    "start_time": "2022-02-01T13:35:43.581Z"
   },
   {
    "duration": 9,
    "start_time": "2022-02-01T13:35:43.589Z"
   },
   {
    "duration": 33,
    "start_time": "2022-02-01T13:35:43.599Z"
   },
   {
    "duration": 8,
    "start_time": "2022-02-01T13:35:43.634Z"
   },
   {
    "duration": 29,
    "start_time": "2022-02-01T13:35:43.643Z"
   },
   {
    "duration": 7,
    "start_time": "2022-02-01T13:35:43.673Z"
   },
   {
    "duration": 11,
    "start_time": "2022-02-01T13:35:43.682Z"
   },
   {
    "duration": 39,
    "start_time": "2022-02-01T13:35:43.694Z"
   },
   {
    "duration": 28,
    "start_time": "2022-02-01T13:35:43.734Z"
   },
   {
    "duration": 7,
    "start_time": "2022-02-01T13:35:43.764Z"
   },
   {
    "duration": 9,
    "start_time": "2022-02-01T13:35:43.772Z"
   },
   {
    "duration": 8,
    "start_time": "2022-02-01T13:35:43.783Z"
   },
   {
    "duration": 277,
    "start_time": "2022-02-01T15:43:09.392Z"
   },
   {
    "duration": 370,
    "start_time": "2022-02-01T15:43:29.336Z"
   },
   {
    "duration": 43,
    "start_time": "2022-02-01T15:44:00.641Z"
   },
   {
    "duration": 42,
    "start_time": "2022-02-01T15:51:40.484Z"
   },
   {
    "duration": 34,
    "start_time": "2022-02-01T15:53:34.272Z"
   },
   {
    "duration": 36,
    "start_time": "2022-02-01T15:55:04.212Z"
   },
   {
    "duration": 62,
    "start_time": "2022-02-01T16:25:36.817Z"
   },
   {
    "duration": 8,
    "start_time": "2022-02-01T16:25:36.881Z"
   },
   {
    "duration": 39,
    "start_time": "2022-02-01T16:25:36.890Z"
   },
   {
    "duration": 3,
    "start_time": "2022-02-01T16:25:36.931Z"
   },
   {
    "duration": 16,
    "start_time": "2022-02-01T16:25:36.935Z"
   },
   {
    "duration": 14,
    "start_time": "2022-02-01T16:25:36.952Z"
   },
   {
    "duration": 14,
    "start_time": "2022-02-01T16:25:36.967Z"
   },
   {
    "duration": 19,
    "start_time": "2022-02-01T16:25:36.983Z"
   },
   {
    "duration": 23,
    "start_time": "2022-02-01T16:25:37.004Z"
   },
   {
    "duration": 13,
    "start_time": "2022-02-01T16:25:37.028Z"
   },
   {
    "duration": 40,
    "start_time": "2022-02-01T16:25:37.042Z"
   },
   {
    "duration": 4,
    "start_time": "2022-02-01T16:25:37.083Z"
   },
   {
    "duration": 13,
    "start_time": "2022-02-01T16:25:37.089Z"
   },
   {
    "duration": 8,
    "start_time": "2022-02-01T16:25:37.103Z"
   },
   {
    "duration": 26,
    "start_time": "2022-02-01T16:25:37.127Z"
   },
   {
    "duration": 619,
    "start_time": "2022-02-01T16:25:37.155Z"
   },
   {
    "duration": 13,
    "start_time": "2022-02-01T16:25:37.776Z"
   },
   {
    "duration": 24,
    "start_time": "2022-02-01T16:25:37.790Z"
   },
   {
    "duration": 29,
    "start_time": "2022-02-01T16:25:37.815Z"
   },
   {
    "duration": 41,
    "start_time": "2022-02-01T16:25:37.846Z"
   },
   {
    "duration": 7,
    "start_time": "2022-02-01T16:25:37.890Z"
   },
   {
    "duration": 35,
    "start_time": "2022-02-01T16:25:37.899Z"
   },
   {
    "duration": 42,
    "start_time": "2022-02-01T16:25:37.936Z"
   },
   {
    "duration": 8,
    "start_time": "2022-02-01T16:25:37.980Z"
   },
   {
    "duration": 53,
    "start_time": "2022-02-01T16:25:37.989Z"
   },
   {
    "duration": 9,
    "start_time": "2022-02-01T16:25:38.044Z"
   },
   {
    "duration": 48,
    "start_time": "2022-02-01T16:25:38.054Z"
   },
   {
    "duration": 7,
    "start_time": "2022-02-01T16:25:38.103Z"
   },
   {
    "duration": 60,
    "start_time": "2022-02-01T16:35:35.338Z"
   },
   {
    "duration": 8,
    "start_time": "2022-02-01T16:35:35.400Z"
   },
   {
    "duration": 27,
    "start_time": "2022-02-01T16:35:35.410Z"
   },
   {
    "duration": 3,
    "start_time": "2022-02-01T16:35:35.439Z"
   },
   {
    "duration": 12,
    "start_time": "2022-02-01T16:35:35.443Z"
   },
   {
    "duration": 10,
    "start_time": "2022-02-01T16:35:35.456Z"
   },
   {
    "duration": 8,
    "start_time": "2022-02-01T16:35:35.467Z"
   },
   {
    "duration": 16,
    "start_time": "2022-02-01T16:35:35.477Z"
   },
   {
    "duration": 40,
    "start_time": "2022-02-01T16:35:35.495Z"
   },
   {
    "duration": 12,
    "start_time": "2022-02-01T16:35:35.536Z"
   },
   {
    "duration": 27,
    "start_time": "2022-02-01T16:35:35.549Z"
   },
   {
    "duration": 5,
    "start_time": "2022-02-01T16:35:35.577Z"
   },
   {
    "duration": 10,
    "start_time": "2022-02-01T16:35:35.583Z"
   },
   {
    "duration": 5,
    "start_time": "2022-02-01T16:35:35.627Z"
   },
   {
    "duration": 26,
    "start_time": "2022-02-01T16:35:35.633Z"
   },
   {
    "duration": 633,
    "start_time": "2022-02-01T16:35:35.660Z"
   },
   {
    "duration": 13,
    "start_time": "2022-02-01T16:35:36.295Z"
   },
   {
    "duration": 28,
    "start_time": "2022-02-01T16:35:36.309Z"
   },
   {
    "duration": 19,
    "start_time": "2022-02-01T16:35:36.339Z"
   },
   {
    "duration": 39,
    "start_time": "2022-02-01T16:35:36.360Z"
   },
   {
    "duration": 26,
    "start_time": "2022-02-01T16:35:36.401Z"
   },
   {
    "duration": 10,
    "start_time": "2022-02-01T16:35:36.429Z"
   },
   {
    "duration": 41,
    "start_time": "2022-02-01T16:35:36.441Z"
   },
   {
    "duration": 8,
    "start_time": "2022-02-01T16:35:36.483Z"
   },
   {
    "duration": 58,
    "start_time": "2022-02-01T16:35:36.492Z"
   },
   {
    "duration": 6,
    "start_time": "2022-02-01T16:35:36.552Z"
   },
   {
    "duration": 34,
    "start_time": "2022-02-01T16:35:36.559Z"
   },
   {
    "duration": 7,
    "start_time": "2022-02-01T16:35:36.594Z"
   },
   {
    "duration": 1749,
    "start_time": "2022-02-01T16:37:39.473Z"
   },
   {
    "duration": 8,
    "start_time": "2022-02-01T16:37:41.223Z"
   },
   {
    "duration": 23,
    "start_time": "2022-02-01T16:37:41.233Z"
   },
   {
    "duration": 3,
    "start_time": "2022-02-01T16:37:41.258Z"
   },
   {
    "duration": 11,
    "start_time": "2022-02-01T16:37:41.262Z"
   },
   {
    "duration": 10,
    "start_time": "2022-02-01T16:37:41.274Z"
   },
   {
    "duration": 7,
    "start_time": "2022-02-01T16:37:41.285Z"
   },
   {
    "duration": 41,
    "start_time": "2022-02-01T16:37:41.294Z"
   },
   {
    "duration": 10,
    "start_time": "2022-02-01T16:37:41.336Z"
   },
   {
    "duration": 11,
    "start_time": "2022-02-01T16:37:41.347Z"
   },
   {
    "duration": 25,
    "start_time": "2022-02-01T16:37:41.360Z"
   },
   {
    "duration": 5,
    "start_time": "2022-02-01T16:37:41.387Z"
   },
   {
    "duration": 36,
    "start_time": "2022-02-01T16:37:41.393Z"
   },
   {
    "duration": 5,
    "start_time": "2022-02-01T16:37:41.431Z"
   },
   {
    "duration": 5,
    "start_time": "2022-02-01T16:37:41.438Z"
   },
   {
    "duration": 642,
    "start_time": "2022-02-01T16:37:41.444Z"
   },
   {
    "duration": 14,
    "start_time": "2022-02-01T16:37:42.088Z"
   },
   {
    "duration": 28,
    "start_time": "2022-02-01T16:37:42.104Z"
   },
   {
    "duration": 19,
    "start_time": "2022-02-01T16:37:42.134Z"
   },
   {
    "duration": 41,
    "start_time": "2022-02-01T16:37:42.154Z"
   },
   {
    "duration": 29,
    "start_time": "2022-02-01T16:37:42.197Z"
   },
   {
    "duration": 10,
    "start_time": "2022-02-01T16:37:42.228Z"
   },
   {
    "duration": 41,
    "start_time": "2022-02-01T16:37:42.241Z"
   },
   {
    "duration": 7,
    "start_time": "2022-02-01T16:37:42.284Z"
   },
   {
    "duration": 56,
    "start_time": "2022-02-01T16:37:42.293Z"
   },
   {
    "duration": 7,
    "start_time": "2022-02-01T16:37:42.350Z"
   },
   {
    "duration": 35,
    "start_time": "2022-02-01T16:37:42.358Z"
   },
   {
    "duration": 7,
    "start_time": "2022-02-01T16:37:42.395Z"
   },
   {
    "duration": 8,
    "start_time": "2022-02-02T04:35:00.709Z"
   },
   {
    "duration": 609,
    "start_time": "2022-02-02T04:39:48.857Z"
   },
   {
    "duration": 9,
    "start_time": "2022-02-02T04:39:49.468Z"
   },
   {
    "duration": 45,
    "start_time": "2022-02-02T04:39:49.481Z"
   },
   {
    "duration": 3,
    "start_time": "2022-02-02T04:39:49.528Z"
   },
   {
    "duration": 12,
    "start_time": "2022-02-02T04:39:49.532Z"
   },
   {
    "duration": 10,
    "start_time": "2022-02-02T04:39:49.545Z"
   },
   {
    "duration": 8,
    "start_time": "2022-02-02T04:39:49.558Z"
   },
   {
    "duration": 46,
    "start_time": "2022-02-02T04:39:49.567Z"
   },
   {
    "duration": 11,
    "start_time": "2022-02-02T04:39:49.615Z"
   },
   {
    "duration": 13,
    "start_time": "2022-02-02T04:39:49.627Z"
   },
   {
    "duration": 28,
    "start_time": "2022-02-02T04:39:49.641Z"
   },
   {
    "duration": 5,
    "start_time": "2022-02-02T04:39:49.671Z"
   },
   {
    "duration": 39,
    "start_time": "2022-02-02T04:39:49.678Z"
   },
   {
    "duration": 4,
    "start_time": "2022-02-02T04:39:49.719Z"
   },
   {
    "duration": 5,
    "start_time": "2022-02-02T04:39:49.725Z"
   },
   {
    "duration": 662,
    "start_time": "2022-02-02T04:39:49.731Z"
   },
   {
    "duration": 27,
    "start_time": "2022-02-02T04:39:50.395Z"
   },
   {
    "duration": 21,
    "start_time": "2022-02-02T04:39:50.424Z"
   },
   {
    "duration": 22,
    "start_time": "2022-02-02T04:39:50.446Z"
   },
   {
    "duration": 64,
    "start_time": "2022-02-02T04:39:50.470Z"
   },
   {
    "duration": 9,
    "start_time": "2022-02-02T04:39:50.536Z"
   },
   {
    "duration": 10,
    "start_time": "2022-02-02T04:39:50.548Z"
   },
   {
    "duration": 63,
    "start_time": "2022-02-02T04:39:50.559Z"
   },
   {
    "duration": 9,
    "start_time": "2022-02-02T04:39:50.623Z"
   },
   {
    "duration": 38,
    "start_time": "2022-02-02T04:39:50.633Z"
   },
   {
    "duration": 7,
    "start_time": "2022-02-02T04:39:50.673Z"
   },
   {
    "duration": 56,
    "start_time": "2022-02-02T04:39:50.682Z"
   },
   {
    "duration": 7,
    "start_time": "2022-02-02T04:39:50.740Z"
   },
   {
    "duration": 8,
    "start_time": "2022-02-02T04:40:02.852Z"
   },
   {
    "duration": 19,
    "start_time": "2022-02-02T04:40:30.486Z"
   },
   {
    "duration": 9,
    "start_time": "2022-02-02T04:40:43.798Z"
   },
   {
    "duration": 14,
    "start_time": "2022-02-02T04:41:01.704Z"
   },
   {
    "duration": 16,
    "start_time": "2022-02-02T04:41:21.207Z"
   },
   {
    "duration": 529,
    "start_time": "2022-02-03T18:21:43.228Z"
   },
   {
    "duration": 8,
    "start_time": "2022-02-03T18:22:18.667Z"
   },
   {
    "duration": 7,
    "start_time": "2022-02-03T18:22:31.454Z"
   },
   {
    "duration": 8,
    "start_time": "2022-02-03T18:22:46.375Z"
   },
   {
    "duration": 16,
    "start_time": "2022-02-03T18:25:35.055Z"
   },
   {
    "duration": 324,
    "start_time": "2022-02-03T18:25:44.978Z"
   },
   {
    "duration": 263,
    "start_time": "2022-02-03T18:25:53.414Z"
   },
   {
    "duration": 14,
    "start_time": "2022-02-03T18:26:01.240Z"
   },
   {
    "duration": 260,
    "start_time": "2022-02-03T18:26:34.122Z"
   },
   {
    "duration": 12,
    "start_time": "2022-02-03T18:26:42.364Z"
   },
   {
    "duration": 12,
    "start_time": "2022-02-03T18:26:54.089Z"
   },
   {
    "duration": 265,
    "start_time": "2022-02-03T18:27:09.817Z"
   },
   {
    "duration": 276,
    "start_time": "2022-02-03T18:27:27.973Z"
   },
   {
    "duration": 13,
    "start_time": "2022-02-03T18:27:37.073Z"
   },
   {
    "duration": 264,
    "start_time": "2022-02-03T18:28:04.391Z"
   },
   {
    "duration": 19,
    "start_time": "2022-02-03T18:28:12.812Z"
   }
  ],
  "kernelspec": {
   "display_name": "Python 3 (ipykernel)",
   "language": "python",
   "name": "python3"
  },
  "language_info": {
   "codemirror_mode": {
    "name": "ipython",
    "version": 3
   },
   "file_extension": ".py",
   "mimetype": "text/x-python",
   "name": "python",
   "nbconvert_exporter": "python",
   "pygments_lexer": "ipython3",
   "version": "3.9.7"
  },
  "toc": {
   "base_numbering": 1,
   "nav_menu": {},
   "number_sections": true,
   "sideBar": true,
   "skip_h1_title": true,
   "title_cell": "Table of Contents",
   "title_sidebar": "Contents",
   "toc_cell": false,
   "toc_position": {
    "height": "calc(100% - 180px)",
    "left": "10px",
    "top": "150px",
    "width": "273.188px"
   },
   "toc_section_display": true,
   "toc_window_display": true
  }
 },
 "nbformat": 4,
 "nbformat_minor": 2
}

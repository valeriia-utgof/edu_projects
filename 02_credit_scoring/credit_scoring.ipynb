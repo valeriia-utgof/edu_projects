{
 "cells": [
  {
   "cell_type": "markdown",
   "metadata": {},
   "source": [
    "**Оглавление:**\n",
    "1. [Изучение данных](#step1)  \n",
    "2. [Предобработка данных](#step2) \n",
    "3. [Исследование заёмщиков](#step3)\n",
    "4. [Общий вывод](#step4)\n"
   ]
  },
  {
   "cell_type": "markdown",
   "metadata": {},
   "source": [
    "<a id=\"step1\"></a>\n",
    "## Изучение данных"
   ]
  },
  {
   "cell_type": "markdown",
   "metadata": {},
   "source": [
    "Импортируем необходимые библиотеки:"
   ]
  },
  {
   "cell_type": "code",
   "execution_count": 1,
   "metadata": {},
   "outputs": [],
   "source": [
    "import pandas as pd\n",
    "from pymystem3 import Mystem\n",
    "from collections import Counter"
   ]
  },
  {
   "cell_type": "markdown",
   "metadata": {},
   "source": [
    "Прочитаем файл с данными:"
   ]
  },
  {
   "cell_type": "code",
   "execution_count": 2,
   "metadata": {},
   "outputs": [],
   "source": [
    "df = pd.read_csv('datasets/data.csv')"
   ]
  },
  {
   "cell_type": "markdown",
   "metadata": {},
   "source": [
    "Получим первые 10 строк таблицы и общую информацию о данных:"
   ]
  },
  {
   "cell_type": "code",
   "execution_count": 3,
   "metadata": {
    "scrolled": false
   },
   "outputs": [
    {
     "name": "stdout",
     "output_type": "stream",
     "text": [
      "<class 'pandas.core.frame.DataFrame'>\n",
      "RangeIndex: 21525 entries, 0 to 21524\n",
      "Data columns (total 12 columns):\n",
      " #   Column            Non-Null Count  Dtype  \n",
      "---  ------            --------------  -----  \n",
      " 0   children          21525 non-null  int64  \n",
      " 1   days_employed     19351 non-null  float64\n",
      " 2   dob_years         21525 non-null  int64  \n",
      " 3   education         21525 non-null  object \n",
      " 4   education_id      21525 non-null  int64  \n",
      " 5   family_status     21525 non-null  object \n",
      " 6   family_status_id  21525 non-null  int64  \n",
      " 7   gender            21525 non-null  object \n",
      " 8   income_type       21525 non-null  object \n",
      " 9   debt              21525 non-null  int64  \n",
      " 10  total_income      19351 non-null  float64\n",
      " 11  purpose           21525 non-null  object \n",
      "dtypes: float64(2), int64(5), object(5)\n",
      "memory usage: 2.0+ MB\n"
     ]
    },
    {
     "data": {
      "text/html": [
       "<div>\n",
       "<style scoped>\n",
       "    .dataframe tbody tr th:only-of-type {\n",
       "        vertical-align: middle;\n",
       "    }\n",
       "\n",
       "    .dataframe tbody tr th {\n",
       "        vertical-align: top;\n",
       "    }\n",
       "\n",
       "    .dataframe thead th {\n",
       "        text-align: right;\n",
       "    }\n",
       "</style>\n",
       "<table border=\"1\" class=\"dataframe\">\n",
       "  <thead>\n",
       "    <tr style=\"text-align: right;\">\n",
       "      <th></th>\n",
       "      <th>children</th>\n",
       "      <th>days_employed</th>\n",
       "      <th>dob_years</th>\n",
       "      <th>education</th>\n",
       "      <th>education_id</th>\n",
       "      <th>family_status</th>\n",
       "      <th>family_status_id</th>\n",
       "      <th>gender</th>\n",
       "      <th>income_type</th>\n",
       "      <th>debt</th>\n",
       "      <th>total_income</th>\n",
       "      <th>purpose</th>\n",
       "    </tr>\n",
       "  </thead>\n",
       "  <tbody>\n",
       "    <tr>\n",
       "      <th>0</th>\n",
       "      <td>1</td>\n",
       "      <td>-8437.673028</td>\n",
       "      <td>42</td>\n",
       "      <td>высшее</td>\n",
       "      <td>0</td>\n",
       "      <td>женат / замужем</td>\n",
       "      <td>0</td>\n",
       "      <td>F</td>\n",
       "      <td>сотрудник</td>\n",
       "      <td>0</td>\n",
       "      <td>253875.639453</td>\n",
       "      <td>покупка жилья</td>\n",
       "    </tr>\n",
       "    <tr>\n",
       "      <th>1</th>\n",
       "      <td>1</td>\n",
       "      <td>-4024.803754</td>\n",
       "      <td>36</td>\n",
       "      <td>среднее</td>\n",
       "      <td>1</td>\n",
       "      <td>женат / замужем</td>\n",
       "      <td>0</td>\n",
       "      <td>F</td>\n",
       "      <td>сотрудник</td>\n",
       "      <td>0</td>\n",
       "      <td>112080.014102</td>\n",
       "      <td>приобретение автомобиля</td>\n",
       "    </tr>\n",
       "    <tr>\n",
       "      <th>2</th>\n",
       "      <td>0</td>\n",
       "      <td>-5623.422610</td>\n",
       "      <td>33</td>\n",
       "      <td>Среднее</td>\n",
       "      <td>1</td>\n",
       "      <td>женат / замужем</td>\n",
       "      <td>0</td>\n",
       "      <td>M</td>\n",
       "      <td>сотрудник</td>\n",
       "      <td>0</td>\n",
       "      <td>145885.952297</td>\n",
       "      <td>покупка жилья</td>\n",
       "    </tr>\n",
       "    <tr>\n",
       "      <th>3</th>\n",
       "      <td>3</td>\n",
       "      <td>-4124.747207</td>\n",
       "      <td>32</td>\n",
       "      <td>среднее</td>\n",
       "      <td>1</td>\n",
       "      <td>женат / замужем</td>\n",
       "      <td>0</td>\n",
       "      <td>M</td>\n",
       "      <td>сотрудник</td>\n",
       "      <td>0</td>\n",
       "      <td>267628.550329</td>\n",
       "      <td>дополнительное образование</td>\n",
       "    </tr>\n",
       "    <tr>\n",
       "      <th>4</th>\n",
       "      <td>0</td>\n",
       "      <td>340266.072047</td>\n",
       "      <td>53</td>\n",
       "      <td>среднее</td>\n",
       "      <td>1</td>\n",
       "      <td>гражданский брак</td>\n",
       "      <td>1</td>\n",
       "      <td>F</td>\n",
       "      <td>пенсионер</td>\n",
       "      <td>0</td>\n",
       "      <td>158616.077870</td>\n",
       "      <td>сыграть свадьбу</td>\n",
       "    </tr>\n",
       "    <tr>\n",
       "      <th>5</th>\n",
       "      <td>0</td>\n",
       "      <td>-926.185831</td>\n",
       "      <td>27</td>\n",
       "      <td>высшее</td>\n",
       "      <td>0</td>\n",
       "      <td>гражданский брак</td>\n",
       "      <td>1</td>\n",
       "      <td>M</td>\n",
       "      <td>компаньон</td>\n",
       "      <td>0</td>\n",
       "      <td>255763.565419</td>\n",
       "      <td>покупка жилья</td>\n",
       "    </tr>\n",
       "    <tr>\n",
       "      <th>6</th>\n",
       "      <td>0</td>\n",
       "      <td>-2879.202052</td>\n",
       "      <td>43</td>\n",
       "      <td>высшее</td>\n",
       "      <td>0</td>\n",
       "      <td>женат / замужем</td>\n",
       "      <td>0</td>\n",
       "      <td>F</td>\n",
       "      <td>компаньон</td>\n",
       "      <td>0</td>\n",
       "      <td>240525.971920</td>\n",
       "      <td>операции с жильем</td>\n",
       "    </tr>\n",
       "    <tr>\n",
       "      <th>7</th>\n",
       "      <td>0</td>\n",
       "      <td>-152.779569</td>\n",
       "      <td>50</td>\n",
       "      <td>СРЕДНЕЕ</td>\n",
       "      <td>1</td>\n",
       "      <td>женат / замужем</td>\n",
       "      <td>0</td>\n",
       "      <td>M</td>\n",
       "      <td>сотрудник</td>\n",
       "      <td>0</td>\n",
       "      <td>135823.934197</td>\n",
       "      <td>образование</td>\n",
       "    </tr>\n",
       "    <tr>\n",
       "      <th>8</th>\n",
       "      <td>2</td>\n",
       "      <td>-6929.865299</td>\n",
       "      <td>35</td>\n",
       "      <td>ВЫСШЕЕ</td>\n",
       "      <td>0</td>\n",
       "      <td>гражданский брак</td>\n",
       "      <td>1</td>\n",
       "      <td>F</td>\n",
       "      <td>сотрудник</td>\n",
       "      <td>0</td>\n",
       "      <td>95856.832424</td>\n",
       "      <td>на проведение свадьбы</td>\n",
       "    </tr>\n",
       "    <tr>\n",
       "      <th>9</th>\n",
       "      <td>0</td>\n",
       "      <td>-2188.756445</td>\n",
       "      <td>41</td>\n",
       "      <td>среднее</td>\n",
       "      <td>1</td>\n",
       "      <td>женат / замужем</td>\n",
       "      <td>0</td>\n",
       "      <td>M</td>\n",
       "      <td>сотрудник</td>\n",
       "      <td>0</td>\n",
       "      <td>144425.938277</td>\n",
       "      <td>покупка жилья для семьи</td>\n",
       "    </tr>\n",
       "  </tbody>\n",
       "</table>\n",
       "</div>"
      ],
      "text/plain": [
       "   children  days_employed  dob_years education  education_id  \\\n",
       "0         1   -8437.673028         42    высшее             0   \n",
       "1         1   -4024.803754         36   среднее             1   \n",
       "2         0   -5623.422610         33   Среднее             1   \n",
       "3         3   -4124.747207         32   среднее             1   \n",
       "4         0  340266.072047         53   среднее             1   \n",
       "5         0    -926.185831         27    высшее             0   \n",
       "6         0   -2879.202052         43    высшее             0   \n",
       "7         0    -152.779569         50   СРЕДНЕЕ             1   \n",
       "8         2   -6929.865299         35    ВЫСШЕЕ             0   \n",
       "9         0   -2188.756445         41   среднее             1   \n",
       "\n",
       "      family_status  family_status_id gender income_type  debt   total_income  \\\n",
       "0   женат / замужем                 0      F   сотрудник     0  253875.639453   \n",
       "1   женат / замужем                 0      F   сотрудник     0  112080.014102   \n",
       "2   женат / замужем                 0      M   сотрудник     0  145885.952297   \n",
       "3   женат / замужем                 0      M   сотрудник     0  267628.550329   \n",
       "4  гражданский брак                 1      F   пенсионер     0  158616.077870   \n",
       "5  гражданский брак                 1      M   компаньон     0  255763.565419   \n",
       "6   женат / замужем                 0      F   компаньон     0  240525.971920   \n",
       "7   женат / замужем                 0      M   сотрудник     0  135823.934197   \n",
       "8  гражданский брак                 1      F   сотрудник     0   95856.832424   \n",
       "9   женат / замужем                 0      M   сотрудник     0  144425.938277   \n",
       "\n",
       "                      purpose  \n",
       "0               покупка жилья  \n",
       "1     приобретение автомобиля  \n",
       "2               покупка жилья  \n",
       "3  дополнительное образование  \n",
       "4             сыграть свадьбу  \n",
       "5               покупка жилья  \n",
       "6           операции с жильем  \n",
       "7                 образование  \n",
       "8       на проведение свадьбы  \n",
       "9     покупка жилья для семьи  "
      ]
     },
     "metadata": {},
     "output_type": "display_data"
    },
    {
     "data": {
      "text/plain": [
       "None"
      ]
     },
     "metadata": {},
     "output_type": "display_data"
    }
   ],
   "source": [
    "display(df.head(10), df.info())"
   ]
  },
  {
   "cell_type": "markdown",
   "metadata": {},
   "source": [
    "В таблице имеем 21525 строк и 12 столбцов. В 2 столбцах тип данных `float`, в 5 — `int`, и еще в 5  — `object`.\n",
    "\n",
    "Количество значений в столбцах `days_employed` и `total_income` отличается от количества значений в других столбцах, значит, в этих стобцах есть пропущенные значения.\n",
    "\n",
    "В столбце `days_employed` встречаются данные с отрицательным количеством дней трудового стажа.\n",
    "\n",
    "В столбце `education` данные отличаются по регистру.\n",
    "\n",
    "В таблице встречаются столбцы с категоризированными данными (пары `education`-`education_id` и  `family_status`-`family_status_id`), которые при необходимости можно выделить в отдельные словари.\n",
    "\n",
    "В столбце `purpose` данные представлены в произвольном виде, например, расходы на свадьбу отражены как \"сыграть свадьбу\" и \"на проведение свадьбы\", а операции с недвижимостью как \"покупка жилья\", \"операции с жильем\" или \"покупка жилья для семьи\".\n",
    "\n",
    "Отметим, что наиболее важными для нашего исследования являются следующие столбцы: `debt`, `children`, `family_status`/`family_status_id`, `total_income` и `purpose`. На корректности данных в них следует обратить особое внимание."
   ]
  },
  {
   "cell_type": "markdown",
   "metadata": {},
   "source": [
    "**Вывод**"
   ]
  },
  {
   "cell_type": "markdown",
   "metadata": {},
   "source": [
    "В каждой строке таблицы представлены данные о потенциальном заёмщике (его пол, возраст, семейное положение и наличие/отсутствие детей, уровень образования и ежемесячного дохода, тип занятости и трудовой стаж, наличие опыта задолженности по кредиту и цель получения кредита).\n",
    "\n",
    "Предварительно можно утверждать, что данных достаточно для ответа на поставленные заказчиком вопросы. Но в данных встречаются пропуски и артефакты, некоторые данные заполнены без учета регистра и не приведены к единому образцу. Также таблица загромождена категоризированными данными.\n",
    "\n",
    "Для дальнейшей работы потребуется предобработка данных."
   ]
  },
  {
   "cell_type": "markdown",
   "metadata": {},
   "source": [
    "<a id=\"step2\"></a>\n",
    "## Предобработка данных"
   ]
  },
  {
   "cell_type": "markdown",
   "metadata": {},
   "source": [
    "### Обработка пропусков"
   ]
  },
  {
   "cell_type": "markdown",
   "metadata": {},
   "source": [
    "Посчитаем, сколько в таблице пропущенных значений:"
   ]
  },
  {
   "cell_type": "code",
   "execution_count": 4,
   "metadata": {
    "scrolled": false
   },
   "outputs": [
    {
     "data": {
      "text/plain": [
       "children               0\n",
       "days_employed       2174\n",
       "dob_years              0\n",
       "education              0\n",
       "education_id           0\n",
       "family_status          0\n",
       "family_status_id       0\n",
       "gender                 0\n",
       "income_type            0\n",
       "debt                   0\n",
       "total_income        2174\n",
       "purpose                0\n",
       "dtype: int64"
      ]
     },
     "metadata": {},
     "output_type": "display_data"
    }
   ],
   "source": [
    "display(df.isna().sum())"
   ]
  },
  {
   "cell_type": "markdown",
   "metadata": {},
   "source": [
    "Мы имеем одинаковое количество пропущенных значений в столбцах `days_employed` и `total_income`. \n",
    "\n",
    "Судя по тому, что количество пропусков в обеих колонках одинаковое, можем предположить, что пропуски имеются в одних и тех же строках. Проверим это предположение, отобразив таблицу с пропущенными значениями:"
   ]
  },
  {
   "cell_type": "code",
   "execution_count": 5,
   "metadata": {},
   "outputs": [
    {
     "data": {
      "text/html": [
       "<div>\n",
       "<style scoped>\n",
       "    .dataframe tbody tr th:only-of-type {\n",
       "        vertical-align: middle;\n",
       "    }\n",
       "\n",
       "    .dataframe tbody tr th {\n",
       "        vertical-align: top;\n",
       "    }\n",
       "\n",
       "    .dataframe thead th {\n",
       "        text-align: right;\n",
       "    }\n",
       "</style>\n",
       "<table border=\"1\" class=\"dataframe\">\n",
       "  <thead>\n",
       "    <tr style=\"text-align: right;\">\n",
       "      <th></th>\n",
       "      <th>children</th>\n",
       "      <th>days_employed</th>\n",
       "      <th>dob_years</th>\n",
       "      <th>education</th>\n",
       "      <th>education_id</th>\n",
       "      <th>family_status</th>\n",
       "      <th>family_status_id</th>\n",
       "      <th>gender</th>\n",
       "      <th>income_type</th>\n",
       "      <th>debt</th>\n",
       "      <th>total_income</th>\n",
       "      <th>purpose</th>\n",
       "    </tr>\n",
       "  </thead>\n",
       "  <tbody>\n",
       "    <tr>\n",
       "      <th>12</th>\n",
       "      <td>0</td>\n",
       "      <td>NaN</td>\n",
       "      <td>65</td>\n",
       "      <td>среднее</td>\n",
       "      <td>1</td>\n",
       "      <td>гражданский брак</td>\n",
       "      <td>1</td>\n",
       "      <td>M</td>\n",
       "      <td>пенсионер</td>\n",
       "      <td>0</td>\n",
       "      <td>NaN</td>\n",
       "      <td>сыграть свадьбу</td>\n",
       "    </tr>\n",
       "    <tr>\n",
       "      <th>26</th>\n",
       "      <td>0</td>\n",
       "      <td>NaN</td>\n",
       "      <td>41</td>\n",
       "      <td>среднее</td>\n",
       "      <td>1</td>\n",
       "      <td>женат / замужем</td>\n",
       "      <td>0</td>\n",
       "      <td>M</td>\n",
       "      <td>госслужащий</td>\n",
       "      <td>0</td>\n",
       "      <td>NaN</td>\n",
       "      <td>образование</td>\n",
       "    </tr>\n",
       "    <tr>\n",
       "      <th>29</th>\n",
       "      <td>0</td>\n",
       "      <td>NaN</td>\n",
       "      <td>63</td>\n",
       "      <td>среднее</td>\n",
       "      <td>1</td>\n",
       "      <td>Не женат / не замужем</td>\n",
       "      <td>4</td>\n",
       "      <td>F</td>\n",
       "      <td>пенсионер</td>\n",
       "      <td>0</td>\n",
       "      <td>NaN</td>\n",
       "      <td>строительство жилой недвижимости</td>\n",
       "    </tr>\n",
       "    <tr>\n",
       "      <th>41</th>\n",
       "      <td>0</td>\n",
       "      <td>NaN</td>\n",
       "      <td>50</td>\n",
       "      <td>среднее</td>\n",
       "      <td>1</td>\n",
       "      <td>женат / замужем</td>\n",
       "      <td>0</td>\n",
       "      <td>F</td>\n",
       "      <td>госслужащий</td>\n",
       "      <td>0</td>\n",
       "      <td>NaN</td>\n",
       "      <td>сделка с подержанным автомобилем</td>\n",
       "    </tr>\n",
       "    <tr>\n",
       "      <th>55</th>\n",
       "      <td>0</td>\n",
       "      <td>NaN</td>\n",
       "      <td>54</td>\n",
       "      <td>среднее</td>\n",
       "      <td>1</td>\n",
       "      <td>гражданский брак</td>\n",
       "      <td>1</td>\n",
       "      <td>F</td>\n",
       "      <td>пенсионер</td>\n",
       "      <td>1</td>\n",
       "      <td>NaN</td>\n",
       "      <td>сыграть свадьбу</td>\n",
       "    </tr>\n",
       "    <tr>\n",
       "      <th>...</th>\n",
       "      <td>...</td>\n",
       "      <td>...</td>\n",
       "      <td>...</td>\n",
       "      <td>...</td>\n",
       "      <td>...</td>\n",
       "      <td>...</td>\n",
       "      <td>...</td>\n",
       "      <td>...</td>\n",
       "      <td>...</td>\n",
       "      <td>...</td>\n",
       "      <td>...</td>\n",
       "      <td>...</td>\n",
       "    </tr>\n",
       "    <tr>\n",
       "      <th>21489</th>\n",
       "      <td>2</td>\n",
       "      <td>NaN</td>\n",
       "      <td>47</td>\n",
       "      <td>Среднее</td>\n",
       "      <td>1</td>\n",
       "      <td>женат / замужем</td>\n",
       "      <td>0</td>\n",
       "      <td>M</td>\n",
       "      <td>компаньон</td>\n",
       "      <td>0</td>\n",
       "      <td>NaN</td>\n",
       "      <td>сделка с автомобилем</td>\n",
       "    </tr>\n",
       "    <tr>\n",
       "      <th>21495</th>\n",
       "      <td>1</td>\n",
       "      <td>NaN</td>\n",
       "      <td>50</td>\n",
       "      <td>среднее</td>\n",
       "      <td>1</td>\n",
       "      <td>гражданский брак</td>\n",
       "      <td>1</td>\n",
       "      <td>F</td>\n",
       "      <td>сотрудник</td>\n",
       "      <td>0</td>\n",
       "      <td>NaN</td>\n",
       "      <td>свадьба</td>\n",
       "    </tr>\n",
       "    <tr>\n",
       "      <th>21497</th>\n",
       "      <td>0</td>\n",
       "      <td>NaN</td>\n",
       "      <td>48</td>\n",
       "      <td>ВЫСШЕЕ</td>\n",
       "      <td>0</td>\n",
       "      <td>женат / замужем</td>\n",
       "      <td>0</td>\n",
       "      <td>F</td>\n",
       "      <td>компаньон</td>\n",
       "      <td>0</td>\n",
       "      <td>NaN</td>\n",
       "      <td>строительство недвижимости</td>\n",
       "    </tr>\n",
       "    <tr>\n",
       "      <th>21502</th>\n",
       "      <td>1</td>\n",
       "      <td>NaN</td>\n",
       "      <td>42</td>\n",
       "      <td>среднее</td>\n",
       "      <td>1</td>\n",
       "      <td>женат / замужем</td>\n",
       "      <td>0</td>\n",
       "      <td>F</td>\n",
       "      <td>сотрудник</td>\n",
       "      <td>0</td>\n",
       "      <td>NaN</td>\n",
       "      <td>строительство жилой недвижимости</td>\n",
       "    </tr>\n",
       "    <tr>\n",
       "      <th>21510</th>\n",
       "      <td>2</td>\n",
       "      <td>NaN</td>\n",
       "      <td>28</td>\n",
       "      <td>среднее</td>\n",
       "      <td>1</td>\n",
       "      <td>женат / замужем</td>\n",
       "      <td>0</td>\n",
       "      <td>F</td>\n",
       "      <td>сотрудник</td>\n",
       "      <td>0</td>\n",
       "      <td>NaN</td>\n",
       "      <td>приобретение автомобиля</td>\n",
       "    </tr>\n",
       "  </tbody>\n",
       "</table>\n",
       "<p>2174 rows × 12 columns</p>\n",
       "</div>"
      ],
      "text/plain": [
       "       children  days_employed  dob_years education  education_id  \\\n",
       "12            0            NaN         65   среднее             1   \n",
       "26            0            NaN         41   среднее             1   \n",
       "29            0            NaN         63   среднее             1   \n",
       "41            0            NaN         50   среднее             1   \n",
       "55            0            NaN         54   среднее             1   \n",
       "...         ...            ...        ...       ...           ...   \n",
       "21489         2            NaN         47   Среднее             1   \n",
       "21495         1            NaN         50   среднее             1   \n",
       "21497         0            NaN         48    ВЫСШЕЕ             0   \n",
       "21502         1            NaN         42   среднее             1   \n",
       "21510         2            NaN         28   среднее             1   \n",
       "\n",
       "               family_status  family_status_id gender  income_type  debt  \\\n",
       "12          гражданский брак                 1      M    пенсионер     0   \n",
       "26           женат / замужем                 0      M  госслужащий     0   \n",
       "29     Не женат / не замужем                 4      F    пенсионер     0   \n",
       "41           женат / замужем                 0      F  госслужащий     0   \n",
       "55          гражданский брак                 1      F    пенсионер     1   \n",
       "...                      ...               ...    ...          ...   ...   \n",
       "21489        женат / замужем                 0      M    компаньон     0   \n",
       "21495       гражданский брак                 1      F    сотрудник     0   \n",
       "21497        женат / замужем                 0      F    компаньон     0   \n",
       "21502        женат / замужем                 0      F    сотрудник     0   \n",
       "21510        женат / замужем                 0      F    сотрудник     0   \n",
       "\n",
       "       total_income                           purpose  \n",
       "12              NaN                   сыграть свадьбу  \n",
       "26              NaN                       образование  \n",
       "29              NaN  строительство жилой недвижимости  \n",
       "41              NaN  сделка с подержанным автомобилем  \n",
       "55              NaN                   сыграть свадьбу  \n",
       "...             ...                               ...  \n",
       "21489           NaN              сделка с автомобилем  \n",
       "21495           NaN                           свадьба  \n",
       "21497           NaN        строительство недвижимости  \n",
       "21502           NaN  строительство жилой недвижимости  \n",
       "21510           NaN           приобретение автомобиля  \n",
       "\n",
       "[2174 rows x 12 columns]"
      ]
     },
     "metadata": {},
     "output_type": "display_data"
    }
   ],
   "source": [
    "display(df[df.isna().any(1)])"
   ]
  },
  {
   "cell_type": "markdown",
   "metadata": {},
   "source": [
    "Предположение оказалось верным: мы имеем 2174 строки с пропусками в столбцах `days_employed` и `total_income`. Очевидной зависимости между этими и другими столбцами не наблюдается. Возможно, данные в этих столбцах являются рассчетными, и утеря/порча первичных данных, из которых рассчитываются общий трудовой стаж в днях и ежемесячный доход, повлекла за собой пропуски в этих столбцах. В учебном проекте восстановить эти данные мы не можем.\n",
    "\n",
    "Данные из столбца `days_employed` не будут влиять на результаты исследования, поэтому смело можем заполнить пропуски нулями (не используем `'unknown'`, т.к. дальше будем меня формат в этом столбце). \n",
    "\n",
    "Применим для этого метод `fillna()`:"
   ]
  },
  {
   "cell_type": "code",
   "execution_count": 6,
   "metadata": {
    "scrolled": true
   },
   "outputs": [],
   "source": [
    "df['days_employed'] = df['days_employed'].fillna(0)"
   ]
  },
  {
   "cell_type": "markdown",
   "metadata": {},
   "source": [
    "Для дальнейшего исследования нам важны значения в столбце `total_income`. Ежемесячный доход - количественная переменная, поэтому для оценки типичного значения выборки можно использовать среднее арифметическое или медиану. Поскольку мы имеем дело с показателем ежемесячного дохода, на мой взгляд, корректней взять медианное значение.\n",
    "\n",
    "Предположим, что медианные значения дохода сильно различаются для разных типов занятости (возможно, пропуски нужно заполнить с учетом типа занятости). Выведем медианное значение дохода для разных типов занятости, а также посмотрим, какое количество данных у нас имеется по каждой из категорий:"
   ]
  },
  {
   "cell_type": "code",
   "execution_count": 7,
   "metadata": {
    "scrolled": false
   },
   "outputs": [
    {
     "data": {
      "text/plain": [
       "income_type\n",
       "безработный        131339.751676\n",
       "в декрете           53829.130729\n",
       "госслужащий        150447.935283\n",
       "компаньон          172357.950966\n",
       "пенсионер          118514.486412\n",
       "предприниматель    499163.144947\n",
       "сотрудник          142594.396847\n",
       "студент             98201.625314\n",
       "Name: total_income, dtype: float64"
      ]
     },
     "metadata": {},
     "output_type": "display_data"
    },
    {
     "data": {
      "text/plain": [
       "income_type\n",
       "безработный            2\n",
       "в декрете              1\n",
       "госслужащий         1312\n",
       "компаньон           4577\n",
       "пенсионер           3443\n",
       "предприниматель        1\n",
       "сотрудник          10014\n",
       "студент                1\n",
       "Name: total_income, dtype: int64"
      ]
     },
     "metadata": {},
     "output_type": "display_data"
    }
   ],
   "source": [
    "display(df.groupby('income_type')['total_income'].median())\n",
    "display(df.groupby('income_type')['total_income'].count())"
   ]
  },
  {
   "cell_type": "markdown",
   "metadata": {},
   "source": [
    "Видим, что медианное значение сильно отличается для разных категорий. Для корректного заполнения пропусков в столбце `total_income` заполним их медианным значением в соответствии с типом занятости:"
   ]
  },
  {
   "cell_type": "code",
   "execution_count": 8,
   "metadata": {},
   "outputs": [],
   "source": [
    "df['total_income'] = df.groupby('income_type')['total_income'].apply(lambda s: s.fillna(s.median()))"
   ]
  },
  {
   "cell_type": "markdown",
   "metadata": {},
   "source": [
    "Еще раз подсчитаем, сколько в таблице пропущенных значений, чтобы убедиться, что мы устранили все пропуски:"
   ]
  },
  {
   "cell_type": "code",
   "execution_count": 9,
   "metadata": {
    "scrolled": false
   },
   "outputs": [
    {
     "data": {
      "text/plain": [
       "children            0\n",
       "days_employed       0\n",
       "dob_years           0\n",
       "education           0\n",
       "education_id        0\n",
       "family_status       0\n",
       "family_status_id    0\n",
       "gender              0\n",
       "income_type         0\n",
       "debt                0\n",
       "total_income        0\n",
       "purpose             0\n",
       "dtype: int64"
      ]
     },
     "metadata": {},
     "output_type": "display_data"
    }
   ],
   "source": [
    "display(df.isna().sum())"
   ]
  },
  {
   "cell_type": "markdown",
   "metadata": {},
   "source": [
    "**Вывод**"
   ]
  },
  {
   "cell_type": "markdown",
   "metadata": {},
   "source": [
    "Мы обнаружили пропуски значений в двух колонках: `days_employed` и `total_income`. \n",
    "В столбце `days_employed` пропущенные значения мы заменили на ноль. В столбце `total_income` пропущенные значения заменены на медианное значение по этому столбцу."
   ]
  },
  {
   "cell_type": "markdown",
   "metadata": {},
   "source": [
    "### Замена типа данных"
   ]
  },
  {
   "cell_type": "markdown",
   "metadata": {},
   "source": [
    "В таблице имеем 2 столбца (`total_income` и `days_employed`) с данными вещественного типа `float`. Веротяно, это рассчитанные величины, поэтому они имеют по 6 знаков после запятой, что не несет никакой дополнительной инофрмации, но сильно загромождает нашу таблицу с данными. Приведем данные в этих столбцах к целочисленному типу `int`: "
   ]
  },
  {
   "cell_type": "code",
   "execution_count": 10,
   "metadata": {},
   "outputs": [
    {
     "data": {
      "text/html": [
       "<div>\n",
       "<style scoped>\n",
       "    .dataframe tbody tr th:only-of-type {\n",
       "        vertical-align: middle;\n",
       "    }\n",
       "\n",
       "    .dataframe tbody tr th {\n",
       "        vertical-align: top;\n",
       "    }\n",
       "\n",
       "    .dataframe thead th {\n",
       "        text-align: right;\n",
       "    }\n",
       "</style>\n",
       "<table border=\"1\" class=\"dataframe\">\n",
       "  <thead>\n",
       "    <tr style=\"text-align: right;\">\n",
       "      <th></th>\n",
       "      <th>children</th>\n",
       "      <th>days_employed</th>\n",
       "      <th>dob_years</th>\n",
       "      <th>education</th>\n",
       "      <th>education_id</th>\n",
       "      <th>family_status</th>\n",
       "      <th>family_status_id</th>\n",
       "      <th>gender</th>\n",
       "      <th>income_type</th>\n",
       "      <th>debt</th>\n",
       "      <th>total_income</th>\n",
       "      <th>purpose</th>\n",
       "    </tr>\n",
       "  </thead>\n",
       "  <tbody>\n",
       "    <tr>\n",
       "      <th>0</th>\n",
       "      <td>1</td>\n",
       "      <td>-8437</td>\n",
       "      <td>42</td>\n",
       "      <td>высшее</td>\n",
       "      <td>0</td>\n",
       "      <td>женат / замужем</td>\n",
       "      <td>0</td>\n",
       "      <td>F</td>\n",
       "      <td>сотрудник</td>\n",
       "      <td>0</td>\n",
       "      <td>253875</td>\n",
       "      <td>покупка жилья</td>\n",
       "    </tr>\n",
       "    <tr>\n",
       "      <th>1</th>\n",
       "      <td>1</td>\n",
       "      <td>-4024</td>\n",
       "      <td>36</td>\n",
       "      <td>среднее</td>\n",
       "      <td>1</td>\n",
       "      <td>женат / замужем</td>\n",
       "      <td>0</td>\n",
       "      <td>F</td>\n",
       "      <td>сотрудник</td>\n",
       "      <td>0</td>\n",
       "      <td>112080</td>\n",
       "      <td>приобретение автомобиля</td>\n",
       "    </tr>\n",
       "    <tr>\n",
       "      <th>2</th>\n",
       "      <td>0</td>\n",
       "      <td>-5623</td>\n",
       "      <td>33</td>\n",
       "      <td>Среднее</td>\n",
       "      <td>1</td>\n",
       "      <td>женат / замужем</td>\n",
       "      <td>0</td>\n",
       "      <td>M</td>\n",
       "      <td>сотрудник</td>\n",
       "      <td>0</td>\n",
       "      <td>145885</td>\n",
       "      <td>покупка жилья</td>\n",
       "    </tr>\n",
       "    <tr>\n",
       "      <th>3</th>\n",
       "      <td>3</td>\n",
       "      <td>-4124</td>\n",
       "      <td>32</td>\n",
       "      <td>среднее</td>\n",
       "      <td>1</td>\n",
       "      <td>женат / замужем</td>\n",
       "      <td>0</td>\n",
       "      <td>M</td>\n",
       "      <td>сотрудник</td>\n",
       "      <td>0</td>\n",
       "      <td>267628</td>\n",
       "      <td>дополнительное образование</td>\n",
       "    </tr>\n",
       "    <tr>\n",
       "      <th>4</th>\n",
       "      <td>0</td>\n",
       "      <td>340266</td>\n",
       "      <td>53</td>\n",
       "      <td>среднее</td>\n",
       "      <td>1</td>\n",
       "      <td>гражданский брак</td>\n",
       "      <td>1</td>\n",
       "      <td>F</td>\n",
       "      <td>пенсионер</td>\n",
       "      <td>0</td>\n",
       "      <td>158616</td>\n",
       "      <td>сыграть свадьбу</td>\n",
       "    </tr>\n",
       "    <tr>\n",
       "      <th>...</th>\n",
       "      <td>...</td>\n",
       "      <td>...</td>\n",
       "      <td>...</td>\n",
       "      <td>...</td>\n",
       "      <td>...</td>\n",
       "      <td>...</td>\n",
       "      <td>...</td>\n",
       "      <td>...</td>\n",
       "      <td>...</td>\n",
       "      <td>...</td>\n",
       "      <td>...</td>\n",
       "      <td>...</td>\n",
       "    </tr>\n",
       "    <tr>\n",
       "      <th>21520</th>\n",
       "      <td>1</td>\n",
       "      <td>-4529</td>\n",
       "      <td>43</td>\n",
       "      <td>среднее</td>\n",
       "      <td>1</td>\n",
       "      <td>гражданский брак</td>\n",
       "      <td>1</td>\n",
       "      <td>F</td>\n",
       "      <td>компаньон</td>\n",
       "      <td>0</td>\n",
       "      <td>224791</td>\n",
       "      <td>операции с жильем</td>\n",
       "    </tr>\n",
       "    <tr>\n",
       "      <th>21521</th>\n",
       "      <td>0</td>\n",
       "      <td>343937</td>\n",
       "      <td>67</td>\n",
       "      <td>среднее</td>\n",
       "      <td>1</td>\n",
       "      <td>женат / замужем</td>\n",
       "      <td>0</td>\n",
       "      <td>F</td>\n",
       "      <td>пенсионер</td>\n",
       "      <td>0</td>\n",
       "      <td>155999</td>\n",
       "      <td>сделка с автомобилем</td>\n",
       "    </tr>\n",
       "    <tr>\n",
       "      <th>21522</th>\n",
       "      <td>1</td>\n",
       "      <td>-2113</td>\n",
       "      <td>38</td>\n",
       "      <td>среднее</td>\n",
       "      <td>1</td>\n",
       "      <td>гражданский брак</td>\n",
       "      <td>1</td>\n",
       "      <td>M</td>\n",
       "      <td>сотрудник</td>\n",
       "      <td>1</td>\n",
       "      <td>89672</td>\n",
       "      <td>недвижимость</td>\n",
       "    </tr>\n",
       "    <tr>\n",
       "      <th>21523</th>\n",
       "      <td>3</td>\n",
       "      <td>-3112</td>\n",
       "      <td>38</td>\n",
       "      <td>среднее</td>\n",
       "      <td>1</td>\n",
       "      <td>женат / замужем</td>\n",
       "      <td>0</td>\n",
       "      <td>M</td>\n",
       "      <td>сотрудник</td>\n",
       "      <td>1</td>\n",
       "      <td>244093</td>\n",
       "      <td>на покупку своего автомобиля</td>\n",
       "    </tr>\n",
       "    <tr>\n",
       "      <th>21524</th>\n",
       "      <td>2</td>\n",
       "      <td>-1984</td>\n",
       "      <td>40</td>\n",
       "      <td>среднее</td>\n",
       "      <td>1</td>\n",
       "      <td>женат / замужем</td>\n",
       "      <td>0</td>\n",
       "      <td>F</td>\n",
       "      <td>сотрудник</td>\n",
       "      <td>0</td>\n",
       "      <td>82047</td>\n",
       "      <td>на покупку автомобиля</td>\n",
       "    </tr>\n",
       "  </tbody>\n",
       "</table>\n",
       "<p>21525 rows × 12 columns</p>\n",
       "</div>"
      ],
      "text/plain": [
       "       children  days_employed  dob_years education  education_id  \\\n",
       "0             1          -8437         42    высшее             0   \n",
       "1             1          -4024         36   среднее             1   \n",
       "2             0          -5623         33   Среднее             1   \n",
       "3             3          -4124         32   среднее             1   \n",
       "4             0         340266         53   среднее             1   \n",
       "...         ...            ...        ...       ...           ...   \n",
       "21520         1          -4529         43   среднее             1   \n",
       "21521         0         343937         67   среднее             1   \n",
       "21522         1          -2113         38   среднее             1   \n",
       "21523         3          -3112         38   среднее             1   \n",
       "21524         2          -1984         40   среднее             1   \n",
       "\n",
       "          family_status  family_status_id gender income_type  debt  \\\n",
       "0       женат / замужем                 0      F   сотрудник     0   \n",
       "1       женат / замужем                 0      F   сотрудник     0   \n",
       "2       женат / замужем                 0      M   сотрудник     0   \n",
       "3       женат / замужем                 0      M   сотрудник     0   \n",
       "4      гражданский брак                 1      F   пенсионер     0   \n",
       "...                 ...               ...    ...         ...   ...   \n",
       "21520  гражданский брак                 1      F   компаньон     0   \n",
       "21521   женат / замужем                 0      F   пенсионер     0   \n",
       "21522  гражданский брак                 1      M   сотрудник     1   \n",
       "21523   женат / замужем                 0      M   сотрудник     1   \n",
       "21524   женат / замужем                 0      F   сотрудник     0   \n",
       "\n",
       "       total_income                       purpose  \n",
       "0            253875                 покупка жилья  \n",
       "1            112080       приобретение автомобиля  \n",
       "2            145885                 покупка жилья  \n",
       "3            267628    дополнительное образование  \n",
       "4            158616               сыграть свадьбу  \n",
       "...             ...                           ...  \n",
       "21520        224791             операции с жильем  \n",
       "21521        155999          сделка с автомобилем  \n",
       "21522         89672                  недвижимость  \n",
       "21523        244093  на покупку своего автомобиля  \n",
       "21524         82047         на покупку автомобиля  \n",
       "\n",
       "[21525 rows x 12 columns]"
      ]
     },
     "execution_count": 10,
     "metadata": {},
     "output_type": "execute_result"
    }
   ],
   "source": [
    "df['days_employed'] = df['days_employed'].astype('int')\n",
    "df['total_income'] = df['total_income'].astype('int')\n",
    "df"
   ]
  },
  {
   "cell_type": "markdown",
   "metadata": {},
   "source": [
    "Проверим, что тип данных в колонке изменился:"
   ]
  },
  {
   "cell_type": "code",
   "execution_count": 11,
   "metadata": {
    "scrolled": false
   },
   "outputs": [
    {
     "name": "stdout",
     "output_type": "stream",
     "text": [
      "<class 'pandas.core.frame.DataFrame'>\n",
      "RangeIndex: 21525 entries, 0 to 21524\n",
      "Data columns (total 12 columns):\n",
      " #   Column            Non-Null Count  Dtype \n",
      "---  ------            --------------  ----- \n",
      " 0   children          21525 non-null  int64 \n",
      " 1   days_employed     21525 non-null  int32 \n",
      " 2   dob_years         21525 non-null  int64 \n",
      " 3   education         21525 non-null  object\n",
      " 4   education_id      21525 non-null  int64 \n",
      " 5   family_status     21525 non-null  object\n",
      " 6   family_status_id  21525 non-null  int64 \n",
      " 7   gender            21525 non-null  object\n",
      " 8   income_type       21525 non-null  object\n",
      " 9   debt              21525 non-null  int64 \n",
      " 10  total_income      21525 non-null  int32 \n",
      " 11  purpose           21525 non-null  object\n",
      "dtypes: int32(2), int64(5), object(5)\n",
      "memory usage: 1.8+ MB\n"
     ]
    }
   ],
   "source": [
    "df.info()"
   ]
  },
  {
   "cell_type": "markdown",
   "metadata": {},
   "source": [
    "**Вывод**"
   ]
  },
  {
   "cell_type": "markdown",
   "metadata": {},
   "source": [
    "Мы заменили тип данных в столбцах `total_income` и `days_employed`, тем самым визуально разгрузив нашу таблицу."
   ]
  },
  {
   "cell_type": "markdown",
   "metadata": {},
   "source": [
    "### Обработка дубликатов"
   ]
  },
  {
   "cell_type": "markdown",
   "metadata": {},
   "source": [
    "Посчитаем явные дубликаты в таблице:"
   ]
  },
  {
   "cell_type": "code",
   "execution_count": 12,
   "metadata": {},
   "outputs": [
    {
     "data": {
      "text/plain": [
       "54"
      ]
     },
     "execution_count": 12,
     "metadata": {},
     "output_type": "execute_result"
    }
   ],
   "source": [
    "df.duplicated().sum()"
   ]
  },
  {
   "cell_type": "markdown",
   "metadata": {},
   "source": [
    "Проверим, что из себя представляют эти дубликаты:"
   ]
  },
  {
   "cell_type": "code",
   "execution_count": 13,
   "metadata": {},
   "outputs": [
    {
     "data": {
      "text/html": [
       "<div>\n",
       "<style scoped>\n",
       "    .dataframe tbody tr th:only-of-type {\n",
       "        vertical-align: middle;\n",
       "    }\n",
       "\n",
       "    .dataframe tbody tr th {\n",
       "        vertical-align: top;\n",
       "    }\n",
       "\n",
       "    .dataframe thead th {\n",
       "        text-align: right;\n",
       "    }\n",
       "</style>\n",
       "<table border=\"1\" class=\"dataframe\">\n",
       "  <thead>\n",
       "    <tr style=\"text-align: right;\">\n",
       "      <th></th>\n",
       "      <th>children</th>\n",
       "      <th>days_employed</th>\n",
       "      <th>dob_years</th>\n",
       "      <th>education</th>\n",
       "      <th>education_id</th>\n",
       "      <th>family_status</th>\n",
       "      <th>family_status_id</th>\n",
       "      <th>gender</th>\n",
       "      <th>income_type</th>\n",
       "      <th>debt</th>\n",
       "      <th>total_income</th>\n",
       "      <th>purpose</th>\n",
       "    </tr>\n",
       "  </thead>\n",
       "  <tbody>\n",
       "    <tr>\n",
       "      <th>2849</th>\n",
       "      <td>0</td>\n",
       "      <td>0</td>\n",
       "      <td>41</td>\n",
       "      <td>среднее</td>\n",
       "      <td>1</td>\n",
       "      <td>женат / замужем</td>\n",
       "      <td>0</td>\n",
       "      <td>F</td>\n",
       "      <td>сотрудник</td>\n",
       "      <td>0</td>\n",
       "      <td>142594</td>\n",
       "      <td>покупка жилья для семьи</td>\n",
       "    </tr>\n",
       "    <tr>\n",
       "      <th>4182</th>\n",
       "      <td>1</td>\n",
       "      <td>0</td>\n",
       "      <td>34</td>\n",
       "      <td>ВЫСШЕЕ</td>\n",
       "      <td>0</td>\n",
       "      <td>гражданский брак</td>\n",
       "      <td>1</td>\n",
       "      <td>F</td>\n",
       "      <td>сотрудник</td>\n",
       "      <td>0</td>\n",
       "      <td>142594</td>\n",
       "      <td>свадьба</td>\n",
       "    </tr>\n",
       "    <tr>\n",
       "      <th>4851</th>\n",
       "      <td>0</td>\n",
       "      <td>0</td>\n",
       "      <td>60</td>\n",
       "      <td>среднее</td>\n",
       "      <td>1</td>\n",
       "      <td>гражданский брак</td>\n",
       "      <td>1</td>\n",
       "      <td>F</td>\n",
       "      <td>пенсионер</td>\n",
       "      <td>0</td>\n",
       "      <td>118514</td>\n",
       "      <td>свадьба</td>\n",
       "    </tr>\n",
       "    <tr>\n",
       "      <th>5557</th>\n",
       "      <td>0</td>\n",
       "      <td>0</td>\n",
       "      <td>58</td>\n",
       "      <td>среднее</td>\n",
       "      <td>1</td>\n",
       "      <td>гражданский брак</td>\n",
       "      <td>1</td>\n",
       "      <td>F</td>\n",
       "      <td>пенсионер</td>\n",
       "      <td>0</td>\n",
       "      <td>118514</td>\n",
       "      <td>сыграть свадьбу</td>\n",
       "    </tr>\n",
       "    <tr>\n",
       "      <th>7808</th>\n",
       "      <td>0</td>\n",
       "      <td>0</td>\n",
       "      <td>57</td>\n",
       "      <td>среднее</td>\n",
       "      <td>1</td>\n",
       "      <td>гражданский брак</td>\n",
       "      <td>1</td>\n",
       "      <td>F</td>\n",
       "      <td>пенсионер</td>\n",
       "      <td>0</td>\n",
       "      <td>118514</td>\n",
       "      <td>на проведение свадьбы</td>\n",
       "    </tr>\n",
       "    <tr>\n",
       "      <th>8583</th>\n",
       "      <td>0</td>\n",
       "      <td>0</td>\n",
       "      <td>58</td>\n",
       "      <td>высшее</td>\n",
       "      <td>0</td>\n",
       "      <td>Не женат / не замужем</td>\n",
       "      <td>4</td>\n",
       "      <td>F</td>\n",
       "      <td>пенсионер</td>\n",
       "      <td>0</td>\n",
       "      <td>118514</td>\n",
       "      <td>дополнительное образование</td>\n",
       "    </tr>\n",
       "    <tr>\n",
       "      <th>9238</th>\n",
       "      <td>2</td>\n",
       "      <td>0</td>\n",
       "      <td>34</td>\n",
       "      <td>среднее</td>\n",
       "      <td>1</td>\n",
       "      <td>женат / замужем</td>\n",
       "      <td>0</td>\n",
       "      <td>F</td>\n",
       "      <td>сотрудник</td>\n",
       "      <td>0</td>\n",
       "      <td>142594</td>\n",
       "      <td>покупка жилья для сдачи</td>\n",
       "    </tr>\n",
       "    <tr>\n",
       "      <th>9528</th>\n",
       "      <td>0</td>\n",
       "      <td>0</td>\n",
       "      <td>66</td>\n",
       "      <td>среднее</td>\n",
       "      <td>1</td>\n",
       "      <td>вдовец / вдова</td>\n",
       "      <td>2</td>\n",
       "      <td>F</td>\n",
       "      <td>пенсионер</td>\n",
       "      <td>0</td>\n",
       "      <td>118514</td>\n",
       "      <td>операции со своей недвижимостью</td>\n",
       "    </tr>\n",
       "    <tr>\n",
       "      <th>9627</th>\n",
       "      <td>0</td>\n",
       "      <td>0</td>\n",
       "      <td>56</td>\n",
       "      <td>среднее</td>\n",
       "      <td>1</td>\n",
       "      <td>женат / замужем</td>\n",
       "      <td>0</td>\n",
       "      <td>F</td>\n",
       "      <td>пенсионер</td>\n",
       "      <td>0</td>\n",
       "      <td>118514</td>\n",
       "      <td>операции со своей недвижимостью</td>\n",
       "    </tr>\n",
       "    <tr>\n",
       "      <th>10462</th>\n",
       "      <td>0</td>\n",
       "      <td>0</td>\n",
       "      <td>62</td>\n",
       "      <td>среднее</td>\n",
       "      <td>1</td>\n",
       "      <td>женат / замужем</td>\n",
       "      <td>0</td>\n",
       "      <td>F</td>\n",
       "      <td>пенсионер</td>\n",
       "      <td>0</td>\n",
       "      <td>118514</td>\n",
       "      <td>покупка коммерческой недвижимости</td>\n",
       "    </tr>\n",
       "    <tr>\n",
       "      <th>10697</th>\n",
       "      <td>0</td>\n",
       "      <td>0</td>\n",
       "      <td>40</td>\n",
       "      <td>среднее</td>\n",
       "      <td>1</td>\n",
       "      <td>гражданский брак</td>\n",
       "      <td>1</td>\n",
       "      <td>F</td>\n",
       "      <td>компаньон</td>\n",
       "      <td>0</td>\n",
       "      <td>172357</td>\n",
       "      <td>сыграть свадьбу</td>\n",
       "    </tr>\n",
       "    <tr>\n",
       "      <th>10864</th>\n",
       "      <td>0</td>\n",
       "      <td>0</td>\n",
       "      <td>62</td>\n",
       "      <td>среднее</td>\n",
       "      <td>1</td>\n",
       "      <td>женат / замужем</td>\n",
       "      <td>0</td>\n",
       "      <td>F</td>\n",
       "      <td>пенсионер</td>\n",
       "      <td>0</td>\n",
       "      <td>118514</td>\n",
       "      <td>ремонт жилью</td>\n",
       "    </tr>\n",
       "    <tr>\n",
       "      <th>10994</th>\n",
       "      <td>0</td>\n",
       "      <td>0</td>\n",
       "      <td>62</td>\n",
       "      <td>среднее</td>\n",
       "      <td>1</td>\n",
       "      <td>женат / замужем</td>\n",
       "      <td>0</td>\n",
       "      <td>F</td>\n",
       "      <td>пенсионер</td>\n",
       "      <td>0</td>\n",
       "      <td>118514</td>\n",
       "      <td>ремонт жилью</td>\n",
       "    </tr>\n",
       "    <tr>\n",
       "      <th>11791</th>\n",
       "      <td>0</td>\n",
       "      <td>0</td>\n",
       "      <td>47</td>\n",
       "      <td>среднее</td>\n",
       "      <td>1</td>\n",
       "      <td>женат / замужем</td>\n",
       "      <td>0</td>\n",
       "      <td>F</td>\n",
       "      <td>сотрудник</td>\n",
       "      <td>0</td>\n",
       "      <td>142594</td>\n",
       "      <td>строительство недвижимости</td>\n",
       "    </tr>\n",
       "    <tr>\n",
       "      <th>12373</th>\n",
       "      <td>0</td>\n",
       "      <td>0</td>\n",
       "      <td>58</td>\n",
       "      <td>среднее</td>\n",
       "      <td>1</td>\n",
       "      <td>женат / замужем</td>\n",
       "      <td>0</td>\n",
       "      <td>M</td>\n",
       "      <td>сотрудник</td>\n",
       "      <td>0</td>\n",
       "      <td>142594</td>\n",
       "      <td>покупка недвижимости</td>\n",
       "    </tr>\n",
       "    <tr>\n",
       "      <th>12375</th>\n",
       "      <td>1</td>\n",
       "      <td>0</td>\n",
       "      <td>37</td>\n",
       "      <td>среднее</td>\n",
       "      <td>1</td>\n",
       "      <td>женат / замужем</td>\n",
       "      <td>0</td>\n",
       "      <td>F</td>\n",
       "      <td>сотрудник</td>\n",
       "      <td>0</td>\n",
       "      <td>142594</td>\n",
       "      <td>покупка недвижимости</td>\n",
       "    </tr>\n",
       "    <tr>\n",
       "      <th>12736</th>\n",
       "      <td>0</td>\n",
       "      <td>0</td>\n",
       "      <td>59</td>\n",
       "      <td>среднее</td>\n",
       "      <td>1</td>\n",
       "      <td>женат / замужем</td>\n",
       "      <td>0</td>\n",
       "      <td>F</td>\n",
       "      <td>пенсионер</td>\n",
       "      <td>0</td>\n",
       "      <td>118514</td>\n",
       "      <td>заняться образованием</td>\n",
       "    </tr>\n",
       "    <tr>\n",
       "      <th>13025</th>\n",
       "      <td>1</td>\n",
       "      <td>0</td>\n",
       "      <td>44</td>\n",
       "      <td>среднее</td>\n",
       "      <td>1</td>\n",
       "      <td>женат / замужем</td>\n",
       "      <td>0</td>\n",
       "      <td>F</td>\n",
       "      <td>сотрудник</td>\n",
       "      <td>0</td>\n",
       "      <td>142594</td>\n",
       "      <td>сделка с подержанным автомобилем</td>\n",
       "    </tr>\n",
       "    <tr>\n",
       "      <th>13639</th>\n",
       "      <td>0</td>\n",
       "      <td>0</td>\n",
       "      <td>64</td>\n",
       "      <td>среднее</td>\n",
       "      <td>1</td>\n",
       "      <td>женат / замужем</td>\n",
       "      <td>0</td>\n",
       "      <td>F</td>\n",
       "      <td>пенсионер</td>\n",
       "      <td>0</td>\n",
       "      <td>118514</td>\n",
       "      <td>автомобиль</td>\n",
       "    </tr>\n",
       "    <tr>\n",
       "      <th>13773</th>\n",
       "      <td>0</td>\n",
       "      <td>0</td>\n",
       "      <td>35</td>\n",
       "      <td>среднее</td>\n",
       "      <td>1</td>\n",
       "      <td>гражданский брак</td>\n",
       "      <td>1</td>\n",
       "      <td>F</td>\n",
       "      <td>сотрудник</td>\n",
       "      <td>0</td>\n",
       "      <td>142594</td>\n",
       "      <td>сыграть свадьбу</td>\n",
       "    </tr>\n",
       "    <tr>\n",
       "      <th>13878</th>\n",
       "      <td>1</td>\n",
       "      <td>0</td>\n",
       "      <td>31</td>\n",
       "      <td>среднее</td>\n",
       "      <td>1</td>\n",
       "      <td>женат / замужем</td>\n",
       "      <td>0</td>\n",
       "      <td>F</td>\n",
       "      <td>компаньон</td>\n",
       "      <td>0</td>\n",
       "      <td>172357</td>\n",
       "      <td>покупка жилья</td>\n",
       "    </tr>\n",
       "    <tr>\n",
       "      <th>13942</th>\n",
       "      <td>0</td>\n",
       "      <td>0</td>\n",
       "      <td>44</td>\n",
       "      <td>среднее</td>\n",
       "      <td>1</td>\n",
       "      <td>женат / замужем</td>\n",
       "      <td>0</td>\n",
       "      <td>F</td>\n",
       "      <td>сотрудник</td>\n",
       "      <td>0</td>\n",
       "      <td>142594</td>\n",
       "      <td>приобретение автомобиля</td>\n",
       "    </tr>\n",
       "    <tr>\n",
       "      <th>14432</th>\n",
       "      <td>2</td>\n",
       "      <td>0</td>\n",
       "      <td>36</td>\n",
       "      <td>высшее</td>\n",
       "      <td>0</td>\n",
       "      <td>женат / замужем</td>\n",
       "      <td>0</td>\n",
       "      <td>F</td>\n",
       "      <td>госслужащий</td>\n",
       "      <td>0</td>\n",
       "      <td>150447</td>\n",
       "      <td>получение образования</td>\n",
       "    </tr>\n",
       "    <tr>\n",
       "      <th>14832</th>\n",
       "      <td>0</td>\n",
       "      <td>0</td>\n",
       "      <td>50</td>\n",
       "      <td>среднее</td>\n",
       "      <td>1</td>\n",
       "      <td>Не женат / не замужем</td>\n",
       "      <td>4</td>\n",
       "      <td>F</td>\n",
       "      <td>сотрудник</td>\n",
       "      <td>0</td>\n",
       "      <td>142594</td>\n",
       "      <td>недвижимость</td>\n",
       "    </tr>\n",
       "    <tr>\n",
       "      <th>15091</th>\n",
       "      <td>0</td>\n",
       "      <td>0</td>\n",
       "      <td>58</td>\n",
       "      <td>среднее</td>\n",
       "      <td>1</td>\n",
       "      <td>гражданский брак</td>\n",
       "      <td>1</td>\n",
       "      <td>M</td>\n",
       "      <td>сотрудник</td>\n",
       "      <td>0</td>\n",
       "      <td>142594</td>\n",
       "      <td>на проведение свадьбы</td>\n",
       "    </tr>\n",
       "    <tr>\n",
       "      <th>15188</th>\n",
       "      <td>0</td>\n",
       "      <td>0</td>\n",
       "      <td>60</td>\n",
       "      <td>среднее</td>\n",
       "      <td>1</td>\n",
       "      <td>женат / замужем</td>\n",
       "      <td>0</td>\n",
       "      <td>M</td>\n",
       "      <td>сотрудник</td>\n",
       "      <td>0</td>\n",
       "      <td>142594</td>\n",
       "      <td>покупка недвижимости</td>\n",
       "    </tr>\n",
       "    <tr>\n",
       "      <th>15273</th>\n",
       "      <td>0</td>\n",
       "      <td>0</td>\n",
       "      <td>57</td>\n",
       "      <td>среднее</td>\n",
       "      <td>1</td>\n",
       "      <td>гражданский брак</td>\n",
       "      <td>1</td>\n",
       "      <td>F</td>\n",
       "      <td>пенсионер</td>\n",
       "      <td>0</td>\n",
       "      <td>118514</td>\n",
       "      <td>свадьба</td>\n",
       "    </tr>\n",
       "    <tr>\n",
       "      <th>16176</th>\n",
       "      <td>0</td>\n",
       "      <td>0</td>\n",
       "      <td>47</td>\n",
       "      <td>среднее</td>\n",
       "      <td>1</td>\n",
       "      <td>женат / замужем</td>\n",
       "      <td>0</td>\n",
       "      <td>F</td>\n",
       "      <td>сотрудник</td>\n",
       "      <td>0</td>\n",
       "      <td>142594</td>\n",
       "      <td>ремонт жилью</td>\n",
       "    </tr>\n",
       "    <tr>\n",
       "      <th>16378</th>\n",
       "      <td>0</td>\n",
       "      <td>0</td>\n",
       "      <td>46</td>\n",
       "      <td>среднее</td>\n",
       "      <td>1</td>\n",
       "      <td>женат / замужем</td>\n",
       "      <td>0</td>\n",
       "      <td>F</td>\n",
       "      <td>сотрудник</td>\n",
       "      <td>0</td>\n",
       "      <td>142594</td>\n",
       "      <td>высшее образование</td>\n",
       "    </tr>\n",
       "    <tr>\n",
       "      <th>16902</th>\n",
       "      <td>2</td>\n",
       "      <td>0</td>\n",
       "      <td>39</td>\n",
       "      <td>среднее</td>\n",
       "      <td>1</td>\n",
       "      <td>гражданский брак</td>\n",
       "      <td>1</td>\n",
       "      <td>F</td>\n",
       "      <td>сотрудник</td>\n",
       "      <td>0</td>\n",
       "      <td>142594</td>\n",
       "      <td>сыграть свадьбу</td>\n",
       "    </tr>\n",
       "    <tr>\n",
       "      <th>16904</th>\n",
       "      <td>1</td>\n",
       "      <td>0</td>\n",
       "      <td>32</td>\n",
       "      <td>высшее</td>\n",
       "      <td>0</td>\n",
       "      <td>женат / замужем</td>\n",
       "      <td>0</td>\n",
       "      <td>F</td>\n",
       "      <td>сотрудник</td>\n",
       "      <td>0</td>\n",
       "      <td>142594</td>\n",
       "      <td>на покупку подержанного автомобиля</td>\n",
       "    </tr>\n",
       "    <tr>\n",
       "      <th>17379</th>\n",
       "      <td>0</td>\n",
       "      <td>0</td>\n",
       "      <td>54</td>\n",
       "      <td>высшее</td>\n",
       "      <td>0</td>\n",
       "      <td>женат / замужем</td>\n",
       "      <td>0</td>\n",
       "      <td>M</td>\n",
       "      <td>компаньон</td>\n",
       "      <td>0</td>\n",
       "      <td>172357</td>\n",
       "      <td>операции с коммерческой недвижимостью</td>\n",
       "    </tr>\n",
       "    <tr>\n",
       "      <th>17755</th>\n",
       "      <td>1</td>\n",
       "      <td>0</td>\n",
       "      <td>43</td>\n",
       "      <td>среднее</td>\n",
       "      <td>1</td>\n",
       "      <td>женат / замужем</td>\n",
       "      <td>0</td>\n",
       "      <td>M</td>\n",
       "      <td>сотрудник</td>\n",
       "      <td>0</td>\n",
       "      <td>142594</td>\n",
       "      <td>заняться образованием</td>\n",
       "    </tr>\n",
       "    <tr>\n",
       "      <th>17774</th>\n",
       "      <td>1</td>\n",
       "      <td>0</td>\n",
       "      <td>40</td>\n",
       "      <td>среднее</td>\n",
       "      <td>1</td>\n",
       "      <td>гражданский брак</td>\n",
       "      <td>1</td>\n",
       "      <td>F</td>\n",
       "      <td>компаньон</td>\n",
       "      <td>0</td>\n",
       "      <td>172357</td>\n",
       "      <td>строительство жилой недвижимости</td>\n",
       "    </tr>\n",
       "    <tr>\n",
       "      <th>18328</th>\n",
       "      <td>0</td>\n",
       "      <td>0</td>\n",
       "      <td>29</td>\n",
       "      <td>высшее</td>\n",
       "      <td>0</td>\n",
       "      <td>женат / замужем</td>\n",
       "      <td>0</td>\n",
       "      <td>M</td>\n",
       "      <td>сотрудник</td>\n",
       "      <td>0</td>\n",
       "      <td>142594</td>\n",
       "      <td>покупка жилой недвижимости</td>\n",
       "    </tr>\n",
       "    <tr>\n",
       "      <th>18349</th>\n",
       "      <td>1</td>\n",
       "      <td>0</td>\n",
       "      <td>30</td>\n",
       "      <td>высшее</td>\n",
       "      <td>0</td>\n",
       "      <td>женат / замужем</td>\n",
       "      <td>0</td>\n",
       "      <td>F</td>\n",
       "      <td>госслужащий</td>\n",
       "      <td>0</td>\n",
       "      <td>150447</td>\n",
       "      <td>покупка жилья для семьи</td>\n",
       "    </tr>\n",
       "    <tr>\n",
       "      <th>18428</th>\n",
       "      <td>0</td>\n",
       "      <td>0</td>\n",
       "      <td>64</td>\n",
       "      <td>среднее</td>\n",
       "      <td>1</td>\n",
       "      <td>женат / замужем</td>\n",
       "      <td>0</td>\n",
       "      <td>F</td>\n",
       "      <td>пенсионер</td>\n",
       "      <td>0</td>\n",
       "      <td>118514</td>\n",
       "      <td>жилье</td>\n",
       "    </tr>\n",
       "    <tr>\n",
       "      <th>18521</th>\n",
       "      <td>0</td>\n",
       "      <td>0</td>\n",
       "      <td>56</td>\n",
       "      <td>среднее</td>\n",
       "      <td>1</td>\n",
       "      <td>гражданский брак</td>\n",
       "      <td>1</td>\n",
       "      <td>F</td>\n",
       "      <td>сотрудник</td>\n",
       "      <td>0</td>\n",
       "      <td>142594</td>\n",
       "      <td>сыграть свадьбу</td>\n",
       "    </tr>\n",
       "    <tr>\n",
       "      <th>18563</th>\n",
       "      <td>0</td>\n",
       "      <td>0</td>\n",
       "      <td>54</td>\n",
       "      <td>среднее</td>\n",
       "      <td>1</td>\n",
       "      <td>женат / замужем</td>\n",
       "      <td>0</td>\n",
       "      <td>F</td>\n",
       "      <td>сотрудник</td>\n",
       "      <td>0</td>\n",
       "      <td>142594</td>\n",
       "      <td>операции со своей недвижимостью</td>\n",
       "    </tr>\n",
       "    <tr>\n",
       "      <th>18755</th>\n",
       "      <td>0</td>\n",
       "      <td>0</td>\n",
       "      <td>58</td>\n",
       "      <td>среднее</td>\n",
       "      <td>1</td>\n",
       "      <td>женат / замужем</td>\n",
       "      <td>0</td>\n",
       "      <td>F</td>\n",
       "      <td>пенсионер</td>\n",
       "      <td>0</td>\n",
       "      <td>118514</td>\n",
       "      <td>заняться образованием</td>\n",
       "    </tr>\n",
       "    <tr>\n",
       "      <th>19041</th>\n",
       "      <td>0</td>\n",
       "      <td>0</td>\n",
       "      <td>56</td>\n",
       "      <td>среднее</td>\n",
       "      <td>1</td>\n",
       "      <td>гражданский брак</td>\n",
       "      <td>1</td>\n",
       "      <td>F</td>\n",
       "      <td>сотрудник</td>\n",
       "      <td>0</td>\n",
       "      <td>142594</td>\n",
       "      <td>на проведение свадьбы</td>\n",
       "    </tr>\n",
       "    <tr>\n",
       "      <th>19184</th>\n",
       "      <td>0</td>\n",
       "      <td>0</td>\n",
       "      <td>46</td>\n",
       "      <td>среднее</td>\n",
       "      <td>1</td>\n",
       "      <td>женат / замужем</td>\n",
       "      <td>0</td>\n",
       "      <td>F</td>\n",
       "      <td>сотрудник</td>\n",
       "      <td>0</td>\n",
       "      <td>142594</td>\n",
       "      <td>свой автомобиль</td>\n",
       "    </tr>\n",
       "    <tr>\n",
       "      <th>19321</th>\n",
       "      <td>0</td>\n",
       "      <td>0</td>\n",
       "      <td>23</td>\n",
       "      <td>среднее</td>\n",
       "      <td>1</td>\n",
       "      <td>Не женат / не замужем</td>\n",
       "      <td>4</td>\n",
       "      <td>F</td>\n",
       "      <td>сотрудник</td>\n",
       "      <td>0</td>\n",
       "      <td>142594</td>\n",
       "      <td>сделка с подержанным автомобилем</td>\n",
       "    </tr>\n",
       "    <tr>\n",
       "      <th>19387</th>\n",
       "      <td>0</td>\n",
       "      <td>0</td>\n",
       "      <td>38</td>\n",
       "      <td>высшее</td>\n",
       "      <td>0</td>\n",
       "      <td>гражданский брак</td>\n",
       "      <td>1</td>\n",
       "      <td>F</td>\n",
       "      <td>компаньон</td>\n",
       "      <td>0</td>\n",
       "      <td>172357</td>\n",
       "      <td>на проведение свадьбы</td>\n",
       "    </tr>\n",
       "    <tr>\n",
       "      <th>19688</th>\n",
       "      <td>0</td>\n",
       "      <td>0</td>\n",
       "      <td>61</td>\n",
       "      <td>среднее</td>\n",
       "      <td>1</td>\n",
       "      <td>женат / замужем</td>\n",
       "      <td>0</td>\n",
       "      <td>F</td>\n",
       "      <td>пенсионер</td>\n",
       "      <td>0</td>\n",
       "      <td>118514</td>\n",
       "      <td>операции с недвижимостью</td>\n",
       "    </tr>\n",
       "    <tr>\n",
       "      <th>19832</th>\n",
       "      <td>0</td>\n",
       "      <td>0</td>\n",
       "      <td>48</td>\n",
       "      <td>среднее</td>\n",
       "      <td>1</td>\n",
       "      <td>женат / замужем</td>\n",
       "      <td>0</td>\n",
       "      <td>F</td>\n",
       "      <td>сотрудник</td>\n",
       "      <td>0</td>\n",
       "      <td>142594</td>\n",
       "      <td>ремонт жилью</td>\n",
       "    </tr>\n",
       "    <tr>\n",
       "      <th>19946</th>\n",
       "      <td>0</td>\n",
       "      <td>0</td>\n",
       "      <td>57</td>\n",
       "      <td>среднее</td>\n",
       "      <td>1</td>\n",
       "      <td>женат / замужем</td>\n",
       "      <td>0</td>\n",
       "      <td>F</td>\n",
       "      <td>сотрудник</td>\n",
       "      <td>0</td>\n",
       "      <td>142594</td>\n",
       "      <td>сделка с подержанным автомобилем</td>\n",
       "    </tr>\n",
       "    <tr>\n",
       "      <th>20116</th>\n",
       "      <td>0</td>\n",
       "      <td>0</td>\n",
       "      <td>57</td>\n",
       "      <td>среднее</td>\n",
       "      <td>1</td>\n",
       "      <td>гражданский брак</td>\n",
       "      <td>1</td>\n",
       "      <td>M</td>\n",
       "      <td>пенсионер</td>\n",
       "      <td>0</td>\n",
       "      <td>118514</td>\n",
       "      <td>свадьба</td>\n",
       "    </tr>\n",
       "    <tr>\n",
       "      <th>20165</th>\n",
       "      <td>0</td>\n",
       "      <td>0</td>\n",
       "      <td>42</td>\n",
       "      <td>среднее</td>\n",
       "      <td>1</td>\n",
       "      <td>женат / замужем</td>\n",
       "      <td>0</td>\n",
       "      <td>F</td>\n",
       "      <td>сотрудник</td>\n",
       "      <td>0</td>\n",
       "      <td>142594</td>\n",
       "      <td>покупка жилья для семьи</td>\n",
       "    </tr>\n",
       "    <tr>\n",
       "      <th>20702</th>\n",
       "      <td>0</td>\n",
       "      <td>0</td>\n",
       "      <td>64</td>\n",
       "      <td>среднее</td>\n",
       "      <td>1</td>\n",
       "      <td>женат / замужем</td>\n",
       "      <td>0</td>\n",
       "      <td>F</td>\n",
       "      <td>пенсионер</td>\n",
       "      <td>0</td>\n",
       "      <td>118514</td>\n",
       "      <td>дополнительное образование</td>\n",
       "    </tr>\n",
       "    <tr>\n",
       "      <th>21032</th>\n",
       "      <td>0</td>\n",
       "      <td>0</td>\n",
       "      <td>60</td>\n",
       "      <td>среднее</td>\n",
       "      <td>1</td>\n",
       "      <td>женат / замужем</td>\n",
       "      <td>0</td>\n",
       "      <td>F</td>\n",
       "      <td>пенсионер</td>\n",
       "      <td>0</td>\n",
       "      <td>118514</td>\n",
       "      <td>заняться образованием</td>\n",
       "    </tr>\n",
       "    <tr>\n",
       "      <th>21132</th>\n",
       "      <td>0</td>\n",
       "      <td>0</td>\n",
       "      <td>47</td>\n",
       "      <td>среднее</td>\n",
       "      <td>1</td>\n",
       "      <td>женат / замужем</td>\n",
       "      <td>0</td>\n",
       "      <td>F</td>\n",
       "      <td>сотрудник</td>\n",
       "      <td>0</td>\n",
       "      <td>142594</td>\n",
       "      <td>ремонт жилью</td>\n",
       "    </tr>\n",
       "    <tr>\n",
       "      <th>21281</th>\n",
       "      <td>1</td>\n",
       "      <td>0</td>\n",
       "      <td>30</td>\n",
       "      <td>высшее</td>\n",
       "      <td>0</td>\n",
       "      <td>женат / замужем</td>\n",
       "      <td>0</td>\n",
       "      <td>F</td>\n",
       "      <td>сотрудник</td>\n",
       "      <td>0</td>\n",
       "      <td>142594</td>\n",
       "      <td>покупка коммерческой недвижимости</td>\n",
       "    </tr>\n",
       "    <tr>\n",
       "      <th>21415</th>\n",
       "      <td>0</td>\n",
       "      <td>0</td>\n",
       "      <td>54</td>\n",
       "      <td>среднее</td>\n",
       "      <td>1</td>\n",
       "      <td>женат / замужем</td>\n",
       "      <td>0</td>\n",
       "      <td>F</td>\n",
       "      <td>пенсионер</td>\n",
       "      <td>0</td>\n",
       "      <td>118514</td>\n",
       "      <td>операции с жильем</td>\n",
       "    </tr>\n",
       "  </tbody>\n",
       "</table>\n",
       "</div>"
      ],
      "text/plain": [
       "       children  days_employed  dob_years education  education_id  \\\n",
       "2849          0              0         41   среднее             1   \n",
       "4182          1              0         34    ВЫСШЕЕ             0   \n",
       "4851          0              0         60   среднее             1   \n",
       "5557          0              0         58   среднее             1   \n",
       "7808          0              0         57   среднее             1   \n",
       "8583          0              0         58    высшее             0   \n",
       "9238          2              0         34   среднее             1   \n",
       "9528          0              0         66   среднее             1   \n",
       "9627          0              0         56   среднее             1   \n",
       "10462         0              0         62   среднее             1   \n",
       "10697         0              0         40   среднее             1   \n",
       "10864         0              0         62   среднее             1   \n",
       "10994         0              0         62   среднее             1   \n",
       "11791         0              0         47   среднее             1   \n",
       "12373         0              0         58   среднее             1   \n",
       "12375         1              0         37   среднее             1   \n",
       "12736         0              0         59   среднее             1   \n",
       "13025         1              0         44   среднее             1   \n",
       "13639         0              0         64   среднее             1   \n",
       "13773         0              0         35   среднее             1   \n",
       "13878         1              0         31   среднее             1   \n",
       "13942         0              0         44   среднее             1   \n",
       "14432         2              0         36    высшее             0   \n",
       "14832         0              0         50   среднее             1   \n",
       "15091         0              0         58   среднее             1   \n",
       "15188         0              0         60   среднее             1   \n",
       "15273         0              0         57   среднее             1   \n",
       "16176         0              0         47   среднее             1   \n",
       "16378         0              0         46   среднее             1   \n",
       "16902         2              0         39   среднее             1   \n",
       "16904         1              0         32    высшее             0   \n",
       "17379         0              0         54    высшее             0   \n",
       "17755         1              0         43   среднее             1   \n",
       "17774         1              0         40   среднее             1   \n",
       "18328         0              0         29    высшее             0   \n",
       "18349         1              0         30    высшее             0   \n",
       "18428         0              0         64   среднее             1   \n",
       "18521         0              0         56   среднее             1   \n",
       "18563         0              0         54   среднее             1   \n",
       "18755         0              0         58   среднее             1   \n",
       "19041         0              0         56   среднее             1   \n",
       "19184         0              0         46   среднее             1   \n",
       "19321         0              0         23   среднее             1   \n",
       "19387         0              0         38    высшее             0   \n",
       "19688         0              0         61   среднее             1   \n",
       "19832         0              0         48   среднее             1   \n",
       "19946         0              0         57   среднее             1   \n",
       "20116         0              0         57   среднее             1   \n",
       "20165         0              0         42   среднее             1   \n",
       "20702         0              0         64   среднее             1   \n",
       "21032         0              0         60   среднее             1   \n",
       "21132         0              0         47   среднее             1   \n",
       "21281         1              0         30    высшее             0   \n",
       "21415         0              0         54   среднее             1   \n",
       "\n",
       "               family_status  family_status_id gender  income_type  debt  \\\n",
       "2849         женат / замужем                 0      F    сотрудник     0   \n",
       "4182        гражданский брак                 1      F    сотрудник     0   \n",
       "4851        гражданский брак                 1      F    пенсионер     0   \n",
       "5557        гражданский брак                 1      F    пенсионер     0   \n",
       "7808        гражданский брак                 1      F    пенсионер     0   \n",
       "8583   Не женат / не замужем                 4      F    пенсионер     0   \n",
       "9238         женат / замужем                 0      F    сотрудник     0   \n",
       "9528          вдовец / вдова                 2      F    пенсионер     0   \n",
       "9627         женат / замужем                 0      F    пенсионер     0   \n",
       "10462        женат / замужем                 0      F    пенсионер     0   \n",
       "10697       гражданский брак                 1      F    компаньон     0   \n",
       "10864        женат / замужем                 0      F    пенсионер     0   \n",
       "10994        женат / замужем                 0      F    пенсионер     0   \n",
       "11791        женат / замужем                 0      F    сотрудник     0   \n",
       "12373        женат / замужем                 0      M    сотрудник     0   \n",
       "12375        женат / замужем                 0      F    сотрудник     0   \n",
       "12736        женат / замужем                 0      F    пенсионер     0   \n",
       "13025        женат / замужем                 0      F    сотрудник     0   \n",
       "13639        женат / замужем                 0      F    пенсионер     0   \n",
       "13773       гражданский брак                 1      F    сотрудник     0   \n",
       "13878        женат / замужем                 0      F    компаньон     0   \n",
       "13942        женат / замужем                 0      F    сотрудник     0   \n",
       "14432        женат / замужем                 0      F  госслужащий     0   \n",
       "14832  Не женат / не замужем                 4      F    сотрудник     0   \n",
       "15091       гражданский брак                 1      M    сотрудник     0   \n",
       "15188        женат / замужем                 0      M    сотрудник     0   \n",
       "15273       гражданский брак                 1      F    пенсионер     0   \n",
       "16176        женат / замужем                 0      F    сотрудник     0   \n",
       "16378        женат / замужем                 0      F    сотрудник     0   \n",
       "16902       гражданский брак                 1      F    сотрудник     0   \n",
       "16904        женат / замужем                 0      F    сотрудник     0   \n",
       "17379        женат / замужем                 0      M    компаньон     0   \n",
       "17755        женат / замужем                 0      M    сотрудник     0   \n",
       "17774       гражданский брак                 1      F    компаньон     0   \n",
       "18328        женат / замужем                 0      M    сотрудник     0   \n",
       "18349        женат / замужем                 0      F  госслужащий     0   \n",
       "18428        женат / замужем                 0      F    пенсионер     0   \n",
       "18521       гражданский брак                 1      F    сотрудник     0   \n",
       "18563        женат / замужем                 0      F    сотрудник     0   \n",
       "18755        женат / замужем                 0      F    пенсионер     0   \n",
       "19041       гражданский брак                 1      F    сотрудник     0   \n",
       "19184        женат / замужем                 0      F    сотрудник     0   \n",
       "19321  Не женат / не замужем                 4      F    сотрудник     0   \n",
       "19387       гражданский брак                 1      F    компаньон     0   \n",
       "19688        женат / замужем                 0      F    пенсионер     0   \n",
       "19832        женат / замужем                 0      F    сотрудник     0   \n",
       "19946        женат / замужем                 0      F    сотрудник     0   \n",
       "20116       гражданский брак                 1      M    пенсионер     0   \n",
       "20165        женат / замужем                 0      F    сотрудник     0   \n",
       "20702        женат / замужем                 0      F    пенсионер     0   \n",
       "21032        женат / замужем                 0      F    пенсионер     0   \n",
       "21132        женат / замужем                 0      F    сотрудник     0   \n",
       "21281        женат / замужем                 0      F    сотрудник     0   \n",
       "21415        женат / замужем                 0      F    пенсионер     0   \n",
       "\n",
       "       total_income                                purpose  \n",
       "2849         142594                покупка жилья для семьи  \n",
       "4182         142594                                свадьба  \n",
       "4851         118514                                свадьба  \n",
       "5557         118514                        сыграть свадьбу  \n",
       "7808         118514                  на проведение свадьбы  \n",
       "8583         118514             дополнительное образование  \n",
       "9238         142594                покупка жилья для сдачи  \n",
       "9528         118514        операции со своей недвижимостью  \n",
       "9627         118514        операции со своей недвижимостью  \n",
       "10462        118514      покупка коммерческой недвижимости  \n",
       "10697        172357                        сыграть свадьбу  \n",
       "10864        118514                           ремонт жилью  \n",
       "10994        118514                           ремонт жилью  \n",
       "11791        142594             строительство недвижимости  \n",
       "12373        142594                   покупка недвижимости  \n",
       "12375        142594                   покупка недвижимости  \n",
       "12736        118514                  заняться образованием  \n",
       "13025        142594       сделка с подержанным автомобилем  \n",
       "13639        118514                             автомобиль  \n",
       "13773        142594                        сыграть свадьбу  \n",
       "13878        172357                          покупка жилья  \n",
       "13942        142594                приобретение автомобиля  \n",
       "14432        150447                  получение образования  \n",
       "14832        142594                           недвижимость  \n",
       "15091        142594                  на проведение свадьбы  \n",
       "15188        142594                   покупка недвижимости  \n",
       "15273        118514                                свадьба  \n",
       "16176        142594                           ремонт жилью  \n",
       "16378        142594                     высшее образование  \n",
       "16902        142594                        сыграть свадьбу  \n",
       "16904        142594     на покупку подержанного автомобиля  \n",
       "17379        172357  операции с коммерческой недвижимостью  \n",
       "17755        142594                  заняться образованием  \n",
       "17774        172357       строительство жилой недвижимости  \n",
       "18328        142594             покупка жилой недвижимости  \n",
       "18349        150447                покупка жилья для семьи  \n",
       "18428        118514                                  жилье  \n",
       "18521        142594                        сыграть свадьбу  \n",
       "18563        142594        операции со своей недвижимостью  \n",
       "18755        118514                  заняться образованием  \n",
       "19041        142594                  на проведение свадьбы  \n",
       "19184        142594                        свой автомобиль  \n",
       "19321        142594       сделка с подержанным автомобилем  \n",
       "19387        172357                  на проведение свадьбы  \n",
       "19688        118514               операции с недвижимостью  \n",
       "19832        142594                           ремонт жилью  \n",
       "19946        142594       сделка с подержанным автомобилем  \n",
       "20116        118514                                свадьба  \n",
       "20165        142594                покупка жилья для семьи  \n",
       "20702        118514             дополнительное образование  \n",
       "21032        118514                  заняться образованием  \n",
       "21132        142594                           ремонт жилью  \n",
       "21281        142594      покупка коммерческой недвижимости  \n",
       "21415        118514                      операции с жильем  "
      ]
     },
     "execution_count": 13,
     "metadata": {},
     "output_type": "execute_result"
    }
   ],
   "source": [
    "df[df.duplicated()]"
   ]
  },
  {
   "cell_type": "markdown",
   "metadata": {},
   "source": [
    "Из таблицы видим, что в дубликаты попали все строки с заполенными выше пропусками в колонках `days_employed` и `total_income`. Предположим, что из-за потери данных эти строки считываются как дубликаты, хотя на самом деле это всё данные о разных людях. В таком случае удаление этих строк повлечет за собой потерю данных, чего нам не хотелось бы. Оставим эти строки для дальнейшего исследования. \n",
    "\n",
    "Проанализируем важный для нашего исследования столбец `children\t` при помощи метода `value_counts()`:"
   ]
  },
  {
   "cell_type": "code",
   "execution_count": 14,
   "metadata": {
    "scrolled": false
   },
   "outputs": [
    {
     "data": {
      "text/plain": [
       " 0     14149\n",
       " 1      4818\n",
       " 2      2055\n",
       " 3       330\n",
       " 20       76\n",
       "-1        47\n",
       " 4        41\n",
       " 5         9\n",
       "Name: children, dtype: int64"
      ]
     },
     "execution_count": 14,
     "metadata": {},
     "output_type": "execute_result"
    }
   ],
   "source": [
    "df['children'].value_counts()"
   ]
  },
  {
   "cell_type": "markdown",
   "metadata": {},
   "source": [
    "Слегка неправдоподобными выглядят семьи с количеством детей, равным 20 и -1. Возможно, при вводе данных произошла опечатка (но для опечатки это слишком много раз, и почему опечались столько раз именно в написании 1 и 2?), а может это просто мусорные данные, наверняка мы не знаем. Поскольку мы имеем дело с количественной переменной, заменим при помощи цикла `for` и условной конструкции `if` эти данные на медианное значение по столбцу, и проверим, что изменения призошли:"
   ]
  },
  {
   "cell_type": "code",
   "execution_count": 15,
   "metadata": {},
   "outputs": [
    {
     "data": {
      "text/plain": [
       "0    14272\n",
       "1     4818\n",
       "2     2055\n",
       "3      330\n",
       "4       41\n",
       "5        9\n",
       "Name: children, dtype: int64"
      ]
     },
     "execution_count": 15,
     "metadata": {},
     "output_type": "execute_result"
    }
   ],
   "source": [
    "for i in df['children']:\n",
    "    if i == 20 or i == -1:\n",
    "        df['children'] = df['children'].replace(i, df['children'].median())\n",
    "\n",
    "df['children'].value_counts()"
   ]
  },
  {
   "cell_type": "markdown",
   "metadata": {},
   "source": [
    "**Вывод**"
   ]
  },
  {
   "cell_type": "markdown",
   "metadata": {},
   "source": [
    "Методом `duplicated().sum()` мы обнаружили дубликаты, но, проанализировав данные, приняли решение не удалять их.\n",
    "Также методом `value_counts()` мы обнаружили неправдоподобные данные в столбце `children` и заменили их на медианное значение по этому столбцу.\n",
    "\n",
    "Также на первом шаге мы отметили, что в столбце `education` данные отличаются по регистру. Но, поскольку эти данные не повлияют на дальнейшее исследование, приводить их к единому регистру мы не будем."
   ]
  },
  {
   "cell_type": "markdown",
   "metadata": {},
   "source": [
    "### Лемматизация"
   ]
  },
  {
   "cell_type": "markdown",
   "metadata": {},
   "source": [
    "Составим список из уникальных значений в колонке `purpose`:"
   ]
  },
  {
   "cell_type": "code",
   "execution_count": 16,
   "metadata": {
    "scrolled": false
   },
   "outputs": [
    {
     "data": {
      "text/plain": [
       "array(['покупка жилья', 'приобретение автомобиля',\n",
       "       'дополнительное образование', 'сыграть свадьбу',\n",
       "       'операции с жильем', 'образование', 'на проведение свадьбы',\n",
       "       'покупка жилья для семьи', 'покупка недвижимости',\n",
       "       'покупка коммерческой недвижимости', 'покупка жилой недвижимости',\n",
       "       'строительство собственной недвижимости', 'недвижимость',\n",
       "       'строительство недвижимости', 'на покупку подержанного автомобиля',\n",
       "       'на покупку своего автомобиля',\n",
       "       'операции с коммерческой недвижимостью',\n",
       "       'строительство жилой недвижимости', 'жилье',\n",
       "       'операции со своей недвижимостью', 'автомобили',\n",
       "       'заняться образованием', 'сделка с подержанным автомобилем',\n",
       "       'получение образования', 'автомобиль', 'свадьба',\n",
       "       'получение дополнительного образования', 'покупка своего жилья',\n",
       "       'операции с недвижимостью', 'получение высшего образования',\n",
       "       'свой автомобиль', 'сделка с автомобилем',\n",
       "       'профильное образование', 'высшее образование',\n",
       "       'покупка жилья для сдачи', 'на покупку автомобиля', 'ремонт жилью',\n",
       "       'заняться высшим образованием'], dtype=object)"
      ]
     },
     "execution_count": 16,
     "metadata": {},
     "output_type": "execute_result"
    }
   ],
   "source": [
    "unique_purpose = df['purpose'].unique()\n",
    "unique_purpose"
   ]
  },
  {
   "cell_type": "markdown",
   "metadata": {},
   "source": [
    "Применим лемматизацию, чтобы упорядочить данные в полученном списке `unique_purpose`. Импортируем библиотеку `pymystem3` с функцией лемматизации на русском языке, а также вызовем специальный контейнер `Counter` из модуля `collections`:"
   ]
  },
  {
   "cell_type": "code",
   "execution_count": 17,
   "metadata": {},
   "outputs": [],
   "source": [
    "m = Mystem() "
   ]
  },
  {
   "cell_type": "markdown",
   "metadata": {},
   "source": [
    "Посчитаем, какие слова встречаются в списке целей получения кредита. Для этого применим цикл `for` для лемматизации списка методом `lemmatize()` и посчитаем при помощи `Counter`, сколько раз слова встречаются в списке:"
   ]
  },
  {
   "cell_type": "code",
   "execution_count": 18,
   "metadata": {
    "scrolled": false
   },
   "outputs": [
    {
     "data": {
      "text/plain": [
       "Counter({'покупка': 10,\n",
       "         ' ': 59,\n",
       "         'жилье': 7,\n",
       "         '\\n': 38,\n",
       "         'приобретение': 1,\n",
       "         'автомобиль': 9,\n",
       "         'дополнительный': 2,\n",
       "         'образование': 9,\n",
       "         'сыграть': 1,\n",
       "         'свадьба': 3,\n",
       "         'операция': 4,\n",
       "         'с': 5,\n",
       "         'на': 4,\n",
       "         'проведение': 1,\n",
       "         'для': 2,\n",
       "         'семья': 1,\n",
       "         'недвижимость': 10,\n",
       "         'коммерческий': 2,\n",
       "         'жилой': 2,\n",
       "         'строительство': 3,\n",
       "         'собственный': 1,\n",
       "         'подержать': 1,\n",
       "         'свой': 4,\n",
       "         'со': 1,\n",
       "         'заниматься': 2,\n",
       "         'сделка': 2,\n",
       "         'подержанный': 1,\n",
       "         'получение': 3,\n",
       "         'высокий': 3,\n",
       "         'профильный': 1,\n",
       "         'сдача': 1,\n",
       "         'ремонт': 1})"
      ]
     },
     "metadata": {},
     "output_type": "display_data"
    }
   ],
   "source": [
    "lemmas = []\n",
    "\n",
    "for j in unique_purpose:\n",
    "    lemmas += m.lemmatize(j)\n",
    "display(Counter(lemmas)) \n"
   ]
  },
  {
   "cell_type": "markdown",
   "metadata": {},
   "source": [
    "**Вывод**"
   ]
  },
  {
   "cell_type": "markdown",
   "metadata": {},
   "source": [
    "В результате лемматизации столбца `purpose` можно выделить 5 ключевых слов: `свадьба`, `образование`, `автомобиль`, `недвижимость` и `жилье`. Последние 2 можно будет объединить в одну категорию. Эти данные нам понадобятся далее для проведения категоризации."
   ]
  },
  {
   "cell_type": "markdown",
   "metadata": {},
   "source": [
    "### Категоризация данных"
   ]
  },
  {
   "cell_type": "markdown",
   "metadata": {},
   "source": [
    "Для оценки зависимости между уровнем дохода и возвратом кредита в срок нам необходимо разделить значения в колонке ежемесячного дохода `total_income` на несколько категорий. Для этого используем метод ` pd.qcut()` и получим на выходе 4 интервала (q=4):"
   ]
  },
  {
   "cell_type": "code",
   "execution_count": 19,
   "metadata": {
    "scrolled": false
   },
   "outputs": [
    {
     "data": {
      "text/plain": [
       "0        (195549.0, 2265604.0]\n",
       "1         (107798.0, 142594.0]\n",
       "2         (142594.0, 195549.0]\n",
       "3        (195549.0, 2265604.0]\n",
       "4         (142594.0, 195549.0]\n",
       "                 ...          \n",
       "21520    (195549.0, 2265604.0]\n",
       "21521     (142594.0, 195549.0]\n",
       "21522    (20666.999, 107798.0]\n",
       "21523    (195549.0, 2265604.0]\n",
       "21524    (20666.999, 107798.0]\n",
       "Name: total_income, Length: 21525, dtype: category\n",
       "Categories (4, interval[float64, right]): [(20666.999, 107798.0] < (107798.0, 142594.0] < (142594.0, 195549.0] < (195549.0, 2265604.0]]"
      ]
     },
     "execution_count": 19,
     "metadata": {},
     "output_type": "execute_result"
    }
   ],
   "source": [
    "pd.qcut(df['total_income'], q=4)"
   ]
  },
  {
   "cell_type": "markdown",
   "metadata": {},
   "source": [
    "Поделим значения в этом столбце на 4 категории:\n",
    "* до 107798;\n",
    "* от 107799 до 145017;\n",
    "* от 145018 до 195543;\n",
    "* от 195544.\n",
    "\n",
    "Напишем функцию `income_group`, которая в качестве аргумента принимает значение ежемесячного дохода и возвращает номер категории. Используя метод `apply`, применим функцию к столбцу `total_income` и занесем данные в новый столбец df `total_income_group`. Проверим, что функция отработала верно."
   ]
  },
  {
   "cell_type": "code",
   "execution_count": 20,
   "metadata": {
    "scrolled": true
   },
   "outputs": [
    {
     "data": {
      "text/html": [
       "<div>\n",
       "<style scoped>\n",
       "    .dataframe tbody tr th:only-of-type {\n",
       "        vertical-align: middle;\n",
       "    }\n",
       "\n",
       "    .dataframe tbody tr th {\n",
       "        vertical-align: top;\n",
       "    }\n",
       "\n",
       "    .dataframe thead th {\n",
       "        text-align: right;\n",
       "    }\n",
       "</style>\n",
       "<table border=\"1\" class=\"dataframe\">\n",
       "  <thead>\n",
       "    <tr style=\"text-align: right;\">\n",
       "      <th></th>\n",
       "      <th>children</th>\n",
       "      <th>days_employed</th>\n",
       "      <th>dob_years</th>\n",
       "      <th>education</th>\n",
       "      <th>education_id</th>\n",
       "      <th>family_status</th>\n",
       "      <th>family_status_id</th>\n",
       "      <th>gender</th>\n",
       "      <th>income_type</th>\n",
       "      <th>debt</th>\n",
       "      <th>total_income</th>\n",
       "      <th>purpose</th>\n",
       "      <th>total_income_group</th>\n",
       "    </tr>\n",
       "  </thead>\n",
       "  <tbody>\n",
       "    <tr>\n",
       "      <th>0</th>\n",
       "      <td>1</td>\n",
       "      <td>-8437</td>\n",
       "      <td>42</td>\n",
       "      <td>высшее</td>\n",
       "      <td>0</td>\n",
       "      <td>женат / замужем</td>\n",
       "      <td>0</td>\n",
       "      <td>F</td>\n",
       "      <td>сотрудник</td>\n",
       "      <td>0</td>\n",
       "      <td>253875</td>\n",
       "      <td>покупка жилья</td>\n",
       "      <td>3</td>\n",
       "    </tr>\n",
       "    <tr>\n",
       "      <th>1</th>\n",
       "      <td>1</td>\n",
       "      <td>-4024</td>\n",
       "      <td>36</td>\n",
       "      <td>среднее</td>\n",
       "      <td>1</td>\n",
       "      <td>женат / замужем</td>\n",
       "      <td>0</td>\n",
       "      <td>F</td>\n",
       "      <td>сотрудник</td>\n",
       "      <td>0</td>\n",
       "      <td>112080</td>\n",
       "      <td>приобретение автомобиля</td>\n",
       "      <td>1</td>\n",
       "    </tr>\n",
       "    <tr>\n",
       "      <th>2</th>\n",
       "      <td>0</td>\n",
       "      <td>-5623</td>\n",
       "      <td>33</td>\n",
       "      <td>Среднее</td>\n",
       "      <td>1</td>\n",
       "      <td>женат / замужем</td>\n",
       "      <td>0</td>\n",
       "      <td>M</td>\n",
       "      <td>сотрудник</td>\n",
       "      <td>0</td>\n",
       "      <td>145885</td>\n",
       "      <td>покупка жилья</td>\n",
       "      <td>2</td>\n",
       "    </tr>\n",
       "    <tr>\n",
       "      <th>3</th>\n",
       "      <td>3</td>\n",
       "      <td>-4124</td>\n",
       "      <td>32</td>\n",
       "      <td>среднее</td>\n",
       "      <td>1</td>\n",
       "      <td>женат / замужем</td>\n",
       "      <td>0</td>\n",
       "      <td>M</td>\n",
       "      <td>сотрудник</td>\n",
       "      <td>0</td>\n",
       "      <td>267628</td>\n",
       "      <td>дополнительное образование</td>\n",
       "      <td>3</td>\n",
       "    </tr>\n",
       "    <tr>\n",
       "      <th>4</th>\n",
       "      <td>0</td>\n",
       "      <td>340266</td>\n",
       "      <td>53</td>\n",
       "      <td>среднее</td>\n",
       "      <td>1</td>\n",
       "      <td>гражданский брак</td>\n",
       "      <td>1</td>\n",
       "      <td>F</td>\n",
       "      <td>пенсионер</td>\n",
       "      <td>0</td>\n",
       "      <td>158616</td>\n",
       "      <td>сыграть свадьбу</td>\n",
       "      <td>2</td>\n",
       "    </tr>\n",
       "    <tr>\n",
       "      <th>5</th>\n",
       "      <td>0</td>\n",
       "      <td>-926</td>\n",
       "      <td>27</td>\n",
       "      <td>высшее</td>\n",
       "      <td>0</td>\n",
       "      <td>гражданский брак</td>\n",
       "      <td>1</td>\n",
       "      <td>M</td>\n",
       "      <td>компаньон</td>\n",
       "      <td>0</td>\n",
       "      <td>255763</td>\n",
       "      <td>покупка жилья</td>\n",
       "      <td>3</td>\n",
       "    </tr>\n",
       "    <tr>\n",
       "      <th>6</th>\n",
       "      <td>0</td>\n",
       "      <td>-2879</td>\n",
       "      <td>43</td>\n",
       "      <td>высшее</td>\n",
       "      <td>0</td>\n",
       "      <td>женат / замужем</td>\n",
       "      <td>0</td>\n",
       "      <td>F</td>\n",
       "      <td>компаньон</td>\n",
       "      <td>0</td>\n",
       "      <td>240525</td>\n",
       "      <td>операции с жильем</td>\n",
       "      <td>3</td>\n",
       "    </tr>\n",
       "    <tr>\n",
       "      <th>7</th>\n",
       "      <td>0</td>\n",
       "      <td>-152</td>\n",
       "      <td>50</td>\n",
       "      <td>СРЕДНЕЕ</td>\n",
       "      <td>1</td>\n",
       "      <td>женат / замужем</td>\n",
       "      <td>0</td>\n",
       "      <td>M</td>\n",
       "      <td>сотрудник</td>\n",
       "      <td>0</td>\n",
       "      <td>135823</td>\n",
       "      <td>образование</td>\n",
       "      <td>1</td>\n",
       "    </tr>\n",
       "    <tr>\n",
       "      <th>8</th>\n",
       "      <td>2</td>\n",
       "      <td>-6929</td>\n",
       "      <td>35</td>\n",
       "      <td>ВЫСШЕЕ</td>\n",
       "      <td>0</td>\n",
       "      <td>гражданский брак</td>\n",
       "      <td>1</td>\n",
       "      <td>F</td>\n",
       "      <td>сотрудник</td>\n",
       "      <td>0</td>\n",
       "      <td>95856</td>\n",
       "      <td>на проведение свадьбы</td>\n",
       "      <td>0</td>\n",
       "    </tr>\n",
       "    <tr>\n",
       "      <th>9</th>\n",
       "      <td>0</td>\n",
       "      <td>-2188</td>\n",
       "      <td>41</td>\n",
       "      <td>среднее</td>\n",
       "      <td>1</td>\n",
       "      <td>женат / замужем</td>\n",
       "      <td>0</td>\n",
       "      <td>M</td>\n",
       "      <td>сотрудник</td>\n",
       "      <td>0</td>\n",
       "      <td>144425</td>\n",
       "      <td>покупка жилья для семьи</td>\n",
       "      <td>1</td>\n",
       "    </tr>\n",
       "  </tbody>\n",
       "</table>\n",
       "</div>"
      ],
      "text/plain": [
       "   children  days_employed  dob_years education  education_id  \\\n",
       "0         1          -8437         42    высшее             0   \n",
       "1         1          -4024         36   среднее             1   \n",
       "2         0          -5623         33   Среднее             1   \n",
       "3         3          -4124         32   среднее             1   \n",
       "4         0         340266         53   среднее             1   \n",
       "5         0           -926         27    высшее             0   \n",
       "6         0          -2879         43    высшее             0   \n",
       "7         0           -152         50   СРЕДНЕЕ             1   \n",
       "8         2          -6929         35    ВЫСШЕЕ             0   \n",
       "9         0          -2188         41   среднее             1   \n",
       "\n",
       "      family_status  family_status_id gender income_type  debt  total_income  \\\n",
       "0   женат / замужем                 0      F   сотрудник     0        253875   \n",
       "1   женат / замужем                 0      F   сотрудник     0        112080   \n",
       "2   женат / замужем                 0      M   сотрудник     0        145885   \n",
       "3   женат / замужем                 0      M   сотрудник     0        267628   \n",
       "4  гражданский брак                 1      F   пенсионер     0        158616   \n",
       "5  гражданский брак                 1      M   компаньон     0        255763   \n",
       "6   женат / замужем                 0      F   компаньон     0        240525   \n",
       "7   женат / замужем                 0      M   сотрудник     0        135823   \n",
       "8  гражданский брак                 1      F   сотрудник     0         95856   \n",
       "9   женат / замужем                 0      M   сотрудник     0        144425   \n",
       "\n",
       "                      purpose  total_income_group  \n",
       "0               покупка жилья                   3  \n",
       "1     приобретение автомобиля                   1  \n",
       "2               покупка жилья                   2  \n",
       "3  дополнительное образование                   3  \n",
       "4             сыграть свадьбу                   2  \n",
       "5               покупка жилья                   3  \n",
       "6           операции с жильем                   3  \n",
       "7                 образование                   1  \n",
       "8       на проведение свадьбы                   0  \n",
       "9     покупка жилья для семьи                   1  "
      ]
     },
     "execution_count": 20,
     "metadata": {},
     "output_type": "execute_result"
    }
   ],
   "source": [
    "def income_group(income):\n",
    "    if income <= 107798:\n",
    "        return 0\n",
    "    elif 107798 < income <= 145017:\n",
    "        return 1\n",
    "    elif 145017 < income <= 195543:\n",
    "        return 2\n",
    "    return 3\n",
    "\n",
    "df['total_income_group'] = df['total_income'].apply(income_group)\n",
    "df.head(10)"
   ]
  },
  {
   "cell_type": "markdown",
   "metadata": {},
   "source": [
    "В разделе 2.1 мы выделили слова, которые определяют категории целей получения кредита.\n",
    "\n",
    "Напишем функцию `purpose_group`, которая в качестве аргумента принимает строку, в которой указана цель получения кредита, и возвращает номер категории. Используя метод `apply`, применим функцию к столбцу `purpose` и занесем данные в новый столбец df `total_purpose_group`. Проверим, что функция отработала верно."
   ]
  },
  {
   "cell_type": "code",
   "execution_count": 21,
   "metadata": {
    "scrolled": true
   },
   "outputs": [
    {
     "data": {
      "text/html": [
       "<div>\n",
       "<style scoped>\n",
       "    .dataframe tbody tr th:only-of-type {\n",
       "        vertical-align: middle;\n",
       "    }\n",
       "\n",
       "    .dataframe tbody tr th {\n",
       "        vertical-align: top;\n",
       "    }\n",
       "\n",
       "    .dataframe thead th {\n",
       "        text-align: right;\n",
       "    }\n",
       "</style>\n",
       "<table border=\"1\" class=\"dataframe\">\n",
       "  <thead>\n",
       "    <tr style=\"text-align: right;\">\n",
       "      <th></th>\n",
       "      <th>children</th>\n",
       "      <th>days_employed</th>\n",
       "      <th>dob_years</th>\n",
       "      <th>education</th>\n",
       "      <th>education_id</th>\n",
       "      <th>family_status</th>\n",
       "      <th>family_status_id</th>\n",
       "      <th>gender</th>\n",
       "      <th>income_type</th>\n",
       "      <th>debt</th>\n",
       "      <th>total_income</th>\n",
       "      <th>purpose</th>\n",
       "      <th>total_income_group</th>\n",
       "      <th>total_purpose_group</th>\n",
       "    </tr>\n",
       "  </thead>\n",
       "  <tbody>\n",
       "    <tr>\n",
       "      <th>0</th>\n",
       "      <td>1</td>\n",
       "      <td>-8437</td>\n",
       "      <td>42</td>\n",
       "      <td>высшее</td>\n",
       "      <td>0</td>\n",
       "      <td>женат / замужем</td>\n",
       "      <td>0</td>\n",
       "      <td>F</td>\n",
       "      <td>сотрудник</td>\n",
       "      <td>0</td>\n",
       "      <td>253875</td>\n",
       "      <td>покупка жилья</td>\n",
       "      <td>3</td>\n",
       "      <td>3</td>\n",
       "    </tr>\n",
       "    <tr>\n",
       "      <th>1</th>\n",
       "      <td>1</td>\n",
       "      <td>-4024</td>\n",
       "      <td>36</td>\n",
       "      <td>среднее</td>\n",
       "      <td>1</td>\n",
       "      <td>женат / замужем</td>\n",
       "      <td>0</td>\n",
       "      <td>F</td>\n",
       "      <td>сотрудник</td>\n",
       "      <td>0</td>\n",
       "      <td>112080</td>\n",
       "      <td>приобретение автомобиля</td>\n",
       "      <td>1</td>\n",
       "      <td>1</td>\n",
       "    </tr>\n",
       "    <tr>\n",
       "      <th>2</th>\n",
       "      <td>0</td>\n",
       "      <td>-5623</td>\n",
       "      <td>33</td>\n",
       "      <td>Среднее</td>\n",
       "      <td>1</td>\n",
       "      <td>женат / замужем</td>\n",
       "      <td>0</td>\n",
       "      <td>M</td>\n",
       "      <td>сотрудник</td>\n",
       "      <td>0</td>\n",
       "      <td>145885</td>\n",
       "      <td>покупка жилья</td>\n",
       "      <td>2</td>\n",
       "      <td>3</td>\n",
       "    </tr>\n",
       "    <tr>\n",
       "      <th>3</th>\n",
       "      <td>3</td>\n",
       "      <td>-4124</td>\n",
       "      <td>32</td>\n",
       "      <td>среднее</td>\n",
       "      <td>1</td>\n",
       "      <td>женат / замужем</td>\n",
       "      <td>0</td>\n",
       "      <td>M</td>\n",
       "      <td>сотрудник</td>\n",
       "      <td>0</td>\n",
       "      <td>267628</td>\n",
       "      <td>дополнительное образование</td>\n",
       "      <td>3</td>\n",
       "      <td>2</td>\n",
       "    </tr>\n",
       "    <tr>\n",
       "      <th>4</th>\n",
       "      <td>0</td>\n",
       "      <td>340266</td>\n",
       "      <td>53</td>\n",
       "      <td>среднее</td>\n",
       "      <td>1</td>\n",
       "      <td>гражданский брак</td>\n",
       "      <td>1</td>\n",
       "      <td>F</td>\n",
       "      <td>пенсионер</td>\n",
       "      <td>0</td>\n",
       "      <td>158616</td>\n",
       "      <td>сыграть свадьбу</td>\n",
       "      <td>2</td>\n",
       "      <td>0</td>\n",
       "    </tr>\n",
       "    <tr>\n",
       "      <th>5</th>\n",
       "      <td>0</td>\n",
       "      <td>-926</td>\n",
       "      <td>27</td>\n",
       "      <td>высшее</td>\n",
       "      <td>0</td>\n",
       "      <td>гражданский брак</td>\n",
       "      <td>1</td>\n",
       "      <td>M</td>\n",
       "      <td>компаньон</td>\n",
       "      <td>0</td>\n",
       "      <td>255763</td>\n",
       "      <td>покупка жилья</td>\n",
       "      <td>3</td>\n",
       "      <td>3</td>\n",
       "    </tr>\n",
       "    <tr>\n",
       "      <th>6</th>\n",
       "      <td>0</td>\n",
       "      <td>-2879</td>\n",
       "      <td>43</td>\n",
       "      <td>высшее</td>\n",
       "      <td>0</td>\n",
       "      <td>женат / замужем</td>\n",
       "      <td>0</td>\n",
       "      <td>F</td>\n",
       "      <td>компаньон</td>\n",
       "      <td>0</td>\n",
       "      <td>240525</td>\n",
       "      <td>операции с жильем</td>\n",
       "      <td>3</td>\n",
       "      <td>3</td>\n",
       "    </tr>\n",
       "    <tr>\n",
       "      <th>7</th>\n",
       "      <td>0</td>\n",
       "      <td>-152</td>\n",
       "      <td>50</td>\n",
       "      <td>СРЕДНЕЕ</td>\n",
       "      <td>1</td>\n",
       "      <td>женат / замужем</td>\n",
       "      <td>0</td>\n",
       "      <td>M</td>\n",
       "      <td>сотрудник</td>\n",
       "      <td>0</td>\n",
       "      <td>135823</td>\n",
       "      <td>образование</td>\n",
       "      <td>1</td>\n",
       "      <td>2</td>\n",
       "    </tr>\n",
       "    <tr>\n",
       "      <th>8</th>\n",
       "      <td>2</td>\n",
       "      <td>-6929</td>\n",
       "      <td>35</td>\n",
       "      <td>ВЫСШЕЕ</td>\n",
       "      <td>0</td>\n",
       "      <td>гражданский брак</td>\n",
       "      <td>1</td>\n",
       "      <td>F</td>\n",
       "      <td>сотрудник</td>\n",
       "      <td>0</td>\n",
       "      <td>95856</td>\n",
       "      <td>на проведение свадьбы</td>\n",
       "      <td>0</td>\n",
       "      <td>0</td>\n",
       "    </tr>\n",
       "    <tr>\n",
       "      <th>9</th>\n",
       "      <td>0</td>\n",
       "      <td>-2188</td>\n",
       "      <td>41</td>\n",
       "      <td>среднее</td>\n",
       "      <td>1</td>\n",
       "      <td>женат / замужем</td>\n",
       "      <td>0</td>\n",
       "      <td>M</td>\n",
       "      <td>сотрудник</td>\n",
       "      <td>0</td>\n",
       "      <td>144425</td>\n",
       "      <td>покупка жилья для семьи</td>\n",
       "      <td>1</td>\n",
       "      <td>3</td>\n",
       "    </tr>\n",
       "  </tbody>\n",
       "</table>\n",
       "</div>"
      ],
      "text/plain": [
       "   children  days_employed  dob_years education  education_id  \\\n",
       "0         1          -8437         42    высшее             0   \n",
       "1         1          -4024         36   среднее             1   \n",
       "2         0          -5623         33   Среднее             1   \n",
       "3         3          -4124         32   среднее             1   \n",
       "4         0         340266         53   среднее             1   \n",
       "5         0           -926         27    высшее             0   \n",
       "6         0          -2879         43    высшее             0   \n",
       "7         0           -152         50   СРЕДНЕЕ             1   \n",
       "8         2          -6929         35    ВЫСШЕЕ             0   \n",
       "9         0          -2188         41   среднее             1   \n",
       "\n",
       "      family_status  family_status_id gender income_type  debt  total_income  \\\n",
       "0   женат / замужем                 0      F   сотрудник     0        253875   \n",
       "1   женат / замужем                 0      F   сотрудник     0        112080   \n",
       "2   женат / замужем                 0      M   сотрудник     0        145885   \n",
       "3   женат / замужем                 0      M   сотрудник     0        267628   \n",
       "4  гражданский брак                 1      F   пенсионер     0        158616   \n",
       "5  гражданский брак                 1      M   компаньон     0        255763   \n",
       "6   женат / замужем                 0      F   компаньон     0        240525   \n",
       "7   женат / замужем                 0      M   сотрудник     0        135823   \n",
       "8  гражданский брак                 1      F   сотрудник     0         95856   \n",
       "9   женат / замужем                 0      M   сотрудник     0        144425   \n",
       "\n",
       "                      purpose  total_income_group  total_purpose_group  \n",
       "0               покупка жилья                   3                    3  \n",
       "1     приобретение автомобиля                   1                    1  \n",
       "2               покупка жилья                   2                    3  \n",
       "3  дополнительное образование                   3                    2  \n",
       "4             сыграть свадьбу                   2                    0  \n",
       "5               покупка жилья                   3                    3  \n",
       "6           операции с жильем                   3                    3  \n",
       "7                 образование                   1                    2  \n",
       "8       на проведение свадьбы                   0                    0  \n",
       "9     покупка жилья для семьи                   1                    3  "
      ]
     },
     "execution_count": 21,
     "metadata": {},
     "output_type": "execute_result"
    }
   ],
   "source": [
    "def purpose_group(target):\n",
    "    if 'свадьб' in target:\n",
    "        return 0\n",
    "    elif 'автомоб' in target:\n",
    "        return 1\n",
    "    elif 'образов' in target:\n",
    "        return 2\n",
    "    elif 'недвижим' or 'жиль' in target:\n",
    "        return 3\n",
    "\n",
    "df['total_purpose_group'] = df['purpose'].apply(purpose_group)\n",
    "df.head(10)"
   ]
  },
  {
   "cell_type": "markdown",
   "metadata": {},
   "source": [
    "**Вывод**"
   ]
  },
  {
   "cell_type": "markdown",
   "metadata": {},
   "source": [
    "При помощи функций мы разделили на категории значения в столбцах `total_income` и `purpose` (по 4 категории на каждый столбец)."
   ]
  },
  {
   "cell_type": "markdown",
   "metadata": {},
   "source": [
    "<a id=\"step3\"></a>\n",
    "## Исследование заёмщиков"
   ]
  },
  {
   "cell_type": "markdown",
   "metadata": {},
   "source": [
    "### Зависимость между наличием детей и возвратом кредита в срок"
   ]
  },
  {
   "cell_type": "markdown",
   "metadata": {},
   "source": [
    "Для выведения результатов создадим новый df `df_children_pivot`.\n",
    "\n",
    "Воспользуемся методом `pivot_table` со следующими аргументами:\n",
    "- index='children' – группируем данные по количеству детей, столбец `children`;\n",
    "- columns='debt' – значения, по которым происходит группировка, столбец `debt`;\n",
    "- values='purpose' – используем любой из столбцов df (в данном случае `purpose`), т.к. далее применяем `count`;\n",
    "- aggfunc='count' – применяемая функция `count`;\n",
    "- margins=True – получаем обобщенные значения по каждой группе."
   ]
  },
  {
   "cell_type": "code",
   "execution_count": 22,
   "metadata": {},
   "outputs": [
    {
     "data": {
      "text/html": [
       "<div>\n",
       "<style scoped>\n",
       "    .dataframe tbody tr th:only-of-type {\n",
       "        vertical-align: middle;\n",
       "    }\n",
       "\n",
       "    .dataframe tbody tr th {\n",
       "        vertical-align: top;\n",
       "    }\n",
       "\n",
       "    .dataframe thead th {\n",
       "        text-align: right;\n",
       "    }\n",
       "</style>\n",
       "<table border=\"1\" class=\"dataframe\">\n",
       "  <thead>\n",
       "    <tr style=\"text-align: right;\">\n",
       "      <th>debt</th>\n",
       "      <th>0</th>\n",
       "      <th>1</th>\n",
       "      <th>All</th>\n",
       "    </tr>\n",
       "    <tr>\n",
       "      <th>children</th>\n",
       "      <th></th>\n",
       "      <th></th>\n",
       "      <th></th>\n",
       "    </tr>\n",
       "  </thead>\n",
       "  <tbody>\n",
       "    <tr>\n",
       "      <th>0</th>\n",
       "      <td>13200.0</td>\n",
       "      <td>1072.0</td>\n",
       "      <td>14272</td>\n",
       "    </tr>\n",
       "    <tr>\n",
       "      <th>1</th>\n",
       "      <td>4374.0</td>\n",
       "      <td>444.0</td>\n",
       "      <td>4818</td>\n",
       "    </tr>\n",
       "    <tr>\n",
       "      <th>2</th>\n",
       "      <td>1861.0</td>\n",
       "      <td>194.0</td>\n",
       "      <td>2055</td>\n",
       "    </tr>\n",
       "    <tr>\n",
       "      <th>3</th>\n",
       "      <td>303.0</td>\n",
       "      <td>27.0</td>\n",
       "      <td>330</td>\n",
       "    </tr>\n",
       "    <tr>\n",
       "      <th>4</th>\n",
       "      <td>37.0</td>\n",
       "      <td>4.0</td>\n",
       "      <td>41</td>\n",
       "    </tr>\n",
       "    <tr>\n",
       "      <th>5</th>\n",
       "      <td>9.0</td>\n",
       "      <td>NaN</td>\n",
       "      <td>9</td>\n",
       "    </tr>\n",
       "    <tr>\n",
       "      <th>All</th>\n",
       "      <td>19784.0</td>\n",
       "      <td>1741.0</td>\n",
       "      <td>21525</td>\n",
       "    </tr>\n",
       "  </tbody>\n",
       "</table>\n",
       "</div>"
      ],
      "text/plain": [
       "debt            0       1    All\n",
       "children                        \n",
       "0         13200.0  1072.0  14272\n",
       "1          4374.0   444.0   4818\n",
       "2          1861.0   194.0   2055\n",
       "3           303.0    27.0    330\n",
       "4            37.0     4.0     41\n",
       "5             9.0     NaN      9\n",
       "All       19784.0  1741.0  21525"
      ]
     },
     "execution_count": 22,
     "metadata": {},
     "output_type": "execute_result"
    }
   ],
   "source": [
    "df_children_pivot = df.pivot_table(index='children', columns='debt', values='purpose', aggfunc='count', margins=True)\n",
    "df_children_pivot"
   ]
  },
  {
   "cell_type": "markdown",
   "metadata": {},
   "source": [
    "Добавим новый столбец `debt_rate`, в котором рассчитаем процент задолженностей в каждой группе, и выведем итоговую таблицу на экран:"
   ]
  },
  {
   "cell_type": "code",
   "execution_count": 23,
   "metadata": {
    "scrolled": true
   },
   "outputs": [
    {
     "data": {
      "text/html": [
       "<div>\n",
       "<style scoped>\n",
       "    .dataframe tbody tr th:only-of-type {\n",
       "        vertical-align: middle;\n",
       "    }\n",
       "\n",
       "    .dataframe tbody tr th {\n",
       "        vertical-align: top;\n",
       "    }\n",
       "\n",
       "    .dataframe thead th {\n",
       "        text-align: right;\n",
       "    }\n",
       "</style>\n",
       "<table border=\"1\" class=\"dataframe\">\n",
       "  <thead>\n",
       "    <tr style=\"text-align: right;\">\n",
       "      <th>debt</th>\n",
       "      <th>0</th>\n",
       "      <th>1</th>\n",
       "      <th>All</th>\n",
       "      <th>debt_rate</th>\n",
       "    </tr>\n",
       "    <tr>\n",
       "      <th>children</th>\n",
       "      <th></th>\n",
       "      <th></th>\n",
       "      <th></th>\n",
       "      <th></th>\n",
       "    </tr>\n",
       "  </thead>\n",
       "  <tbody>\n",
       "    <tr>\n",
       "      <th>0</th>\n",
       "      <td>13200.0</td>\n",
       "      <td>1072.0</td>\n",
       "      <td>14272</td>\n",
       "      <td>7.511211</td>\n",
       "    </tr>\n",
       "    <tr>\n",
       "      <th>1</th>\n",
       "      <td>4374.0</td>\n",
       "      <td>444.0</td>\n",
       "      <td>4818</td>\n",
       "      <td>9.215442</td>\n",
       "    </tr>\n",
       "    <tr>\n",
       "      <th>2</th>\n",
       "      <td>1861.0</td>\n",
       "      <td>194.0</td>\n",
       "      <td>2055</td>\n",
       "      <td>9.440389</td>\n",
       "    </tr>\n",
       "    <tr>\n",
       "      <th>3</th>\n",
       "      <td>303.0</td>\n",
       "      <td>27.0</td>\n",
       "      <td>330</td>\n",
       "      <td>8.181818</td>\n",
       "    </tr>\n",
       "    <tr>\n",
       "      <th>4</th>\n",
       "      <td>37.0</td>\n",
       "      <td>4.0</td>\n",
       "      <td>41</td>\n",
       "      <td>9.756098</td>\n",
       "    </tr>\n",
       "    <tr>\n",
       "      <th>5</th>\n",
       "      <td>9.0</td>\n",
       "      <td>NaN</td>\n",
       "      <td>9</td>\n",
       "      <td>NaN</td>\n",
       "    </tr>\n",
       "    <tr>\n",
       "      <th>All</th>\n",
       "      <td>19784.0</td>\n",
       "      <td>1741.0</td>\n",
       "      <td>21525</td>\n",
       "      <td>8.088269</td>\n",
       "    </tr>\n",
       "  </tbody>\n",
       "</table>\n",
       "</div>"
      ],
      "text/plain": [
       "debt            0       1    All  debt_rate\n",
       "children                                   \n",
       "0         13200.0  1072.0  14272   7.511211\n",
       "1          4374.0   444.0   4818   9.215442\n",
       "2          1861.0   194.0   2055   9.440389\n",
       "3           303.0    27.0    330   8.181818\n",
       "4            37.0     4.0     41   9.756098\n",
       "5             9.0     NaN      9        NaN\n",
       "All       19784.0  1741.0  21525   8.088269"
      ]
     },
     "execution_count": 23,
     "metadata": {},
     "output_type": "execute_result"
    }
   ],
   "source": [
    "df_children_pivot['debt_rate'] = df_children_pivot[1]/df_children_pivot['All']*100\n",
    "df_children_pivot"
   ]
  },
  {
   "cell_type": "markdown",
   "metadata": {},
   "source": [
    "**Вывод**"
   ]
  },
  {
   "cell_type": "markdown",
   "metadata": {},
   "source": [
    "В результате мы увидели, что процент задолженностей незначительно, но все же увеличивается при наличии у клиента детей. \n",
    "\n",
    "Клиенты без детей являются должниками в 7.5% случаев. Далее процент должников растет при наличии 1 (9.2%) и 2 (9.4%) детей. Среди клиентов с тремя детьми должниками являются 8.2%, с четырьмя детьми - 9.8%. Среди клиентов с 5 детьми (таких в нашей выборке всего 9 человек) должники отсутствуют."
   ]
  },
  {
   "cell_type": "markdown",
   "metadata": {},
   "source": [
    "### Зависимость между семейным положением и возвратом кредита в срок"
   ]
  },
  {
   "cell_type": "markdown",
   "metadata": {},
   "source": [
    "Сначала посмотрим, на какие группы по семейному положению разбиты наши данные. Для этого сгруппируем df по столбцу `family_status_id` и выведем уникальные значения по столбцу `family_status`:"
   ]
  },
  {
   "cell_type": "code",
   "execution_count": 24,
   "metadata": {
    "scrolled": false
   },
   "outputs": [
    {
     "data": {
      "text/plain": [
       "family_status_id\n",
       "0          [женат / замужем]\n",
       "1         [гражданский брак]\n",
       "2           [вдовец / вдова]\n",
       "3                [в разводе]\n",
       "4    [Не женат / не замужем]\n",
       "Name: family_status, dtype: object"
      ]
     },
     "execution_count": 24,
     "metadata": {},
     "output_type": "execute_result"
    }
   ],
   "source": [
    "df.groupby('family_status_id')['family_status'].unique()"
   ]
  },
  {
   "cell_type": "markdown",
   "metadata": {},
   "source": [
    "Для выведения результатов создадим новый df `df_fam_status_pivot`.\n",
    "\n",
    "Воспользуемся методом `pivot_table` со следующими аргументами:\n",
    "- index= ['family_status_id','family_status'] – группируем данные по id и семейному статусу, столбцы `family_status_id` и `family_status`;\n",
    "- columns='debt' – значения, по которым происходит группировка, столбец `debt`;\n",
    "- values='purpose' – используем любой из столбцов df (в данном случае `purpose`), т.к. далее применяем `count`;\n",
    "- aggfunc='count' – применяемая функция `count`;\n",
    "- margins=True – получаем обобщенные значения по каждой группе."
   ]
  },
  {
   "cell_type": "code",
   "execution_count": 25,
   "metadata": {},
   "outputs": [
    {
     "data": {
      "text/html": [
       "<div>\n",
       "<style scoped>\n",
       "    .dataframe tbody tr th:only-of-type {\n",
       "        vertical-align: middle;\n",
       "    }\n",
       "\n",
       "    .dataframe tbody tr th {\n",
       "        vertical-align: top;\n",
       "    }\n",
       "\n",
       "    .dataframe thead th {\n",
       "        text-align: right;\n",
       "    }\n",
       "</style>\n",
       "<table border=\"1\" class=\"dataframe\">\n",
       "  <thead>\n",
       "    <tr style=\"text-align: right;\">\n",
       "      <th></th>\n",
       "      <th>debt</th>\n",
       "      <th>0</th>\n",
       "      <th>1</th>\n",
       "      <th>All</th>\n",
       "    </tr>\n",
       "    <tr>\n",
       "      <th>family_status_id</th>\n",
       "      <th>family_status</th>\n",
       "      <th></th>\n",
       "      <th></th>\n",
       "      <th></th>\n",
       "    </tr>\n",
       "  </thead>\n",
       "  <tbody>\n",
       "    <tr>\n",
       "      <th>0</th>\n",
       "      <th>женат / замужем</th>\n",
       "      <td>11449</td>\n",
       "      <td>931</td>\n",
       "      <td>12380</td>\n",
       "    </tr>\n",
       "    <tr>\n",
       "      <th>1</th>\n",
       "      <th>гражданский брак</th>\n",
       "      <td>3789</td>\n",
       "      <td>388</td>\n",
       "      <td>4177</td>\n",
       "    </tr>\n",
       "    <tr>\n",
       "      <th>2</th>\n",
       "      <th>вдовец / вдова</th>\n",
       "      <td>897</td>\n",
       "      <td>63</td>\n",
       "      <td>960</td>\n",
       "    </tr>\n",
       "    <tr>\n",
       "      <th>3</th>\n",
       "      <th>в разводе</th>\n",
       "      <td>1110</td>\n",
       "      <td>85</td>\n",
       "      <td>1195</td>\n",
       "    </tr>\n",
       "    <tr>\n",
       "      <th>4</th>\n",
       "      <th>Не женат / не замужем</th>\n",
       "      <td>2539</td>\n",
       "      <td>274</td>\n",
       "      <td>2813</td>\n",
       "    </tr>\n",
       "    <tr>\n",
       "      <th>All</th>\n",
       "      <th></th>\n",
       "      <td>19784</td>\n",
       "      <td>1741</td>\n",
       "      <td>21525</td>\n",
       "    </tr>\n",
       "  </tbody>\n",
       "</table>\n",
       "</div>"
      ],
      "text/plain": [
       "debt                                        0     1    All\n",
       "family_status_id family_status                            \n",
       "0                женат / замужем        11449   931  12380\n",
       "1                гражданский брак        3789   388   4177\n",
       "2                вдовец / вдова           897    63    960\n",
       "3                в разводе               1110    85   1195\n",
       "4                Не женат / не замужем   2539   274   2813\n",
       "All                                     19784  1741  21525"
      ]
     },
     "execution_count": 25,
     "metadata": {},
     "output_type": "execute_result"
    }
   ],
   "source": [
    "df_fam_status_pivot = df.pivot_table(\n",
    "    index=['family_status_id','family_status']\n",
    "    , columns='debt', values='purpose', aggfunc='count', margins=True)\n",
    "\n",
    "df_fam_status_pivot"
   ]
  },
  {
   "cell_type": "markdown",
   "metadata": {},
   "source": [
    "Добавим новый столбец `debt_rate`, в котором рассчитаем процент задолженностей в каждой группе, и выведем итоговую таблицу на экран:"
   ]
  },
  {
   "cell_type": "code",
   "execution_count": 26,
   "metadata": {},
   "outputs": [
    {
     "data": {
      "text/html": [
       "<div>\n",
       "<style scoped>\n",
       "    .dataframe tbody tr th:only-of-type {\n",
       "        vertical-align: middle;\n",
       "    }\n",
       "\n",
       "    .dataframe tbody tr th {\n",
       "        vertical-align: top;\n",
       "    }\n",
       "\n",
       "    .dataframe thead th {\n",
       "        text-align: right;\n",
       "    }\n",
       "</style>\n",
       "<table border=\"1\" class=\"dataframe\">\n",
       "  <thead>\n",
       "    <tr style=\"text-align: right;\">\n",
       "      <th></th>\n",
       "      <th>debt</th>\n",
       "      <th>0</th>\n",
       "      <th>1</th>\n",
       "      <th>All</th>\n",
       "      <th>debt_rate</th>\n",
       "    </tr>\n",
       "    <tr>\n",
       "      <th>family_status_id</th>\n",
       "      <th>family_status</th>\n",
       "      <th></th>\n",
       "      <th></th>\n",
       "      <th></th>\n",
       "      <th></th>\n",
       "    </tr>\n",
       "  </thead>\n",
       "  <tbody>\n",
       "    <tr>\n",
       "      <th>0</th>\n",
       "      <th>женат / замужем</th>\n",
       "      <td>11449</td>\n",
       "      <td>931</td>\n",
       "      <td>12380</td>\n",
       "      <td>7.520194</td>\n",
       "    </tr>\n",
       "    <tr>\n",
       "      <th>1</th>\n",
       "      <th>гражданский брак</th>\n",
       "      <td>3789</td>\n",
       "      <td>388</td>\n",
       "      <td>4177</td>\n",
       "      <td>9.288963</td>\n",
       "    </tr>\n",
       "    <tr>\n",
       "      <th>2</th>\n",
       "      <th>вдовец / вдова</th>\n",
       "      <td>897</td>\n",
       "      <td>63</td>\n",
       "      <td>960</td>\n",
       "      <td>6.562500</td>\n",
       "    </tr>\n",
       "    <tr>\n",
       "      <th>3</th>\n",
       "      <th>в разводе</th>\n",
       "      <td>1110</td>\n",
       "      <td>85</td>\n",
       "      <td>1195</td>\n",
       "      <td>7.112971</td>\n",
       "    </tr>\n",
       "    <tr>\n",
       "      <th>4</th>\n",
       "      <th>Не женат / не замужем</th>\n",
       "      <td>2539</td>\n",
       "      <td>274</td>\n",
       "      <td>2813</td>\n",
       "      <td>9.740491</td>\n",
       "    </tr>\n",
       "    <tr>\n",
       "      <th>All</th>\n",
       "      <th></th>\n",
       "      <td>19784</td>\n",
       "      <td>1741</td>\n",
       "      <td>21525</td>\n",
       "      <td>8.088269</td>\n",
       "    </tr>\n",
       "  </tbody>\n",
       "</table>\n",
       "</div>"
      ],
      "text/plain": [
       "debt                                        0     1    All  debt_rate\n",
       "family_status_id family_status                                       \n",
       "0                женат / замужем        11449   931  12380   7.520194\n",
       "1                гражданский брак        3789   388   4177   9.288963\n",
       "2                вдовец / вдова           897    63    960   6.562500\n",
       "3                в разводе               1110    85   1195   7.112971\n",
       "4                Не женат / не замужем   2539   274   2813   9.740491\n",
       "All                                     19784  1741  21525   8.088269"
      ]
     },
     "execution_count": 26,
     "metadata": {},
     "output_type": "execute_result"
    }
   ],
   "source": [
    "df_fam_status_pivot['debt_rate'] = df_fam_status_pivot[1]/df_fam_status_pivot['All']*100\n",
    "df_fam_status_pivot"
   ]
  },
  {
   "cell_type": "markdown",
   "metadata": {},
   "source": [
    "**Вывод**"
   ]
  },
  {
   "cell_type": "markdown",
   "metadata": {},
   "source": [
    "В результате мы увидели, что число задолженностей незначительно, но все же меняется в зависимости от семейного статуса клиента.\n",
    "\n",
    "Чаще имеют задолженности по кредитам клиенты с семейным статусом `гражданский брак` (задолженность в 9.3% случаев)  и `Не женат / не замужем` (задолженность в 9.7% случаев). Немного реже задолженности по кредитам имеют клиенты с семейным статусом `женат / замужем` (задолженность в 7.5% случаев)  и `в разводе` (задолженность в 7.1% случаев).  Реже всего имеют задолженность клиенты со статусом `вдовец / вдова` (задолженность в 6.6% случаев). "
   ]
  },
  {
   "cell_type": "markdown",
   "metadata": {},
   "source": [
    "### Зависимость между уровнем дохода и возвратом кредита в срок"
   ]
  },
  {
   "cell_type": "markdown",
   "metadata": {},
   "source": [
    "Ранее мы разделили доходы клиентов на 4 категории.\n",
    "\n",
    "Для выведения результатов создадим новый df `df_income_pivot`.\n",
    "\n",
    "Воспользуемся методом `pivot_table` со следующими аргументами:\n",
    "- index='total_income_group' – группируем данные по ранее выделенным категориям дохода, столбец `total_income_group`;\n",
    "- columns='debt' – значения, по которым происходит группировка, столбец `debt`;\n",
    "- values='purpose' – используем любой из столбцов df (в данном случае `purpose`), т.к. далее применяем `count`;\n",
    "- aggfunc='count' – применяемая функция `count`;\n",
    "- margins=True – получаем обобщенные значения по каждой группе."
   ]
  },
  {
   "cell_type": "code",
   "execution_count": 27,
   "metadata": {},
   "outputs": [
    {
     "data": {
      "text/html": [
       "<div>\n",
       "<style scoped>\n",
       "    .dataframe tbody tr th:only-of-type {\n",
       "        vertical-align: middle;\n",
       "    }\n",
       "\n",
       "    .dataframe tbody tr th {\n",
       "        vertical-align: top;\n",
       "    }\n",
       "\n",
       "    .dataframe thead th {\n",
       "        text-align: right;\n",
       "    }\n",
       "</style>\n",
       "<table border=\"1\" class=\"dataframe\">\n",
       "  <thead>\n",
       "    <tr style=\"text-align: right;\">\n",
       "      <th>debt</th>\n",
       "      <th>0</th>\n",
       "      <th>1</th>\n",
       "      <th>All</th>\n",
       "    </tr>\n",
       "    <tr>\n",
       "      <th>total_income_group</th>\n",
       "      <th></th>\n",
       "      <th></th>\n",
       "      <th></th>\n",
       "    </tr>\n",
       "  </thead>\n",
       "  <tbody>\n",
       "    <tr>\n",
       "      <th>0</th>\n",
       "      <td>4955</td>\n",
       "      <td>427</td>\n",
       "      <td>5382</td>\n",
       "    </tr>\n",
       "    <tr>\n",
       "      <th>1</th>\n",
       "      <td>5302</td>\n",
       "      <td>510</td>\n",
       "      <td>5812</td>\n",
       "    </tr>\n",
       "    <tr>\n",
       "      <th>2</th>\n",
       "      <td>4531</td>\n",
       "      <td>418</td>\n",
       "      <td>4949</td>\n",
       "    </tr>\n",
       "    <tr>\n",
       "      <th>3</th>\n",
       "      <td>4996</td>\n",
       "      <td>386</td>\n",
       "      <td>5382</td>\n",
       "    </tr>\n",
       "    <tr>\n",
       "      <th>All</th>\n",
       "      <td>19784</td>\n",
       "      <td>1741</td>\n",
       "      <td>21525</td>\n",
       "    </tr>\n",
       "  </tbody>\n",
       "</table>\n",
       "</div>"
      ],
      "text/plain": [
       "debt                    0     1    All\n",
       "total_income_group                    \n",
       "0                    4955   427   5382\n",
       "1                    5302   510   5812\n",
       "2                    4531   418   4949\n",
       "3                    4996   386   5382\n",
       "All                 19784  1741  21525"
      ]
     },
     "execution_count": 27,
     "metadata": {},
     "output_type": "execute_result"
    }
   ],
   "source": [
    "df_income_pivot = df.pivot_table(index='total_income_group', columns='debt', values='purpose', aggfunc='count', margins=True)\n",
    "df_income_pivot"
   ]
  },
  {
   "cell_type": "markdown",
   "metadata": {},
   "source": [
    "Добавим новый столбец `debt_rate`, в котором рассчитаем процент задолженностей в каждой группе, и выведем итоговую таблицу на экран:"
   ]
  },
  {
   "cell_type": "code",
   "execution_count": 28,
   "metadata": {},
   "outputs": [
    {
     "data": {
      "text/html": [
       "<div>\n",
       "<style scoped>\n",
       "    .dataframe tbody tr th:only-of-type {\n",
       "        vertical-align: middle;\n",
       "    }\n",
       "\n",
       "    .dataframe tbody tr th {\n",
       "        vertical-align: top;\n",
       "    }\n",
       "\n",
       "    .dataframe thead th {\n",
       "        text-align: right;\n",
       "    }\n",
       "</style>\n",
       "<table border=\"1\" class=\"dataframe\">\n",
       "  <thead>\n",
       "    <tr style=\"text-align: right;\">\n",
       "      <th>debt</th>\n",
       "      <th>0</th>\n",
       "      <th>1</th>\n",
       "      <th>All</th>\n",
       "      <th>debt_rate</th>\n",
       "    </tr>\n",
       "    <tr>\n",
       "      <th>total_income_group</th>\n",
       "      <th></th>\n",
       "      <th></th>\n",
       "      <th></th>\n",
       "      <th></th>\n",
       "    </tr>\n",
       "  </thead>\n",
       "  <tbody>\n",
       "    <tr>\n",
       "      <th>0</th>\n",
       "      <td>4955</td>\n",
       "      <td>427</td>\n",
       "      <td>5382</td>\n",
       "      <td>7.933854</td>\n",
       "    </tr>\n",
       "    <tr>\n",
       "      <th>1</th>\n",
       "      <td>5302</td>\n",
       "      <td>510</td>\n",
       "      <td>5812</td>\n",
       "      <td>8.774948</td>\n",
       "    </tr>\n",
       "    <tr>\n",
       "      <th>2</th>\n",
       "      <td>4531</td>\n",
       "      <td>418</td>\n",
       "      <td>4949</td>\n",
       "      <td>8.446151</td>\n",
       "    </tr>\n",
       "    <tr>\n",
       "      <th>3</th>\n",
       "      <td>4996</td>\n",
       "      <td>386</td>\n",
       "      <td>5382</td>\n",
       "      <td>7.172055</td>\n",
       "    </tr>\n",
       "    <tr>\n",
       "      <th>All</th>\n",
       "      <td>19784</td>\n",
       "      <td>1741</td>\n",
       "      <td>21525</td>\n",
       "      <td>8.088269</td>\n",
       "    </tr>\n",
       "  </tbody>\n",
       "</table>\n",
       "</div>"
      ],
      "text/plain": [
       "debt                    0     1    All  debt_rate\n",
       "total_income_group                               \n",
       "0                    4955   427   5382   7.933854\n",
       "1                    5302   510   5812   8.774948\n",
       "2                    4531   418   4949   8.446151\n",
       "3                    4996   386   5382   7.172055\n",
       "All                 19784  1741  21525   8.088269"
      ]
     },
     "execution_count": 28,
     "metadata": {},
     "output_type": "execute_result"
    }
   ],
   "source": [
    "df_income_pivot['debt_rate'] = df_income_pivot[1]/df_income_pivot['All']*100\n",
    "df_income_pivot"
   ]
  },
  {
   "cell_type": "markdown",
   "metadata": {},
   "source": [
    "**Вывод**"
   ]
  },
  {
   "cell_type": "markdown",
   "metadata": {},
   "source": [
    "В результате мы увидели, что число задолженностей незначительно, но все же меняется в зависимости от ежемесячного дохода клиента. \n",
    "\n",
    "Чаще всего имеют задолженности по кредитам клиенты с ежемесячным доходом от 107799 до 145017 - задолженность в 8.8% случаев. Реже всего задолженности по кредитам у клиентов с ежемесячным доходом более 195544 - задолженность в 7.2% случаев. Чуть чаще имеют задолженность клиенты с ежемесячным доходом менее 107798 (задолженность в 7.9% случаев) и клиенты ежемесячным доходом от 145018 до 195543 (задолженность в 8.4% случаев)."
   ]
  },
  {
   "cell_type": "markdown",
   "metadata": {},
   "source": [
    "### Зависимость цели кредита на его возврат в срок"
   ]
  },
  {
   "cell_type": "markdown",
   "metadata": {},
   "source": [
    "Ранее мы разделили цели получения кредита на 4 категории.\n",
    "\n",
    "Для выведения результатов создадим новый df `df_purpose_pivot`.\n",
    "\n",
    "Воспользуемся методом `pivot_table` со следующими аргументами:\n",
    "- index='total_purpose_group' – группируем данные по ранее выделенным категориям целей получения кредита, столбец `total_purpose_group`;\n",
    "- columns='debt' – значения, по которым происходит группировка, столбец `debt`;\n",
    "- values='purpose' – используем любой из столбцов df (в данном случае `purpose`), т.к. далее применяем `count`;\n",
    "- aggfunc='count' – применяемая функция `count`;\n",
    "- margins=True – получаем обобщенные значения по каждой группе."
   ]
  },
  {
   "cell_type": "code",
   "execution_count": 29,
   "metadata": {},
   "outputs": [
    {
     "data": {
      "text/html": [
       "<div>\n",
       "<style scoped>\n",
       "    .dataframe tbody tr th:only-of-type {\n",
       "        vertical-align: middle;\n",
       "    }\n",
       "\n",
       "    .dataframe tbody tr th {\n",
       "        vertical-align: top;\n",
       "    }\n",
       "\n",
       "    .dataframe thead th {\n",
       "        text-align: right;\n",
       "    }\n",
       "</style>\n",
       "<table border=\"1\" class=\"dataframe\">\n",
       "  <thead>\n",
       "    <tr style=\"text-align: right;\">\n",
       "      <th>debt</th>\n",
       "      <th>0</th>\n",
       "      <th>1</th>\n",
       "      <th>All</th>\n",
       "    </tr>\n",
       "    <tr>\n",
       "      <th>total_purpose_group</th>\n",
       "      <th></th>\n",
       "      <th></th>\n",
       "      <th></th>\n",
       "    </tr>\n",
       "  </thead>\n",
       "  <tbody>\n",
       "    <tr>\n",
       "      <th>0</th>\n",
       "      <td>2162</td>\n",
       "      <td>186</td>\n",
       "      <td>2348</td>\n",
       "    </tr>\n",
       "    <tr>\n",
       "      <th>1</th>\n",
       "      <td>3912</td>\n",
       "      <td>403</td>\n",
       "      <td>4315</td>\n",
       "    </tr>\n",
       "    <tr>\n",
       "      <th>2</th>\n",
       "      <td>3652</td>\n",
       "      <td>370</td>\n",
       "      <td>4022</td>\n",
       "    </tr>\n",
       "    <tr>\n",
       "      <th>3</th>\n",
       "      <td>10058</td>\n",
       "      <td>782</td>\n",
       "      <td>10840</td>\n",
       "    </tr>\n",
       "    <tr>\n",
       "      <th>All</th>\n",
       "      <td>19784</td>\n",
       "      <td>1741</td>\n",
       "      <td>21525</td>\n",
       "    </tr>\n",
       "  </tbody>\n",
       "</table>\n",
       "</div>"
      ],
      "text/plain": [
       "debt                     0     1    All\n",
       "total_purpose_group                    \n",
       "0                     2162   186   2348\n",
       "1                     3912   403   4315\n",
       "2                     3652   370   4022\n",
       "3                    10058   782  10840\n",
       "All                  19784  1741  21525"
      ]
     },
     "execution_count": 29,
     "metadata": {},
     "output_type": "execute_result"
    }
   ],
   "source": [
    "df_purpose_pivot = df.pivot_table(index='total_purpose_group', columns='debt', values='purpose', aggfunc='count', margins=True)\n",
    "df_purpose_pivot"
   ]
  },
  {
   "cell_type": "markdown",
   "metadata": {},
   "source": [
    "Добавим новый столбец `debt_rate`, в котором рассчитаем процент задолженностей в каждой группе, и выведем итоговую таблицу на экран:"
   ]
  },
  {
   "cell_type": "code",
   "execution_count": 30,
   "metadata": {},
   "outputs": [
    {
     "data": {
      "text/html": [
       "<div>\n",
       "<style scoped>\n",
       "    .dataframe tbody tr th:only-of-type {\n",
       "        vertical-align: middle;\n",
       "    }\n",
       "\n",
       "    .dataframe tbody tr th {\n",
       "        vertical-align: top;\n",
       "    }\n",
       "\n",
       "    .dataframe thead th {\n",
       "        text-align: right;\n",
       "    }\n",
       "</style>\n",
       "<table border=\"1\" class=\"dataframe\">\n",
       "  <thead>\n",
       "    <tr style=\"text-align: right;\">\n",
       "      <th>debt</th>\n",
       "      <th>0</th>\n",
       "      <th>1</th>\n",
       "      <th>All</th>\n",
       "      <th>debt_rate</th>\n",
       "    </tr>\n",
       "    <tr>\n",
       "      <th>total_purpose_group</th>\n",
       "      <th></th>\n",
       "      <th></th>\n",
       "      <th></th>\n",
       "      <th></th>\n",
       "    </tr>\n",
       "  </thead>\n",
       "  <tbody>\n",
       "    <tr>\n",
       "      <th>0</th>\n",
       "      <td>2162</td>\n",
       "      <td>186</td>\n",
       "      <td>2348</td>\n",
       "      <td>7.933854</td>\n",
       "    </tr>\n",
       "    <tr>\n",
       "      <th>1</th>\n",
       "      <td>3912</td>\n",
       "      <td>403</td>\n",
       "      <td>4315</td>\n",
       "      <td>8.774948</td>\n",
       "    </tr>\n",
       "    <tr>\n",
       "      <th>2</th>\n",
       "      <td>3652</td>\n",
       "      <td>370</td>\n",
       "      <td>4022</td>\n",
       "      <td>8.446151</td>\n",
       "    </tr>\n",
       "    <tr>\n",
       "      <th>3</th>\n",
       "      <td>10058</td>\n",
       "      <td>782</td>\n",
       "      <td>10840</td>\n",
       "      <td>7.172055</td>\n",
       "    </tr>\n",
       "    <tr>\n",
       "      <th>All</th>\n",
       "      <td>19784</td>\n",
       "      <td>1741</td>\n",
       "      <td>21525</td>\n",
       "      <td>8.088269</td>\n",
       "    </tr>\n",
       "  </tbody>\n",
       "</table>\n",
       "</div>"
      ],
      "text/plain": [
       "debt                     0     1    All  debt_rate\n",
       "total_purpose_group                               \n",
       "0                     2162   186   2348   7.933854\n",
       "1                     3912   403   4315   8.774948\n",
       "2                     3652   370   4022   8.446151\n",
       "3                    10058   782  10840   7.172055\n",
       "All                  19784  1741  21525   8.088269"
      ]
     },
     "execution_count": 30,
     "metadata": {},
     "output_type": "execute_result"
    }
   ],
   "source": [
    "df_purpose_pivot['debt_rate'] = df_income_pivot[1]/df_income_pivot['All']*100\n",
    "df_purpose_pivot"
   ]
  },
  {
   "cell_type": "markdown",
   "metadata": {},
   "source": [
    "**Вывод**"
   ]
  },
  {
   "cell_type": "markdown",
   "metadata": {},
   "source": [
    "В результате мы увидели, что число задолженностей незначительно, но все же меняется в зависимости от цели кредита. \n",
    "\n",
    "Чаще всего имеют задолженности по кредитам клиенты, цели кредита которых относятся к категориям `автомобиль` или `образование` - задолженность в 8.8% и 8.4% случаев соответственно. Реже задолженности по кредитам имеют клиенты, цели кредита которых относятся к категориям `свадьба` (задолженность в 7.9% случаев) или `недвижимость/жильё` (задолженность в 7.2% случаев)."
   ]
  },
  {
   "cell_type": "markdown",
   "metadata": {},
   "source": [
    "<a id=\"step4\"></a>\n",
    "## Общий вывод"
   ]
  },
  {
   "cell_type": "markdown",
   "metadata": {},
   "source": [
    "В первую очередь хотелось бы отметить, что по любой из выделенных нами категорий процент задолженностей составлял менее 10% (что, на мой взгляд, довольно неплохой показатель).\n",
    "\n",
    "Также хочется отметить, что разница между показателями процента задолженности в каждой из катерогий очень незначительная и не превышает максимум 3% по категории.\n",
    "\n",
    "Расположим клиентов в порядке возрастания вероятности задолженности по кредиту (т.е. чем больше число, тем больше вероятность, что клиент будет должником) в разных категориях:\n",
    "\n",
    "* Наличие/отсутствие детей:\n",
    "1. 5 детей.\n",
    "2. Дети отсутствуют.\n",
    "3. 3 детей.\n",
    "4. 1 ребенок.\n",
    "5. 2 детей.\n",
    "6. 4 детей.\n",
    "\n",
    "* Семейное положение:\n",
    "1. Вдовец / вдова.\n",
    "2. В разводе.\n",
    "3. Женат / замужем.\n",
    "4. Гражданский брак.\n",
    "5. Не женат / не замужем.\n",
    "\n",
    "* Ежемесячный доход:\n",
    "1. Более 195544.\n",
    "2. Менее 107798.\n",
    "3. От 145018 до 195543.\n",
    "4. От 107799 до 145017.\n",
    "\n",
    "* Цель кредита:\n",
    "1. Свадьба.\n",
    "2. Недвижимость/жильё.\n",
    "3. Образование.\n",
    "4. Автомобиль.\n"
   ]
  }
 ],
 "metadata": {
  "ExecuteTimeLog": [
   {
    "duration": 655,
    "start_time": "2022-01-20T10:08:15.168Z"
   },
   {
    "duration": 10,
    "start_time": "2022-01-20T12:13:20.196Z"
   },
   {
    "duration": 272,
    "start_time": "2022-01-20T13:44:39.889Z"
   },
   {
    "duration": 8,
    "start_time": "2022-01-20T13:44:48.799Z"
   },
   {
    "duration": 13,
    "start_time": "2022-01-20T13:46:12.666Z"
   },
   {
    "duration": 11,
    "start_time": "2022-01-20T14:08:34.380Z"
   },
   {
    "duration": 67,
    "start_time": "2022-01-20T14:09:05.023Z"
   },
   {
    "duration": 10,
    "start_time": "2022-01-20T14:09:16.116Z"
   },
   {
    "duration": 15,
    "start_time": "2022-01-20T14:10:41.233Z"
   },
   {
    "duration": 25,
    "start_time": "2022-01-20T14:13:04.787Z"
   },
   {
    "duration": 27,
    "start_time": "2022-01-20T14:16:44.199Z"
   },
   {
    "duration": 7,
    "start_time": "2022-01-20T14:32:23.289Z"
   },
   {
    "duration": 25,
    "start_time": "2022-01-20T14:49:03.005Z"
   },
   {
    "duration": 10,
    "start_time": "2022-01-20T14:49:27.961Z"
   },
   {
    "duration": 17,
    "start_time": "2022-01-20T14:49:57.565Z"
   },
   {
    "duration": 14,
    "start_time": "2022-01-20T14:50:31.936Z"
   },
   {
    "duration": 18,
    "start_time": "2022-01-20T14:51:08.893Z"
   },
   {
    "duration": 16,
    "start_time": "2022-01-20T14:51:45.367Z"
   },
   {
    "duration": 15,
    "start_time": "2022-01-20T14:55:24.236Z"
   },
   {
    "duration": 16,
    "start_time": "2022-01-20T14:55:39.542Z"
   },
   {
    "duration": 7,
    "start_time": "2022-01-20T15:08:28.086Z"
   },
   {
    "duration": 147,
    "start_time": "2022-01-20T15:27:01.424Z"
   },
   {
    "duration": 26,
    "start_time": "2022-01-20T15:32:31.175Z"
   },
   {
    "duration": 14,
    "start_time": "2022-01-20T15:36:13.014Z"
   },
   {
    "duration": 9,
    "start_time": "2022-01-20T15:36:20.674Z"
   },
   {
    "duration": 63,
    "start_time": "2022-01-20T15:36:46.475Z"
   },
   {
    "duration": 28,
    "start_time": "2022-01-20T15:36:46.561Z"
   },
   {
    "duration": 7,
    "start_time": "2022-01-20T15:36:46.590Z"
   },
   {
    "duration": 29,
    "start_time": "2022-01-20T15:36:46.603Z"
   },
   {
    "duration": 23,
    "start_time": "2022-01-20T15:36:46.634Z"
   },
   {
    "duration": 9,
    "start_time": "2022-01-20T15:36:46.672Z"
   },
   {
    "duration": 3,
    "start_time": "2022-01-20T15:38:55.001Z"
   },
   {
    "duration": 68,
    "start_time": "2022-01-20T15:39:03.321Z"
   },
   {
    "duration": 27,
    "start_time": "2022-01-20T15:39:03.390Z"
   },
   {
    "duration": 5,
    "start_time": "2022-01-20T15:39:03.419Z"
   },
   {
    "duration": 15,
    "start_time": "2022-01-20T15:39:03.426Z"
   },
   {
    "duration": 6,
    "start_time": "2022-01-20T15:39:03.443Z"
   },
   {
    "duration": 18,
    "start_time": "2022-01-20T15:39:03.451Z"
   },
   {
    "duration": 8,
    "start_time": "2022-01-20T15:46:51.814Z"
   },
   {
    "duration": 62,
    "start_time": "2022-01-20T15:46:59.118Z"
   },
   {
    "duration": 11,
    "start_time": "2022-01-20T15:47:02.275Z"
   },
   {
    "duration": 12,
    "start_time": "2022-01-20T15:49:37.691Z"
   },
   {
    "duration": 8,
    "start_time": "2022-01-20T15:50:20.189Z"
   },
   {
    "duration": 62,
    "start_time": "2022-01-20T15:50:25.248Z"
   },
   {
    "duration": 24,
    "start_time": "2022-01-20T15:50:25.312Z"
   },
   {
    "duration": 15,
    "start_time": "2022-01-20T15:50:25.337Z"
   },
   {
    "duration": 33,
    "start_time": "2022-01-20T15:50:25.354Z"
   },
   {
    "duration": 16,
    "start_time": "2022-01-20T15:50:25.389Z"
   },
   {
    "duration": 30,
    "start_time": "2022-01-20T15:50:25.406Z"
   },
   {
    "duration": 28,
    "start_time": "2022-01-20T15:50:25.438Z"
   },
   {
    "duration": 70,
    "start_time": "2022-01-20T15:51:35.633Z"
   },
   {
    "duration": 34,
    "start_time": "2022-01-20T15:51:35.706Z"
   },
   {
    "duration": 7,
    "start_time": "2022-01-20T15:51:35.742Z"
   },
   {
    "duration": 16,
    "start_time": "2022-01-20T15:51:35.751Z"
   },
   {
    "duration": 85,
    "start_time": "2022-01-20T15:51:35.769Z"
   },
   {
    "duration": 10,
    "start_time": "2022-01-20T15:51:35.856Z"
   },
   {
    "duration": 17,
    "start_time": "2022-01-20T15:51:35.867Z"
   },
   {
    "duration": 65,
    "start_time": "2022-01-20T15:52:15.309Z"
   },
   {
    "duration": 26,
    "start_time": "2022-01-20T15:52:15.376Z"
   },
   {
    "duration": 5,
    "start_time": "2022-01-20T15:52:15.405Z"
   },
   {
    "duration": 18,
    "start_time": "2022-01-20T15:52:15.412Z"
   },
   {
    "duration": 2,
    "start_time": "2022-01-20T15:52:15.432Z"
   },
   {
    "duration": 14,
    "start_time": "2022-01-20T15:52:15.436Z"
   },
   {
    "duration": 12,
    "start_time": "2022-01-20T15:52:15.451Z"
   },
   {
    "duration": 12,
    "start_time": "2022-01-20T15:52:43.059Z"
   },
   {
    "duration": 23,
    "start_time": "2022-01-20T15:53:03.476Z"
   },
   {
    "duration": 22,
    "start_time": "2022-01-20T15:53:17.312Z"
   },
   {
    "duration": 22,
    "start_time": "2022-01-20T15:53:33.414Z"
   },
   {
    "duration": 13,
    "start_time": "2022-01-20T15:53:54.993Z"
   },
   {
    "duration": 23,
    "start_time": "2022-01-20T15:54:24.424Z"
   },
   {
    "duration": 12,
    "start_time": "2022-01-20T15:54:36.780Z"
   },
   {
    "duration": 5,
    "start_time": "2022-01-20T15:57:28.805Z"
   },
   {
    "duration": 16,
    "start_time": "2022-01-20T15:57:34.445Z"
   },
   {
    "duration": 79,
    "start_time": "2022-01-20T15:57:51.783Z"
   },
   {
    "duration": 43,
    "start_time": "2022-01-20T15:57:51.864Z"
   },
   {
    "duration": 7,
    "start_time": "2022-01-20T15:57:51.909Z"
   },
   {
    "duration": 6,
    "start_time": "2022-01-20T15:57:51.918Z"
   },
   {
    "duration": 13,
    "start_time": "2022-01-20T15:57:51.926Z"
   },
   {
    "duration": 69,
    "start_time": "2022-01-20T15:58:26.163Z"
   },
   {
    "duration": 9,
    "start_time": "2022-01-20T15:58:26.234Z"
   },
   {
    "duration": 7,
    "start_time": "2022-01-20T15:58:26.245Z"
   },
   {
    "duration": 9,
    "start_time": "2022-01-20T15:58:26.253Z"
   },
   {
    "duration": 34,
    "start_time": "2022-01-20T15:58:26.263Z"
   },
   {
    "duration": 8,
    "start_time": "2022-01-20T16:09:58.243Z"
   },
   {
    "duration": 133,
    "start_time": "2022-01-20T16:10:29.746Z"
   },
   {
    "duration": 142,
    "start_time": "2022-01-20T16:10:34.133Z"
   },
   {
    "duration": 8,
    "start_time": "2022-01-20T16:10:57.026Z"
   },
   {
    "duration": 13,
    "start_time": "2022-01-20T16:12:07.563Z"
   },
   {
    "duration": 127,
    "start_time": "2022-01-20T16:12:41.176Z"
   },
   {
    "duration": 683,
    "start_time": "2022-01-20T16:12:45.526Z"
   },
   {
    "duration": 8,
    "start_time": "2022-01-20T16:13:02.970Z"
   },
   {
    "duration": 6,
    "start_time": "2022-01-20T16:13:09.301Z"
   },
   {
    "duration": 146,
    "start_time": "2022-01-20T16:13:29.676Z"
   },
   {
    "duration": 8,
    "start_time": "2022-01-20T16:13:53.103Z"
   },
   {
    "duration": 139,
    "start_time": "2022-01-20T16:14:29.493Z"
   },
   {
    "duration": 127,
    "start_time": "2022-01-20T16:15:16.870Z"
   },
   {
    "duration": 9,
    "start_time": "2022-01-20T16:15:37.260Z"
   },
   {
    "duration": 66,
    "start_time": "2022-01-20T16:15:56.237Z"
   },
   {
    "duration": 9,
    "start_time": "2022-01-20T16:15:56.305Z"
   },
   {
    "duration": 30,
    "start_time": "2022-01-20T16:15:56.316Z"
   },
   {
    "duration": 50,
    "start_time": "2022-01-20T16:15:56.347Z"
   },
   {
    "duration": 26,
    "start_time": "2022-01-20T16:15:56.399Z"
   },
   {
    "duration": 5,
    "start_time": "2022-01-20T16:16:26.885Z"
   },
   {
    "duration": 10,
    "start_time": "2022-01-20T16:16:29.717Z"
   },
   {
    "duration": 14,
    "start_time": "2022-01-20T17:54:21.858Z"
   },
   {
    "duration": 11,
    "start_time": "2022-01-20T17:54:44.066Z"
   },
   {
    "duration": 66,
    "start_time": "2022-01-20T17:54:52.853Z"
   },
   {
    "duration": 10,
    "start_time": "2022-01-20T17:54:52.921Z"
   },
   {
    "duration": 24,
    "start_time": "2022-01-20T17:54:52.933Z"
   },
   {
    "duration": 9,
    "start_time": "2022-01-20T17:54:52.959Z"
   },
   {
    "duration": 22,
    "start_time": "2022-01-20T17:54:52.970Z"
   },
   {
    "duration": 19,
    "start_time": "2022-01-20T18:01:35.999Z"
   },
   {
    "duration": 12,
    "start_time": "2022-01-20T18:07:34.369Z"
   },
   {
    "duration": 65,
    "start_time": "2022-01-20T18:07:55.993Z"
   },
   {
    "duration": 9,
    "start_time": "2022-01-20T18:07:56.060Z"
   },
   {
    "duration": 26,
    "start_time": "2022-01-20T18:07:56.071Z"
   },
   {
    "duration": 9,
    "start_time": "2022-01-20T18:07:56.099Z"
   },
   {
    "duration": 16,
    "start_time": "2022-01-20T18:07:56.109Z"
   },
   {
    "duration": 17,
    "start_time": "2022-01-20T18:07:56.126Z"
   },
   {
    "duration": 129,
    "start_time": "2022-01-20T18:08:55.987Z"
   },
   {
    "duration": 15,
    "start_time": "2022-01-20T18:10:44.099Z"
   },
   {
    "duration": 68,
    "start_time": "2022-01-20T18:10:49.548Z"
   },
   {
    "duration": 9,
    "start_time": "2022-01-20T18:10:49.617Z"
   },
   {
    "duration": 60,
    "start_time": "2022-01-20T18:10:49.627Z"
   },
   {
    "duration": 21,
    "start_time": "2022-01-20T18:10:49.689Z"
   },
   {
    "duration": 24,
    "start_time": "2022-01-20T18:10:49.711Z"
   },
   {
    "duration": 39,
    "start_time": "2022-01-20T18:10:49.737Z"
   },
   {
    "duration": 37,
    "start_time": "2022-01-20T18:11:31.689Z"
   },
   {
    "duration": 83,
    "start_time": "2022-01-20T18:11:55.818Z"
   },
   {
    "duration": 9,
    "start_time": "2022-01-20T18:11:55.903Z"
   },
   {
    "duration": 30,
    "start_time": "2022-01-20T18:11:55.914Z"
   },
   {
    "duration": 5,
    "start_time": "2022-01-20T18:11:55.946Z"
   },
   {
    "duration": 7,
    "start_time": "2022-01-20T18:11:55.952Z"
   },
   {
    "duration": 12,
    "start_time": "2022-01-20T18:11:55.960Z"
   },
   {
    "duration": 68,
    "start_time": "2022-01-20T18:12:53.194Z"
   },
   {
    "duration": 9,
    "start_time": "2022-01-20T18:12:53.264Z"
   },
   {
    "duration": 159,
    "start_time": "2022-01-20T18:12:53.275Z"
   },
   {
    "duration": 1778,
    "start_time": "2022-01-20T18:12:51.658Z"
   },
   {
    "duration": 1767,
    "start_time": "2022-01-20T18:12:51.670Z"
   },
   {
    "duration": 1763,
    "start_time": "2022-01-20T18:12:51.675Z"
   },
   {
    "duration": 65,
    "start_time": "2022-01-20T18:13:07.843Z"
   },
   {
    "duration": 9,
    "start_time": "2022-01-20T18:13:07.909Z"
   },
   {
    "duration": 62,
    "start_time": "2022-01-20T18:13:07.921Z"
   },
   {
    "duration": 7,
    "start_time": "2022-01-20T18:13:07.985Z"
   },
   {
    "duration": 38,
    "start_time": "2022-01-20T18:13:07.994Z"
   },
   {
    "duration": 28,
    "start_time": "2022-01-20T18:13:08.034Z"
   },
   {
    "duration": 55,
    "start_time": "2022-01-20T18:15:10.694Z"
   },
   {
    "duration": 24,
    "start_time": "2022-01-20T18:15:37.894Z"
   },
   {
    "duration": 77,
    "start_time": "2022-01-20T18:19:16.735Z"
   },
   {
    "duration": 9,
    "start_time": "2022-01-20T18:19:16.814Z"
   },
   {
    "duration": 42,
    "start_time": "2022-01-20T18:19:16.825Z"
   },
   {
    "duration": 5,
    "start_time": "2022-01-20T18:19:16.869Z"
   },
   {
    "duration": 6,
    "start_time": "2022-01-20T18:19:16.876Z"
   },
   {
    "duration": 19,
    "start_time": "2022-01-20T18:19:16.883Z"
   },
   {
    "duration": 31,
    "start_time": "2022-01-20T18:19:42.492Z"
   },
   {
    "duration": 12,
    "start_time": "2022-01-20T18:19:54.250Z"
   },
   {
    "duration": 66,
    "start_time": "2022-01-20T18:19:57.192Z"
   },
   {
    "duration": 9,
    "start_time": "2022-01-20T18:19:57.260Z"
   },
   {
    "duration": 31,
    "start_time": "2022-01-20T18:19:57.271Z"
   },
   {
    "duration": 5,
    "start_time": "2022-01-20T18:19:57.304Z"
   },
   {
    "duration": 22,
    "start_time": "2022-01-20T18:19:57.311Z"
   },
   {
    "duration": 18,
    "start_time": "2022-01-20T18:19:57.335Z"
   },
   {
    "duration": 13,
    "start_time": "2022-01-20T18:41:35.714Z"
   },
   {
    "duration": 4,
    "start_time": "2022-01-20T18:47:16.470Z"
   },
   {
    "duration": 20,
    "start_time": "2022-01-20T18:47:31.766Z"
   },
   {
    "duration": 12,
    "start_time": "2022-01-20T18:47:42.410Z"
   },
   {
    "duration": 137,
    "start_time": "2022-01-20T18:50:45.436Z"
   },
   {
    "duration": 18,
    "start_time": "2022-01-20T18:51:12.030Z"
   },
   {
    "duration": 7,
    "start_time": "2022-01-20T18:51:39.784Z"
   },
   {
    "duration": 147,
    "start_time": "2022-01-20T18:52:47.407Z"
   },
   {
    "duration": 20,
    "start_time": "2022-01-20T18:52:55.513Z"
   },
   {
    "duration": 21,
    "start_time": "2022-01-20T18:54:02.831Z"
   },
   {
    "duration": 27,
    "start_time": "2022-01-20T18:54:33.357Z"
   },
   {
    "duration": 38,
    "start_time": "2022-01-20T18:55:03.469Z"
   },
   {
    "duration": 7,
    "start_time": "2022-01-20T18:55:36.521Z"
   },
   {
    "duration": 5,
    "start_time": "2022-01-20T18:56:04.071Z"
   },
   {
    "duration": 54,
    "start_time": "2022-01-20T18:57:10.949Z"
   },
   {
    "duration": 21,
    "start_time": "2022-01-20T18:57:22.278Z"
   },
   {
    "duration": 36,
    "start_time": "2022-01-20T18:57:37.060Z"
   },
   {
    "duration": 21,
    "start_time": "2022-01-20T18:58:20.255Z"
   },
   {
    "duration": 20,
    "start_time": "2022-01-20T18:58:22.449Z"
   },
   {
    "duration": 8,
    "start_time": "2022-01-20T18:59:18.587Z"
   },
   {
    "duration": 8,
    "start_time": "2022-01-20T18:59:26.169Z"
   },
   {
    "duration": 36,
    "start_time": "2022-01-20T19:00:43.629Z"
   },
   {
    "duration": 1483,
    "start_time": "2022-01-20T19:09:30.382Z"
   },
   {
    "duration": 68,
    "start_time": "2022-01-20T19:09:50.767Z"
   },
   {
    "duration": 10,
    "start_time": "2022-01-20T19:09:50.837Z"
   },
   {
    "duration": 1058,
    "start_time": "2022-01-20T19:09:54.019Z"
   },
   {
    "duration": 949,
    "start_time": "2022-01-20T19:10:29.787Z"
   },
   {
    "duration": 939,
    "start_time": "2022-01-20T19:10:42.573Z"
   },
   {
    "duration": 1124,
    "start_time": "2022-01-20T19:10:55.435Z"
   },
   {
    "duration": 1145,
    "start_time": "2022-01-20T19:11:30.724Z"
   },
   {
    "duration": 916,
    "start_time": "2022-01-20T19:12:46.615Z"
   },
   {
    "duration": 900,
    "start_time": "2022-01-20T19:13:00.489Z"
   },
   {
    "duration": 3,
    "start_time": "2022-01-20T19:13:09.711Z"
   },
   {
    "duration": 126,
    "start_time": "2022-01-20T19:13:43.048Z"
   },
   {
    "duration": 3139,
    "start_time": "2022-01-20T19:19:19.761Z"
   },
   {
    "duration": 3569,
    "start_time": "2022-01-20T19:19:50.430Z"
   },
   {
    "duration": 3557,
    "start_time": "2022-01-20T19:19:59.712Z"
   },
   {
    "duration": 9,
    "start_time": "2022-01-20T19:20:38.968Z"
   },
   {
    "duration": 183,
    "start_time": "2022-01-20T19:20:52.169Z"
   },
   {
    "duration": 149,
    "start_time": "2022-01-20T19:21:40.879Z"
   },
   {
    "duration": 7,
    "start_time": "2022-01-20T19:21:48.852Z"
   },
   {
    "duration": 8,
    "start_time": "2022-01-20T19:22:05.300Z"
   },
   {
    "duration": 8,
    "start_time": "2022-01-20T19:22:30.857Z"
   },
   {
    "duration": 7,
    "start_time": "2022-01-20T19:23:45.559Z"
   },
   {
    "duration": 8,
    "start_time": "2022-01-20T19:24:29.433Z"
   },
   {
    "duration": 8,
    "start_time": "2022-01-20T19:32:07.434Z"
   },
   {
    "duration": 11,
    "start_time": "2022-01-20T19:32:10.676Z"
   },
   {
    "duration": 77,
    "start_time": "2022-01-20T19:50:47.622Z"
   },
   {
    "duration": 8,
    "start_time": "2022-01-20T19:52:24.055Z"
   },
   {
    "duration": 7,
    "start_time": "2022-01-20T19:53:57.094Z"
   },
   {
    "duration": 64,
    "start_time": "2022-01-20T19:55:06.814Z"
   },
   {
    "duration": 9,
    "start_time": "2022-01-20T19:55:06.879Z"
   },
   {
    "duration": 67,
    "start_time": "2022-01-20T19:55:06.890Z"
   },
   {
    "duration": 6,
    "start_time": "2022-01-20T19:55:06.959Z"
   },
   {
    "duration": 16,
    "start_time": "2022-01-20T19:55:06.967Z"
   },
   {
    "duration": 4,
    "start_time": "2022-01-20T19:55:06.985Z"
   },
   {
    "duration": 13,
    "start_time": "2022-01-20T19:55:06.991Z"
   },
   {
    "duration": 12,
    "start_time": "2022-01-20T19:55:07.006Z"
   },
   {
    "duration": 20,
    "start_time": "2022-01-20T19:55:09.021Z"
   },
   {
    "duration": 38,
    "start_time": "2022-01-20T19:55:11.414Z"
   },
   {
    "duration": 14,
    "start_time": "2022-01-20T19:55:24.124Z"
   },
   {
    "duration": 10,
    "start_time": "2022-01-20T19:58:17.168Z"
   },
   {
    "duration": 10,
    "start_time": "2022-01-20T19:58:27.542Z"
   },
   {
    "duration": 11,
    "start_time": "2022-01-20T19:59:20.514Z"
   },
   {
    "duration": 11,
    "start_time": "2022-01-20T19:59:23.411Z"
   },
   {
    "duration": 64,
    "start_time": "2022-01-20T19:59:33.334Z"
   },
   {
    "duration": 9,
    "start_time": "2022-01-20T19:59:33.400Z"
   },
   {
    "duration": 26,
    "start_time": "2022-01-20T19:59:33.411Z"
   },
   {
    "duration": 5,
    "start_time": "2022-01-20T19:59:33.439Z"
   },
   {
    "duration": 16,
    "start_time": "2022-01-20T19:59:33.446Z"
   },
   {
    "duration": 4,
    "start_time": "2022-01-20T19:59:33.463Z"
   },
   {
    "duration": 10,
    "start_time": "2022-01-20T19:59:33.497Z"
   },
   {
    "duration": 21,
    "start_time": "2022-01-20T19:59:33.509Z"
   },
   {
    "duration": 21,
    "start_time": "2022-01-20T19:59:33.531Z"
   },
   {
    "duration": 60,
    "start_time": "2022-01-20T19:59:33.554Z"
   },
   {
    "duration": 12,
    "start_time": "2022-01-20T19:59:35.712Z"
   },
   {
    "duration": 821,
    "start_time": "2022-01-21T08:23:37.669Z"
   },
   {
    "duration": 13,
    "start_time": "2022-01-21T08:23:38.493Z"
   },
   {
    "duration": 57,
    "start_time": "2022-01-21T08:23:38.509Z"
   },
   {
    "duration": 7,
    "start_time": "2022-01-21T08:23:38.569Z"
   },
   {
    "duration": 21,
    "start_time": "2022-01-21T08:23:38.578Z"
   },
   {
    "duration": 31,
    "start_time": "2022-01-21T08:23:38.601Z"
   },
   {
    "duration": 17,
    "start_time": "2022-01-21T08:23:38.634Z"
   },
   {
    "duration": 18,
    "start_time": "2022-01-21T08:23:38.655Z"
   },
   {
    "duration": 70,
    "start_time": "2022-01-21T08:23:38.676Z"
   },
   {
    "duration": 57,
    "start_time": "2022-01-21T08:23:38.748Z"
   },
   {
    "duration": 99,
    "start_time": "2022-01-21T08:23:53.838Z"
   },
   {
    "duration": 12,
    "start_time": "2022-01-21T08:23:53.940Z"
   },
   {
    "duration": 38,
    "start_time": "2022-01-21T08:23:53.955Z"
   },
   {
    "duration": 36,
    "start_time": "2022-01-21T08:23:53.996Z"
   },
   {
    "duration": 19,
    "start_time": "2022-01-21T08:23:54.034Z"
   },
   {
    "duration": 5,
    "start_time": "2022-01-21T08:23:54.056Z"
   },
   {
    "duration": 17,
    "start_time": "2022-01-21T08:23:54.064Z"
   },
   {
    "duration": 57,
    "start_time": "2022-01-21T08:23:54.084Z"
   },
   {
    "duration": 34,
    "start_time": "2022-01-21T08:23:54.143Z"
   },
   {
    "duration": 82,
    "start_time": "2022-01-21T08:23:54.180Z"
   },
   {
    "duration": 9,
    "start_time": "2022-01-21T08:23:56.081Z"
   },
   {
    "duration": 6,
    "start_time": "2022-01-21T08:24:01.459Z"
   },
   {
    "duration": 10,
    "start_time": "2022-01-21T08:25:03.923Z"
   },
   {
    "duration": 7,
    "start_time": "2022-01-21T08:25:21.131Z"
   },
   {
    "duration": 6,
    "start_time": "2022-01-21T08:25:40.328Z"
   },
   {
    "duration": 10,
    "start_time": "2022-01-21T08:25:52.057Z"
   },
   {
    "duration": 7,
    "start_time": "2022-01-21T08:26:03.477Z"
   },
   {
    "duration": 7,
    "start_time": "2022-01-21T08:26:17.097Z"
   },
   {
    "duration": 7,
    "start_time": "2022-01-21T08:26:27.534Z"
   },
   {
    "duration": 7,
    "start_time": "2022-01-21T08:26:39.287Z"
   },
   {
    "duration": 7,
    "start_time": "2022-01-21T08:26:50.705Z"
   },
   {
    "duration": 7,
    "start_time": "2022-01-21T08:26:59.332Z"
   },
   {
    "duration": 6,
    "start_time": "2022-01-21T08:27:10.432Z"
   },
   {
    "duration": 9,
    "start_time": "2022-01-21T08:27:20.510Z"
   },
   {
    "duration": 19,
    "start_time": "2022-01-21T08:29:00.795Z"
   },
   {
    "duration": 37,
    "start_time": "2022-01-21T08:29:25.523Z"
   },
   {
    "duration": 1433,
    "start_time": "2022-01-21T08:39:10.063Z"
   },
   {
    "duration": 89,
    "start_time": "2022-01-21T08:39:20.649Z"
   },
   {
    "duration": 13,
    "start_time": "2022-01-21T08:39:20.741Z"
   },
   {
    "duration": 40,
    "start_time": "2022-01-21T08:39:20.757Z"
   },
   {
    "duration": 8,
    "start_time": "2022-01-21T08:39:20.800Z"
   },
   {
    "duration": 22,
    "start_time": "2022-01-21T08:39:20.833Z"
   },
   {
    "duration": 6,
    "start_time": "2022-01-21T08:39:20.858Z"
   },
   {
    "duration": 18,
    "start_time": "2022-01-21T08:39:20.866Z"
   },
   {
    "duration": 1211,
    "start_time": "2022-01-21T08:39:22.690Z"
   },
   {
    "duration": 1185,
    "start_time": "2022-01-21T08:54:35.428Z"
   },
   {
    "duration": 32,
    "start_time": "2022-01-21T08:54:46.045Z"
   },
   {
    "duration": 17,
    "start_time": "2022-01-21T08:55:04.067Z"
   },
   {
    "duration": 86,
    "start_time": "2022-01-21T08:56:14.214Z"
   },
   {
    "duration": 13,
    "start_time": "2022-01-21T08:56:14.302Z"
   },
   {
    "duration": 41,
    "start_time": "2022-01-21T08:56:14.334Z"
   },
   {
    "duration": 8,
    "start_time": "2022-01-21T08:56:14.378Z"
   },
   {
    "duration": 49,
    "start_time": "2022-01-21T08:56:14.388Z"
   },
   {
    "duration": 5,
    "start_time": "2022-01-21T08:56:14.439Z"
   },
   {
    "duration": 13,
    "start_time": "2022-01-21T08:56:14.447Z"
   },
   {
    "duration": 30,
    "start_time": "2022-01-21T08:56:16.274Z"
   },
   {
    "duration": 18,
    "start_time": "2022-01-21T08:56:20.078Z"
   },
   {
    "duration": 83,
    "start_time": "2022-01-21T08:57:36.766Z"
   },
   {
    "duration": 11,
    "start_time": "2022-01-21T08:57:36.852Z"
   },
   {
    "duration": 36,
    "start_time": "2022-01-21T08:57:36.866Z"
   },
   {
    "duration": 24,
    "start_time": "2022-01-21T08:58:07.079Z"
   },
   {
    "duration": 18,
    "start_time": "2022-01-21T08:58:38.969Z"
   },
   {
    "duration": 85,
    "start_time": "2022-01-21T08:58:48.755Z"
   },
   {
    "duration": 13,
    "start_time": "2022-01-21T08:58:48.843Z"
   },
   {
    "duration": 41,
    "start_time": "2022-01-21T08:58:48.860Z"
   },
   {
    "duration": 8,
    "start_time": "2022-01-21T08:58:48.932Z"
   },
   {
    "duration": 19,
    "start_time": "2022-01-21T08:58:48.943Z"
   },
   {
    "duration": 6,
    "start_time": "2022-01-21T08:58:48.964Z"
   },
   {
    "duration": 14,
    "start_time": "2022-01-21T08:58:48.972Z"
   },
   {
    "duration": 10,
    "start_time": "2022-01-21T08:58:54.526Z"
   },
   {
    "duration": 88,
    "start_time": "2022-01-21T09:01:16.844Z"
   },
   {
    "duration": 15,
    "start_time": "2022-01-21T09:01:16.935Z"
   },
   {
    "duration": 40,
    "start_time": "2022-01-21T09:01:16.954Z"
   },
   {
    "duration": 37,
    "start_time": "2022-01-21T09:01:16.997Z"
   },
   {
    "duration": 19,
    "start_time": "2022-01-21T09:01:17.038Z"
   },
   {
    "duration": 5,
    "start_time": "2022-01-21T09:01:17.060Z"
   },
   {
    "duration": 89,
    "start_time": "2022-01-21T09:01:26.676Z"
   },
   {
    "duration": 13,
    "start_time": "2022-01-21T09:01:26.768Z"
   },
   {
    "duration": 62,
    "start_time": "2022-01-21T09:01:26.784Z"
   },
   {
    "duration": 5,
    "start_time": "2022-01-21T09:01:26.848Z"
   },
   {
    "duration": 21,
    "start_time": "2022-01-21T09:01:26.855Z"
   },
   {
    "duration": 6,
    "start_time": "2022-01-21T09:01:26.878Z"
   },
   {
    "duration": 48,
    "start_time": "2022-01-21T09:01:26.886Z"
   },
   {
    "duration": 12,
    "start_time": "2022-01-21T09:01:26.938Z"
   },
   {
    "duration": 16,
    "start_time": "2022-01-21T09:01:26.954Z"
   },
   {
    "duration": 64,
    "start_time": "2022-01-21T09:01:26.973Z"
   },
   {
    "duration": 52,
    "start_time": "2022-01-21T09:01:37.949Z"
   },
   {
    "duration": 9,
    "start_time": "2022-01-21T09:01:48.694Z"
   },
   {
    "duration": 91,
    "start_time": "2022-01-21T09:02:24.392Z"
   },
   {
    "duration": 13,
    "start_time": "2022-01-21T09:02:24.485Z"
   },
   {
    "duration": 58,
    "start_time": "2022-01-21T09:02:24.501Z"
   },
   {
    "duration": 5,
    "start_time": "2022-01-21T09:02:24.561Z"
   },
   {
    "duration": 22,
    "start_time": "2022-01-21T09:02:24.569Z"
   },
   {
    "duration": 40,
    "start_time": "2022-01-21T09:02:24.594Z"
   },
   {
    "duration": 14,
    "start_time": "2022-01-21T09:02:24.636Z"
   },
   {
    "duration": 21,
    "start_time": "2022-01-21T09:02:24.653Z"
   },
   {
    "duration": 29,
    "start_time": "2022-01-21T09:02:56.771Z"
   },
   {
    "duration": 5,
    "start_time": "2022-01-21T09:03:45.960Z"
   },
   {
    "duration": 5,
    "start_time": "2022-01-21T09:03:52.718Z"
   },
   {
    "duration": 13,
    "start_time": "2022-01-21T09:03:54.448Z"
   },
   {
    "duration": 30,
    "start_time": "2022-01-21T09:04:01.512Z"
   },
   {
    "duration": 6,
    "start_time": "2022-01-21T09:16:42.481Z"
   },
   {
    "duration": 418,
    "start_time": "2022-01-21T09:17:30.555Z"
   },
   {
    "duration": 8,
    "start_time": "2022-01-21T09:18:10.243Z"
   },
   {
    "duration": 295,
    "start_time": "2022-01-21T09:18:14.582Z"
   },
   {
    "duration": 302,
    "start_time": "2022-01-21T09:18:54.792Z"
   },
   {
    "duration": 300,
    "start_time": "2022-01-21T09:19:44.268Z"
   },
   {
    "duration": 8,
    "start_time": "2022-01-21T09:19:51.042Z"
   },
   {
    "duration": 9,
    "start_time": "2022-01-21T09:22:04.680Z"
   },
   {
    "duration": 11,
    "start_time": "2022-01-21T09:22:15.955Z"
   },
   {
    "duration": 10,
    "start_time": "2022-01-21T09:22:34.632Z"
   },
   {
    "duration": 10,
    "start_time": "2022-01-21T09:22:50.493Z"
   },
   {
    "duration": 86,
    "start_time": "2022-01-21T09:24:46.115Z"
   },
   {
    "duration": 10,
    "start_time": "2022-01-21T09:24:46.204Z"
   },
   {
    "duration": 50,
    "start_time": "2022-01-21T09:24:46.217Z"
   },
   {
    "duration": 7,
    "start_time": "2022-01-21T09:24:46.270Z"
   },
   {
    "duration": 22,
    "start_time": "2022-01-21T09:24:46.279Z"
   },
   {
    "duration": 6,
    "start_time": "2022-01-21T09:24:46.333Z"
   },
   {
    "duration": 12,
    "start_time": "2022-01-21T09:24:46.344Z"
   },
   {
    "duration": 31,
    "start_time": "2022-01-21T09:24:46.362Z"
   },
   {
    "duration": 43,
    "start_time": "2022-01-21T09:24:46.396Z"
   },
   {
    "duration": 25,
    "start_time": "2022-01-21T09:24:46.441Z"
   },
   {
    "duration": 60,
    "start_time": "2022-01-21T09:24:49.641Z"
   },
   {
    "duration": 9,
    "start_time": "2022-01-21T09:38:08.276Z"
   },
   {
    "duration": 33,
    "start_time": "2022-01-21T09:39:40.918Z"
   },
   {
    "duration": 84,
    "start_time": "2022-01-21T09:45:57.561Z"
   },
   {
    "duration": 12,
    "start_time": "2022-01-21T09:45:57.647Z"
   },
   {
    "duration": 37,
    "start_time": "2022-01-21T09:45:57.662Z"
   },
   {
    "duration": 4,
    "start_time": "2022-01-21T09:45:57.735Z"
   },
   {
    "duration": 16,
    "start_time": "2022-01-21T09:45:57.788Z"
   },
   {
    "duration": 5,
    "start_time": "2022-01-21T09:45:57.828Z"
   },
   {
    "duration": 86,
    "start_time": "2022-01-21T09:46:22.737Z"
   },
   {
    "duration": 12,
    "start_time": "2022-01-21T09:46:22.826Z"
   },
   {
    "duration": 42,
    "start_time": "2022-01-21T09:46:22.840Z"
   },
   {
    "duration": 4,
    "start_time": "2022-01-21T09:46:22.904Z"
   },
   {
    "duration": 15,
    "start_time": "2022-01-21T09:46:22.943Z"
   },
   {
    "duration": 5,
    "start_time": "2022-01-21T09:46:22.987Z"
   },
   {
    "duration": 13,
    "start_time": "2022-01-21T09:46:23.018Z"
   },
   {
    "duration": 32,
    "start_time": "2022-01-21T09:46:28.453Z"
   },
   {
    "duration": 15,
    "start_time": "2022-01-21T09:46:36.945Z"
   },
   {
    "duration": 25,
    "start_time": "2022-01-21T09:49:17.764Z"
   },
   {
    "duration": 51,
    "start_time": "2022-01-21T09:49:18.851Z"
   },
   {
    "duration": 12,
    "start_time": "2022-01-21T09:53:23.690Z"
   },
   {
    "duration": 5,
    "start_time": "2022-01-21T09:54:01.334Z"
   },
   {
    "duration": 5,
    "start_time": "2022-01-21T09:54:03.296Z"
   },
   {
    "duration": 7,
    "start_time": "2022-01-21T09:54:11.321Z"
   },
   {
    "duration": 7,
    "start_time": "2022-01-21T09:58:17.401Z"
   },
   {
    "duration": 7,
    "start_time": "2022-01-21T09:58:20.506Z"
   },
   {
    "duration": 7,
    "start_time": "2022-01-21T09:58:31.213Z"
   },
   {
    "duration": 7,
    "start_time": "2022-01-21T09:58:43.571Z"
   },
   {
    "duration": 8,
    "start_time": "2022-01-21T09:58:59.651Z"
   },
   {
    "duration": 13,
    "start_time": "2022-01-21T10:07:30.575Z"
   },
   {
    "duration": 24,
    "start_time": "2022-01-21T10:07:49.244Z"
   },
   {
    "duration": 25,
    "start_time": "2022-01-21T10:08:32.474Z"
   },
   {
    "duration": 295,
    "start_time": "2022-01-21T10:08:53.340Z"
   },
   {
    "duration": 32,
    "start_time": "2022-01-21T10:09:32.824Z"
   },
   {
    "duration": 10,
    "start_time": "2022-01-21T10:20:11.377Z"
   },
   {
    "duration": 10,
    "start_time": "2022-01-21T10:20:32.780Z"
   },
   {
    "duration": 9,
    "start_time": "2022-01-21T10:20:50.112Z"
   },
   {
    "duration": 8,
    "start_time": "2022-01-21T10:21:13.369Z"
   },
   {
    "duration": 9,
    "start_time": "2022-01-21T10:21:28.297Z"
   },
   {
    "duration": 10,
    "start_time": "2022-01-21T10:26:40.774Z"
   },
   {
    "duration": 50,
    "start_time": "2022-01-21T11:34:54.025Z"
   },
   {
    "duration": 345,
    "start_time": "2022-01-21T11:36:05.917Z"
   },
   {
    "duration": 296,
    "start_time": "2022-01-21T11:38:18.108Z"
   },
   {
    "duration": 3,
    "start_time": "2022-01-21T11:38:26.350Z"
   },
   {
    "duration": 1014,
    "start_time": "2022-01-21T11:39:24.729Z"
   },
   {
    "duration": 209,
    "start_time": "2022-01-21T11:40:08.942Z"
   },
   {
    "duration": 389,
    "start_time": "2022-01-21T11:40:31.078Z"
   },
   {
    "duration": 982,
    "start_time": "2022-01-21T11:42:29.965Z"
   },
   {
    "duration": 6,
    "start_time": "2022-01-21T11:49:42.554Z"
   },
   {
    "duration": 8,
    "start_time": "2022-01-21T11:49:50.008Z"
   },
   {
    "duration": 11,
    "start_time": "2022-01-21T11:50:11.048Z"
   },
   {
    "duration": 8,
    "start_time": "2022-01-21T11:50:59.176Z"
   },
   {
    "duration": 11,
    "start_time": "2022-01-21T11:51:09.049Z"
   },
   {
    "duration": 39,
    "start_time": "2022-01-21T11:52:58.084Z"
   },
   {
    "duration": 336,
    "start_time": "2022-01-21T11:53:15.185Z"
   },
   {
    "duration": 2194,
    "start_time": "2022-01-21T11:54:02.560Z"
   },
   {
    "duration": 11,
    "start_time": "2022-01-21T11:54:41.029Z"
   },
   {
    "duration": 14,
    "start_time": "2022-01-21T11:55:15.755Z"
   },
   {
    "duration": 11,
    "start_time": "2022-01-21T11:55:23.717Z"
   },
   {
    "duration": 12,
    "start_time": "2022-01-21T11:55:58.128Z"
   },
   {
    "duration": 14,
    "start_time": "2022-01-21T11:56:20.010Z"
   },
   {
    "duration": 12,
    "start_time": "2022-01-21T11:56:36.417Z"
   },
   {
    "duration": 86,
    "start_time": "2022-01-21T11:56:52.285Z"
   },
   {
    "duration": 10,
    "start_time": "2022-01-21T11:57:11.260Z"
   },
   {
    "duration": 11,
    "start_time": "2022-01-21T11:57:33.105Z"
   },
   {
    "duration": 10,
    "start_time": "2022-01-21T11:57:35.792Z"
   },
   {
    "duration": 10,
    "start_time": "2022-01-21T11:58:52.177Z"
   },
   {
    "duration": 86,
    "start_time": "2022-01-21T11:59:18.170Z"
   },
   {
    "duration": 3,
    "start_time": "2022-01-21T11:59:18.259Z"
   },
   {
    "duration": 21,
    "start_time": "2022-01-21T11:59:18.265Z"
   },
   {
    "duration": 40,
    "start_time": "2022-01-21T11:59:18.343Z"
   },
   {
    "duration": 5,
    "start_time": "2022-01-21T11:59:18.389Z"
   },
   {
    "duration": 16,
    "start_time": "2022-01-21T11:59:18.443Z"
   },
   {
    "duration": 6,
    "start_time": "2022-01-21T11:59:18.496Z"
   },
   {
    "duration": 13,
    "start_time": "2022-01-21T11:59:18.557Z"
   },
   {
    "duration": 31,
    "start_time": "2022-01-21T11:59:18.607Z"
   },
   {
    "duration": 14,
    "start_time": "2022-01-21T11:59:18.649Z"
   },
   {
    "duration": 22,
    "start_time": "2022-01-21T11:59:19.106Z"
   },
   {
    "duration": 49,
    "start_time": "2022-01-21T11:59:19.209Z"
   },
   {
    "duration": 3942,
    "start_time": "2022-01-21T11:59:19.387Z"
   },
   {
    "duration": 2002,
    "start_time": "2022-01-21T11:59:21.330Z"
   },
   {
    "duration": 1974,
    "start_time": "2022-01-21T11:59:21.360Z"
   },
   {
    "duration": 1972,
    "start_time": "2022-01-21T11:59:21.363Z"
   },
   {
    "duration": 1971,
    "start_time": "2022-01-21T11:59:21.366Z"
   },
   {
    "duration": 1968,
    "start_time": "2022-01-21T11:59:21.370Z"
   },
   {
    "duration": 1922,
    "start_time": "2022-01-21T11:59:21.418Z"
   },
   {
    "duration": 8,
    "start_time": "2022-01-21T12:00:34.754Z"
   },
   {
    "duration": 37,
    "start_time": "2022-01-21T12:00:44.594Z"
   },
   {
    "duration": 11,
    "start_time": "2022-01-21T12:01:03.056Z"
   },
   {
    "duration": 89,
    "start_time": "2022-01-21T12:01:16.058Z"
   },
   {
    "duration": 10,
    "start_time": "2022-01-21T12:01:21.139Z"
   },
   {
    "duration": 85,
    "start_time": "2022-01-21T12:01:33.889Z"
   },
   {
    "duration": 3,
    "start_time": "2022-01-21T12:01:45.156Z"
   },
   {
    "duration": 13,
    "start_time": "2022-01-21T12:01:58.220Z"
   },
   {
    "duration": 16,
    "start_time": "2022-01-21T12:02:09.282Z"
   },
   {
    "duration": 50,
    "start_time": "2022-01-21T12:02:10.931Z"
   },
   {
    "duration": 10,
    "start_time": "2022-01-21T12:02:16.505Z"
   },
   {
    "duration": 3,
    "start_time": "2022-01-21T12:02:24.416Z"
   },
   {
    "duration": 5,
    "start_time": "2022-01-21T12:02:31.582Z"
   },
   {
    "duration": 10,
    "start_time": "2022-01-21T12:02:49.875Z"
   },
   {
    "duration": 3,
    "start_time": "2022-01-21T12:02:55.933Z"
   },
   {
    "duration": 6,
    "start_time": "2022-01-21T12:03:13.016Z"
   },
   {
    "duration": 15,
    "start_time": "2022-01-21T12:03:14.497Z"
   },
   {
    "duration": 11,
    "start_time": "2022-01-21T12:03:19.091Z"
   },
   {
    "duration": 4,
    "start_time": "2022-01-21T12:03:24.443Z"
   },
   {
    "duration": 33,
    "start_time": "2022-01-21T12:03:32.699Z"
   },
   {
    "duration": 10,
    "start_time": "2022-01-21T12:03:38.103Z"
   },
   {
    "duration": 3,
    "start_time": "2022-01-21T12:03:43.091Z"
   },
   {
    "duration": 17,
    "start_time": "2022-01-21T12:03:45.091Z"
   },
   {
    "duration": 24,
    "start_time": "2022-01-21T12:03:57.355Z"
   },
   {
    "duration": 11,
    "start_time": "2022-01-21T12:04:00.597Z"
   },
   {
    "duration": 3,
    "start_time": "2022-01-21T12:04:05.642Z"
   },
   {
    "duration": 51,
    "start_time": "2022-01-21T12:04:14.190Z"
   },
   {
    "duration": 11,
    "start_time": "2022-01-21T12:04:19.329Z"
   },
   {
    "duration": 3,
    "start_time": "2022-01-21T12:04:24.380Z"
   },
   {
    "duration": 8,
    "start_time": "2022-01-21T12:04:33.397Z"
   },
   {
    "duration": 34,
    "start_time": "2022-01-21T12:04:41.393Z"
   },
   {
    "duration": 10,
    "start_time": "2022-01-21T12:04:44.932Z"
   },
   {
    "duration": 86,
    "start_time": "2022-01-21T12:06:03.079Z"
   },
   {
    "duration": 12,
    "start_time": "2022-01-21T12:06:03.168Z"
   },
   {
    "duration": 62,
    "start_time": "2022-01-21T12:06:03.182Z"
   },
   {
    "duration": 4,
    "start_time": "2022-01-21T12:06:03.247Z"
   },
   {
    "duration": 23,
    "start_time": "2022-01-21T12:06:03.254Z"
   },
   {
    "duration": 6,
    "start_time": "2022-01-21T12:06:03.293Z"
   },
   {
    "duration": 14,
    "start_time": "2022-01-21T12:06:03.343Z"
   },
   {
    "duration": 32,
    "start_time": "2022-01-21T12:06:03.375Z"
   },
   {
    "duration": 16,
    "start_time": "2022-01-21T12:06:03.425Z"
   },
   {
    "duration": 21,
    "start_time": "2022-01-21T12:06:03.467Z"
   },
   {
    "duration": 49,
    "start_time": "2022-01-21T12:06:03.526Z"
   },
   {
    "duration": 8,
    "start_time": "2022-01-21T12:06:06.168Z"
   },
   {
    "duration": 11,
    "start_time": "2022-01-21T12:06:08.489Z"
   },
   {
    "duration": 40,
    "start_time": "2022-01-21T12:06:19.970Z"
   },
   {
    "duration": 11,
    "start_time": "2022-01-21T12:06:22.945Z"
   },
   {
    "duration": 14,
    "start_time": "2022-01-21T12:08:55.206Z"
   },
   {
    "duration": 21,
    "start_time": "2022-01-21T12:09:20.501Z"
   },
   {
    "duration": 20,
    "start_time": "2022-01-21T12:09:52.745Z"
   },
   {
    "duration": 14,
    "start_time": "2022-01-21T12:10:02.403Z"
   },
   {
    "duration": 11,
    "start_time": "2022-01-21T12:10:17.511Z"
   },
   {
    "duration": 10,
    "start_time": "2022-01-21T12:44:23.301Z"
   },
   {
    "duration": 17,
    "start_time": "2022-01-21T12:44:31.558Z"
   },
   {
    "duration": 86,
    "start_time": "2022-01-21T12:44:40.361Z"
   },
   {
    "duration": 12,
    "start_time": "2022-01-21T12:44:40.450Z"
   },
   {
    "duration": 41,
    "start_time": "2022-01-21T12:44:40.464Z"
   },
   {
    "duration": 4,
    "start_time": "2022-01-21T12:44:40.532Z"
   },
   {
    "duration": 18,
    "start_time": "2022-01-21T12:44:40.539Z"
   },
   {
    "duration": 6,
    "start_time": "2022-01-21T12:44:40.581Z"
   },
   {
    "duration": 13,
    "start_time": "2022-01-21T12:44:40.626Z"
   },
   {
    "duration": 30,
    "start_time": "2022-01-21T12:44:40.656Z"
   },
   {
    "duration": 15,
    "start_time": "2022-01-21T12:44:40.711Z"
   },
   {
    "duration": 21,
    "start_time": "2022-01-21T12:44:40.736Z"
   },
   {
    "duration": 51,
    "start_time": "2022-01-21T12:44:40.773Z"
   },
   {
    "duration": 8,
    "start_time": "2022-01-21T12:44:46.599Z"
   },
   {
    "duration": 100,
    "start_time": "2022-01-21T12:44:51.571Z"
   },
   {
    "duration": 185,
    "start_time": "2022-01-21T12:53:30.491Z"
   },
   {
    "duration": 15,
    "start_time": "2022-01-21T12:53:37.102Z"
   },
   {
    "duration": 8,
    "start_time": "2022-01-21T12:53:41.089Z"
   },
   {
    "duration": 84,
    "start_time": "2022-01-21T12:53:54.379Z"
   },
   {
    "duration": 11,
    "start_time": "2022-01-21T12:53:54.466Z"
   },
   {
    "duration": 58,
    "start_time": "2022-01-21T12:53:54.479Z"
   },
   {
    "duration": 5,
    "start_time": "2022-01-21T12:53:54.543Z"
   },
   {
    "duration": 15,
    "start_time": "2022-01-21T12:53:54.596Z"
   },
   {
    "duration": 5,
    "start_time": "2022-01-21T12:53:54.631Z"
   },
   {
    "duration": 19,
    "start_time": "2022-01-21T12:53:54.639Z"
   },
   {
    "duration": 31,
    "start_time": "2022-01-21T12:53:54.697Z"
   },
   {
    "duration": 16,
    "start_time": "2022-01-21T12:53:54.746Z"
   },
   {
    "duration": 21,
    "start_time": "2022-01-21T12:53:55.149Z"
   },
   {
    "duration": 47,
    "start_time": "2022-01-21T12:53:55.198Z"
   },
   {
    "duration": 8,
    "start_time": "2022-01-21T12:54:00.416Z"
   },
   {
    "duration": 18,
    "start_time": "2022-01-21T12:54:05.862Z"
   },
   {
    "duration": 23,
    "start_time": "2022-01-21T12:54:26.835Z"
   },
   {
    "duration": 14,
    "start_time": "2022-01-21T12:54:31.279Z"
   },
   {
    "duration": 10,
    "start_time": "2022-01-21T12:54:38.089Z"
   },
   {
    "duration": 85,
    "start_time": "2022-01-21T12:55:22.146Z"
   },
   {
    "duration": 12,
    "start_time": "2022-01-21T12:55:22.234Z"
   },
   {
    "duration": 39,
    "start_time": "2022-01-21T12:55:22.249Z"
   },
   {
    "duration": 4,
    "start_time": "2022-01-21T12:55:22.297Z"
   },
   {
    "duration": 16,
    "start_time": "2022-01-21T12:55:22.329Z"
   },
   {
    "duration": 6,
    "start_time": "2022-01-21T12:55:22.370Z"
   },
   {
    "duration": 11,
    "start_time": "2022-01-21T12:55:22.388Z"
   },
   {
    "duration": 33,
    "start_time": "2022-01-21T12:55:22.429Z"
   },
   {
    "duration": 16,
    "start_time": "2022-01-21T12:55:22.468Z"
   },
   {
    "duration": 28,
    "start_time": "2022-01-21T12:55:22.508Z"
   },
   {
    "duration": 48,
    "start_time": "2022-01-21T12:55:22.558Z"
   },
   {
    "duration": 8,
    "start_time": "2022-01-21T12:55:22.614Z"
   },
   {
    "duration": 18,
    "start_time": "2022-01-21T12:55:25.450Z"
   },
   {
    "duration": 11,
    "start_time": "2022-01-21T12:55:36.961Z"
   },
   {
    "duration": 10,
    "start_time": "2022-01-21T12:56:53.671Z"
   },
   {
    "duration": 9,
    "start_time": "2022-01-21T12:57:17.400Z"
   },
   {
    "duration": 8,
    "start_time": "2022-01-21T12:57:25.339Z"
   },
   {
    "duration": 9,
    "start_time": "2022-01-21T12:57:48.494Z"
   },
   {
    "duration": 10,
    "start_time": "2022-01-21T12:58:20.441Z"
   },
   {
    "duration": 7,
    "start_time": "2022-01-21T13:00:56.242Z"
   },
   {
    "duration": 6,
    "start_time": "2022-01-21T13:01:14.765Z"
   },
   {
    "duration": 7,
    "start_time": "2022-01-21T13:01:22.418Z"
   },
   {
    "duration": 25,
    "start_time": "2022-01-21T13:01:53.974Z"
   },
   {
    "duration": 331,
    "start_time": "2022-01-21T13:02:15.826Z"
   },
   {
    "duration": 749,
    "start_time": "2022-01-21T13:02:31.210Z"
   },
   {
    "duration": 283,
    "start_time": "2022-01-21T13:08:52.527Z"
   },
   {
    "duration": 893,
    "start_time": "2022-01-21T13:09:35.378Z"
   },
   {
    "duration": 315,
    "start_time": "2022-01-21T13:11:11.258Z"
   },
   {
    "duration": 407,
    "start_time": "2022-01-21T13:11:32.800Z"
   },
   {
    "duration": 19,
    "start_time": "2022-01-21T13:11:51.518Z"
   },
   {
    "duration": 459,
    "start_time": "2022-01-21T13:12:09.320Z"
   },
   {
    "duration": 18,
    "start_time": "2022-01-21T13:12:41.857Z"
   },
   {
    "duration": 325,
    "start_time": "2022-01-21T13:13:04.529Z"
   },
   {
    "duration": 18,
    "start_time": "2022-01-21T13:13:09.863Z"
   },
   {
    "duration": 900,
    "start_time": "2022-01-21T13:15:32.971Z"
   },
   {
    "duration": 3,
    "start_time": "2022-01-21T13:15:38.218Z"
   },
   {
    "duration": 105,
    "start_time": "2022-01-21T13:16:00.949Z"
   },
   {
    "duration": 4,
    "start_time": "2022-01-21T13:19:07.687Z"
   },
   {
    "duration": 27,
    "start_time": "2022-01-21T13:19:42.002Z"
   },
   {
    "duration": 337,
    "start_time": "2022-01-21T13:19:43.631Z"
   },
   {
    "duration": 3,
    "start_time": "2022-01-21T13:19:54.399Z"
   },
   {
    "duration": 305,
    "start_time": "2022-01-21T13:19:57.660Z"
   },
   {
    "duration": 288,
    "start_time": "2022-01-21T14:21:50.950Z"
   },
   {
    "duration": 285,
    "start_time": "2022-01-21T14:22:07.958Z"
   },
   {
    "duration": 6,
    "start_time": "2022-01-21T14:23:00.444Z"
   },
   {
    "duration": 188,
    "start_time": "2022-01-21T14:25:36.568Z"
   },
   {
    "duration": 102,
    "start_time": "2022-01-21T14:25:36.840Z"
   },
   {
    "duration": 12,
    "start_time": "2022-01-21T14:25:36.944Z"
   },
   {
    "duration": 37,
    "start_time": "2022-01-21T14:25:36.960Z"
   },
   {
    "duration": 33,
    "start_time": "2022-01-21T14:25:37.000Z"
   },
   {
    "duration": 15,
    "start_time": "2022-01-21T14:25:37.036Z"
   },
   {
    "duration": 5,
    "start_time": "2022-01-21T14:25:37.053Z"
   },
   {
    "duration": 14,
    "start_time": "2022-01-21T14:25:37.060Z"
   },
   {
    "duration": 71,
    "start_time": "2022-01-21T14:25:37.076Z"
   },
   {
    "duration": 15,
    "start_time": "2022-01-21T14:25:37.149Z"
   },
   {
    "duration": 19,
    "start_time": "2022-01-21T14:25:37.166Z"
   },
   {
    "duration": 74,
    "start_time": "2022-01-21T14:25:37.187Z"
   },
   {
    "duration": 7,
    "start_time": "2022-01-21T14:25:37.263Z"
   },
   {
    "duration": 20,
    "start_time": "2022-01-21T14:25:37.272Z"
   },
   {
    "duration": 8,
    "start_time": "2022-01-21T14:25:37.331Z"
   },
   {
    "duration": 166,
    "start_time": "2022-01-21T14:26:59.066Z"
   },
   {
    "duration": 123,
    "start_time": "2022-01-21T14:27:25.731Z"
   },
   {
    "duration": 22,
    "start_time": "2022-01-21T14:30:22.246Z"
   },
   {
    "duration": 18,
    "start_time": "2022-01-21T14:31:10.122Z"
   },
   {
    "duration": 153,
    "start_time": "2022-01-21T14:31:21.300Z"
   },
   {
    "duration": 15,
    "start_time": "2022-01-21T14:31:36.987Z"
   },
   {
    "duration": 13,
    "start_time": "2022-01-21T14:48:35.968Z"
   },
   {
    "duration": 372,
    "start_time": "2022-01-21T14:49:06.910Z"
   },
   {
    "duration": 10,
    "start_time": "2022-01-21T14:49:18.025Z"
   },
   {
    "duration": 9,
    "start_time": "2022-01-21T14:49:29.317Z"
   },
   {
    "duration": 7,
    "start_time": "2022-01-21T14:49:45.853Z"
   },
   {
    "duration": 6,
    "start_time": "2022-01-21T14:50:00.817Z"
   },
   {
    "duration": 8,
    "start_time": "2022-01-21T14:52:43.053Z"
   },
   {
    "duration": 21,
    "start_time": "2022-01-21T14:56:58.230Z"
   },
   {
    "duration": 36,
    "start_time": "2022-01-21T15:08:53.996Z"
   },
   {
    "duration": 36,
    "start_time": "2022-01-21T15:12:32.150Z"
   },
   {
    "duration": 13,
    "start_time": "2022-01-21T15:13:46.314Z"
   },
   {
    "duration": 437,
    "start_time": "2022-01-24T12:57:45.228Z"
   },
   {
    "duration": 318,
    "start_time": "2022-01-24T12:58:20.175Z"
   },
   {
    "duration": 887,
    "start_time": "2022-01-24T12:58:25.863Z"
   },
   {
    "duration": 22,
    "start_time": "2022-01-24T12:58:26.753Z"
   },
   {
    "duration": 38,
    "start_time": "2022-01-24T12:58:26.780Z"
   },
   {
    "duration": 6,
    "start_time": "2022-01-24T12:58:26.821Z"
   },
   {
    "duration": 25,
    "start_time": "2022-01-24T12:58:26.866Z"
   },
   {
    "duration": 51,
    "start_time": "2022-01-24T12:58:26.894Z"
   },
   {
    "duration": 28,
    "start_time": "2022-01-24T12:58:26.948Z"
   },
   {
    "duration": 33,
    "start_time": "2022-01-24T12:58:26.981Z"
   },
   {
    "duration": 19,
    "start_time": "2022-01-24T12:58:27.016Z"
   },
   {
    "duration": 37,
    "start_time": "2022-01-24T12:58:27.038Z"
   },
   {
    "duration": 47,
    "start_time": "2022-01-24T12:58:27.078Z"
   },
   {
    "duration": 9,
    "start_time": "2022-01-24T12:58:27.127Z"
   },
   {
    "duration": 20,
    "start_time": "2022-01-24T12:58:27.166Z"
   },
   {
    "duration": 7,
    "start_time": "2022-01-24T12:58:27.189Z"
   },
   {
    "duration": 11,
    "start_time": "2022-01-24T12:58:27.198Z"
   },
   {
    "duration": 914,
    "start_time": "2022-01-24T12:58:27.212Z"
   },
   {
    "duration": 36,
    "start_time": "2022-01-24T12:58:28.129Z"
   },
   {
    "duration": 36,
    "start_time": "2022-01-24T12:58:28.167Z"
   },
   {
    "duration": 60,
    "start_time": "2022-01-24T12:58:28.205Z"
   },
   {
    "duration": 11,
    "start_time": "2022-01-24T12:58:28.267Z"
   },
   {
    "duration": 22,
    "start_time": "2022-01-24T12:58:29.141Z"
   },
   {
    "duration": 15,
    "start_time": "2022-01-24T12:58:58.499Z"
   },
   {
    "duration": 19,
    "start_time": "2022-01-24T13:00:03.370Z"
   },
   {
    "duration": 14,
    "start_time": "2022-01-24T13:00:44.501Z"
   },
   {
    "duration": 18,
    "start_time": "2022-01-24T13:07:21.106Z"
   },
   {
    "duration": 18,
    "start_time": "2022-01-24T13:07:28.570Z"
   },
   {
    "duration": 15,
    "start_time": "2022-01-24T13:09:56.594Z"
   },
   {
    "duration": 18,
    "start_time": "2022-01-24T13:18:21.027Z"
   },
   {
    "duration": 8,
    "start_time": "2022-01-24T13:19:36.037Z"
   },
   {
    "duration": 92,
    "start_time": "2022-01-24T13:20:30.398Z"
   },
   {
    "duration": 15,
    "start_time": "2022-01-24T13:20:40.711Z"
   },
   {
    "duration": 11,
    "start_time": "2022-01-24T13:21:18.215Z"
   },
   {
    "duration": 6,
    "start_time": "2022-01-24T13:22:02.925Z"
   },
   {
    "duration": 9,
    "start_time": "2022-01-24T13:23:25.067Z"
   },
   {
    "duration": 256,
    "start_time": "2022-01-24T13:23:30.416Z"
   },
   {
    "duration": 6,
    "start_time": "2022-01-24T13:23:41.759Z"
   },
   {
    "duration": 5,
    "start_time": "2022-01-24T13:23:51.621Z"
   },
   {
    "duration": 224,
    "start_time": "2022-01-24T13:25:16.505Z"
   },
   {
    "duration": 589,
    "start_time": "2022-01-24T13:25:42.301Z"
   },
   {
    "duration": 239,
    "start_time": "2022-01-24T13:25:55.027Z"
   },
   {
    "duration": 301,
    "start_time": "2022-01-24T13:27:27.192Z"
   },
   {
    "duration": 610,
    "start_time": "2022-01-24T13:27:30.921Z"
   },
   {
    "duration": 354,
    "start_time": "2022-01-24T13:27:35.865Z"
   },
   {
    "duration": 251,
    "start_time": "2022-01-24T13:27:45.432Z"
   },
   {
    "duration": 249,
    "start_time": "2022-01-24T13:27:49.175Z"
   },
   {
    "duration": 17,
    "start_time": "2022-01-24T13:31:04.483Z"
   },
   {
    "duration": 14,
    "start_time": "2022-01-24T13:31:49.475Z"
   },
   {
    "duration": 14,
    "start_time": "2022-01-24T13:32:12.293Z"
   },
   {
    "duration": 14,
    "start_time": "2022-01-24T13:32:28.271Z"
   },
   {
    "duration": 13,
    "start_time": "2022-01-24T13:32:40.760Z"
   },
   {
    "duration": 15,
    "start_time": "2022-01-24T13:46:02.567Z"
   },
   {
    "duration": 21,
    "start_time": "2022-01-24T13:49:24.369Z"
   },
   {
    "duration": 15,
    "start_time": "2022-01-24T13:50:51.869Z"
   },
   {
    "duration": 15,
    "start_time": "2022-01-24T13:52:34.561Z"
   },
   {
    "duration": 15,
    "start_time": "2022-01-24T13:55:28.035Z"
   },
   {
    "duration": 15,
    "start_time": "2022-01-24T13:56:45.768Z"
   },
   {
    "duration": 16,
    "start_time": "2022-01-24T13:58:16.741Z"
   },
   {
    "duration": 14,
    "start_time": "2022-01-24T13:59:17.289Z"
   },
   {
    "duration": 16,
    "start_time": "2022-01-24T14:37:25.728Z"
   },
   {
    "duration": 15,
    "start_time": "2022-01-24T14:38:05.682Z"
   },
   {
    "duration": 16,
    "start_time": "2022-01-24T14:38:19.607Z"
   },
   {
    "duration": 101,
    "start_time": "2022-01-24T15:51:14.567Z"
   },
   {
    "duration": 12,
    "start_time": "2022-01-24T15:51:14.670Z"
   },
   {
    "duration": 43,
    "start_time": "2022-01-24T15:51:14.685Z"
   },
   {
    "duration": 4,
    "start_time": "2022-01-24T15:51:14.731Z"
   },
   {
    "duration": 42,
    "start_time": "2022-01-24T15:51:14.737Z"
   },
   {
    "duration": 7,
    "start_time": "2022-01-24T15:51:14.782Z"
   },
   {
    "duration": 19,
    "start_time": "2022-01-24T15:51:14.792Z"
   },
   {
    "duration": 67,
    "start_time": "2022-01-24T15:51:14.815Z"
   },
   {
    "duration": 14,
    "start_time": "2022-01-24T15:51:14.885Z"
   },
   {
    "duration": 20,
    "start_time": "2022-01-24T15:51:14.902Z"
   },
   {
    "duration": 73,
    "start_time": "2022-01-24T15:51:14.924Z"
   },
   {
    "duration": 8,
    "start_time": "2022-01-24T15:51:15.000Z"
   },
   {
    "duration": 30,
    "start_time": "2022-01-24T15:51:15.010Z"
   },
   {
    "duration": 8,
    "start_time": "2022-01-24T15:51:15.065Z"
   },
   {
    "duration": 42,
    "start_time": "2022-01-24T15:51:15.075Z"
   },
   {
    "duration": 914,
    "start_time": "2022-01-24T15:51:15.119Z"
   },
   {
    "duration": 35,
    "start_time": "2022-01-24T15:51:16.035Z"
   },
   {
    "duration": 37,
    "start_time": "2022-01-24T15:51:16.072Z"
   },
   {
    "duration": 56,
    "start_time": "2022-01-24T15:51:16.111Z"
   },
   {
    "duration": 22,
    "start_time": "2022-01-24T15:51:16.169Z"
   },
   {
    "duration": 17,
    "start_time": "2022-01-24T15:51:16.196Z"
   },
   {
    "duration": 15,
    "start_time": "2022-01-24T15:51:16.215Z"
   },
   {
    "duration": 42,
    "start_time": "2022-01-24T15:51:16.233Z"
   },
   {
    "duration": 14,
    "start_time": "2022-01-24T15:51:16.277Z"
   },
   {
    "duration": 12,
    "start_time": "2022-01-24T15:51:16.294Z"
   },
   {
    "duration": 62,
    "start_time": "2022-01-24T15:51:16.309Z"
   },
   {
    "duration": 15,
    "start_time": "2022-01-24T15:51:16.373Z"
   },
   {
    "duration": 12,
    "start_time": "2022-01-24T15:51:16.390Z"
   },
   {
    "duration": 60,
    "start_time": "2022-01-24T15:51:16.405Z"
   },
   {
    "duration": 15,
    "start_time": "2022-01-24T15:51:16.467Z"
   },
   {
    "duration": 14,
    "start_time": "2022-01-24T15:51:16.484Z"
   },
   {
    "duration": 14,
    "start_time": "2022-01-24T15:51:16.501Z"
   },
   {
    "duration": 70,
    "start_time": "2022-01-24T15:51:16.517Z"
   },
   {
    "duration": 21,
    "start_time": "2022-01-24T15:51:16.589Z"
   },
   {
    "duration": 13,
    "start_time": "2022-01-24T15:51:16.613Z"
   },
   {
    "duration": 91,
    "start_time": "2022-01-24T15:59:11.412Z"
   },
   {
    "duration": 11,
    "start_time": "2022-01-24T15:59:11.505Z"
   },
   {
    "duration": 64,
    "start_time": "2022-01-24T15:59:11.519Z"
   },
   {
    "duration": 4,
    "start_time": "2022-01-24T15:59:11.586Z"
   },
   {
    "duration": 17,
    "start_time": "2022-01-24T15:59:11.592Z"
   },
   {
    "duration": 6,
    "start_time": "2022-01-24T15:59:11.611Z"
   },
   {
    "duration": 46,
    "start_time": "2022-01-24T15:59:11.620Z"
   },
   {
    "duration": 33,
    "start_time": "2022-01-24T15:59:11.671Z"
   },
   {
    "duration": 17,
    "start_time": "2022-01-24T15:59:11.708Z"
   },
   {
    "duration": 60,
    "start_time": "2022-01-24T15:59:11.727Z"
   },
   {
    "duration": 47,
    "start_time": "2022-01-24T15:59:11.790Z"
   },
   {
    "duration": 31,
    "start_time": "2022-01-24T15:59:11.839Z"
   },
   {
    "duration": 18,
    "start_time": "2022-01-24T15:59:11.872Z"
   },
   {
    "duration": 9,
    "start_time": "2022-01-24T15:59:11.893Z"
   },
   {
    "duration": 67,
    "start_time": "2022-01-24T15:59:11.905Z"
   },
   {
    "duration": 911,
    "start_time": "2022-01-24T15:59:11.974Z"
   },
   {
    "duration": 24,
    "start_time": "2022-01-24T15:59:12.889Z"
   },
   {
    "duration": 60,
    "start_time": "2022-01-24T15:59:12.916Z"
   },
   {
    "duration": 34,
    "start_time": "2022-01-24T15:59:12.979Z"
   },
   {
    "duration": 19,
    "start_time": "2022-01-24T15:59:13.016Z"
   },
   {
    "duration": 16,
    "start_time": "2022-01-24T15:59:13.065Z"
   },
   {
    "duration": 18,
    "start_time": "2022-01-24T15:59:13.084Z"
   },
   {
    "duration": 14,
    "start_time": "2022-01-24T15:59:13.107Z"
   },
   {
    "duration": 52,
    "start_time": "2022-01-24T15:59:13.124Z"
   },
   {
    "duration": 21,
    "start_time": "2022-01-24T15:59:13.179Z"
   },
   {
    "duration": 15,
    "start_time": "2022-01-24T15:59:13.203Z"
   },
   {
    "duration": 53,
    "start_time": "2022-01-24T15:59:13.221Z"
   },
   {
    "duration": 14,
    "start_time": "2022-01-24T15:59:13.277Z"
   },
   {
    "duration": 13,
    "start_time": "2022-01-24T15:59:13.293Z"
   },
   {
    "duration": 62,
    "start_time": "2022-01-24T15:59:13.309Z"
   },
   {
    "duration": 14,
    "start_time": "2022-01-24T15:59:13.374Z"
   },
   {
    "duration": 14,
    "start_time": "2022-01-24T15:59:13.391Z"
   },
   {
    "duration": 12,
    "start_time": "2022-01-24T15:59:13.407Z"
   },
   {
    "duration": 56,
    "start_time": "2022-01-24T15:59:13.422Z"
   },
   {
    "duration": 16,
    "start_time": "2022-01-24T15:59:13.481Z"
   },
   {
    "duration": 90,
    "start_time": "2022-01-24T16:25:36.929Z"
   },
   {
    "duration": 46,
    "start_time": "2022-01-24T16:25:37.022Z"
   },
   {
    "duration": 39,
    "start_time": "2022-01-24T16:25:37.071Z"
   },
   {
    "duration": 5,
    "start_time": "2022-01-24T16:25:37.113Z"
   },
   {
    "duration": 51,
    "start_time": "2022-01-24T16:25:37.120Z"
   },
   {
    "duration": 6,
    "start_time": "2022-01-24T16:25:37.173Z"
   },
   {
    "duration": 13,
    "start_time": "2022-01-24T16:25:37.181Z"
   },
   {
    "duration": 33,
    "start_time": "2022-01-24T16:25:37.198Z"
   },
   {
    "duration": 15,
    "start_time": "2022-01-24T16:25:37.266Z"
   },
   {
    "duration": 21,
    "start_time": "2022-01-24T16:25:37.284Z"
   },
   {
    "duration": 83,
    "start_time": "2022-01-24T16:25:37.308Z"
   },
   {
    "duration": 8,
    "start_time": "2022-01-24T16:25:37.393Z"
   },
   {
    "duration": 17,
    "start_time": "2022-01-24T16:25:37.404Z"
   },
   {
    "duration": 7,
    "start_time": "2022-01-24T16:25:37.424Z"
   },
   {
    "duration": 23,
    "start_time": "2022-01-24T16:25:37.465Z"
   },
   {
    "duration": 941,
    "start_time": "2022-01-24T16:25:37.490Z"
   },
   {
    "duration": 35,
    "start_time": "2022-01-24T16:25:38.434Z"
   },
   {
    "duration": 34,
    "start_time": "2022-01-24T16:25:38.471Z"
   },
   {
    "duration": 66,
    "start_time": "2022-01-24T16:25:38.507Z"
   },
   {
    "duration": 19,
    "start_time": "2022-01-24T16:25:38.575Z"
   },
   {
    "duration": 16,
    "start_time": "2022-01-24T16:25:38.597Z"
   },
   {
    "duration": 57,
    "start_time": "2022-01-24T16:25:38.616Z"
   },
   {
    "duration": 15,
    "start_time": "2022-01-24T16:25:38.679Z"
   },
   {
    "duration": 14,
    "start_time": "2022-01-24T16:25:38.698Z"
   },
   {
    "duration": 63,
    "start_time": "2022-01-24T16:25:38.715Z"
   },
   {
    "duration": 15,
    "start_time": "2022-01-24T16:25:38.780Z"
   },
   {
    "duration": 15,
    "start_time": "2022-01-24T16:25:38.797Z"
   },
   {
    "duration": 62,
    "start_time": "2022-01-24T16:25:38.814Z"
   },
   {
    "duration": 21,
    "start_time": "2022-01-24T16:25:38.880Z"
   },
   {
    "duration": 18,
    "start_time": "2022-01-24T16:25:38.904Z"
   },
   {
    "duration": 55,
    "start_time": "2022-01-24T16:25:38.925Z"
   },
   {
    "duration": 14,
    "start_time": "2022-01-24T16:25:38.983Z"
   },
   {
    "duration": 16,
    "start_time": "2022-01-24T16:25:39.000Z"
   },
   {
    "duration": 58,
    "start_time": "2022-01-24T16:25:39.020Z"
   },
   {
    "duration": 18,
    "start_time": "2022-01-24T16:25:39.081Z"
   },
   {
    "duration": 95,
    "start_time": "2022-01-24T18:05:27.339Z"
   },
   {
    "duration": 39,
    "start_time": "2022-01-24T18:05:27.436Z"
   },
   {
    "duration": 39,
    "start_time": "2022-01-24T18:05:27.479Z"
   },
   {
    "duration": 5,
    "start_time": "2022-01-24T18:05:27.521Z"
   },
   {
    "duration": 50,
    "start_time": "2022-01-24T18:05:27.529Z"
   },
   {
    "duration": 6,
    "start_time": "2022-01-24T18:05:27.581Z"
   },
   {
    "duration": 12,
    "start_time": "2022-01-24T18:05:27.589Z"
   },
   {
    "duration": 70,
    "start_time": "2022-01-24T18:05:27.605Z"
   },
   {
    "duration": 15,
    "start_time": "2022-01-24T18:05:27.679Z"
   },
   {
    "duration": 19,
    "start_time": "2022-01-24T18:05:27.697Z"
   },
   {
    "duration": 80,
    "start_time": "2022-01-24T18:05:27.718Z"
   },
   {
    "duration": 8,
    "start_time": "2022-01-24T18:05:27.801Z"
   },
   {
    "duration": 52,
    "start_time": "2022-01-24T18:05:27.811Z"
   },
   {
    "duration": 8,
    "start_time": "2022-01-24T18:05:27.866Z"
   },
   {
    "duration": 25,
    "start_time": "2022-01-24T18:05:27.877Z"
   },
   {
    "duration": 968,
    "start_time": "2022-01-24T18:05:27.904Z"
   },
   {
    "duration": 31,
    "start_time": "2022-01-24T18:05:28.876Z"
   },
   {
    "duration": 72,
    "start_time": "2022-01-24T18:05:28.910Z"
   },
   {
    "duration": 36,
    "start_time": "2022-01-24T18:05:28.985Z"
   },
   {
    "duration": 45,
    "start_time": "2022-01-24T18:05:29.024Z"
   },
   {
    "duration": 19,
    "start_time": "2022-01-24T18:05:29.072Z"
   },
   {
    "duration": 23,
    "start_time": "2022-01-24T18:05:29.094Z"
   },
   {
    "duration": 56,
    "start_time": "2022-01-24T18:05:29.125Z"
   },
   {
    "duration": 17,
    "start_time": "2022-01-24T18:05:29.184Z"
   },
   {
    "duration": 16,
    "start_time": "2022-01-24T18:05:29.204Z"
   },
   {
    "duration": 55,
    "start_time": "2022-01-24T18:05:29.223Z"
   },
   {
    "duration": 18,
    "start_time": "2022-01-24T18:05:29.281Z"
   },
   {
    "duration": 15,
    "start_time": "2022-01-24T18:05:29.302Z"
   },
   {
    "duration": 57,
    "start_time": "2022-01-24T18:05:29.319Z"
   },
   {
    "duration": 16,
    "start_time": "2022-01-24T18:05:29.378Z"
   },
   {
    "duration": 20,
    "start_time": "2022-01-24T18:05:29.396Z"
   },
   {
    "duration": 57,
    "start_time": "2022-01-24T18:05:29.418Z"
   },
   {
    "duration": 14,
    "start_time": "2022-01-24T18:05:29.478Z"
   },
   {
    "duration": 14,
    "start_time": "2022-01-24T18:05:29.494Z"
   },
   {
    "duration": 62,
    "start_time": "2022-01-24T18:05:29.511Z"
   },
   {
    "duration": 664,
    "start_time": "2022-02-01T07:30:17.339Z"
   },
   {
    "duration": 10,
    "start_time": "2022-02-01T07:30:18.004Z"
   },
   {
    "duration": 70,
    "start_time": "2022-02-01T07:30:18.016Z"
   },
   {
    "duration": 36,
    "start_time": "2022-02-01T07:30:18.088Z"
   },
   {
    "duration": 36,
    "start_time": "2022-02-01T07:30:18.127Z"
   },
   {
    "duration": 17,
    "start_time": "2022-02-01T07:30:18.165Z"
   },
   {
    "duration": 33,
    "start_time": "2022-02-01T07:30:18.185Z"
   },
   {
    "duration": 31,
    "start_time": "2022-02-01T07:30:18.221Z"
   },
   {
    "duration": 13,
    "start_time": "2022-02-01T07:30:18.255Z"
   },
   {
    "duration": 15,
    "start_time": "2022-02-01T07:30:18.270Z"
   },
   {
    "duration": 58,
    "start_time": "2022-02-01T07:30:18.287Z"
   },
   {
    "duration": 7,
    "start_time": "2022-02-01T07:30:18.347Z"
   },
   {
    "duration": 20,
    "start_time": "2022-02-01T07:30:18.356Z"
   },
   {
    "duration": 7,
    "start_time": "2022-02-01T07:30:18.377Z"
   },
   {
    "duration": 23,
    "start_time": "2022-02-01T07:30:18.385Z"
   },
   {
    "duration": 811,
    "start_time": "2022-02-01T07:30:18.410Z"
   },
   {
    "duration": 16,
    "start_time": "2022-02-01T07:30:19.224Z"
   },
   {
    "duration": 26,
    "start_time": "2022-02-01T07:30:19.242Z"
   },
   {
    "duration": 50,
    "start_time": "2022-02-01T07:30:19.270Z"
   },
   {
    "duration": 15,
    "start_time": "2022-02-01T07:30:19.322Z"
   },
   {
    "duration": 11,
    "start_time": "2022-02-01T07:30:19.339Z"
   },
   {
    "duration": 49,
    "start_time": "2022-02-01T07:30:19.351Z"
   },
   {
    "duration": 11,
    "start_time": "2022-02-01T07:30:19.403Z"
   },
   {
    "duration": 10,
    "start_time": "2022-02-01T07:30:19.416Z"
   },
   {
    "duration": 10,
    "start_time": "2022-02-01T07:30:19.427Z"
   },
   {
    "duration": 9,
    "start_time": "2022-02-01T07:30:19.439Z"
   },
   {
    "duration": 12,
    "start_time": "2022-02-01T07:30:19.505Z"
   },
   {
    "duration": 11,
    "start_time": "2022-02-01T07:30:19.518Z"
   },
   {
    "duration": 11,
    "start_time": "2022-02-01T07:30:19.531Z"
   },
   {
    "duration": 15,
    "start_time": "2022-02-01T07:30:19.544Z"
   },
   {
    "duration": 12,
    "start_time": "2022-02-01T07:30:19.598Z"
   },
   {
    "duration": 10,
    "start_time": "2022-02-01T07:30:19.611Z"
   },
   {
    "duration": 12,
    "start_time": "2022-02-01T07:30:19.623Z"
   },
   {
    "duration": 11,
    "start_time": "2022-02-01T07:30:19.637Z"
   },
   {
    "duration": 61,
    "start_time": "2022-02-01T07:30:19.651Z"
   },
   {
    "duration": 334,
    "start_time": "2022-02-01T11:18:59.147Z"
   },
   {
    "duration": 607,
    "start_time": "2022-02-01T11:19:53.487Z"
   },
   {
    "duration": 8,
    "start_time": "2022-02-01T11:19:54.095Z"
   },
   {
    "duration": 25,
    "start_time": "2022-02-01T11:19:54.104Z"
   },
   {
    "duration": 3,
    "start_time": "2022-02-01T11:19:54.131Z"
   },
   {
    "duration": 10,
    "start_time": "2022-02-01T11:19:57.061Z"
   },
   {
    "duration": 15,
    "start_time": "2022-02-01T11:20:01.338Z"
   },
   {
    "duration": 8,
    "start_time": "2022-02-01T11:20:05.085Z"
   },
   {
    "duration": 6,
    "start_time": "2022-02-01T11:31:59.176Z"
   },
   {
    "duration": 11,
    "start_time": "2022-02-01T11:35:00.463Z"
   },
   {
    "duration": 619,
    "start_time": "2022-02-01T11:36:07.356Z"
   },
   {
    "duration": 9,
    "start_time": "2022-02-01T11:36:14.623Z"
   },
   {
    "duration": 23,
    "start_time": "2022-02-01T11:36:17.701Z"
   },
   {
    "duration": 3,
    "start_time": "2022-02-01T11:36:21.093Z"
   },
   {
    "duration": 18,
    "start_time": "2022-02-01T11:36:22.527Z"
   },
   {
    "duration": 12,
    "start_time": "2022-02-01T11:36:26.034Z"
   },
   {
    "duration": 9,
    "start_time": "2022-02-01T11:36:27.915Z"
   },
   {
    "duration": 18,
    "start_time": "2022-02-01T11:36:50.709Z"
   },
   {
    "duration": 12,
    "start_time": "2022-02-01T11:36:54.392Z"
   },
   {
    "duration": 14,
    "start_time": "2022-02-01T11:36:57.945Z"
   },
   {
    "duration": 29,
    "start_time": "2022-02-01T11:37:00.032Z"
   },
   {
    "duration": 6,
    "start_time": "2022-02-01T11:37:04.504Z"
   },
   {
    "duration": 11,
    "start_time": "2022-02-01T11:37:07.032Z"
   },
   {
    "duration": 5,
    "start_time": "2022-02-01T11:37:10.589Z"
   },
   {
    "duration": 7,
    "start_time": "2022-02-01T11:37:18.413Z"
   },
   {
    "duration": 618,
    "start_time": "2022-02-01T11:37:20.777Z"
   },
   {
    "duration": 15,
    "start_time": "2022-02-01T11:37:25.568Z"
   },
   {
    "duration": 25,
    "start_time": "2022-02-01T11:37:28.904Z"
   },
   {
    "duration": 34,
    "start_time": "2022-02-01T11:37:32.365Z"
   },
   {
    "duration": 31,
    "start_time": "2022-02-01T13:01:01.189Z"
   },
   {
    "duration": 314,
    "start_time": "2022-02-01T13:03:25.178Z"
   },
   {
    "duration": 16,
    "start_time": "2022-02-01T13:03:41.028Z"
   },
   {
    "duration": 34,
    "start_time": "2022-02-01T13:04:37.756Z"
   },
   {
    "duration": 320,
    "start_time": "2022-02-01T13:07:09.798Z"
   },
   {
    "duration": 36,
    "start_time": "2022-02-01T13:07:17.917Z"
   },
   {
    "duration": 31,
    "start_time": "2022-02-01T13:08:38.801Z"
   },
   {
    "duration": 31,
    "start_time": "2022-02-01T13:08:47.883Z"
   },
   {
    "duration": 34,
    "start_time": "2022-02-01T13:08:50.779Z"
   },
   {
    "duration": 4,
    "start_time": "2022-02-01T13:09:42.681Z"
   },
   {
    "duration": 4,
    "start_time": "2022-02-01T13:10:08.736Z"
   },
   {
    "duration": 15,
    "start_time": "2022-02-01T13:12:13.876Z"
   },
   {
    "duration": 35,
    "start_time": "2022-02-01T13:12:18.882Z"
   },
   {
    "duration": -13,
    "start_time": "2022-02-01T13:16:34.125Z"
   },
   {
    "duration": 13,
    "start_time": "2022-02-01T13:16:44.992Z"
   },
   {
    "duration": 12,
    "start_time": "2022-02-01T13:17:07.232Z"
   },
   {
    "duration": 8,
    "start_time": "2022-02-01T13:17:44.379Z"
   },
   {
    "duration": 38,
    "start_time": "2022-02-01T13:26:38.734Z"
   },
   {
    "duration": 34,
    "start_time": "2022-02-01T13:27:14.860Z"
   },
   {
    "duration": 40,
    "start_time": "2022-02-01T13:27:30.377Z"
   },
   {
    "duration": 9,
    "start_time": "2022-02-01T13:28:42.990Z"
   },
   {
    "duration": 31,
    "start_time": "2022-02-01T13:30:22.411Z"
   },
   {
    "duration": 8,
    "start_time": "2022-02-01T13:31:46.232Z"
   },
   {
    "duration": 30,
    "start_time": "2022-02-01T13:34:02.410Z"
   },
   {
    "duration": 8,
    "start_time": "2022-02-01T13:34:32.203Z"
   },
   {
    "duration": 60,
    "start_time": "2022-02-01T13:35:42.444Z"
   },
   {
    "duration": 8,
    "start_time": "2022-02-01T13:35:42.506Z"
   },
   {
    "duration": 22,
    "start_time": "2022-02-01T13:35:42.516Z"
   },
   {
    "duration": 2,
    "start_time": "2022-02-01T13:35:42.540Z"
   },
   {
    "duration": 13,
    "start_time": "2022-02-01T13:35:42.544Z"
   },
   {
    "duration": 9,
    "start_time": "2022-02-01T13:35:42.558Z"
   },
   {
    "duration": 9,
    "start_time": "2022-02-01T13:35:42.569Z"
   },
   {
    "duration": 47,
    "start_time": "2022-02-01T13:35:42.580Z"
   },
   {
    "duration": 11,
    "start_time": "2022-02-01T13:35:42.630Z"
   },
   {
    "duration": 12,
    "start_time": "2022-02-01T13:35:42.643Z"
   },
   {
    "duration": 26,
    "start_time": "2022-02-01T13:35:42.657Z"
   },
   {
    "duration": 5,
    "start_time": "2022-02-01T13:35:42.684Z"
   },
   {
    "duration": 41,
    "start_time": "2022-02-01T13:35:42.690Z"
   },
   {
    "duration": 5,
    "start_time": "2022-02-01T13:35:42.733Z"
   },
   {
    "duration": 23,
    "start_time": "2022-02-01T13:35:42.739Z"
   },
   {
    "duration": 628,
    "start_time": "2022-02-01T13:35:42.764Z"
   },
   {
    "duration": 13,
    "start_time": "2022-02-01T13:35:43.394Z"
   },
   {
    "duration": 32,
    "start_time": "2022-02-01T13:35:43.409Z"
   },
   {
    "duration": 19,
    "start_time": "2022-02-01T13:35:43.443Z"
   },
   {
    "duration": 38,
    "start_time": "2022-02-01T13:35:43.464Z"
   },
   {
    "duration": 24,
    "start_time": "2022-02-01T13:35:43.504Z"
   },
   {
    "duration": 12,
    "start_time": "2022-02-01T13:35:43.529Z"
   },
   {
    "duration": 36,
    "start_time": "2022-02-01T13:35:43.543Z"
   },
   {
    "duration": 7,
    "start_time": "2022-02-01T13:35:43.581Z"
   },
   {
    "duration": 9,
    "start_time": "2022-02-01T13:35:43.589Z"
   },
   {
    "duration": 33,
    "start_time": "2022-02-01T13:35:43.599Z"
   },
   {
    "duration": 8,
    "start_time": "2022-02-01T13:35:43.634Z"
   },
   {
    "duration": 29,
    "start_time": "2022-02-01T13:35:43.643Z"
   },
   {
    "duration": 7,
    "start_time": "2022-02-01T13:35:43.673Z"
   },
   {
    "duration": 11,
    "start_time": "2022-02-01T13:35:43.682Z"
   },
   {
    "duration": 39,
    "start_time": "2022-02-01T13:35:43.694Z"
   },
   {
    "duration": 28,
    "start_time": "2022-02-01T13:35:43.734Z"
   },
   {
    "duration": 7,
    "start_time": "2022-02-01T13:35:43.764Z"
   },
   {
    "duration": 9,
    "start_time": "2022-02-01T13:35:43.772Z"
   },
   {
    "duration": 8,
    "start_time": "2022-02-01T13:35:43.783Z"
   },
   {
    "duration": 277,
    "start_time": "2022-02-01T15:43:09.392Z"
   },
   {
    "duration": 370,
    "start_time": "2022-02-01T15:43:29.336Z"
   },
   {
    "duration": 43,
    "start_time": "2022-02-01T15:44:00.641Z"
   },
   {
    "duration": 42,
    "start_time": "2022-02-01T15:51:40.484Z"
   },
   {
    "duration": 34,
    "start_time": "2022-02-01T15:53:34.272Z"
   },
   {
    "duration": 36,
    "start_time": "2022-02-01T15:55:04.212Z"
   },
   {
    "duration": 62,
    "start_time": "2022-02-01T16:25:36.817Z"
   },
   {
    "duration": 8,
    "start_time": "2022-02-01T16:25:36.881Z"
   },
   {
    "duration": 39,
    "start_time": "2022-02-01T16:25:36.890Z"
   },
   {
    "duration": 3,
    "start_time": "2022-02-01T16:25:36.931Z"
   },
   {
    "duration": 16,
    "start_time": "2022-02-01T16:25:36.935Z"
   },
   {
    "duration": 14,
    "start_time": "2022-02-01T16:25:36.952Z"
   },
   {
    "duration": 14,
    "start_time": "2022-02-01T16:25:36.967Z"
   },
   {
    "duration": 19,
    "start_time": "2022-02-01T16:25:36.983Z"
   },
   {
    "duration": 23,
    "start_time": "2022-02-01T16:25:37.004Z"
   },
   {
    "duration": 13,
    "start_time": "2022-02-01T16:25:37.028Z"
   },
   {
    "duration": 40,
    "start_time": "2022-02-01T16:25:37.042Z"
   },
   {
    "duration": 4,
    "start_time": "2022-02-01T16:25:37.083Z"
   },
   {
    "duration": 13,
    "start_time": "2022-02-01T16:25:37.089Z"
   },
   {
    "duration": 8,
    "start_time": "2022-02-01T16:25:37.103Z"
   },
   {
    "duration": 26,
    "start_time": "2022-02-01T16:25:37.127Z"
   },
   {
    "duration": 619,
    "start_time": "2022-02-01T16:25:37.155Z"
   },
   {
    "duration": 13,
    "start_time": "2022-02-01T16:25:37.776Z"
   },
   {
    "duration": 24,
    "start_time": "2022-02-01T16:25:37.790Z"
   },
   {
    "duration": 29,
    "start_time": "2022-02-01T16:25:37.815Z"
   },
   {
    "duration": 41,
    "start_time": "2022-02-01T16:25:37.846Z"
   },
   {
    "duration": 7,
    "start_time": "2022-02-01T16:25:37.890Z"
   },
   {
    "duration": 35,
    "start_time": "2022-02-01T16:25:37.899Z"
   },
   {
    "duration": 42,
    "start_time": "2022-02-01T16:25:37.936Z"
   },
   {
    "duration": 8,
    "start_time": "2022-02-01T16:25:37.980Z"
   },
   {
    "duration": 53,
    "start_time": "2022-02-01T16:25:37.989Z"
   },
   {
    "duration": 9,
    "start_time": "2022-02-01T16:25:38.044Z"
   },
   {
    "duration": 48,
    "start_time": "2022-02-01T16:25:38.054Z"
   },
   {
    "duration": 7,
    "start_time": "2022-02-01T16:25:38.103Z"
   },
   {
    "duration": 60,
    "start_time": "2022-02-01T16:35:35.338Z"
   },
   {
    "duration": 8,
    "start_time": "2022-02-01T16:35:35.400Z"
   },
   {
    "duration": 27,
    "start_time": "2022-02-01T16:35:35.410Z"
   },
   {
    "duration": 3,
    "start_time": "2022-02-01T16:35:35.439Z"
   },
   {
    "duration": 12,
    "start_time": "2022-02-01T16:35:35.443Z"
   },
   {
    "duration": 10,
    "start_time": "2022-02-01T16:35:35.456Z"
   },
   {
    "duration": 8,
    "start_time": "2022-02-01T16:35:35.467Z"
   },
   {
    "duration": 16,
    "start_time": "2022-02-01T16:35:35.477Z"
   },
   {
    "duration": 40,
    "start_time": "2022-02-01T16:35:35.495Z"
   },
   {
    "duration": 12,
    "start_time": "2022-02-01T16:35:35.536Z"
   },
   {
    "duration": 27,
    "start_time": "2022-02-01T16:35:35.549Z"
   },
   {
    "duration": 5,
    "start_time": "2022-02-01T16:35:35.577Z"
   },
   {
    "duration": 10,
    "start_time": "2022-02-01T16:35:35.583Z"
   },
   {
    "duration": 5,
    "start_time": "2022-02-01T16:35:35.627Z"
   },
   {
    "duration": 26,
    "start_time": "2022-02-01T16:35:35.633Z"
   },
   {
    "duration": 633,
    "start_time": "2022-02-01T16:35:35.660Z"
   },
   {
    "duration": 13,
    "start_time": "2022-02-01T16:35:36.295Z"
   },
   {
    "duration": 28,
    "start_time": "2022-02-01T16:35:36.309Z"
   },
   {
    "duration": 19,
    "start_time": "2022-02-01T16:35:36.339Z"
   },
   {
    "duration": 39,
    "start_time": "2022-02-01T16:35:36.360Z"
   },
   {
    "duration": 26,
    "start_time": "2022-02-01T16:35:36.401Z"
   },
   {
    "duration": 10,
    "start_time": "2022-02-01T16:35:36.429Z"
   },
   {
    "duration": 41,
    "start_time": "2022-02-01T16:35:36.441Z"
   },
   {
    "duration": 8,
    "start_time": "2022-02-01T16:35:36.483Z"
   },
   {
    "duration": 58,
    "start_time": "2022-02-01T16:35:36.492Z"
   },
   {
    "duration": 6,
    "start_time": "2022-02-01T16:35:36.552Z"
   },
   {
    "duration": 34,
    "start_time": "2022-02-01T16:35:36.559Z"
   },
   {
    "duration": 7,
    "start_time": "2022-02-01T16:35:36.594Z"
   },
   {
    "duration": 1749,
    "start_time": "2022-02-01T16:37:39.473Z"
   },
   {
    "duration": 8,
    "start_time": "2022-02-01T16:37:41.223Z"
   },
   {
    "duration": 23,
    "start_time": "2022-02-01T16:37:41.233Z"
   },
   {
    "duration": 3,
    "start_time": "2022-02-01T16:37:41.258Z"
   },
   {
    "duration": 11,
    "start_time": "2022-02-01T16:37:41.262Z"
   },
   {
    "duration": 10,
    "start_time": "2022-02-01T16:37:41.274Z"
   },
   {
    "duration": 7,
    "start_time": "2022-02-01T16:37:41.285Z"
   },
   {
    "duration": 41,
    "start_time": "2022-02-01T16:37:41.294Z"
   },
   {
    "duration": 10,
    "start_time": "2022-02-01T16:37:41.336Z"
   },
   {
    "duration": 11,
    "start_time": "2022-02-01T16:37:41.347Z"
   },
   {
    "duration": 25,
    "start_time": "2022-02-01T16:37:41.360Z"
   },
   {
    "duration": 5,
    "start_time": "2022-02-01T16:37:41.387Z"
   },
   {
    "duration": 36,
    "start_time": "2022-02-01T16:37:41.393Z"
   },
   {
    "duration": 5,
    "start_time": "2022-02-01T16:37:41.431Z"
   },
   {
    "duration": 5,
    "start_time": "2022-02-01T16:37:41.438Z"
   },
   {
    "duration": 642,
    "start_time": "2022-02-01T16:37:41.444Z"
   },
   {
    "duration": 14,
    "start_time": "2022-02-01T16:37:42.088Z"
   },
   {
    "duration": 28,
    "start_time": "2022-02-01T16:37:42.104Z"
   },
   {
    "duration": 19,
    "start_time": "2022-02-01T16:37:42.134Z"
   },
   {
    "duration": 41,
    "start_time": "2022-02-01T16:37:42.154Z"
   },
   {
    "duration": 29,
    "start_time": "2022-02-01T16:37:42.197Z"
   },
   {
    "duration": 10,
    "start_time": "2022-02-01T16:37:42.228Z"
   },
   {
    "duration": 41,
    "start_time": "2022-02-01T16:37:42.241Z"
   },
   {
    "duration": 7,
    "start_time": "2022-02-01T16:37:42.284Z"
   },
   {
    "duration": 56,
    "start_time": "2022-02-01T16:37:42.293Z"
   },
   {
    "duration": 7,
    "start_time": "2022-02-01T16:37:42.350Z"
   },
   {
    "duration": 35,
    "start_time": "2022-02-01T16:37:42.358Z"
   },
   {
    "duration": 7,
    "start_time": "2022-02-01T16:37:42.395Z"
   },
   {
    "duration": 8,
    "start_time": "2022-02-02T04:35:00.709Z"
   },
   {
    "duration": 609,
    "start_time": "2022-02-02T04:39:48.857Z"
   },
   {
    "duration": 9,
    "start_time": "2022-02-02T04:39:49.468Z"
   },
   {
    "duration": 45,
    "start_time": "2022-02-02T04:39:49.481Z"
   },
   {
    "duration": 3,
    "start_time": "2022-02-02T04:39:49.528Z"
   },
   {
    "duration": 12,
    "start_time": "2022-02-02T04:39:49.532Z"
   },
   {
    "duration": 10,
    "start_time": "2022-02-02T04:39:49.545Z"
   },
   {
    "duration": 8,
    "start_time": "2022-02-02T04:39:49.558Z"
   },
   {
    "duration": 46,
    "start_time": "2022-02-02T04:39:49.567Z"
   },
   {
    "duration": 11,
    "start_time": "2022-02-02T04:39:49.615Z"
   },
   {
    "duration": 13,
    "start_time": "2022-02-02T04:39:49.627Z"
   },
   {
    "duration": 28,
    "start_time": "2022-02-02T04:39:49.641Z"
   },
   {
    "duration": 5,
    "start_time": "2022-02-02T04:39:49.671Z"
   },
   {
    "duration": 39,
    "start_time": "2022-02-02T04:39:49.678Z"
   },
   {
    "duration": 4,
    "start_time": "2022-02-02T04:39:49.719Z"
   },
   {
    "duration": 5,
    "start_time": "2022-02-02T04:39:49.725Z"
   },
   {
    "duration": 662,
    "start_time": "2022-02-02T04:39:49.731Z"
   },
   {
    "duration": 27,
    "start_time": "2022-02-02T04:39:50.395Z"
   },
   {
    "duration": 21,
    "start_time": "2022-02-02T04:39:50.424Z"
   },
   {
    "duration": 22,
    "start_time": "2022-02-02T04:39:50.446Z"
   },
   {
    "duration": 64,
    "start_time": "2022-02-02T04:39:50.470Z"
   },
   {
    "duration": 9,
    "start_time": "2022-02-02T04:39:50.536Z"
   },
   {
    "duration": 10,
    "start_time": "2022-02-02T04:39:50.548Z"
   },
   {
    "duration": 63,
    "start_time": "2022-02-02T04:39:50.559Z"
   },
   {
    "duration": 9,
    "start_time": "2022-02-02T04:39:50.623Z"
   },
   {
    "duration": 38,
    "start_time": "2022-02-02T04:39:50.633Z"
   },
   {
    "duration": 7,
    "start_time": "2022-02-02T04:39:50.673Z"
   },
   {
    "duration": 56,
    "start_time": "2022-02-02T04:39:50.682Z"
   },
   {
    "duration": 7,
    "start_time": "2022-02-02T04:39:50.740Z"
   },
   {
    "duration": 8,
    "start_time": "2022-02-02T04:40:02.852Z"
   },
   {
    "duration": 19,
    "start_time": "2022-02-02T04:40:30.486Z"
   },
   {
    "duration": 9,
    "start_time": "2022-02-02T04:40:43.798Z"
   },
   {
    "duration": 14,
    "start_time": "2022-02-02T04:41:01.704Z"
   },
   {
    "duration": 16,
    "start_time": "2022-02-02T04:41:21.207Z"
   },
   {
    "duration": 529,
    "start_time": "2022-02-03T18:21:43.228Z"
   },
   {
    "duration": 8,
    "start_time": "2022-02-03T18:22:18.667Z"
   },
   {
    "duration": 7,
    "start_time": "2022-02-03T18:22:31.454Z"
   },
   {
    "duration": 8,
    "start_time": "2022-02-03T18:22:46.375Z"
   },
   {
    "duration": 16,
    "start_time": "2022-02-03T18:25:35.055Z"
   },
   {
    "duration": 324,
    "start_time": "2022-02-03T18:25:44.978Z"
   },
   {
    "duration": 263,
    "start_time": "2022-02-03T18:25:53.414Z"
   },
   {
    "duration": 14,
    "start_time": "2022-02-03T18:26:01.240Z"
   },
   {
    "duration": 260,
    "start_time": "2022-02-03T18:26:34.122Z"
   },
   {
    "duration": 12,
    "start_time": "2022-02-03T18:26:42.364Z"
   },
   {
    "duration": 12,
    "start_time": "2022-02-03T18:26:54.089Z"
   },
   {
    "duration": 265,
    "start_time": "2022-02-03T18:27:09.817Z"
   },
   {
    "duration": 276,
    "start_time": "2022-02-03T18:27:27.973Z"
   },
   {
    "duration": 13,
    "start_time": "2022-02-03T18:27:37.073Z"
   },
   {
    "duration": 264,
    "start_time": "2022-02-03T18:28:04.391Z"
   },
   {
    "duration": 19,
    "start_time": "2022-02-03T18:28:12.812Z"
   }
  ],
  "kernelspec": {
   "display_name": "Python 3 (ipykernel)",
   "language": "python",
   "name": "python3"
  },
  "language_info": {
   "codemirror_mode": {
    "name": "ipython",
    "version": 3
   },
   "file_extension": ".py",
   "mimetype": "text/x-python",
   "name": "python",
   "nbconvert_exporter": "python",
   "pygments_lexer": "ipython3",
   "version": "3.9.7"
  },
  "toc": {
   "base_numbering": 1,
   "nav_menu": {},
   "number_sections": true,
   "sideBar": true,
   "skip_h1_title": true,
   "title_cell": "Table of Contents",
   "title_sidebar": "Contents",
   "toc_cell": false,
   "toc_position": {
    "height": "calc(100% - 180px)",
    "left": "10px",
    "top": "150px",
    "width": "273.188px"
   },
   "toc_section_display": true,
   "toc_window_display": true
  }
 },
 "nbformat": 4,
 "nbformat_minor": 2
}

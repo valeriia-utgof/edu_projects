{
 "cells": [
  {
   "cell_type": "markdown",
   "id": "c0583a89",
   "metadata": {},
   "source": [
    "**Оглавление:**\n",
    "1. [Изучение данных](#step1)  \n",
    "2. [Предобработка данных](#step2) \n",
    "3. [Приоритизация гипотез](#step3)\n",
    "4. [Анализ A/B-теста](#step4)\n",
    "5. [Общий вывод](#step5) "
   ]
  },
  {
   "cell_type": "markdown",
   "id": "4a98f313",
   "metadata": {},
   "source": [
    "<a id=\"step1\"></a>\n",
    "## Изучение данных "
   ]
  },
  {
   "cell_type": "markdown",
   "id": "6795f4fc",
   "metadata": {},
   "source": [
    "Для начала имортируем необходимые библиотеки:"
   ]
  },
  {
   "cell_type": "code",
   "execution_count": 1,
   "id": "1166b0b8",
   "metadata": {},
   "outputs": [],
   "source": [
    "import pandas as pd\n",
    "import matplotlib.pyplot as plt\n",
    "import numpy as np\n",
    "import scipy.stats as stats\n",
    "\n",
    "import datetime as dt"
   ]
  },
  {
   "cell_type": "markdown",
   "id": "32969cda",
   "metadata": {},
   "source": [
    "Для прочитения длинной гипотезы полность увеличим максимальную ширину столбцов в настройках pandas:"
   ]
  },
  {
   "cell_type": "code",
   "execution_count": 2,
   "id": "8e23b0d5",
   "metadata": {},
   "outputs": [],
   "source": [
    "pd.options.display.max_colwidth = 130"
   ]
  },
  {
   "cell_type": "markdown",
   "id": "380759ef",
   "metadata": {},
   "source": [
    "Рассмотрим по отдельности каждую таблицу:"
   ]
  },
  {
   "cell_type": "code",
   "execution_count": 3,
   "id": "f007829d",
   "metadata": {},
   "outputs": [],
   "source": [
    "hypothesis = pd.read_csv('datasets/hypothesis.csv')\n",
    "orders = pd.read_csv('datasets/orders.csv')\n",
    "visitors = pd.read_csv('datasets/visitors.csv')"
   ]
  },
  {
   "cell_type": "markdown",
   "id": "0b7cc231",
   "metadata": {},
   "source": [
    "Напишем функцию, которая поможет нам подробнее рассмотреть каждую таблицу:"
   ]
  },
  {
   "cell_type": "code",
   "execution_count": 4,
   "id": "2fb462c3",
   "metadata": {},
   "outputs": [],
   "source": [
    "def description(dataset):\n",
    "    display(dataset.head(10))\n",
    "    display(dataset.info())"
   ]
  },
  {
   "cell_type": "markdown",
   "id": "adb6337b",
   "metadata": {},
   "source": [
    "### Таблица hypothesis"
   ]
  },
  {
   "cell_type": "code",
   "execution_count": 5,
   "id": "2dcdf8cb",
   "metadata": {},
   "outputs": [
    {
     "data": {
      "text/html": [
       "<div>\n",
       "<style scoped>\n",
       "    .dataframe tbody tr th:only-of-type {\n",
       "        vertical-align: middle;\n",
       "    }\n",
       "\n",
       "    .dataframe tbody tr th {\n",
       "        vertical-align: top;\n",
       "    }\n",
       "\n",
       "    .dataframe thead th {\n",
       "        text-align: right;\n",
       "    }\n",
       "</style>\n",
       "<table border=\"1\" class=\"dataframe\">\n",
       "  <thead>\n",
       "    <tr style=\"text-align: right;\">\n",
       "      <th></th>\n",
       "      <th>Hypothesis</th>\n",
       "      <th>Reach</th>\n",
       "      <th>Impact</th>\n",
       "      <th>Confidence</th>\n",
       "      <th>Efforts</th>\n",
       "    </tr>\n",
       "  </thead>\n",
       "  <tbody>\n",
       "    <tr>\n",
       "      <th>0</th>\n",
       "      <td>Добавить два новых канала привлечения трафика, что позволит привлекать на 30% больше пользователей</td>\n",
       "      <td>3</td>\n",
       "      <td>10</td>\n",
       "      <td>8</td>\n",
       "      <td>6</td>\n",
       "    </tr>\n",
       "    <tr>\n",
       "      <th>1</th>\n",
       "      <td>Запустить собственную службу доставки, что сократит срок доставки заказов</td>\n",
       "      <td>2</td>\n",
       "      <td>5</td>\n",
       "      <td>4</td>\n",
       "      <td>10</td>\n",
       "    </tr>\n",
       "    <tr>\n",
       "      <th>2</th>\n",
       "      <td>Добавить блоки рекомендаций товаров на сайт интернет магазина, чтобы повысить конверсию и средний чек заказа</td>\n",
       "      <td>8</td>\n",
       "      <td>3</td>\n",
       "      <td>7</td>\n",
       "      <td>3</td>\n",
       "    </tr>\n",
       "    <tr>\n",
       "      <th>3</th>\n",
       "      <td>Изменить структура категорий, что увеличит конверсию, т.к. пользователи быстрее найдут нужный товар</td>\n",
       "      <td>8</td>\n",
       "      <td>3</td>\n",
       "      <td>3</td>\n",
       "      <td>8</td>\n",
       "    </tr>\n",
       "    <tr>\n",
       "      <th>4</th>\n",
       "      <td>Изменить цвет фона главной страницы, чтобы увеличить вовлеченность пользователей</td>\n",
       "      <td>3</td>\n",
       "      <td>1</td>\n",
       "      <td>1</td>\n",
       "      <td>1</td>\n",
       "    </tr>\n",
       "    <tr>\n",
       "      <th>5</th>\n",
       "      <td>Добавить страницу отзывов клиентов о магазине, что позволит увеличить количество заказов</td>\n",
       "      <td>3</td>\n",
       "      <td>2</td>\n",
       "      <td>2</td>\n",
       "      <td>3</td>\n",
       "    </tr>\n",
       "    <tr>\n",
       "      <th>6</th>\n",
       "      <td>Показать на главной странице баннеры с актуальными акциями и распродажами, чтобы увеличить конверсию</td>\n",
       "      <td>5</td>\n",
       "      <td>3</td>\n",
       "      <td>8</td>\n",
       "      <td>3</td>\n",
       "    </tr>\n",
       "    <tr>\n",
       "      <th>7</th>\n",
       "      <td>Добавить форму подписки на все основные страницы, чтобы собрать базу клиентов для email-рассылок</td>\n",
       "      <td>10</td>\n",
       "      <td>7</td>\n",
       "      <td>8</td>\n",
       "      <td>5</td>\n",
       "    </tr>\n",
       "    <tr>\n",
       "      <th>8</th>\n",
       "      <td>Запустить акцию, дающую скидку на товар в день рождения</td>\n",
       "      <td>1</td>\n",
       "      <td>9</td>\n",
       "      <td>9</td>\n",
       "      <td>5</td>\n",
       "    </tr>\n",
       "  </tbody>\n",
       "</table>\n",
       "</div>"
      ],
      "text/plain": [
       "                                                                                                     Hypothesis  \\\n",
       "0            Добавить два новых канала привлечения трафика, что позволит привлекать на 30% больше пользователей   \n",
       "1                                     Запустить собственную службу доставки, что сократит срок доставки заказов   \n",
       "2  Добавить блоки рекомендаций товаров на сайт интернет магазина, чтобы повысить конверсию и средний чек заказа   \n",
       "3           Изменить структура категорий, что увеличит конверсию, т.к. пользователи быстрее найдут нужный товар   \n",
       "4                              Изменить цвет фона главной страницы, чтобы увеличить вовлеченность пользователей   \n",
       "5                      Добавить страницу отзывов клиентов о магазине, что позволит увеличить количество заказов   \n",
       "6          Показать на главной странице баннеры с актуальными акциями и распродажами, чтобы увеличить конверсию   \n",
       "7              Добавить форму подписки на все основные страницы, чтобы собрать базу клиентов для email-рассылок   \n",
       "8                                                       Запустить акцию, дающую скидку на товар в день рождения   \n",
       "\n",
       "   Reach  Impact  Confidence  Efforts  \n",
       "0      3      10           8        6  \n",
       "1      2       5           4       10  \n",
       "2      8       3           7        3  \n",
       "3      8       3           3        8  \n",
       "4      3       1           1        1  \n",
       "5      3       2           2        3  \n",
       "6      5       3           8        3  \n",
       "7     10       7           8        5  \n",
       "8      1       9           9        5  "
      ]
     },
     "metadata": {},
     "output_type": "display_data"
    },
    {
     "name": "stdout",
     "output_type": "stream",
     "text": [
      "<class 'pandas.core.frame.DataFrame'>\n",
      "RangeIndex: 9 entries, 0 to 8\n",
      "Data columns (total 5 columns):\n",
      " #   Column      Non-Null Count  Dtype \n",
      "---  ------      --------------  ----- \n",
      " 0   Hypothesis  9 non-null      object\n",
      " 1   Reach       9 non-null      int64 \n",
      " 2   Impact      9 non-null      int64 \n",
      " 3   Confidence  9 non-null      int64 \n",
      " 4   Efforts     9 non-null      int64 \n",
      "dtypes: int64(4), object(1)\n",
      "memory usage: 488.0+ bytes\n"
     ]
    },
    {
     "data": {
      "text/plain": [
       "None"
      ]
     },
     "metadata": {},
     "output_type": "display_data"
    }
   ],
   "source": [
    "description(hypothesis)"
   ]
  },
  {
   "cell_type": "markdown",
   "id": "43cc11be",
   "metadata": {},
   "source": [
    "Таблица состоит из 9 строк и 5 столбцов.\n",
    "\n",
    "Видим, что в таблице отсутствуют пропущенные значения. В таблице имеются столбцы типа int и object. "
   ]
  },
  {
   "cell_type": "markdown",
   "id": "532e9935",
   "metadata": {},
   "source": [
    "### Таблица orders"
   ]
  },
  {
   "cell_type": "code",
   "execution_count": 6,
   "id": "c4292e35",
   "metadata": {
    "scrolled": false
   },
   "outputs": [
    {
     "data": {
      "text/html": [
       "<div>\n",
       "<style scoped>\n",
       "    .dataframe tbody tr th:only-of-type {\n",
       "        vertical-align: middle;\n",
       "    }\n",
       "\n",
       "    .dataframe tbody tr th {\n",
       "        vertical-align: top;\n",
       "    }\n",
       "\n",
       "    .dataframe thead th {\n",
       "        text-align: right;\n",
       "    }\n",
       "</style>\n",
       "<table border=\"1\" class=\"dataframe\">\n",
       "  <thead>\n",
       "    <tr style=\"text-align: right;\">\n",
       "      <th></th>\n",
       "      <th>transactionId</th>\n",
       "      <th>visitorId</th>\n",
       "      <th>date</th>\n",
       "      <th>revenue</th>\n",
       "      <th>group</th>\n",
       "    </tr>\n",
       "  </thead>\n",
       "  <tbody>\n",
       "    <tr>\n",
       "      <th>0</th>\n",
       "      <td>3667963787</td>\n",
       "      <td>3312258926</td>\n",
       "      <td>2019-08-15</td>\n",
       "      <td>1650</td>\n",
       "      <td>B</td>\n",
       "    </tr>\n",
       "    <tr>\n",
       "      <th>1</th>\n",
       "      <td>2804400009</td>\n",
       "      <td>3642806036</td>\n",
       "      <td>2019-08-15</td>\n",
       "      <td>730</td>\n",
       "      <td>B</td>\n",
       "    </tr>\n",
       "    <tr>\n",
       "      <th>2</th>\n",
       "      <td>2961555356</td>\n",
       "      <td>4069496402</td>\n",
       "      <td>2019-08-15</td>\n",
       "      <td>400</td>\n",
       "      <td>A</td>\n",
       "    </tr>\n",
       "    <tr>\n",
       "      <th>3</th>\n",
       "      <td>3797467345</td>\n",
       "      <td>1196621759</td>\n",
       "      <td>2019-08-15</td>\n",
       "      <td>9759</td>\n",
       "      <td>B</td>\n",
       "    </tr>\n",
       "    <tr>\n",
       "      <th>4</th>\n",
       "      <td>2282983706</td>\n",
       "      <td>2322279887</td>\n",
       "      <td>2019-08-15</td>\n",
       "      <td>2308</td>\n",
       "      <td>B</td>\n",
       "    </tr>\n",
       "    <tr>\n",
       "      <th>5</th>\n",
       "      <td>182168103</td>\n",
       "      <td>935554773</td>\n",
       "      <td>2019-08-15</td>\n",
       "      <td>2210</td>\n",
       "      <td>B</td>\n",
       "    </tr>\n",
       "    <tr>\n",
       "      <th>6</th>\n",
       "      <td>398296753</td>\n",
       "      <td>2900797465</td>\n",
       "      <td>2019-08-15</td>\n",
       "      <td>1860</td>\n",
       "      <td>B</td>\n",
       "    </tr>\n",
       "    <tr>\n",
       "      <th>7</th>\n",
       "      <td>2626614568</td>\n",
       "      <td>78758296</td>\n",
       "      <td>2019-08-15</td>\n",
       "      <td>1044</td>\n",
       "      <td>A</td>\n",
       "    </tr>\n",
       "    <tr>\n",
       "      <th>8</th>\n",
       "      <td>1576988021</td>\n",
       "      <td>295230930</td>\n",
       "      <td>2019-08-15</td>\n",
       "      <td>13710</td>\n",
       "      <td>A</td>\n",
       "    </tr>\n",
       "    <tr>\n",
       "      <th>9</th>\n",
       "      <td>1506739906</td>\n",
       "      <td>1882260405</td>\n",
       "      <td>2019-08-15</td>\n",
       "      <td>1855</td>\n",
       "      <td>B</td>\n",
       "    </tr>\n",
       "  </tbody>\n",
       "</table>\n",
       "</div>"
      ],
      "text/plain": [
       "   transactionId   visitorId        date  revenue group\n",
       "0     3667963787  3312258926  2019-08-15     1650     B\n",
       "1     2804400009  3642806036  2019-08-15      730     B\n",
       "2     2961555356  4069496402  2019-08-15      400     A\n",
       "3     3797467345  1196621759  2019-08-15     9759     B\n",
       "4     2282983706  2322279887  2019-08-15     2308     B\n",
       "5      182168103   935554773  2019-08-15     2210     B\n",
       "6      398296753  2900797465  2019-08-15     1860     B\n",
       "7     2626614568    78758296  2019-08-15     1044     A\n",
       "8     1576988021   295230930  2019-08-15    13710     A\n",
       "9     1506739906  1882260405  2019-08-15     1855     B"
      ]
     },
     "metadata": {},
     "output_type": "display_data"
    },
    {
     "name": "stdout",
     "output_type": "stream",
     "text": [
      "<class 'pandas.core.frame.DataFrame'>\n",
      "RangeIndex: 1197 entries, 0 to 1196\n",
      "Data columns (total 5 columns):\n",
      " #   Column         Non-Null Count  Dtype \n",
      "---  ------         --------------  ----- \n",
      " 0   transactionId  1197 non-null   int64 \n",
      " 1   visitorId      1197 non-null   int64 \n",
      " 2   date           1197 non-null   object\n",
      " 3   revenue        1197 non-null   int64 \n",
      " 4   group          1197 non-null   object\n",
      "dtypes: int64(3), object(2)\n",
      "memory usage: 46.9+ KB\n"
     ]
    },
    {
     "data": {
      "text/plain": [
       "None"
      ]
     },
     "metadata": {},
     "output_type": "display_data"
    }
   ],
   "source": [
    "description(orders)"
   ]
  },
  {
   "cell_type": "markdown",
   "id": "62414813",
   "metadata": {},
   "source": [
    "Таблица состоит из 1197 строк и 5 столбцов.\n",
    "\n",
    "Видим, что в таблице отсутствуют пропущенные значения. В таблице имеются столбцы типа int и object. Столбец `date` имеет тип object, для дальнейшего исследование необходимо будет изменить формат на datetime.\n",
    "\n",
    "Проверим начальную и конечную даты в таблице:"
   ]
  },
  {
   "cell_type": "code",
   "execution_count": 7,
   "id": "ea7230d2",
   "metadata": {},
   "outputs": [
    {
     "name": "stdout",
     "output_type": "stream",
     "text": [
      "Начальная дата - 2019-08-01, конечная дата - 2019-08-31\n"
     ]
    }
   ],
   "source": [
    "print('Начальная дата - {}, конечная дата - {}'.format(orders['date'].min(), orders['date'].max()))"
   ]
  },
  {
   "cell_type": "markdown",
   "id": "3105b9fa",
   "metadata": {},
   "source": [
    "### Таблица visitors"
   ]
  },
  {
   "cell_type": "code",
   "execution_count": 8,
   "id": "35907865",
   "metadata": {},
   "outputs": [
    {
     "data": {
      "text/html": [
       "<div>\n",
       "<style scoped>\n",
       "    .dataframe tbody tr th:only-of-type {\n",
       "        vertical-align: middle;\n",
       "    }\n",
       "\n",
       "    .dataframe tbody tr th {\n",
       "        vertical-align: top;\n",
       "    }\n",
       "\n",
       "    .dataframe thead th {\n",
       "        text-align: right;\n",
       "    }\n",
       "</style>\n",
       "<table border=\"1\" class=\"dataframe\">\n",
       "  <thead>\n",
       "    <tr style=\"text-align: right;\">\n",
       "      <th></th>\n",
       "      <th>date</th>\n",
       "      <th>group</th>\n",
       "      <th>visitors</th>\n",
       "    </tr>\n",
       "  </thead>\n",
       "  <tbody>\n",
       "    <tr>\n",
       "      <th>0</th>\n",
       "      <td>2019-08-01</td>\n",
       "      <td>A</td>\n",
       "      <td>719</td>\n",
       "    </tr>\n",
       "    <tr>\n",
       "      <th>1</th>\n",
       "      <td>2019-08-02</td>\n",
       "      <td>A</td>\n",
       "      <td>619</td>\n",
       "    </tr>\n",
       "    <tr>\n",
       "      <th>2</th>\n",
       "      <td>2019-08-03</td>\n",
       "      <td>A</td>\n",
       "      <td>507</td>\n",
       "    </tr>\n",
       "    <tr>\n",
       "      <th>3</th>\n",
       "      <td>2019-08-04</td>\n",
       "      <td>A</td>\n",
       "      <td>717</td>\n",
       "    </tr>\n",
       "    <tr>\n",
       "      <th>4</th>\n",
       "      <td>2019-08-05</td>\n",
       "      <td>A</td>\n",
       "      <td>756</td>\n",
       "    </tr>\n",
       "    <tr>\n",
       "      <th>5</th>\n",
       "      <td>2019-08-06</td>\n",
       "      <td>A</td>\n",
       "      <td>667</td>\n",
       "    </tr>\n",
       "    <tr>\n",
       "      <th>6</th>\n",
       "      <td>2019-08-07</td>\n",
       "      <td>A</td>\n",
       "      <td>644</td>\n",
       "    </tr>\n",
       "    <tr>\n",
       "      <th>7</th>\n",
       "      <td>2019-08-08</td>\n",
       "      <td>A</td>\n",
       "      <td>610</td>\n",
       "    </tr>\n",
       "    <tr>\n",
       "      <th>8</th>\n",
       "      <td>2019-08-09</td>\n",
       "      <td>A</td>\n",
       "      <td>617</td>\n",
       "    </tr>\n",
       "    <tr>\n",
       "      <th>9</th>\n",
       "      <td>2019-08-10</td>\n",
       "      <td>A</td>\n",
       "      <td>406</td>\n",
       "    </tr>\n",
       "  </tbody>\n",
       "</table>\n",
       "</div>"
      ],
      "text/plain": [
       "         date group  visitors\n",
       "0  2019-08-01     A       719\n",
       "1  2019-08-02     A       619\n",
       "2  2019-08-03     A       507\n",
       "3  2019-08-04     A       717\n",
       "4  2019-08-05     A       756\n",
       "5  2019-08-06     A       667\n",
       "6  2019-08-07     A       644\n",
       "7  2019-08-08     A       610\n",
       "8  2019-08-09     A       617\n",
       "9  2019-08-10     A       406"
      ]
     },
     "metadata": {},
     "output_type": "display_data"
    },
    {
     "name": "stdout",
     "output_type": "stream",
     "text": [
      "<class 'pandas.core.frame.DataFrame'>\n",
      "RangeIndex: 62 entries, 0 to 61\n",
      "Data columns (total 3 columns):\n",
      " #   Column    Non-Null Count  Dtype \n",
      "---  ------    --------------  ----- \n",
      " 0   date      62 non-null     object\n",
      " 1   group     62 non-null     object\n",
      " 2   visitors  62 non-null     int64 \n",
      "dtypes: int64(1), object(2)\n",
      "memory usage: 1.6+ KB\n"
     ]
    },
    {
     "data": {
      "text/plain": [
       "None"
      ]
     },
     "metadata": {},
     "output_type": "display_data"
    }
   ],
   "source": [
    "description(visitors)"
   ]
  },
  {
   "cell_type": "markdown",
   "id": "76c9b87b",
   "metadata": {},
   "source": [
    "Таблица состоит из 62 строк и 3 столбцов.\n",
    "\n",
    "Видим, что в таблице отсутствуют пропущенные значения. В таблице имеются столбцы типа int и object. Столбец `date` имеет тип object, для дальнейшего исследование необходимо будет изменить формат на datetime.\n",
    "\n",
    "Проверим начальную и конечную даты в таблице:"
   ]
  },
  {
   "cell_type": "code",
   "execution_count": 9,
   "id": "a6e595f0",
   "metadata": {},
   "outputs": [
    {
     "name": "stdout",
     "output_type": "stream",
     "text": [
      "Начальная дата - 2019-08-01, конечная дата - 2019-08-31\n"
     ]
    }
   ],
   "source": [
    "print('Начальная дата - {}, конечная дата - {}'.format(visitors['date'].min(), visitors['date'].max()))"
   ]
  },
  {
   "cell_type": "markdown",
   "id": "8023041e",
   "metadata": {},
   "source": [
    "Временные рамки в таблицах `orders` и `visits` совпадают."
   ]
  },
  {
   "cell_type": "markdown",
   "id": "9bdae584",
   "metadata": {},
   "source": [
    "**Вывод**"
   ]
  },
  {
   "cell_type": "markdown",
   "id": "7a236e11",
   "metadata": {},
   "source": [
    "В нашем распоряжении 3 таблицы: в первой содержатся сформулированные гипотезы и их оценки по различным параметрам, в остальных двух - данные о логах при проведении A/B-теста с разбивкой на группы, а именно: данные о пользователях и совершенных ими заказах, полученной выручке, а также данные о посещениях пользователями интернет-магазина.   \n",
    "\n",
    "При рассмотрении таблиц мы выявили следующие моменты, требующие корректировки:\n",
    "\n",
    "* В таблицах `orders` и `visitors` необходимо изменить тип данных для столбцов, содержащих в себе даты, на тип datetime;\n",
    "\n",
    "* Необходимо привести названия столбцов к нижнему регистру.\n",
    "\n",
    "Для дальнейшего исследования нам потребуется провести предобработку данных."
   ]
  },
  {
   "cell_type": "markdown",
   "id": "a5c4ae10",
   "metadata": {},
   "source": [
    "<a id=\"step2\"></a>\n",
    "## Предобработка данных "
   ]
  },
  {
   "cell_type": "markdown",
   "id": "56acd061",
   "metadata": {},
   "source": [
    "Проверим, нет ли в нашей таблице дубликатов:"
   ]
  },
  {
   "cell_type": "code",
   "execution_count": 10,
   "id": "5079c74f",
   "metadata": {},
   "outputs": [
    {
     "data": {
      "text/plain": [
       "0"
      ]
     },
     "metadata": {},
     "output_type": "display_data"
    },
    {
     "data": {
      "text/plain": [
       "0"
      ]
     },
     "metadata": {},
     "output_type": "display_data"
    }
   ],
   "source": [
    "display(visitors.duplicated().sum(), orders.duplicated().sum())"
   ]
  },
  {
   "cell_type": "markdown",
   "id": "4a6e68f6",
   "metadata": {},
   "source": [
    "Дубликаты не обнаружены."
   ]
  },
  {
   "cell_type": "markdown",
   "id": "af2377ea",
   "metadata": {},
   "source": [
    "### Приведение к нижнему регистру"
   ]
  },
  {
   "cell_type": "markdown",
   "id": "3ffede13",
   "metadata": {},
   "source": [
    "Приведем наименование столбцов к нижнему регистру:"
   ]
  },
  {
   "cell_type": "code",
   "execution_count": 11,
   "id": "56c37722",
   "metadata": {},
   "outputs": [],
   "source": [
    "hypothesis.columns = hypothesis.columns.str.lower()\n",
    "orders = orders.rename(\n",
    "    columns={'transactionId': 'transaction_id',\n",
    "            'visitorId': 'visitor_id'}\n",
    ")"
   ]
  },
  {
   "cell_type": "markdown",
   "id": "d266636e",
   "metadata": {},
   "source": [
    "### Замена типа данных"
   ]
  },
  {
   "cell_type": "markdown",
   "id": "84f32d0c",
   "metadata": {},
   "source": [
    "Изменим тип данных для столбцов, содержащих в себе даты, на тип datetime:"
   ]
  },
  {
   "cell_type": "code",
   "execution_count": 12,
   "id": "bb6513a6",
   "metadata": {
    "scrolled": false
   },
   "outputs": [],
   "source": [
    "visitors['date'] = visitors['date'].map(\n",
    "    lambda x: dt.datetime.strptime(x, '%Y-%m-%d')\n",
    ")\n",
    "\n",
    "orders['date'] = orders['date'].map(\n",
    "    lambda x: dt.datetime.strptime(x, '%Y-%m-%d')\n",
    ")"
   ]
  },
  {
   "cell_type": "markdown",
   "id": "afea0d99",
   "metadata": {},
   "source": [
    "Проверим, нет ли в наших данных пользователей, которые попали в обе группы. Отсортируем пользователей про группам, а затем проверим пересечение:"
   ]
  },
  {
   "cell_type": "code",
   "execution_count": 13,
   "id": "be0893be",
   "metadata": {},
   "outputs": [
    {
     "data": {
      "text/plain": [
       "58"
      ]
     },
     "execution_count": 13,
     "metadata": {},
     "output_type": "execute_result"
    }
   ],
   "source": [
    "group_a = orders[orders['group'] == 'A']\n",
    "group_b = orders[orders['group'] == 'B']\n",
    "\n",
    "cross_users = list(np.intersect1d(group_a['visitor_id'], group_b['visitor_id']))\n",
    "\n",
    "len(cross_users)"
   ]
  },
  {
   "cell_type": "markdown",
   "id": "c1e20220",
   "metadata": {},
   "source": [
    "Видим, что у нас есть 58 пользователей, которые входят в обе группы. Чтобы избежать искажения дальнейших результатов, уберем этих пользователей из наших данных:"
   ]
  },
  {
   "cell_type": "code",
   "execution_count": 14,
   "id": "9cff8c6e",
   "metadata": {},
   "outputs": [
    {
     "data": {
      "text/plain": [
       "(1016, 5)"
      ]
     },
     "execution_count": 14,
     "metadata": {},
     "output_type": "execute_result"
    }
   ],
   "source": [
    "non_cross_orders = orders.query('visitor_id not in @cross_users')\n",
    "non_cross_orders.shape"
   ]
  },
  {
   "cell_type": "markdown",
   "id": "4a5dac2c",
   "metadata": {},
   "source": [
    "Таблица с заказами сократилась на 181 строку, но при этом данные при анализе A/B-теста не будут искажены пересекающимися пользователями. Будем использовать срез `non_cross_orders` для дальнейшего анализа."
   ]
  },
  {
   "cell_type": "markdown",
   "id": "bbdd8413",
   "metadata": {},
   "source": [
    "**Вывод**"
   ]
  },
  {
   "cell_type": "markdown",
   "id": "8e897536",
   "metadata": {},
   "source": [
    "Мы провели следующие преобразования:\n",
    "\n",
    "* Убедились, что в нашей таблице отсутствуют дубликаты.\n",
    "* Привели наименования столбцов к нижнему регистру.\n",
    "* В столбцах, содержащих в себе даты, заменили тип данных на datetime.\n",
    "* Убрали из нашей таблицы пользователей, которые входят в обе тестовые группы."
   ]
  },
  {
   "cell_type": "markdown",
   "id": "8a6264e8",
   "metadata": {},
   "source": [
    "<a id=\"step3\"></a>\n",
    "## Приоритизация гипотез"
   ]
  },
  {
   "cell_type": "markdown",
   "id": "3e551809",
   "metadata": {},
   "source": [
    "Выведем на экран полностью таблицу с подготовленным списком гипотез:"
   ]
  },
  {
   "cell_type": "code",
   "execution_count": 15,
   "id": "9c4c9464",
   "metadata": {},
   "outputs": [
    {
     "data": {
      "text/html": [
       "<div>\n",
       "<style scoped>\n",
       "    .dataframe tbody tr th:only-of-type {\n",
       "        vertical-align: middle;\n",
       "    }\n",
       "\n",
       "    .dataframe tbody tr th {\n",
       "        vertical-align: top;\n",
       "    }\n",
       "\n",
       "    .dataframe thead th {\n",
       "        text-align: right;\n",
       "    }\n",
       "</style>\n",
       "<table border=\"1\" class=\"dataframe\">\n",
       "  <thead>\n",
       "    <tr style=\"text-align: right;\">\n",
       "      <th></th>\n",
       "      <th>hypothesis</th>\n",
       "      <th>reach</th>\n",
       "      <th>impact</th>\n",
       "      <th>confidence</th>\n",
       "      <th>efforts</th>\n",
       "    </tr>\n",
       "  </thead>\n",
       "  <tbody>\n",
       "    <tr>\n",
       "      <th>0</th>\n",
       "      <td>Добавить два новых канала привлечения трафика, что позволит привлекать на 30% больше пользователей</td>\n",
       "      <td>3</td>\n",
       "      <td>10</td>\n",
       "      <td>8</td>\n",
       "      <td>6</td>\n",
       "    </tr>\n",
       "    <tr>\n",
       "      <th>1</th>\n",
       "      <td>Запустить собственную службу доставки, что сократит срок доставки заказов</td>\n",
       "      <td>2</td>\n",
       "      <td>5</td>\n",
       "      <td>4</td>\n",
       "      <td>10</td>\n",
       "    </tr>\n",
       "    <tr>\n",
       "      <th>2</th>\n",
       "      <td>Добавить блоки рекомендаций товаров на сайт интернет магазина, чтобы повысить конверсию и средний чек заказа</td>\n",
       "      <td>8</td>\n",
       "      <td>3</td>\n",
       "      <td>7</td>\n",
       "      <td>3</td>\n",
       "    </tr>\n",
       "    <tr>\n",
       "      <th>3</th>\n",
       "      <td>Изменить структура категорий, что увеличит конверсию, т.к. пользователи быстрее найдут нужный товар</td>\n",
       "      <td>8</td>\n",
       "      <td>3</td>\n",
       "      <td>3</td>\n",
       "      <td>8</td>\n",
       "    </tr>\n",
       "    <tr>\n",
       "      <th>4</th>\n",
       "      <td>Изменить цвет фона главной страницы, чтобы увеличить вовлеченность пользователей</td>\n",
       "      <td>3</td>\n",
       "      <td>1</td>\n",
       "      <td>1</td>\n",
       "      <td>1</td>\n",
       "    </tr>\n",
       "    <tr>\n",
       "      <th>5</th>\n",
       "      <td>Добавить страницу отзывов клиентов о магазине, что позволит увеличить количество заказов</td>\n",
       "      <td>3</td>\n",
       "      <td>2</td>\n",
       "      <td>2</td>\n",
       "      <td>3</td>\n",
       "    </tr>\n",
       "    <tr>\n",
       "      <th>6</th>\n",
       "      <td>Показать на главной странице баннеры с актуальными акциями и распродажами, чтобы увеличить конверсию</td>\n",
       "      <td>5</td>\n",
       "      <td>3</td>\n",
       "      <td>8</td>\n",
       "      <td>3</td>\n",
       "    </tr>\n",
       "    <tr>\n",
       "      <th>7</th>\n",
       "      <td>Добавить форму подписки на все основные страницы, чтобы собрать базу клиентов для email-рассылок</td>\n",
       "      <td>10</td>\n",
       "      <td>7</td>\n",
       "      <td>8</td>\n",
       "      <td>5</td>\n",
       "    </tr>\n",
       "    <tr>\n",
       "      <th>8</th>\n",
       "      <td>Запустить акцию, дающую скидку на товар в день рождения</td>\n",
       "      <td>1</td>\n",
       "      <td>9</td>\n",
       "      <td>9</td>\n",
       "      <td>5</td>\n",
       "    </tr>\n",
       "  </tbody>\n",
       "</table>\n",
       "</div>"
      ],
      "text/plain": [
       "                                                                                                     hypothesis  \\\n",
       "0            Добавить два новых канала привлечения трафика, что позволит привлекать на 30% больше пользователей   \n",
       "1                                     Запустить собственную службу доставки, что сократит срок доставки заказов   \n",
       "2  Добавить блоки рекомендаций товаров на сайт интернет магазина, чтобы повысить конверсию и средний чек заказа   \n",
       "3           Изменить структура категорий, что увеличит конверсию, т.к. пользователи быстрее найдут нужный товар   \n",
       "4                              Изменить цвет фона главной страницы, чтобы увеличить вовлеченность пользователей   \n",
       "5                      Добавить страницу отзывов клиентов о магазине, что позволит увеличить количество заказов   \n",
       "6          Показать на главной странице баннеры с актуальными акциями и распродажами, чтобы увеличить конверсию   \n",
       "7              Добавить форму подписки на все основные страницы, чтобы собрать базу клиентов для email-рассылок   \n",
       "8                                                       Запустить акцию, дающую скидку на товар в день рождения   \n",
       "\n",
       "   reach  impact  confidence  efforts  \n",
       "0      3      10           8        6  \n",
       "1      2       5           4       10  \n",
       "2      8       3           7        3  \n",
       "3      8       3           3        8  \n",
       "4      3       1           1        1  \n",
       "5      3       2           2        3  \n",
       "6      5       3           8        3  \n",
       "7     10       7           8        5  \n",
       "8      1       9           9        5  "
      ]
     },
     "execution_count": 15,
     "metadata": {},
     "output_type": "execute_result"
    }
   ],
   "source": [
    "hypothesis"
   ]
  },
  {
   "cell_type": "markdown",
   "id": "d5a83bb7",
   "metadata": {},
   "source": [
    "Выведем отдельно полное наименование каждой гипотезы:"
   ]
  },
  {
   "cell_type": "code",
   "execution_count": 16,
   "id": "13c7529d",
   "metadata": {},
   "outputs": [
    {
     "data": {
      "text/plain": [
       "array(['Добавить два новых канала привлечения трафика, что позволит привлекать на 30% больше пользователей',\n",
       "       'Запустить собственную службу доставки, что сократит срок доставки заказов',\n",
       "       'Добавить блоки рекомендаций товаров на сайт интернет магазина, чтобы повысить конверсию и средний чек заказа',\n",
       "       'Изменить структура категорий, что увеличит конверсию, т.к. пользователи быстрее найдут нужный товар',\n",
       "       'Изменить цвет фона главной страницы, чтобы увеличить вовлеченность пользователей',\n",
       "       'Добавить страницу отзывов клиентов о магазине, что позволит увеличить количество заказов',\n",
       "       'Показать на главной странице баннеры с актуальными акциями и распродажами, чтобы увеличить конверсию',\n",
       "       'Добавить форму подписки на все основные страницы, чтобы собрать базу клиентов для email-рассылок',\n",
       "       'Запустить акцию, дающую скидку на товар в день рождения'],\n",
       "      dtype=object)"
      ]
     },
     "execution_count": 16,
     "metadata": {},
     "output_type": "execute_result"
    }
   ],
   "source": [
    "hypothesis['hypothesis'].unique()"
   ]
  },
  {
   "cell_type": "markdown",
   "id": "b8c66672",
   "metadata": {},
   "source": [
    "### Фреймворк ICE"
   ]
  },
  {
   "cell_type": "markdown",
   "id": "2c643847",
   "metadata": {},
   "source": [
    "Посчитаем ICE для гипотез:"
   ]
  },
  {
   "cell_type": "code",
   "execution_count": 17,
   "id": "c4d5d160",
   "metadata": {},
   "outputs": [
    {
     "data": {
      "text/html": [
       "<div>\n",
       "<style scoped>\n",
       "    .dataframe tbody tr th:only-of-type {\n",
       "        vertical-align: middle;\n",
       "    }\n",
       "\n",
       "    .dataframe tbody tr th {\n",
       "        vertical-align: top;\n",
       "    }\n",
       "\n",
       "    .dataframe thead th {\n",
       "        text-align: right;\n",
       "    }\n",
       "</style>\n",
       "<table border=\"1\" class=\"dataframe\">\n",
       "  <thead>\n",
       "    <tr style=\"text-align: right;\">\n",
       "      <th></th>\n",
       "      <th>hypothesis</th>\n",
       "      <th>ICE</th>\n",
       "    </tr>\n",
       "  </thead>\n",
       "  <tbody>\n",
       "    <tr>\n",
       "      <th>8</th>\n",
       "      <td>Запустить акцию, дающую скидку на товар в день рождения</td>\n",
       "      <td>16.200000</td>\n",
       "    </tr>\n",
       "    <tr>\n",
       "      <th>0</th>\n",
       "      <td>Добавить два новых канала привлечения трафика, что позволит привлекать на 30% больше пользователей</td>\n",
       "      <td>13.333333</td>\n",
       "    </tr>\n",
       "    <tr>\n",
       "      <th>7</th>\n",
       "      <td>Добавить форму подписки на все основные страницы, чтобы собрать базу клиентов для email-рассылок</td>\n",
       "      <td>11.200000</td>\n",
       "    </tr>\n",
       "    <tr>\n",
       "      <th>6</th>\n",
       "      <td>Показать на главной странице баннеры с актуальными акциями и распродажами, чтобы увеличить конверсию</td>\n",
       "      <td>8.000000</td>\n",
       "    </tr>\n",
       "    <tr>\n",
       "      <th>2</th>\n",
       "      <td>Добавить блоки рекомендаций товаров на сайт интернет магазина, чтобы повысить конверсию и средний чек заказа</td>\n",
       "      <td>7.000000</td>\n",
       "    </tr>\n",
       "    <tr>\n",
       "      <th>1</th>\n",
       "      <td>Запустить собственную службу доставки, что сократит срок доставки заказов</td>\n",
       "      <td>2.000000</td>\n",
       "    </tr>\n",
       "    <tr>\n",
       "      <th>5</th>\n",
       "      <td>Добавить страницу отзывов клиентов о магазине, что позволит увеличить количество заказов</td>\n",
       "      <td>1.333333</td>\n",
       "    </tr>\n",
       "    <tr>\n",
       "      <th>3</th>\n",
       "      <td>Изменить структура категорий, что увеличит конверсию, т.к. пользователи быстрее найдут нужный товар</td>\n",
       "      <td>1.125000</td>\n",
       "    </tr>\n",
       "    <tr>\n",
       "      <th>4</th>\n",
       "      <td>Изменить цвет фона главной страницы, чтобы увеличить вовлеченность пользователей</td>\n",
       "      <td>1.000000</td>\n",
       "    </tr>\n",
       "  </tbody>\n",
       "</table>\n",
       "</div>"
      ],
      "text/plain": [
       "                                                                                                     hypothesis  \\\n",
       "8                                                       Запустить акцию, дающую скидку на товар в день рождения   \n",
       "0            Добавить два новых канала привлечения трафика, что позволит привлекать на 30% больше пользователей   \n",
       "7              Добавить форму подписки на все основные страницы, чтобы собрать базу клиентов для email-рассылок   \n",
       "6          Показать на главной странице баннеры с актуальными акциями и распродажами, чтобы увеличить конверсию   \n",
       "2  Добавить блоки рекомендаций товаров на сайт интернет магазина, чтобы повысить конверсию и средний чек заказа   \n",
       "1                                     Запустить собственную службу доставки, что сократит срок доставки заказов   \n",
       "5                      Добавить страницу отзывов клиентов о магазине, что позволит увеличить количество заказов   \n",
       "3           Изменить структура категорий, что увеличит конверсию, т.к. пользователи быстрее найдут нужный товар   \n",
       "4                              Изменить цвет фона главной страницы, чтобы увеличить вовлеченность пользователей   \n",
       "\n",
       "         ICE  \n",
       "8  16.200000  \n",
       "0  13.333333  \n",
       "7  11.200000  \n",
       "6   8.000000  \n",
       "2   7.000000  \n",
       "1   2.000000  \n",
       "5   1.333333  \n",
       "3   1.125000  \n",
       "4   1.000000  "
      ]
     },
     "metadata": {},
     "output_type": "display_data"
    }
   ],
   "source": [
    "hypothesis['ICE'] = (hypothesis['impact'] * hypothesis['confidence'])/hypothesis['efforts']\n",
    "display(hypothesis[['hypothesis', 'ICE']].sort_values(by='ICE', ascending=False))"
   ]
  },
  {
   "cell_type": "markdown",
   "id": "81f30551",
   "metadata": {},
   "source": [
    "Наиболее перспективные гипотезы по ICE:\n",
    "* 8 - Запустить акцию, дающую скидку на товар в день рождения,\n",
    "* 0 - Добавить два новых канала привлечения трафика, что позволит привлекать на 30% больше пользователей,\n",
    "* 7 - Добавить форму подписки на все основные страницы, чтобы собрать базу клиентов для email-рассылок,\n",
    "* 6 - Показать на главной странице баннеры с актуальными акциями и распродажами, чтобы увеличить конверсию."
   ]
  },
  {
   "cell_type": "markdown",
   "id": "7804a844",
   "metadata": {},
   "source": [
    "### Фреймворк RICE"
   ]
  },
  {
   "cell_type": "markdown",
   "id": "8acd7942",
   "metadata": {},
   "source": [
    "Посчитаем RICE для гипотез:"
   ]
  },
  {
   "cell_type": "code",
   "execution_count": 18,
   "id": "986e6bdd",
   "metadata": {},
   "outputs": [
    {
     "data": {
      "text/html": [
       "<div>\n",
       "<style scoped>\n",
       "    .dataframe tbody tr th:only-of-type {\n",
       "        vertical-align: middle;\n",
       "    }\n",
       "\n",
       "    .dataframe tbody tr th {\n",
       "        vertical-align: top;\n",
       "    }\n",
       "\n",
       "    .dataframe thead th {\n",
       "        text-align: right;\n",
       "    }\n",
       "</style>\n",
       "<table border=\"1\" class=\"dataframe\">\n",
       "  <thead>\n",
       "    <tr style=\"text-align: right;\">\n",
       "      <th></th>\n",
       "      <th>hypothesis</th>\n",
       "      <th>RICE</th>\n",
       "      <th>reach</th>\n",
       "    </tr>\n",
       "  </thead>\n",
       "  <tbody>\n",
       "    <tr>\n",
       "      <th>7</th>\n",
       "      <td>Добавить форму подписки на все основные страницы, чтобы собрать базу клиентов для email-рассылок</td>\n",
       "      <td>112.0</td>\n",
       "      <td>10</td>\n",
       "    </tr>\n",
       "    <tr>\n",
       "      <th>2</th>\n",
       "      <td>Добавить блоки рекомендаций товаров на сайт интернет магазина, чтобы повысить конверсию и средний чек заказа</td>\n",
       "      <td>56.0</td>\n",
       "      <td>8</td>\n",
       "    </tr>\n",
       "    <tr>\n",
       "      <th>6</th>\n",
       "      <td>Показать на главной странице баннеры с актуальными акциями и распродажами, чтобы увеличить конверсию</td>\n",
       "      <td>40.0</td>\n",
       "      <td>5</td>\n",
       "    </tr>\n",
       "    <tr>\n",
       "      <th>0</th>\n",
       "      <td>Добавить два новых канала привлечения трафика, что позволит привлекать на 30% больше пользователей</td>\n",
       "      <td>40.0</td>\n",
       "      <td>3</td>\n",
       "    </tr>\n",
       "    <tr>\n",
       "      <th>8</th>\n",
       "      <td>Запустить акцию, дающую скидку на товар в день рождения</td>\n",
       "      <td>16.2</td>\n",
       "      <td>1</td>\n",
       "    </tr>\n",
       "    <tr>\n",
       "      <th>3</th>\n",
       "      <td>Изменить структура категорий, что увеличит конверсию, т.к. пользователи быстрее найдут нужный товар</td>\n",
       "      <td>9.0</td>\n",
       "      <td>8</td>\n",
       "    </tr>\n",
       "    <tr>\n",
       "      <th>5</th>\n",
       "      <td>Добавить страницу отзывов клиентов о магазине, что позволит увеличить количество заказов</td>\n",
       "      <td>4.0</td>\n",
       "      <td>3</td>\n",
       "    </tr>\n",
       "    <tr>\n",
       "      <th>1</th>\n",
       "      <td>Запустить собственную службу доставки, что сократит срок доставки заказов</td>\n",
       "      <td>4.0</td>\n",
       "      <td>2</td>\n",
       "    </tr>\n",
       "    <tr>\n",
       "      <th>4</th>\n",
       "      <td>Изменить цвет фона главной страницы, чтобы увеличить вовлеченность пользователей</td>\n",
       "      <td>3.0</td>\n",
       "      <td>3</td>\n",
       "    </tr>\n",
       "  </tbody>\n",
       "</table>\n",
       "</div>"
      ],
      "text/plain": [
       "                                                                                                     hypothesis  \\\n",
       "7              Добавить форму подписки на все основные страницы, чтобы собрать базу клиентов для email-рассылок   \n",
       "2  Добавить блоки рекомендаций товаров на сайт интернет магазина, чтобы повысить конверсию и средний чек заказа   \n",
       "6          Показать на главной странице баннеры с актуальными акциями и распродажами, чтобы увеличить конверсию   \n",
       "0            Добавить два новых канала привлечения трафика, что позволит привлекать на 30% больше пользователей   \n",
       "8                                                       Запустить акцию, дающую скидку на товар в день рождения   \n",
       "3           Изменить структура категорий, что увеличит конверсию, т.к. пользователи быстрее найдут нужный товар   \n",
       "5                      Добавить страницу отзывов клиентов о магазине, что позволит увеличить количество заказов   \n",
       "1                                     Запустить собственную службу доставки, что сократит срок доставки заказов   \n",
       "4                              Изменить цвет фона главной страницы, чтобы увеличить вовлеченность пользователей   \n",
       "\n",
       "    RICE  reach  \n",
       "7  112.0     10  \n",
       "2   56.0      8  \n",
       "6   40.0      5  \n",
       "0   40.0      3  \n",
       "8   16.2      1  \n",
       "3    9.0      8  \n",
       "5    4.0      3  \n",
       "1    4.0      2  \n",
       "4    3.0      3  "
      ]
     },
     "metadata": {},
     "output_type": "display_data"
    }
   ],
   "source": [
    "hypothesis['RICE'] = (hypothesis['reach'] * hypothesis['impact'] * hypothesis['confidence'])/hypothesis['efforts']\n",
    "display(hypothesis[['hypothesis', 'RICE', 'reach']].sort_values(by=['RICE', 'reach'], ascending=False))"
   ]
  },
  {
   "cell_type": "markdown",
   "id": "f1240696",
   "metadata": {},
   "source": [
    "Наиболее перспективные гипотезы по RICE:\n",
    "\n",
    "* 7 - Добавить форму подписки на все основные страницы, чтобы собрать базу клиентов для email-рассылок,\n",
    "* 2 - Добавить блоки рекомендаций товаров на сайт интернет магазина, чтобы повысить конверсию и средний чек заказа,\n",
    "* 6 - Показать на главной странице баннеры с актуальными акциями и распродажами, чтобы увеличить конверсию,\n",
    "* 0 - Добавить два новых канала привлечения трафика, что позволит привлекать на 30% больше пользователей."
   ]
  },
  {
   "cell_type": "markdown",
   "id": "201bfd73",
   "metadata": {},
   "source": [
    "\n"
   ]
  },
  {
   "cell_type": "markdown",
   "id": "7ea7c7ca",
   "metadata": {},
   "source": [
    "**Вывод**"
   ]
  },
  {
   "cell_type": "markdown",
   "id": "98d29241",
   "metadata": {},
   "source": [
    "В таблице ICE лидируют гипотезы 8, 0, 7, 6, тогда как в таблице RICE, в которой учитывается охват изменений, лидируют гипотезы 7, 2, 6, 0. \n",
    "\n",
    "Если посмотреть на изначальную таблицу, то можно увидеть, что в результате лидирующими оказались гипотезы, имеющие высокие оценки параметра Confidence. \t\n",
    "\n",
    "Мы знаем, что помимо абсолютной оценки силы гипотезы необходимо помнить о том, какое количество пользователей затронет привносимое изменение. Исходя из этого, наиболее перспективными для тестирования представляются гипотезы 7 (\"Добавить форму подписки на все основные страницы, чтобы собрать базу клиентов для email-рассылок\") и 2 (\"Добавить блоки рекомендаций товаров на сайт интернет магазина, чтобы повысить конверсию и средний чек заказа\"). "
   ]
  },
  {
   "cell_type": "markdown",
   "id": "1aec176c",
   "metadata": {},
   "source": [
    "<a id=\"step4\"></a>\n",
    "## Анализ A/B-теста"
   ]
  },
  {
   "cell_type": "markdown",
   "id": "cb992806",
   "metadata": {},
   "source": [
    "Для начала получим общую таблицу с куммулятивными данными:"
   ]
  },
  {
   "cell_type": "code",
   "execution_count": 19,
   "id": "4967260c",
   "metadata": {},
   "outputs": [
    {
     "data": {
      "text/html": [
       "<div>\n",
       "<style scoped>\n",
       "    .dataframe tbody tr th:only-of-type {\n",
       "        vertical-align: middle;\n",
       "    }\n",
       "\n",
       "    .dataframe tbody tr th {\n",
       "        vertical-align: top;\n",
       "    }\n",
       "\n",
       "    .dataframe thead th {\n",
       "        text-align: right;\n",
       "    }\n",
       "</style>\n",
       "<table border=\"1\" class=\"dataframe\">\n",
       "  <thead>\n",
       "    <tr style=\"text-align: right;\">\n",
       "      <th></th>\n",
       "      <th>date</th>\n",
       "      <th>group</th>\n",
       "      <th>orders</th>\n",
       "      <th>buyers</th>\n",
       "      <th>revenue</th>\n",
       "      <th>visitors</th>\n",
       "    </tr>\n",
       "  </thead>\n",
       "  <tbody>\n",
       "    <tr>\n",
       "      <th>0</th>\n",
       "      <td>2019-08-01</td>\n",
       "      <td>A</td>\n",
       "      <td>23</td>\n",
       "      <td>19</td>\n",
       "      <td>142779</td>\n",
       "      <td>719</td>\n",
       "    </tr>\n",
       "    <tr>\n",
       "      <th>1</th>\n",
       "      <td>2019-08-01</td>\n",
       "      <td>B</td>\n",
       "      <td>17</td>\n",
       "      <td>17</td>\n",
       "      <td>59758</td>\n",
       "      <td>713</td>\n",
       "    </tr>\n",
       "    <tr>\n",
       "      <th>2</th>\n",
       "      <td>2019-08-02</td>\n",
       "      <td>A</td>\n",
       "      <td>42</td>\n",
       "      <td>36</td>\n",
       "      <td>234381</td>\n",
       "      <td>1338</td>\n",
       "    </tr>\n",
       "    <tr>\n",
       "      <th>3</th>\n",
       "      <td>2019-08-02</td>\n",
       "      <td>B</td>\n",
       "      <td>40</td>\n",
       "      <td>39</td>\n",
       "      <td>221801</td>\n",
       "      <td>1294</td>\n",
       "    </tr>\n",
       "    <tr>\n",
       "      <th>4</th>\n",
       "      <td>2019-08-03</td>\n",
       "      <td>A</td>\n",
       "      <td>66</td>\n",
       "      <td>60</td>\n",
       "      <td>346854</td>\n",
       "      <td>1845</td>\n",
       "    </tr>\n",
       "    <tr>\n",
       "      <th>...</th>\n",
       "      <td>...</td>\n",
       "      <td>...</td>\n",
       "      <td>...</td>\n",
       "      <td>...</td>\n",
       "      <td>...</td>\n",
       "      <td>...</td>\n",
       "    </tr>\n",
       "    <tr>\n",
       "      <th>57</th>\n",
       "      <td>2019-08-29</td>\n",
       "      <td>B</td>\n",
       "      <td>510</td>\n",
       "      <td>490</td>\n",
       "      <td>4746610</td>\n",
       "      <td>17708</td>\n",
       "    </tr>\n",
       "    <tr>\n",
       "      <th>58</th>\n",
       "      <td>2019-08-30</td>\n",
       "      <td>A</td>\n",
       "      <td>460</td>\n",
       "      <td>437</td>\n",
       "      <td>3311413</td>\n",
       "      <td>18037</td>\n",
       "    </tr>\n",
       "    <tr>\n",
       "      <th>59</th>\n",
       "      <td>2019-08-30</td>\n",
       "      <td>B</td>\n",
       "      <td>531</td>\n",
       "      <td>511</td>\n",
       "      <td>4955833</td>\n",
       "      <td>18198</td>\n",
       "    </tr>\n",
       "    <tr>\n",
       "      <th>60</th>\n",
       "      <td>2019-08-31</td>\n",
       "      <td>A</td>\n",
       "      <td>468</td>\n",
       "      <td>445</td>\n",
       "      <td>3364656</td>\n",
       "      <td>18736</td>\n",
       "    </tr>\n",
       "    <tr>\n",
       "      <th>61</th>\n",
       "      <td>2019-08-31</td>\n",
       "      <td>B</td>\n",
       "      <td>548</td>\n",
       "      <td>528</td>\n",
       "      <td>5068972</td>\n",
       "      <td>18916</td>\n",
       "    </tr>\n",
       "  </tbody>\n",
       "</table>\n",
       "<p>62 rows × 6 columns</p>\n",
       "</div>"
      ],
      "text/plain": [
       "         date group  orders  buyers  revenue  visitors\n",
       "0  2019-08-01     A      23      19   142779       719\n",
       "1  2019-08-01     B      17      17    59758       713\n",
       "2  2019-08-02     A      42      36   234381      1338\n",
       "3  2019-08-02     B      40      39   221801      1294\n",
       "4  2019-08-03     A      66      60   346854      1845\n",
       "..        ...   ...     ...     ...      ...       ...\n",
       "57 2019-08-29     B     510     490  4746610     17708\n",
       "58 2019-08-30     A     460     437  3311413     18037\n",
       "59 2019-08-30     B     531     511  4955833     18198\n",
       "60 2019-08-31     A     468     445  3364656     18736\n",
       "61 2019-08-31     B     548     528  5068972     18916\n",
       "\n",
       "[62 rows x 6 columns]"
      ]
     },
     "execution_count": 19,
     "metadata": {},
     "output_type": "execute_result"
    }
   ],
   "source": [
    "# создаем массив уникальных пар значений дат и групп теста\n",
    "dates_groups = non_cross_orders[['date','group']].drop_duplicates()\n",
    "\n",
    "# получаем агрегированные кумулятивные по дням данные о заказах \n",
    "orders_aggregated = dates_groups.apply(\n",
    "    lambda x: non_cross_orders[np.logical_and(non_cross_orders['date'] <= x['date'], non_cross_orders['group'] == x['group'])]\\\n",
    ".agg(\n",
    "        {'date' : 'max', \n",
    "         'group' : 'max', \n",
    "         'transaction_id' : 'nunique', \n",
    "         'visitor_id' : 'nunique', \n",
    "         'revenue' : 'sum'\n",
    "        }), axis=1).sort_values(by=['date','group'])\n",
    "\n",
    "# получаем агрегированные кумулятивные по дням данные о посетителях интернет-магазина \n",
    "visitors_aggregated = dates_groups.apply(\n",
    "    lambda x: visitors[np.logical_and(visitors['date'] <= x['date'], visitors['group'] == x['group'])]\\\n",
    "    .agg(\n",
    "        {'date' : 'max', \n",
    "         'group' : 'max', \n",
    "         'visitors' : 'sum'\n",
    "        }), axis=1).sort_values(by=['date','group'])\n",
    "\n",
    "# объединяем кумулятивные данные в одной таблице и присваиваем ее столбцам понятные названия\n",
    "cumulative_data = orders_aggregated.merge(visitors_aggregated, left_on=['date', 'group'], right_on=['date', 'group'])\n",
    "cumulative_data.columns = ['date', 'group', 'orders', 'buyers', 'revenue', 'visitors']\n",
    "\n",
    "cumulative_data"
   ]
  },
  {
   "cell_type": "markdown",
   "id": "9dff579f",
   "metadata": {},
   "source": [
    "### Куммулятивная выручка по группам"
   ]
  },
  {
   "cell_type": "markdown",
   "id": "f1a17384",
   "metadata": {},
   "source": [
    "Построим график кумулятивной выручки по дням и группам A/B-тестирования:"
   ]
  },
  {
   "cell_type": "code",
   "execution_count": 20,
   "id": "fe50d0e4",
   "metadata": {
    "scrolled": false
   },
   "outputs": [
    {
     "data": {
      "image/png": "[encoded data removed]",
      "text/plain": [
       "<Figure size 864x432 with 1 Axes>"
      ]
     },
     "metadata": {
      "needs_background": "light"
     },
     "output_type": "display_data"
    }
   ],
   "source": [
    "# датафрейм с кумулятивным количеством заказов и кумулятивной выручкой по дням в группе А\n",
    "cumulative_revenue_a = cumulative_data[cumulative_data['group']=='A'][['date','revenue', 'orders']]\n",
    "\n",
    "# датафрейм с кумулятивным количеством заказов и кумулятивной выручкой по дням в группе B\n",
    "cumulative_revenue_b = cumulative_data[cumulative_data['group']=='B'][['date','revenue', 'orders']]\n",
    "\n",
    "plt.figure(figsize=(12, 6))\n",
    "\n",
    "# строим график выручки группы А\n",
    "plt.plot(cumulative_revenue_a['date'], cumulative_revenue_a['revenue'], label='Группа A')\n",
    "\n",
    "# строим график выручки группы B\n",
    "plt.plot(cumulative_revenue_b['date'], cumulative_revenue_b['revenue'], label='Группа B')\n",
    "\n",
    "plt.legend()\n",
    "plt.grid()\n",
    "plt.xlabel('Дата')\n",
    "plt.title('Куммулятивная выручка по дням и по группам')\n",
    "plt.ylabel('Куммулятивная выручка, д.е.')\n",
    "plt.show();"
   ]
  },
  {
   "cell_type": "markdown",
   "id": "115a19e0",
   "metadata": {},
   "source": [
    "До определенного момента выручка растет равномерно для обеих групп, при этом у группы B она стабильно чуть выше. Во второй половине месяца выручка группы B растет активней. \n",
    "\n",
    "На графике можем выделить резкий скачок у группы B 19 числа, что может говорить нам о всплесках числа заказов, либо о появлении аномально дорогих заказов в выборке.\n",
    "\n",
    "Посмотрим какие заказы были в группе B в районе 19 августа:"
   ]
  },
  {
   "cell_type": "code",
   "execution_count": 21,
   "id": "2240f81b",
   "metadata": {},
   "outputs": [
    {
     "data": {
      "text/html": [
       "<div>\n",
       "<style scoped>\n",
       "    .dataframe tbody tr th:only-of-type {\n",
       "        vertical-align: middle;\n",
       "    }\n",
       "\n",
       "    .dataframe tbody tr th {\n",
       "        vertical-align: top;\n",
       "    }\n",
       "\n",
       "    .dataframe thead th {\n",
       "        text-align: right;\n",
       "    }\n",
       "</style>\n",
       "<table border=\"1\" class=\"dataframe\">\n",
       "  <thead>\n",
       "    <tr style=\"text-align: right;\">\n",
       "      <th></th>\n",
       "      <th>transaction_id</th>\n",
       "      <th>visitor_id</th>\n",
       "      <th>date</th>\n",
       "      <th>revenue</th>\n",
       "      <th>group</th>\n",
       "    </tr>\n",
       "  </thead>\n",
       "  <tbody>\n",
       "    <tr>\n",
       "      <th>425</th>\n",
       "      <td>590470918</td>\n",
       "      <td>1920142716</td>\n",
       "      <td>2019-08-19</td>\n",
       "      <td>1294500</td>\n",
       "      <td>B</td>\n",
       "    </tr>\n",
       "    <tr>\n",
       "      <th>527</th>\n",
       "      <td>1570513684</td>\n",
       "      <td>2837914161</td>\n",
       "      <td>2019-08-19</td>\n",
       "      <td>33405</td>\n",
       "      <td>B</td>\n",
       "    </tr>\n",
       "    <tr>\n",
       "      <th>461</th>\n",
       "      <td>2683113224</td>\n",
       "      <td>154576532</td>\n",
       "      <td>2019-08-19</td>\n",
       "      <td>26550</td>\n",
       "      <td>B</td>\n",
       "    </tr>\n",
       "    <tr>\n",
       "      <th>368</th>\n",
       "      <td>3268879337</td>\n",
       "      <td>2536252163</td>\n",
       "      <td>2019-08-19</td>\n",
       "      <td>20026</td>\n",
       "      <td>B</td>\n",
       "    </tr>\n",
       "    <tr>\n",
       "      <th>463</th>\n",
       "      <td>4170537404</td>\n",
       "      <td>290022471</td>\n",
       "      <td>2019-08-19</td>\n",
       "      <td>16480</td>\n",
       "      <td>B</td>\n",
       "    </tr>\n",
       "  </tbody>\n",
       "</table>\n",
       "</div>"
      ],
      "text/plain": [
       "     transaction_id  visitor_id       date  revenue group\n",
       "425       590470918  1920142716 2019-08-19  1294500     B\n",
       "527      1570513684  2837914161 2019-08-19    33405     B\n",
       "461      2683113224   154576532 2019-08-19    26550     B\n",
       "368      3268879337  2536252163 2019-08-19    20026     B\n",
       "463      4170537404   290022471 2019-08-19    16480     B"
      ]
     },
     "execution_count": 21,
     "metadata": {},
     "output_type": "execute_result"
    }
   ],
   "source": [
    "non_cross_orders.query(\n",
    "    'date == @dt.date(2019, 8, 19) and group == \"B\"'\n",
    ").sort_values(by='revenue', ascending=False).head()"
   ]
  },
  {
   "cell_type": "markdown",
   "id": "7bd5df9d",
   "metadata": {},
   "source": [
    "Видим, что заказ номер 590470918 составляет почти 1.3 млн. д.е.\n",
    "\n",
    "Посмотрим медианное значение стоимости заказа в нашем интернет-магазине:"
   ]
  },
  {
   "cell_type": "code",
   "execution_count": 22,
   "id": "54b2552d",
   "metadata": {},
   "outputs": [
    {
     "data": {
      "text/plain": [
       "2955.0"
      ]
     },
     "execution_count": 22,
     "metadata": {},
     "output_type": "execute_result"
    }
   ],
   "source": [
    "non_cross_orders['revenue'].median()"
   ]
  },
  {
   "cell_type": "markdown",
   "id": "7a4c3346",
   "metadata": {},
   "source": [
    "Очевидно, увиденный нами на графике пик вызван аномально большим заказом, сделанным 19 августа в группе B. В остальном можем предположить, что кумулятивная выручка в группе B во второй половине месяца была стабильно выше выруки группы A."
   ]
  },
  {
   "cell_type": "markdown",
   "id": "98705a36",
   "metadata": {},
   "source": [
    "### Куммулятивный средний чек по группам"
   ]
  },
  {
   "cell_type": "markdown",
   "id": "c983f177",
   "metadata": {},
   "source": [
    "Построим график среднего чека по группам — разделим кумулятивную выручку на кумулятивное число заказов:"
   ]
  },
  {
   "cell_type": "code",
   "execution_count": 23,
   "id": "e320dca1",
   "metadata": {},
   "outputs": [
    {
     "data": {
      "image/png": "[encoded data removed]",
      "text/plain": [
       "<Figure size 864x432 with 1 Axes>"
      ]
     },
     "metadata": {
      "needs_background": "light"
     },
     "output_type": "display_data"
    }
   ],
   "source": [
    "plt.figure(figsize=(12, 6))\n",
    "\n",
    "# строим график среднего чека группы А\n",
    "plt.plot(cumulative_revenue_a['date'], \n",
    "         cumulative_revenue_a['revenue']/cumulative_revenue_a['orders'], \n",
    "         label='Группа A')\n",
    "\n",
    "# строим график среднего чека группы B\n",
    "plt.plot(cumulative_revenue_b['date'], \n",
    "         cumulative_revenue_b['revenue']/cumulative_revenue_b['orders'], \n",
    "         label='Группа B')\n",
    "\n",
    "plt.legend()\n",
    "plt.grid()\n",
    "plt.xlabel('Дата')\n",
    "plt.title('Куммулятивный средний чек по дням и по группам')\n",
    "plt.ylabel('Куммулятивный средний чек, д.е.')\n",
    "plt.show(); "
   ]
  },
  {
   "cell_type": "markdown",
   "id": "8a48aa65",
   "metadata": {},
   "source": [
    "Видим, что за исключением 1 августа, а также периода с 12 по 18 августа, средний чек в группе B был выше среднего чека группы A. Как и на графике куммулятивной выручки, видим резкий скачок 19 августа, вызванный аномально большим заказом. \n",
    "\n",
    "Во второй половине периода средний чек группы A устанавливается вокруг определенного значения, тогда как для группы B он имеет тенденцию к снижению."
   ]
  },
  {
   "cell_type": "markdown",
   "id": "3e6c54b2",
   "metadata": {},
   "source": [
    "### Относительное изменение куммулятивного среднего чека группы B к группе A"
   ]
  },
  {
   "cell_type": "markdown",
   "id": "743ea252",
   "metadata": {},
   "source": [
    "Построим график относительного изменения кумулятивного среднего чека группы B к группе A:"
   ]
  },
  {
   "cell_type": "code",
   "execution_count": 24,
   "id": "53fb559f",
   "metadata": {},
   "outputs": [
    {
     "data": {
      "image/png": "[encoded data removed]",
      "text/plain": [
       "<Figure size 864x432 with 1 Axes>"
      ]
     },
     "metadata": {
      "needs_background": "light"
     },
     "output_type": "display_data"
    }
   ],
   "source": [
    "# собираем данные в одном датафрейме\n",
    "merged_cumulative_revenue = cumulative_revenue_a.merge(\n",
    "    cumulative_revenue_b, left_on='date', right_on='date', how='left', suffixes=['A', 'B'])\n",
    "\n",
    "# cтроим отношение средних чеков\n",
    "plt.figure(figsize=(12, 6))\n",
    "plt.plot(merged_cumulative_revenue['date'],\n",
    "         (merged_cumulative_revenue['revenueB']/merged_cumulative_revenue['ordersB'])/\n",
    "         (merged_cumulative_revenue['revenueA']/merged_cumulative_revenue['ordersA'])-1)\n",
    "\n",
    "# добавляем ось X\n",
    "plt.axhline(y=0, color='black', linestyle='--')\n",
    "\n",
    "plt.xlabel('Дата')\n",
    "plt.title('Относительное изменение куммулятивного среднего чека группы B к группе A по дням')\n",
    "plt.show();"
   ]
  },
  {
   "cell_type": "markdown",
   "id": "3531ffad",
   "metadata": {},
   "source": [
    "Опять видим, что 1 августа, а также 12-18 августа, средний чек группы A превышает средний чек группы B. В остальном по среднему чеку превалирует группа B.\n",
    "\n",
    "В нескольких точках график различия между сегментами резко «скачет», что говорит нам о крупных заказа и выбросах.\n",
    "Опять видим резкий скачок в сторону роста группы B 19 числа, вызванный аномально крупным заказом."
   ]
  },
  {
   "cell_type": "markdown",
   "id": "1b37b886",
   "metadata": {},
   "source": [
    "### Куммулятивная конверсия по группам"
   ]
  },
  {
   "cell_type": "markdown",
   "id": "6e02dd55",
   "metadata": {},
   "source": [
    "Построим график кумулятивной конверсии по группам:"
   ]
  },
  {
   "cell_type": "code",
   "execution_count": 25,
   "id": "47af4f98",
   "metadata": {},
   "outputs": [
    {
     "data": {
      "image/png": "[encoded data removed]",
      "text/plain": [
       "<Figure size 864x432 with 1 Axes>"
      ]
     },
     "metadata": {
      "needs_background": "light"
     },
     "output_type": "display_data"
    }
   ],
   "source": [
    "# считаем кумулятивную конверсию\n",
    "cumulative_data['conversion'] = cumulative_data['orders']/cumulative_data['visitors']\n",
    "\n",
    "# отделяем данные по группе A\n",
    "cumulative_data_a = cumulative_data[cumulative_data['group']=='A']\n",
    "\n",
    "# отделяем данные по группе B\n",
    "cumulative_data_b = cumulative_data[cumulative_data['group']=='B']\n",
    "\n",
    "# строим графики\n",
    "plt.figure(figsize=(12, 6))\n",
    "plt.plot(cumulative_data_a['date'], cumulative_data_a['conversion'], label='Группа A')\n",
    "plt.plot(cumulative_data_b['date'], cumulative_data_b['conversion'], label='Группа B')\n",
    "plt.legend()\n",
    "\n",
    "# задаем масштаб осей\n",
    "plt.axis([pd.to_datetime('2019-08-01'), pd.to_datetime('2019-09-01'), 0.023, 0.038])\n",
    "\n",
    "plt.grid()\n",
    "plt.xlabel('Дата')\n",
    "plt.title('Куммулятивная конверсия по дням и по группам')\n",
    "plt.show();"
   ]
  },
  {
   "cell_type": "markdown",
   "id": "81bc15fa",
   "metadata": {},
   "source": [
    "В самом начале теста с выраженным пиком 3 августа большую конверсию демонстрировала группа A. В районе 5-6 августа куммулятивная конверсия группы B начала расти и превысила конверсию группы, которая наоборот с этого момента начала падать. В целом, группа B практически на протяжении всего теста демонстрирует большую конверсию, чем группа A."
   ]
  },
  {
   "cell_type": "markdown",
   "id": "b9b723cc",
   "metadata": {},
   "source": [
    "### Относительное изменение куммулятивной конверсии группы B к группе A"
   ]
  },
  {
   "cell_type": "markdown",
   "id": "1e7a9e9e",
   "metadata": {},
   "source": [
    "Построим график относительного изменения кумулятивной конверсии группы B к группе A:"
   ]
  },
  {
   "cell_type": "code",
   "execution_count": 26,
   "id": "f1c8ba9e",
   "metadata": {},
   "outputs": [
    {
     "data": {
      "image/png": "[encoded data removed]",
      "text/plain": [
       "<Figure size 864x432 with 1 Axes>"
      ]
     },
     "metadata": {
      "needs_background": "light"
     },
     "output_type": "display_data"
    }
   ],
   "source": [
    "merged_cumulative_conversions = cumulative_data_a[['date','conversion']].merge(\n",
    "    cumulative_data_b[['date','conversion']], left_on='date', right_on='date', how='left', suffixes=['A', 'B'])\n",
    "\n",
    "plt.figure(figsize=(12, 6))\n",
    "plt.plot(merged_cumulative_conversions['date'],\n",
    "         merged_cumulative_conversions['conversionB']/merged_cumulative_conversions['conversionA']-1)\n",
    "\n",
    "plt.axhline(y=0, color='black', linestyle='--')\n",
    "plt.axhline(y=0.16, color='grey', linestyle='--')\n",
    "plt.axis([pd.to_datetime('2019-08-01'), pd.to_datetime('2019-09-01'), -0.28, 0.25])\n",
    "\n",
    "plt.xlabel('Дата')\n",
    "plt.title('Относительный прирост куммулятивной конверсии группы B относительно группы A по дням')\n",
    "plt.show();"
   ]
  },
  {
   "cell_type": "markdown",
   "id": "b1c9d1cd",
   "metadata": {},
   "source": [
    "За исключением начального периода теста видим, что конверсия группы B стабильно выше конверсии группы A. По окончании теста видим, что конверсия группы B превышает конверсию группы A на 16%.  "
   ]
  },
  {
   "cell_type": "markdown",
   "id": "c1d20db3",
   "metadata": {},
   "source": [
    "### Количество заказов по пользователям"
   ]
  },
  {
   "cell_type": "markdown",
   "id": "df562b5b",
   "metadata": {},
   "source": [
    "Построим точечный график количества заказов:"
   ]
  },
  {
   "cell_type": "code",
   "execution_count": 27,
   "id": "ecc968be",
   "metadata": {
    "scrolled": false
   },
   "outputs": [
    {
     "data": {
      "image/png": "[encoded data removed]",
      "text/plain": [
       "<Figure size 864x432 with 1 Axes>"
      ]
     },
     "metadata": {
      "needs_background": "light"
     },
     "output_type": "display_data"
    }
   ],
   "source": [
    "orders_by_users = (\n",
    "    non_cross_orders.groupby('visitor_id', as_index=False)\n",
    "    .agg({'transaction_id': 'nunique'})\n",
    ")\n",
    "\n",
    "orders_by_users.columns = ['user_id', 'orders']\n",
    "\n",
    "x_values = pd.Series(range(0,len(orders_by_users)))\n",
    "\n",
    "plt.figure(figsize=(12, 6))\n",
    "plt.scatter(x_values, orders_by_users['orders'])\n",
    "plt.grid()\n",
    "plt.xlabel('Пользователь')\n",
    "plt.ylabel('Количество заказов')\n",
    "plt.title('Количество заказов по пользователям')\n",
    "plt.show();"
   ]
  },
  {
   "cell_type": "markdown",
   "id": "ded61a6d",
   "metadata": {},
   "source": [
    "Видим, что в основном пользователи ограничиваются 1-2 заказами. Все, что выше 2 заказов, предположительно, можно отнести к аномалиям. Наибольшее число пользователей совершают не более 1 заказа."
   ]
  },
  {
   "cell_type": "markdown",
   "id": "08836634",
   "metadata": {},
   "source": [
    "### 90-й, 95-й и 99-й перцентили количества заказов на пользователя"
   ]
  },
  {
   "cell_type": "markdown",
   "id": "a6a17eb9",
   "metadata": {},
   "source": [
    "Посчитаем 90-й, 95-й и 99-й перцентили количества заказов:"
   ]
  },
  {
   "cell_type": "code",
   "execution_count": 28,
   "id": "138b82e7",
   "metadata": {},
   "outputs": [
    {
     "data": {
      "text/plain": [
       "array([1., 1., 2.])"
      ]
     },
     "execution_count": 28,
     "metadata": {},
     "output_type": "execute_result"
    }
   ],
   "source": [
    "np.percentile(orders_by_users['orders'], [90, 95, 99])"
   ]
  },
  {
   "cell_type": "markdown",
   "id": "188d8072",
   "metadata": {},
   "source": [
    "Не более 1% пользователей совершали больше 2 заказов. 5% пользователей заказывали более одного раза,.\n",
    "\n",
    "На основании этого возьмём за нижнюю границу количество заказов равное 2, и по ней будем отсекать аномальных пользователей."
   ]
  },
  {
   "cell_type": "markdown",
   "id": "9876040d",
   "metadata": {},
   "source": [
    "### Стоимость заказов"
   ]
  },
  {
   "cell_type": "markdown",
   "id": "81516e1f",
   "metadata": {},
   "source": [
    "Построим точечный график стоимости заказов по пользователям:"
   ]
  },
  {
   "cell_type": "code",
   "execution_count": 29,
   "id": "b37355dd",
   "metadata": {},
   "outputs": [
    {
     "data": {
      "image/png": "[encoded data removed]",
      "text/plain": [
       "<Figure size 864x432 with 1 Axes>"
      ]
     },
     "metadata": {
      "needs_background": "light"
     },
     "output_type": "display_data"
    }
   ],
   "source": [
    "x_values = pd.Series(range(0,len(non_cross_orders['revenue'])))\n",
    "\n",
    "plt.figure(figsize=(12, 6))\n",
    "plt.scatter(x_values, non_cross_orders['revenue'])\n",
    "plt.grid()\n",
    "plt.xlabel('Заказ')\n",
    "plt.ylabel('Стоимость заказа, д.е.')\n",
    "plt.title('Стоимость заказов по пользователям')\n",
    "plt.show();"
   ]
  },
  {
   "cell_type": "markdown",
   "id": "3e1d857b",
   "metadata": {},
   "source": [
    "Сразу видим обнаруженный нами ранее заказ от 19 августа стоимостью порядка 1.3 млн. д.е. Также видим выброс в районе 200 000 д.е. \n",
    "\n",
    "Заказов более 100 000 д.е. практически не наблюдается.\n",
    "\n",
    "Рассмотрим данные в таблице без учета обнаружнных выбросов:"
   ]
  },
  {
   "cell_type": "code",
   "execution_count": 30,
   "id": "331dda64",
   "metadata": {},
   "outputs": [
    {
     "data": {
      "image/png": "[encoded data removed]",
      "text/plain": [
       "<Figure size 864x432 with 1 Axes>"
      ]
     },
     "metadata": {
      "needs_background": "light"
     },
     "output_type": "display_data"
    }
   ],
   "source": [
    "x_values = pd.Series(range(0,len(non_cross_orders['revenue'])))\n",
    "\n",
    "plt.figure(figsize=(12, 6))\n",
    "plt.scatter(x_values, non_cross_orders['revenue'])\n",
    "plt.axis([0, 1016, 0, 100000])\n",
    "plt.grid()\n",
    "plt.xlabel('Заказ')\n",
    "plt.ylabel('Стоимость заказа, д.е.')\n",
    "plt.title('Стоимость заказов по пользователям')\n",
    "plt.show();"
   ]
  },
  {
   "cell_type": "markdown",
   "id": "b5cdd5d1",
   "metadata": {},
   "source": [
    "Видим, что основная масса заказов сосредоточена в области менее 20 000 д.е."
   ]
  },
  {
   "cell_type": "markdown",
   "id": "5516442b",
   "metadata": {},
   "source": [
    "### 90-й, 95-й и 99-й перцентили стоимости заказов"
   ]
  },
  {
   "cell_type": "markdown",
   "id": "6a5b2a0f",
   "metadata": {},
   "source": [
    "Посчитаем 90-й, 95-й и 99-й перцентили стоимости заказов на пользователя:"
   ]
  },
  {
   "cell_type": "code",
   "execution_count": 31,
   "id": "28679fe1",
   "metadata": {},
   "outputs": [
    {
     "data": {
      "text/plain": [
       "array([17990., 26785., 53904.])"
      ]
     },
     "execution_count": 31,
     "metadata": {},
     "output_type": "execute_result"
    }
   ],
   "source": [
    "np.percentile(non_cross_orders['revenue'], [90, 95, 99])"
   ]
  },
  {
   "cell_type": "markdown",
   "id": "f34b688e",
   "metadata": {},
   "source": [
    "Не более 5% заказов дороже 26 785 д.е. и не более 1% дороже 53 904 д.е.\n",
    "\n",
    "Округлим и возьмем за нижнюю границу стоимость заказа в 30 000 д.е."
   ]
  },
  {
   "cell_type": "markdown",
   "id": "3b5bc318",
   "metadata": {},
   "source": [
    "### Статистическая значимость различий в конверсии между группами по «сырым» данным"
   ]
  },
  {
   "cell_type": "markdown",
   "id": "75d8c0ec",
   "metadata": {},
   "source": [
    "Посчитаем по каждой группе количество заказов и выручку в выбранную дату, а также суммарное число заказов и суммарную выручку до выбранной даты включительно:"
   ]
  },
  {
   "cell_type": "code",
   "execution_count": 32,
   "id": "61750cbd",
   "metadata": {},
   "outputs": [],
   "source": [
    "# количество заказов и выручка в выбранную дату для группы A\n",
    "orders_a_daily = (\n",
    "    non_cross_orders[non_cross_orders['group'] == 'A'][['date', 'transaction_id', 'visitor_id', 'revenue']]\n",
    "    .groupby('date', as_index=False)\n",
    "    .agg({'transaction_id': pd.Series.nunique, 'revenue': 'sum'})\n",
    ")\n",
    "orders_a_daily.columns = ['date', 'orders_per_date_a', 'revenue_per_date_a']\n",
    "\n",
    "# суммарное число заказов до выбранной даты включительно для группы A\n",
    "orders_a_cummulative = orders_a_daily.apply(\n",
    "    lambda x: orders_a_daily[orders_a_daily['date'] <= x['date']].agg(\n",
    "        {'date': 'max', 'orders_per_date_a': 'sum', 'revenue_per_date_a': 'sum'}\n",
    "    ),\n",
    "    axis=1,\n",
    ").sort_values(by=['date'])\n",
    "orders_a_cummulative.columns = ['date', 'orders_cummulative_a','revenue_cummulative_a']\n",
    "\n",
    "# количество заказов в выбранную дату для группы B\n",
    "orders_b_daily = (\n",
    "    non_cross_orders[non_cross_orders['group'] == 'B'][['date', 'transaction_id', 'visitor_id', 'revenue']]\n",
    "    .groupby('date', as_index=False)\n",
    "    .agg({'transaction_id': pd.Series.nunique, 'revenue': 'sum'})\n",
    ")\n",
    "orders_b_daily.columns = ['date', 'orders_per_date_b', 'revenue_per_date_b']\n",
    "\n",
    "# суммарное число заказов до выбранной даты включительно для группы B\n",
    "orders_b_cummulative = orders_b_daily.apply(\n",
    "    lambda x: orders_b_daily[orders_b_daily['date'] <= x['date']].agg(\n",
    "        {'date': 'max', 'orders_per_date_b': 'sum', 'revenue_per_date_b': 'sum'}\n",
    "    ),\n",
    "    axis=1,\n",
    ").sort_values(by=['date'])\n",
    "orders_b_cummulative.columns = ['date', 'orders_cummulative_b','revenue_cummulative_b']"
   ]
  },
  {
   "cell_type": "markdown",
   "id": "9774a03f",
   "metadata": {},
   "source": [
    "Посчитаем по каждой группе количество пользователей в выбранную дату, а также суммарное количество пользователей до выбранной даты включительно:"
   ]
  },
  {
   "cell_type": "code",
   "execution_count": 33,
   "id": "2a2ff41d",
   "metadata": {},
   "outputs": [],
   "source": [
    "# количество заказов и выручка в выбранную дату для группы A\n",
    "visitors_a_daily = visitors[visitors['group'] == 'A'][['date', 'visitors']]\n",
    "visitors_a_daily.columns = ['date', 'visitors_per_date_a']\n",
    "\n",
    "# суммарное число количество пользователей до выбранной даты включительно для группы A\n",
    "visitors_a_cummulative = visitors_a_daily.apply(\n",
    "    lambda x: visitors_a_daily[visitors_a_daily['date'] <= x['date']].agg(\n",
    "        {'date': 'max', 'visitors_per_date_a': 'sum'}\n",
    "    ),\n",
    "    axis=1,\n",
    ")\n",
    "visitors_a_cummulative.columns = ['date', 'visitors_cummulative_a']\n",
    "\n",
    "# количество заказов и выручка в выбранную дату для группы B\n",
    "visitors_b_daily = visitors[visitors['group'] == 'B'][['date', 'visitors']]\n",
    "visitors_b_daily.columns = ['date', 'visitors_per_date_b']\n",
    "\n",
    "# суммарное число количество пользователей до выбранной даты включительно для группы B\n",
    "visitors_b_cummulative = visitors_b_daily.apply(\n",
    "    lambda x: visitors_b_daily[visitors_b_daily['date'] <= x['date']].agg(\n",
    "        {'date': 'max', 'visitors_per_date_b': 'sum'}\n",
    "    ),\n",
    "    axis=1,\n",
    ")\n",
    "visitors_b_cummulative.columns = ['date', 'visitors_cummulative_b']"
   ]
  },
  {
   "cell_type": "markdown",
   "id": "f2275728",
   "metadata": {},
   "source": [
    "Объединим все расчеты в одну таблицу:"
   ]
  },
  {
   "cell_type": "code",
   "execution_count": 34,
   "id": "433932c1",
   "metadata": {},
   "outputs": [
    {
     "data": {
      "text/html": [
       "<div>\n",
       "<style scoped>\n",
       "    .dataframe tbody tr th:only-of-type {\n",
       "        vertical-align: middle;\n",
       "    }\n",
       "\n",
       "    .dataframe tbody tr th {\n",
       "        vertical-align: top;\n",
       "    }\n",
       "\n",
       "    .dataframe thead th {\n",
       "        text-align: right;\n",
       "    }\n",
       "</style>\n",
       "<table border=\"1\" class=\"dataframe\">\n",
       "  <thead>\n",
       "    <tr style=\"text-align: right;\">\n",
       "      <th></th>\n",
       "      <th>date</th>\n",
       "      <th>orders_per_date_a</th>\n",
       "      <th>revenue_per_date_a</th>\n",
       "      <th>orders_per_date_b</th>\n",
       "      <th>revenue_per_date_b</th>\n",
       "      <th>orders_cummulative_a</th>\n",
       "      <th>revenue_cummulative_a</th>\n",
       "      <th>orders_cummulative_b</th>\n",
       "      <th>revenue_cummulative_b</th>\n",
       "      <th>visitors_per_date_a</th>\n",
       "      <th>visitors_per_date_b</th>\n",
       "      <th>visitors_cummulative_a</th>\n",
       "      <th>visitors_cummulative_b</th>\n",
       "    </tr>\n",
       "  </thead>\n",
       "  <tbody>\n",
       "    <tr>\n",
       "      <th>0</th>\n",
       "      <td>2019-08-01</td>\n",
       "      <td>23</td>\n",
       "      <td>142779</td>\n",
       "      <td>17</td>\n",
       "      <td>59758</td>\n",
       "      <td>23</td>\n",
       "      <td>142779</td>\n",
       "      <td>17</td>\n",
       "      <td>59758</td>\n",
       "      <td>719</td>\n",
       "      <td>713</td>\n",
       "      <td>719</td>\n",
       "      <td>713</td>\n",
       "    </tr>\n",
       "    <tr>\n",
       "      <th>1</th>\n",
       "      <td>2019-08-02</td>\n",
       "      <td>19</td>\n",
       "      <td>91602</td>\n",
       "      <td>23</td>\n",
       "      <td>162043</td>\n",
       "      <td>42</td>\n",
       "      <td>234381</td>\n",
       "      <td>40</td>\n",
       "      <td>221801</td>\n",
       "      <td>619</td>\n",
       "      <td>581</td>\n",
       "      <td>1338</td>\n",
       "      <td>1294</td>\n",
       "    </tr>\n",
       "    <tr>\n",
       "      <th>2</th>\n",
       "      <td>2019-08-03</td>\n",
       "      <td>24</td>\n",
       "      <td>112473</td>\n",
       "      <td>14</td>\n",
       "      <td>67049</td>\n",
       "      <td>66</td>\n",
       "      <td>346854</td>\n",
       "      <td>54</td>\n",
       "      <td>288850</td>\n",
       "      <td>507</td>\n",
       "      <td>509</td>\n",
       "      <td>1845</td>\n",
       "      <td>1803</td>\n",
       "    </tr>\n",
       "    <tr>\n",
       "      <th>3</th>\n",
       "      <td>2019-08-04</td>\n",
       "      <td>11</td>\n",
       "      <td>41176</td>\n",
       "      <td>14</td>\n",
       "      <td>96890</td>\n",
       "      <td>77</td>\n",
       "      <td>388030</td>\n",
       "      <td>68</td>\n",
       "      <td>385740</td>\n",
       "      <td>717</td>\n",
       "      <td>770</td>\n",
       "      <td>2562</td>\n",
       "      <td>2573</td>\n",
       "    </tr>\n",
       "    <tr>\n",
       "      <th>4</th>\n",
       "      <td>2019-08-05</td>\n",
       "      <td>22</td>\n",
       "      <td>86383</td>\n",
       "      <td>21</td>\n",
       "      <td>89908</td>\n",
       "      <td>99</td>\n",
       "      <td>474413</td>\n",
       "      <td>89</td>\n",
       "      <td>475648</td>\n",
       "      <td>756</td>\n",
       "      <td>707</td>\n",
       "      <td>3318</td>\n",
       "      <td>3280</td>\n",
       "    </tr>\n",
       "  </tbody>\n",
       "</table>\n",
       "</div>"
      ],
      "text/plain": [
       "        date  orders_per_date_a  revenue_per_date_a  orders_per_date_b  \\\n",
       "0 2019-08-01                 23              142779                 17   \n",
       "1 2019-08-02                 19               91602                 23   \n",
       "2 2019-08-03                 24              112473                 14   \n",
       "3 2019-08-04                 11               41176                 14   \n",
       "4 2019-08-05                 22               86383                 21   \n",
       "\n",
       "   revenue_per_date_b  orders_cummulative_a  revenue_cummulative_a  \\\n",
       "0               59758                    23                 142779   \n",
       "1              162043                    42                 234381   \n",
       "2               67049                    66                 346854   \n",
       "3               96890                    77                 388030   \n",
       "4               89908                    99                 474413   \n",
       "\n",
       "   orders_cummulative_b  revenue_cummulative_b  visitors_per_date_a  \\\n",
       "0                    17                  59758                  719   \n",
       "1                    40                 221801                  619   \n",
       "2                    54                 288850                  507   \n",
       "3                    68                 385740                  717   \n",
       "4                    89                 475648                  756   \n",
       "\n",
       "   visitors_per_date_b  visitors_cummulative_a  visitors_cummulative_b  \n",
       "0                  713                     719                     713  \n",
       "1                  581                    1338                    1294  \n",
       "2                  509                    1845                    1803  \n",
       "3                  770                    2562                    2573  \n",
       "4                  707                    3318                    3280  "
      ]
     },
     "execution_count": 34,
     "metadata": {},
     "output_type": "execute_result"
    }
   ],
   "source": [
    "data = (\n",
    "    orders_a_daily.merge(\n",
    "        orders_b_daily, left_on='date', right_on='date', how='left'\n",
    "    )\n",
    "    .merge(orders_a_cummulative, left_on='date', right_on='date', how='left')\n",
    "    .merge(orders_b_cummulative, left_on='date', right_on='date', how='left')\n",
    "    .merge(visitors_a_daily, left_on='date', right_on='date', how='left')\n",
    "    .merge(visitors_b_daily, left_on='date', right_on='date', how='left')\n",
    "    .merge(visitors_a_cummulative, left_on='date', right_on='date', how='left')\n",
    "    .merge(visitors_b_cummulative, left_on='date', right_on='date', how='left')\n",
    ")\n",
    "data.head()"
   ]
  },
  {
   "cell_type": "markdown",
   "id": "d5c68755",
   "metadata": {},
   "source": [
    "Посчитаем статистическую значимость различия в конверсии между группами (для пользователей, которые заказывали хотя бы 1 раз, укажем число совершённых заказов):"
   ]
  },
  {
   "cell_type": "code",
   "execution_count": 35,
   "id": "f66e8d53",
   "metadata": {},
   "outputs": [],
   "source": [
    "orders_by_users_a = (\n",
    "    non_cross_orders[non_cross_orders['group'] == 'A']\n",
    "    .groupby('visitor_id', as_index=False)\n",
    "    .agg({'transaction_id': pd.Series.nunique})\n",
    ")\n",
    "orders_by_users_a.columns = ['user_id', 'orders']\n",
    "\n",
    "orders_by_users_b = (\n",
    "    non_cross_orders[non_cross_orders['group'] == 'B']\n",
    "    .groupby('visitor_id', as_index=False)\n",
    "    .agg({'transaction_id': pd.Series.nunique})\n",
    ")\n",
    "orders_by_users_b.columns = ['user_id', 'orders']"
   ]
  },
  {
   "cell_type": "markdown",
   "id": "bace6b2d",
   "metadata": {},
   "source": [
    "Объявим переменные `sample_a` и `sample_b`, в которых пользователям из разных групп будет соответствовать количество заказов. Тем, кто ничего не заказал, будут соответствовать нули. Это нужно, чтобы подготовить выборки к проверке критерием Манна-Уитни."
   ]
  },
  {
   "cell_type": "code",
   "execution_count": 36,
   "id": "d6fab544",
   "metadata": {},
   "outputs": [],
   "source": [
    "sample_a = pd.concat(\n",
    "    [\n",
    "        orders_by_users_a['orders'],\n",
    "        pd.Series(\n",
    "            0,\n",
    "            index=np.arange(\n",
    "                data['visitors_per_date_a'].sum() - len(orders_by_users_a['orders'])\n",
    "            ),\n",
    "            name='orders',\n",
    "        ),\n",
    "    ],\n",
    "    axis=0,\n",
    ")\n",
    "\n",
    "sample_b = pd.concat(\n",
    "    [\n",
    "        orders_by_users_b['orders'],\n",
    "        pd.Series(\n",
    "            0,\n",
    "            index=np.arange(\n",
    "                data['visitors_per_date_b'].sum() - len(orders_by_users_b['orders'])\n",
    "            ),\n",
    "            name='orders',\n",
    "        ),\n",
    "    ],\n",
    "    axis=0,\n",
    ")"
   ]
  },
  {
   "cell_type": "markdown",
   "id": "76de9eb3",
   "metadata": {},
   "source": [
    "Обозначим уровень значимости 0.05 и напишем функцию для проверки гипотез:"
   ]
  },
  {
   "cell_type": "code",
   "execution_count": 37,
   "id": "75954f66",
   "metadata": {},
   "outputs": [],
   "source": [
    "alpha=.05\n",
    "\n",
    "def test(df1, df2):\n",
    "    \n",
    "    print('p-value:', \"{0:.3f}\".format(stats.mannwhitneyu(df1, df2)[1]))\n",
    "    \n",
    "    if stats.mannwhitneyu(df1, df2)[1] < alpha:\n",
    "        print(\"Отвергаем нулевую гипотезу\")\n",
    "    else:\n",
    "        print(\"Не получилось отвергнуть нулевую гипотезу\")\n",
    "        \n",
    "    print('Относительный прирост конверсии группы B:', \"{0:.1%}\".format(df2.mean() / df1.mean() - 1))"
   ]
  },
  {
   "cell_type": "markdown",
   "id": "c752749f",
   "metadata": {},
   "source": [
    "Сформулируем гипотезы:\n",
    "* Нулевая гипотеза: различий в конверсии между группами нет. \n",
    "* Альтернативная гипотеза: различия в конверсии между группами есть.\n",
    "\n",
    "Выведем p-value и относительный прирост конверсии группы B при помощи функции `test`: "
   ]
  },
  {
   "cell_type": "code",
   "execution_count": 38,
   "id": "040c65dc",
   "metadata": {},
   "outputs": [
    {
     "name": "stdout",
     "output_type": "stream",
     "text": [
      "p-value: 0.011\n",
      "Отвергаем нулевую гипотезу\n",
      "Относительный прирост конверсии группы B: 16.0%\n"
     ]
    }
   ],
   "source": [
    "test(sample_a, sample_b)"
   ]
  },
  {
   "cell_type": "markdown",
   "id": "1d1a40e1",
   "metadata": {},
   "source": [
    "p-value меньше 0.05. Мы отвергаем нулевую гипотезу и принимает гипотезу о том, что различия в конверсии между группами есть. Анализ \"сырых\" данных показывает нам, что в конверсии между группами есть статистически значимые различия.\n",
    "\n",
    "Относительный прирост конверсии группы B к конверсии группы A равен 16%."
   ]
  },
  {
   "cell_type": "markdown",
   "id": "f017b694",
   "metadata": {},
   "source": [
    "### Статистическая значимость различий в среднем чеке заказа между группами по «сырым» данным"
   ]
  },
  {
   "cell_type": "markdown",
   "id": "fe2bdcb1",
   "metadata": {},
   "source": [
    "Сформулируем гипотезы для проверки статистической значимости различий в среднем чеке между сегментами:\n",
    "\n",
    "* Нулевая гипотеза: различий в среднем чеке между группами нет. \n",
    "* Альтернативная гипотеза: различия в среднем чеке между группами есть.\n",
    "\n",
    "Выведем p-value и относительные различия в среднем чеке между группами:"
   ]
  },
  {
   "cell_type": "code",
   "execution_count": 39,
   "id": "49b1b035",
   "metadata": {},
   "outputs": [
    {
     "name": "stdout",
     "output_type": "stream",
     "text": [
      "p-value: 0.829\n",
      "Не получилось отвергнуть нулевую гипотезу\n",
      "Относительный прирост конверсии группы B: 28.7%\n"
     ]
    }
   ],
   "source": [
    "test(non_cross_orders[non_cross_orders['group']=='A']['revenue'],\n",
    "     non_cross_orders[non_cross_orders['group']=='B']['revenue'])"
   ]
  },
  {
   "cell_type": "markdown",
   "id": "40a37656",
   "metadata": {},
   "source": [
    "P-value значительно больше 0.05. Значит, причин отвергать нулевую гипотезу и считать, что в среднем чеке есть различия, нет. \n",
    "\n",
    "Прирост среднего чека группы B относительно среднего чека группы A составляет 28.7%."
   ]
  },
  {
   "cell_type": "markdown",
   "id": "0d85ec97",
   "metadata": {},
   "source": [
    "### Статистическая значимость различий в конверсии между группами по «очищенным» данным"
   ]
  },
  {
   "cell_type": "markdown",
   "id": "a1408d30",
   "metadata": {},
   "source": [
    "Ранее мы определили границы аномальных значений. Примем за аномальных пользователей тех, кто совершил более 2 заказов или совершил заказ дороже 30 000 рублей. Так мы уберём 5% пользователей с наибольшим числом заказов и от 1% до 5% пользователей с дорогими заказами. Сделаем срезы пользователей с числом заказов больше 2 — `users_with_many_orders` и пользователей, совершивших заказы дороже 30 000 — `users_with_expensive_orders`. Объединим их в таблице `abnormal_users`.\n",
    "\n",
    "Узнаем, сколько всего аномальных пользователей методом shape().\n",
    "\n",
    "Выделим аномальные заказы:"
   ]
  },
  {
   "cell_type": "code",
   "execution_count": 40,
   "id": "acf2acdf",
   "metadata": {},
   "outputs": [
    {
     "data": {
      "text/plain": [
       "1099    148427295\n",
       "928     204675465\n",
       "33      249864742\n",
       "684     358944393\n",
       "648     382846391\n",
       "dtype: int64"
      ]
     },
     "metadata": {},
     "output_type": "display_data"
    },
    {
     "data": {
      "text/plain": [
       "(49,)"
      ]
     },
     "metadata": {},
     "output_type": "display_data"
    }
   ],
   "source": [
    "# срез пользователей с числом заказов больше 2\n",
    "users_with_many_orders = pd.concat(\n",
    "    [\n",
    "        orders_by_users_a[orders_by_users_a['orders'] > 2]['user_id'],\n",
    "       orders_by_users_b[orders_by_users_b['orders'] > 2]['user_id'],\n",
    "    ],\n",
    "    axis=0,\n",
    ")\n",
    "\n",
    "# срез пользователей, совершивших заказы дороже 30 000\n",
    "users_with_expensive_orders = non_cross_orders[non_cross_orders['revenue'] > 30000]['visitor_id']\n",
    "abnormal_users = (\n",
    "    pd.concat([users_with_many_orders, users_with_expensive_orders], axis=0)\n",
    "    .drop_duplicates()\n",
    "    .sort_values()\n",
    ")\n",
    "display(abnormal_users.head(5))\n",
    "display(abnormal_users.shape)"
   ]
  },
  {
   "cell_type": "markdown",
   "id": "69fe9ba5",
   "metadata": {},
   "source": [
    "Всего 49 аномальных пользователей.\n",
    "\n",
    "Узнаем, как их действия повлияли на результаты теста. Посчитаем статистическую значимость различий в конверсии между группами теста по очищенным данным. Сначала подготовим выборки количества заказов по пользователям по группам теста:"
   ]
  },
  {
   "cell_type": "code",
   "execution_count": 41,
   "id": "6161c58d",
   "metadata": {},
   "outputs": [],
   "source": [
    "sample_a_filtered = pd.concat(\n",
    "    [\n",
    "        orders_by_users_a[\n",
    "            np.logical_not(orders_by_users_a['user_id'].isin(abnormal_users))\n",
    "        ]['orders'],\n",
    "        pd.Series(\n",
    "            0,\n",
    "            index=np.arange(\n",
    "                data['visitors_per_date_a'].sum() - len(orders_by_users_a['orders'])\n",
    "            ),\n",
    "            name='orders',\n",
    "        ),\n",
    "    ],\n",
    "    axis=0,\n",
    ")\n",
    "\n",
    "sample_b_filtered = pd.concat(\n",
    "    [\n",
    "        orders_by_users_b[\n",
    "            np.logical_not(orders_by_users_b['user_id'].isin(abnormal_users))\n",
    "        ]['orders'],\n",
    "        pd.Series(\n",
    "            0,\n",
    "            index=np.arange(\n",
    "                data['visitors_per_date_b'].sum() - len(orders_by_users_b['orders'])\n",
    "            ),\n",
    "            name='orders',\n",
    "        ),\n",
    "    ],\n",
    "    axis=0,\n",
    ")"
   ]
  },
  {
   "cell_type": "markdown",
   "id": "01362572",
   "metadata": {},
   "source": [
    "Применим статистический критерий Манна-Уитни к полученным выборкам:"
   ]
  },
  {
   "cell_type": "code",
   "execution_count": 42,
   "id": "28db1eb6",
   "metadata": {},
   "outputs": [
    {
     "name": "stdout",
     "output_type": "stream",
     "text": [
      "p-value: 0.010\n",
      "Отвергаем нулевую гипотезу\n",
      "Относительный прирост конверсии группы B: 18.7%\n"
     ]
    }
   ],
   "source": [
    "test(sample_a_filtered, sample_b_filtered)"
   ]
  },
  {
   "cell_type": "markdown",
   "id": "2e6aa4f9",
   "metadata": {},
   "source": [
    "Результаты по конверсии практически не изменились. p-value меньше 0.05, т.е. различия в конверсии между группами есть. Прирост конверсии группы B относительно группы A увеличился с 16% до 18.7%."
   ]
  },
  {
   "cell_type": "markdown",
   "id": "1b8a7ddb",
   "metadata": {},
   "source": [
    "### Статистическая значимость различий в  среднем чеке заказа между группами по «очищенным» данным"
   ]
  },
  {
   "cell_type": "markdown",
   "id": "8ce8a518",
   "metadata": {},
   "source": [
    "Посчитаем статистическую значимость различий в среднем чеке заказа между группами по \"очищенным\" данным:"
   ]
  },
  {
   "cell_type": "code",
   "execution_count": 43,
   "id": "16cf1779",
   "metadata": {},
   "outputs": [
    {
     "name": "stdout",
     "output_type": "stream",
     "text": [
      "p-value: 0.741\n",
      "Не получилось отвергнуть нулевую гипотезу\n",
      "Относительный прирост конверсии группы B: -2.7%\n"
     ]
    },
    {
     "name": "stderr",
     "output_type": "stream",
     "text": [
      "C:\\Users\\Admin\\AppData\\Local\\Temp/ipykernel_5636/4133462658.py:7: UserWarning: Boolean Series key will be reindexed to match DataFrame index.\n",
      "  non_cross_orders[\n"
     ]
    }
   ],
   "source": [
    "test(non_cross_orders[\n",
    "                np.logical_and(\n",
    "                    non_cross_orders['group'] == 'A',\n",
    "                    np.logical_not(non_cross_orders['visitor_id'].isin(abnormal_users)),\n",
    "                )\n",
    "            ]['revenue'],\n",
    "            non_cross_orders[\n",
    "                np.logical_and(\n",
    "                    non_cross_orders['group'] == 'B',\n",
    "                    np.logical_not(orders['visitor_id'].isin(abnormal_users)),\n",
    "                )\n",
    "            ]['revenue'])"
   ]
  },
  {
   "cell_type": "markdown",
   "id": "13bac71b",
   "metadata": {},
   "source": [
    "P-value значительно больше 0.05, значит, причин отвергать нулевую гипотезу и считать, что в среднем чеке есть различия, нет. Но по очищенным данным средний чек группы B стал на 2.7% ниже среднего чека группы A (по сырым данным по группе B было превышение на 28.7%). Очевидно, все дело в том самом аномально большом заказе от 19 августа."
   ]
  },
  {
   "cell_type": "markdown",
   "id": "31c13105",
   "metadata": {},
   "source": [
    "### Вывод по результатам A/B-теста"
   ]
  },
  {
   "cell_type": "markdown",
   "id": "b1c8c699",
   "metadata": {},
   "source": [
    "В результате анализа A/B-теста мы выяснили слеующее:\n",
    "\n",
    "* И по \"сырым\", и по \"очищенным\" данным у конверсии между группами есть статистически значимые различия. Относительный прирост конверсии группы B к конверсии группы A по \"сырым\" данным равен 16%, по \"очищенным\" данным — 18.7%;\n",
    "\n",
    "* Нет статистически значимого различия по среднему чеку между группами ни по \"сырым\", ни по \"очищенным\" данным. Прирост среднего чека группы B относительно среднего чека группы A по \"сырым\" данным составляет 28.7%, а по \"очищенным\" данным составляет -2.7%;\n",
    "\n",
    "* График различия конверсии между группами сообщает, что результаты группы A хуже группы B; \n",
    "\n",
    "На основании всего вышеперечисленного можно принять решение об остановке теста и признании победы за группой B."
   ]
  },
  {
   "cell_type": "markdown",
   "id": "6e4ca348",
   "metadata": {},
   "source": [
    "<a id=\"step5\"></a>\n",
    "## Общий вывод"
   ]
  },
  {
   "cell_type": "markdown",
   "id": "fe4713ad",
   "metadata": {},
   "source": [
    "Мы провели исследование для крупного интернет-магазина во временном периоде с 2019-08-01 по 2019-08-31. В нашем распоряжении были 3 таблицы: в первой содержались сформулированные гипотезы и их оценки по различным параметрам, в остальных двух - данные о логах при проведении A/B-теста с разбивкой на группы, а именно: данные о пользователях и совершенных ими заказах, полученной выручке, а также данные о посещениях пользователями интернет-магазина. Перед нами стояла задача приоритезации гипотез и анализа проведенного A/B-теста .\n",
    "\n",
    "Наше исследование состяло из нескольких этапов:\n",
    "\n",
    "1. Мы исследовали приоритезацию составленных гипотез. По фреймворку ICE лидируют гипотезы 8, 0, 7, 6, тогда как по фреймфорку RICE лидируют гипотезы 7, 2, 6, 0.\n",
    "\n",
    "Исходя из того, что при приоритезации гипотез важно помнить о том, какое количество пользователей затронет привносимое изменение, наиболее перспективными для тестирования нам видятся гипотезы 7 (\"Добавить форму подписки на все основные страницы, чтобы собрать базу клиентов для email-рассылок\") и 2 (\"Добавить блоки рекомендаций товаров на сайт интернет магазина, чтобы повысить конверсию и средний чек заказа\").\n",
    "\n",
    "2. Мы проанализировали результаты A/B теста:\n",
    "\n",
    "* Выяснилось, что по показателям куммулятивной выручки, среднему чеку и конверсии по \"сырым\" данным практически на протяжении всего теста лидировала группа B.\n",
    "\n",
    "* Мы обнаружили 2 аномально дорогих заказа стоимостью порядка 1.3 млн. д.е. и 200 тыс. д.е., которые оказывали влияние на результат теста.\n",
    "\n",
    "* Для очистки данных от аномалий мы определили граничные значения: не более 2 заказов от одного пользователя и стоимость каждого отдельного заказа не более 30 000 д.е.  \n",
    "\n",
    "* До и после очистки данных у конверсии между группами есть статистически значимые различия. Относительный прирост конверсии группы B к конверсии группы A по \"сырым\" данным равен 16%, по \"очищенным\" данным — 18.7%.\n",
    "\n",
    "* До и после очистки данных статистически значимые различия по среднему чеку между группами отсутствуют. Прирост среднего чека группы B относительно среднего чека группы A по \"сырым\" данным составляет 28.7%, а по \"очищенным\" данным составляет -2.7%.\n",
    "\n",
    "В результате проведенного анализа можно принять решение об остановке теста и признать победу за группой B."
   ]
  },
  {
   "cell_type": "code",
   "execution_count": null,
   "id": "9d8b0e08",
   "metadata": {},
   "outputs": [],
   "source": []
  }
 ],
 "metadata": {
  "ExecuteTimeLog": [
   {
    "duration": 47,
    "start_time": "2022-04-22T09:15:59.143Z"
   },
   {
    "duration": 1303,
    "start_time": "2022-04-22T09:16:09.130Z"
   },
   {
    "duration": 3,
    "start_time": "2022-04-22T09:16:13.499Z"
   },
   {
    "duration": 38,
    "start_time": "2022-04-22T09:16:16.159Z"
   },
   {
    "duration": 3,
    "start_time": "2022-04-22T09:16:18.395Z"
   },
   {
    "duration": 22,
    "start_time": "2022-04-22T09:16:23.212Z"
   },
   {
    "duration": 16,
    "start_time": "2022-04-22T09:16:28.596Z"
   },
   {
    "duration": 4,
    "start_time": "2022-04-22T09:16:35.279Z"
   },
   {
    "duration": 15,
    "start_time": "2022-04-22T09:16:36.068Z"
   },
   {
    "duration": 4,
    "start_time": "2022-04-22T09:16:39.866Z"
   },
   {
    "duration": 8,
    "start_time": "2022-04-22T09:16:43.680Z"
   },
   {
    "duration": 4,
    "start_time": "2022-04-22T09:16:48.153Z"
   },
   {
    "duration": 1078,
    "start_time": "2022-04-22T09:24:03.776Z"
   },
   {
    "duration": 3,
    "start_time": "2022-04-22T09:24:04.856Z"
   },
   {
    "duration": 40,
    "start_time": "2022-04-22T09:24:04.860Z"
   },
   {
    "duration": 3,
    "start_time": "2022-04-22T09:24:04.902Z"
   },
   {
    "duration": 22,
    "start_time": "2022-04-22T09:24:04.907Z"
   },
   {
    "duration": 17,
    "start_time": "2022-04-22T09:24:04.931Z"
   },
   {
    "duration": 3,
    "start_time": "2022-04-22T09:24:04.950Z"
   },
   {
    "duration": 16,
    "start_time": "2022-04-22T09:24:04.955Z"
   },
   {
    "duration": 35,
    "start_time": "2022-04-22T09:24:04.973Z"
   },
   {
    "duration": 15,
    "start_time": "2022-04-22T09:24:05.010Z"
   },
   {
    "duration": 4,
    "start_time": "2022-04-22T09:24:05.027Z"
   },
   {
    "duration": 14,
    "start_time": "2022-04-22T09:24:09.516Z"
   },
   {
    "duration": 543,
    "start_time": "2022-04-22T09:24:17.924Z"
   },
   {
    "duration": 403,
    "start_time": "2022-04-22T09:24:41.632Z"
   },
   {
    "duration": 1025,
    "start_time": "2022-04-22T09:27:27.219Z"
   },
   {
    "duration": 3,
    "start_time": "2022-04-22T09:27:28.246Z"
   },
   {
    "duration": 39,
    "start_time": "2022-04-22T09:27:28.251Z"
   },
   {
    "duration": 3,
    "start_time": "2022-04-22T09:27:28.291Z"
   },
   {
    "duration": 20,
    "start_time": "2022-04-22T09:27:28.297Z"
   },
   {
    "duration": 16,
    "start_time": "2022-04-22T09:27:28.318Z"
   },
   {
    "duration": 4,
    "start_time": "2022-04-22T09:27:28.335Z"
   },
   {
    "duration": 17,
    "start_time": "2022-04-22T09:27:28.340Z"
   },
   {
    "duration": 4,
    "start_time": "2022-04-22T09:27:28.359Z"
   },
   {
    "duration": 8,
    "start_time": "2022-04-22T09:27:28.365Z"
   },
   {
    "duration": 33,
    "start_time": "2022-04-22T09:27:28.375Z"
   },
   {
    "duration": 24,
    "start_time": "2022-04-22T09:27:29.959Z"
   },
   {
    "duration": 486,
    "start_time": "2022-04-22T09:27:38.679Z"
   },
   {
    "duration": 8,
    "start_time": "2022-04-22T09:27:52.767Z"
   },
   {
    "duration": 11,
    "start_time": "2022-04-22T09:27:55.159Z"
   },
   {
    "duration": 10,
    "start_time": "2022-04-22T09:28:01.421Z"
   },
   {
    "duration": 635,
    "start_time": "2022-04-22T09:28:08.783Z"
   },
   {
    "duration": 1040,
    "start_time": "2022-04-22T09:28:27.311Z"
   },
   {
    "duration": 3,
    "start_time": "2022-04-22T09:28:28.353Z"
   },
   {
    "duration": 42,
    "start_time": "2022-04-22T09:28:28.358Z"
   },
   {
    "duration": 2,
    "start_time": "2022-04-22T09:28:28.402Z"
   },
   {
    "duration": 31,
    "start_time": "2022-04-22T09:28:28.406Z"
   },
   {
    "duration": 16,
    "start_time": "2022-04-22T09:28:28.439Z"
   },
   {
    "duration": 3,
    "start_time": "2022-04-22T09:28:28.457Z"
   },
   {
    "duration": 17,
    "start_time": "2022-04-22T09:28:28.462Z"
   },
   {
    "duration": 4,
    "start_time": "2022-04-22T09:28:28.480Z"
   },
   {
    "duration": 36,
    "start_time": "2022-04-22T09:28:28.485Z"
   },
   {
    "duration": 5,
    "start_time": "2022-04-22T09:28:28.523Z"
   },
   {
    "duration": 12,
    "start_time": "2022-04-22T09:28:31.233Z"
   },
   {
    "duration": 11,
    "start_time": "2022-04-22T09:28:39.498Z"
   },
   {
    "duration": 8,
    "start_time": "2022-04-22T09:38:08.790Z"
   },
   {
    "duration": 21,
    "start_time": "2022-04-22T09:39:09.992Z"
   },
   {
    "duration": 92,
    "start_time": "2022-04-22T09:40:00.452Z"
   },
   {
    "duration": 12,
    "start_time": "2022-04-22T09:40:03.631Z"
   },
   {
    "duration": 12,
    "start_time": "2022-04-22T09:40:10.438Z"
   },
   {
    "duration": 7,
    "start_time": "2022-04-22T09:40:20.215Z"
   },
   {
    "duration": 9,
    "start_time": "2022-04-22T09:41:05.885Z"
   },
   {
    "duration": 12,
    "start_time": "2022-04-22T09:55:50.967Z"
   },
   {
    "duration": 5,
    "start_time": "2022-04-22T09:55:57.786Z"
   },
   {
    "duration": 8,
    "start_time": "2022-04-22T09:56:02.445Z"
   },
   {
    "duration": 7,
    "start_time": "2022-04-22T11:08:17.223Z"
   },
   {
    "duration": 280,
    "start_time": "2022-04-22T11:12:00.942Z"
   },
   {
    "duration": 14,
    "start_time": "2022-04-22T11:12:18.069Z"
   },
   {
    "duration": 11,
    "start_time": "2022-04-22T11:12:26.932Z"
   },
   {
    "duration": 8,
    "start_time": "2022-04-22T11:12:32.393Z"
   },
   {
    "duration": 4,
    "start_time": "2022-04-22T11:12:36.282Z"
   },
   {
    "duration": 182,
    "start_time": "2022-04-22T11:13:26.224Z"
   },
   {
    "duration": 144,
    "start_time": "2022-04-22T11:14:02.444Z"
   },
   {
    "duration": 174,
    "start_time": "2022-04-22T11:14:13.290Z"
   },
   {
    "duration": 5,
    "start_time": "2022-04-22T11:14:32.492Z"
   },
   {
    "duration": 176,
    "start_time": "2022-04-22T11:15:32.346Z"
   },
   {
    "duration": 4,
    "start_time": "2022-04-22T11:15:42.332Z"
   },
   {
    "duration": 124,
    "start_time": "2022-04-22T11:17:42.139Z"
   },
   {
    "duration": 10,
    "start_time": "2022-04-22T11:17:46.484Z"
   },
   {
    "duration": 10,
    "start_time": "2022-04-22T11:18:24.194Z"
   },
   {
    "duration": 13,
    "start_time": "2022-04-22T11:18:47.216Z"
   },
   {
    "duration": 15,
    "start_time": "2022-04-22T11:19:26.672Z"
   },
   {
    "duration": 1064,
    "start_time": "2022-04-22T11:19:54.383Z"
   },
   {
    "duration": 3,
    "start_time": "2022-04-22T11:19:55.449Z"
   },
   {
    "duration": 41,
    "start_time": "2022-04-22T11:19:55.453Z"
   },
   {
    "duration": 2,
    "start_time": "2022-04-22T11:19:55.496Z"
   },
   {
    "duration": 29,
    "start_time": "2022-04-22T11:19:55.500Z"
   },
   {
    "duration": 15,
    "start_time": "2022-04-22T11:19:55.531Z"
   },
   {
    "duration": 3,
    "start_time": "2022-04-22T11:19:55.548Z"
   },
   {
    "duration": 18,
    "start_time": "2022-04-22T11:19:55.553Z"
   },
   {
    "duration": 3,
    "start_time": "2022-04-22T11:19:55.573Z"
   },
   {
    "duration": 9,
    "start_time": "2022-04-22T11:19:55.611Z"
   },
   {
    "duration": 4,
    "start_time": "2022-04-22T11:19:55.621Z"
   },
   {
    "duration": 18,
    "start_time": "2022-04-22T11:19:55.627Z"
   },
   {
    "duration": 7,
    "start_time": "2022-04-22T11:19:55.647Z"
   },
   {
    "duration": 7,
    "start_time": "2022-04-22T11:19:55.656Z"
   },
   {
    "duration": 8,
    "start_time": "2022-04-22T11:19:55.665Z"
   },
   {
    "duration": 10,
    "start_time": "2022-04-22T11:19:55.674Z"
   },
   {
    "duration": 39,
    "start_time": "2022-04-22T11:19:55.685Z"
   },
   {
    "duration": 11,
    "start_time": "2022-04-22T11:19:55.726Z"
   },
   {
    "duration": 301,
    "start_time": "2022-04-22T11:19:55.739Z"
   },
   {
    "duration": 296,
    "start_time": "2022-04-22T11:19:56.042Z"
   },
   {
    "duration": 106,
    "start_time": "2022-04-22T11:19:56.340Z"
   },
   {
    "duration": 0,
    "start_time": "2022-04-22T11:19:56.448Z"
   },
   {
    "duration": 0,
    "start_time": "2022-04-22T11:19:56.449Z"
   },
   {
    "duration": 0,
    "start_time": "2022-04-22T11:19:56.450Z"
   },
   {
    "duration": 0,
    "start_time": "2022-04-22T11:19:56.451Z"
   },
   {
    "duration": 0,
    "start_time": "2022-04-22T11:19:56.453Z"
   },
   {
    "duration": 0,
    "start_time": "2022-04-22T11:19:56.454Z"
   },
   {
    "duration": 0,
    "start_time": "2022-04-22T11:19:56.455Z"
   },
   {
    "duration": 0,
    "start_time": "2022-04-22T11:19:56.456Z"
   },
   {
    "duration": 0,
    "start_time": "2022-04-22T11:19:56.457Z"
   },
   {
    "duration": 0,
    "start_time": "2022-04-22T11:19:56.458Z"
   },
   {
    "duration": 0,
    "start_time": "2022-04-22T11:19:56.459Z"
   },
   {
    "duration": 0,
    "start_time": "2022-04-22T11:19:56.460Z"
   },
   {
    "duration": 0,
    "start_time": "2022-04-22T11:19:56.460Z"
   },
   {
    "duration": 0,
    "start_time": "2022-04-22T11:19:56.461Z"
   },
   {
    "duration": 0,
    "start_time": "2022-04-22T11:19:56.463Z"
   },
   {
    "duration": 0,
    "start_time": "2022-04-22T11:19:56.464Z"
   },
   {
    "duration": 0,
    "start_time": "2022-04-22T11:19:56.464Z"
   },
   {
    "duration": 0,
    "start_time": "2022-04-22T11:19:56.466Z"
   },
   {
    "duration": 0,
    "start_time": "2022-04-22T11:19:56.467Z"
   },
   {
    "duration": 0,
    "start_time": "2022-04-22T11:19:56.467Z"
   },
   {
    "duration": 17,
    "start_time": "2022-04-22T11:21:03.805Z"
   },
   {
    "duration": 1178,
    "start_time": "2022-04-22T11:21:15.554Z"
   },
   {
    "duration": 3,
    "start_time": "2022-04-22T11:21:16.734Z"
   },
   {
    "duration": 46,
    "start_time": "2022-04-22T11:21:16.739Z"
   },
   {
    "duration": 3,
    "start_time": "2022-04-22T11:21:16.787Z"
   },
   {
    "duration": 30,
    "start_time": "2022-04-22T11:21:16.792Z"
   },
   {
    "duration": 17,
    "start_time": "2022-04-22T11:21:16.824Z"
   },
   {
    "duration": 4,
    "start_time": "2022-04-22T11:21:16.843Z"
   },
   {
    "duration": 18,
    "start_time": "2022-04-22T11:21:16.849Z"
   },
   {
    "duration": 4,
    "start_time": "2022-04-22T11:21:16.869Z"
   },
   {
    "duration": 12,
    "start_time": "2022-04-22T11:21:16.910Z"
   },
   {
    "duration": 7,
    "start_time": "2022-04-22T11:21:16.924Z"
   },
   {
    "duration": 15,
    "start_time": "2022-04-22T11:21:16.932Z"
   },
   {
    "duration": 7,
    "start_time": "2022-04-22T11:21:16.949Z"
   },
   {
    "duration": 7,
    "start_time": "2022-04-22T11:21:16.958Z"
   },
   {
    "duration": 9,
    "start_time": "2022-04-22T11:21:16.966Z"
   },
   {
    "duration": 12,
    "start_time": "2022-04-22T11:21:17.007Z"
   },
   {
    "duration": 13,
    "start_time": "2022-04-22T11:21:17.021Z"
   },
   {
    "duration": 13,
    "start_time": "2022-04-22T11:21:17.036Z"
   },
   {
    "duration": 316,
    "start_time": "2022-04-22T11:21:17.050Z"
   },
   {
    "duration": 323,
    "start_time": "2022-04-22T11:21:17.368Z"
   },
   {
    "duration": 21,
    "start_time": "2022-04-22T11:21:17.693Z"
   },
   {
    "duration": 5,
    "start_time": "2022-04-22T11:21:17.720Z"
   },
   {
    "duration": 255,
    "start_time": "2022-04-22T11:21:17.726Z"
   },
   {
    "duration": 353,
    "start_time": "2022-04-22T11:21:17.983Z"
   },
   {
    "duration": 236,
    "start_time": "2022-04-22T11:21:18.337Z"
   },
   {
    "duration": 347,
    "start_time": "2022-04-22T11:21:18.575Z"
   },
   {
    "duration": 176,
    "start_time": "2022-04-22T11:21:18.924Z"
   },
   {
    "duration": 7,
    "start_time": "2022-04-22T11:21:19.110Z"
   },
   {
    "duration": 183,
    "start_time": "2022-04-22T11:21:19.119Z"
   },
   {
    "duration": 10,
    "start_time": "2022-04-22T11:21:19.304Z"
   },
   {
    "duration": 132,
    "start_time": "2022-04-22T11:21:19.315Z"
   },
   {
    "duration": 113,
    "start_time": "2022-04-22T11:21:19.448Z"
   },
   {
    "duration": 31,
    "start_time": "2022-04-22T11:21:19.563Z"
   },
   {
    "duration": 160,
    "start_time": "2022-04-22T11:21:19.608Z"
   },
   {
    "duration": 7,
    "start_time": "2022-04-22T11:21:19.769Z"
   },
   {
    "duration": 52,
    "start_time": "2022-04-22T11:21:19.778Z"
   },
   {
    "duration": 11,
    "start_time": "2022-04-22T11:21:19.831Z"
   },
   {
    "duration": 11,
    "start_time": "2022-04-22T11:21:19.844Z"
   },
   {
    "duration": 16,
    "start_time": "2022-04-22T11:21:19.856Z"
   },
   {
    "duration": 40,
    "start_time": "2022-04-22T11:21:19.873Z"
   },
   {
    "duration": 16,
    "start_time": "2022-04-22T11:21:19.924Z"
   },
   {
    "duration": 12,
    "start_time": "2022-04-22T11:21:41.845Z"
   },
   {
    "duration": 6,
    "start_time": "2022-04-22T11:21:51.522Z"
   },
   {
    "duration": 231,
    "start_time": "2022-04-22T11:28:57.596Z"
   },
   {
    "duration": 314,
    "start_time": "2022-04-22T11:29:03.605Z"
   },
   {
    "duration": 253,
    "start_time": "2022-04-22T11:29:15.910Z"
   },
   {
    "duration": 284,
    "start_time": "2022-04-22T11:30:29.048Z"
   },
   {
    "duration": 299,
    "start_time": "2022-04-22T11:31:13.440Z"
   },
   {
    "duration": 266,
    "start_time": "2022-04-22T11:31:18.139Z"
   },
   {
    "duration": 332,
    "start_time": "2022-04-22T11:31:24.791Z"
   },
   {
    "duration": 285,
    "start_time": "2022-04-22T11:31:44.238Z"
   },
   {
    "duration": 270,
    "start_time": "2022-04-22T11:31:48.442Z"
   },
   {
    "duration": 154,
    "start_time": "2022-04-22T11:35:40.403Z"
   },
   {
    "duration": 146,
    "start_time": "2022-04-22T11:35:47.922Z"
   },
   {
    "duration": 42,
    "start_time": "2022-04-22T13:16:04.229Z"
   },
   {
    "duration": 43,
    "start_time": "2022-04-22T13:20:38.430Z"
   },
   {
    "duration": 42,
    "start_time": "2022-04-22T13:22:00.789Z"
   },
   {
    "duration": 138,
    "start_time": "2022-04-22T13:22:21.552Z"
   },
   {
    "duration": 53,
    "start_time": "2022-04-22T13:22:30.810Z"
   },
   {
    "duration": 43,
    "start_time": "2022-04-22T13:22:42.097Z"
   },
   {
    "duration": 9,
    "start_time": "2022-04-22T13:24:00.857Z"
   },
   {
    "duration": 42,
    "start_time": "2022-04-22T13:24:32.579Z"
   },
   {
    "duration": 10,
    "start_time": "2022-04-22T13:24:36.694Z"
   },
   {
    "duration": 41,
    "start_time": "2022-04-22T13:25:33.215Z"
   },
   {
    "duration": 13,
    "start_time": "2022-04-22T13:26:57.383Z"
   },
   {
    "duration": 16,
    "start_time": "2022-04-22T13:27:24.667Z"
   },
   {
    "duration": 14,
    "start_time": "2022-04-22T13:27:46.111Z"
   },
   {
    "duration": 42,
    "start_time": "2022-04-22T13:32:05.941Z"
   },
   {
    "duration": 1095,
    "start_time": "2022-04-22T13:40:15.873Z"
   },
   {
    "duration": 3,
    "start_time": "2022-04-22T13:40:16.970Z"
   },
   {
    "duration": 51,
    "start_time": "2022-04-22T13:40:16.974Z"
   },
   {
    "duration": 3,
    "start_time": "2022-04-22T13:40:17.027Z"
   },
   {
    "duration": 23,
    "start_time": "2022-04-22T13:40:17.032Z"
   },
   {
    "duration": 16,
    "start_time": "2022-04-22T13:40:17.057Z"
   },
   {
    "duration": 4,
    "start_time": "2022-04-22T13:40:17.075Z"
   },
   {
    "duration": 36,
    "start_time": "2022-04-22T13:40:17.081Z"
   },
   {
    "duration": 4,
    "start_time": "2022-04-22T13:40:17.119Z"
   },
   {
    "duration": 7,
    "start_time": "2022-04-22T13:40:17.126Z"
   },
   {
    "duration": 3,
    "start_time": "2022-04-22T13:40:17.135Z"
   },
   {
    "duration": 14,
    "start_time": "2022-04-22T13:40:17.140Z"
   },
   {
    "duration": 8,
    "start_time": "2022-04-22T13:40:17.155Z"
   },
   {
    "duration": 44,
    "start_time": "2022-04-22T13:40:17.164Z"
   },
   {
    "duration": 9,
    "start_time": "2022-04-22T13:40:17.210Z"
   },
   {
    "duration": 5,
    "start_time": "2022-04-22T13:40:17.221Z"
   },
   {
    "duration": 12,
    "start_time": "2022-04-22T13:40:17.227Z"
   },
   {
    "duration": 13,
    "start_time": "2022-04-22T13:40:17.240Z"
   },
   {
    "duration": 303,
    "start_time": "2022-04-22T13:40:17.255Z"
   },
   {
    "duration": 297,
    "start_time": "2022-04-22T13:40:17.560Z"
   },
   {
    "duration": 12,
    "start_time": "2022-04-22T13:40:17.858Z"
   },
   {
    "duration": 5,
    "start_time": "2022-04-22T13:40:17.872Z"
   },
   {
    "duration": 247,
    "start_time": "2022-04-22T13:40:17.878Z"
   },
   {
    "duration": 292,
    "start_time": "2022-04-22T13:40:18.127Z"
   },
   {
    "duration": 223,
    "start_time": "2022-04-22T13:40:18.421Z"
   },
   {
    "duration": 289,
    "start_time": "2022-04-22T13:40:18.646Z"
   },
   {
    "duration": 171,
    "start_time": "2022-04-22T13:40:18.937Z"
   },
   {
    "duration": 5,
    "start_time": "2022-04-22T13:40:19.111Z"
   },
   {
    "duration": 171,
    "start_time": "2022-04-22T13:40:19.117Z"
   },
   {
    "duration": 93,
    "start_time": "2022-04-22T13:40:19.290Z"
   },
   {
    "duration": 0,
    "start_time": "2022-04-22T13:40:19.386Z"
   },
   {
    "duration": 0,
    "start_time": "2022-04-22T13:40:19.387Z"
   },
   {
    "duration": 0,
    "start_time": "2022-04-22T13:40:19.388Z"
   },
   {
    "duration": 0,
    "start_time": "2022-04-22T13:40:19.389Z"
   },
   {
    "duration": 0,
    "start_time": "2022-04-22T13:40:19.390Z"
   },
   {
    "duration": 0,
    "start_time": "2022-04-22T13:40:19.391Z"
   },
   {
    "duration": 0,
    "start_time": "2022-04-22T13:40:19.392Z"
   },
   {
    "duration": 0,
    "start_time": "2022-04-22T13:40:19.393Z"
   },
   {
    "duration": 0,
    "start_time": "2022-04-22T13:40:19.394Z"
   },
   {
    "duration": 0,
    "start_time": "2022-04-22T13:40:19.395Z"
   },
   {
    "duration": 0,
    "start_time": "2022-04-22T13:40:19.396Z"
   },
   {
    "duration": 0,
    "start_time": "2022-04-22T13:40:19.397Z"
   },
   {
    "duration": 0,
    "start_time": "2022-04-22T13:40:19.398Z"
   },
   {
    "duration": 0,
    "start_time": "2022-04-22T13:40:19.399Z"
   },
   {
    "duration": 156,
    "start_time": "2022-04-22T13:53:29.636Z"
   },
   {
    "duration": 5,
    "start_time": "2022-04-22T13:53:29.794Z"
   },
   {
    "duration": 184,
    "start_time": "2022-04-22T13:53:29.807Z"
   },
   {
    "duration": 94,
    "start_time": "2022-04-22T13:53:29.993Z"
   },
   {
    "duration": 39,
    "start_time": "2022-04-22T13:53:30.088Z"
   },
   {
    "duration": 126,
    "start_time": "2022-04-22T13:53:30.128Z"
   },
   {
    "duration": 7,
    "start_time": "2022-04-22T13:53:30.256Z"
   },
   {
    "duration": 6,
    "start_time": "2022-04-22T13:53:30.264Z"
   },
   {
    "duration": 57,
    "start_time": "2022-04-22T13:53:30.272Z"
   },
   {
    "duration": 9,
    "start_time": "2022-04-22T13:53:30.332Z"
   },
   {
    "duration": 17,
    "start_time": "2022-04-22T13:53:30.343Z"
   },
   {
    "duration": 38,
    "start_time": "2022-04-22T13:53:30.362Z"
   },
   {
    "duration": 64,
    "start_time": "2022-04-22T13:53:30.402Z"
   },
   {
    "duration": 12,
    "start_time": "2022-04-22T13:53:30.468Z"
   },
   {
    "duration": 1120,
    "start_time": "2022-04-22T13:56:54.021Z"
   },
   {
    "duration": 3,
    "start_time": "2022-04-22T13:56:55.143Z"
   },
   {
    "duration": 42,
    "start_time": "2022-04-22T13:56:55.147Z"
   },
   {
    "duration": 3,
    "start_time": "2022-04-22T13:56:55.191Z"
   },
   {
    "duration": 23,
    "start_time": "2022-04-22T13:56:55.195Z"
   },
   {
    "duration": 15,
    "start_time": "2022-04-22T13:56:55.219Z"
   },
   {
    "duration": 3,
    "start_time": "2022-04-22T13:56:55.236Z"
   },
   {
    "duration": 16,
    "start_time": "2022-04-22T13:56:55.241Z"
   },
   {
    "duration": 3,
    "start_time": "2022-04-22T13:56:55.259Z"
   },
   {
    "duration": 9,
    "start_time": "2022-04-22T13:56:55.265Z"
   },
   {
    "duration": 4,
    "start_time": "2022-04-22T13:56:55.308Z"
   },
   {
    "duration": 15,
    "start_time": "2022-04-22T13:56:55.313Z"
   },
   {
    "duration": 8,
    "start_time": "2022-04-22T13:56:55.329Z"
   },
   {
    "duration": 7,
    "start_time": "2022-04-22T13:56:55.338Z"
   },
   {
    "duration": 7,
    "start_time": "2022-04-22T13:56:55.347Z"
   },
   {
    "duration": 5,
    "start_time": "2022-04-22T13:56:55.356Z"
   },
   {
    "duration": 11,
    "start_time": "2022-04-22T13:56:55.362Z"
   },
   {
    "duration": 12,
    "start_time": "2022-04-22T13:56:55.407Z"
   },
   {
    "duration": 277,
    "start_time": "2022-04-22T13:56:55.421Z"
   },
   {
    "duration": 288,
    "start_time": "2022-04-22T13:56:55.699Z"
   },
   {
    "duration": 13,
    "start_time": "2022-04-22T13:56:55.988Z"
   },
   {
    "duration": 5,
    "start_time": "2022-04-22T13:56:56.007Z"
   },
   {
    "duration": 218,
    "start_time": "2022-04-22T13:56:56.013Z"
   },
   {
    "duration": 281,
    "start_time": "2022-04-22T13:56:56.233Z"
   },
   {
    "duration": 214,
    "start_time": "2022-04-22T13:56:56.516Z"
   },
   {
    "duration": 286,
    "start_time": "2022-04-22T13:56:56.732Z"
   },
   {
    "duration": 165,
    "start_time": "2022-04-22T13:56:57.019Z"
   },
   {
    "duration": 4,
    "start_time": "2022-04-22T13:56:57.189Z"
   },
   {
    "duration": 161,
    "start_time": "2022-04-22T13:56:57.195Z"
   },
   {
    "duration": 164,
    "start_time": "2022-04-22T13:56:57.358Z"
   },
   {
    "duration": 6,
    "start_time": "2022-04-22T13:56:57.524Z"
   },
   {
    "duration": 216,
    "start_time": "2022-04-22T13:56:57.532Z"
   },
   {
    "duration": 95,
    "start_time": "2022-04-22T13:56:57.749Z"
   },
   {
    "duration": 35,
    "start_time": "2022-04-22T13:56:57.845Z"
   },
   {
    "duration": 140,
    "start_time": "2022-04-22T13:56:57.881Z"
   },
   {
    "duration": 6,
    "start_time": "2022-04-22T13:56:58.022Z"
   },
   {
    "duration": 5,
    "start_time": "2022-04-22T13:56:58.029Z"
   },
   {
    "duration": 41,
    "start_time": "2022-04-22T13:56:58.035Z"
   },
   {
    "duration": 29,
    "start_time": "2022-04-22T13:56:58.078Z"
   },
   {
    "duration": 12,
    "start_time": "2022-04-22T13:56:58.109Z"
   },
   {
    "duration": 18,
    "start_time": "2022-04-22T13:56:58.123Z"
   },
   {
    "duration": 40,
    "start_time": "2022-04-22T13:56:58.143Z"
   },
   {
    "duration": 28,
    "start_time": "2022-04-22T13:56:58.185Z"
   }
  ],
  "kernelspec": {
   "display_name": "Python 3 (ipykernel)",
   "language": "python",
   "name": "python3"
  },
  "language_info": {
   "codemirror_mode": {
    "name": "ipython",
    "version": 3
   },
   "file_extension": ".py",
   "mimetype": "text/x-python",
   "name": "python",
   "nbconvert_exporter": "python",
   "pygments_lexer": "ipython3",
   "version": "3.9.7"
  },
  "toc": {
   "base_numbering": 1,
   "nav_menu": {},
   "number_sections": true,
   "sideBar": true,
   "skip_h1_title": false,
   "title_cell": "Table of Contents",
   "title_sidebar": "Contents",
   "toc_cell": false,
   "toc_position": {
    "height": "calc(100% - 180px)",
    "left": "10px",
    "top": "150px",
    "width": "248.188px"
   },
   "toc_section_display": true,
   "toc_window_display": false
  }
 },
 "nbformat": 4,
 "nbformat_minor": 5
}

{
 "cells": [
  {
   "cell_type": "markdown",
   "id": "93aa6494",
   "metadata": {},
   "source": [
    "**Оглавление:**\n",
    "1. [Изучение данных](#step1)  \n",
    "2. [Предобработка данных](#step2) \n",
    "3. [Исследовательский анализ данных](#step3)\n",
    "4. [Портрет пользователя по регионам](#step4)\n",
    "5. [Проверка гипотез](#step5)\n",
    "6. [Общий вывод](#step6)\n"
   ]
  },
  {
   "cell_type": "markdown",
   "id": "5e88cbed",
   "metadata": {},
   "source": [
    "<a id=\"step1\"></a>\n",
    "## 1. Изучение данных"
   ]
  },
  {
   "cell_type": "markdown",
   "id": "22fc9eeb",
   "metadata": {},
   "source": [
    "Для начала имортируем необходимые библиотеки:"
   ]
  },
  {
   "cell_type": "code",
   "execution_count": 1,
   "id": "1c2f5b95",
   "metadata": {},
   "outputs": [],
   "source": [
    "import pandas as pd\n",
    "import seaborn as sns\n",
    "import matplotlib.pyplot as plt\n",
    "import numpy as np\n",
    "from scipy import stats as st"
   ]
  },
  {
   "cell_type": "markdown",
   "id": "579690da",
   "metadata": {},
   "source": [
    "Прочитаем файл с данными:"
   ]
  },
  {
   "cell_type": "code",
   "execution_count": 2,
   "id": "45a782e2",
   "metadata": {},
   "outputs": [],
   "source": [
    "df = pd.read_csv('datasets/games.csv')"
   ]
  },
  {
   "cell_type": "markdown",
   "id": "1907d67f",
   "metadata": {},
   "source": [
    "Рассмотрим наш датасет:"
   ]
  },
  {
   "cell_type": "code",
   "execution_count": 3,
   "id": "9408df9c",
   "metadata": {
    "scrolled": false
   },
   "outputs": [
    {
     "name": "stdout",
     "output_type": "stream",
     "text": [
      "<class 'pandas.core.frame.DataFrame'>\n",
      "RangeIndex: 16715 entries, 0 to 16714\n",
      "Data columns (total 11 columns):\n",
      " #   Column           Non-Null Count  Dtype  \n",
      "---  ------           --------------  -----  \n",
      " 0   Name             16713 non-null  object \n",
      " 1   Platform         16715 non-null  object \n",
      " 2   Year_of_Release  16446 non-null  float64\n",
      " 3   Genre            16713 non-null  object \n",
      " 4   NA_sales         16715 non-null  float64\n",
      " 5   EU_sales         16715 non-null  float64\n",
      " 6   JP_sales         16715 non-null  float64\n",
      " 7   Other_sales      16715 non-null  float64\n",
      " 8   Critic_Score     8137 non-null   float64\n",
      " 9   User_Score       10014 non-null  object \n",
      " 10  Rating           9949 non-null   object \n",
      "dtypes: float64(6), object(5)\n",
      "memory usage: 1.4+ MB\n"
     ]
    },
    {
     "data": {
      "text/html": [
       "<div>\n",
       "<style scoped>\n",
       "    .dataframe tbody tr th:only-of-type {\n",
       "        vertical-align: middle;\n",
       "    }\n",
       "\n",
       "    .dataframe tbody tr th {\n",
       "        vertical-align: top;\n",
       "    }\n",
       "\n",
       "    .dataframe thead th {\n",
       "        text-align: right;\n",
       "    }\n",
       "</style>\n",
       "<table border=\"1\" class=\"dataframe\">\n",
       "  <thead>\n",
       "    <tr style=\"text-align: right;\">\n",
       "      <th></th>\n",
       "      <th>Name</th>\n",
       "      <th>Platform</th>\n",
       "      <th>Year_of_Release</th>\n",
       "      <th>Genre</th>\n",
       "      <th>NA_sales</th>\n",
       "      <th>EU_sales</th>\n",
       "      <th>JP_sales</th>\n",
       "      <th>Other_sales</th>\n",
       "      <th>Critic_Score</th>\n",
       "      <th>User_Score</th>\n",
       "      <th>Rating</th>\n",
       "    </tr>\n",
       "  </thead>\n",
       "  <tbody>\n",
       "    <tr>\n",
       "      <th>0</th>\n",
       "      <td>Wii Sports</td>\n",
       "      <td>Wii</td>\n",
       "      <td>2006.0</td>\n",
       "      <td>Sports</td>\n",
       "      <td>41.36</td>\n",
       "      <td>28.96</td>\n",
       "      <td>3.77</td>\n",
       "      <td>8.45</td>\n",
       "      <td>76.0</td>\n",
       "      <td>8</td>\n",
       "      <td>E</td>\n",
       "    </tr>\n",
       "    <tr>\n",
       "      <th>1</th>\n",
       "      <td>Super Mario Bros.</td>\n",
       "      <td>NES</td>\n",
       "      <td>1985.0</td>\n",
       "      <td>Platform</td>\n",
       "      <td>29.08</td>\n",
       "      <td>3.58</td>\n",
       "      <td>6.81</td>\n",
       "      <td>0.77</td>\n",
       "      <td>NaN</td>\n",
       "      <td>NaN</td>\n",
       "      <td>NaN</td>\n",
       "    </tr>\n",
       "    <tr>\n",
       "      <th>2</th>\n",
       "      <td>Mario Kart Wii</td>\n",
       "      <td>Wii</td>\n",
       "      <td>2008.0</td>\n",
       "      <td>Racing</td>\n",
       "      <td>15.68</td>\n",
       "      <td>12.76</td>\n",
       "      <td>3.79</td>\n",
       "      <td>3.29</td>\n",
       "      <td>82.0</td>\n",
       "      <td>8.3</td>\n",
       "      <td>E</td>\n",
       "    </tr>\n",
       "    <tr>\n",
       "      <th>3</th>\n",
       "      <td>Wii Sports Resort</td>\n",
       "      <td>Wii</td>\n",
       "      <td>2009.0</td>\n",
       "      <td>Sports</td>\n",
       "      <td>15.61</td>\n",
       "      <td>10.93</td>\n",
       "      <td>3.28</td>\n",
       "      <td>2.95</td>\n",
       "      <td>80.0</td>\n",
       "      <td>8</td>\n",
       "      <td>E</td>\n",
       "    </tr>\n",
       "    <tr>\n",
       "      <th>4</th>\n",
       "      <td>Pokemon Red/Pokemon Blue</td>\n",
       "      <td>GB</td>\n",
       "      <td>1996.0</td>\n",
       "      <td>Role-Playing</td>\n",
       "      <td>11.27</td>\n",
       "      <td>8.89</td>\n",
       "      <td>10.22</td>\n",
       "      <td>1.00</td>\n",
       "      <td>NaN</td>\n",
       "      <td>NaN</td>\n",
       "      <td>NaN</td>\n",
       "    </tr>\n",
       "    <tr>\n",
       "      <th>5</th>\n",
       "      <td>Tetris</td>\n",
       "      <td>GB</td>\n",
       "      <td>1989.0</td>\n",
       "      <td>Puzzle</td>\n",
       "      <td>23.20</td>\n",
       "      <td>2.26</td>\n",
       "      <td>4.22</td>\n",
       "      <td>0.58</td>\n",
       "      <td>NaN</td>\n",
       "      <td>NaN</td>\n",
       "      <td>NaN</td>\n",
       "    </tr>\n",
       "    <tr>\n",
       "      <th>6</th>\n",
       "      <td>New Super Mario Bros.</td>\n",
       "      <td>DS</td>\n",
       "      <td>2006.0</td>\n",
       "      <td>Platform</td>\n",
       "      <td>11.28</td>\n",
       "      <td>9.14</td>\n",
       "      <td>6.50</td>\n",
       "      <td>2.88</td>\n",
       "      <td>89.0</td>\n",
       "      <td>8.5</td>\n",
       "      <td>E</td>\n",
       "    </tr>\n",
       "    <tr>\n",
       "      <th>7</th>\n",
       "      <td>Wii Play</td>\n",
       "      <td>Wii</td>\n",
       "      <td>2006.0</td>\n",
       "      <td>Misc</td>\n",
       "      <td>13.96</td>\n",
       "      <td>9.18</td>\n",
       "      <td>2.93</td>\n",
       "      <td>2.84</td>\n",
       "      <td>58.0</td>\n",
       "      <td>6.6</td>\n",
       "      <td>E</td>\n",
       "    </tr>\n",
       "    <tr>\n",
       "      <th>8</th>\n",
       "      <td>New Super Mario Bros. Wii</td>\n",
       "      <td>Wii</td>\n",
       "      <td>2009.0</td>\n",
       "      <td>Platform</td>\n",
       "      <td>14.44</td>\n",
       "      <td>6.94</td>\n",
       "      <td>4.70</td>\n",
       "      <td>2.24</td>\n",
       "      <td>87.0</td>\n",
       "      <td>8.4</td>\n",
       "      <td>E</td>\n",
       "    </tr>\n",
       "    <tr>\n",
       "      <th>9</th>\n",
       "      <td>Duck Hunt</td>\n",
       "      <td>NES</td>\n",
       "      <td>1984.0</td>\n",
       "      <td>Shooter</td>\n",
       "      <td>26.93</td>\n",
       "      <td>0.63</td>\n",
       "      <td>0.28</td>\n",
       "      <td>0.47</td>\n",
       "      <td>NaN</td>\n",
       "      <td>NaN</td>\n",
       "      <td>NaN</td>\n",
       "    </tr>\n",
       "  </tbody>\n",
       "</table>\n",
       "</div>"
      ],
      "text/plain": [
       "                        Name Platform  Year_of_Release         Genre  \\\n",
       "0                 Wii Sports      Wii           2006.0        Sports   \n",
       "1          Super Mario Bros.      NES           1985.0      Platform   \n",
       "2             Mario Kart Wii      Wii           2008.0        Racing   \n",
       "3          Wii Sports Resort      Wii           2009.0        Sports   \n",
       "4   Pokemon Red/Pokemon Blue       GB           1996.0  Role-Playing   \n",
       "5                     Tetris       GB           1989.0        Puzzle   \n",
       "6      New Super Mario Bros.       DS           2006.0      Platform   \n",
       "7                   Wii Play      Wii           2006.0          Misc   \n",
       "8  New Super Mario Bros. Wii      Wii           2009.0      Platform   \n",
       "9                  Duck Hunt      NES           1984.0       Shooter   \n",
       "\n",
       "   NA_sales  EU_sales  JP_sales  Other_sales  Critic_Score User_Score Rating  \n",
       "0     41.36     28.96      3.77         8.45          76.0          8      E  \n",
       "1     29.08      3.58      6.81         0.77           NaN        NaN    NaN  \n",
       "2     15.68     12.76      3.79         3.29          82.0        8.3      E  \n",
       "3     15.61     10.93      3.28         2.95          80.0          8      E  \n",
       "4     11.27      8.89     10.22         1.00           NaN        NaN    NaN  \n",
       "5     23.20      2.26      4.22         0.58           NaN        NaN    NaN  \n",
       "6     11.28      9.14      6.50         2.88          89.0        8.5      E  \n",
       "7     13.96      9.18      2.93         2.84          58.0        6.6      E  \n",
       "8     14.44      6.94      4.70         2.24          87.0        8.4      E  \n",
       "9     26.93      0.63      0.28         0.47           NaN        NaN    NaN  "
      ]
     },
     "metadata": {},
     "output_type": "display_data"
    },
    {
     "data": {
      "text/plain": [
       "None"
      ]
     },
     "metadata": {},
     "output_type": "display_data"
    }
   ],
   "source": [
    "display(df.head(10), df.info())"
   ]
  },
  {
   "cell_type": "markdown",
   "id": "1196fb3f",
   "metadata": {},
   "source": [
    "Таблица состоит из 16715 строк и 11 столбцов.\n",
    "\n",
    "Видим, что в 6 столбцах (`Name`, `Year_of_Release`, `Genre`, `Critic_Score`, `User_Score`, `Rating`) есть пропущенные значения. При этом больше всего пропусков в 3 последних столбцах, которые относятся к оценкам и рейтингу. Попробуем выяснить смысл этих пропусков ниже.   \n",
    "\n",
    "В таблице имеются столбцы типа `float` и `object`. При этом мы видим, что столбцы `Year_of_Release` и `Critic_Score` можно преобразовать в целочисленный формат `int`, а столбец `User_Score` в формат `float`.\n",
    "\n",
    "В наименовании столбцов необходимо сделать все буквы строчными.\n",
    "\n",
    "Рассмотрим подробней столбцы с числовыми данными:"
   ]
  },
  {
   "cell_type": "code",
   "execution_count": 4,
   "id": "90986ef4",
   "metadata": {
    "scrolled": true
   },
   "outputs": [
    {
     "data": {
      "text/html": [
       "<div>\n",
       "<style scoped>\n",
       "    .dataframe tbody tr th:only-of-type {\n",
       "        vertical-align: middle;\n",
       "    }\n",
       "\n",
       "    .dataframe tbody tr th {\n",
       "        vertical-align: top;\n",
       "    }\n",
       "\n",
       "    .dataframe thead th {\n",
       "        text-align: right;\n",
       "    }\n",
       "</style>\n",
       "<table border=\"1\" class=\"dataframe\">\n",
       "  <thead>\n",
       "    <tr style=\"text-align: right;\">\n",
       "      <th></th>\n",
       "      <th>Year_of_Release</th>\n",
       "      <th>NA_sales</th>\n",
       "      <th>EU_sales</th>\n",
       "      <th>JP_sales</th>\n",
       "      <th>Other_sales</th>\n",
       "      <th>Critic_Score</th>\n",
       "    </tr>\n",
       "  </thead>\n",
       "  <tbody>\n",
       "    <tr>\n",
       "      <th>count</th>\n",
       "      <td>16446.000000</td>\n",
       "      <td>16715.000000</td>\n",
       "      <td>16715.000000</td>\n",
       "      <td>16715.000000</td>\n",
       "      <td>16715.000000</td>\n",
       "      <td>8137.000000</td>\n",
       "    </tr>\n",
       "    <tr>\n",
       "      <th>mean</th>\n",
       "      <td>2006.484616</td>\n",
       "      <td>0.263377</td>\n",
       "      <td>0.145060</td>\n",
       "      <td>0.077617</td>\n",
       "      <td>0.047342</td>\n",
       "      <td>68.967679</td>\n",
       "    </tr>\n",
       "    <tr>\n",
       "      <th>std</th>\n",
       "      <td>5.877050</td>\n",
       "      <td>0.813604</td>\n",
       "      <td>0.503339</td>\n",
       "      <td>0.308853</td>\n",
       "      <td>0.186731</td>\n",
       "      <td>13.938165</td>\n",
       "    </tr>\n",
       "    <tr>\n",
       "      <th>min</th>\n",
       "      <td>1980.000000</td>\n",
       "      <td>0.000000</td>\n",
       "      <td>0.000000</td>\n",
       "      <td>0.000000</td>\n",
       "      <td>0.000000</td>\n",
       "      <td>13.000000</td>\n",
       "    </tr>\n",
       "    <tr>\n",
       "      <th>25%</th>\n",
       "      <td>2003.000000</td>\n",
       "      <td>0.000000</td>\n",
       "      <td>0.000000</td>\n",
       "      <td>0.000000</td>\n",
       "      <td>0.000000</td>\n",
       "      <td>60.000000</td>\n",
       "    </tr>\n",
       "    <tr>\n",
       "      <th>50%</th>\n",
       "      <td>2007.000000</td>\n",
       "      <td>0.080000</td>\n",
       "      <td>0.020000</td>\n",
       "      <td>0.000000</td>\n",
       "      <td>0.010000</td>\n",
       "      <td>71.000000</td>\n",
       "    </tr>\n",
       "    <tr>\n",
       "      <th>75%</th>\n",
       "      <td>2010.000000</td>\n",
       "      <td>0.240000</td>\n",
       "      <td>0.110000</td>\n",
       "      <td>0.040000</td>\n",
       "      <td>0.030000</td>\n",
       "      <td>79.000000</td>\n",
       "    </tr>\n",
       "    <tr>\n",
       "      <th>max</th>\n",
       "      <td>2016.000000</td>\n",
       "      <td>41.360000</td>\n",
       "      <td>28.960000</td>\n",
       "      <td>10.220000</td>\n",
       "      <td>10.570000</td>\n",
       "      <td>98.000000</td>\n",
       "    </tr>\n",
       "  </tbody>\n",
       "</table>\n",
       "</div>"
      ],
      "text/plain": [
       "       Year_of_Release      NA_sales      EU_sales      JP_sales  \\\n",
       "count     16446.000000  16715.000000  16715.000000  16715.000000   \n",
       "mean       2006.484616      0.263377      0.145060      0.077617   \n",
       "std           5.877050      0.813604      0.503339      0.308853   \n",
       "min        1980.000000      0.000000      0.000000      0.000000   \n",
       "25%        2003.000000      0.000000      0.000000      0.000000   \n",
       "50%        2007.000000      0.080000      0.020000      0.000000   \n",
       "75%        2010.000000      0.240000      0.110000      0.040000   \n",
       "max        2016.000000     41.360000     28.960000     10.220000   \n",
       "\n",
       "        Other_sales  Critic_Score  \n",
       "count  16715.000000   8137.000000  \n",
       "mean       0.047342     68.967679  \n",
       "std        0.186731     13.938165  \n",
       "min        0.000000     13.000000  \n",
       "25%        0.000000     60.000000  \n",
       "50%        0.010000     71.000000  \n",
       "75%        0.030000     79.000000  \n",
       "max       10.570000     98.000000  "
      ]
     },
     "execution_count": 4,
     "metadata": {},
     "output_type": "execute_result"
    }
   ],
   "source": [
    "df.describe()"
   ]
  },
  {
   "cell_type": "markdown",
   "id": "55bc8e13",
   "metadata": {},
   "source": [
    "В нашем распоряжении данные с 1980 по 2016 год. Предварительно можем сказать, что по количеству проданных копий на первом месте будет Северная Америка, за ней Европа, далее Япония и другие страны. В столбце с продажами в Японии медианное значение - ноль. Оценка критиков варьируется от 13 до 98, при этом имеет среднее значение около 70. "
   ]
  },
  {
   "cell_type": "markdown",
   "id": "563647ea",
   "metadata": {},
   "source": [
    "**Вывод**"
   ]
  },
  {
   "cell_type": "markdown",
   "id": "e3f072d1",
   "metadata": {},
   "source": [
    "В нашем распоряжении таблица, в которой содержатся данные о выпущенных играх, платформах, годах выпуска и жанрах, информация о продажах в мире, а также оценках и рейтинге этих игр.\n",
    "\n",
    "* Необходимо привести названия столбцов к нижнему регистру.\n",
    "* В столбцах `Name`, `Year_of_Release`, `Genre`, `Critic_Score`, `User_Score`, `Rating` обнаружены пропуски. Необходимо выяснить их природу и по возможности заполнить.\n",
    "* В столбцах `Year_of_Release` и `Critic_Score` заменить тип данных на `int`.\n",
    "* В столбце `User_Score` заменить тип данных на `float`. \n",
    "\n",
    "Для дальнейшего исследования нам потребуется провести предобработку данных."
   ]
  },
  {
   "cell_type": "markdown",
   "id": "58a0cc76",
   "metadata": {},
   "source": [
    "<a id=\"step2\"></a>\n",
    "## 2. Предобработка данных"
   ]
  },
  {
   "cell_type": "markdown",
   "id": "cc65bbda",
   "metadata": {},
   "source": [
    "### Приведение к нижнему регистру"
   ]
  },
  {
   "cell_type": "markdown",
   "id": "43495b9f",
   "metadata": {},
   "source": [
    "Приведем наименование столбцов к нижнему регистру:"
   ]
  },
  {
   "cell_type": "code",
   "execution_count": 5,
   "id": "a7e6e5fe",
   "metadata": {},
   "outputs": [],
   "source": [
    "df.columns = df.columns.str.lower()"
   ]
  },
  {
   "cell_type": "markdown",
   "id": "19b80865",
   "metadata": {},
   "source": [
    "### Обработка пропусков"
   ]
  },
  {
   "cell_type": "markdown",
   "id": "2a4b2e94",
   "metadata": {},
   "source": [
    "Рассмотрим, как распределены пропуски в столбце `year_of_release`:"
   ]
  },
  {
   "cell_type": "code",
   "execution_count": 6,
   "id": "1c2694f0",
   "metadata": {},
   "outputs": [
    {
     "data": {
      "text/html": [
       "<div>\n",
       "<style scoped>\n",
       "    .dataframe tbody tr th:only-of-type {\n",
       "        vertical-align: middle;\n",
       "    }\n",
       "\n",
       "    .dataframe tbody tr th {\n",
       "        vertical-align: top;\n",
       "    }\n",
       "\n",
       "    .dataframe thead th {\n",
       "        text-align: right;\n",
       "    }\n",
       "</style>\n",
       "<table border=\"1\" class=\"dataframe\">\n",
       "  <thead>\n",
       "    <tr style=\"text-align: right;\">\n",
       "      <th></th>\n",
       "      <th>name</th>\n",
       "      <th>platform</th>\n",
       "      <th>year_of_release</th>\n",
       "      <th>genre</th>\n",
       "      <th>na_sales</th>\n",
       "      <th>eu_sales</th>\n",
       "      <th>jp_sales</th>\n",
       "      <th>other_sales</th>\n",
       "      <th>critic_score</th>\n",
       "      <th>user_score</th>\n",
       "      <th>rating</th>\n",
       "    </tr>\n",
       "  </thead>\n",
       "  <tbody>\n",
       "    <tr>\n",
       "      <th>183</th>\n",
       "      <td>Madden NFL 2004</td>\n",
       "      <td>PS2</td>\n",
       "      <td>NaN</td>\n",
       "      <td>Sports</td>\n",
       "      <td>4.26</td>\n",
       "      <td>0.26</td>\n",
       "      <td>0.01</td>\n",
       "      <td>0.71</td>\n",
       "      <td>94.0</td>\n",
       "      <td>8.5</td>\n",
       "      <td>E</td>\n",
       "    </tr>\n",
       "    <tr>\n",
       "      <th>377</th>\n",
       "      <td>FIFA Soccer 2004</td>\n",
       "      <td>PS2</td>\n",
       "      <td>NaN</td>\n",
       "      <td>Sports</td>\n",
       "      <td>0.59</td>\n",
       "      <td>2.36</td>\n",
       "      <td>0.04</td>\n",
       "      <td>0.51</td>\n",
       "      <td>84.0</td>\n",
       "      <td>6.4</td>\n",
       "      <td>E</td>\n",
       "    </tr>\n",
       "    <tr>\n",
       "      <th>456</th>\n",
       "      <td>LEGO Batman: The Videogame</td>\n",
       "      <td>Wii</td>\n",
       "      <td>NaN</td>\n",
       "      <td>Action</td>\n",
       "      <td>1.80</td>\n",
       "      <td>0.97</td>\n",
       "      <td>0.00</td>\n",
       "      <td>0.29</td>\n",
       "      <td>74.0</td>\n",
       "      <td>7.9</td>\n",
       "      <td>E10+</td>\n",
       "    </tr>\n",
       "    <tr>\n",
       "      <th>475</th>\n",
       "      <td>wwe Smackdown vs. Raw 2006</td>\n",
       "      <td>PS2</td>\n",
       "      <td>NaN</td>\n",
       "      <td>Fighting</td>\n",
       "      <td>1.57</td>\n",
       "      <td>1.02</td>\n",
       "      <td>0.00</td>\n",
       "      <td>0.41</td>\n",
       "      <td>NaN</td>\n",
       "      <td>NaN</td>\n",
       "      <td>NaN</td>\n",
       "    </tr>\n",
       "    <tr>\n",
       "      <th>609</th>\n",
       "      <td>Space Invaders</td>\n",
       "      <td>2600</td>\n",
       "      <td>NaN</td>\n",
       "      <td>Shooter</td>\n",
       "      <td>2.36</td>\n",
       "      <td>0.14</td>\n",
       "      <td>0.00</td>\n",
       "      <td>0.03</td>\n",
       "      <td>NaN</td>\n",
       "      <td>NaN</td>\n",
       "      <td>NaN</td>\n",
       "    </tr>\n",
       "    <tr>\n",
       "      <th>...</th>\n",
       "      <td>...</td>\n",
       "      <td>...</td>\n",
       "      <td>...</td>\n",
       "      <td>...</td>\n",
       "      <td>...</td>\n",
       "      <td>...</td>\n",
       "      <td>...</td>\n",
       "      <td>...</td>\n",
       "      <td>...</td>\n",
       "      <td>...</td>\n",
       "      <td>...</td>\n",
       "    </tr>\n",
       "    <tr>\n",
       "      <th>16373</th>\n",
       "      <td>PDC World Championship Darts 2008</td>\n",
       "      <td>PSP</td>\n",
       "      <td>NaN</td>\n",
       "      <td>Sports</td>\n",
       "      <td>0.01</td>\n",
       "      <td>0.00</td>\n",
       "      <td>0.00</td>\n",
       "      <td>0.00</td>\n",
       "      <td>43.0</td>\n",
       "      <td>tbd</td>\n",
       "      <td>E10+</td>\n",
       "    </tr>\n",
       "    <tr>\n",
       "      <th>16405</th>\n",
       "      <td>Freaky Flyers</td>\n",
       "      <td>GC</td>\n",
       "      <td>NaN</td>\n",
       "      <td>Racing</td>\n",
       "      <td>0.01</td>\n",
       "      <td>0.00</td>\n",
       "      <td>0.00</td>\n",
       "      <td>0.00</td>\n",
       "      <td>69.0</td>\n",
       "      <td>6.5</td>\n",
       "      <td>T</td>\n",
       "    </tr>\n",
       "    <tr>\n",
       "      <th>16448</th>\n",
       "      <td>Inversion</td>\n",
       "      <td>PC</td>\n",
       "      <td>NaN</td>\n",
       "      <td>Shooter</td>\n",
       "      <td>0.01</td>\n",
       "      <td>0.00</td>\n",
       "      <td>0.00</td>\n",
       "      <td>0.00</td>\n",
       "      <td>59.0</td>\n",
       "      <td>6.7</td>\n",
       "      <td>M</td>\n",
       "    </tr>\n",
       "    <tr>\n",
       "      <th>16458</th>\n",
       "      <td>Hakuouki: Shinsengumi Kitan</td>\n",
       "      <td>PS3</td>\n",
       "      <td>NaN</td>\n",
       "      <td>Adventure</td>\n",
       "      <td>0.01</td>\n",
       "      <td>0.00</td>\n",
       "      <td>0.00</td>\n",
       "      <td>0.00</td>\n",
       "      <td>NaN</td>\n",
       "      <td>NaN</td>\n",
       "      <td>NaN</td>\n",
       "    </tr>\n",
       "    <tr>\n",
       "      <th>16522</th>\n",
       "      <td>Virtua Quest</td>\n",
       "      <td>GC</td>\n",
       "      <td>NaN</td>\n",
       "      <td>Role-Playing</td>\n",
       "      <td>0.01</td>\n",
       "      <td>0.00</td>\n",
       "      <td>0.00</td>\n",
       "      <td>0.00</td>\n",
       "      <td>55.0</td>\n",
       "      <td>5.5</td>\n",
       "      <td>T</td>\n",
       "    </tr>\n",
       "  </tbody>\n",
       "</table>\n",
       "<p>269 rows × 11 columns</p>\n",
       "</div>"
      ],
      "text/plain": [
       "                                    name platform  year_of_release  \\\n",
       "183                      Madden NFL 2004      PS2              NaN   \n",
       "377                     FIFA Soccer 2004      PS2              NaN   \n",
       "456           LEGO Batman: The Videogame      Wii              NaN   \n",
       "475           wwe Smackdown vs. Raw 2006      PS2              NaN   \n",
       "609                       Space Invaders     2600              NaN   \n",
       "...                                  ...      ...              ...   \n",
       "16373  PDC World Championship Darts 2008      PSP              NaN   \n",
       "16405                      Freaky Flyers       GC              NaN   \n",
       "16448                          Inversion       PC              NaN   \n",
       "16458        Hakuouki: Shinsengumi Kitan      PS3              NaN   \n",
       "16522                       Virtua Quest       GC              NaN   \n",
       "\n",
       "              genre  na_sales  eu_sales  jp_sales  other_sales  critic_score  \\\n",
       "183          Sports      4.26      0.26      0.01         0.71          94.0   \n",
       "377          Sports      0.59      2.36      0.04         0.51          84.0   \n",
       "456          Action      1.80      0.97      0.00         0.29          74.0   \n",
       "475        Fighting      1.57      1.02      0.00         0.41           NaN   \n",
       "609         Shooter      2.36      0.14      0.00         0.03           NaN   \n",
       "...             ...       ...       ...       ...          ...           ...   \n",
       "16373        Sports      0.01      0.00      0.00         0.00          43.0   \n",
       "16405        Racing      0.01      0.00      0.00         0.00          69.0   \n",
       "16448       Shooter      0.01      0.00      0.00         0.00          59.0   \n",
       "16458     Adventure      0.01      0.00      0.00         0.00           NaN   \n",
       "16522  Role-Playing      0.01      0.00      0.00         0.00          55.0   \n",
       "\n",
       "      user_score rating  \n",
       "183          8.5      E  \n",
       "377          6.4      E  \n",
       "456          7.9   E10+  \n",
       "475          NaN    NaN  \n",
       "609          NaN    NaN  \n",
       "...          ...    ...  \n",
       "16373        tbd   E10+  \n",
       "16405        6.5      T  \n",
       "16448        6.7      M  \n",
       "16458        NaN    NaN  \n",
       "16522        5.5      T  \n",
       "\n",
       "[269 rows x 11 columns]"
      ]
     },
     "execution_count": 6,
     "metadata": {},
     "output_type": "execute_result"
    }
   ],
   "source": [
    "df[df['year_of_release'].isna()]"
   ]
  },
  {
   "cell_type": "markdown",
   "id": "fb908f67",
   "metadata": {},
   "source": [
    "Имеем 269 пропусков, очевидной закономерности в пропусках не прослеживается. Предположим, что мы можем посмотреть годы выпуска одной и той же игры на разных платформах. Возьмем для примера первую игру из списка:"
   ]
  },
  {
   "cell_type": "code",
   "execution_count": 7,
   "id": "ce6e4ec1",
   "metadata": {},
   "outputs": [
    {
     "data": {
      "text/html": [
       "<div>\n",
       "<style scoped>\n",
       "    .dataframe tbody tr th:only-of-type {\n",
       "        vertical-align: middle;\n",
       "    }\n",
       "\n",
       "    .dataframe tbody tr th {\n",
       "        vertical-align: top;\n",
       "    }\n",
       "\n",
       "    .dataframe thead th {\n",
       "        text-align: right;\n",
       "    }\n",
       "</style>\n",
       "<table border=\"1\" class=\"dataframe\">\n",
       "  <thead>\n",
       "    <tr style=\"text-align: right;\">\n",
       "      <th></th>\n",
       "      <th>name</th>\n",
       "      <th>platform</th>\n",
       "      <th>year_of_release</th>\n",
       "      <th>genre</th>\n",
       "      <th>na_sales</th>\n",
       "      <th>eu_sales</th>\n",
       "      <th>jp_sales</th>\n",
       "      <th>other_sales</th>\n",
       "      <th>critic_score</th>\n",
       "      <th>user_score</th>\n",
       "      <th>rating</th>\n",
       "    </tr>\n",
       "  </thead>\n",
       "  <tbody>\n",
       "    <tr>\n",
       "      <th>183</th>\n",
       "      <td>Madden NFL 2004</td>\n",
       "      <td>PS2</td>\n",
       "      <td>NaN</td>\n",
       "      <td>Sports</td>\n",
       "      <td>4.26</td>\n",
       "      <td>0.26</td>\n",
       "      <td>0.01</td>\n",
       "      <td>0.71</td>\n",
       "      <td>94.0</td>\n",
       "      <td>8.5</td>\n",
       "      <td>E</td>\n",
       "    </tr>\n",
       "    <tr>\n",
       "      <th>1881</th>\n",
       "      <td>Madden NFL 2004</td>\n",
       "      <td>XB</td>\n",
       "      <td>2003.0</td>\n",
       "      <td>Sports</td>\n",
       "      <td>1.02</td>\n",
       "      <td>0.02</td>\n",
       "      <td>0.00</td>\n",
       "      <td>0.05</td>\n",
       "      <td>92.0</td>\n",
       "      <td>8.3</td>\n",
       "      <td>E</td>\n",
       "    </tr>\n",
       "    <tr>\n",
       "      <th>3889</th>\n",
       "      <td>Madden NFL 2004</td>\n",
       "      <td>GC</td>\n",
       "      <td>2003.0</td>\n",
       "      <td>Sports</td>\n",
       "      <td>0.40</td>\n",
       "      <td>0.10</td>\n",
       "      <td>0.00</td>\n",
       "      <td>0.01</td>\n",
       "      <td>94.0</td>\n",
       "      <td>7.7</td>\n",
       "      <td>E</td>\n",
       "    </tr>\n",
       "    <tr>\n",
       "      <th>5708</th>\n",
       "      <td>Madden NFL 2004</td>\n",
       "      <td>GBA</td>\n",
       "      <td>2003.0</td>\n",
       "      <td>Sports</td>\n",
       "      <td>0.22</td>\n",
       "      <td>0.08</td>\n",
       "      <td>0.00</td>\n",
       "      <td>0.01</td>\n",
       "      <td>70.0</td>\n",
       "      <td>6.6</td>\n",
       "      <td>E</td>\n",
       "    </tr>\n",
       "  </tbody>\n",
       "</table>\n",
       "</div>"
      ],
      "text/plain": [
       "                 name platform  year_of_release   genre  na_sales  eu_sales  \\\n",
       "183   Madden NFL 2004      PS2              NaN  Sports      4.26      0.26   \n",
       "1881  Madden NFL 2004       XB           2003.0  Sports      1.02      0.02   \n",
       "3889  Madden NFL 2004       GC           2003.0  Sports      0.40      0.10   \n",
       "5708  Madden NFL 2004      GBA           2003.0  Sports      0.22      0.08   \n",
       "\n",
       "      jp_sales  other_sales  critic_score user_score rating  \n",
       "183       0.01         0.71          94.0        8.5      E  \n",
       "1881      0.00         0.05          92.0        8.3      E  \n",
       "3889      0.00         0.01          94.0        7.7      E  \n",
       "5708      0.00         0.01          70.0        6.6      E  "
      ]
     },
     "execution_count": 7,
     "metadata": {},
     "output_type": "execute_result"
    }
   ],
   "source": [
    "df[df['name'] == 'Madden NFL 2004']"
   ]
  },
  {
   "cell_type": "markdown",
   "id": "67114d64",
   "metadata": {},
   "source": [
    "Видим, что на других платформах действительно имеется информация о годе выпуска. Заполним пропуски в соответствии с медианным значением по другим платформам: "
   ]
  },
  {
   "cell_type": "code",
   "execution_count": 8,
   "id": "b94cb396",
   "metadata": {},
   "outputs": [],
   "source": [
    "df_transformed = df.groupby('name')['year_of_release'].transform('first')\n",
    "df['year_of_release'] = df['year_of_release'].fillna(df_transformed)"
   ]
  },
  {
   "cell_type": "markdown",
   "id": "cb4d833f",
   "metadata": {},
   "source": [
    "Посмотрим, сколько пропусков у нас осталось:"
   ]
  },
  {
   "cell_type": "code",
   "execution_count": 9,
   "id": "83f8f0df",
   "metadata": {
    "scrolled": false
   },
   "outputs": [
    {
     "data": {
      "text/plain": [
       "146"
      ]
     },
     "execution_count": 9,
     "metadata": {},
     "output_type": "execute_result"
    }
   ],
   "source": [
    "df['year_of_release'].isna().sum()"
   ]
  },
  {
   "cell_type": "markdown",
   "id": "a1cf131f",
   "metadata": {},
   "source": [
    "146 значений остались не заполненными. \n",
    "\n",
    "Посмотрим, как с течением времени у нас распределены значения в столбцах `critic_score`, `user_score` и `rating`:"
   ]
  },
  {
   "cell_type": "code",
   "execution_count": 10,
   "id": "ba1c2642",
   "metadata": {},
   "outputs": [
    {
     "data": {
      "image/png": "[encoded data removed]",
      "text/plain": [
       "<Figure size 1080x576 with 1 Axes>"
      ]
     },
     "metadata": {
      "needs_background": "light"
     },
     "output_type": "display_data"
    }
   ],
   "source": [
    "df.groupby('year_of_release')[['critic_score','user_score', 'rating']].agg('count').plot.bar(figsize=(15,8))\n",
    "plt.xlabel('Год')\n",
    "plt.ylabel('Количество оценок')\n",
    "plt.title('Распределение оценок и рейтингов по годам')\n",
    "plt.show();"
   ]
  },
  {
   "cell_type": "markdown",
   "id": "32694a11",
   "metadata": {},
   "source": [
    "Видим, что данные начинают появляться только во второй половине 1990-х. Вероятно, ранее системы оценок не существовало, или они не имели такого большого распространения. То же самое можно сказать и о столбце с рейтингом. Негосударственная организация ESRB была основана в 1994 году, поэтому более ранних данных мы не имеем. \n",
    "Очевидно, данные пропуски нельзя назвать случайными, поэтому заполнять из какими-либо значениями некорректно. Оставим эти пропуски незаполненными. \n",
    "\n",
    "Рассмотрим пропущенные значения в столбце `genre`:"
   ]
  },
  {
   "cell_type": "code",
   "execution_count": 11,
   "id": "569c1435",
   "metadata": {
    "scrolled": true
   },
   "outputs": [
    {
     "data": {
      "text/html": [
       "<div>\n",
       "<style scoped>\n",
       "    .dataframe tbody tr th:only-of-type {\n",
       "        vertical-align: middle;\n",
       "    }\n",
       "\n",
       "    .dataframe tbody tr th {\n",
       "        vertical-align: top;\n",
       "    }\n",
       "\n",
       "    .dataframe thead th {\n",
       "        text-align: right;\n",
       "    }\n",
       "</style>\n",
       "<table border=\"1\" class=\"dataframe\">\n",
       "  <thead>\n",
       "    <tr style=\"text-align: right;\">\n",
       "      <th></th>\n",
       "      <th>name</th>\n",
       "      <th>platform</th>\n",
       "      <th>year_of_release</th>\n",
       "      <th>genre</th>\n",
       "      <th>na_sales</th>\n",
       "      <th>eu_sales</th>\n",
       "      <th>jp_sales</th>\n",
       "      <th>other_sales</th>\n",
       "      <th>critic_score</th>\n",
       "      <th>user_score</th>\n",
       "      <th>rating</th>\n",
       "    </tr>\n",
       "  </thead>\n",
       "  <tbody>\n",
       "    <tr>\n",
       "      <th>659</th>\n",
       "      <td>NaN</td>\n",
       "      <td>GEN</td>\n",
       "      <td>1993.0</td>\n",
       "      <td>NaN</td>\n",
       "      <td>1.78</td>\n",
       "      <td>0.53</td>\n",
       "      <td>0.00</td>\n",
       "      <td>0.08</td>\n",
       "      <td>NaN</td>\n",
       "      <td>NaN</td>\n",
       "      <td>NaN</td>\n",
       "    </tr>\n",
       "    <tr>\n",
       "      <th>14244</th>\n",
       "      <td>NaN</td>\n",
       "      <td>GEN</td>\n",
       "      <td>1993.0</td>\n",
       "      <td>NaN</td>\n",
       "      <td>0.00</td>\n",
       "      <td>0.00</td>\n",
       "      <td>0.03</td>\n",
       "      <td>0.00</td>\n",
       "      <td>NaN</td>\n",
       "      <td>NaN</td>\n",
       "      <td>NaN</td>\n",
       "    </tr>\n",
       "  </tbody>\n",
       "</table>\n",
       "</div>"
      ],
      "text/plain": [
       "      name platform  year_of_release genre  na_sales  eu_sales  jp_sales  \\\n",
       "659    NaN      GEN           1993.0   NaN      1.78      0.53      0.00   \n",
       "14244  NaN      GEN           1993.0   NaN      0.00      0.00      0.03   \n",
       "\n",
       "       other_sales  critic_score user_score rating  \n",
       "659           0.08           NaN        NaN    NaN  \n",
       "14244         0.00           NaN        NaN    NaN  "
      ]
     },
     "execution_count": 11,
     "metadata": {},
     "output_type": "execute_result"
    }
   ],
   "source": [
    "df[df['genre'].isna()]"
   ]
  },
  {
   "cell_type": "markdown",
   "id": "e12e578c",
   "metadata": {},
   "source": [
    "Видим, что в этих же строчках есть пропущенные значения 2 значения в столбце `name`. Поскольку это всего 2 строки, отсутствие данных в них сильно не повлияет на наше исследование. Оставим их незаполненными.\n",
    "\n",
    "Заменим в столбце `rating` пропущенные значения на явное выбивающееся значение `no rating`:"
   ]
  },
  {
   "cell_type": "code",
   "execution_count": 12,
   "id": "4ec77c88",
   "metadata": {},
   "outputs": [],
   "source": [
    "df['rating'] = df['rating'].fillna('no rating')"
   ]
  },
  {
   "cell_type": "markdown",
   "id": "2f998757",
   "metadata": {},
   "source": [
    "### Замена типа данных"
   ]
  },
  {
   "cell_type": "markdown",
   "id": "93ea0b9c",
   "metadata": {},
   "source": [
    "Посмотрим, какие данные содержатся в столбце `user_score`:"
   ]
  },
  {
   "cell_type": "code",
   "execution_count": 13,
   "id": "1d8a3b3b",
   "metadata": {},
   "outputs": [
    {
     "data": {
      "text/plain": [
       "array(['8', nan, '8.3', '8.5', '6.6', '8.4', '8.6', '7.7', '6.3', '7.4',\n",
       "       '8.2', '9', '7.9', '8.1', '8.7', '7.1', '3.4', '5.3', '4.8', '3.2',\n",
       "       '8.9', '6.4', '7.8', '7.5', '2.6', '7.2', '9.2', '7', '7.3', '4.3',\n",
       "       '7.6', '5.7', '5', '9.1', '6.5', 'tbd', '8.8', '6.9', '9.4', '6.8',\n",
       "       '6.1', '6.7', '5.4', '4', '4.9', '4.5', '9.3', '6.2', '4.2', '6',\n",
       "       '3.7', '4.1', '5.8', '5.6', '5.5', '4.4', '4.6', '5.9', '3.9',\n",
       "       '3.1', '2.9', '5.2', '3.3', '4.7', '5.1', '3.5', '2.5', '1.9', '3',\n",
       "       '2.7', '2.2', '2', '9.5', '2.1', '3.6', '2.8', '1.8', '3.8', '0',\n",
       "       '1.6', '9.6', '2.4', '1.7', '1.1', '0.3', '1.5', '0.7', '1.2',\n",
       "       '2.3', '0.5', '1.3', '0.2', '0.6', '1.4', '0.9', '1', '9.7'],\n",
       "      dtype=object)"
      ]
     },
     "execution_count": 13,
     "metadata": {},
     "output_type": "execute_result"
    }
   ],
   "source": [
    "df.user_score.unique()"
   ]
  },
  {
   "cell_type": "markdown",
   "id": "4b4caee6",
   "metadata": {},
   "source": [
    "Видим, что помимо числовых значений (в виде строк) и NaN в столбце есть срока `tbd`, что означает \"to be determined\" - \"будет определено\". Посмотрим, сколько этих значений в столбце:"
   ]
  },
  {
   "cell_type": "code",
   "execution_count": 14,
   "id": "281a7851",
   "metadata": {},
   "outputs": [
    {
     "data": {
      "text/plain": [
       "2424"
      ]
     },
     "execution_count": 14,
     "metadata": {},
     "output_type": "execute_result"
    }
   ],
   "source": [
    "df[df['user_score'] == 'tbd']['user_score'].count()"
   ]
  },
  {
   "cell_type": "markdown",
   "id": "776bf436",
   "metadata": {},
   "source": [
    "По сути это отсутствующее значение, поэтому заменим эти значения на NaN и приведем все значения в столбце к типу `float`:"
   ]
  },
  {
   "cell_type": "code",
   "execution_count": 15,
   "id": "44629043",
   "metadata": {},
   "outputs": [],
   "source": [
    "df['user_score'] = df['user_score'].replace('tbd', np.nan).astype('float')"
   ]
  },
  {
   "cell_type": "markdown",
   "id": "55a692e7",
   "metadata": {},
   "source": [
    "Приведем значения в столбцах `critic_score` и `year_of_release` к целочисленному типу `Int64`:"
   ]
  },
  {
   "cell_type": "code",
   "execution_count": 16,
   "id": "9c0543d9",
   "metadata": {},
   "outputs": [],
   "source": [
    "df['critic_score'] = df['critic_score'].astype('Int64')\n",
    "df['year_of_release'] = df['year_of_release'].astype('Int64')"
   ]
  },
  {
   "cell_type": "markdown",
   "id": "9b94805d",
   "metadata": {},
   "source": [
    "Посмотрим, как изменились данные в нашей таблице:"
   ]
  },
  {
   "cell_type": "code",
   "execution_count": 17,
   "id": "94ea4182",
   "metadata": {
    "scrolled": true
   },
   "outputs": [
    {
     "name": "stdout",
     "output_type": "stream",
     "text": [
      "<class 'pandas.core.frame.DataFrame'>\n",
      "RangeIndex: 16715 entries, 0 to 16714\n",
      "Data columns (total 11 columns):\n",
      " #   Column           Non-Null Count  Dtype  \n",
      "---  ------           --------------  -----  \n",
      " 0   name             16713 non-null  object \n",
      " 1   platform         16715 non-null  object \n",
      " 2   year_of_release  16569 non-null  Int64  \n",
      " 3   genre            16713 non-null  object \n",
      " 4   na_sales         16715 non-null  float64\n",
      " 5   eu_sales         16715 non-null  float64\n",
      " 6   jp_sales         16715 non-null  float64\n",
      " 7   other_sales      16715 non-null  float64\n",
      " 8   critic_score     8137 non-null   Int64  \n",
      " 9   user_score       7590 non-null   float64\n",
      " 10  rating           16715 non-null  object \n",
      "dtypes: Int64(2), float64(5), object(4)\n",
      "memory usage: 1.4+ MB\n"
     ]
    }
   ],
   "source": [
    "df.info()"
   ]
  },
  {
   "cell_type": "markdown",
   "id": "325fbbbf",
   "metadata": {},
   "source": [
    "Мы избавились от пропусков там, где это возможно и заменили типы данных в нескольких столбцах."
   ]
  },
  {
   "cell_type": "markdown",
   "id": "7d0d1d4a",
   "metadata": {},
   "source": [
    "### Обработка дубликатов"
   ]
  },
  {
   "cell_type": "markdown",
   "id": "b9c48ea5",
   "metadata": {},
   "source": [
    "Проверим, не появились ли в нашей таблице дубликаты:"
   ]
  },
  {
   "cell_type": "code",
   "execution_count": 18,
   "id": "1d823213",
   "metadata": {},
   "outputs": [
    {
     "data": {
      "text/plain": [
       "0"
      ]
     },
     "execution_count": 18,
     "metadata": {},
     "output_type": "execute_result"
    }
   ],
   "source": [
    "df.duplicated().sum()"
   ]
  },
  {
   "cell_type": "markdown",
   "id": "2b6d1e96",
   "metadata": {},
   "source": [
    "Дубликаты не обнаружены."
   ]
  },
  {
   "cell_type": "markdown",
   "id": "1c9c96e9",
   "metadata": {},
   "source": [
    "### Расчёты и добавление результатов в таблицу"
   ]
  },
  {
   "cell_type": "markdown",
   "id": "0e11a041",
   "metadata": {},
   "source": [
    "Посчитаем суммарные продажи во всех регионах и запишем их в отдельный столбец `total_sales`:"
   ]
  },
  {
   "cell_type": "code",
   "execution_count": 19,
   "id": "8492b3db",
   "metadata": {
    "scrolled": false
   },
   "outputs": [],
   "source": [
    "df['total_sales'] = df['na_sales'] + df['eu_sales'] + df['jp_sales'] + df['other_sales']"
   ]
  },
  {
   "cell_type": "markdown",
   "id": "7cac60d2",
   "metadata": {},
   "source": [
    "Проверим, какие значения рейтинга ESRB есть в нашей таблице:"
   ]
  },
  {
   "cell_type": "code",
   "execution_count": 20,
   "id": "d1b3d6bb",
   "metadata": {
    "scrolled": true
   },
   "outputs": [
    {
     "data": {
      "text/plain": [
       "array(['E', 'no rating', 'M', 'T', 'E10+', 'K-A', 'AO', 'EC', 'RP'],\n",
       "      dtype=object)"
      ]
     },
     "execution_count": 20,
     "metadata": {},
     "output_type": "execute_result"
    }
   ],
   "source": [
    "df['rating'].unique()"
   ]
  },
  {
   "cell_type": "markdown",
   "id": "143b267c",
   "metadata": {},
   "source": [
    "Имеем следующие значения:\n",
    "E — Everyone, M — Mature, T — Teen, E10+ — Everyone 10+, K-A — Kids to Adults (первоначальное название рейтинга Everyone), AO — Adults Only, EC — Early Childhood, RP — Rating Pending.\n",
    "\n",
    "Создадим столбец `rating_description`, в который добавим расшифровку обозначений рейтинга ESRB:"
   ]
  },
  {
   "cell_type": "code",
   "execution_count": 21,
   "id": "1281256d",
   "metadata": {},
   "outputs": [],
   "source": [
    "rating_dict = {'E':'Для всех (6+)', \n",
    "               'M':'Для взрослых (17+)', \n",
    "               'T':'Для подростков (13+)', \n",
    "               'E10+':'Для всех (10+)', \n",
    "               'K-A':'Для всех (6+)', \n",
    "               'AO':'Только для взрослых (18+)', \n",
    "               'EC':'Для малышей (3+)', \n",
    "               'RP':'Рейтинг ожидется',\n",
    "               'no rating':'Без рейтинга'\n",
    "              }\n",
    "    \n",
    "df['rating_description'] = df[df['rating'].notnull()]['rating'].map(rating_dict) "
   ]
  },
  {
   "cell_type": "markdown",
   "id": "05d50970",
   "metadata": {},
   "source": [
    "**Вывод**"
   ]
  },
  {
   "cell_type": "markdown",
   "id": "9f6ba1ea",
   "metadata": {},
   "source": [
    "Мы провели следующие преобразования:\n",
    "\n",
    "* Привели наименования столбцов к нижнему регистру.\n",
    "* Заполнили пропуски в столбце `year_of_release`. В столбцах `name` и `genre` пропуски содержатся в одних и тех же строках, мы решили оставить их нетронутыми. Столбцы `critic_score`, `user_score` и `rating` содержат пропуски по объективным причинам - до определенного момента времени ни системы оценок игр, ни рейтинга не существовало. Эти пропуски мы так же оставили не заполненными.\n",
    "* В столбце `rating` заменили пропущенные значения явным обозначением `no rating`.\n",
    "* В столбце `user_score` мы заменили значение `tbd` на NaN.\n",
    "* В столбцах `year_of_release` и `critic_score` мы заменили тип данных на `int`, а в столбце `user_score` - на `float`.\n",
    "* Убедились, что в нашей таблице отсутствуют дубликаты.\n",
    "* Добавили в таблицу столбец `total_sales` с данными о суммарных продажах игр во всех регионах (миллионы проданных копий).\n",
    "* Добавили стоблец `rating_description`, в котором содержится расшифровка обозначений рейтинга ESRB."
   ]
  },
  {
   "cell_type": "markdown",
   "id": "45196c97",
   "metadata": {},
   "source": [
    "<a id=\"step3\"></a>\n",
    "## 3. Исследовательский анализ данных"
   ]
  },
  {
   "cell_type": "markdown",
   "id": "c4f3b455",
   "metadata": {},
   "source": [
    "### Количество выпущенных игр"
   ]
  },
  {
   "cell_type": "markdown",
   "id": "3f14e993",
   "metadata": {},
   "source": [
    "Посмотрим, сколько игр выпускалось в разные годы:"
   ]
  },
  {
   "cell_type": "code",
   "execution_count": 22,
   "id": "fe140dfe",
   "metadata": {
    "scrolled": false
   },
   "outputs": [
    {
     "data": {
      "image/png": "[encoded data removed]",
      "text/plain": [
       "<Figure size 1080x576 with 1 Axes>"
      ]
     },
     "metadata": {
      "needs_background": "light"
     },
     "output_type": "display_data"
    }
   ],
   "source": [
    "df.groupby('year_of_release')['platform'].agg('count').plot.bar(figsize=(15,8))\n",
    "plt.xlabel('Год')\n",
    "plt.ylabel('Количество игр')\n",
    "plt.title('Распределение количества выпущенных игр по годам')\n",
    "plt.show();"
   ]
  },
  {
   "cell_type": "markdown",
   "id": "b38fdd78",
   "metadata": {},
   "source": [
    "Видим, что до 1994 года игр выпускалось не много, а после случился значительный рост, связанный с активным развитием игровой индустрии. Резкий скачок заметен в 2002 году, пиковые значения - в 2008 и 2009 годах. Далее видим спад с особенно явным отскоком с 2011 по 2012 год. Можно связать это снижение с развитием мобильных устройств и возросшим числом игровых мобильных приложений."
   ]
  },
  {
   "cell_type": "markdown",
   "id": "168f0124",
   "metadata": {},
   "source": [
    "### Продажи по платформам"
   ]
  },
  {
   "cell_type": "markdown",
   "id": "252a61e5",
   "metadata": {},
   "source": [
    "Рассмотрим, как изменялись с течением времени продажи на отдельных платформах. Для начала выделим 10 платформ с наибольшими продажами:"
   ]
  },
  {
   "cell_type": "code",
   "execution_count": 23,
   "id": "7b669e9d",
   "metadata": {},
   "outputs": [
    {
     "data": {
      "text/plain": [
       "platform\n",
       "PS2     1255.77\n",
       "X360     971.42\n",
       "PS3      939.65\n",
       "Wii      907.51\n",
       "DS       806.12\n",
       "PS       730.86\n",
       "GBA      317.85\n",
       "PS4      314.14\n",
       "PSP      294.05\n",
       "PC       259.52\n",
       "Name: total_sales, dtype: float64"
      ]
     },
     "execution_count": 23,
     "metadata": {},
     "output_type": "execute_result"
    }
   ],
   "source": [
    "top_platforms = df.groupby('platform')['total_sales'].agg('sum').sort_values(ascending=False).head(10)\n",
    "top_platforms"
   ]
  },
  {
   "cell_type": "markdown",
   "id": "ba72a233",
   "metadata": {},
   "source": [
    "Рассмотрим эти данные в виде столбчатой диаграммы:"
   ]
  },
  {
   "cell_type": "code",
   "execution_count": 24,
   "id": "55d97abb",
   "metadata": {},
   "outputs": [
    {
     "data": {
      "image/png": "[encoded data removed]",
      "text/plain": [
       "<Figure size 432x288 with 1 Axes>"
      ]
     },
     "metadata": {
      "needs_background": "light"
     },
     "output_type": "display_data"
    }
   ],
   "source": [
    "top_platforms.plot.bar()\n",
    "plt.xlabel('Платформа')\n",
    "plt.ylabel('Количество проданных копий')\n",
    "plt.title('Продажи по платформам за все время')\n",
    "plt.show();"
   ]
  },
  {
   "cell_type": "markdown",
   "id": "577a7364",
   "metadata": {},
   "source": [
    "Исходя их графика можем выделить платформы с наибольшими суммарными продажами - PS2, X360, PS3, Wii, DS, PS. Выделим их в отдельный список. Составим из общих данных сводную таблицу, содержащую в себе данные о платформе, годе выпуска и общим продажам, и отфильтруем в этой таблице только платформы из нашего Топ-6 списка:"
   ]
  },
  {
   "cell_type": "code",
   "execution_count": 25,
   "id": "c9c69b50",
   "metadata": {},
   "outputs": [],
   "source": [
    "top_platforms_list = ['PS2', 'X360', 'PS3', 'Wii', 'DS', 'PS']\n",
    "\n",
    "sales_by_year = df.pivot_table(index = ['platform', 'year_of_release'], values ='total_sales', aggfunc='sum').reset_index()\n",
    "sales_by_year = sales_by_year.query('platform in @top_platforms_list')"
   ]
  },
  {
   "cell_type": "markdown",
   "id": "dfe2ea70",
   "metadata": {},
   "source": [
    "Рассмотрим, как на выделенных нами 6 платформах распределялись продажи в течение времени:"
   ]
  },
  {
   "cell_type": "code",
   "execution_count": 26,
   "id": "d6699cd8",
   "metadata": {},
   "outputs": [
    {
     "data": {
      "image/png": "[encoded data removed]",
      "text/plain": [
       "<Figure size 1080x576 with 1 Axes>"
      ]
     },
     "metadata": {
      "needs_background": "light"
     },
     "output_type": "display_data"
    }
   ],
   "source": [
    "plt.figure(figsize=(15,8))\n",
    "sns.lineplot(x='year_of_release', y='total_sales', hue='platform', marker='o', style='platform', data=sales_by_year)\n",
    "plt.xlabel('Год')\n",
    "plt.ylabel('Количество проданных копий')\n",
    "plt.title('Продажи на топовых платформах по годам')\n",
    "plt.show();"
   ]
  },
  {
   "cell_type": "markdown",
   "id": "7556cf42",
   "metadata": {},
   "source": [
    "На графике отчетливо прослеживается смена поколений платформы PlayStation. Данные по первой приставке PS явно выбиваются по времени от остальных топовых платформ.\n",
    "\n",
    "Можно заметить, что \"срок жизни\" каждой платформы составляет около 10 лет:\n",
    "* DS - 10 лет (2004-2013);\n",
    "* PS - 10 лет (1994-2003);\n",
    "* PS2 - 11 лет (2000-2010);\n",
    "* PS3 - 11 лет (2006-2016);\n",
    "* Wii - 10 лет (2006-2015);\n",
    "* X360 - 12 лет (2005-2016).\n",
    "\n",
    "Видим, что наибольшее скопление данных по платформам сконцентрировано со второй половины 2000-х по начало 2010-х годов. На графике выпущенных игр выше мы видели схожую картину расцвета рынка видеоигр."
   ]
  },
  {
   "cell_type": "markdown",
   "id": "b9f81326",
   "metadata": {},
   "source": [
    "### Определение актуального периода"
   ]
  },
  {
   "cell_type": "markdown",
   "id": "e6e3e7aa",
   "metadata": {},
   "source": [
    "Для дальнейшего анализа возьмем актуальные данные последних нескольких лет. Будем рассматривать данные начиная с 2014 года.\n",
    "\n",
    "Посмотрим, какое количество данных мы имеем в этом периоде:"
   ]
  },
  {
   "cell_type": "code",
   "execution_count": 27,
   "id": "e3c1eea7",
   "metadata": {},
   "outputs": [
    {
     "name": "stdout",
     "output_type": "stream",
     "text": [
      "<class 'pandas.core.frame.DataFrame'>\n",
      "Int64Index: 1689 entries, 31 to 16714\n",
      "Data columns (total 13 columns):\n",
      " #   Column              Non-Null Count  Dtype  \n",
      "---  ------              --------------  -----  \n",
      " 0   name                1689 non-null   object \n",
      " 1   platform            1689 non-null   object \n",
      " 2   year_of_release     1689 non-null   Int64  \n",
      " 3   genre               1689 non-null   object \n",
      " 4   na_sales            1689 non-null   float64\n",
      " 5   eu_sales            1689 non-null   float64\n",
      " 6   jp_sales            1689 non-null   float64\n",
      " 7   other_sales         1689 non-null   float64\n",
      " 8   critic_score        718 non-null    Int64  \n",
      " 9   user_score          888 non-null    float64\n",
      " 10  rating              1689 non-null   object \n",
      " 11  total_sales         1689 non-null   float64\n",
      " 12  rating_description  1689 non-null   object \n",
      "dtypes: Int64(2), float64(6), object(5)\n",
      "memory usage: 188.0+ KB\n"
     ]
    }
   ],
   "source": [
    "period = df[df['year_of_release'] >= 2014]\n",
    "period.info()"
   ]
  },
  {
   "cell_type": "markdown",
   "id": "99513182",
   "metadata": {},
   "source": [
    "Всего 1691 строка, и примерно половина из них имеет данные об оценках и рейтинге.\n",
    "\n",
    "Рассмотрим, какие именно игровые платформы вошли в наш список:"
   ]
  },
  {
   "cell_type": "code",
   "execution_count": 28,
   "id": "ee324432",
   "metadata": {
    "scrolled": false
   },
   "outputs": [
    {
     "data": {
      "text/plain": [
       "PS4     376\n",
       "PSV     295\n",
       "XOne    228\n",
       "PS3     219\n",
       "3DS     212\n",
       "PC      151\n",
       "X360    111\n",
       "WiiU     73\n",
       "PSP      13\n",
       "Wii      11\n",
       "Name: platform, dtype: int64"
      ]
     },
     "execution_count": 28,
     "metadata": {},
     "output_type": "execute_result"
    }
   ],
   "source": [
    "period['platform'].value_counts()"
   ]
  },
  {
   "cell_type": "markdown",
   "id": "2c30c872",
   "metadata": {},
   "source": [
    "### Продажи по платформам в актуальном периоде"
   ]
  },
  {
   "cell_type": "markdown",
   "id": "be5fbe30",
   "metadata": {},
   "source": [
    "Составим сводную таблицу с продажами на платформах в выбранный нами актуальный период:"
   ]
  },
  {
   "cell_type": "code",
   "execution_count": 29,
   "id": "999e271e",
   "metadata": {},
   "outputs": [],
   "source": [
    "sales_in_period = period.pivot_table(index = ['platform', 'year_of_release'],\n",
    "                                     values ='total_sales',\n",
    "                                     aggfunc='sum'\n",
    "                                    ).reset_index()"
   ]
  },
  {
   "cell_type": "markdown",
   "id": "7b47dda1",
   "metadata": {},
   "source": [
    "Построим график динамики продаж на платформах в актуальный период:"
   ]
  },
  {
   "cell_type": "code",
   "execution_count": 30,
   "id": "98e1524a",
   "metadata": {},
   "outputs": [
    {
     "data": {
      "image/png": "[encoded data removed]",
      "text/plain": [
       "<Figure size 1080x576 with 1 Axes>"
      ]
     },
     "metadata": {
      "needs_background": "light"
     },
     "output_type": "display_data"
    }
   ],
   "source": [
    "plt.figure(figsize=(15,8))\n",
    "sns.lineplot(x='year_of_release', y='total_sales', hue='platform', marker='o', style='platform', data=sales_in_period)\n",
    "plt.xlabel('Год')\n",
    "plt.ylabel('Количество проданных копий')\n",
    "plt.title('Продажи на платформах с 2014 года')\n",
    "plt.show();"
   ]
  },
  {
   "cell_type": "markdown",
   "id": "3a8cd20f",
   "metadata": {},
   "source": [
    "По всем платформам наблюдаем динамику снижения объема продаж с течением времени.\n",
    "\n",
    "На конец 2016 года лидируют по продажам следующие платформы: PS4, XОne, 3DS - следующие поколения выделенных нами ранее консолей PS2/PS3, X360 и DS, которые к этому моменту уже устарели и ушли в рынка. Также исходя из данных видно, что количество выпущенных игр, которые приходятся на эти платформы, имеет тенденцию к снижению. Отсюда можно сделать вывод, что в последней точке рынок игр находится на спаде. "
   ]
  },
  {
   "cell_type": "markdown",
   "id": "ec202998",
   "metadata": {},
   "source": [
    "### Диаграммы размаха по платформам в актуальном периоде"
   ]
  },
  {
   "cell_type": "markdown",
   "id": "6a7e2d2b",
   "metadata": {},
   "source": [
    "Построим \"ящик с усами\" для всех платформ, существовавших в выбранный нами период:"
   ]
  },
  {
   "cell_type": "code",
   "execution_count": 31,
   "id": "375d90a9",
   "metadata": {
    "scrolled": false
   },
   "outputs": [
    {
     "data": {
      "image/png": "[encoded data removed]",
      "text/plain": [
       "<Figure size 1224x576 with 1 Axes>"
      ]
     },
     "metadata": {
      "needs_background": "light"
     },
     "output_type": "display_data"
    }
   ],
   "source": [
    "plt.figure(figsize=(17,8))\n",
    "sns.boxplot(x='platform', y='total_sales', data=period)\n",
    "plt.ylim(0,1.75)\n",
    "plt.grid(True)\n",
    "plt.title('Глобальные продажи игр по платформам (с 2014 года)')\n",
    "plt.show()"
   ]
  },
  {
   "cell_type": "markdown",
   "id": "2aac5e4d",
   "metadata": {},
   "source": [
    "Видим, что медиана у разных платформ сильно отличается. У топовых платформ Wii, X360, PS3, PS4, а также у платформ XOne и WiiU медиана расположена в промежутке от 110 до 210 тыс. копий, у остальных -  менее 100 тыс. копий. Также сильно отличается у разных платформ верхняя граница, например, у топовых платформ PS4 и XOne она близка к уровню 1.5 млн. копий, у WiiU - 1.3 млн. копийб у остальных же платформ от 1.1 млн. копий и менее.\n",
    "\n",
    "Практически у всех платформ наблюдаются выбросы. В данном случае они означают отдельные игры-бестселлеры, имевшие успех на рынке.\n",
    "\n",
    "Продажи игр на ПК, как отмечалось ранее, заметно уступают продажам для игровых приставок."
   ]
  },
  {
   "cell_type": "markdown",
   "id": "9d54cbff",
   "metadata": {},
   "source": [
    "### Влияние отзывов пользователей и критиков"
   ]
  },
  {
   "cell_type": "markdown",
   "id": "64efd95a",
   "metadata": {},
   "source": [
    "Рассмотрим на примере отдельной платформы, как влияют на продажи оценки критиков и пользователей. В качестве примера выберем платформу PS4 - выделенного нами лидера по продажам за последний год. Посмотроим диаграмму рассеяния для продаж, оценок критиков и оценок пользователей:  "
   ]
  },
  {
   "cell_type": "code",
   "execution_count": 32,
   "id": "4ee736a8",
   "metadata": {},
   "outputs": [
    {
     "name": "stdout",
     "output_type": "stream",
     "text": [
      "Диаграмма рассеяния для продаж, оценок критиков и пользователей\n"
     ]
    },
    {
     "data": {
      "image/png": "[encoded data removed]",
      "text/plain": [
       "<Figure size 540x540 with 12 Axes>"
      ]
     },
     "metadata": {
      "needs_background": "light"
     },
     "output_type": "display_data"
    }
   ],
   "source": [
    "ps4_scores = df[df['platform'] == 'PS4'][['total_sales', 'critic_score', 'user_score']]\n",
    "\n",
    "print('Диаграмма рассеяния для продаж, оценок критиков и пользователей')\n",
    "sns.pairplot(ps4_scores)\n",
    "plt.show()"
   ]
  },
  {
   "cell_type": "markdown",
   "id": "93ec82cc",
   "metadata": {},
   "source": [
    "Глядя на график, можем сказать, что при повышении оценок критиков наблюдается рост продаж, т.е. чем игра более продаваема и популярна, тем выше будет оценка критиков. В случае с пользовательскими оценками все не так однозначно, картина более размытая. Пользователи не всегда высоко оценивают игры, которые хорошо продаются на рынке. \n",
    "\n",
    "Построим матрицу корреляций для тех же параметров:"
   ]
  },
  {
   "cell_type": "code",
   "execution_count": 33,
   "id": "e40ecad9",
   "metadata": {},
   "outputs": [
    {
     "data": {
      "image/png": "[encoded data removed]",
      "text/plain": [
       "<Figure size 216x216 with 2 Axes>"
      ]
     },
     "metadata": {
      "needs_background": "light"
     },
     "output_type": "display_data"
    }
   ],
   "source": [
    "plt.figure(figsize=(3, 3))\n",
    "sns.heatmap(ps4_scores.corr(), annot=True)\n",
    "plt.title('Корреляция оценок по платформе PS4');"
   ]
  },
  {
   "cell_type": "markdown",
   "id": "811f2bc5",
   "metadata": {},
   "source": [
    "Видим ту же картину: прослеживается корреляция между оценкам критиков и продажами. Подобной явной взаимосвязи с оценками пользователей не прослеживается. \n",
    "\n",
    "Проверим правильность наших выводов на примере 6 топовых платформ, которые мы отобрали ранее. Рассмотрим аналогичные показатели корреляции:"
   ]
  },
  {
   "cell_type": "code",
   "execution_count": 34,
   "id": "83858a89",
   "metadata": {},
   "outputs": [
    {
     "name": "stdout",
     "output_type": "stream",
     "text": [
      "Корреляция оценок по топовым платформам:\n"
     ]
    },
    {
     "data": {
      "image/png": "[encoded data removed]",
      "text/plain": [
       "<Figure size 216x216 with 2 Axes>"
      ]
     },
     "metadata": {
      "needs_background": "light"
     },
     "output_type": "display_data"
    },
    {
     "data": {
      "image/png": "[encoded data removed]",
      "text/plain": [
       "<Figure size 216x216 with 2 Axes>"
      ]
     },
     "metadata": {
      "needs_background": "light"
     },
     "output_type": "display_data"
    },
    {
     "data": {
      "image/png": "[encoded data removed]",
      "text/plain": [
       "<Figure size 216x216 with 2 Axes>"
      ]
     },
     "metadata": {
      "needs_background": "light"
     },
     "output_type": "display_data"
    },
    {
     "data": {
      "image/png": "[encoded data removed]",
      "text/plain": [
       "<Figure size 216x216 with 2 Axes>"
      ]
     },
     "metadata": {
      "needs_background": "light"
     },
     "output_type": "display_data"
    },
    {
     "data": {
      "image/png": "[encoded data removed]",
      "text/plain": [
       "<Figure size 216x216 with 2 Axes>"
      ]
     },
     "metadata": {
      "needs_background": "light"
     },
     "output_type": "display_data"
    },
    {
     "data": {
      "image/png": "[encoded data removed]",
      "text/plain": [
       "<Figure size 216x216 with 2 Axes>"
      ]
     },
     "metadata": {
      "needs_background": "light"
     },
     "output_type": "display_data"
    }
   ],
   "source": [
    "print('Корреляция оценок по топовым платформам:')\n",
    "\n",
    "for platform in top_platforms_list:\n",
    "    filtered = df[df['platform'] == platform][['total_sales', 'critic_score', 'user_score']]\n",
    "    \n",
    "    plt.figure(figsize=(3, 3))\n",
    "    sns.heatmap(filtered.corr(), annot=True)\n",
    "    plt.title(platform);"
   ]
  },
  {
   "cell_type": "markdown",
   "id": "81349bb8",
   "metadata": {},
   "source": [
    "На примере платформ PS2, X360, PS3, PS, XOne видим выявленную нами ранее тенденцию: чем выше оценка критиков, тем выше продажи игр, а связь с оценками пользователей не очевидна. По платформам Wii и DS зависимость так явно не прослеживается."
   ]
  },
  {
   "cell_type": "markdown",
   "id": "6ef6f5a4",
   "metadata": {},
   "source": [
    "### Распределение игр по жанрам"
   ]
  },
  {
   "cell_type": "markdown",
   "id": "b447aa80",
   "metadata": {},
   "source": [
    "Рассмотрим, как в выбранном периоде игры распределены по жанрам. Составим сводную таблицу, в которой сгруппируем данные о продажах и количестве выпущенных игр по жанрам:"
   ]
  },
  {
   "cell_type": "code",
   "execution_count": 35,
   "id": "4e8d6b85",
   "metadata": {
    "scrolled": false
   },
   "outputs": [
    {
     "data": {
      "text/html": [
       "<div>\n",
       "<style scoped>\n",
       "    .dataframe tbody tr th:only-of-type {\n",
       "        vertical-align: middle;\n",
       "    }\n",
       "\n",
       "    .dataframe tbody tr th {\n",
       "        vertical-align: top;\n",
       "    }\n",
       "\n",
       "    .dataframe thead th {\n",
       "        text-align: right;\n",
       "    }\n",
       "</style>\n",
       "<table border=\"1\" class=\"dataframe\">\n",
       "  <thead>\n",
       "    <tr style=\"text-align: right;\">\n",
       "      <th></th>\n",
       "      <th>genre</th>\n",
       "      <th>platform</th>\n",
       "      <th>total_sales</th>\n",
       "    </tr>\n",
       "  </thead>\n",
       "  <tbody>\n",
       "    <tr>\n",
       "      <th>8</th>\n",
       "      <td>Shooter</td>\n",
       "      <td>128</td>\n",
       "      <td>1.335469</td>\n",
       "    </tr>\n",
       "    <tr>\n",
       "      <th>10</th>\n",
       "      <td>Sports</td>\n",
       "      <td>161</td>\n",
       "      <td>0.680000</td>\n",
       "    </tr>\n",
       "    <tr>\n",
       "      <th>4</th>\n",
       "      <td>Platform</td>\n",
       "      <td>38</td>\n",
       "      <td>0.476053</td>\n",
       "    </tr>\n",
       "    <tr>\n",
       "      <th>2</th>\n",
       "      <td>Fighting</td>\n",
       "      <td>60</td>\n",
       "      <td>0.470333</td>\n",
       "    </tr>\n",
       "    <tr>\n",
       "      <th>7</th>\n",
       "      <td>Role-Playing</td>\n",
       "      <td>221</td>\n",
       "      <td>0.459005</td>\n",
       "    </tr>\n",
       "    <tr>\n",
       "      <th>6</th>\n",
       "      <td>Racing</td>\n",
       "      <td>69</td>\n",
       "      <td>0.398841</td>\n",
       "    </tr>\n",
       "    <tr>\n",
       "      <th>3</th>\n",
       "      <td>Misc</td>\n",
       "      <td>113</td>\n",
       "      <td>0.332301</td>\n",
       "    </tr>\n",
       "    <tr>\n",
       "      <th>0</th>\n",
       "      <td>Action</td>\n",
       "      <td>619</td>\n",
       "      <td>0.322068</td>\n",
       "    </tr>\n",
       "    <tr>\n",
       "      <th>9</th>\n",
       "      <td>Simulation</td>\n",
       "      <td>44</td>\n",
       "      <td>0.298409</td>\n",
       "    </tr>\n",
       "    <tr>\n",
       "      <th>5</th>\n",
       "      <td>Puzzle</td>\n",
       "      <td>14</td>\n",
       "      <td>0.157857</td>\n",
       "    </tr>\n",
       "    <tr>\n",
       "      <th>11</th>\n",
       "      <td>Strategy</td>\n",
       "      <td>37</td>\n",
       "      <td>0.107027</td>\n",
       "    </tr>\n",
       "    <tr>\n",
       "      <th>1</th>\n",
       "      <td>Adventure</td>\n",
       "      <td>185</td>\n",
       "      <td>0.094865</td>\n",
       "    </tr>\n",
       "  </tbody>\n",
       "</table>\n",
       "</div>"
      ],
      "text/plain": [
       "           genre  platform  total_sales\n",
       "8        Shooter       128     1.335469\n",
       "10        Sports       161     0.680000\n",
       "4       Platform        38     0.476053\n",
       "2       Fighting        60     0.470333\n",
       "7   Role-Playing       221     0.459005\n",
       "6         Racing        69     0.398841\n",
       "3           Misc       113     0.332301\n",
       "0         Action       619     0.322068\n",
       "9     Simulation        44     0.298409\n",
       "5         Puzzle        14     0.157857\n",
       "11      Strategy        37     0.107027\n",
       "1      Adventure       185     0.094865"
      ]
     },
     "execution_count": 35,
     "metadata": {},
     "output_type": "execute_result"
    }
   ],
   "source": [
    "genres = period.pivot_table(index = 'genre', \n",
    "                            values =['total_sales', 'platform'], \n",
    "                            aggfunc={'total_sales':'mean', 'platform':'count'}\n",
    "                           ).reset_index().sort_values(by='total_sales', ascending=False)\n",
    "\n",
    "genres"
   ]
  },
  {
   "cell_type": "markdown",
   "id": "b6c65872",
   "metadata": {},
   "source": [
    "Построим столбчатую диаграмму по этим данным:"
   ]
  },
  {
   "cell_type": "code",
   "execution_count": 36,
   "id": "86ff67cc",
   "metadata": {
    "scrolled": false
   },
   "outputs": [
    {
     "data": {
      "image/png": "[encoded data removed]",
      "text/plain": [
       "<Figure size 936x360 with 1 Axes>"
      ]
     },
     "metadata": {
      "needs_background": "light"
     },
     "output_type": "display_data"
    },
    {
     "data": {
      "image/png": "[encoded data removed]",
      "text/plain": [
       "<Figure size 936x360 with 1 Axes>"
      ]
     },
     "metadata": {
      "needs_background": "light"
     },
     "output_type": "display_data"
    }
   ],
   "source": [
    "plt.figure(figsize=(13,5))\n",
    "#plt.bar(x='genre', height='platform', data=genres, color='royalblue', label='Количество выпущенных игр')\n",
    "plt.bar(x='genre', height='total_sales', data=genres, color='navy', label='Средние продажи (млн. проданных копий)')\n",
    "plt.legend()\n",
    "plt.title('Распределение средних продаж по жанрам');\n",
    "\n",
    "plt.figure(figsize=(13,5))\n",
    "plt.bar(x='genre', height='platform', data=genres, color='royalblue', label='Количество выпущенных игр')\n",
    "plt.legend()\n",
    "plt.title('Распределение средних продаж по жанрам');"
   ]
  },
  {
   "cell_type": "markdown",
   "id": "e442526b",
   "metadata": {},
   "source": [
    "Наиболее прибыльными по средним продажам являются игры жанра Shooter, далее с сильным отставанием идут игры жанра Sports. Несмотря на то, что в рассматирваемом периоде игр в жанре Action выпускалось гораздо больше, чем игр во всех остальных жанрах, их средние продажи в 3 раза меньше, чем у жанра Shooter."
   ]
  },
  {
   "cell_type": "markdown",
   "id": "aa2e82b4",
   "metadata": {},
   "source": [
    "**Вывод**"
   ]
  },
  {
   "cell_type": "markdown",
   "id": "ef70c44b",
   "metadata": {},
   "source": [
    "Мы провели исследовательский анализ данных и сделали следующие выводы:\n",
    "\n",
    "* Рынок видеоигр начал расти с 1994 года, был на пике в 2008-2009 годах и далее пошел на спад, который можно связать с развитием и ростом популярности мобильных игр.\n",
    "* Топовые игровые платформы за весь исследуемый период: \n",
    "    * 3 поколения PlayStation - PS, PS2, PS3 производства компании Sony;\n",
    "    * Xbox 360 производства компании Microsoft;\n",
    "    * карманная игровая консоль DS и игровая приставка Wii производства компании Nintendo.\n",
    "* Средний срок жизни игровых платформ составляет порядка 10 лет.\n",
    "* Больше всего продаж наблюдается у платформ PS3, PS4 и X360.\n",
    "* Количество проданных игр напрямую коррелирует с оценками критиков, а вот оценки пользователей на продажи так явно не влияют.\n",
    "* Наиболее прибыльными по средним продажам являются игры жанра Shooter, далее с сильным отставанием идут игры жанра Sports.\n"
   ]
  },
  {
   "cell_type": "markdown",
   "id": "5c76fd27",
   "metadata": {},
   "source": [
    "<a id=\"step4\"></a>\n",
    "## 4. Портрет пользователя по регионам"
   ]
  },
  {
   "cell_type": "markdown",
   "id": "7340d5c7",
   "metadata": {},
   "source": [
    "В нашем распоряжении имеются данные о продажах игр в 3 основных регионах - Северная Америка, Европа и Япония. Попробуем составить портрет пользователя в каждом из этих регионов: рассмотрим, какие самые популярные платформы и жанры, а также посмотрим, как влияет рейтинг игр на продажи в регионе."
   ]
  },
  {
   "cell_type": "markdown",
   "id": "c7572d0c",
   "metadata": {},
   "source": [
    "### Топ-5 популярных платформ"
   ]
  },
  {
   "cell_type": "markdown",
   "id": "4bfa422e",
   "metadata": {},
   "source": [
    "Рассмотрим, какие платформы лидируют по продажам в каждом регионе:"
   ]
  },
  {
   "cell_type": "code",
   "execution_count": 37,
   "id": "86efece6",
   "metadata": {
    "scrolled": false
   },
   "outputs": [
    {
     "name": "stdout",
     "output_type": "stream",
     "text": [
      "Топ-5 популярных платформ в регионe:\n"
     ]
    },
    {
     "data": {
      "image/png": "[encoded data removed]",
      "text/plain": [
       "<Figure size 432x288 with 1 Axes>"
      ]
     },
     "metadata": {
      "needs_background": "light"
     },
     "output_type": "display_data"
    },
    {
     "data": {
      "image/png": "[encoded data removed]",
      "text/plain": [
       "<Figure size 432x288 with 1 Axes>"
      ]
     },
     "metadata": {
      "needs_background": "light"
     },
     "output_type": "display_data"
    },
    {
     "data": {
      "image/png": "[encoded data removed]",
      "text/plain": [
       "<Figure size 432x288 with 1 Axes>"
      ]
     },
     "metadata": {
      "needs_background": "light"
     },
     "output_type": "display_data"
    }
   ],
   "source": [
    "columns = ['na_sales', 'eu_sales', 'jp_sales']\n",
    "title_dict = {'na_sales':'Северная Америка', 'eu_sales':'Европа', 'jp_sales':'Япония'}\n",
    "\n",
    "print('Топ-5 популярных платформ в регионe:')\n",
    "\n",
    "for col in columns:\n",
    "    platform = period.groupby('platform')[col].agg('sum').sort_values(ascending=False).head()\n",
    "    platform.plot.bar()\n",
    "    plt.title(title_dict[col])\n",
    "    plt.show()"
   ]
  },
  {
   "cell_type": "markdown",
   "id": "90fb56e7",
   "metadata": {},
   "source": [
    "В Северной Америке лидируют 2 платформы - PS4 и XOne, далее на примерно схожем уровне находятся плафтормы X360, 3DS и PS3.\n",
    "\n",
    "В Европе видим одного выбивающегося лидера - PS4, на втором месте со значительным отставанием - XOne. Далее идут платформы PS3, PC и 3DS.\n",
    "\n",
    "В Японии ситуация несколько иная. Похоже, что в этом регионе пользователи больше ориентированы на карманные игровые консоли, поэтому в лидерах мы имеем платформу 3DS. Далее идут примерно равные по продажам платформы PS4, PSV, PS3 и WiiU. Отметим также, что лидируют на японском рынке платформы исключительно японских производителей.  "
   ]
  },
  {
   "cell_type": "markdown",
   "id": "402c4e26",
   "metadata": {},
   "source": [
    "### Топ-5 популярных жанров"
   ]
  },
  {
   "cell_type": "markdown",
   "id": "796dab07",
   "metadata": {},
   "source": [
    "Рассмотрим, какие игровые жанры лидируют по продажам в каждом регионе:"
   ]
  },
  {
   "cell_type": "code",
   "execution_count": 38,
   "id": "f5475a6a",
   "metadata": {
    "scrolled": false
   },
   "outputs": [
    {
     "name": "stdout",
     "output_type": "stream",
     "text": [
      "Топ-5 популярных жанров в регионe:\n"
     ]
    },
    {
     "data": {
      "image/png": "[encoded data removed]",
      "text/plain": [
       "<Figure size 432x288 with 1 Axes>"
      ]
     },
     "metadata": {
      "needs_background": "light"
     },
     "output_type": "display_data"
    },
    {
     "data": {
      "image/png": "[encoded data removed]",
      "text/plain": [
       "<Figure size 432x288 with 1 Axes>"
      ]
     },
     "metadata": {
      "needs_background": "light"
     },
     "output_type": "display_data"
    },
    {
     "data": {
      "image/png": "[encoded data removed]",
      "text/plain": [
       "<Figure size 432x288 with 1 Axes>"
      ]
     },
     "metadata": {
      "needs_background": "light"
     },
     "output_type": "display_data"
    }
   ],
   "source": [
    "print('Топ-5 популярных жанров в регионe:')\n",
    "\n",
    "for col in columns:\n",
    "    platform = period.groupby('genre')[col].agg('sum').sort_values(ascending=False).head()\n",
    "    platform.plot.bar()\n",
    "    plt.title(title_dict[col])\n",
    "    plt.show()"
   ]
  },
  {
   "cell_type": "markdown",
   "id": "9942cd25",
   "metadata": {},
   "source": [
    "Видим схожую тенденцию, что и ранее, в случае с жанрами: в Северной Америке и Европе совпадают места с первого по четвертое. Их занимают жанры Action, Sports, Shooter и Role-Playing. На 5 месте в Северной Америке жанр Misc (игры смешанного жанра), в Европе - Racing.\n",
    "\n",
    "В Японии опять же картина совершенно иная: со значительным отрывом лидируют жанры Role-Playing и Action, далее идут жанры Fighting, Misc и Shooter."
   ]
  },
  {
   "cell_type": "markdown",
   "id": "3ace0d84",
   "metadata": {},
   "source": [
    "### Влияние рейтинга ESRB"
   ]
  },
  {
   "cell_type": "markdown",
   "id": "4ba117b5",
   "metadata": {},
   "source": [
    "Рассмотрим, как в каждом регионе распределены продажи в соответствии с рейтингом ESRB:"
   ]
  },
  {
   "cell_type": "code",
   "execution_count": 39,
   "id": "25bdbf00",
   "metadata": {
    "scrolled": false
   },
   "outputs": [
    {
     "name": "stdout",
     "output_type": "stream",
     "text": [
      "Продажи в регионe в соответствии с рейтингом ESRB:\n"
     ]
    },
    {
     "data": {
      "image/png": "[encoded data removed]",
      "text/plain": [
       "<Figure size 864x216 with 1 Axes>"
      ]
     },
     "metadata": {
      "needs_background": "light"
     },
     "output_type": "display_data"
    },
    {
     "data": {
      "image/png": "[encoded data removed]",
      "text/plain": [
       "<Figure size 864x216 with 1 Axes>"
      ]
     },
     "metadata": {
      "needs_background": "light"
     },
     "output_type": "display_data"
    },
    {
     "data": {
      "image/png": "[encoded data removed]",
      "text/plain": [
       "<Figure size 864x216 with 1 Axes>"
      ]
     },
     "metadata": {
      "needs_background": "light"
     },
     "output_type": "display_data"
    }
   ],
   "source": [
    "print('Продажи в регионe в соответствии с рейтингом ESRB:')\n",
    "\n",
    "for col in columns:\n",
    "    platform = period.groupby('rating_description')[col].agg('sum').sort_values(ascending=False).head()\n",
    "    \n",
    "    plt.figure(figsize=(12, 3))\n",
    "    platform.plot.bar()\n",
    "    plt.title(title_dict[col])\n",
    "    plt.xticks(rotation=0) \n",
    "    plt.show()"
   ]
  },
  {
   "cell_type": "markdown",
   "id": "1530ff0e",
   "metadata": {},
   "source": [
    "Видим практически одинаковое распределение рейтинга в Северной Америке и Европе. Большая часть выручки получена с игр с рейтингом M - \"Для взрослых (17+)\", далее идут игры с неопределенным рейтингом, игры с рейтингом E - \"Для всех (6+)\", игры с рейтингом T - \"Для подростков (13+)\" и игры с рейтингом E10+ - \"Для всех (10+)\".\n",
    "\n",
    "В Японии картина значительно отличается. В этом регионе лидируют игры с неопределенным рейтингом. Если мы обратимся к описанию рейтинговой системы ESRB, то узнаем, что он предназначен для маркировки игр для США и Канады. Следовательно, пользователи в Японии скорее всего не ориентируются на него при выборе игр. В остальном игры распределены в следующем порядке: T - \"Для подростков (13+)\", E - \"Для всех (6+)\", M - \"Для взрослых (17+)\" и E10+ - \"Для всех (10+)\"."
   ]
  },
  {
   "cell_type": "markdown",
   "id": "ceaa16f5",
   "metadata": {},
   "source": [
    "**Вывод**"
   ]
  },
  {
   "cell_type": "markdown",
   "id": "92840ee6",
   "metadata": {},
   "source": [
    "Мы рассмотрели в выбранном нами периоде данные по распределению продаж в соответствии с платформами, жанрами и рейтингом ESRB по 3 различным регионом и выяснили следующее:\n",
    "\n",
    "* По предпочитаемым платформам Северная Америка и Европа схожи:  на первых 2 местах по продажам платформы PS4 и XOne. Далее в Северной Америке схожем уровне находятся плафтормы X360, 3DS и PS3, а в Европе - платформы PS3, PC и 3DS.В Японии пользователи больше ориентированы на карманные игровые консоли, поэтому в лидерах мы имеем платформу 3DS. Далее идут примерно равные по продажам платформы PS4, PSV, PS3 и WiiU. Стоит отметить, что лидируют на японском рынке платформы исключительно японских производителей.\n",
    "\n",
    "* По жанрам картина схожая: в Северной Америке и Европе совпадают места с первого по четвертое. Их занимают жанры Action, Sports, Shooter и Role-Playing. В Японии  со значительным отрывом лидируют жанры Role-Playing и Action.\n",
    "\n",
    "* Распределение рейтинга в Северной Америке и Европе очень похоже: большая часть выручки получена с игр с рейтингом M - \"Для взрослых (17+)\", далее идут с неопределенным рейтингом, игры с рейтингом E - \"Для всех (6+)\", игры с рейтингом T - \"Для подростков (13+)\" и игры с рейтингом E10+ - \"Для всех (10+)\". В Японии лидируют игры с неопределенным рейтингом, что обясняется распространением рейтинговой системы ESRB для маркировки игр для США и Канады, т.е. пользователи из Японии не ориентируются на него при выборе игр. Далее, с довольно сильным отставанием, идут игры с рейтингом T - \"Для подростков (13+)\", E - \"Для всех (6+)\", M - \"Для взрослых (17+)\" и E10+ - \"Для всех (10+)\".\n",
    "\n",
    "Также мы отметили, что Северная Америка является самым большим по объему рынком продаж видеоигр. Рынок Европы составляет примерно половину от всех продаж на рынке Северной Америки. Японский рынок видеоигр является самым меньшим по объему из представленных трех."
   ]
  },
  {
   "cell_type": "markdown",
   "id": "9ab3bfcb",
   "metadata": {},
   "source": [
    "<a id=\"step5\"></a>\n",
    "## 5. Проверка гипотез"
   ]
  },
  {
   "cell_type": "markdown",
   "id": "2bc7170f",
   "metadata": {},
   "source": [
    "Заранее напишем функцию для проверки наших гипотез (будем использовать метод `ttest_ind`, т.к. средние значения выборок не зависят друг от друга, а степень свободы ddof зададим равную единице, поскольку работаем с выборками из генеральной совокупности):"
   ]
  },
  {
   "cell_type": "code",
   "execution_count": 40,
   "id": "3f99839a",
   "metadata": {},
   "outputs": [],
   "source": [
    "def test(df1, df2):\n",
    "    \n",
    "    results = st.ttest_ind(\n",
    "    df1, \n",
    "    df2, \n",
    "    equal_var=False)\n",
    "\n",
    "    print('p-значение:', results.pvalue)\n",
    "\n",
    "    if results.pvalue < alpha:\n",
    "        print(\"Отвергаем нулевую гипотезу\")\n",
    "    else:\n",
    "        print(\"Не получилось отвергнуть нулевую гипотезу\")\n"
   ]
  },
  {
   "cell_type": "markdown",
   "id": "b45c9abc",
   "metadata": {},
   "source": [
    "Также напишем функцию для построения гистограм:"
   ]
  },
  {
   "cell_type": "code",
   "execution_count": null,
   "id": "61781ce6",
   "metadata": {},
   "outputs": [],
   "source": [
    "def histogram(task1, task2, x_col, label1, label2, hist_title):\n",
    "    sns.set(rc={'figure.figsize':(8,4)})\n",
    "    \n",
    "    sns.histplot(data=df.query(task1),\n",
    "                     x=x_col,\n",
    "                     color='blue', \n",
    "                     label=label1, \n",
    "                     kde=True, \n",
    "                     bins=20)\n",
    "    sns.histplot(data=df.query(task2),\n",
    "                     x=x_col,\n",
    "                     color='red', \n",
    "                     label=label2,\n",
    "                     kde=True,\n",
    "                     bins=20)\n",
    "    plt.legend()\n",
    "    plt.title(hist_title)\n",
    "    plt.show()\n",
    "    "
   ]
  },
  {
   "cell_type": "markdown",
   "id": "b8769c39",
   "metadata": {},
   "source": [
    "### Средние пользовательские рейтинги платформ Xbox One и PC одинаковые"
   ]
  },
  {
   "cell_type": "markdown",
   "id": "46738e50",
   "metadata": {},
   "source": [
    "Для проверки гипотезы примем следующее: \n",
    "\n",
    "H0 (нулевая гипотеза)  -  cредние пользовательские оценки платформ Xbox One и PC равны.\n",
    "\n",
    "H1 (альтернативная гипотеза)  - cредние пользовательские оценки платформ Xbox One и PC отличаются.\n",
    "\n",
    "Уровень значимости α примем равным 0.5%."
   ]
  },
  {
   "cell_type": "code",
   "execution_count": null,
   "id": "fd30064e",
   "metadata": {},
   "outputs": [],
   "source": [
    "alpha=.05"
   ]
  },
  {
   "cell_type": "markdown",
   "id": "efbabe0d",
   "metadata": {},
   "source": [
    "Создадим 2 таблицы, в которых сохраним данные по платформам XOne и PC:"
   ]
  },
  {
   "cell_type": "code",
   "execution_count": null,
   "id": "19c5de21",
   "metadata": {},
   "outputs": [],
   "source": [
    "xone = period[period['platform'] == 'XOne']['user_score'].dropna()\n",
    "pc = period[period['platform'] == 'PC']['user_score'].dropna()"
   ]
  },
  {
   "cell_type": "markdown",
   "id": "3f81c8b4",
   "metadata": {},
   "source": [
    "Построим график пользовательских оценок по платформам XOne и PC, чтобы оценить распределение наших выборок:"
   ]
  },
  {
   "cell_type": "code",
   "execution_count": null,
   "id": "48e61bca",
   "metadata": {},
   "outputs": [],
   "source": [
    "histogram('platform == \"XOne\"', \n",
    "          'platform == \"PC\"', \n",
    "          'user_score', 'XOne', \n",
    "          'PC', \n",
    "          'Распределение пользовательских оценок по плаформам XOne и PC')"
   ]
  },
  {
   "cell_type": "markdown",
   "id": "4744bca9",
   "metadata": {},
   "source": [
    "Проверим нулевую гипотезу, используя написанную раннее функцию:"
   ]
  },
  {
   "cell_type": "code",
   "execution_count": null,
   "id": "4df7072c",
   "metadata": {},
   "outputs": [],
   "source": [
    "test(xone, pc)"
   ]
  },
  {
   "cell_type": "markdown",
   "id": "c5e6b142",
   "metadata": {},
   "source": [
    "Таким образом, в актуальном периоде остается верным утверждение, что средние пользовательские рейтинги платформ Xbox One и PC одинаковые."
   ]
  },
  {
   "cell_type": "markdown",
   "id": "f89b2483",
   "metadata": {},
   "source": [
    "### Средние пользовательские рейтинги жанров Action и Sports разные"
   ]
  },
  {
   "cell_type": "markdown",
   "id": "64195130",
   "metadata": {},
   "source": [
    "Для проверки гипотезы примем следующее: \n",
    "\n",
    "H0 (нулевая гипотеза)  -  средние пользовательские рейтинги жанров Action и Sports равны.\n",
    "\n",
    "H1 (альтернативная гипотеза)  - cредние пользовательские оценки платформ Xbox One и PC отличаются.\n",
    "\n",
    "Уровень значимости α примем равным 0.5%."
   ]
  },
  {
   "cell_type": "code",
   "execution_count": null,
   "id": "d248d449",
   "metadata": {},
   "outputs": [],
   "source": [
    "alpha=.05"
   ]
  },
  {
   "cell_type": "markdown",
   "id": "f6893f81",
   "metadata": {},
   "source": [
    "Создадим 2 таблицы, в которых сохраним данные по жанрам Action и Sports:"
   ]
  },
  {
   "cell_type": "code",
   "execution_count": null,
   "id": "8263abb9",
   "metadata": {},
   "outputs": [],
   "source": [
    "action = period[period['genre'] == 'Action']['user_score'].dropna()\n",
    "sports = period[period['genre'] == 'Sports']['user_score'].dropna()"
   ]
  },
  {
   "cell_type": "code",
   "execution_count": null,
   "id": "6fa33c6e",
   "metadata": {
    "scrolled": true
   },
   "outputs": [],
   "source": [
    "histogram('genre == \"Action\"', \n",
    "          'genre == \"Sports\"', \n",
    "          'user_score', \n",
    "          'Action', \n",
    "          'Sports', \n",
    "          'Распределение пользовательских оценок по жанрам Action и Sports')"
   ]
  },
  {
   "cell_type": "markdown",
   "id": "691df8e0",
   "metadata": {},
   "source": [
    "Проверим нулевую гипотезу, используя написанную раннее функцию:"
   ]
  },
  {
   "cell_type": "code",
   "execution_count": null,
   "id": "2e091312",
   "metadata": {},
   "outputs": [],
   "source": [
    "test(action, sports)"
   ]
  },
  {
   "cell_type": "markdown",
   "id": "937a4a5c",
   "metadata": {},
   "source": [
    "Отвергаем нулевую гипотезу. Значит в выбранном периоде средние пользовательские рейтинги жанра Action отличаются от средних пользовательские рейтинги жанра Sports."
   ]
  },
  {
   "cell_type": "markdown",
   "id": "a609f034",
   "metadata": {},
   "source": [
    "**Вывод**"
   ]
  },
  {
   "cell_type": "markdown",
   "id": "0807313f",
   "metadata": {},
   "source": [
    "Перед нами стояла задача проверки 2 гипотез:\n",
    "* Средние пользовательские рейтинги платформ Xbox One и PC одинаковые.\n",
    "* Средние пользовательские рейтинги жанров Action и Sports разные.\n",
    "\n",
    "В первом случае мы приняли за нулевую гипотезу утверждение о том, что cредние пользовательские оценки платформ Xbox One и PC равны. Альтернативная гипотеза - cредние пользовательские оценки платформ Xbox One и PC не равны. Нам не удалось отвергнуть нулевую гипотезу и мы сделали вывод о том, что пользовательские рейтинги платформ Xbox One и PC равны.\n",
    "\n",
    "Во втором случае мы приняли за нулевую гипотезу утверждение о том, что средние пользовательские рейтинги жанров Action и Sports равны. Альтернативная гипотеза - cредние пользовательские оценки платформ Xbox One и PC не равны. Нам удалось отвергнуть нулевую гипотезу и таким образом мы сделали вывод о том, что средние пользовательские рейтинги жанров Action и Sports отличаются."
   ]
  },
  {
   "cell_type": "markdown",
   "id": "92cedd2b",
   "metadata": {},
   "source": [
    "<a id=\"step6\"></a>\n",
    "## 6. Общий вывод"
   ]
  },
  {
   "cell_type": "markdown",
   "id": "16e46da7",
   "metadata": {},
   "source": [
    "Мы провели исследование рынка видеоигр во временном периоде с 1980 по 2016 год. В нашем распоряжении были данные о выпущенных играх, платформах, годах выпуска и жанрах, информация о продажах в мире, а также оценках и рейтинге этих игр. Перед нами была поставлена задача выявления закономерностей, определяющих успешность той или иной игры.\n",
    "\n",
    "Для проведения анализа мы предварительно рассчитали общий объем продаж игр по разным регионам.\n",
    "\n",
    "В нашем исследовании было несколько этапов:\n",
    "\n",
    "1. В ходе исследовательского анализа данных мы выснили, что в развитии рынка видеоигр можно выделить несколько этапов: до 1994 года особого развития не наблюдалось, рынок начал расти с 1994 года и был на пике в 2008-2009 годах и далее пошел на спад, который, скорее всего, связан с развитием мобильных игр. За весь наиболее популярными оказались платформы PS2, X360, PS3, Wii, DS, PS, а средний срок жизни платформы составляет порядка 10 лет.\n",
    "\n",
    "\n",
    "2. Мы обнаружили, что оценки критиков оказывают значительное влияние на продажи игр, в отличие от оценок пользователей, которые не влияют так явно на продажи, что говорит нам о том, что для потенциальных покупателей мнение критиков важнее мнения других пользователей. Наиболее прибыльными по средним продажам являются игры жанра Shooter, далее с сильным отставанием идут игры жанра Sports.\n",
    "\n",
    "\n",
    "3. Мы составили портреты пользователей для 3 регионов:\n",
    "\n",
    "* По предпочитаемым платформам Северная Америка и Европа схожи:  на первых 2 местах по продажам платформы PS4 и XOne. Далее в Северной Америке схожем уровне находятся плафтормы X360, 3DS и PS3, а в Европе - платформы PS3, PC и 3DS.В Японии пользователи больше ориентированы на карманные игровые консоли, поэтому в лидерах мы имеем платформу 3DS. Далее идут примерно равные по продажам платформы PS4, PSV, PS3 и WiiU. Стоит отметить, что лидируют на японском рынке платформы исключительно японских производителей.\n",
    "\n",
    "* По жанрам картина схожая: в Северной Америке и Европе совпадают места с первого по четвертое. Их занимают жанры Action, Sports, Shooter и Role-Playing. В Японии со значительным отрывом лидируют жанры Role-Playing и Action.\n",
    "\n",
    "* Распределение рейтинга в Северной Америке и Европе очень похоже: большая часть выручки получена с игр с рейтингом M - \"Для взрослых (17+)\", далее идут с неопределенным рейтингом, игры с рейтингом E - \"Для всех (6+)\", игры с рейтингом T - \"Для подростков (13+)\" и игры с рейтингом E10+ - \"Для всех (10+)\". В Японии лидируют игры с неопределенным рейтингом, что обясняется распространением рейтинговой системы ESRB для маркировки игр для США и Канады, т.е. пользователи из Японии не ориентируются на него при выборе игр. Далее, с довольно сильным отставанием, идут игры с рейтингом T - \"Для подростков (13+)\", E - \"Для всех (6+)\", M - \"Для взрослых (17+)\" и E10+ - \"Для всех (10+)\".\n",
    "\n",
    "4. Также мы провели статистический анализ, в котором исследовали 2 гипотезы:\n",
    "\n",
    "* Средние пользовательские рейтинги платформ Xbox One и PC одинаковые.\n",
    "Мы приняли за нулевую гипотезу утверждение о том, что cредние пользовательские оценки платформ Xbox One и PC равны. Альтернативная гипотеза - cредние пользовательские оценки платформ Xbox One и PC не равны. Нулевую гипотезу отвергнуть не удалось.\n",
    "\n",
    "* Средние пользовательские рейтинги жанров Action и Sports разные.\n",
    "Мы приняли за нулевую гипотезу утверждение о том, что средние пользовательские рейтинги жанров Action и Sports равны. Альтернативная гипотеза - cредние пользовательские оценки платформ Xbox One и PC не равны. Мы отвергли нулевую гипотезу и приняли альтернативую гипотезу..\n"
   ]
  },
  {
   "cell_type": "code",
   "execution_count": null,
   "id": "cb99434d",
   "metadata": {},
   "outputs": [],
   "source": []
  }
 ],
 "metadata": {
  "ExecuteTimeLog": [
   {
    "duration": 1707,
    "start_time": "2022-03-27T16:41:52.487Z"
   },
   {
    "duration": 40,
    "start_time": "2022-03-27T16:41:54.197Z"
   },
   {
    "duration": 36,
    "start_time": "2022-03-27T16:41:54.240Z"
   },
   {
    "duration": 38,
    "start_time": "2022-03-27T16:41:54.302Z"
   },
   {
    "duration": 4,
    "start_time": "2022-03-27T16:41:54.342Z"
   },
   {
    "duration": 23,
    "start_time": "2022-03-27T16:41:54.347Z"
   },
   {
    "duration": 39,
    "start_time": "2022-03-27T16:41:54.372Z"
   },
   {
    "duration": 20,
    "start_time": "2022-03-27T16:41:54.413Z"
   },
   {
    "duration": 7,
    "start_time": "2022-03-27T16:41:54.435Z"
   },
   {
    "duration": 7,
    "start_time": "2022-03-27T16:41:54.446Z"
   },
   {
    "duration": 5,
    "start_time": "2022-03-27T16:41:54.455Z"
   },
   {
    "duration": 710,
    "start_time": "2022-03-27T16:41:54.462Z"
   },
   {
    "duration": 27,
    "start_time": "2022-03-27T16:41:55.175Z"
   },
   {
    "duration": 7,
    "start_time": "2022-03-27T16:41:55.205Z"
   },
   {
    "duration": 9,
    "start_time": "2022-03-27T16:41:55.215Z"
   },
   {
    "duration": 11,
    "start_time": "2022-03-27T16:41:55.226Z"
   },
   {
    "duration": 11,
    "start_time": "2022-03-27T16:41:55.239Z"
   },
   {
    "duration": 16,
    "start_time": "2022-03-27T16:41:55.252Z"
   },
   {
    "duration": 49,
    "start_time": "2022-03-27T16:41:55.270Z"
   },
   {
    "duration": 8,
    "start_time": "2022-03-27T16:41:55.321Z"
   },
   {
    "duration": 6,
    "start_time": "2022-03-27T16:41:55.331Z"
   },
   {
    "duration": 19,
    "start_time": "2022-03-27T16:41:55.340Z"
   },
   {
    "duration": 366,
    "start_time": "2022-03-27T16:41:55.361Z"
   },
   {
    "duration": 13,
    "start_time": "2022-03-27T16:41:55.730Z"
   },
   {
    "duration": 264,
    "start_time": "2022-03-27T16:41:55.745Z"
   },
   {
    "duration": 19,
    "start_time": "2022-03-27T16:41:56.011Z"
   },
   {
    "duration": 1306,
    "start_time": "2022-03-27T16:41:56.032Z"
   },
   {
    "duration": 16,
    "start_time": "2022-03-27T16:41:57.342Z"
   },
   {
    "duration": 7,
    "start_time": "2022-03-27T16:41:57.360Z"
   },
   {
    "duration": 35,
    "start_time": "2022-03-27T16:41:57.369Z"
   },
   {
    "duration": 504,
    "start_time": "2022-03-27T16:41:57.406Z"
   },
   {
    "duration": 364,
    "start_time": "2022-03-27T16:41:57.912Z"
   },
   {
    "duration": 1704,
    "start_time": "2022-03-27T16:41:58.278Z"
   },
   {
    "duration": 336,
    "start_time": "2022-03-27T16:41:59.984Z"
   },
   {
    "duration": 1770,
    "start_time": "2022-03-27T16:42:00.321Z"
   },
   {
    "duration": 21,
    "start_time": "2022-03-27T16:42:02.101Z"
   },
   {
    "duration": 226,
    "start_time": "2022-03-27T16:42:02.124Z"
   },
   {
    "duration": 360,
    "start_time": "2022-03-27T16:42:02.352Z"
   },
   {
    "duration": 532,
    "start_time": "2022-03-27T16:42:02.714Z"
   },
   {
    "duration": 393,
    "start_time": "2022-03-27T16:42:03.248Z"
   },
   {
    "duration": 4,
    "start_time": "2022-03-27T16:42:03.643Z"
   },
   {
    "duration": 31,
    "start_time": "2022-03-27T16:42:03.649Z"
   },
   {
    "duration": 10,
    "start_time": "2022-03-27T16:42:03.681Z"
   },
   {
    "duration": 19,
    "start_time": "2022-03-27T16:42:03.693Z"
   },
   {
    "duration": 327,
    "start_time": "2022-03-27T16:42:03.714Z"
   },
   {
    "duration": 5,
    "start_time": "2022-03-27T16:42:04.043Z"
   },
   {
    "duration": 20,
    "start_time": "2022-03-27T16:42:04.050Z"
   },
   {
    "duration": 3,
    "start_time": "2022-03-27T16:42:04.072Z"
   },
   {
    "duration": 11,
    "start_time": "2022-03-27T16:42:04.100Z"
   },
   {
    "duration": 291,
    "start_time": "2022-03-27T16:42:04.113Z"
   },
   {
    "duration": 5,
    "start_time": "2022-03-27T16:42:04.406Z"
   },
   {
    "duration": 20,
    "start_time": "2022-03-27T16:42:04.413Z"
   },
   {
    "duration": 1244,
    "start_time": "2022-03-27T18:05:35.125Z"
   },
   {
    "duration": 38,
    "start_time": "2022-03-27T18:05:36.372Z"
   },
   {
    "duration": 35,
    "start_time": "2022-03-27T18:05:36.411Z"
   },
   {
    "duration": 29,
    "start_time": "2022-03-27T18:05:36.447Z"
   },
   {
    "duration": 24,
    "start_time": "2022-03-27T18:05:36.478Z"
   },
   {
    "duration": 26,
    "start_time": "2022-03-27T18:05:36.505Z"
   },
   {
    "duration": 16,
    "start_time": "2022-03-27T18:05:36.534Z"
   },
   {
    "duration": 20,
    "start_time": "2022-03-27T18:05:36.552Z"
   },
   {
    "duration": 28,
    "start_time": "2022-03-27T18:05:36.574Z"
   },
   {
    "duration": 8,
    "start_time": "2022-03-27T18:05:36.604Z"
   },
   {
    "duration": 4,
    "start_time": "2022-03-27T18:05:36.614Z"
   },
   {
    "duration": 465,
    "start_time": "2022-03-27T18:05:36.620Z"
   },
   {
    "duration": 19,
    "start_time": "2022-03-27T18:05:37.087Z"
   },
   {
    "duration": 6,
    "start_time": "2022-03-27T18:05:37.110Z"
   },
   {
    "duration": 9,
    "start_time": "2022-03-27T18:05:37.118Z"
   },
   {
    "duration": 7,
    "start_time": "2022-03-27T18:05:37.129Z"
   },
   {
    "duration": 8,
    "start_time": "2022-03-27T18:05:37.138Z"
   },
   {
    "duration": 15,
    "start_time": "2022-03-27T18:05:37.147Z"
   },
   {
    "duration": 17,
    "start_time": "2022-03-27T18:05:37.201Z"
   },
   {
    "duration": 9,
    "start_time": "2022-03-27T18:05:37.219Z"
   },
   {
    "duration": 4,
    "start_time": "2022-03-27T18:05:37.230Z"
   },
   {
    "duration": 13,
    "start_time": "2022-03-27T18:05:37.236Z"
   },
   {
    "duration": 341,
    "start_time": "2022-03-27T18:05:37.251Z"
   },
   {
    "duration": 14,
    "start_time": "2022-03-27T18:05:37.594Z"
   },
   {
    "duration": 159,
    "start_time": "2022-03-27T18:05:37.609Z"
   },
   {
    "duration": 19,
    "start_time": "2022-03-27T18:05:37.770Z"
   },
   {
    "duration": 1046,
    "start_time": "2022-03-27T18:05:37.791Z"
   },
   {
    "duration": 16,
    "start_time": "2022-03-27T18:05:38.839Z"
   },
   {
    "duration": 8,
    "start_time": "2022-03-27T18:05:38.857Z"
   },
   {
    "duration": 37,
    "start_time": "2022-03-27T18:05:38.867Z"
   },
   {
    "duration": 504,
    "start_time": "2022-03-27T18:05:38.906Z"
   },
   {
    "duration": 370,
    "start_time": "2022-03-27T18:05:39.412Z"
   },
   {
    "duration": 1780,
    "start_time": "2022-03-27T18:05:39.784Z"
   },
   {
    "duration": 320,
    "start_time": "2022-03-27T18:05:41.566Z"
   },
   {
    "duration": 1815,
    "start_time": "2022-03-27T18:05:41.889Z"
   },
   {
    "duration": 21,
    "start_time": "2022-03-27T18:05:43.706Z"
   },
   {
    "duration": 233,
    "start_time": "2022-03-27T18:05:43.729Z"
   },
   {
    "duration": 355,
    "start_time": "2022-03-27T18:05:43.964Z"
   },
   {
    "duration": 489,
    "start_time": "2022-03-27T18:05:44.321Z"
   },
   {
    "duration": 391,
    "start_time": "2022-03-27T18:05:44.812Z"
   },
   {
    "duration": 4,
    "start_time": "2022-03-27T18:05:45.207Z"
   },
   {
    "duration": 5,
    "start_time": "2022-03-27T18:05:45.214Z"
   },
   {
    "duration": 7,
    "start_time": "2022-03-27T18:05:45.221Z"
   },
   {
    "duration": 10,
    "start_time": "2022-03-27T18:05:45.230Z"
   },
   {
    "duration": 335,
    "start_time": "2022-03-27T18:05:45.242Z"
   },
   {
    "duration": 5,
    "start_time": "2022-03-27T18:05:45.579Z"
   },
   {
    "duration": 29,
    "start_time": "2022-03-27T18:05:45.586Z"
   },
   {
    "duration": 4,
    "start_time": "2022-03-27T18:05:45.617Z"
   },
   {
    "duration": 10,
    "start_time": "2022-03-27T18:05:45.623Z"
   },
   {
    "duration": 308,
    "start_time": "2022-03-27T18:05:45.635Z"
   },
   {
    "duration": 6,
    "start_time": "2022-03-27T18:05:45.945Z"
   },
   {
    "duration": 18,
    "start_time": "2022-03-27T18:05:45.954Z"
   },
   {
    "duration": 51,
    "start_time": "2022-03-27T18:41:52.029Z"
   },
   {
    "duration": 1488,
    "start_time": "2022-03-27T18:42:00.476Z"
   },
   {
    "duration": 46,
    "start_time": "2022-03-27T18:42:01.967Z"
   },
   {
    "duration": 37,
    "start_time": "2022-03-27T18:42:02.015Z"
   },
   {
    "duration": 48,
    "start_time": "2022-03-27T18:42:02.055Z"
   },
   {
    "duration": 4,
    "start_time": "2022-03-27T18:42:02.104Z"
   },
   {
    "duration": 24,
    "start_time": "2022-03-27T18:42:02.110Z"
   },
   {
    "duration": 16,
    "start_time": "2022-03-27T18:42:02.137Z"
   },
   {
    "duration": 46,
    "start_time": "2022-03-27T18:42:02.155Z"
   },
   {
    "duration": 7,
    "start_time": "2022-03-27T18:42:02.203Z"
   },
   {
    "duration": 8,
    "start_time": "2022-03-27T18:42:02.214Z"
   },
   {
    "duration": 10,
    "start_time": "2022-03-27T18:42:02.225Z"
   },
   {
    "duration": 497,
    "start_time": "2022-03-27T18:42:02.238Z"
   },
   {
    "duration": 16,
    "start_time": "2022-03-27T18:42:02.737Z"
   },
   {
    "duration": 9,
    "start_time": "2022-03-27T18:42:02.755Z"
   },
   {
    "duration": 11,
    "start_time": "2022-03-27T18:42:02.765Z"
   },
   {
    "duration": 8,
    "start_time": "2022-03-27T18:42:02.800Z"
   },
   {
    "duration": 7,
    "start_time": "2022-03-27T18:42:02.810Z"
   },
   {
    "duration": 16,
    "start_time": "2022-03-27T18:42:02.819Z"
   },
   {
    "duration": 16,
    "start_time": "2022-03-27T18:42:02.837Z"
   },
   {
    "duration": 8,
    "start_time": "2022-03-27T18:42:02.855Z"
   },
   {
    "duration": 6,
    "start_time": "2022-03-27T18:42:02.901Z"
   },
   {
    "duration": 11,
    "start_time": "2022-03-27T18:42:02.908Z"
   },
   {
    "duration": 16,
    "start_time": "2022-03-27T18:42:02.922Z"
   },
   {
    "duration": 764,
    "start_time": "2022-03-27T18:42:02.939Z"
   },
   {
    "duration": 10,
    "start_time": "2022-03-27T18:42:03.705Z"
   },
   {
    "duration": 307,
    "start_time": "2022-03-27T18:42:03.717Z"
   },
   {
    "duration": 20,
    "start_time": "2022-03-27T18:42:04.025Z"
   },
   {
    "duration": 1452,
    "start_time": "2022-03-27T18:42:04.100Z"
   },
   {
    "duration": 18,
    "start_time": "2022-03-27T18:42:05.553Z"
   },
   {
    "duration": 7,
    "start_time": "2022-03-27T18:42:05.572Z"
   },
   {
    "duration": 32,
    "start_time": "2022-03-27T18:42:05.581Z"
   },
   {
    "duration": 611,
    "start_time": "2022-03-27T18:42:05.615Z"
   },
   {
    "duration": 373,
    "start_time": "2022-03-27T18:42:06.228Z"
   },
   {
    "duration": 1676,
    "start_time": "2022-03-27T18:42:06.603Z"
   },
   {
    "duration": 297,
    "start_time": "2022-03-27T18:42:08.282Z"
   },
   {
    "duration": 1817,
    "start_time": "2022-03-27T18:42:08.582Z"
   },
   {
    "duration": 21,
    "start_time": "2022-03-27T18:42:10.401Z"
   },
   {
    "duration": 237,
    "start_time": "2022-03-27T18:42:10.425Z"
   },
   {
    "duration": 354,
    "start_time": "2022-03-27T18:42:10.664Z"
   },
   {
    "duration": 530,
    "start_time": "2022-03-27T18:42:11.020Z"
   },
   {
    "duration": 379,
    "start_time": "2022-03-27T18:42:11.552Z"
   },
   {
    "duration": 4,
    "start_time": "2022-03-27T18:42:11.933Z"
   },
   {
    "duration": 7,
    "start_time": "2022-03-27T18:42:11.939Z"
   },
   {
    "duration": 6,
    "start_time": "2022-03-27T18:42:11.948Z"
   },
   {
    "duration": 13,
    "start_time": "2022-03-27T18:42:11.956Z"
   },
   {
    "duration": 310,
    "start_time": "2022-03-27T18:42:11.971Z"
   },
   {
    "duration": 18,
    "start_time": "2022-03-27T18:42:12.283Z"
   },
   {
    "duration": 21,
    "start_time": "2022-03-27T18:42:12.303Z"
   },
   {
    "duration": 3,
    "start_time": "2022-03-27T18:42:12.326Z"
   },
   {
    "duration": 13,
    "start_time": "2022-03-27T18:42:12.332Z"
   },
   {
    "duration": 290,
    "start_time": "2022-03-27T18:42:12.347Z"
   },
   {
    "duration": 6,
    "start_time": "2022-03-27T18:42:12.639Z"
   },
   {
    "duration": 19,
    "start_time": "2022-03-27T18:42:12.647Z"
   },
   {
    "duration": 16,
    "start_time": "2022-03-27T18:47:38.648Z"
   }
  ],
  "celltoolbar": "Необработанный формат ячейки",
  "kernelspec": {
   "display_name": "Python 3 (ipykernel)",
   "language": "python",
   "name": "python3"
  },
  "language_info": {
   "codemirror_mode": {
    "name": "ipython",
    "version": 3
   },
   "file_extension": ".py",
   "mimetype": "text/x-python",
   "name": "python",
   "nbconvert_exporter": "python",
   "pygments_lexer": "ipython3",
   "version": "3.9.7"
  },
  "toc": {
   "base_numbering": 1,
   "nav_menu": {},
   "number_sections": false,
   "sideBar": true,
   "skip_h1_title": false,
   "title_cell": "Table of Contents",
   "title_sidebar": "Contents",
   "toc_cell": false,
   "toc_position": {},
   "toc_section_display": true,
   "toc_window_display": false
  }
 },
 "nbformat": 4,
 "nbformat_minor": 5
}
